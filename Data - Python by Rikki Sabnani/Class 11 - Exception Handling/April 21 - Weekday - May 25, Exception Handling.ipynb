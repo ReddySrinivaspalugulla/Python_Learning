{
 "cells": [
  {
   "cell_type": "markdown",
   "id": "c2cef45c",
   "metadata": {},
   "source": [
    "### Exception Handling"
   ]
  },
  {
   "cell_type": "code",
   "execution_count": null,
   "id": "e752d040",
   "metadata": {},
   "outputs": [],
   "source": [
    "# There are 3 types of errors we can face in Python. \n",
    "# Compile Time Errors / Syntax errors - If not resolved, source code cannot be converted to Byte code. And no further steps\n",
    "# can happen. So - MUST BE resolved. \n",
    "# Runtime Errors - Errors caught while the program is executing. \n",
    "# Logical Errors - Which computer cannot catch because there IS an output but it may not be what was expected. Only developer\n",
    "# knows what the expected output was and must perform testing to ensure output is as expected. "
   ]
  },
  {
   "cell_type": "code",
   "execution_count": null,
   "id": "5d40eb3a",
   "metadata": {},
   "outputs": [],
   "source": []
  },
  {
   "cell_type": "code",
   "execution_count": null,
   "id": "c24b890f",
   "metadata": {},
   "outputs": [],
   "source": [
    "a = 10\n",
    "c = a+b\n",
    "b = 20\n",
    "\n",
    "print(c)\n",
    "print('Darshana is asking a question')"
   ]
  },
  {
   "cell_type": "code",
   "execution_count": null,
   "id": "2d9e0506",
   "metadata": {},
   "outputs": [],
   "source": [
    "a = 10\n",
    "\n",
    "try:\n",
    "    print('Before hitting the exception')\n",
    "    c = a+b\n",
    "    print('After hitting the exception - program went straight to the except block so this was not printed')\n",
    "    b = 20\n",
    "    print(c)\n",
    "except:\n",
    "    print('Found an error')\n",
    "    b = 20\n",
    "    c = a+b\n",
    "    print(c)\n",
    "    \n",
    "print('Darshana asked a question')"
   ]
  },
  {
   "cell_type": "code",
   "execution_count": null,
   "id": "997b60ce",
   "metadata": {},
   "outputs": [],
   "source": [
    "x = 100\n",
    "\n",
    "try: \n",
    "    z = x+y\n",
    "    print('After hitting the exception'\n",
    "except:\n",
    "    print('Found an error')\n",
    "          \n",
    "print('Outside the try/except block')"
   ]
  },
  {
   "cell_type": "code",
   "execution_count": null,
   "id": "f280e3e2",
   "metadata": {},
   "outputs": [],
   "source": [
    "# What is the difference between if/else and try/except. "
   ]
  },
  {
   "cell_type": "code",
   "execution_count": null,
   "id": "9fd017cb",
   "metadata": {},
   "outputs": [],
   "source": [
    "bonus = list(range(100,600,100))\n",
    "mthlysalary = [7,3,2,0,1]\n",
    "\n",
    "print(bonus)\n",
    "print(mthlysalary)"
   ]
  },
  {
   "cell_type": "code",
   "execution_count": null,
   "id": "2131c6a7",
   "metadata": {},
   "outputs": [],
   "source": [
    "for x in range(len(bonus)):\n",
    "    print(bonus[x]/mthlysalary[x])"
   ]
  },
  {
   "cell_type": "code",
   "execution_count": null,
   "id": "c47df6f0",
   "metadata": {},
   "outputs": [],
   "source": [
    "try:\n",
    "    for x in range(len(bonus)):\n",
    "        print(bonus[x]/mthlysalary[x])\n",
    "except:\n",
    "    print('Error caught here - going to except block')\n",
    "    for y in range(len(mthlysalary)):\n",
    "        if mthlysalary[y] == 0:\n",
    "            mthlysalary[y] = 1\n",
    "    for x in range(len(bonus)):\n",
    "        print(bonus[x]/mthlysalary[x])"
   ]
  },
  {
   "cell_type": "code",
   "execution_count": null,
   "id": "c2b5fe36",
   "metadata": {},
   "outputs": [],
   "source": [
    "# input function. \n",
    "\n",
    "inputval = input()\n",
    "\n"
   ]
  },
  {
   "cell_type": "code",
   "execution_count": null,
   "id": "4fcf12b3",
   "metadata": {},
   "outputs": [],
   "source": [
    "print(inputval)"
   ]
  },
  {
   "cell_type": "code",
   "execution_count": null,
   "id": "24d7567f",
   "metadata": {},
   "outputs": [],
   "source": [
    "# Input function takes on optional parameter - A prompt - must be string to tell user what to input or whatever instructions\n",
    "\n",
    "inputval = input('Please input an integer')"
   ]
  },
  {
   "cell_type": "code",
   "execution_count": null,
   "id": "6e361317",
   "metadata": {},
   "outputs": [],
   "source": [
    "print(inputval)"
   ]
  },
  {
   "cell_type": "code",
   "execution_count": null,
   "id": "9840748c",
   "metadata": {},
   "outputs": [],
   "source": [
    "print(type(inputval))"
   ]
  },
  {
   "cell_type": "code",
   "execution_count": null,
   "id": "cc76b50a",
   "metadata": {},
   "outputs": [],
   "source": [
    "inputval = input('Please input an integer')\n",
    "\n",
    "print(inputval)\n",
    "print(type(inputval))"
   ]
  },
  {
   "cell_type": "code",
   "execution_count": null,
   "id": "b2109e03",
   "metadata": {},
   "outputs": [],
   "source": [
    "inputval = input('Please input a list')\n",
    "\n",
    "print(inputval)\n",
    "\n",
    "lst1 = list(inputval)\n",
    "\n",
    "print(lst1)\n",
    "print(type(lst1))"
   ]
  },
  {
   "cell_type": "code",
   "execution_count": null,
   "id": "fed041fe",
   "metadata": {},
   "outputs": [],
   "source": [
    "inputval = input('Please input a list')\n",
    "\n",
    "print(inputval)\n",
    "\n",
    "lst1 = list(inputval)\n",
    "\n",
    "print(lst1)\n",
    "print(type(lst1))\n"
   ]
  },
  {
   "cell_type": "code",
   "execution_count": null,
   "id": "409b92e4",
   "metadata": {},
   "outputs": [],
   "source": [
    "inputval = input('Please input a list')\n",
    "\n",
    "print(inputval)\n",
    "\n",
    "lst1 = list(inputval)\n",
    "\n",
    "print(lst1)\n",
    "print(type(lst1))\n"
   ]
  },
  {
   "cell_type": "code",
   "execution_count": null,
   "id": "8fb32084",
   "metadata": {},
   "outputs": [],
   "source": [
    "# eval function\n",
    "\n",
    "new_eval = eval('10+20')\n",
    "\n",
    "print(new_eval)"
   ]
  },
  {
   "cell_type": "code",
   "execution_count": null,
   "id": "2af64f01",
   "metadata": {},
   "outputs": [],
   "source": [
    "new_eval = eval(\"100 if 10 <20 else 200\")\n",
    "\n",
    "print(new_eval)\n",
    "print(type(new_eval))"
   ]
  },
  {
   "cell_type": "code",
   "execution_count": null,
   "id": "bac15de3",
   "metadata": {},
   "outputs": [],
   "source": [
    "new_eval = eval('[1,2,3,4]')\n",
    "\n",
    "print(new_eval)\n",
    "print(type(new_eval))"
   ]
  },
  {
   "cell_type": "code",
   "execution_count": null,
   "id": "5594b42a",
   "metadata": {},
   "outputs": [],
   "source": [
    "x = [1,2,3,4]\n",
    "\n",
    "print(x)\n",
    "print(type(x))"
   ]
  },
  {
   "cell_type": "code",
   "execution_count": null,
   "id": "4f0e3ea0",
   "metadata": {},
   "outputs": [],
   "source": [
    "inputval = eval(input('Please enter a list : '), globalscope, localscope)"
   ]
  },
  {
   "cell_type": "code",
   "execution_count": null,
   "id": "a938124b",
   "metadata": {},
   "outputs": [],
   "source": [
    "print(inputval)"
   ]
  },
  {
   "cell_type": "code",
   "execution_count": null,
   "id": "0a3582b8",
   "metadata": {},
   "outputs": [],
   "source": [
    "x = 10\n",
    "\n",
    "for x in range(5):\n",
    "    print(x)\n",
    "    \n",
    "print('Value of x after loops is ', x)"
   ]
  },
  {
   "cell_type": "code",
   "execution_count": null,
   "id": "19a4df2a",
   "metadata": {},
   "outputs": [],
   "source": []
  },
  {
   "cell_type": "code",
   "execution_count": null,
   "id": "acffc26e",
   "metadata": {},
   "outputs": [],
   "source": [
    "try:\n",
    "    tempvar = eval(input('Please type an expression here '))\n",
    "    print(tempvar)\n",
    "    print(100/2)\n",
    "    str1 = 'Yamini'\n",
    "    print(str1[6])\n",
    "except SyntaxError:\n",
    "    print('Your expression has a syntax error')\n",
    "except ZeroDivisionError:\n",
    "    print('Cant divide by Zero')\n",
    "except:\n",
    "    print('I dont know what exception was raised but I am the default exception block')\n",
    "    \n",
    "    "
   ]
  },
  {
   "cell_type": "code",
   "execution_count": null,
   "id": "21a6cd8f",
   "metadata": {},
   "outputs": [],
   "source": [
    "try:\n",
    "    tempvar = eval(input('Please type an expression here '))\n",
    "    print(tempvar)\n",
    "    print(100/2)\n",
    "    str1 = 'Yamini'\n",
    "    print(str1[6])\n",
    "except (SyntaxError, ZeroDivisionError):\n",
    "    print('Either SyntaxError or ZeroDivisionError - So you have to dance')\n",
    "except:\n",
    "    print('I dont know what exception was raised but I am the default exception block')\n"
   ]
  },
  {
   "cell_type": "code",
   "execution_count": null,
   "id": "535b25ad",
   "metadata": {},
   "outputs": [],
   "source": [
    "str1 = 'Lovish.mehta'\n",
    "print(len(str1))\n",
    "\n",
    "try:\n",
    "    print(str1[11])\n",
    "finally:\n",
    "    print('Hi Lovish')"
   ]
  },
  {
   "cell_type": "code",
   "execution_count": null,
   "id": "af836310",
   "metadata": {},
   "outputs": [],
   "source": [
    "for x in range(len(str1)):\n",
    "    print(str1[x+1], sep = '!')"
   ]
  },
  {
   "cell_type": "code",
   "execution_count": null,
   "id": "e9f177c7",
   "metadata": {},
   "outputs": [],
   "source": [
    "try:\n",
    "    for x in range(len(str1)):\n",
    "        print(str1[x+1], end = '!')\n",
    "except:\n",
    "    print('\\nI faced an error')\n",
    "else:\n",
    "    print('\\nI completed the try block successfully')"
   ]
  },
  {
   "cell_type": "code",
   "execution_count": null,
   "id": "0d50d872",
   "metadata": {},
   "outputs": [],
   "source": [
    "# else block runs - if try block runs successfully and no exception raised.\n",
    "# finally block runs - irrespective of if an error was raised or not. "
   ]
  },
  {
   "cell_type": "code",
   "execution_count": null,
   "id": "995aad1e",
   "metadata": {},
   "outputs": [],
   "source": []
  },
  {
   "cell_type": "code",
   "execution_count": null,
   "id": "ed804c9a",
   "metadata": {},
   "outputs": [],
   "source": []
  },
  {
   "cell_type": "code",
   "execution_count": null,
   "id": "397d6ba2",
   "metadata": {},
   "outputs": [],
   "source": []
  },
  {
   "cell_type": "code",
   "execution_count": null,
   "id": "e694b824",
   "metadata": {},
   "outputs": [],
   "source": []
  },
  {
   "cell_type": "code",
   "execution_count": null,
   "id": "ae17ab05",
   "metadata": {},
   "outputs": [],
   "source": []
  },
  {
   "cell_type": "code",
   "execution_count": null,
   "id": "8913efaa",
   "metadata": {},
   "outputs": [],
   "source": []
  },
  {
   "cell_type": "code",
   "execution_count": null,
   "id": "5e2e08b0",
   "metadata": {},
   "outputs": [],
   "source": []
  },
  {
   "cell_type": "code",
   "execution_count": null,
   "id": "aa97120d",
   "metadata": {},
   "outputs": [],
   "source": []
  },
  {
   "cell_type": "code",
   "execution_count": null,
   "id": "aad30415",
   "metadata": {},
   "outputs": [],
   "source": []
  },
  {
   "cell_type": "code",
   "execution_count": null,
   "id": "84a909e2",
   "metadata": {},
   "outputs": [],
   "source": []
  },
  {
   "cell_type": "code",
   "execution_count": null,
   "id": "87554567",
   "metadata": {},
   "outputs": [],
   "source": []
  },
  {
   "cell_type": "code",
   "execution_count": null,
   "id": "09026152",
   "metadata": {},
   "outputs": [],
   "source": [
    "bonus = list(range(100,600,100))\n",
    "mthlysalary = [7,3,2,0,1]\n",
    "\n",
    "print(bonus)\n",
    "print(mthlysalary)\n"
   ]
  },
  {
   "cell_type": "code",
   "execution_count": null,
   "id": "517b215a",
   "metadata": {},
   "outputs": [],
   "source": [
    "for x in range(len(bonus)):\n",
    "    print(bonus[x]/mthlysalary[x])\n"
   ]
  },
  {
   "cell_type": "code",
   "execution_count": null,
   "id": "9d3a4e88",
   "metadata": {},
   "outputs": [],
   "source": [
    "try:\n",
    "    for x in range(len(bonus)):\n",
    "        print(bonus[x]/mthlysalary[x])       \n",
    "except:\n",
    "    print('error caught here - going to except block')\n",
    "    for y in range(len(mthlysalary)):\n",
    "        if mthlysalary[y] == 0:\n",
    "            mthlysalary[y] = 1\n",
    "    for x in range(len(bonus)):\n",
    "        print(bonus[x]/mthlysalary[x])\n"
   ]
  },
  {
   "cell_type": "markdown",
   "id": "f6f87065",
   "metadata": {},
   "source": [
    "#### Raise Keyword"
   ]
  },
  {
   "cell_type": "code",
   "execution_count": null,
   "id": "af5cdb6e",
   "metadata": {},
   "outputs": [],
   "source": [
    "# Raise keyword raises an exception\n",
    "\n",
    "a= 10\n",
    "b = 20\n",
    "\n",
    "try:\n",
    "    c = a+b\n",
    "    print(c[1])\n",
    "except:\n",
    "    # line of code to handle the exception\n",
    "    print('Exception was raised')\n",
    "    raise IndexError"
   ]
  },
  {
   "cell_type": "markdown",
   "id": "c5362f27",
   "metadata": {},
   "source": [
    "#### User-Defined Exceptions"
   ]
  },
  {
   "cell_type": "markdown",
   "id": "2338eb1a",
   "metadata": {},
   "source": [
    "class ANY():\n",
    "\n",
    "- functions\n",
    "- attributes\n",
    "- properties"
   ]
  },
  {
   "cell_type": "markdown",
   "id": "7d3d27f9",
   "metadata": {},
   "source": [
    "class YourOwnClass():\n",
    "- function\n",
    "- attributes\n",
    "- properties"
   ]
  },
  {
   "cell_type": "markdown",
   "id": "046a2c76",
   "metadata": {},
   "source": [
    "class Parent():\n",
    "    \n",
    "- functions, attributes\n",
    "- properties\n",
    "\n",
    "\n",
    "class child(Parent):\n",
    "    - Parent class functions and attributes\n",
    "    - properties of Parent class\n",
    "    - Change some of the functions, attributes or properties inherited from the parent class\n",
    "    \n",
    "class grandchild(child):.... and so on.\n",
    "    \n",
    "    "
   ]
  },
  {
   "cell_type": "markdown",
   "id": "8cafab86",
   "metadata": {},
   "source": [
    "newclass1 = <object1>\n",
    "newclass2 = <object2>"
   ]
  },
  {
   "cell_type": "markdown",
   "id": "4c00f0f6",
   "metadata": {},
   "source": [
    "class newclass():\n",
    "    def __init__(self, arg1, arg2, arg3):\n",
    "        self.arg1 = arg1\n",
    "        self.arg2 = arg2\n",
    "        self.arg3 = arg3\n",
    "    # Other functions and attributes"
   ]
  },
  {
   "cell_type": "code",
   "execution_count": null,
   "id": "369e952f",
   "metadata": {},
   "outputs": [],
   "source": [
    "class MyException(Exception):\n",
    "    def __init__(self,msg):\n",
    "        self.msg = msg\n",
    "        print(self.msg)"
   ]
  },
  {
   "cell_type": "markdown",
   "id": "2d482a8c",
   "metadata": {},
   "source": [
    "#### Logging exceptions"
   ]
  },
  {
   "cell_type": "code",
   "execution_count": 1,
   "id": "be746f5f",
   "metadata": {},
   "outputs": [],
   "source": [
    "import logging\n",
    "logging.basicConfig(filename=r'mylog.txt', level = 40)"
   ]
  },
  {
   "cell_type": "code",
   "execution_count": null,
   "id": "1c7fe6ff",
   "metadata": {},
   "outputs": [],
   "source": [
    "# Error Levels\n",
    "\n",
    "# Critical - Critical Level exceptions are only logged. Also can use 50. \n",
    "# Error - Error Level Exceptions and higher are logged. Also can use 40\n",
    "# Warning - Warning level exceptions and higher are logged. Also can use 30\n",
    "# Info - Info level exceptions and higher are logged. Errors which are informational. Also can use 20\n",
    "# DEBUG - Debug level, log all the errors at this level and higher. Also can use 10. \n",
    "# NOTSET - Error level not set - also can use 0\n"
   ]
  },
  {
   "cell_type": "code",
   "execution_count": 2,
   "id": "1b9cd0ff",
   "metadata": {},
   "outputs": [],
   "source": [
    "logging.critical('Critical level error logged by Rikki')\n",
    "logging.error('Error - program stop level error logged by Rikki')\n",
    "logging.warning('Warning level error logged by Rikki')\n",
    "logging.info('Info level error logged by Rikki')\n",
    "logging.debug('Debug level error logged by Rikki')"
   ]
  },
  {
   "cell_type": "code",
   "execution_count": 4,
   "id": "b1fd7de7",
   "metadata": {},
   "outputs": [
    {
     "name": "stdout",
     "output_type": "stream",
     "text": [
      "Exception was raised\n"
     ]
    }
   ],
   "source": [
    "try:\n",
    "    print(c)\n",
    "except:\n",
    "    print('Exception was raised')\n",
    "    logging.error('Trial to check if logging happening correctly')"
   ]
  },
  {
   "cell_type": "code",
   "execution_count": 6,
   "id": "720d5f7e",
   "metadata": {},
   "outputs": [
    {
     "name": "stdout",
     "output_type": "stream",
     "text": [
      "1.0\n",
      "2.0\n",
      "Function to handle error\n",
      "5.0\n"
     ]
    }
   ],
   "source": [
    "for x in [2,4,None,10]:\n",
    "    try:\n",
    "        print(x/2)\n",
    "    except:\n",
    "        print('Function to handle error')\n",
    "        logging.exception(f'An error was created because value was {x}')"
   ]
  },
  {
   "cell_type": "code",
   "execution_count": null,
   "id": "40d34c64",
   "metadata": {},
   "outputs": [],
   "source": []
  }
 ],
 "metadata": {
  "kernelspec": {
   "display_name": "Python 3 (ipykernel)",
   "language": "python",
   "name": "python3"
  },
  "language_info": {
   "codemirror_mode": {
    "name": "ipython",
    "version": 3
   },
   "file_extension": ".py",
   "mimetype": "text/x-python",
   "name": "python",
   "nbconvert_exporter": "python",
   "pygments_lexer": "ipython3",
   "version": "3.9.13"
  }
 },
 "nbformat": 4,
 "nbformat_minor": 5
}
