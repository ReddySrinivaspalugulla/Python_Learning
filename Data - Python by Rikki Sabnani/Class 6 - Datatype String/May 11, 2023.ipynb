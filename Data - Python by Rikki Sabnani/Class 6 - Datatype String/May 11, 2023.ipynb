{
 "cells": [
  {
   "cell_type": "code",
   "execution_count": null,
   "id": "0be0fa47",
   "metadata": {},
   "outputs": [],
   "source": [
    "# Encoding\n",
    "\n",
    "# ASCII - 128 characters Ascii\n",
    "# cp1252 - Windows systems use this kind of encoding. Almost same as Ascii except they use different mapping system.\n",
    "# Unicode\n",
    "# UTF8 - 114,000 characters\n",
    "# UTF16 - 65,000 characters but can be extended to about 135,000\n",
    "# UTF32 - 90,000 characters"
   ]
  },
  {
   "cell_type": "code",
   "execution_count": null,
   "id": "4c22c268",
   "metadata": {},
   "outputs": [],
   "source": [
    "# Properties of strings\n",
    "\n",
    "# 1. Fundamental datatype (but have certain properties of derived datatypes i.e. multicharacter string is made up of many\n",
    "# string characters). \n",
    "# 2. Immutable\n",
    "# 3. Iterable\n",
    "# 4. Support indexing and slicing but not item or slice assignment. "
   ]
  },
  {
   "cell_type": "code",
   "execution_count": null,
   "id": "225edf10",
   "metadata": {},
   "outputs": [],
   "source": [
    "# Initialising strings\n",
    "\n",
    "# Single, double or triple quotes\n",
    "# str function"
   ]
  },
  {
   "cell_type": "code",
   "execution_count": 1,
   "id": "a3e1d8c9",
   "metadata": {},
   "outputs": [
    {
     "name": "stdout",
     "output_type": "stream",
     "text": [
      "<class 'str'>\n",
      "<class 'str'>\n",
      "<class 'str'>\n"
     ]
    }
   ],
   "source": [
    "str1 = 'Learnbay'\n",
    "str2 = \"Learnbay\"\n",
    "str3 = '''Learnbay'''\n",
    "\n",
    "\n",
    "print(type(str1))\n",
    "print(type(str2))\n",
    "print(type(str3))"
   ]
  },
  {
   "cell_type": "code",
   "execution_count": 4,
   "id": "18345948",
   "metadata": {},
   "outputs": [
    {
     "name": "stdout",
     "output_type": "stream",
     "text": [
      "My father's sister came to visit\n"
     ]
    }
   ],
   "source": [
    "str1 = '''My father's sister came to visit'''\n",
    "\n",
    "print(str1)"
   ]
  },
  {
   "cell_type": "code",
   "execution_count": 14,
   "id": "47e0c602",
   "metadata": {},
   "outputs": [
    {
     "name": "stdout",
     "output_type": "stream",
     "text": [
      "She said \"Lets have lunch outside today\" but I refused\n"
     ]
    }
   ],
   "source": [
    "str2 = \"She said \\\"Lets have lunch outside today\\\" but I refused\"\n",
    "\n",
    "print(str2)"
   ]
  },
  {
   "cell_type": "code",
   "execution_count": 16,
   "id": "c0d32b49",
   "metadata": {},
   "outputs": [
    {
     "name": "stdout",
     "output_type": "stream",
     "text": [
      "\\\\\n"
     ]
    }
   ],
   "source": [
    "print('\\\\\\\\')"
   ]
  },
  {
   "cell_type": "code",
   "execution_count": 6,
   "id": "55116873",
   "metadata": {},
   "outputs": [
    {
     "name": "stdout",
     "output_type": "stream",
     "text": [
      "She said \"Let's have lunch outside today\"\n"
     ]
    }
   ],
   "source": [
    "str3 = '''She said \"Let's have lunch outside today\"'''\n",
    "\n",
    "print(str3)"
   ]
  },
  {
   "cell_type": "code",
   "execution_count": 10,
   "id": "edd866a4",
   "metadata": {},
   "outputs": [
    {
     "name": "stdout",
     "output_type": "stream",
     "text": [
      "kjcklagkalgjalkjhklajjgkjkl                                                    ljaglkajhgjlkajgdgkladjgkl         \n",
      "kjlagkjgkljggj\n"
     ]
    }
   ],
   "source": [
    "str1 = '''kjcklagkalgjalkjhklajjgkjkl                                                    ljaglkajhgjlkajgdgkladjgkl         \n",
    "kjlagkjgkljggj'''\n",
    "\n",
    "print(str1)"
   ]
  },
  {
   "cell_type": "code",
   "execution_count": 17,
   "id": "64884fcb",
   "metadata": {},
   "outputs": [
    {
     "name": "stdout",
     "output_type": "stream",
     "text": [
      "<class 'str'>\n"
     ]
    }
   ],
   "source": [
    "# Initialising strings using string function\n",
    "\n",
    "x = str(10)\n",
    "\n",
    "print(type(x))"
   ]
  },
  {
   "cell_type": "code",
   "execution_count": 19,
   "id": "25e20458",
   "metadata": {},
   "outputs": [
    {
     "name": "stdout",
     "output_type": "stream",
     "text": [
      "<class 'str'>\n"
     ]
    }
   ],
   "source": [
    "x = str(10.2)\n",
    "\n",
    "print(type(x))"
   ]
  },
  {
   "cell_type": "code",
   "execution_count": 20,
   "id": "3e4880f3",
   "metadata": {},
   "outputs": [
    {
     "name": "stdout",
     "output_type": "stream",
     "text": [
      "1, 0, ., 2, "
     ]
    }
   ],
   "source": [
    "for char in x:\n",
    "    print(char, end = ', ')"
   ]
  },
  {
   "cell_type": "code",
   "execution_count": 39,
   "id": "1d60a9b4",
   "metadata": {},
   "outputs": [
    {
     "name": "stdout",
     "output_type": "stream",
     "text": [
      "[1, 2, 3, 4]\n"
     ]
    }
   ],
   "source": [
    "y = [1,2,3,4]\n",
    "\n",
    "print(y)"
   ]
  },
  {
   "cell_type": "code",
   "execution_count": 38,
   "id": "62c59ed4",
   "metadata": {},
   "outputs": [
    {
     "name": "stdout",
     "output_type": "stream",
     "text": [
      "[1,2,3,4]\n"
     ]
    }
   ],
   "source": [
    "str1 = \"[1,2,3,4]\"\n",
    "\n",
    "print(str1)"
   ]
  },
  {
   "cell_type": "code",
   "execution_count": 26,
   "id": "e5fc2c26",
   "metadata": {},
   "outputs": [
    {
     "name": "stdout",
     "output_type": "stream",
     "text": [
      "<class 'str'>\n",
      "[1, 2, 3, 4]\n"
     ]
    }
   ],
   "source": [
    "x = str([1,2,3,4])\n",
    "\n",
    "print(type(x))\n",
    "print(x)"
   ]
  },
  {
   "cell_type": "code",
   "execution_count": 35,
   "id": "4b5e3cd1",
   "metadata": {},
   "outputs": [
    {
     "name": "stdout",
     "output_type": "stream",
     "text": [
      "F\n",
      "a\n",
      "l\n",
      "s\n",
      "e\n"
     ]
    }
   ],
   "source": [
    "for char in x:\n",
    "    print(char, end = '\\n')"
   ]
  },
  {
   "cell_type": "code",
   "execution_count": 42,
   "id": "0683ea4b",
   "metadata": {},
   "outputs": [
    {
     "name": "stdout",
     "output_type": "stream",
     "text": [
      "<class 'str'>\n",
      "False\n",
      "False"
     ]
    }
   ],
   "source": [
    "x = str(False)\n",
    "\n",
    "print(type(x))\n",
    "print(x)\n",
    "for char in x:\n",
    "    print(char, end = '')"
   ]
  },
  {
   "cell_type": "code",
   "execution_count": 44,
   "id": "d9058c90",
   "metadata": {},
   "outputs": [
    {
     "name": "stdout",
     "output_type": "stream",
     "text": [
      "r\n"
     ]
    }
   ],
   "source": [
    "print('r', sep = '*')"
   ]
  },
  {
   "cell_type": "code",
   "execution_count": 47,
   "id": "7c279f15",
   "metadata": {},
   "outputs": [
    {
     "name": "stdout",
     "output_type": "stream",
     "text": [
      "[10, 20]\n"
     ]
    }
   ],
   "source": [
    "x = str([10,20])\n",
    "\n",
    "print(x)"
   ]
  },
  {
   "cell_type": "code",
   "execution_count": 48,
   "id": "bbb327e4",
   "metadata": {},
   "outputs": [
    {
     "name": "stdout",
     "output_type": "stream",
     "text": [
      "s\n"
     ]
    }
   ],
   "source": [
    "str1 = 'she sells sea shells on the sea shore'\n",
    "\n",
    "print(str1[0])"
   ]
  },
  {
   "cell_type": "code",
   "execution_count": 50,
   "id": "a52eb1e6",
   "metadata": {},
   "outputs": [
    {
     "name": "stdout",
     "output_type": "stream",
     "text": [
      "sesls\n"
     ]
    }
   ],
   "source": [
    "print(str1[:10:2])"
   ]
  },
  {
   "cell_type": "code",
   "execution_count": 52,
   "id": "382d1048",
   "metadata": {},
   "outputs": [
    {
     "name": "stdout",
     "output_type": "stream",
     "text": [
      "eosasetn lesasslses\n"
     ]
    }
   ],
   "source": [
    "print(str1[::-2])"
   ]
  },
  {
   "cell_type": "code",
   "execution_count": 54,
   "id": "2e7d378b",
   "metadata": {},
   "outputs": [
    {
     "name": "stdout",
     "output_type": "stream",
     "text": [
      "s\n"
     ]
    }
   ],
   "source": [
    "print(str1[-9])"
   ]
  },
  {
   "cell_type": "code",
   "execution_count": 55,
   "id": "21031e2f",
   "metadata": {},
   "outputs": [
    {
     "ename": "TypeError",
     "evalue": "'str' object does not support item assignment",
     "output_type": "error",
     "traceback": [
      "\u001b[1;31m---------------------------------------------------------------------------\u001b[0m",
      "\u001b[1;31mTypeError\u001b[0m                                 Traceback (most recent call last)",
      "\u001b[1;32m~\\AppData\\Local\\Temp\\ipykernel_6196\\3695829959.py\u001b[0m in \u001b[0;36m<module>\u001b[1;34m\u001b[0m\n\u001b[1;32m----> 1\u001b[1;33m \u001b[0mstr1\u001b[0m\u001b[1;33m[\u001b[0m\u001b[1;36m0\u001b[0m\u001b[1;33m]\u001b[0m \u001b[1;33m=\u001b[0m \u001b[1;34m'S'\u001b[0m\u001b[1;33m\u001b[0m\u001b[1;33m\u001b[0m\u001b[0m\n\u001b[0m\u001b[0;32m      2\u001b[0m \u001b[1;33m\u001b[0m\u001b[0m\n",
      "\u001b[1;31mTypeError\u001b[0m: 'str' object does not support item assignment"
     ]
    }
   ],
   "source": [
    "str1[0] = 'S'\n",
    "\n"
   ]
  },
  {
   "cell_type": "code",
   "execution_count": 56,
   "id": "45a95226",
   "metadata": {},
   "outputs": [
    {
     "name": "stdout",
     "output_type": "stream",
     "text": [
      "Hello There\n"
     ]
    }
   ],
   "source": [
    "print('Hello' + ' ' + 'There')"
   ]
  },
  {
   "cell_type": "code",
   "execution_count": 57,
   "id": "75cb11d9",
   "metadata": {},
   "outputs": [
    {
     "name": "stdout",
     "output_type": "stream",
     "text": [
      "[1, 2, 3, 4, 10, 20, 30, 40]\n"
     ]
    }
   ],
   "source": [
    "lst1 = [1,2,3,4]\n",
    "lst2 = [10,20,30,40]\n",
    "\n",
    "lst3 = lst1+lst2\n",
    "\n",
    "print(lst3)"
   ]
  },
  {
   "cell_type": "code",
   "execution_count": 58,
   "id": "47d627e5",
   "metadata": {},
   "outputs": [
    {
     "name": "stdout",
     "output_type": "stream",
     "text": [
      "[1, 2, 3, 4, [10, 20, 30, 40]]\n"
     ]
    }
   ],
   "source": [
    "lst1.append(lst2)\n",
    "\n",
    "print(lst1)"
   ]
  },
  {
   "cell_type": "code",
   "execution_count": 59,
   "id": "71e1cc5c",
   "metadata": {},
   "outputs": [
    {
     "name": "stdout",
     "output_type": "stream",
     "text": [
      "ABC\n",
      "['D', 'E', 'F']\n"
     ]
    }
   ],
   "source": [
    "str1 = 'ABC'\n",
    "lst1 = list('DEF')\n",
    "\n",
    "print(str1)\n",
    "print(lst1)"
   ]
  },
  {
   "cell_type": "code",
   "execution_count": 61,
   "id": "90cee7b7",
   "metadata": {},
   "outputs": [
    {
     "ename": "TypeError",
     "evalue": "can only concatenate list (not \"str\") to list",
     "output_type": "error",
     "traceback": [
      "\u001b[1;31m---------------------------------------------------------------------------\u001b[0m",
      "\u001b[1;31mTypeError\u001b[0m                                 Traceback (most recent call last)",
      "\u001b[1;32m~\\AppData\\Local\\Temp\\ipykernel_6196\\1699438119.py\u001b[0m in \u001b[0;36m<module>\u001b[1;34m\u001b[0m\n\u001b[1;32m----> 1\u001b[1;33m \u001b[0mprint\u001b[0m\u001b[1;33m(\u001b[0m\u001b[0mlst1\u001b[0m\u001b[1;33m+\u001b[0m\u001b[0mstr1\u001b[0m\u001b[1;33m)\u001b[0m\u001b[1;33m\u001b[0m\u001b[1;33m\u001b[0m\u001b[0m\n\u001b[0m",
      "\u001b[1;31mTypeError\u001b[0m: can only concatenate list (not \"str\") to list"
     ]
    }
   ],
   "source": [
    "print(lst1+str1)"
   ]
  },
  {
   "cell_type": "code",
   "execution_count": 62,
   "id": "c8f5ae0a",
   "metadata": {},
   "outputs": [
    {
     "name": "stdout",
     "output_type": "stream",
     "text": [
      "('a', 'b', 'c')\n"
     ]
    }
   ],
   "source": [
    "tup1 = tuple('abc')\n",
    "\n",
    "print(tup1)"
   ]
  },
  {
   "cell_type": "code",
   "execution_count": 63,
   "id": "48458282",
   "metadata": {},
   "outputs": [
    {
     "ename": "TypeError",
     "evalue": "can only concatenate tuple (not \"list\") to tuple",
     "output_type": "error",
     "traceback": [
      "\u001b[1;31m---------------------------------------------------------------------------\u001b[0m",
      "\u001b[1;31mTypeError\u001b[0m                                 Traceback (most recent call last)",
      "\u001b[1;32m~\\AppData\\Local\\Temp\\ipykernel_6196\\454975948.py\u001b[0m in \u001b[0;36m<module>\u001b[1;34m\u001b[0m\n\u001b[1;32m----> 1\u001b[1;33m \u001b[0mprint\u001b[0m\u001b[1;33m(\u001b[0m\u001b[0mtup1\u001b[0m \u001b[1;33m+\u001b[0m \u001b[0mlst1\u001b[0m\u001b[1;33m)\u001b[0m\u001b[1;33m\u001b[0m\u001b[1;33m\u001b[0m\u001b[0m\n\u001b[0m",
      "\u001b[1;31mTypeError\u001b[0m: can only concatenate tuple (not \"list\") to tuple"
     ]
    }
   ],
   "source": [
    "print(tup1 + lst1)"
   ]
  },
  {
   "cell_type": "code",
   "execution_count": null,
   "id": "358e8661",
   "metadata": {},
   "outputs": [],
   "source": [
    "# Overloaded operators can only be used between the same datatype. +, *"
   ]
  },
  {
   "cell_type": "code",
   "execution_count": 64,
   "id": "94481989",
   "metadata": {},
   "outputs": [
    {
     "name": "stdout",
     "output_type": "stream",
     "text": [
      "abcabcabcabcabc\n"
     ]
    }
   ],
   "source": [
    "str1 = 'abc'\n",
    "\n",
    "print(str1*5)"
   ]
  },
  {
   "cell_type": "code",
   "execution_count": 65,
   "id": "97106636",
   "metadata": {},
   "outputs": [
    {
     "name": "stdout",
     "output_type": "stream",
     "text": [
      "['A', 'B', 'C']\n"
     ]
    }
   ],
   "source": [
    "lst1 = list('ABC')\n",
    "\n",
    "print(lst1)"
   ]
  },
  {
   "cell_type": "code",
   "execution_count": 66,
   "id": "560d171b",
   "metadata": {},
   "outputs": [
    {
     "name": "stdout",
     "output_type": "stream",
     "text": [
      "['A', 'B', 'C', 'A', 'B', 'C', 'A', 'B', 'C', 'A', 'B', 'C', 'A', 'B', 'C']\n"
     ]
    }
   ],
   "source": [
    "print(lst1*5)"
   ]
  },
  {
   "cell_type": "code",
   "execution_count": 72,
   "id": "671ef2bc",
   "metadata": {},
   "outputs": [
    {
     "name": "stdout",
     "output_type": "stream",
     "text": [
      "False\n"
     ]
    }
   ],
   "source": [
    "chkstr = 'India'\n",
    "inputstr = 'I love India!'\n",
    "\n",
    "print('India' not in inputstr)"
   ]
  },
  {
   "cell_type": "code",
   "execution_count": 74,
   "id": "1845c619",
   "metadata": {},
   "outputs": [
    {
     "name": "stdout",
     "output_type": "stream",
     "text": [
      "True\n"
     ]
    }
   ],
   "source": [
    "print('Python' == 'Python')"
   ]
  },
  {
   "cell_type": "code",
   "execution_count": null,
   "id": "7a85fd61",
   "metadata": {},
   "outputs": [],
   "source": [
    "# ==, !=, >, <, >=, <="
   ]
  },
  {
   "cell_type": "code",
   "execution_count": 87,
   "id": "9e23683d",
   "metadata": {},
   "outputs": [
    {
     "name": "stdout",
     "output_type": "stream",
     "text": [
      "False\n"
     ]
    }
   ],
   "source": [
    "print('Python' <= 'Pythom')"
   ]
  },
  {
   "cell_type": "code",
   "execution_count": 76,
   "id": "31cec275",
   "metadata": {},
   "outputs": [
    {
     "name": "stdout",
     "output_type": "stream",
     "text": [
      "80\n"
     ]
    }
   ],
   "source": [
    "print(ord('P'))"
   ]
  },
  {
   "cell_type": "code",
   "execution_count": 77,
   "id": "dff36f7e",
   "metadata": {},
   "outputs": [
    {
     "name": "stdout",
     "output_type": "stream",
     "text": [
      "81\n"
     ]
    }
   ],
   "source": [
    "print(ord('Q'))"
   ]
  },
  {
   "cell_type": "code",
   "execution_count": 79,
   "id": "944ab3fe",
   "metadata": {},
   "outputs": [
    {
     "name": "stdout",
     "output_type": "stream",
     "text": [
      "79\n"
     ]
    }
   ],
   "source": [
    "print(ord('O'))"
   ]
  },
  {
   "cell_type": "code",
   "execution_count": 81,
   "id": "379a3c6f",
   "metadata": {},
   "outputs": [
    {
     "name": "stdout",
     "output_type": "stream",
     "text": [
      "109\n",
      "110\n"
     ]
    }
   ],
   "source": [
    "print(ord('m'))\n",
    "print(ord('n'))"
   ]
  },
  {
   "cell_type": "code",
   "execution_count": 88,
   "id": "ffd82ed7",
   "metadata": {},
   "outputs": [
    {
     "name": "stdout",
     "output_type": "stream",
     "text": [
      "97\n",
      "106\n"
     ]
    }
   ],
   "source": [
    "print(ord('a'))\n",
    "print(ord('j'))"
   ]
  },
  {
   "cell_type": "code",
   "execution_count": 89,
   "id": "86f265b3",
   "metadata": {},
   "outputs": [
    {
     "name": "stdout",
     "output_type": "stream",
     "text": [
      "98\n",
      "105\n"
     ]
    }
   ],
   "source": [
    "print(ord('b'))\n",
    "print(ord('i'))"
   ]
  },
  {
   "cell_type": "code",
   "execution_count": 94,
   "id": "d7492064",
   "metadata": {},
   "outputs": [
    {
     "name": "stdout",
     "output_type": "stream",
     "text": [
      "True\n"
     ]
    }
   ],
   "source": [
    "print('jab' > 'baj')"
   ]
  },
  {
   "cell_type": "code",
   "execution_count": null,
   "id": "5e4f692c",
   "metadata": {},
   "outputs": [],
   "source": [
    "# 'Python'\n",
    "# 'Qythom'"
   ]
  },
  {
   "cell_type": "code",
   "execution_count": 100,
   "id": "7adc887e",
   "metadata": {},
   "outputs": [
    {
     "name": "stdout",
     "output_type": "stream",
     "text": [
      "True\n"
     ]
    }
   ],
   "source": [
    "print('Python' > 'Pytho')"
   ]
  },
  {
   "cell_type": "markdown",
   "id": "515f7339",
   "metadata": {},
   "source": [
    "## String methods"
   ]
  },
  {
   "cell_type": "code",
   "execution_count": null,
   "id": "ad6def1e",
   "metadata": {},
   "outputs": [],
   "source": [
    "# split\n",
    "# join\n",
    "# upper\n",
    "# "
   ]
  },
  {
   "cell_type": "code",
   "execution_count": 101,
   "id": "185e0f76",
   "metadata": {},
   "outputs": [
    {
     "name": "stdout",
     "output_type": "stream",
     "text": [
      "['Hi', 'there!', 'My', 'name', 'is', 'Rikki']\n",
      "<class 'list'>\n"
     ]
    }
   ],
   "source": [
    "str1 = 'Hi there! My name is Rikki'\n",
    "\n",
    "lst1 = str1.split()\n",
    "\n",
    "print(lst1)\n",
    "print(type(lst1))"
   ]
  },
  {
   "cell_type": "code",
   "execution_count": 105,
   "id": "a26bd9fd",
   "metadata": {},
   "outputs": [
    {
     "name": "stdout",
     "output_type": "stream",
     "text": [
      "['Hi th', 'r', '! My name is Rikki']\n"
     ]
    }
   ],
   "source": [
    "lst2 = str1.split('e', maxsplit = 2)\n",
    "\n",
    "print(lst2)"
   ]
  },
  {
   "cell_type": "code",
   "execution_count": 103,
   "id": "d2704aab",
   "metadata": {},
   "outputs": [
    {
     "name": "stdout",
     "output_type": "stream",
     "text": [
      "['__add__', '__class__', '__contains__', '__delattr__', '__dir__', '__doc__', '__eq__', '__format__', '__ge__', '__getattribute__', '__getitem__', '__getnewargs__', '__gt__', '__hash__', '__init__', '__init_subclass__', '__iter__', '__le__', '__len__', '__lt__', '__mod__', '__mul__', '__ne__', '__new__', '__reduce__', '__reduce_ex__', '__repr__', '__rmod__', '__rmul__', '__setattr__', '__sizeof__', '__str__', '__subclasshook__', 'capitalize', 'casefold', 'center', 'count', 'encode', 'endswith', 'expandtabs', 'find', 'format', 'format_map', 'index', 'isalnum', 'isalpha', 'isascii', 'isdecimal', 'isdigit', 'isidentifier', 'islower', 'isnumeric', 'isprintable', 'isspace', 'istitle', 'isupper', 'join', 'ljust', 'lower', 'lstrip', 'maketrans', 'partition', 'removeprefix', 'removesuffix', 'replace', 'rfind', 'rindex', 'rjust', 'rpartition', 'rsplit', 'rstrip', 'split', 'splitlines', 'startswith', 'strip', 'swapcase', 'title', 'translate', 'upper', 'zfill']\n"
     ]
    }
   ],
   "source": [
    "print(dir(str))"
   ]
  },
  {
   "cell_type": "code",
   "execution_count": 107,
   "id": "77a72c0d",
   "metadata": {},
   "outputs": [
    {
     "name": "stdout",
     "output_type": "stream",
     "text": [
      "Hi there! My name is Rikki\n"
     ]
    }
   ],
   "source": [
    "# join\n",
    "\n",
    "str2 = 'e'.join(lst2)\n",
    "print(str2)"
   ]
  },
  {
   "cell_type": "code",
   "execution_count": 109,
   "id": "c6dc0c15",
   "metadata": {},
   "outputs": [
    {
     "name": "stdout",
     "output_type": "stream",
     "text": [
      "Hi there! My name is Rikki\n"
     ]
    }
   ],
   "source": [
    "str4 = ''\n",
    "for x in lst2:\n",
    "    str4 += x+'e'\n",
    "    \n",
    "print(str4[:-1])"
   ]
  },
  {
   "cell_type": "code",
   "execution_count": 129,
   "id": "5b5fdb08",
   "metadata": {},
   "outputs": [
    {
     "name": "stdout",
     "output_type": "stream",
     "text": [
      "Python\n",
      "xxxxxyxxxxyyyyxyPythonxyyyyxyyyxy\n",
      "****Python\n",
      "Python   "
     ]
    }
   ],
   "source": [
    "# strip method\n",
    "\n",
    "str1 = 'Python'\n",
    "str2 = 'xxxxxyxxxxyyyyxyPythonxyyyyxyyyxy'\n",
    "str3 = '****Python'\n",
    "str4 = 'Python   '\n",
    "\n",
    "print(str1, str2, str3, str4, sep = '\\n', end = '')"
   ]
  },
  {
   "cell_type": "code",
   "execution_count": 116,
   "id": "dbd8db06",
   "metadata": {},
   "outputs": [
    {
     "name": "stdout",
     "output_type": "stream",
     "text": [
      "Python\n"
     ]
    }
   ],
   "source": [
    "print(str1.strip())"
   ]
  },
  {
   "cell_type": "code",
   "execution_count": 130,
   "id": "197e616e",
   "metadata": {},
   "outputs": [
    {
     "name": "stdout",
     "output_type": "stream",
     "text": [
      "Python\n"
     ]
    }
   ],
   "source": [
    "print(str2.strip('xy'))"
   ]
  },
  {
   "cell_type": "code",
   "execution_count": 123,
   "id": "fe80c577",
   "metadata": {},
   "outputs": [
    {
     "name": "stdout",
     "output_type": "stream",
     "text": [
      "Python\n"
     ]
    }
   ],
   "source": [
    "print(str3.strip('*'))"
   ]
  },
  {
   "cell_type": "code",
   "execution_count": 124,
   "id": "c21f5324",
   "metadata": {},
   "outputs": [
    {
     "name": "stdout",
     "output_type": "stream",
     "text": [
      "Python   \n"
     ]
    }
   ],
   "source": [
    "print(str4.strip('*'))"
   ]
  },
  {
   "cell_type": "code",
   "execution_count": 115,
   "id": "4db269b6",
   "metadata": {},
   "outputs": [
    {
     "name": "stdout",
     "output_type": "stream",
     "text": [
      "P y t h o n\n"
     ]
    }
   ],
   "source": [
    "str5 = '     P y t h o n    '\n",
    "\n",
    "print(str5.strip())"
   ]
  },
  {
   "cell_type": "code",
   "execution_count": 131,
   "id": "006a3a71",
   "metadata": {},
   "outputs": [
    {
     "name": "stdout",
     "output_type": "stream",
     "text": [
      "xxxxxyxxxxyyyyxyPythonxyyyyxyyyxy\n"
     ]
    }
   ],
   "source": [
    "print(str2)"
   ]
  },
  {
   "cell_type": "code",
   "execution_count": 132,
   "id": "cfd7240d",
   "metadata": {},
   "outputs": [
    {
     "name": "stdout",
     "output_type": "stream",
     "text": [
      "xxxxxyxxxxyyyyxyPython\n"
     ]
    }
   ],
   "source": [
    "print(str2.rstrip('xy'))"
   ]
  },
  {
   "cell_type": "code",
   "execution_count": 133,
   "id": "d6347960",
   "metadata": {},
   "outputs": [
    {
     "name": "stdout",
     "output_type": "stream",
     "text": [
      "Pythonxyyyyxyyyxy\n"
     ]
    }
   ],
   "source": [
    "print(str2.lstrip('xy'))"
   ]
  },
  {
   "cell_type": "code",
   "execution_count": 134,
   "id": "b4959369",
   "metadata": {},
   "outputs": [
    {
     "name": "stdout",
     "output_type": "stream",
     "text": [
      "    Python\n"
     ]
    }
   ],
   "source": [
    "str6 = '    Python    '\n",
    "\n",
    "print(str6.rstrip())"
   ]
  },
  {
   "cell_type": "code",
   "execution_count": 135,
   "id": "69031c4d",
   "metadata": {},
   "outputs": [
    {
     "name": "stdout",
     "output_type": "stream",
     "text": [
      "Python    \n"
     ]
    }
   ],
   "source": [
    "print(str6.lstrip())"
   ]
  },
  {
   "cell_type": "code",
   "execution_count": 136,
   "id": "27697df2",
   "metadata": {},
   "outputs": [
    {
     "name": "stdout",
     "output_type": "stream",
     "text": [
      "Python\n"
     ]
    }
   ],
   "source": [
    "str7 = '     Python     '\n",
    "\n",
    "\n",
    "print(str7.rstrip().lstrip())"
   ]
  },
  {
   "cell_type": "code",
   "execution_count": 140,
   "id": "6c45c7d0",
   "metadata": {},
   "outputs": [
    {
     "name": "stdout",
     "output_type": "stream",
     "text": [
      "* *python* *\n"
     ]
    }
   ],
   "source": [
    "str2=' * *python* * '\n",
    "print(str2.strip())"
   ]
  },
  {
   "cell_type": "code",
   "execution_count": 8,
   "id": "cf88fa6c",
   "metadata": {},
   "outputs": [
    {
     "name": "stdout",
     "output_type": "stream",
     "text": [
      "6\n",
      "44\n"
     ]
    }
   ],
   "source": [
    "# Find method\n",
    "\n",
    "# Find method finds the FIRST OCCURENCE ONLY from LEFT to RIGHT of the substring provided. \n",
    "\n",
    "str1 = 'Betty bought some butter but the butter was bitter'\n",
    "tofind = 'b'\n",
    "\n",
    "print(str1.find(tofind))\n",
    "print(str1.rfind(tofind))"
   ]
  },
  {
   "cell_type": "code",
   "execution_count": 13,
   "id": "e12bdb00",
   "metadata": {},
   "outputs": [
    {
     "name": "stdout",
     "output_type": "stream",
     "text": [
      "bitter\n"
     ]
    }
   ],
   "source": [
    "print(str1[44:])"
   ]
  },
  {
   "cell_type": "code",
   "execution_count": 15,
   "id": "bce1f520",
   "metadata": {},
   "outputs": [
    {
     "name": "stdout",
     "output_type": "stream",
     "text": [
      "bought\n"
     ]
    }
   ],
   "source": [
    "print(str1[6:12])"
   ]
  },
  {
   "cell_type": "code",
   "execution_count": 18,
   "id": "201142cb",
   "metadata": {},
   "outputs": [
    {
     "name": "stdout",
     "output_type": "stream",
     "text": [
      "-1\n"
     ]
    }
   ],
   "source": [
    "print(str1.find(tofind,7,12))"
   ]
  },
  {
   "cell_type": "code",
   "execution_count": 20,
   "id": "df170cff",
   "metadata": {},
   "outputs": [
    {
     "name": "stdout",
     "output_type": "stream",
     "text": [
      "18\n"
     ]
    }
   ],
   "source": [
    "print(str1.find('but'))"
   ]
  },
  {
   "cell_type": "code",
   "execution_count": 30,
   "id": "3ae08852",
   "metadata": {},
   "outputs": [
    {
     "name": "stdout",
     "output_type": "stream",
     "text": [
      "20\n"
     ]
    }
   ],
   "source": [
    "print(str1.find('but')+len('but'))"
   ]
  },
  {
   "cell_type": "code",
   "execution_count": 33,
   "id": "67a67d8a",
   "metadata": {},
   "outputs": [
    {
     "name": "stdout",
     "output_type": "stream",
     "text": [
      "but\n"
     ]
    }
   ],
   "source": [
    "print(str1[18:18+len('but')])"
   ]
  },
  {
   "cell_type": "code",
   "execution_count": 32,
   "id": "bc0aba0d",
   "metadata": {},
   "outputs": [
    {
     "name": "stdout",
     "output_type": "stream",
     "text": [
      "but\n"
     ]
    }
   ],
   "source": [
    "print(str1[18:21])"
   ]
  },
  {
   "cell_type": "code",
   "execution_count": 25,
   "id": "ddc87603",
   "metadata": {},
   "outputs": [
    {
     "name": "stdout",
     "output_type": "stream",
     "text": [
      "Betty bought some butter but the butter was bitter\n"
     ]
    }
   ],
   "source": [
    "print(str1)"
   ]
  },
  {
   "cell_type": "code",
   "execution_count": 27,
   "id": "236b3c8b",
   "metadata": {},
   "outputs": [
    {
     "name": "stdout",
     "output_type": "stream",
     "text": [
      "-1\n"
     ]
    }
   ],
   "source": [
    "print(str1.find('bught'))"
   ]
  },
  {
   "cell_type": "code",
   "execution_count": 3,
   "id": "39a9862e",
   "metadata": {},
   "outputs": [
    {
     "name": "stdout",
     "output_type": "stream",
     "text": [
      "6\n",
      "18\n",
      "25\n",
      "33\n",
      "44\n"
     ]
    }
   ],
   "source": [
    "# Find all the occurrences of 'b' in given string. \n",
    "\n",
    "str1 = 'Betty bought some butter but the butter was bitter'\n",
    "\n",
    "# You will have to use the start finding from parameter of the find method. And you will need a for or while loop.\n",
    "\n",
    "idx = 0\n",
    "\n",
    "for x in range(len(str1)):\n",
    "    if str1[x] == 'b':\n",
    "        print(x)\n",
    "\n",
    "\n"
   ]
  },
  {
   "cell_type": "code",
   "execution_count": 4,
   "id": "098c62cc",
   "metadata": {},
   "outputs": [
    {
     "name": "stdout",
     "output_type": "stream",
     "text": [
      "6\n",
      "18\n",
      "25\n",
      "33\n",
      "44\n",
      "-1\n"
     ]
    }
   ],
   "source": [
    "idx = 0\n",
    "temp = 0\n",
    "\n",
    "while temp != -1:\n",
    "    x = str1.find('b', idx)\n",
    "    print(x)\n",
    "    temp = x\n",
    "    idx = x + 1\n",
    "    "
   ]
  },
  {
   "cell_type": "code",
   "execution_count": 9,
   "id": "02551b82",
   "metadata": {},
   "outputs": [
    {
     "name": "stdout",
     "output_type": "stream",
     "text": [
      "6\n",
      "18\n",
      "25\n",
      "33\n",
      "44\n"
     ]
    }
   ],
   "source": [
    "idx = 0\n",
    "\n",
    "while True:\n",
    "    x = str1.find('b', idx)\n",
    "    if x == -1:\n",
    "        break\n",
    "    else:\n",
    "        print(x)\n",
    "    idx = x + 1"
   ]
  },
  {
   "cell_type": "code",
   "execution_count": 13,
   "id": "e5435ff2",
   "metadata": {},
   "outputs": [
    {
     "name": "stdout",
     "output_type": "stream",
     "text": [
      "18\n"
     ]
    }
   ],
   "source": [
    "# Index method. Returns the first occurrence of the substring to be found. \n",
    "\n",
    "str1 = 'Betty bought some butter but the butter was bitter'\n",
    "\n",
    "print(str1.index('b',7,43))"
   ]
  },
  {
   "cell_type": "code",
   "execution_count": 16,
   "id": "1fdda995",
   "metadata": {},
   "outputs": [
    {
     "name": "stdout",
     "output_type": "stream",
     "text": [
      "-1\n",
      "Hello\n"
     ]
    }
   ],
   "source": [
    "# The difference between find and index is: \n",
    "\n",
    "print(str1.find('x'))\n",
    "print('Hello')"
   ]
  },
  {
   "cell_type": "code",
   "execution_count": 17,
   "id": "69552d5c",
   "metadata": {},
   "outputs": [
    {
     "ename": "ValueError",
     "evalue": "substring not found",
     "output_type": "error",
     "traceback": [
      "\u001b[1;31m---------------------------------------------------------------------------\u001b[0m",
      "\u001b[1;31mValueError\u001b[0m                                Traceback (most recent call last)",
      "\u001b[1;32m~\\AppData\\Local\\Temp\\ipykernel_14284\\56605222.py\u001b[0m in \u001b[0;36m<module>\u001b[1;34m\u001b[0m\n\u001b[1;32m----> 1\u001b[1;33m \u001b[0mprint\u001b[0m\u001b[1;33m(\u001b[0m\u001b[0mstr1\u001b[0m\u001b[1;33m.\u001b[0m\u001b[0mindex\u001b[0m\u001b[1;33m(\u001b[0m\u001b[1;34m'x'\u001b[0m\u001b[1;33m)\u001b[0m\u001b[1;33m)\u001b[0m\u001b[1;33m\u001b[0m\u001b[1;33m\u001b[0m\u001b[0m\n\u001b[0m\u001b[0;32m      2\u001b[0m \u001b[1;33m\u001b[0m\u001b[0m\n\u001b[0;32m      3\u001b[0m \u001b[0mprint\u001b[0m\u001b[1;33m(\u001b[0m\u001b[1;34m'Hello'\u001b[0m\u001b[1;33m)\u001b[0m\u001b[1;33m\u001b[0m\u001b[1;33m\u001b[0m\u001b[0m\n",
      "\u001b[1;31mValueError\u001b[0m: substring not found"
     ]
    }
   ],
   "source": [
    "print(str1.index('b'))\n",
    "\n",
    "print('Hello')"
   ]
  },
  {
   "cell_type": "code",
   "execution_count": 18,
   "id": "89b75d13",
   "metadata": {},
   "outputs": [
    {
     "name": "stdout",
     "output_type": "stream",
     "text": [
      "Betty bought some butter but the butter was bitter\n"
     ]
    }
   ],
   "source": [
    "print(str1)"
   ]
  },
  {
   "cell_type": "code",
   "execution_count": 30,
   "id": "7459b8e1",
   "metadata": {},
   "outputs": [
    {
     "name": "stdout",
     "output_type": "stream",
     "text": [
      "2\n"
     ]
    }
   ],
   "source": [
    "print(str1.count('but',0,28))"
   ]
  },
  {
   "cell_type": "code",
   "execution_count": 22,
   "id": "456466bb",
   "metadata": {},
   "outputs": [
    {
     "data": {
      "text/plain": [
       "'me bu'"
      ]
     },
     "execution_count": 22,
     "metadata": {},
     "output_type": "execute_result"
    }
   ],
   "source": [
    "str1[15:20]"
   ]
  },
  {
   "cell_type": "code",
   "execution_count": 28,
   "id": "7ff23d01",
   "metadata": {},
   "outputs": [
    {
     "name": "stdout",
     "output_type": "stream",
     "text": [
      "butter but\n"
     ]
    }
   ],
   "source": [
    "print(str1[18:28])"
   ]
  },
  {
   "cell_type": "code",
   "execution_count": 38,
   "id": "bccac00c",
   "metadata": {},
   "outputs": [],
   "source": [
    "# Replace method\n",
    "\n",
    "str1 = 'Rikki Rikki Rikki'\n",
    "str2 = str1.replace('ik', 'xyz', 4)"
   ]
  },
  {
   "cell_type": "code",
   "execution_count": 39,
   "id": "544203b1",
   "metadata": {},
   "outputs": [
    {
     "name": "stdout",
     "output_type": "stream",
     "text": [
      "Rxyzki Rxyzki Rxyzki\n"
     ]
    }
   ],
   "source": [
    "print(str2)"
   ]
  },
  {
   "cell_type": "markdown",
   "id": "69d1f007",
   "metadata": {},
   "source": [
    "#### Case changing methods"
   ]
  },
  {
   "cell_type": "code",
   "execution_count": 40,
   "id": "d241bac5",
   "metadata": {},
   "outputs": [
    {
     "name": "stdout",
     "output_type": "stream",
     "text": [
      "BETTY BOUGHT SOME BUTTER\n"
     ]
    }
   ],
   "source": [
    "# upper\n",
    "\n",
    "str1 = 'Betty bought some butter'\n",
    "\n",
    "print(str1.upper())"
   ]
  },
  {
   "cell_type": "code",
   "execution_count": 41,
   "id": "55242c0b",
   "metadata": {},
   "outputs": [
    {
     "name": "stdout",
     "output_type": "stream",
     "text": [
      "betty bought some butter\n"
     ]
    }
   ],
   "source": [
    "print(str1.lower())"
   ]
  },
  {
   "cell_type": "code",
   "execution_count": 42,
   "id": "68da9a2c",
   "metadata": {},
   "outputs": [
    {
     "name": "stdout",
     "output_type": "stream",
     "text": [
      "Β\n"
     ]
    }
   ],
   "source": [
    "x = '\\u0392'\n",
    "\n",
    "print(x)"
   ]
  },
  {
   "cell_type": "code",
   "execution_count": 43,
   "id": "4b004054",
   "metadata": {},
   "outputs": [
    {
     "name": "stdout",
     "output_type": "stream",
     "text": [
      "False\n"
     ]
    }
   ],
   "source": [
    "print(x == 'B')"
   ]
  },
  {
   "cell_type": "code",
   "execution_count": 44,
   "id": "4daf82b3",
   "metadata": {},
   "outputs": [
    {
     "name": "stdout",
     "output_type": "stream",
     "text": [
      "β\n"
     ]
    }
   ],
   "source": [
    "y = '\\u03B2'\n",
    "\n",
    "print(y)"
   ]
  },
  {
   "cell_type": "code",
   "execution_count": 47,
   "id": "46df4848",
   "metadata": {},
   "outputs": [
    {
     "name": "stdout",
     "output_type": "stream",
     "text": [
      "β\n",
      "β\n"
     ]
    }
   ],
   "source": [
    "print(x.lower())\n",
    "print(x.casefold())"
   ]
  },
  {
   "cell_type": "code",
   "execution_count": 46,
   "id": "d1ae621f",
   "metadata": {},
   "outputs": [
    {
     "name": "stdout",
     "output_type": "stream",
     "text": [
      "Β\n"
     ]
    }
   ],
   "source": [
    "print(y.upper())"
   ]
  },
  {
   "cell_type": "code",
   "execution_count": 48,
   "id": "69b67add",
   "metadata": {},
   "outputs": [
    {
     "name": "stdout",
     "output_type": "stream",
     "text": [
      "ß\n",
      "ss\n"
     ]
    }
   ],
   "source": [
    "# casefold\n",
    "\n",
    "x = \"\\u1E9E\"\n",
    "\n",
    "print(x.lower())\n",
    "print(x.casefold())"
   ]
  },
  {
   "cell_type": "code",
   "execution_count": 52,
   "id": "dab3402a",
   "metadata": {},
   "outputs": [
    {
     "name": "stdout",
     "output_type": "stream",
     "text": [
      "Betty bought some butter but the butter was bitter.rikki also bought some butter\n"
     ]
    }
   ],
   "source": [
    "# capitalize method\n",
    "\n",
    "str1 = 'betty bought some butter but the butter was bitter.rikki also bought some butter'\n",
    "\n",
    "print(str1.capitalize())"
   ]
  },
  {
   "cell_type": "code",
   "execution_count": 53,
   "id": "ebe41673",
   "metadata": {},
   "outputs": [
    {
     "name": "stdout",
     "output_type": "stream",
     "text": [
      "Betty Bought Some Butter But The Butter Was Bitter.Rikki Also Bought Some Butter\n"
     ]
    }
   ],
   "source": [
    "# Title method\n",
    "\n",
    "print(str1.title())"
   ]
  },
  {
   "cell_type": "code",
   "execution_count": 54,
   "id": "8a7c1ce0",
   "metadata": {},
   "outputs": [
    {
     "name": "stdout",
     "output_type": "stream",
     "text": [
      "BettY BoUGHt SomE bUTTER\n"
     ]
    }
   ],
   "source": [
    "# Swapcase\n",
    "\n",
    "str1 = 'bETTy bOughT sOMe Butter'\n",
    "\n",
    "print(str1.swapcase())"
   ]
  },
  {
   "cell_type": "code",
   "execution_count": 65,
   "id": "cda8c200",
   "metadata": {},
   "outputs": [
    {
     "name": "stdout",
     "output_type": "stream",
     "text": [
      "True\n"
     ]
    }
   ],
   "source": [
    "# startswith and endswith\n",
    "\n",
    "str1 = 'Betty bought some butter.'\n",
    "\n",
    "print(str1.startswith('b', 6))"
   ]
  },
  {
   "cell_type": "code",
   "execution_count": 63,
   "id": "dea6eec0",
   "metadata": {},
   "outputs": [
    {
     "name": "stdout",
     "output_type": "stream",
     "text": [
      "b\n"
     ]
    }
   ],
   "source": [
    "print(str1[6])"
   ]
  },
  {
   "cell_type": "code",
   "execution_count": 69,
   "id": "1da6e49f",
   "metadata": {},
   "outputs": [
    {
     "name": "stdout",
     "output_type": "stream",
     "text": [
      "True\n"
     ]
    }
   ],
   "source": [
    "print(str1.endswith('t', 0,12))"
   ]
  },
  {
   "cell_type": "code",
   "execution_count": 68,
   "id": "a1f95473",
   "metadata": {},
   "outputs": [
    {
     "name": "stdout",
     "output_type": "stream",
     "text": [
      "Betty bought\n"
     ]
    }
   ],
   "source": [
    "print(str1[0:12])"
   ]
  },
  {
   "cell_type": "code",
   "execution_count": 89,
   "id": "8be54a13",
   "metadata": {},
   "outputs": [
    {
     "name": "stdout",
     "output_type": "stream",
     "text": [
      "******LovishM*******\n",
      "20\n"
     ]
    }
   ],
   "source": [
    "str1 = 'LovishM'\n",
    "\n",
    "str2 = str1.center(20,'*')\n",
    "\n",
    "print(str2)\n",
    "print(len(str2))"
   ]
  },
  {
   "cell_type": "code",
   "execution_count": 79,
   "id": "529e5558",
   "metadata": {},
   "outputs": [
    {
     "data": {
      "text/plain": [
       "'      '"
      ]
     },
     "execution_count": 79,
     "metadata": {},
     "output_type": "execute_result"
    }
   ],
   "source": [
    "str2[0:6]"
   ]
  },
  {
   "cell_type": "code",
   "execution_count": 80,
   "id": "d754087e",
   "metadata": {},
   "outputs": [
    {
     "data": {
      "text/plain": [
       "'      '"
      ]
     },
     "execution_count": 80,
     "metadata": {},
     "output_type": "execute_result"
    }
   ],
   "source": [
    "str2[14:]"
   ]
  },
  {
   "cell_type": "code",
   "execution_count": 91,
   "id": "0a2533bb",
   "metadata": {},
   "outputs": [
    {
     "name": "stdout",
     "output_type": "stream",
     "text": [
      "LovishM***\n"
     ]
    }
   ],
   "source": [
    "str1 = 'LovishM'\n",
    "\n",
    "print(str1.ljust(10,'*'))"
   ]
  },
  {
   "cell_type": "code",
   "execution_count": 92,
   "id": "bd682349",
   "metadata": {},
   "outputs": [
    {
     "name": "stdout",
     "output_type": "stream",
     "text": [
      "***LovishM\n"
     ]
    }
   ],
   "source": [
    "print(str1.rjust(10,'*'))"
   ]
  },
  {
   "cell_type": "code",
   "execution_count": 106,
   "id": "d04b212e",
   "metadata": {},
   "outputs": [
    {
     "name": "stdout",
     "output_type": "stream",
     "text": [
      "['Jack and J', 'll went up the h', 'll to fetch a pa', 'l of water']\n"
     ]
    }
   ],
   "source": [
    "str1 = 'Jack and Jill went up the hill to fetch a pail of water'\n",
    "\n",
    "lst1 = str1.split('i')\n",
    "\n",
    "print(str2)"
   ]
  },
  {
   "cell_type": "code",
   "execution_count": 110,
   "id": "5d9e7e6e",
   "metadata": {},
   "outputs": [
    {
     "name": "stdout",
     "output_type": "stream",
     "text": [
      "('Jack and Jill went up the hill to fetch a pa', 'i', 'l of water')\n"
     ]
    }
   ],
   "source": [
    "lst2 = str1.rpartition('i')\n",
    "\n",
    "print(lst2)"
   ]
  },
  {
   "cell_type": "code",
   "execution_count": 109,
   "id": "671aa13e",
   "metadata": {},
   "outputs": [
    {
     "data": {
      "text/plain": [
       "'ll went up the hill to fetch a pail of water'"
      ]
     },
     "execution_count": 109,
     "metadata": {},
     "output_type": "execute_result"
    }
   ],
   "source": [
    "lst2[-1]"
   ]
  },
  {
   "cell_type": "code",
   "execution_count": 102,
   "id": "3b5d3ec0",
   "metadata": {},
   "outputs": [],
   "source": [
    "# Difference between split and partition.\n",
    "\n",
    "# 1. Split will split based on all occurrences of separator. The results could be infinite in number. \n",
    "# Partition will only split on first occurrence of separator and will only return 3 elements, before separator, separator\n",
    "# itself and after separator.\n",
    "\n",
    "# 2. For split default separator is space. For partition we MUST give the separator as an argument.\n",
    "\n",
    "# 3. Split takes an optional parameter i.e. max count of splits. No such option required or available in partition.\n",
    "\n",
    "# 4. Split returns a list while partition returns a tuple. \n",
    "\n",
    "# 5. Split does not include the separator in its output. Partition does as one of the elements. \n"
   ]
  },
  {
   "cell_type": "code",
   "execution_count": 114,
   "id": "0ff31308",
   "metadata": {},
   "outputs": [
    {
     "name": "stdout",
     "output_type": "stream",
     "text": [
      "\n"
     ]
    }
   ],
   "source": [
    "a='python'\n",
    "b=''\n",
    "print(a and b)\n"
   ]
  },
  {
   "cell_type": "code",
   "execution_count": 113,
   "id": "0cc29a90",
   "metadata": {},
   "outputs": [
    {
     "name": "stdout",
     "output_type": "stream",
     "text": [
      "0\n"
     ]
    }
   ],
   "source": [
    "# and operator - value on left if left is false else value on right\n",
    "\n",
    "a = 100\n",
    "b = 0\n",
    "\n",
    "print(a and b)"
   ]
  },
  {
   "cell_type": "code",
   "execution_count": null,
   "id": "e8acae99",
   "metadata": {},
   "outputs": [],
   "source": [
    "# Strings \n",
    "\n",
    "# Properties\n",
    "\n",
    "# 1. Fundamental\n",
    "# 2. Immutable\n",
    "# 3. Iterable\n",
    "# 4. Subscriptable - but does not support assignment\n"
   ]
  },
  {
   "cell_type": "code",
   "execution_count": null,
   "id": "f581f165",
   "metadata": {},
   "outputs": [],
   "source": [
    "# String methods\n",
    "\n",
    "# strip, join, split, partition, rpartition, find, rfind, index, rindex, replace, center, ljust, rjust, count, startswith,\n",
    "# endswith\n",
    "\n",
    "# Case changing methods\n",
    "\n",
    "# upper, lower, capitalize, title, swapcase, casefold\n"
   ]
  },
  {
   "cell_type": "code",
   "execution_count": null,
   "id": "1f95eae4",
   "metadata": {},
   "outputs": [],
   "source": [
    "# Splitlines method"
   ]
  },
  {
   "cell_type": "code",
   "execution_count": null,
   "id": "e7fb0e98",
   "metadata": {},
   "outputs": [],
   "source": [
    "# \\n\n",
    "# \\r\n",
    "# \\r\\n"
   ]
  },
  {
   "cell_type": "code",
   "execution_count": 12,
   "id": "7228a796",
   "metadata": {},
   "outputs": [
    {
     "name": "stdout",
     "output_type": "stream",
     "text": [
      "Horses are majestic animals\r",
      "Zebra\n"
     ]
    }
   ],
   "source": [
    "str1 = 'Horses are majestic animals\\rZebra'\n",
    "\n",
    "print(str1)"
   ]
  },
  {
   "cell_type": "code",
   "execution_count": 14,
   "id": "29856e0b",
   "metadata": {},
   "outputs": [
    {
     "name": "stdout",
     "output_type": "stream",
     "text": [
      "Jack and Jill \r",
      " went up the hill \n",
      " to fetch a pail of water \r\n",
      " Jack fell down and broke his crown \n",
      " and Jill came tumbling after\n"
     ]
    }
   ],
   "source": [
    "str1 = 'Jack and Jill \\r went up the hill \\n to fetch a pail of water \\r\\n Jack fell down and broke his crown \\\n",
    "\\n and Jill came tumbling after'\n",
    "\n",
    "print(str1)"
   ]
  },
  {
   "cell_type": "code",
   "execution_count": 15,
   "id": "22d7a664",
   "metadata": {},
   "outputs": [
    {
     "name": "stdout",
     "output_type": "stream",
     "text": [
      "['Jack and Jill ', ' went up the hill ', ' to fetch a pail of water ', ' Jack fell down and broke his crown ', ' and Jill came tumbling after']\n"
     ]
    }
   ],
   "source": [
    "lst1 = str1.splitlines()\n",
    "\n",
    "print(lst1)"
   ]
  },
  {
   "cell_type": "code",
   "execution_count": 20,
   "id": "b2869616",
   "metadata": {},
   "outputs": [
    {
     "name": "stdout",
     "output_type": "stream",
     "text": [
      "Jack and Jill  went up the hill  to fetch a pail of water  Jack fell down and broke his crown  and Jill came tumbling after\n"
     ]
    }
   ],
   "source": [
    "strx = ''.join(lst1)\n",
    "print(strx)"
   ]
  },
  {
   "cell_type": "code",
   "execution_count": 16,
   "id": "d81110da",
   "metadata": {},
   "outputs": [
    {
     "name": "stdout",
     "output_type": "stream",
     "text": [
      "['Jack and Jill \\r', ' went up the hill \\n', ' to fetch a pail of water \\r\\n', ' Jack fell down and broke his crown \\n', ' and Jill came tumbling after']\n"
     ]
    }
   ],
   "source": [
    "lst2 = str1.splitlines(keepends = True)\n",
    "\n",
    "print(lst2)"
   ]
  },
  {
   "cell_type": "code",
   "execution_count": 22,
   "id": "394106a5",
   "metadata": {},
   "outputs": [
    {
     "name": "stdout",
     "output_type": "stream",
     "text": [
      "['Jack and Jill \\r', 'went up the mountain \\n', ' to fetch a pail of water \\r\\n', ' Jack fell down and broke his crown \\n', ' and Jill came tumbling after']\n",
      "Jack and Jill \r",
      "went up the mountain \n",
      " to fetch a pail of water \r\n",
      " Jack fell down and broke his crown \n",
      " and Jill came tumbling after\n"
     ]
    }
   ],
   "source": [
    "lst2[1] = 'went up the mountain \\n'\n",
    "\n",
    "print(lst2)\n",
    "\n",
    "\n",
    "\n",
    "str2 = ''.join(lst2)\n",
    "\n",
    "print(str2)"
   ]
  },
  {
   "cell_type": "code",
   "execution_count": 28,
   "id": "ada47b9e",
   "metadata": {},
   "outputs": [
    {
     "name": "stdout",
     "output_type": "stream",
     "text": [
      "-0001010\n",
      "+0011100\n"
     ]
    }
   ],
   "source": [
    "# zfill method\n",
    "\n",
    "x = '-1010'\n",
    "\n",
    "y = '+11100'\n",
    "\n",
    "x8bit = x.zfill(8)\n",
    "y8bit = y.zfill(8)\n",
    "\n",
    "print(x8bit)\n",
    "print(y8bit)\n",
    "\n"
   ]
  },
  {
   "cell_type": "code",
   "execution_count": 24,
   "id": "d62f5222",
   "metadata": {},
   "outputs": [
    {
     "name": "stdout",
     "output_type": "stream",
     "text": [
      "00000000Learnbay\n"
     ]
    }
   ],
   "source": [
    "str1 = 'Learnbay'\n",
    "\n",
    "print(str1.zfill(16))"
   ]
  },
  {
   "cell_type": "markdown",
   "id": "574db26f",
   "metadata": {},
   "source": [
    "### String testing methods"
   ]
  },
  {
   "cell_type": "code",
   "execution_count": 29,
   "id": "b4950107",
   "metadata": {},
   "outputs": [
    {
     "name": "stdout",
     "output_type": "stream",
     "text": [
      "True\n"
     ]
    }
   ],
   "source": [
    "# isalpha\n",
    "\n",
    "str1 = 'Learnbay'\n",
    "\n",
    "print(str1.isalpha())"
   ]
  },
  {
   "cell_type": "code",
   "execution_count": null,
   "id": "24f46d66",
   "metadata": {},
   "outputs": [],
   "source": []
  }
 ],
 "metadata": {
  "kernelspec": {
   "display_name": "Python 3 (ipykernel)",
   "language": "python",
   "name": "python3"
  },
  "language_info": {
   "codemirror_mode": {
    "name": "ipython",
    "version": 3
   },
   "file_extension": ".py",
   "mimetype": "text/x-python",
   "name": "python",
   "nbconvert_exporter": "python",
   "pygments_lexer": "ipython3",
   "version": "3.9.13"
  }
 },
 "nbformat": 4,
 "nbformat_minor": 5
}
