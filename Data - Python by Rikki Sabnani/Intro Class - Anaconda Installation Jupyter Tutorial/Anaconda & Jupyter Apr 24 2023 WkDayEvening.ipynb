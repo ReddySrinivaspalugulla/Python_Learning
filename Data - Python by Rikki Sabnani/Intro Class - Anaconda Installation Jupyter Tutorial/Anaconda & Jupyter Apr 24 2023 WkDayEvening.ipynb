{
 "cells": [
  {
   "cell_type": "code",
   "execution_count": null,
   "id": "e8b2e1b1",
   "metadata": {},
   "outputs": [],
   "source": [
    "# Tools that we need for this course\n",
    "\n",
    "\n",
    "# link for installation : https://docs.anaconda.com/free/anaconda/install/windows/\n",
    "\n",
    "# Anaconda distribution\n",
    "\n",
    "#1. Integrated Development Environment (IDE) - Jupyter Notebook, Thonny, Spyder, Pycharm, VSCode, Google Colab etc\n",
    "\n",
    "- Regular type - Thonny, spyder, VSCode, Pycharm etc\n",
    "- Notebook type - Jupyter Notebook, Google Colab\n",
    "\n",
    "#2. Core Python (Python Engine - Executable file)\n",
    "\n",
    "#3. 100+ pre-installed libraries (from 350,000+ available in Python) which are useful in the datascience domain\n",
    "\n",
    "#4. Conda package manager - helps to manage all the libraries installed and their version dependencies.\n",
    "\n",
    "\n",
    "\n"
   ]
  },
  {
   "cell_type": "code",
   "execution_count": 1,
   "id": "ea55f77e",
   "metadata": {},
   "outputs": [
    {
     "name": "stdout",
     "output_type": "stream",
     "text": [
      "hello\n"
     ]
    }
   ],
   "source": [
    "print('hello')"
   ]
  },
  {
   "cell_type": "code",
   "execution_count": 2,
   "id": "8ae96eff",
   "metadata": {},
   "outputs": [
    {
     "name": "stdout",
     "output_type": "stream",
     "text": [
      "30\n"
     ]
    }
   ],
   "source": [
    "a = 10\n",
    "b = 20\n",
    "\n",
    "print(a+b)"
   ]
  },
  {
   "cell_type": "code",
   "execution_count": 3,
   "id": "a56fd999",
   "metadata": {},
   "outputs": [
    {
     "name": "stdout",
     "output_type": "stream",
     "text": [
      "10\n"
     ]
    }
   ],
   "source": [
    "c = 10\n",
    "d = 20\n",
    "\n",
    "print(d-c)"
   ]
  },
  {
   "cell_type": "code",
   "execution_count": null,
   "id": "1e1196b5",
   "metadata": {},
   "outputs": [],
   "source": [
    "# What are libraries ?\n",
    "\n",
    "\n",
    "# Any code that is written by a developer and made available to other developers for use by using the import keyword.\n",
    "\n",
    "\n",
    "# Rikki wrote a code - areas.py\n",
    "# Calculating the area of different shapes\n",
    "# area of a circle\n",
    "\n",
    "\n",
    "# Calculate the volume of a cylindrical tank\n",
    "\n",
    "import areas\n",
    "\n",
    "# area of the bottom x height\n",
    "\n",
    "#areaofacircle(r) x height \n"
   ]
  },
  {
   "cell_type": "code",
   "execution_count": null,
   "id": "e35c0abc",
   "metadata": {},
   "outputs": [],
   "source": [
    "# Numpy - Numerical Python\n",
    "# Pandas - Panel Data\n",
    "# re - RegEx\n",
    "# Matplotlib - Visualisation Library\n",
    "# Seaborn - Another Visualisation Library"
   ]
  },
  {
   "cell_type": "code",
   "execution_count": null,
   "id": "e6a76d07",
   "metadata": {},
   "outputs": [],
   "source": [
    "# RikkiS Library\n",
    "\n",
    "# Imported shrutilibrary1 - Updated\n",
    "# Imported library2 - updated"
   ]
  },
  {
   "cell_type": "code",
   "execution_count": null,
   "id": "c9f2dc38",
   "metadata": {},
   "outputs": [],
   "source": [
    "# Script / Source Code / Library / Module"
   ]
  },
  {
   "cell_type": "code",
   "execution_count": null,
   "id": "6bdd4859",
   "metadata": {},
   "outputs": [],
   "source": [
    "# Package - is usually a collection of libraries. Package - 1 library"
   ]
  },
  {
   "cell_type": "code",
   "execution_count": null,
   "id": "d41819ed",
   "metadata": {},
   "outputs": [],
   "source": []
  }
 ],
 "metadata": {
  "kernelspec": {
   "display_name": "Python 3 (ipykernel)",
   "language": "python",
   "name": "python3"
  },
  "language_info": {
   "codemirror_mode": {
    "name": "ipython",
    "version": 3
   },
   "file_extension": ".py",
   "mimetype": "text/x-python",
   "name": "python",
   "nbconvert_exporter": "python",
   "pygments_lexer": "ipython3",
   "version": "3.9.13"
  }
 },
 "nbformat": 4,
 "nbformat_minor": 5
}
