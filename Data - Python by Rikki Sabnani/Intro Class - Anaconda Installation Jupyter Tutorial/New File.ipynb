{
 "cells": [
  {
   "cell_type": "code",
   "execution_count": null,
   "id": "6616ccc6",
   "metadata": {},
   "outputs": [],
   "source": []
  },
  {
   "cell_type": "code",
   "execution_count": 1,
   "id": "87a5f144",
   "metadata": {},
   "outputs": [
    {
     "name": "stdout",
     "output_type": "stream",
     "text": [
      "Hello\n"
     ]
    }
   ],
   "source": [
    "print('Hello')\n",
    "\n",
    "a =10\n",
    "a1 = 100\n",
    "b = 20\n",
    "\n",
    "c = 30\n",
    "\n",
    "\n",
    "\n",
    "#....etc\n",
    "\n",
    "#lkjagjag\n",
    "\n",
    "#kjagkJG"
   ]
  },
  {
   "cell_type": "code",
   "execution_count": null,
   "id": "13d73137",
   "metadata": {},
   "outputs": [],
   "source": [
    "a1 = 100"
   ]
  },
  {
   "cell_type": "markdown",
   "id": "34ac2fd2",
   "metadata": {},
   "source": [
    "# The following code is going to add a + b\n",
    "\n",
    "# April 24th WkDay Evening Batch Jupyter Tutorial"
   ]
  },
  {
   "cell_type": "code",
   "execution_count": 3,
   "id": "29784d43",
   "metadata": {},
   "outputs": [
    {
     "ename": "SyntaxError",
     "evalue": "invalid syntax (3433784800.py, line 1)",
     "output_type": "error",
     "traceback": [
      "\u001b[1;36m  File \u001b[1;32m\"C:\\Users\\Lenovo\\AppData\\Local\\Temp\\ipykernel_13888\\3433784800.py\"\u001b[1;36m, line \u001b[1;32m1\u001b[0m\n\u001b[1;33m    April 24th WkDay Evening Batch\u001b[0m\n\u001b[1;37m          ^\u001b[0m\n\u001b[1;31mSyntaxError\u001b[0m\u001b[1;31m:\u001b[0m invalid syntax\n"
     ]
    }
   ],
   "source": [
    "April 24th WkDay Evening Batch"
   ]
  },
  {
   "cell_type": "code",
   "execution_count": 4,
   "id": "61b80653",
   "metadata": {},
   "outputs": [
    {
     "name": "stdout",
     "output_type": "stream",
     "text": [
      "30\n"
     ]
    }
   ],
   "source": [
    "# Comments help to identify what a certain section of code is doing. \n",
    "\n",
    "a = 10\n",
    "b = 20\n",
    "\n",
    "c = a + b\n",
    "\n",
    "print(c)"
   ]
  },
  {
   "cell_type": "markdown",
   "id": "838a528c",
   "metadata": {},
   "source": [
    "# April 24th\n"
   ]
  },
  {
   "cell_type": "markdown",
   "id": "46f38563",
   "metadata": {},
   "source": [
    "## April 24th"
   ]
  },
  {
   "cell_type": "markdown",
   "id": "0de66a9b",
   "metadata": {},
   "source": [
    "### April 24th"
   ]
  },
  {
   "cell_type": "markdown",
   "id": "05b4f880",
   "metadata": {},
   "source": [
    "#### April 24th"
   ]
  },
  {
   "cell_type": "markdown",
   "id": "2557eab4",
   "metadata": {},
   "source": [
    "##### April 24th"
   ]
  },
  {
   "cell_type": "code",
   "execution_count": null,
   "id": "b5c685f2",
   "metadata": {},
   "outputs": [],
   "source": []
  }
 ],
 "metadata": {
  "kernelspec": {
   "display_name": "Python 3 (ipykernel)",
   "language": "python",
   "name": "python3"
  },
  "language_info": {
   "codemirror_mode": {
    "name": "ipython",
    "version": 3
   },
   "file_extension": ".py",
   "mimetype": "text/x-python",
   "name": "python",
   "nbconvert_exporter": "python",
   "pygments_lexer": "ipython3",
   "version": "3.9.13"
  }
 },
 "nbformat": 4,
 "nbformat_minor": 5
}
