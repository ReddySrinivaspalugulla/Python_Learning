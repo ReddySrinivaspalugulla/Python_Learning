{
 "cells": [
  {
   "cell_type": "markdown",
   "id": "ee19369e",
   "metadata": {},
   "source": [
    "# Operators in Python"
   ]
  },
  {
   "cell_type": "code",
   "execution_count": null,
   "id": "3fd10f81",
   "metadata": {},
   "outputs": [],
   "source": []
  },
  {
   "cell_type": "code",
   "execution_count": null,
   "id": "747b9ab3",
   "metadata": {},
   "outputs": [],
   "source": [
    "#Operators in Python are symbols that perform operations. They perform operations on values or variables. The values or\n",
    "# variables are called operands. For e.g. - \n",
    "\n",
    "# 10 + 20\n",
    "\n",
    "#Here - 10 & 20 are the operands. + is the operator (an arithmetic operator).\n",
    "\n",
    "# a <= b\n",
    "\n",
    "#Here - a & b are the operands. <= is the operator(a comparison operator) "
   ]
  },
  {
   "cell_type": "code",
   "execution_count": null,
   "id": "36b56ed1",
   "metadata": {},
   "outputs": [],
   "source": [
    "# Binary operat"
   ]
  },
  {
   "cell_type": "code",
   "execution_count": null,
   "id": "857a9a78",
   "metadata": {},
   "outputs": [],
   "source": [
    "-10"
   ]
  },
  {
   "cell_type": "code",
   "execution_count": null,
   "id": "4639770d",
   "metadata": {},
   "outputs": [],
   "source": [
    "20-10"
   ]
  },
  {
   "cell_type": "code",
   "execution_count": null,
   "id": "b13fce73",
   "metadata": {},
   "outputs": [],
   "source": [
    "(20-10)+5)"
   ]
  },
  {
   "cell_type": "code",
   "execution_count": null,
   "id": "57a93ea7",
   "metadata": {},
   "outputs": [],
   "source": [
    "# An operator working on one operand is called a unary operator. \n",
    "# An operator working on two operands is called a binary operator."
   ]
  },
  {
   "cell_type": "code",
   "execution_count": null,
   "id": "4556d1cc",
   "metadata": {},
   "outputs": [],
   "source": [
    "# A ternary operator also called a conditional operator - returns a value based on a binary condition. It takes a binary\n",
    "# condition as an input and returns a value. So, it is similar to an if else condition block but can be executed in one\n",
    "# line and returns an output like a function. More on this later."
   ]
  },
  {
   "cell_type": "code",
   "execution_count": null,
   "id": "a76e0c4b",
   "metadata": {},
   "outputs": [],
   "source": [
    "#Operators are also classified by the type of operations they perform: \n",
    "\n",
    "#1. Arithmetic Operators \n",
    "#2. Bitwise Operators, unary not operator\n",
    "#3. Assignment Operators\n",
    "#4. Unary Operator (minus and bitwise not)\n",
    "#5. Relational Operators\n",
    "#6. Logical / Boolean Operators + Ternary Operators\n",
    "#7. Membership Operators\n",
    "#8. Identity Operators"
   ]
  },
  {
   "cell_type": "code",
   "execution_count": null,
   "id": "0cf51de3",
   "metadata": {},
   "outputs": [],
   "source": [
    "print(bool(None))"
   ]
  },
  {
   "cell_type": "code",
   "execution_count": null,
   "id": "20903021",
   "metadata": {},
   "outputs": [],
   "source": [
    "+,-,*,/,//,%,** - Arithmetic operators\n",
    "\n"
   ]
  },
  {
   "cell_type": "code",
   "execution_count": null,
   "id": "5b131636",
   "metadata": {},
   "outputs": [],
   "source": [
    "==, !=, >, <, >=, <= - Comparison or relational operators"
   ]
  },
  {
   "cell_type": "code",
   "execution_count": null,
   "id": "06a0faae",
   "metadata": {},
   "outputs": [],
   "source": [
    "=, (arithmetic operators)= <compound assignment>"
   ]
  },
  {
   "cell_type": "code",
   "execution_count": null,
   "id": "c8e47886",
   "metadata": {},
   "outputs": [],
   "source": [
    "a = 10\n",
    "\n",
    "print(a)"
   ]
  },
  {
   "cell_type": "code",
   "execution_count": null,
   "id": "b783e9d5",
   "metadata": {},
   "outputs": [],
   "source": [
    "# Compound assignemnt\n",
    "\n",
    "a = 10\n",
    "\n",
    "a += 5 # a = a + 5\n",
    "\n",
    "print(a)"
   ]
  },
  {
   "cell_type": "code",
   "execution_count": null,
   "id": "f46274d5",
   "metadata": {},
   "outputs": [],
   "source": [
    "print(5**3)"
   ]
  },
  {
   "cell_type": "code",
   "execution_count": null,
   "id": "f7bdc32d",
   "metadata": {},
   "outputs": [],
   "source": [
    "print(64**(1/3))"
   ]
  },
  {
   "cell_type": "code",
   "execution_count": null,
   "id": "c08069aa",
   "metadata": {},
   "outputs": [],
   "source": [
    "a = 10\n",
    "a %= 3\n",
    "\n",
    "print(a)"
   ]
  },
  {
   "cell_type": "code",
   "execution_count": null,
   "id": "03f58e2e",
   "metadata": {},
   "outputs": [],
   "source": []
  },
  {
   "cell_type": "code",
   "execution_count": null,
   "id": "7bb3ae13",
   "metadata": {},
   "outputs": [],
   "source": [
    "print('a' not in 'Learnbay')"
   ]
  },
  {
   "cell_type": "code",
   "execution_count": null,
   "id": "30433a52",
   "metadata": {},
   "outputs": [],
   "source": [
    "in, not in - membership operators\n"
   ]
  },
  {
   "cell_type": "code",
   "execution_count": null,
   "id": "f350b45c",
   "metadata": {},
   "outputs": [],
   "source": [
    "is, is not - identity operators"
   ]
  },
  {
   "cell_type": "code",
   "execution_count": null,
   "id": "1741046f",
   "metadata": {},
   "outputs": [],
   "source": [
    "x = 100\n",
    "y = 100\n",
    "z = x\n",
    "\n",
    "print(x is y)\n",
    "print(x is z)\n",
    "print(x == y)\n",
    "print(x == z)"
   ]
  },
  {
   "cell_type": "code",
   "execution_count": null,
   "id": "1bb9dabc",
   "metadata": {},
   "outputs": [],
   "source": []
  },
  {
   "cell_type": "code",
   "execution_count": null,
   "id": "4b0196d2",
   "metadata": {},
   "outputs": [],
   "source": []
  },
  {
   "cell_type": "code",
   "execution_count": null,
   "id": "a37cba61",
   "metadata": {},
   "outputs": [],
   "source": []
  },
  {
   "cell_type": "code",
   "execution_count": null,
   "id": "38bdf7a1",
   "metadata": {},
   "outputs": [],
   "source": []
  },
  {
   "cell_type": "code",
   "execution_count": null,
   "id": "19e3306b",
   "metadata": {},
   "outputs": [],
   "source": []
  },
  {
   "cell_type": "code",
   "execution_count": null,
   "id": "ce1fc2eb",
   "metadata": {},
   "outputs": [],
   "source": []
  },
  {
   "cell_type": "markdown",
   "id": "53567f93",
   "metadata": {},
   "source": [
    "### Arithmetic Operators"
   ]
  },
  {
   "cell_type": "code",
   "execution_count": null,
   "id": "42e96dd8",
   "metadata": {},
   "outputs": [],
   "source": [
    "# The plus + operator - Adds two values on either side of the operator. \n",
    "\n",
    "print(10+20)"
   ]
  },
  {
   "cell_type": "code",
   "execution_count": null,
   "id": "e327ac60",
   "metadata": {},
   "outputs": [],
   "source": [
    "x = 10 ; y = 20\n",
    "\n",
    "print(x+y)"
   ]
  },
  {
   "cell_type": "code",
   "execution_count": null,
   "id": "492d6ee3",
   "metadata": {},
   "outputs": [],
   "source": [
    "#The minus - operator - Subtracts the value on the right side from the value on the left. \n",
    "\n",
    "print(10-20)"
   ]
  },
  {
   "cell_type": "code",
   "execution_count": null,
   "id": "8f874d6f",
   "metadata": {},
   "outputs": [],
   "source": [
    "print(x-y)"
   ]
  },
  {
   "cell_type": "code",
   "execution_count": null,
   "id": "9aa81108",
   "metadata": {},
   "outputs": [],
   "source": [
    "#The multiplication * operator - Multiplies the two values on either side of the operator\n",
    "\n",
    "print(10*20)"
   ]
  },
  {
   "cell_type": "code",
   "execution_count": null,
   "id": "e3dfe1ae",
   "metadata": {},
   "outputs": [],
   "source": [
    "print(x*y)"
   ]
  },
  {
   "cell_type": "code",
   "execution_count": null,
   "id": "448fc01d",
   "metadata": {},
   "outputs": [],
   "source": [
    "# The division / operator - divides the left side value (numerator) by the value on the right (divisor or denominator).\n",
    "\n",
    "print(40/20)"
   ]
  },
  {
   "cell_type": "code",
   "execution_count": null,
   "id": "57966e5f",
   "metadata": {},
   "outputs": [],
   "source": [
    "print(x/y)"
   ]
  },
  {
   "cell_type": "code",
   "execution_count": null,
   "id": "6032fa0a",
   "metadata": {},
   "outputs": [],
   "source": [
    "#The floor division // operator - divides the left side value (numerator) by the value on the right (division or denominator)\n",
    "# but returns ONLY the whole number of the result. The remainder is discarded. \n",
    "\n",
    "print(10//3)"
   ]
  },
  {
   "cell_type": "code",
   "execution_count": null,
   "id": "e7c144cf",
   "metadata": {},
   "outputs": [],
   "source": [
    "z = 3\n",
    "\n",
    "print(x//z)"
   ]
  },
  {
   "cell_type": "code",
   "execution_count": null,
   "id": "b0b448ca",
   "metadata": {},
   "outputs": [],
   "source": [
    "# The modulo or modulus operator (shortened to mod in practical use) % - divides the left side value (numerator) by the\n",
    "# value on the right(divisor or denominator) but returns ONLY the remainder. The whole number before the remainder is \n",
    "# ignored. Returns 0 if no remainder from the division operation. \n",
    "\n",
    "print(10%3)\n"
   ]
  },
  {
   "cell_type": "code",
   "execution_count": null,
   "id": "3833ec27",
   "metadata": {},
   "outputs": [],
   "source": [
    "print(x%z)"
   ]
  },
  {
   "cell_type": "code",
   "execution_count": null,
   "id": "ef46e42a",
   "metadata": {},
   "outputs": [],
   "source": [
    "# The exponent ** operators - Raises the value on the left to the power of the value on the right. \n",
    "\n",
    "print(10**3)"
   ]
  },
  {
   "cell_type": "code",
   "execution_count": null,
   "id": "118ac989",
   "metadata": {},
   "outputs": [],
   "source": [
    "print(x**z)"
   ]
  },
  {
   "cell_type": "code",
   "execution_count": null,
   "id": "b1f314c1",
   "metadata": {},
   "outputs": [],
   "source": [
    "# The root of a number can derived by using (1/x) along with the exponent ** operator. Note though, due to floating point\n",
    "# errors - the result may not be exactly as expected. \n",
    "\n",
    "print(8**(1/3))"
   ]
  },
  {
   "cell_type": "code",
   "execution_count": null,
   "id": "9f80321a",
   "metadata": {},
   "outputs": [],
   "source": [
    "print(4/2)"
   ]
  },
  {
   "cell_type": "code",
   "execution_count": null,
   "id": "a0ede01c",
   "metadata": {},
   "outputs": [],
   "source": [
    "#When there are multiple operations to be performed, the PEMDAS (same as BODMAS) criteria for order of operations priority\n",
    "# is used.\n",
    "\n",
    "# Parenthesis          - Brackets\n",
    "# Exponents            - Of (Power or root)\n",
    "# Multiplication, division, floor division and modulos - Division, Multiplication\n",
    "# Addition, Subtraction - Addition, Subtraction\n",
    "\n",
    "#x = 58 / (4 x 5) + 3**2\n",
    "\n",
    "#Here parenthesis will be evaluated first. \n",
    "\n",
    "#So, x = 58 / 20 + 3**2\n",
    "\n",
    "#Then exponents\n",
    "\n",
    "#So, x = 58 / 20 + 9\n",
    "\n",
    "#Next is the division or multiplication\n",
    "\n",
    "#So, x = 2.9 + 9\n",
    "\n",
    "#And finally, the addition\n",
    "\n",
    "#So, x = 11.9\n",
    "\n",
    "print(58/(4*5)+ 3**2)"
   ]
  },
  {
   "cell_type": "code",
   "execution_count": null,
   "id": "e4c8df70",
   "metadata": {},
   "outputs": [],
   "source": [
    "# However, since we have a lot of other operators in Python besides arithmetic, the expanded order of evaluation table is\n",
    "# given below in descending order (operators higher than the ones below will be evaluated first)."
   ]
  },
  {
   "cell_type": "code",
   "execution_count": null,
   "id": "7b6c2eca",
   "metadata": {},
   "outputs": [],
   "source": [
    "# Operator                       Name\n",
    "# ()                             Parenthesis\n",
    "# **                             Exponentiation\n",
    "# -,~                            Unary minus, Bitwise complement(Bitwise Not)\n",
    "# *,/,//,%                       Multiplication, Division, Floor division, Modulus\n",
    "# +,-                            Addition, Subtraction\n",
    "# <<,>>                          Bitwise left shift, Bitwise right shift\n",
    "# &                              Bitwise AND\n",
    "# ^                              Bitwise XOR\n",
    "# |                              Bitwise OR\n",
    "# >,>=,<,<=,==,!=                Relational (comparison) operators\n",
    "# =,%=,/=,//=,-=, +=,*=,**=      Assignment operators\n",
    "# is,is not                      Identity operators\n",
    "# in,not in                      Membership operators\n",
    "# not                            Logical not\n",
    "# or                             Logical or\n",
    "# and                            Logical and -->"
   ]
  },
  {
   "cell_type": "markdown",
   "id": "654701e3",
   "metadata": {},
   "source": [
    "### Bitwise Operators"
   ]
  },
  {
   "cell_type": "code",
   "execution_count": null,
   "id": "7b613ce5",
   "metadata": {},
   "outputs": [],
   "source": [
    "#Bitwise operators\n",
    "\n",
    "#1. Bitwise and - & operator. Sets the bit to 1 if both bits are 1 else 0. \n",
    "\n",
    "x = 237 ; bx = bin(x)\n",
    "y = 524 ; by = bin(y)\n",
    "\n",
    "print(x, bx)\n",
    "print(y, by)\n",
    "\n",
    "print(type(bin(x)))"
   ]
  },
  {
   "cell_type": "code",
   "execution_count": null,
   "id": "32e2d683",
   "metadata": {},
   "outputs": [],
   "source": [
    "print(int(0b1100))"
   ]
  },
  {
   "cell_type": "code",
   "execution_count": null,
   "id": "c6e08ab6",
   "metadata": {},
   "outputs": [],
   "source": [
    "print(x&y)"
   ]
  },
  {
   "cell_type": "code",
   "execution_count": null,
   "id": "b3814bbc",
   "metadata": {},
   "outputs": [],
   "source": [
    "0011101101\n",
    "1000001100\n",
    "\n",
    "-----\n",
    "0000001100"
   ]
  },
  {
   "cell_type": "code",
   "execution_count": null,
   "id": "7b5d6dfc",
   "metadata": {},
   "outputs": [],
   "source": [
    "1010\n",
    "0101\n",
    "\n",
    "_____\n",
    "0000\n",
    "\n"
   ]
  },
  {
   "cell_type": "code",
   "execution_count": null,
   "id": "a14411ad",
   "metadata": {},
   "outputs": [],
   "source": [
    "0101\n",
    "1100\n",
    "\n",
    "0100"
   ]
  },
  {
   "cell_type": "code",
   "execution_count": null,
   "id": "52813a05",
   "metadata": {},
   "outputs": [],
   "source": [
    "# 0101 - 5\n",
    "# 1100 - 12\n",
    "\n",
    "______\n",
    "\n",
    "0100 = 4"
   ]
  },
  {
   "cell_type": "code",
   "execution_count": null,
   "id": "09e69260",
   "metadata": {},
   "outputs": [],
   "source": [
    "print(5&10)"
   ]
  },
  {
   "cell_type": "code",
   "execution_count": null,
   "id": "e31d9e11",
   "metadata": {},
   "outputs": [],
   "source": [
    "print(5&12)"
   ]
  },
  {
   "cell_type": "code",
   "execution_count": null,
   "id": "c3087d7c",
   "metadata": {},
   "outputs": [],
   "source": [
    "print(bin(17))\n",
    "print(bin(54))"
   ]
  },
  {
   "cell_type": "code",
   "execution_count": null,
   "id": "0ce93529",
   "metadata": {},
   "outputs": [],
   "source": [
    "010001\n",
    "110110\n",
    "\n",
    "010000"
   ]
  },
  {
   "cell_type": "code",
   "execution_count": null,
   "id": "467f271b",
   "metadata": {},
   "outputs": [],
   "source": [
    "x = 17\n",
    "y = 54\n",
    "\n",
    "\n",
    "print(x&y)"
   ]
  },
  {
   "cell_type": "code",
   "execution_count": null,
   "id": "c9c56683",
   "metadata": {},
   "outputs": [],
   "source": [
    "print(int(0b100))"
   ]
  },
  {
   "cell_type": "code",
   "execution_count": null,
   "id": "b17c32ec",
   "metadata": {},
   "outputs": [],
   "source": [
    "010001\n",
    "110110\n",
    "\n",
    "_______\n",
    "010000"
   ]
  },
  {
   "cell_type": "code",
   "execution_count": null,
   "id": "b7c4e8da",
   "metadata": {},
   "outputs": [],
   "source": [
    "0000000000010001"
   ]
  },
  {
   "cell_type": "code",
   "execution_count": null,
   "id": "b80e7519",
   "metadata": {},
   "outputs": [],
   "source": [
    "print(x&y, bin(x&y))"
   ]
  },
  {
   "cell_type": "code",
   "execution_count": null,
   "id": "dfb88079",
   "metadata": {},
   "outputs": [],
   "source": [
    "x = 66\n",
    "y = 78\n",
    "\n",
    "# 1000010 - 66\n",
    "# 1001110 - 78\n",
    "\n",
    "# 1000010\n",
    "\n",
    "# 1000010 - 66"
   ]
  },
  {
   "cell_type": "code",
   "execution_count": null,
   "id": "f67f9deb",
   "metadata": {},
   "outputs": [],
   "source": [
    "print(x&y, bin(x&y))"
   ]
  },
  {
   "cell_type": "code",
   "execution_count": null,
   "id": "9c17e399",
   "metadata": {},
   "outputs": [],
   "source": [
    "x = 0b1010\n",
    "\n",
    "print(x)"
   ]
  },
  {
   "cell_type": "code",
   "execution_count": null,
   "id": "f81a0c81",
   "metadata": {},
   "outputs": [],
   "source": [
    "print(1011 & 1111)"
   ]
  },
  {
   "cell_type": "code",
   "execution_count": null,
   "id": "9f5a341c",
   "metadata": {},
   "outputs": [],
   "source": [
    "#2. Bitwise Or - | operator. Sets the bit to 1 if either of the bits is 1 else 0. \n",
    "\n",
    "x = 150 ; bx = bin(x)\n",
    "y = 777 ; by = bin(y)\n",
    "\n",
    "print(x, bx)\n",
    "print(y, by)"
   ]
  },
  {
   "cell_type": "code",
   "execution_count": null,
   "id": "8007a2b2",
   "metadata": {},
   "outputs": [],
   "source": [
    "0010010110\n",
    "1100001001\n",
    "------\n",
    "1110011111"
   ]
  },
  {
   "cell_type": "code",
   "execution_count": null,
   "id": "9c391f47",
   "metadata": {},
   "outputs": [],
   "source": [
    "print(int(0b1110011111))"
   ]
  },
  {
   "cell_type": "code",
   "execution_count": null,
   "id": "15dc02bc",
   "metadata": {},
   "outputs": [],
   "source": [
    "print(x|y)"
   ]
  },
  {
   "cell_type": "code",
   "execution_count": null,
   "id": "c1f4f3e7",
   "metadata": {},
   "outputs": [],
   "source": [
    "# 0101\n",
    "# 1100\n",
    "\n",
    "_______\n",
    "1101\n",
    "\n",
    "\n",
    "Or - Both are 0 - then 0\n",
    "If both or even 1 is 1 = then 1\n",
    "\n",
    "XOR = Both are 0 or 1 = 0\n",
    "If either is 1 = 1"
   ]
  },
  {
   "cell_type": "code",
   "execution_count": null,
   "id": "633a206c",
   "metadata": {},
   "outputs": [],
   "source": [
    "x = 4229\n",
    "y = 179"
   ]
  },
  {
   "cell_type": "code",
   "execution_count": null,
   "id": "e1e4ffcc",
   "metadata": {},
   "outputs": [],
   "source": [
    "1000010000101\n",
    "0000010110011\n",
    "\n",
    "_____________\n",
    "1000010110111\n"
   ]
  },
  {
   "cell_type": "code",
   "execution_count": null,
   "id": "4cae366f",
   "metadata": {},
   "outputs": [],
   "source": [
    "print(x | y)"
   ]
  },
  {
   "cell_type": "code",
   "execution_count": null,
   "id": "32be6d1e",
   "metadata": {},
   "outputs": [],
   "source": [
    "#3. Bitwise XOR - ^ operator. Sets the bit to 1 if either (but not both) of the bits is 1 else 0. \n",
    "\n",
    "x = 5 ; bx = bin(x)\n",
    "y = 12 ; by = bin(y)\n",
    "\n",
    "print(x, bx)\n",
    "print(y, by)"
   ]
  },
  {
   "cell_type": "code",
   "execution_count": null,
   "id": "0581cd01",
   "metadata": {},
   "outputs": [],
   "source": [
    "0101\n",
    "1100\n",
    "\n",
    "____\n",
    "1001\n",
    "\n",
    "\n"
   ]
  },
  {
   "cell_type": "code",
   "execution_count": null,
   "id": "a0e66dc4",
   "metadata": {},
   "outputs": [],
   "source": [
    "print(int(0b1001))"
   ]
  },
  {
   "cell_type": "code",
   "execution_count": null,
   "id": "3bd5a207",
   "metadata": {},
   "outputs": [],
   "source": [
    "print(x^y)\n",
    "\n",
    "\n",
    "# 0101\n",
    "# 1100\n",
    "#_______\n",
    "# 1001\n"
   ]
  },
  {
   "cell_type": "code",
   "execution_count": null,
   "id": "6e6105b5",
   "metadata": {},
   "outputs": [],
   "source": [
    "x = 4279\n",
    "y = 179\n",
    "\n",
    "print(bin(x))\n",
    "print(bin(y))"
   ]
  },
  {
   "cell_type": "code",
   "execution_count": null,
   "id": "b74c2975",
   "metadata": {},
   "outputs": [],
   "source": [
    "1000010110111\n",
    "0000010110011\n",
    "\n",
    "_____________\n",
    "\n",
    "1000000000100"
   ]
  },
  {
   "cell_type": "code",
   "execution_count": null,
   "id": "d7436c1f",
   "metadata": {},
   "outputs": [],
   "source": [
    "z = 0b1000000000100\n",
    "\n",
    "print(z)"
   ]
  },
  {
   "cell_type": "code",
   "execution_count": null,
   "id": "e8b26582",
   "metadata": {},
   "outputs": [],
   "source": [
    "print(x^y)"
   ]
  },
  {
   "cell_type": "code",
   "execution_count": null,
   "id": "258f9ba3",
   "metadata": {},
   "outputs": [],
   "source": [
    "print((5&10)&20)"
   ]
  },
  {
   "cell_type": "code",
   "execution_count": null,
   "id": "ac8781b2",
   "metadata": {},
   "outputs": [],
   "source": [
    "00101\n",
    "01010\n",
    "\n",
    "00000\n",
    "\n",
    "10100\n",
    "\n",
    "00000"
   ]
  },
  {
   "cell_type": "code",
   "execution_count": null,
   "id": "984f0f36",
   "metadata": {},
   "outputs": [],
   "source": [
    "#Step 1\n",
    "\n",
    "0 1010010\n",
    "\n",
    "1 0101100+1  - Negative rep of above number\n",
    "\n",
    "1 1010011\n",
    "\n",
    "0 0000000\n",
    "1 1111111\n",
    "\n",
    "\n",
    "-(n+1)"
   ]
  },
  {
   "cell_type": "code",
   "execution_count": null,
   "id": "baab153b",
   "metadata": {},
   "outputs": [],
   "source": [
    "#4. Bitwise Not - ~ operator. Only works on one operand. It reverses the bits of the binary representation of the integer. \n",
    "# Returns signed twos complement of the integer n i.e. -(n+1)\n",
    "\n",
    "x = ~1\n",
    "\n",
    "print(x)\n",
    "\n",
    "#-(n+1)\n",
    "\n"
   ]
  },
  {
   "cell_type": "code",
   "execution_count": null,
   "id": "6e0a3e08",
   "metadata": {},
   "outputs": [],
   "source": [
    "-(-10+1)"
   ]
  },
  {
   "cell_type": "code",
   "execution_count": null,
   "id": "d589f001",
   "metadata": {},
   "outputs": [],
   "source": [
    "print(bin(-5))"
   ]
  },
  {
   "cell_type": "code",
   "execution_count": null,
   "id": "11fb9d97",
   "metadata": {},
   "outputs": [],
   "source": [
    "print(~4279)\n"
   ]
  },
  {
   "cell_type": "code",
   "execution_count": null,
   "id": "4f93f667",
   "metadata": {},
   "outputs": [],
   "source": [
    "-(n+1)\n",
    "\n",
    "-(4279+1)\n",
    "\n"
   ]
  },
  {
   "cell_type": "code",
   "execution_count": null,
   "id": "8cef0f07",
   "metadata": {},
   "outputs": [],
   "source": [
    "print(~-4279)"
   ]
  },
  {
   "cell_type": "code",
   "execution_count": null,
   "id": "3427cc14",
   "metadata": {},
   "outputs": [],
   "source": [
    "-(n+1)\n",
    "-(-4279+1)\n",
    "4278"
   ]
  },
  {
   "cell_type": "code",
   "execution_count": null,
   "id": "74143fe6",
   "metadata": {},
   "outputs": [],
   "source": [
    "x = 179\n",
    "\n",
    "print(~x)"
   ]
  },
  {
   "cell_type": "code",
   "execution_count": null,
   "id": "145bdb8c",
   "metadata": {},
   "outputs": [],
   "source": [
    "x = -179\n",
    "\n",
    "print(~x)"
   ]
  },
  {
   "cell_type": "code",
   "execution_count": null,
   "id": "9a7feff8",
   "metadata": {},
   "outputs": [],
   "source": [
    "# 0000 0000 = +0\n",
    "# 1111 1111 = -0\n",
    "\n",
    "# 0000 1000\n",
    "# 1111 0111                       + 1 = 2 complement\n",
    "\n",
    "# 1111 1000\n",
    "\n",
    "-9\n",
    "0000 1001\n",
    "1111 0110 + 1\n",
    "\n",
    "1111 0111 = \n",
    "\n",
    "\n",
    "0000 1000\n",
    "1111 0111\n",
    "\n",
    "0000 1001\n",
    "1111 0110+1 \n",
    "1111 0111\n"
   ]
  },
  {
   "cell_type": "code",
   "execution_count": null,
   "id": "1da91d23",
   "metadata": {},
   "outputs": [],
   "source": [
    "# 0000 1000\n",
    "\n",
    "# 1111 0111"
   ]
  },
  {
   "cell_type": "code",
   "execution_count": null,
   "id": "8a5bfd50",
   "metadata": {},
   "outputs": [],
   "source": [
    "x = -11\n",
    "\n",
    "-(-11+1)\n",
    "print(~x)"
   ]
  },
  {
   "cell_type": "code",
   "execution_count": null,
   "id": "4e833680",
   "metadata": {},
   "outputs": [],
   "source": [
    "10 = - (10+1) = -11\n",
    "\n",
    "-11 = -(-11+1) = 10\n",
    "\n",
    "\n",
    "\n",
    "0 1010\n",
    "1 0101 - Not of 10\n",
    "\n",
    "0(MSB) + 7bits magnitude\n",
    "\n",
    "1(MSB) + 0101 + 1\n",
    "\n",
    "1(MSB) + 0110\n",
    "\n",
    "0 + 1001 + 1\n",
    "1010\n",
    "\n",
    "0 1010\n",
    "1 0101\n",
    "\n",
    "11\n",
    "\n",
    "0 1011\n",
    "1 0100 +1\n",
    "\n",
    "1 0101 - Negative 11\n",
    "\n",
    "\n"
   ]
  },
  {
   "cell_type": "code",
   "execution_count": null,
   "id": "ed2f73bc",
   "metadata": {},
   "outputs": [],
   "source": [
    "x = 79\n",
    "\n",
    "print(~x)"
   ]
  },
  {
   "cell_type": "code",
   "execution_count": null,
   "id": "37ada935",
   "metadata": {},
   "outputs": [],
   "source": [
    "x = -79\n",
    "\n",
    "print(~x)"
   ]
  },
  {
   "cell_type": "code",
   "execution_count": null,
   "id": "de1a4862",
   "metadata": {},
   "outputs": [],
   "source": [
    "# A disclaimer here - the bin() function output of a negative number in Python is not really how negative numbers\n",
    "# are represented in binary.\n",
    "\n",
    "print(bin(-6))\n",
    "\n",
    "print(bin(-9))"
   ]
  },
  {
   "cell_type": "code",
   "execution_count": null,
   "id": "b3edc9fe",
   "metadata": {},
   "outputs": [],
   "source": [
    "0101 = 5\n",
    "1010+1 = 1011"
   ]
  },
  {
   "cell_type": "code",
   "execution_count": null,
   "id": "3bbf41e7",
   "metadata": {},
   "outputs": [],
   "source": [
    "a = 10\n",
    "\n",
    "a &= 5 # a = a & 5\n",
    "\n",
    "print(a)"
   ]
  },
  {
   "cell_type": "code",
   "execution_count": null,
   "id": "10e1ec2f",
   "metadata": {},
   "outputs": [],
   "source": [
    "print(10 & 5)"
   ]
  },
  {
   "cell_type": "code",
   "execution_count": null,
   "id": "acf6a2dc",
   "metadata": {},
   "outputs": [],
   "source": [
    "print(~-1)"
   ]
  },
  {
   "cell_type": "code",
   "execution_count": null,
   "id": "bb7ed032",
   "metadata": {},
   "outputs": [],
   "source": [
    "# Negative numbers in binary\n",
    "\n",
    "# Binary numbers can be signed or unsigned.\n",
    "\n",
    "# For unsigned binary integers - only positive values are possible i.e. \n",
    "\n",
    "#0001 1011 = 27 (even though the first bit is 1 it is an unsigned integer so value is positive 27)\n",
    "\n",
    "# However, for signed integers, the first bit on the left is always the sign. \n",
    "\n",
    "# Positive 27 would actually be represented in 8 bit as : \n",
    "\n",
    "# 0 (MSB) 001 1011 - MSB + 7 bits of magnitude\n",
    "\n",
    "# Negative numbers are represented in binary by their 2's complement i.e. inverting all the bits and adding 1.\n",
    "\n",
    "# 1 (MSB) 110 0100 + 1 = 1 110 0101"
   ]
  },
  {
   "cell_type": "code",
   "execution_count": null,
   "id": "ca545be3",
   "metadata": {},
   "outputs": [],
   "source": [
    "# Bitwise Not operator, at work in binary.\n",
    "\n",
    "# 5 in 8-bit binary is = 0(MSB) 000 0101. Its NOT is 1(MSB) 111 1010.\n",
    "# The NOT of 5 we are expecting is -(5+1) = -6\n",
    "\n",
    "# -6 in binary is:\n",
    "\n",
    "#6 = 0(MSB) 000 0110, inverted is 1(MSB) 111 1001 + 1 (2s complement to get negative rep in binary) = 1(MSB) 111 1010 is -6\n",
    "\n",
    "# If you notice the binary representation of -6 is the same as the Bitwise NOT of 5. "
   ]
  },
  {
   "cell_type": "markdown",
   "id": "7ff01a51",
   "metadata": {},
   "source": [
    "0101 - 5 in binary\n",
    "1010 - Not of 5 in binary\n",
    "-(5+1)\n",
    "\n",
    "6\n",
    "0110 - Positive 6\n",
    "1001+1 - Invert bits and add 1\n",
    "1010 - Negative 6 in binary (same as not of 5)\n",
    "\n",
    "0101+1 = Invert bits and add 1 to Convert negative 6 back to positive. \n",
    "0110 = Positive 6\n",
    "\n",
    "\n",
    "01010 - 10 in binary\n",
    "10101 - Not of 10 in Binary\n",
    "\n",
    "01011 - Positive 11\n",
    "10100+1 - Invert bits and add 1\n",
    "10101 = Negative 11 in binary (Same as Not of 10)\n",
    "\n",
    "01010+1\n",
    "\n",
    "01011 = 11\n",
    "\n",
    "1(MSB) + 11 = -11\n",
    "\n",
    "- 27 in binary\n",
    "\n",
    "011011 = Positive\n",
    "100100+1 = 100101 = -27\n",
    "\n",
    "100101 - \n",
    "011010 - Not of 27 \n",
    "\n",
    "\n",
    "\n",
    "011011 - Positive 27\n",
    "100100 + 1 - Invert bits and add 1\n",
    "100101 - Negative 27 in binary\n",
    "\n",
    "011010 - Not of negative 27 in binary which is also positive 26\n",
    "\n",
    "\n",
    "-(-27+1) = 26\n",
    "\n",
    "-79 in binary\n",
    "\n",
    "0101111 - Positive 79 in binary\n",
    "1010000+1 - Invert bits and add 1\n",
    "1010001 - Negative 79\n",
    "\n",
    "0101110 - Not of negative 79, 78 = -(-79+1) = 78\n"
   ]
  },
  {
   "cell_type": "code",
   "execution_count": null,
   "id": "21b09f01",
   "metadata": {},
   "outputs": [],
   "source": [
    "print(5, bin(5))\n",
    "print(-6, bin(6), bin(-6))\n",
    "\n",
    "#Note how the bin() function in Python only adds a -sign before the POSITIVE bit representation of the number. Again, this\n",
    "# is not really how negative numbers are represented in binary machine code. "
   ]
  },
  {
   "cell_type": "code",
   "execution_count": null,
   "id": "9500ec85",
   "metadata": {},
   "outputs": [],
   "source": [
    "#Negative NOT example.\n",
    "\n",
    "# -21 in binary is\n",
    "# 21 = 0(MSB) 001 0101, its inverse is 1(MSB) 110 1010 + 1(2s complement to get neg rep in binary ) = 1(MSB) 110 1011 is -21\n",
    "\n",
    "#The complement of -21 we are expecting is -(-21+1) = 20\n",
    "\n",
    "# NOT of -21 = 1(MSB) 110 1011 = 0(MSB) 001 0100 = 20\n",
    "\n",
    "#As observed, the binary representation of 20 is the same as the bitwise NOT of -21"
   ]
  },
  {
   "cell_type": "code",
   "execution_count": null,
   "id": "4c90db24",
   "metadata": {},
   "outputs": [],
   "source": [
    "print(-21, bin(21), bin(-21))\n",
    "print(20, bin(20))"
   ]
  },
  {
   "cell_type": "code",
   "execution_count": null,
   "id": "a44090df",
   "metadata": {},
   "outputs": [],
   "source": [
    "    10100"
   ]
  },
  {
   "cell_type": "code",
   "execution_count": null,
   "id": "51c9058b",
   "metadata": {},
   "outputs": [],
   "source": [
    "01010 "
   ]
  },
  {
   "cell_type": "code",
   "execution_count": null,
   "id": "442df111",
   "metadata": {},
   "outputs": [],
   "source": [
    "print(5 << 3)"
   ]
  },
  {
   "cell_type": "code",
   "execution_count": null,
   "id": "bec6f59a",
   "metadata": {},
   "outputs": [],
   "source": [
    "# shift 1\n",
    "5 * 2 = 10\n",
    "\n",
    "# shift 2\n",
    "\n",
    "5 * (2**2) = 20\n",
    "\n",
    "# shift 3\n",
    "\n",
    "5 * (2**3) = 40"
   ]
  },
  {
   "cell_type": "code",
   "execution_count": null,
   "id": "d8c3ffb9",
   "metadata": {},
   "outputs": [],
   "source": []
  },
  {
   "cell_type": "code",
   "execution_count": null,
   "id": "b65ba5b2",
   "metadata": {},
   "outputs": [],
   "source": [
    "101000"
   ]
  },
  {
   "cell_type": "code",
   "execution_count": null,
   "id": "78a7d4f8",
   "metadata": {},
   "outputs": [],
   "source": [
    "#Bitwise left shift. Moves the binary numbers specified number of spaces to the left and fills the specified number of zeros\n",
    "# to the right of the binary number - in effect multiplying the result by 2 for each shift. \n",
    "\n",
    "print(5 << 1)\n",
    "\n",
    "000101\n",
    "001010\n",
    "010100\n",
    "101000\n",
    "\n",
    "# 0000 0101 = 5\n",
    "# 0000 1010 = 10\n",
    "# 0001 0100 = 20\n",
    "# 0010 1000 = 40"
   ]
  },
  {
   "cell_type": "code",
   "execution_count": null,
   "id": "8624f5f8",
   "metadata": {},
   "outputs": [],
   "source": [
    "print(int(0b000101000))"
   ]
  },
  {
   "cell_type": "code",
   "execution_count": null,
   "id": "a8e7640f",
   "metadata": {},
   "outputs": [],
   "source": [
    "101000\n",
    "010100\n",
    "001010\n",
    "000101\n",
    "000010\n",
    "000001\n",
    "000000"
   ]
  },
  {
   "cell_type": "code",
   "execution_count": null,
   "id": "cb438268",
   "metadata": {},
   "outputs": [],
   "source": [
    "print(int(0b0))"
   ]
  },
  {
   "cell_type": "code",
   "execution_count": null,
   "id": "8da7fe29",
   "metadata": {},
   "outputs": [],
   "source": []
  },
  {
   "cell_type": "code",
   "execution_count": null,
   "id": "bff453b4",
   "metadata": {},
   "outputs": [],
   "source": [
    "101 < 1 - 5\n",
    "\n",
    "1010 = 10\n",
    "\n",
    "101 < 2\n",
    "\n",
    "10100 = 20\n",
    "\n",
    "101 < 3 \n",
    "\n",
    "101000 = 40\n",
    "\n",
    "5 x 8 (2**3) = 40"
   ]
  },
  {
   "cell_type": "code",
   "execution_count": null,
   "id": "11cb81d8",
   "metadata": {},
   "outputs": [],
   "source": [
    "print(17 << 4)"
   ]
  },
  {
   "cell_type": "code",
   "execution_count": null,
   "id": "435b28d4",
   "metadata": {},
   "outputs": [],
   "source": [
    "print(11 << 3)"
   ]
  },
  {
   "cell_type": "code",
   "execution_count": null,
   "id": "d2c5bcc6",
   "metadata": {},
   "outputs": [],
   "source": [
    "1010  = 10\n",
    "\n",
    "10100 = 20\n",
    "\n",
    "1010 = 10 #2 spaces left shift\n",
    "101000 = 40\n",
    "\n",
    "1010 = 10 #3 spaces left shift\n",
    "1010000  = 80"
   ]
  },
  {
   "cell_type": "code",
   "execution_count": null,
   "id": "11c09bc7",
   "metadata": {},
   "outputs": [],
   "source": [
    "x = 39\n",
    "\n",
    "print(x << 4)"
   ]
  },
  {
   "cell_type": "code",
   "execution_count": null,
   "id": "c5e35911",
   "metadata": {},
   "outputs": [],
   "source": [
    "1010 > 1 # 10\n",
    "\n",
    "101 # 5\n",
    "\n",
    "10 # 2\n",
    "\n",
    "1 # 1\n",
    "\n",
    "0 # 0"
   ]
  },
  {
   "cell_type": "code",
   "execution_count": null,
   "id": "9c2d50c2",
   "metadata": {},
   "outputs": [],
   "source": [
    "1010 # right shift\n",
    "\n",
    "101 # 1 right shift  = 5\n",
    "10  # 2 right shift  = 2\n",
    "1   # 3 right shift  = 1\n",
    "0   # 4 right shift  = 0\n",
    "\n"
   ]
  },
  {
   "cell_type": "code",
   "execution_count": null,
   "id": "67c5ff93",
   "metadata": {},
   "outputs": [],
   "source": [
    "0 000 1010\n",
    "\n",
    "0 000 0000 0000 1010"
   ]
  },
  {
   "cell_type": "code",
   "execution_count": null,
   "id": "c48bb988",
   "metadata": {},
   "outputs": [],
   "source": [
    "1010 > 1  - 10\n",
    "\n",
    "0101 = 5\n",
    "\n",
    "1010 > 2\n",
    "\n",
    "0010 = 2\n",
    "\n",
    "1010 > 3\n",
    "\n",
    "0001 = 1\n",
    "\n",
    "1010 > 4\n",
    "\n",
    "0000 = 0\n",
    "\n",
    "\n",
    "# Left shift (number x (2**num of shifts))\n",
    "\n",
    "# Right shift (number / (2**num of shifts)) - dropping decimals(remainders) along the way\n"
   ]
  },
  {
   "cell_type": "code",
   "execution_count": null,
   "id": "7e61b58c",
   "metadata": {},
   "outputs": [],
   "source": [
    "x = 100\n",
    "\n",
    "print(x >> 7)"
   ]
  },
  {
   "cell_type": "code",
   "execution_count": null,
   "id": "9b6e3a52",
   "metadata": {},
   "outputs": [],
   "source": []
  },
  {
   "cell_type": "code",
   "execution_count": null,
   "id": "8bede4a8",
   "metadata": {},
   "outputs": [],
   "source": [
    "#Binary representation of 10 = 0000 1010.\n",
    "#Left shift 1 = 0001 0100 = 20\n",
    "#left shift 2 - 0010 1000 = 40\n",
    "#Left shift 3 = 0101 0000 = 80"
   ]
  },
  {
   "cell_type": "code",
   "execution_count": null,
   "id": "b142be2e",
   "metadata": {},
   "outputs": [],
   "source": [
    "#Bitwise right shift. Moves the binary numbers specified number of spaces to the right and fills zeros to the left. It lets\n",
    "# any numbers overfilling the binary representation to fall off. In effect, dividing the binary number by 2 for every shift\n",
    "# and remainders also fall off\n",
    "\n",
    "print(20 >> 1)\n",
    "\n",
    "\n",
    "# 0001 0100 = 20 \n",
    "# 0000 1010 = 10\n",
    "# 000 0101 = 5\n",
    "# 000 0010 = 2\n",
    "# 000 0001 = 1\n",
    "# 000 0000 = 0\n",
    " "
   ]
  },
  {
   "cell_type": "code",
   "execution_count": null,
   "id": "26846e8a",
   "metadata": {},
   "outputs": [],
   "source": [
    "print(100 >> 7)"
   ]
  },
  {
   "cell_type": "code",
   "execution_count": null,
   "id": "f8121fb2",
   "metadata": {},
   "outputs": [],
   "source": [
    "print(10 >> 3)"
   ]
  },
  {
   "cell_type": "code",
   "execution_count": null,
   "id": "71867376",
   "metadata": {},
   "outputs": [],
   "source": [
    "print(10 >> 4)"
   ]
  },
  {
   "cell_type": "code",
   "execution_count": null,
   "id": "6db3023e",
   "metadata": {},
   "outputs": [],
   "source": [
    "#Binary represenation of 10 = 0000 1010\n",
    "\n",
    "# Right shift 1 = 0000 0101 = 5\n",
    "# Right shift 2 = 0000 0010 = 2\n",
    "# Right shift 3 = 0000 0001 = 1\n",
    "# Right shift 4 = 0000 0000 = 0"
   ]
  },
  {
   "cell_type": "code",
   "execution_count": null,
   "id": "c4c5b19a",
   "metadata": {},
   "outputs": [],
   "source": [
    "print(13 << 3)"
   ]
  },
  {
   "cell_type": "code",
   "execution_count": null,
   "id": "9d428015",
   "metadata": {},
   "outputs": [],
   "source": [
    "print(bin(13))\n",
    "\n",
    "#1101"
   ]
  },
  {
   "cell_type": "code",
   "execution_count": null,
   "id": "db147078",
   "metadata": {},
   "outputs": [],
   "source": [
    "1101 = 13\n",
    "11010 = 26\n",
    "110100 = 52\n",
    "1101000 = 104"
   ]
  },
  {
   "cell_type": "code",
   "execution_count": null,
   "id": "7b9b1e7b",
   "metadata": {},
   "outputs": [],
   "source": [
    "print(13 >> 3)"
   ]
  },
  {
   "cell_type": "code",
   "execution_count": null,
   "id": "df38368a",
   "metadata": {},
   "outputs": [],
   "source": [
    "print(13 >> 3)"
   ]
  },
  {
   "cell_type": "code",
   "execution_count": null,
   "id": "667d7057",
   "metadata": {},
   "outputs": [],
   "source": [
    "#Binary operataors - and, or, xor, not, left shift and right shift."
   ]
  },
  {
   "cell_type": "markdown",
   "id": "1b908cb6",
   "metadata": {},
   "source": [
    "### Assignment operators"
   ]
  },
  {
   "cell_type": "code",
   "execution_count": null,
   "id": "e1c48d5a",
   "metadata": {},
   "outputs": [],
   "source": [
    "#1. Assignment operator = assigns the value (or expression after evaluation) on the right to a variable on the left. \n",
    "\n",
    "x = 20\n",
    "print(x)\n"
   ]
  },
  {
   "cell_type": "code",
   "execution_count": null,
   "id": "227f65af",
   "metadata": {},
   "outputs": [],
   "source": [
    "x += 10 # x = x + 10\n",
    "\n",
    "print(x)\n",
    "\n"
   ]
  },
  {
   "cell_type": "code",
   "execution_count": null,
   "id": "22d8c768",
   "metadata": {},
   "outputs": [],
   "source": []
  },
  {
   "cell_type": "code",
   "execution_count": null,
   "id": "f32016d3",
   "metadata": {},
   "outputs": [],
   "source": [
    "x |= 10\n",
    "\n",
    "print(x)"
   ]
  },
  {
   "cell_type": "code",
   "execution_count": null,
   "id": "a2c0674f",
   "metadata": {},
   "outputs": [],
   "source": [
    "x = 20\n",
    "\n",
    "x ^= 2\n",
    "\n",
    "print(x)"
   ]
  },
  {
   "cell_type": "code",
   "execution_count": null,
   "id": "b00a6cfd",
   "metadata": {},
   "outputs": [],
   "source": [
    "10100\n",
    "00010\n"
   ]
  },
  {
   "cell_type": "code",
   "execution_count": null,
   "id": "aa8bb607",
   "metadata": {},
   "outputs": [],
   "source": [
    "+,-,*,/,%,//,**,&,|,~,^,<<,>>      along with = sign to perform compound assignment"
   ]
  },
  {
   "cell_type": "code",
   "execution_count": null,
   "id": "69230877",
   "metadata": {},
   "outputs": [],
   "source": [
    "x = 20*2\n",
    "print(x)"
   ]
  },
  {
   "cell_type": "code",
   "execution_count": null,
   "id": "a95b6d88",
   "metadata": {},
   "outputs": [],
   "source": [
    "x = 40\n",
    "y = 30"
   ]
  },
  {
   "cell_type": "code",
   "execution_count": null,
   "id": "246ac64e",
   "metadata": {},
   "outputs": [],
   "source": [
    "z = 'Python' if x>=y else 'Python'[::-1]\n",
    "print(z)"
   ]
  },
  {
   "cell_type": "code",
   "execution_count": null,
   "id": "368dd684",
   "metadata": {},
   "outputs": [],
   "source": [
    "# The equal to = operator can also be used in one single line to update the value of varibale on the left. \n",
    "\n",
    "x = 20\n",
    "\n",
    "\n",
    "x += 100\n",
    "\n",
    "print(x)"
   ]
  },
  {
   "cell_type": "code",
   "execution_count": null,
   "id": "28240c19",
   "metadata": {},
   "outputs": [],
   "source": [
    "x = 20\n",
    "x = x + 100\n",
    "print(x)"
   ]
  },
  {
   "cell_type": "code",
   "execution_count": null,
   "id": "53362f44",
   "metadata": {},
   "outputs": [],
   "source": [
    "# Also, it can be used to assign multiple variables with the same value in the same line. \n",
    "\n",
    "a = b = 30\n",
    "\n",
    "print(a,b)\n",
    "print(a is b)"
   ]
  },
  {
   "cell_type": "code",
   "execution_count": null,
   "id": "4e79993a",
   "metadata": {},
   "outputs": [],
   "source": [
    "a = b = c = 70000\n",
    "\n",
    "print(a,b,c)\n",
    "\n",
    "print(a is b is c)"
   ]
  },
  {
   "cell_type": "code",
   "execution_count": null,
   "id": "bbbe908b",
   "metadata": {},
   "outputs": [],
   "source": [
    "x = 70000\n",
    "y = 70000\n",
    "\n",
    "print(x is y)"
   ]
  },
  {
   "cell_type": "code",
   "execution_count": null,
   "id": "92ddf787",
   "metadata": {},
   "outputs": [],
   "source": [
    "print(a is b)\n",
    "print(b is c)\n",
    "\n",
    "#As you can see, basically aliasing on the same object has been performed."
   ]
  },
  {
   "cell_type": "code",
   "execution_count": null,
   "id": "3c757df7",
   "metadata": {},
   "outputs": [],
   "source": [
    "#Also, multiple values to multiple variables can be assigned at the same time. "
   ]
  },
  {
   "cell_type": "code",
   "execution_count": null,
   "id": "76b50927",
   "metadata": {},
   "outputs": [],
   "source": [
    "a,b = 1,2\n",
    "\n",
    "print(a,b)"
   ]
  },
  {
   "cell_type": "code",
   "execution_count": null,
   "id": "afcc6e7d",
   "metadata": {},
   "outputs": [],
   "source": [
    "a,b = 100,\n",
    "\n",
    "print(a)\n",
    "print(b)"
   ]
  },
  {
   "cell_type": "code",
   "execution_count": null,
   "id": "427b142e",
   "metadata": {},
   "outputs": [],
   "source": []
  },
  {
   "cell_type": "code",
   "execution_count": null,
   "id": "2e20a53f",
   "metadata": {},
   "outputs": [],
   "source": []
  },
  {
   "cell_type": "code",
   "execution_count": null,
   "id": "a0495ff9",
   "metadata": {},
   "outputs": [],
   "source": []
  },
  {
   "cell_type": "code",
   "execution_count": null,
   "id": "7ef2df51",
   "metadata": {},
   "outputs": [],
   "source": [
    "#Compound assignment operators\n",
    "#1. += Updates the value of the variable by adding specified value to the value of the variable\n",
    "\n",
    "x = 20\n",
    "x += 100\n",
    "print(x)\n"
   ]
  },
  {
   "cell_type": "code",
   "execution_count": null,
   "id": "4f1deb91",
   "metadata": {},
   "outputs": [],
   "source": [
    "#2. -= Updates the value of the variable by subtracting specified value from the variables value.\n",
    "\n",
    "x = 20\n",
    "x -= 100  # x - 100\n",
    "print(x)"
   ]
  },
  {
   "cell_type": "code",
   "execution_count": null,
   "id": "fa02510e",
   "metadata": {},
   "outputs": [],
   "source": [
    "#3. *= Updates the value of the variable by multiplying the variables value by specified value\n",
    "\n",
    "x = 20\n",
    "x *= 100 # x * 100\n",
    "print(x)"
   ]
  },
  {
   "cell_type": "code",
   "execution_count": null,
   "id": "7619eb00",
   "metadata": {},
   "outputs": [],
   "source": [
    "#4. /= Updates the value of the variable by dividing the variables value by specified value\n",
    "\n",
    "x = 20\n",
    "x /= 100\n",
    "print(x)"
   ]
  },
  {
   "cell_type": "code",
   "execution_count": null,
   "id": "3b079c58",
   "metadata": {},
   "outputs": [],
   "source": [
    "#5. **= Updates the value of the variable by raising the variables value by power of specified value\n",
    "\n",
    "x = 2\n",
    "x **= 4\n",
    "print(x)\n"
   ]
  },
  {
   "cell_type": "code",
   "execution_count": null,
   "id": "c6fbd823",
   "metadata": {},
   "outputs": [],
   "source": [
    "#6. //= Updates the value of the variable by performing floor division on the variables value by specified value\n",
    "\n",
    "x = 14\n",
    "x //= 4\n",
    "print(x)\n"
   ]
  },
  {
   "cell_type": "code",
   "execution_count": null,
   "id": "5d040fbe",
   "metadata": {},
   "outputs": [],
   "source": [
    "#7. %= Updates the value of the variable by performing modulos operation on the variables value by specified value\n",
    "\n",
    "x = 14\n",
    "x %= 4\n",
    "print(x)"
   ]
  },
  {
   "cell_type": "code",
   "execution_count": null,
   "id": "b3f25817",
   "metadata": {},
   "outputs": [],
   "source": [
    "#8. &= Updates the value of the variable by performing Bitwise & operation on the variables value by specified value\n",
    "\n",
    "x = 14\n",
    "\n",
    "print(bin(14), bin(4))\n",
    "\n",
    "x &= 4\n",
    "print(x, bin(x))\n",
    "\n",
    "# 1110\n",
    "# 0100\n",
    "\n",
    "# 0100\n",
    "\n",
    "\n"
   ]
  },
  {
   "cell_type": "code",
   "execution_count": null,
   "id": "3615a504",
   "metadata": {},
   "outputs": [],
   "source": [
    "#9. |= Updates the value of the variable by performing bitwise Or operation on the variables value by specified value\n",
    "\n",
    "x = 14\n",
    "print(bin(14), bin(4))\n",
    "\n",
    "x |= 4\n",
    "print(x, bin(x))"
   ]
  },
  {
   "cell_type": "code",
   "execution_count": null,
   "id": "6a355596",
   "metadata": {},
   "outputs": [],
   "source": [
    "#10 ^= Updates the value of the variable by performing bitwise XOR operation on the variables value by specified value\n",
    "\n",
    "x = 14\n",
    "print(bin(14), bin(4))\n",
    "\n",
    "x ^= 4\n",
    "print(x, bin(x))"
   ]
  },
  {
   "cell_type": "code",
   "execution_count": null,
   "id": "f4b4426e",
   "metadata": {},
   "outputs": [],
   "source": [
    "#11. = Updates the value of the variable by performing bitwise left shift operation on the variables value by specified\n",
    "# value\n",
    "\n",
    "x = 14\n",
    "\n",
    "print(bin(14))\n",
    "\n",
    "x <<= 4\n",
    "\n",
    "print(x, bin(x))"
   ]
  },
  {
   "cell_type": "code",
   "execution_count": null,
   "id": "494e99d3",
   "metadata": {},
   "outputs": [],
   "source": [
    "#12. >>= Updates the value of the variable by performing bitwise right shift operation on the variables value by specified\n",
    "# value\n",
    "\n",
    "x = 142\n",
    "\n",
    "print(bin(142))\n",
    "\n",
    "x >>= 3\n",
    "print(x, bin(x))"
   ]
  },
  {
   "cell_type": "code",
   "execution_count": null,
   "id": "d4156952",
   "metadata": {},
   "outputs": [],
   "source": [
    "10100 = 20"
   ]
  },
  {
   "cell_type": "code",
   "execution_count": null,
   "id": "26fc4829",
   "metadata": {},
   "outputs": [],
   "source": [
    "101000 = 40"
   ]
  },
  {
   "cell_type": "code",
   "execution_count": null,
   "id": "a71662c2",
   "metadata": {},
   "outputs": [],
   "source": [
    "10100 = 20\n",
    "1010 = 10"
   ]
  },
  {
   "cell_type": "code",
   "execution_count": null,
   "id": "54d3b6cd",
   "metadata": {},
   "outputs": [],
   "source": []
  },
  {
   "cell_type": "code",
   "execution_count": null,
   "id": "79a3b352",
   "metadata": {},
   "outputs": [],
   "source": [
    "#However, compound assignment is not supported by multiple value assignment. \n",
    "\n",
    "a,b = 1,2\n",
    "\n",
    "print(a,b)"
   ]
  },
  {
   "cell_type": "code",
   "execution_count": null,
   "id": "72fb4a1a",
   "metadata": {},
   "outputs": [],
   "source": [
    "a,b += 2\n",
    "\n",
    "print(a,b)"
   ]
  },
  {
   "cell_type": "markdown",
   "id": "7b959b6c",
   "metadata": {},
   "source": [
    "### Unary Minus Operator"
   ]
  },
  {
   "cell_type": "code",
   "execution_count": null,
   "id": "1cb351df",
   "metadata": {},
   "outputs": [],
   "source": [
    "#Unary Minus Operator. Assigns negative of the value specified to the variable. \n",
    "\n",
    "a = 100\n",
    "b = -a\n",
    "\n",
    "print(b)"
   ]
  },
  {
   "cell_type": "code",
   "execution_count": null,
   "id": "d5ccfc29",
   "metadata": {},
   "outputs": [],
   "source": [
    "a = -100\n",
    "b = -a\n",
    "\n",
    "print(a, b)"
   ]
  },
  {
   "cell_type": "markdown",
   "id": "a5c9154e",
   "metadata": {},
   "source": [
    "### Relational operators"
   ]
  },
  {
   "cell_type": "code",
   "execution_count": null,
   "id": "8494d841",
   "metadata": {},
   "outputs": [],
   "source": [
    "#Relational operators compare two values and return a boolean value true or false depending on the operators specified.\n",
    "# They do not work between datatypes (except integer and float comparison).\n",
    "\n",
    "# We have seen the use of relationship operators between the datatypes String, Lists, Tuples, Dictionaries and Sets\n",
    "# individually during the study of the datatypes. So, here we are only focusing on the use of these operators between\n",
    "# numbers."
   ]
  },
  {
   "cell_type": "code",
   "execution_count": null,
   "id": "67cc8dec",
   "metadata": {},
   "outputs": [],
   "source": [
    "#1. Equality operator == \n",
    "\n",
    "x = 10\n",
    "y = 20\n",
    "\n",
    "print(x==y)\n",
    "\n",
    "#The equality operator is denoted by two = signs (==) and is different from the assigment equal to = operator which is only\n",
    "# one = sign."
   ]
  },
  {
   "cell_type": "code",
   "execution_count": null,
   "id": "252dbe77",
   "metadata": {},
   "outputs": [],
   "source": [
    "x = 10\n",
    "y = 10\n",
    "\n",
    "print(x==y)"
   ]
  },
  {
   "cell_type": "code",
   "execution_count": null,
   "id": "d869e389",
   "metadata": {},
   "outputs": [],
   "source": [
    "#2. Not equals != operator. Checks if value on the left is not equal to value on the right and returns True or False.\n",
    "\n",
    "x = 10\n",
    "y = 20\n",
    "z = 10\n",
    "\n",
    "print(x!=y)"
   ]
  },
  {
   "cell_type": "code",
   "execution_count": null,
   "id": "9c5f9036",
   "metadata": {},
   "outputs": [],
   "source": [
    "print(x != z)"
   ]
  },
  {
   "cell_type": "code",
   "execution_count": null,
   "id": "f8810d1e",
   "metadata": {},
   "outputs": [],
   "source": [
    "print(y!=x)"
   ]
  },
  {
   "cell_type": "code",
   "execution_count": null,
   "id": "8d3fdec6",
   "metadata": {},
   "outputs": [],
   "source": [
    "print(y!=z)"
   ]
  },
  {
   "cell_type": "code",
   "execution_count": null,
   "id": "17f70d5d",
   "metadata": {},
   "outputs": [],
   "source": [
    "#3. Greater than > operator checks if value on the left is greater than value on the right. \n",
    "\n",
    "x = 10\n",
    "y = 20\n",
    "\n",
    "print(x>y)\n",
    "\n"
   ]
  },
  {
   "cell_type": "code",
   "execution_count": null,
   "id": "26f6692e",
   "metadata": {},
   "outputs": [],
   "source": [
    "print(y>x)"
   ]
  },
  {
   "cell_type": "code",
   "execution_count": null,
   "id": "6b88178d",
   "metadata": {},
   "outputs": [],
   "source": [
    "#4. Less than < operator checks if value on the left is less than value on the right. \n",
    "\n",
    "print(x<y)"
   ]
  },
  {
   "cell_type": "code",
   "execution_count": null,
   "id": "3b4f75fd",
   "metadata": {},
   "outputs": [],
   "source": [
    "print(y<x)"
   ]
  },
  {
   "cell_type": "code",
   "execution_count": null,
   "id": "20f0b190",
   "metadata": {},
   "outputs": [],
   "source": [
    "#5. Greater than or equal to >= operator - checks if value on the left is greater than OR equal to value on the right. \n",
    "\n",
    "x = 10\n",
    "y = 20\n",
    "z = 10\n",
    "p = 5\n",
    "\n",
    "print(x>=y)"
   ]
  },
  {
   "cell_type": "code",
   "execution_count": null,
   "id": "144bb069",
   "metadata": {},
   "outputs": [],
   "source": [
    "print(x>=p)"
   ]
  },
  {
   "cell_type": "code",
   "execution_count": null,
   "id": "0e21c5cd",
   "metadata": {},
   "outputs": [],
   "source": [
    "print(x>=z)"
   ]
  },
  {
   "cell_type": "code",
   "execution_count": null,
   "id": "14ef2f6c",
   "metadata": {},
   "outputs": [],
   "source": [
    "#6. less than or equal to <= operator - checks if value on the left is less than OR equal to value on the right. \n",
    "\n",
    "x = 10\n",
    "y = 20\n",
    "z = 10\n",
    "p = 5\n",
    "\n",
    "print(x<=y)"
   ]
  },
  {
   "cell_type": "code",
   "execution_count": null,
   "id": "69adc2a1",
   "metadata": {},
   "outputs": [],
   "source": [
    "print(x<=p)"
   ]
  },
  {
   "cell_type": "code",
   "execution_count": null,
   "id": "fc076b53",
   "metadata": {},
   "outputs": [],
   "source": [
    "print(x<=z)"
   ]
  },
  {
   "cell_type": "code",
   "execution_count": null,
   "id": "09066005",
   "metadata": {},
   "outputs": [],
   "source": [
    "# Relational operators can be 'chained' i.e. multiple relations checked at once. \n",
    "\n",
    "\n",
    "x = 20\n",
    "y = 10\n",
    "z = 10\n",
    "p = 5\n",
    "\n",
    "print(p<=y>z<=x)"
   ]
  },
  {
   "cell_type": "code",
   "execution_count": null,
   "id": "c590949b",
   "metadata": {},
   "outputs": [],
   "source": [
    "print(p<y<=z>x)"
   ]
  },
  {
   "cell_type": "code",
   "execution_count": null,
   "id": "a10f272e",
   "metadata": {},
   "outputs": [],
   "source": [
    "print(p<y<z<x)"
   ]
  },
  {
   "cell_type": "code",
   "execution_count": null,
   "id": "ba5b3903",
   "metadata": {},
   "outputs": [],
   "source": [
    "#However, note that if all the expressions in the chained relationship comparison return True - only then will we get a \n",
    "# True result. If any one of the expressions evaluates to False - the whole chain will return a False. "
   ]
  },
  {
   "cell_type": "code",
   "execution_count": null,
   "id": "fd4f55af",
   "metadata": {},
   "outputs": [],
   "source": [
    "# They are most often used in if - elif - else condition statements. \n",
    "\n",
    "x = 10 ; y = 15\n",
    "\n",
    "if x > y:\n",
    "    print('Greater')\n",
    "else:\n",
    "    print('Less than')"
   ]
  },
  {
   "cell_type": "markdown",
   "id": "998d6acd",
   "metadata": {},
   "source": [
    "### Logical Operators / Boolean Operators"
   ]
  },
  {
   "cell_type": "code",
   "execution_count": null,
   "id": "6c738ee3",
   "metadata": {},
   "outputs": [],
   "source": [
    "# Logical operators are useful to construct compound conditions. A compound condition is a combination of more than one\n",
    "# simple condition. Each of the simple conditions is evaluated to True or False and then the decision is taken to know\n",
    "# whether the total condition is True or False. We should keep in mind that in case of logical operators, False indicates\n",
    "# 0 and True indicates any other number."
   ]
  },
  {
   "cell_type": "code",
   "execution_count": null,
   "id": "fced75bc",
   "metadata": {},
   "outputs": [],
   "source": [
    "and, or, not"
   ]
  },
  {
   "cell_type": "code",
   "execution_count": null,
   "id": "34b99ea4",
   "metadata": {},
   "outputs": [],
   "source": [
    "#not, or, and"
   ]
  },
  {
   "cell_type": "code",
   "execution_count": null,
   "id": "ee9935d2",
   "metadata": {},
   "outputs": [],
   "source": [
    "print(not True)"
   ]
  },
  {
   "cell_type": "code",
   "execution_count": null,
   "id": "2dd676e6",
   "metadata": {},
   "outputs": [],
   "source": [
    "print(not False)"
   ]
  },
  {
   "cell_type": "code",
   "execution_count": null,
   "id": "17d85a14",
   "metadata": {},
   "outputs": [],
   "source": [
    "# True equals 1, False equals 0"
   ]
  },
  {
   "cell_type": "code",
   "execution_count": null,
   "id": "d2f121a3",
   "metadata": {},
   "outputs": [],
   "source": [
    "Zero or empty string or None evaluates to False\n",
    "Non-empty string or Non zero evaluates to True"
   ]
  },
  {
   "cell_type": "code",
   "execution_count": null,
   "id": "e15ba475",
   "metadata": {},
   "outputs": [],
   "source": [
    "print(bool(None))"
   ]
  },
  {
   "cell_type": "code",
   "execution_count": null,
   "id": "cae206d5",
   "metadata": {},
   "outputs": [],
   "source": [
    "# and operator - used with if/else needs BOTH conditions to be True to be considered True"
   ]
  },
  {
   "cell_type": "code",
   "execution_count": null,
   "id": "9a2f1c16",
   "metadata": {},
   "outputs": [],
   "source": [
    "a = True\n",
    "b = True\n",
    "\n",
    "if a or b:\n",
    "    print('At least one of the conditions is True')\n",
    "else:\n",
    "    print('Both conditions are false')\n",
    "\n"
   ]
  },
  {
   "cell_type": "code",
   "execution_count": null,
   "id": "2d9889f6",
   "metadata": {},
   "outputs": [],
   "source": [
    "a = 200\n",
    "b = 100\n",
    "c = 0\n",
    "\n",
    "print(bool(a))\n",
    "print(bool(b))\n",
    "print(bool(c))"
   ]
  },
  {
   "cell_type": "code",
   "execution_count": null,
   "id": "4f3c6832",
   "metadata": {},
   "outputs": [],
   "source": [
    "x = a or b\n",
    "\n"
   ]
  },
  {
   "cell_type": "code",
   "execution_count": null,
   "id": "695c6d12",
   "metadata": {},
   "outputs": [],
   "source": []
  },
  {
   "cell_type": "code",
   "execution_count": null,
   "id": "eff7bcd6",
   "metadata": {},
   "outputs": [],
   "source": []
  },
  {
   "cell_type": "code",
   "execution_count": null,
   "id": "58939f69",
   "metadata": {},
   "outputs": [],
   "source": []
  },
  {
   "cell_type": "code",
   "execution_count": null,
   "id": "ad22c1f4",
   "metadata": {},
   "outputs": [],
   "source": []
  },
  {
   "cell_type": "code",
   "execution_count": null,
   "id": "cca10c97",
   "metadata": {},
   "outputs": [],
   "source": []
  },
  {
   "cell_type": "code",
   "execution_count": null,
   "id": "ac41afbb",
   "metadata": {},
   "outputs": [],
   "source": []
  },
  {
   "cell_type": "code",
   "execution_count": null,
   "id": "6140f627",
   "metadata": {},
   "outputs": [],
   "source": []
  },
  {
   "cell_type": "code",
   "execution_count": null,
   "id": "1780cf51",
   "metadata": {},
   "outputs": [],
   "source": []
  },
  {
   "cell_type": "code",
   "execution_count": null,
   "id": "d2aa73f7",
   "metadata": {},
   "outputs": [],
   "source": [
    "# Non-Empty strings, Non-Zero number - EVALUATES to True\n",
    "# Empty strings, Zero and None - EVALUATE to False"
   ]
  },
  {
   "cell_type": "code",
   "execution_count": null,
   "id": "e48b0edb",
   "metadata": {},
   "outputs": [],
   "source": [
    "x = 10\n",
    "y = 20\n",
    "z = 30\n",
    "\n",
    "if x > y or y > z:\n",
    "    print('True condition')\n",
    "else:\n",
    "    print('False Condition')"
   ]
  },
  {
   "cell_type": "code",
   "execution_count": null,
   "id": "1f06cf78",
   "metadata": {},
   "outputs": [],
   "source": [
    "# and = if both true then true else false\n",
    "# or = if either condition true then true else false\n",
    "# not = if true then false if false then true"
   ]
  },
  {
   "cell_type": "code",
   "execution_count": null,
   "id": "2daf0a60",
   "metadata": {},
   "outputs": [],
   "source": [
    "print('True Condition' if x> y or y > z else 'False condition')"
   ]
  },
  {
   "cell_type": "code",
   "execution_count": null,
   "id": "10ffb025",
   "metadata": {},
   "outputs": [],
   "source": []
  },
  {
   "cell_type": "code",
   "execution_count": null,
   "id": "4e455a3e",
   "metadata": {},
   "outputs": [],
   "source": []
  },
  {
   "cell_type": "code",
   "execution_count": null,
   "id": "b6cadf7e",
   "metadata": {},
   "outputs": [],
   "source": []
  },
  {
   "cell_type": "code",
   "execution_count": null,
   "id": "75ec81ef",
   "metadata": {},
   "outputs": [],
   "source": []
  },
  {
   "cell_type": "code",
   "execution_count": null,
   "id": "7e73f2fc",
   "metadata": {},
   "outputs": [],
   "source": []
  },
  {
   "cell_type": "code",
   "execution_count": null,
   "id": "1288b2a7",
   "metadata": {},
   "outputs": [],
   "source": []
  },
  {
   "cell_type": "code",
   "execution_count": null,
   "id": "79162a3e",
   "metadata": {},
   "outputs": [],
   "source": [
    "#And operator - Applied to two operands - returns value on the left if it is false. Else returns value on right. \n",
    "\n",
    "a = 100\n",
    "b = True\n",
    "c = False\n",
    "d = 0\n",
    "e = 5\n",
    "print(c and b)"
   ]
  },
  {
   "cell_type": "code",
   "execution_count": null,
   "id": "4e8e84d7",
   "metadata": {},
   "outputs": [],
   "source": [
    "a = 100  # True\n",
    "d = 0    # False"
   ]
  },
  {
   "cell_type": "code",
   "execution_count": null,
   "id": "ed0e680e",
   "metadata": {},
   "outputs": [],
   "source": []
  },
  {
   "cell_type": "code",
   "execution_count": null,
   "id": "ffd420fc",
   "metadata": {},
   "outputs": [],
   "source": []
  },
  {
   "cell_type": "code",
   "execution_count": null,
   "id": "c7cef968",
   "metadata": {},
   "outputs": [],
   "source": [
    "a = 10\n",
    "b = 11\n",
    "c = 0\n",
    "d = 20\n",
    "e = False\n",
    "f = ''\n",
    "g = 0\n",
    "\n",
    "print(e and c)"
   ]
  },
  {
   "cell_type": "code",
   "execution_count": null,
   "id": "7e12eca9",
   "metadata": {},
   "outputs": [],
   "source": []
  },
  {
   "cell_type": "code",
   "execution_count": null,
   "id": "fcf218bd",
   "metadata": {},
   "outputs": [],
   "source": []
  },
  {
   "cell_type": "code",
   "execution_count": null,
   "id": "3d85e356",
   "metadata": {},
   "outputs": [],
   "source": []
  },
  {
   "cell_type": "code",
   "execution_count": null,
   "id": "22321e92",
   "metadata": {},
   "outputs": [],
   "source": []
  },
  {
   "cell_type": "code",
   "execution_count": null,
   "id": "c8232552",
   "metadata": {},
   "outputs": [],
   "source": [
    "a = b = True\n",
    "c = False\n",
    "d = True\n",
    "\n",
    "print(a or b)"
   ]
  },
  {
   "cell_type": "code",
   "execution_count": null,
   "id": "ebad4d91",
   "metadata": {},
   "outputs": [],
   "source": [
    "a = 10\n",
    "b = 20\n",
    "c = 0\n",
    "d = False\n",
    "if a:\n",
    "    print('True')\n",
    "else:\n",
    "    print('False')"
   ]
  },
  {
   "cell_type": "code",
   "execution_count": null,
   "id": "a870726b",
   "metadata": {},
   "outputs": [],
   "source": [
    "print(d and a)"
   ]
  },
  {
   "cell_type": "code",
   "execution_count": null,
   "id": "9f740150",
   "metadata": {},
   "outputs": [],
   "source": [
    "x = 10\n",
    "y = 20\n",
    "z = 0\n",
    "\n",
    "print(x and y)"
   ]
  },
  {
   "cell_type": "code",
   "execution_count": null,
   "id": "bd780b8f",
   "metadata": {},
   "outputs": [],
   "source": [
    "print(z and y)"
   ]
  },
  {
   "cell_type": "code",
   "execution_count": null,
   "id": "842117e4",
   "metadata": {},
   "outputs": [],
   "source": [
    "print(y and z)"
   ]
  },
  {
   "cell_type": "code",
   "execution_count": null,
   "id": "49cf5f6c",
   "metadata": {},
   "outputs": [],
   "source": [
    "print(y and x)"
   ]
  },
  {
   "cell_type": "code",
   "execution_count": null,
   "id": "5433da21",
   "metadata": {},
   "outputs": [],
   "source": []
  },
  {
   "cell_type": "code",
   "execution_count": null,
   "id": "aab97454",
   "metadata": {},
   "outputs": [],
   "source": [
    "#Or operator - Applied to two operands - returns value on the left if True, Else returns value on the right. \n",
    "\n",
    "a = 100\n",
    "b = True\n",
    "c = False\n",
    "d = 0\n",
    "\n",
    "\n",
    "print(d or c)"
   ]
  },
  {
   "cell_type": "code",
   "execution_count": null,
   "id": "e7641481",
   "metadata": {},
   "outputs": [],
   "source": [
    "and = Returns value on the left if False. Otherwise value on the right\n",
    "or = Returns value on the left if True. Otherwise value on the right"
   ]
  },
  {
   "cell_type": "code",
   "execution_count": null,
   "id": "7f722d25",
   "metadata": {},
   "outputs": [],
   "source": [
    "a = 10\n",
    "b = 20\n",
    "c = 30\n",
    "d = 0"
   ]
  },
  {
   "cell_type": "code",
   "execution_count": null,
   "id": "d61e8207",
   "metadata": {},
   "outputs": [],
   "source": [
    "#not, or, and\n",
    "\n",
    "a = 100\n",
    "b = 0\n",
    "c = 'Python'\n",
    "d = False\n",
    "print(c and a or b)"
   ]
  },
  {
   "cell_type": "code",
   "execution_count": null,
   "id": "b63e5dcf",
   "metadata": {},
   "outputs": [],
   "source": [
    "print(c and a)"
   ]
  },
  {
   "cell_type": "code",
   "execution_count": null,
   "id": "a4bdace6",
   "metadata": {},
   "outputs": [],
   "source": [
    "print(100 or b)"
   ]
  },
  {
   "cell_type": "code",
   "execution_count": null,
   "id": "4f2e3020",
   "metadata": {},
   "outputs": [],
   "source": [
    "print(c or a and b)"
   ]
  },
  {
   "cell_type": "code",
   "execution_count": null,
   "id": "ea57fa85",
   "metadata": {},
   "outputs": [],
   "source": [
    "print(c and a and b)"
   ]
  },
  {
   "cell_type": "code",
   "execution_count": null,
   "id": "b2f4279b",
   "metadata": {},
   "outputs": [],
   "source": [
    "print((a and b) or (c or d))\n",
    "\n",
    "print(a and b or c or d)"
   ]
  },
  {
   "cell_type": "code",
   "execution_count": null,
   "id": "4eb3fb1c",
   "metadata": {},
   "outputs": [],
   "source": [
    "print((a and b) or c)"
   ]
  },
  {
   "cell_type": "code",
   "execution_count": null,
   "id": "075c1795",
   "metadata": {},
   "outputs": [],
   "source": [
    "print(a and b or c)"
   ]
  },
  {
   "cell_type": "code",
   "execution_count": null,
   "id": "7f7e6626",
   "metadata": {},
   "outputs": [],
   "source": [
    "print(a or b and c and d)"
   ]
  },
  {
   "cell_type": "code",
   "execution_count": null,
   "id": "89f9179b",
   "metadata": {},
   "outputs": [],
   "source": [
    "print(a or (b and (c and d)))"
   ]
  },
  {
   "cell_type": "code",
   "execution_count": null,
   "id": "116a73d7",
   "metadata": {},
   "outputs": [],
   "source": [
    "print(b and c and d or a)"
   ]
  },
  {
   "cell_type": "code",
   "execution_count": null,
   "id": "f088c82e",
   "metadata": {},
   "outputs": [],
   "source": [
    "1. C is true. Then it stops right here and gives value of c. \n",
    "2. c is False - then it needs to check d. But irrespective of whether d is true or false - it has to stop here and will give\n",
    "value of d. "
   ]
  },
  {
   "cell_type": "code",
   "execution_count": null,
   "id": "eeedfad6",
   "metadata": {},
   "outputs": [],
   "source": [
    "print(b or a)"
   ]
  },
  {
   "cell_type": "code",
   "execution_count": null,
   "id": "0c9b7b42",
   "metadata": {},
   "outputs": [],
   "source": [
    "print(b or c)"
   ]
  },
  {
   "cell_type": "code",
   "execution_count": null,
   "id": "9243653e",
   "metadata": {},
   "outputs": [],
   "source": [
    "print(c or c)"
   ]
  },
  {
   "cell_type": "code",
   "execution_count": null,
   "id": "c5d8a01d",
   "metadata": {},
   "outputs": [],
   "source": [
    "print(0 or False)"
   ]
  },
  {
   "cell_type": "code",
   "execution_count": null,
   "id": "75d1e311",
   "metadata": {},
   "outputs": [],
   "source": [
    "x = 10\n",
    "y = 20\n",
    "z = 0\n",
    "p = 0.0"
   ]
  },
  {
   "cell_type": "code",
   "execution_count": null,
   "id": "525bf28f",
   "metadata": {},
   "outputs": [],
   "source": [
    "print(x or y)"
   ]
  },
  {
   "cell_type": "code",
   "execution_count": null,
   "id": "ad59a372",
   "metadata": {},
   "outputs": [],
   "source": [
    "print(z or y)"
   ]
  },
  {
   "cell_type": "code",
   "execution_count": null,
   "id": "cc56cbaf",
   "metadata": {},
   "outputs": [],
   "source": [
    "print(y or z)"
   ]
  },
  {
   "cell_type": "code",
   "execution_count": null,
   "id": "23530194",
   "metadata": {},
   "outputs": [],
   "source": [
    "print(z or p)"
   ]
  },
  {
   "cell_type": "code",
   "execution_count": null,
   "id": "b5c022a0",
   "metadata": {},
   "outputs": [],
   "source": [
    "print(z or p)"
   ]
  },
  {
   "cell_type": "code",
   "execution_count": null,
   "id": "6d55ad96",
   "metadata": {},
   "outputs": [],
   "source": []
  },
  {
   "cell_type": "code",
   "execution_count": null,
   "id": "25b170b8",
   "metadata": {},
   "outputs": [],
   "source": []
  },
  {
   "cell_type": "code",
   "execution_count": null,
   "id": "ec4ae577",
   "metadata": {},
   "outputs": [],
   "source": [
    "#Not operator - Applied on one operand and returns opposite of the boolean value of the operand\n",
    "\n",
    "a = b = True\n",
    "c = False\n",
    "\n",
    "print(not 5>20)"
   ]
  },
  {
   "cell_type": "code",
   "execution_count": null,
   "id": "68cfb8dc",
   "metadata": {},
   "outputs": [],
   "source": [
    "print(not b)"
   ]
  },
  {
   "cell_type": "code",
   "execution_count": null,
   "id": "68a82394",
   "metadata": {},
   "outputs": [],
   "source": [
    "print(not c)"
   ]
  },
  {
   "cell_type": "code",
   "execution_count": null,
   "id": "dc22abef",
   "metadata": {},
   "outputs": [],
   "source": [
    "print(x)"
   ]
  },
  {
   "cell_type": "code",
   "execution_count": null,
   "id": "2734487f",
   "metadata": {},
   "outputs": [],
   "source": [
    "print(not x)"
   ]
  },
  {
   "cell_type": "code",
   "execution_count": null,
   "id": "49b5af1f",
   "metadata": {},
   "outputs": [],
   "source": [
    "print(y)"
   ]
  },
  {
   "cell_type": "code",
   "execution_count": null,
   "id": "3745ffb1",
   "metadata": {},
   "outputs": [],
   "source": [
    "\n",
    "\n",
    "print(not y)"
   ]
  },
  {
   "cell_type": "code",
   "execution_count": null,
   "id": "a347ce5a",
   "metadata": {},
   "outputs": [],
   "source": [
    "z = 1\n",
    "\n",
    "print(z)"
   ]
  },
  {
   "cell_type": "code",
   "execution_count": null,
   "id": "804535b4",
   "metadata": {},
   "outputs": [],
   "source": [
    "print(not z)\n"
   ]
  },
  {
   "cell_type": "code",
   "execution_count": null,
   "id": "090f672c",
   "metadata": {},
   "outputs": [],
   "source": [
    "(cond1   and      cond2)  or        cond3"
   ]
  },
  {
   "cell_type": "code",
   "execution_count": null,
   "id": "1c5bbc4c",
   "metadata": {},
   "outputs": [],
   "source": [
    "#Logical operators can also be chained\n",
    "\n",
    "# The order of precedence is - Not, or, and - in this order.\n",
    "\n",
    "p = 0\n",
    "q = 10\n",
    "r = 20 \n",
    "s = 30\n",
    "\n",
    "print(q and p and s) # First evaluates the first and condition. If True, moves on to evaluate the 2nd and condition and \n",
    "# returns this value. If not, then as rules for only two operands - returns q if q is false, else r. "
   ]
  },
  {
   "cell_type": "code",
   "execution_count": null,
   "id": "579b6560",
   "metadata": {},
   "outputs": [],
   "source": [
    "print(q and r and p) # First evaluates the first and condition. If True, moves on to evaluate the 2nd and condition and \n",
    "# returns the value. If not, then as rules for and operator for only two operands - returns q if q is false, else r. \n"
   ]
  },
  {
   "cell_type": "code",
   "execution_count": null,
   "id": "23a14daa",
   "metadata": {},
   "outputs": [],
   "source": [
    "p = 0\n",
    "q = 10\n",
    "r = 20\n",
    "s = 30\n",
    "\n",
    "print(q and p and r) # First evaluates the first and condition. If True, moves on to evaluate the 2nd and condition and\n",
    "# returns the value. If not, then as rules for and operator for only two operands - returns q if q is false, else r. \n",
    "\n"
   ]
  },
  {
   "cell_type": "code",
   "execution_count": null,
   "id": "8ea7de4e",
   "metadata": {},
   "outputs": [],
   "source": [
    "p = 0\n",
    "q = 10\n",
    "r = 20\n",
    "s = 30\n",
    "\n",
    "print(s and q and r) # First evaluates the first and condition. If True, moves on to evaluate the 2nd and condition and\n",
    "# returns the value. If not, then as rules for and operator for only two operands - returns q if q is false, else r. \n",
    "\n"
   ]
  },
  {
   "cell_type": "code",
   "execution_count": null,
   "id": "85fddda7",
   "metadata": {},
   "outputs": [],
   "source": [
    "p = s = 0\n",
    "q = 10\n",
    "r = 20\n",
    "\n",
    "\n",
    "print(s or q or p) # First evaluates the first or condition. If either of the operands return True, then returns the first\n",
    "# operand that returned True, else returns the result of the second or condition. \n",
    "\n",
    "\n"
   ]
  },
  {
   "cell_type": "code",
   "execution_count": null,
   "id": "7be7ff65",
   "metadata": {},
   "outputs": [],
   "source": [
    "print(q or p or r) # First evaluates the first or condition. If either of the operands return True, then returns the first\n",
    "# operand that returned True, else returns the result of the second or condition. \n"
   ]
  },
  {
   "cell_type": "code",
   "execution_count": null,
   "id": "ee86e1e9",
   "metadata": {},
   "outputs": [],
   "source": [
    "p = s = 0\n",
    "q = 10\n",
    "r = 20\n",
    "\n",
    "print(p or s or r) # First evaluates the first or condition. If either of the operands return True, then returns the first\n",
    "# operand that returned True, else returns the result of the second or condition. \n"
   ]
  },
  {
   "cell_type": "code",
   "execution_count": null,
   "id": "78e2eb68",
   "metadata": {},
   "outputs": [],
   "source": [
    "p = s = False\n",
    "t = 0\n",
    "q = 10\n",
    "\n",
    "print(p or s or t) # First evaluates the first or condition. If either of the operands return True, then returns the first\n",
    "# operand that returned True, else returns the result of the second or condition. \n"
   ]
  },
  {
   "cell_type": "code",
   "execution_count": null,
   "id": "5599ee08",
   "metadata": {},
   "outputs": [],
   "source": [
    "p = s = False\n",
    "t = 0\n",
    "q = 20\n",
    "u = True\n",
    "v = 30\n",
    "\n",
    "print(q and u or v) #As per order precedence, needs to evaluate if the or condition first. However, since the FIRST operand\n",
    "# operand on left is itself a logical operand - needs to evaluate that based on the rules for the respective logical operator."
   ]
  },
  {
   "cell_type": "code",
   "execution_count": null,
   "id": "ee6e1a16",
   "metadata": {},
   "outputs": [],
   "source": [
    "print(q and s or v) #As per order precedence, needs to evaluate if the or condition first. However, since the FIRST operand\n",
    "# on left is itself a logical operand - needs to evaluate that based on the rules for the respective logical operator."
   ]
  },
  {
   "cell_type": "code",
   "execution_count": null,
   "id": "05048903",
   "metadata": {},
   "outputs": [],
   "source": [
    "print(1 or 1 and 0)"
   ]
  },
  {
   "cell_type": "code",
   "execution_count": null,
   "id": "19a3e0f4",
   "metadata": {},
   "outputs": [],
   "source": [
    "p = s = False\n",
    "t = 0\n",
    "q = 10\n",
    "u = 20\n",
    "v = 30\n",
    "\n",
    "\n",
    "\n",
    "print(t or v and q) # #As per order precedence, needs to evaluate the or condition first. Since, q is already true it\n",
    "# returns value of q."
   ]
  },
  {
   "cell_type": "code",
   "execution_count": null,
   "id": "c9d44f18",
   "metadata": {},
   "outputs": [],
   "source": [
    "#print(q and u or v) # As per order precedence, needs to evaluate the or condition first. Since, t is false, it moves on to\n",
    "# evaluating - u and v(as the right side operand of the or condition). As per the logical operator rules, it returns the \n",
    "# value on the right if the left value is true. If the value on the left of the logical and operator is false, then returns\n",
    "# that value. \n",
    "\n",
    "print(q, u, v)\n",
    "\n",
    "z = print(q) and print(u) or print(v)\n",
    "\n"
   ]
  },
  {
   "cell_type": "code",
   "execution_count": null,
   "id": "16a631bd",
   "metadata": {},
   "outputs": [],
   "source": [
    "p = s = False\n",
    "t = 0\n",
    "q = 10\n",
    "u = 20\n",
    "v = 30\n",
    "\n",
    "print(q and v and s or t or u and q) # As per order precedence, needs to evaluate the or condition first. Since, t is false, it moves on to\n",
    "# evaluating - u and v(as the right side operand of the or condition). As per the logical operator rules, it returns the \n",
    "# value on the right if the first value is true. If the value on the left of the logical and operator is false, then returns\n",
    "# that value."
   ]
  },
  {
   "cell_type": "code",
   "execution_count": null,
   "id": "4e350b85",
   "metadata": {},
   "outputs": [],
   "source": [
    "p = s = False\n",
    "t = 0\n",
    "q = 10\n",
    "u = 20\n",
    "v = 30\n",
    "\n",
    "print(s or not t)"
   ]
  },
  {
   "cell_type": "code",
   "execution_count": null,
   "id": "8ae5b450",
   "metadata": {},
   "outputs": [],
   "source": [
    "print(not t or s)"
   ]
  },
  {
   "cell_type": "code",
   "execution_count": null,
   "id": "729ad87b",
   "metadata": {},
   "outputs": [],
   "source": [
    "print(q or not t)"
   ]
  },
  {
   "cell_type": "code",
   "execution_count": null,
   "id": "decc59d8",
   "metadata": {},
   "outputs": [],
   "source": [
    "print(s or not t)"
   ]
  },
  {
   "cell_type": "code",
   "execution_count": null,
   "id": "6ef78bd3",
   "metadata": {},
   "outputs": [],
   "source": [
    "p = s = False\n",
    "t = 0\n",
    "q = 10\n",
    "u = 20\n",
    "v = 30\n",
    "\n",
    "print(not t or q)"
   ]
  },
  {
   "cell_type": "code",
   "execution_count": null,
   "id": "6ea69754",
   "metadata": {},
   "outputs": [],
   "source": [
    "print(not q or v)\n",
    "\n",
    "print([1,2,3] and 'string')"
   ]
  },
  {
   "cell_type": "code",
   "execution_count": null,
   "id": "af30b6b1",
   "metadata": {},
   "outputs": [],
   "source": [
    "# Logical operators are often used with if - elif - else conditions:\n",
    "\n",
    "p = s = False ; t = 0 ; q = 10 ; u = 20 ; v = 30\n",
    "\n",
    "if q:\n",
    "    print('If condition is True')\n",
    "elif u:\n",
    "    print('1st Elif condition is True')\n",
    "elif s:\n",
    "    print('This 2nd elif condition will not be entered till the elif evaluates to True')\n",
    "else:\n",
    "    print('''I will be printed if the 1st if condition and the 2 elif conditions are false. Note how there is no \n",
    "    condition on the else statement. Else statement is a catch all - if all the if and elif statements dont work THEN\n",
    "    the else condition comes into play. We can have if without elif and else. We can have if + elif(s) without else. But\n",
    "    in an if block we cannot have else without the if. (We can have else as part of a for loop - more on that later)''')"
   ]
  },
  {
   "cell_type": "code",
   "execution_count": null,
   "id": "306522c7",
   "metadata": {},
   "outputs": [],
   "source": [
    "p = s = False ; t = 0 ; q = 10 ; u = 20 ; v = 30\n",
    "\n",
    "if t:\n",
    "    print('If condition is True')\n",
    "elif u:\n",
    "    print('1st Elif condition is True')\n",
    "elif s:\n",
    "    print('This 2nd elif condition will not be entered till the elif evaluates to True')\n",
    "else:\n",
    "    print('''I will be printed if the 1st if condition and the 2 elif conditions are false. Note how there is no \n",
    "    condition on the else statement. Else statement is a catch all - if all the if and elif statements dont work THEN\n",
    "    the else condition comes into play. We can have if without elif and else. We can have if + elif(s) without else. But\n",
    "    in an if block we cannot have else without the if. (We can have else as part of a for loop - more on that later)''')"
   ]
  },
  {
   "cell_type": "code",
   "execution_count": null,
   "id": "b52720e2",
   "metadata": {},
   "outputs": [],
   "source": [
    "p = s = False ; t = 0 ; q = 10 ; u = 20 ; v = 30\n",
    "\n",
    "if p:\n",
    "    print('If condition is True')\n",
    "elif s:\n",
    "    print('1st Elif condition is True')\n",
    "elif t:\n",
    "    print('This 2nd elif condition will not be entered till the elif evaluates to True')\n",
    "else:\n",
    "    print('''I will be printed if the 1st if condition and the 2 elif conditions are false. Note how there is no \n",
    "    condition on the else statement. Else statement is a catch all - if all the if and elif statements dont work THEN\n",
    "    the else condition comes into play. We can have if without elif and else. We can have if + elif(s) without else. But\n",
    "    in an if block we cannot have else without the if. (We can have else as part of a for loop - more on that later)''')"
   ]
  },
  {
   "cell_type": "code",
   "execution_count": null,
   "id": "35875b2b",
   "metadata": {},
   "outputs": [],
   "source": [
    "p = s = False ; t = 0 ; q = 10 ; u = 20 ; v = 30\n",
    "\n",
    "if p:\n",
    "    print('If condition is True')\n",
    "elif s:\n",
    "    print('1st Elif condition is True')\n",
    "elif q:\n",
    "    print('This 2nd elif condition will not be entered till the elif evaluates to True')\n",
    "else:\n",
    "    print('''I will be printed if the 1st if condition and the 2 elif conditions are false. Note how there is no \n",
    "    condition on the else statement. Else statement is a catch all - if all the if and elif statements dont work THEN\n",
    "    the else condition comes into play. We can have if without elif and else. We can have if + elif(s) without else. But\n",
    "    in an if block we cannot have else without the if. (We can have else as part of a for loop - more on that later)''')"
   ]
  },
  {
   "cell_type": "code",
   "execution_count": null,
   "id": "374ba604",
   "metadata": {},
   "outputs": [],
   "source": [
    "p = s = 0 ; t = 0 ; q = 10 ; u = 20 ; v = 30\n",
    "\n",
    "if p > t:\n",
    "    print('If condition is True')\n",
    "elif u:\n",
    "    print('1st Elif condition is True')\n",
    "elif q:\n",
    "    print('This 2nd elif condition will not be entered till the elif evaluates to True')\n",
    "else:\n",
    "    print('''I will be printed if the 1st if condition and the 2 elif conditions are false. Note how there is no \n",
    "    condition on the else statement. Else statement is a catch all - if all the if and elif statements dont work THEN\n",
    "    the else condition comes into play. We can have if without elif and else. We can have if + elif(s) without else. But\n",
    "    in an if block we cannot have else without the if. (We can have else as part of a for loop - more on that later)''')"
   ]
  },
  {
   "cell_type": "code",
   "execution_count": null,
   "id": "c403bc7f",
   "metadata": {},
   "outputs": [],
   "source": [
    "p = s = 100 ; t = 0 ; q = 10 ; u = 20 ; v = 30\n",
    "\n",
    "if p < t:\n",
    "    print('If condition is True')\n",
    "elif s:\n",
    "    print('1st Elif condition is True')\n",
    "elif q:\n",
    "    print('This 2nd elif condition will not be entered till the elif evaluates to True')\n",
    "else:\n",
    "    print('''I will be printed if the 1st if condition and the 2 elif conditions are false. Note how there is no \n",
    "    condition on the else statement. Else statement is a catch all - if all the if and elif statements dont work THEN\n",
    "    the else condition comes into play. We can have if without elif and else. We can have if + elif(s) without else. But\n",
    "    in an if block we cannot have else without the if. (We can have else as part of a for loop - more on that later)''')"
   ]
  },
  {
   "cell_type": "code",
   "execution_count": null,
   "id": "6710e272",
   "metadata": {},
   "outputs": [],
   "source": [
    "p = s = 100 ; t = 0 ; q = 10 ; u = 20 ; v = 30\n",
    "\n",
    "if p < t:\n",
    "    print('If condition is True')\n",
    "elif s>=t:\n",
    "    print('1st Elif condition is True')\n",
    "elif t > p:\n",
    "    print('This 2nd elif condition will not be entered till the elif evaluates to True')\n",
    "else:\n",
    "    print('''I will be printed if the 1st if condition and the 2 elif conditions are false. Note how there is no \n",
    "    condition on the else statement. Else statement is a catch all - if all the if and elif statements dont work THEN\n",
    "    the else condition comes into play. We can have if without elif and else. We can have if + elif(s) without else. But\n",
    "    in an if block we cannot have else without the if. (We can have else as part of a for loop - more on that later)''')"
   ]
  },
  {
   "cell_type": "code",
   "execution_count": null,
   "id": "d13da8e5",
   "metadata": {},
   "outputs": [],
   "source": [
    "p = s = 100 ; t = 0 ; q = 10 ; u = 20 ; v = 30\n",
    "\n",
    "if p < t:\n",
    "    print('If condition is True')\n",
    "elif s<=t:\n",
    "    print('1st Elif condition is True')\n",
    "elif t > p:\n",
    "    print('This 2nd elif condition will not be entered till the elif evaluates to True')\n",
    "else:\n",
    "    print('''I will be printed if the 1st if condition and the 2 elif conditions are false. Note how there is no \n",
    "    condition on the else statement. Else statement is a catch all - if all the if and elif statements dont work THEN\n",
    "    the else condition comes into play. We can have if without elif and else. We can have if + elif(s) without else. But\n",
    "    in an if block we cannot have else without the if. (We can have else as part of a for loop - more on that later)''')"
   ]
  },
  {
   "cell_type": "code",
   "execution_count": null,
   "id": "c888c156",
   "metadata": {},
   "outputs": [],
   "source": [
    "p = s = 100 ; t = 0 ; q = 10 ; u = 20 ; v = 30\n",
    "\n",
    "if p < t:\n",
    "    print('If condition is True')\n",
    "elif s<=t:\n",
    "    print('1st Elif condition is True')\n",
    "elif t < p:\n",
    "    print('This 2nd elif condition will not be entered till the elif evaluates to True')\n",
    "else:\n",
    "    print('''I will be printed if the 1st if condition and the 2 elif conditions are false. Note how there is no \n",
    "    condition on the else statement. Else statement is a catch all - if all the if and elif statements dont work THEN\n",
    "    the else condition comes into play. We can have if without elif and else. We can have if + elif(s) without else. But\n",
    "    in an if block we cannot have else without the if. (We can have else as part of a for loop - more on that later)''')"
   ]
  },
  {
   "cell_type": "code",
   "execution_count": null,
   "id": "38ab778e",
   "metadata": {},
   "outputs": [],
   "source": [
    "p = s = 100 ; t = 0 ; q = 10 ; u = 20 ; v = 30\n",
    "\n",
    "if p > t and q > t:\n",
    "    print('If condition is True')\n",
    "elif s>=t:\n",
    "    print('1st Elif condition is True')\n",
    "elif t > p:\n",
    "    print('This 2nd elif condition will not be entered till the elif evaluates to True')\n",
    "else:\n",
    "    print('''I will be printed if the 1st if condition and the 2 elif conditions are false. Note how there is no \n",
    "    condition on the else statement. Else statement is a catch all - if all the if and elif statements dont work THEN\n",
    "    the else condition comes into play. We can have if without elif and else. We can have if + elif(s) without else. But\n",
    "    in an if block we cannot have else without the if. (We can have else as part of a for loop - more on that later)''')"
   ]
  },
  {
   "cell_type": "code",
   "execution_count": null,
   "id": "340c6cc7",
   "metadata": {},
   "outputs": [],
   "source": [
    "p = s = 100 ; t = 0 ; q = 10 ; u = 20 ; v = 30\n",
    "\n",
    "if p > t or q > t:\n",
    "    print('If condition is True')\n",
    "elif s>=t:\n",
    "    print('1st Elif condition is True')\n",
    "elif t > p:\n",
    "    print('This 2nd elif condition will not be entered till the elif evaluates to True')\n",
    "else:\n",
    "    print('''I will be printed if the 1st if condition and the 2 elif conditions are false. Note how there is no \n",
    "    condition on the else statement. Else statement is a catch all - if all the if and elif statements dont work THEN\n",
    "    the else condition comes into play. We can have if without elif and else. We can have if + elif(s) without else. But\n",
    "    in an if block we cannot have else without the if. (We can have else as part of a for loop - more on that later)''')"
   ]
  },
  {
   "cell_type": "code",
   "execution_count": null,
   "id": "bcc28a93",
   "metadata": {},
   "outputs": [],
   "source": [
    "p = s = 100 ; t = 0 ; q = 10 ; u = 20 ; v = 30\n",
    "\n",
    "if p > t or q > t:\n",
    "    print('If condition is True')\n",
    "elif s>=t:\n",
    "    print('1st Elif condition is True')\n",
    "elif t > p:\n",
    "    print('This 2nd elif condition will not be entered till the elif evaluates to True')\n",
    "else:\n",
    "    print('''I will be printed if the 1st if condition and the 2 elif conditions are false. Note how there is no \n",
    "    condition on the else statement. Else statement is a catch all - if all the if and elif statements dont work THEN\n",
    "    the else condition comes into play. We can have if without elif and else. We can have if + elif(s) without else. But\n",
    "    in an if block we cannot have else without the if. (We can have else as part of a for loop - more on that later)''')"
   ]
  },
  {
   "cell_type": "code",
   "execution_count": null,
   "id": "5694d88a",
   "metadata": {},
   "outputs": [],
   "source": [
    "p = s = 100 ; t = 0 ; q = 10 ; u = 20 ; v = 30\n",
    "\n",
    "if p < t or q < t:\n",
    "    print('If condition is True')\n",
    "elif s>=t or t > p:\n",
    "    print('1st Elif condition is True')\n",
    "elif t > p:\n",
    "    print('This 2nd elif condition will not be entered till the elif evaluates to True')\n",
    "else:\n",
    "    print('''I will be printed if the 1st if condition and the 2 elif conditions are false. Note how there is no \n",
    "    condition on the else statement. Else statement is a catch all - if all the if and elif statements dont work THEN\n",
    "    the else condition comes into play. We can have if without elif and else. We can have if + elif(s) without else. But\n",
    "    in an if block we cannot have else without the if. (We can have else as part of a for loop - more on that later)''')"
   ]
  },
  {
   "cell_type": "code",
   "execution_count": null,
   "id": "346aa170",
   "metadata": {},
   "outputs": [],
   "source": [
    "p = s = 100 ; t = 0 ; q = 10 ; u = 20 ; v = 30\n",
    "\n",
    "if p < t or q < t:\n",
    "    print('If condition is True')\n",
    "elif s<=t or t > p:\n",
    "    print('1st Elif condition is True')\n",
    "elif t < p and v > q:\n",
    "    print('This 2nd elif condition will not be entered till the elif evaluates to True')\n",
    "else:\n",
    "    print('''I will be printed if the 1st if condition and the 2 elif conditions are false. Note how there is no \n",
    "    condition on the else statement. Else statement is a catch all - if all the if and elif statements dont work THEN\n",
    "    the else condition comes into play. We can have if without elif and else. We can have if + elif(s) without else. But\n",
    "    in an if block we cannot have else without the if. (We can have else as part of a for loop - more on that later)''')"
   ]
  },
  {
   "cell_type": "code",
   "execution_count": null,
   "id": "c6ffb2df",
   "metadata": {},
   "outputs": [],
   "source": [
    "p = s = 100 ; t = 0 ; q = 10 ; u = 20 ; v = 30\n",
    "\n",
    "if p < t or q < t:\n",
    "    print('If condition is True')\n",
    "elif s<=t or t > p:\n",
    "    print('1st Elif condition is True')\n",
    "elif t < p and v < q:\n",
    "    print('This 2nd elif condition will not be entered till the elif evaluates to True')\n",
    "else:\n",
    "    print('''I will be printed if the 1st if condition and the 2 elif conditions are false. Note how there is no \n",
    "    condition on the else statement. Else statement is a catch all - if all the if and elif statements dont work THEN\n",
    "    the else condition comes into play. We can have if without elif and else. We can have if + elif(s) without else. But\n",
    "    in an if block we cannot have else without the if. (We can have else as part of a for loop - more on that later)''')"
   ]
  },
  {
   "cell_type": "markdown",
   "id": "560b05a3",
   "metadata": {},
   "source": [
    "### Ternary operators"
   ]
  },
  {
   "cell_type": "code",
   "execution_count": null,
   "id": "b0d1ee59",
   "metadata": {},
   "outputs": [],
   "source": [
    "# From Python 2.5, Python also allows ternary operators which are conditional expressions which allow testing conditions\n",
    "# in a single line of code. "
   ]
  },
  {
   "cell_type": "code",
   "execution_count": null,
   "id": "a14f567b",
   "metadata": {},
   "outputs": [],
   "source": [
    "p = s = 100 ; t = 0 ; q = 10 ; u = 20 ; v = 30\n"
   ]
  },
  {
   "cell_type": "code",
   "execution_count": null,
   "id": "db9697bf",
   "metadata": {},
   "outputs": [],
   "source": [
    "if s < t:\n",
    "    print(s)\n",
    "else:\n",
    "    print(u)"
   ]
  },
  {
   "cell_type": "code",
   "execution_count": null,
   "id": "2b0cc2ac",
   "metadata": {},
   "outputs": [],
   "source": [
    "p = s = 100 ; t = 0 ; q = 10 ; u = 20 ; v = 30\n",
    "\n",
    "print(s if s < t else u)"
   ]
  },
  {
   "cell_type": "code",
   "execution_count": null,
   "id": "2942233d",
   "metadata": {},
   "outputs": [],
   "source": [
    "print(s if s < t else u)"
   ]
  },
  {
   "cell_type": "code",
   "execution_count": null,
   "id": "c4308ff1",
   "metadata": {},
   "outputs": [],
   "source": [
    "num1 = 10\n",
    "num2 = 10\n",
    "\n",
    "print('is greater' if num1>num2 else 'is less than' if num1<num2 else 'is equal')"
   ]
  },
  {
   "cell_type": "code",
   "execution_count": null,
   "id": "04a8b859",
   "metadata": {},
   "outputs": [],
   "source": [
    "print(s if s>t else t)"
   ]
  },
  {
   "cell_type": "code",
   "execution_count": null,
   "id": "d740d40e",
   "metadata": {},
   "outputs": [],
   "source": [
    "# We cannot use elif in ternary operators but we could use chained ternary operators to achieve a desired result. "
   ]
  },
  {
   "cell_type": "code",
   "execution_count": null,
   "id": "9292dd28",
   "metadata": {},
   "outputs": [],
   "source": [
    "s = 10\n",
    "\n",
    "if s >0: \n",
    "    print('Positive')\n",
    "elif s < 0:\n",
    "    print('Negative')\n",
    "else:\n",
    "    print('Is zero')\n",
    "    \n",
    "\n"
   ]
  },
  {
   "cell_type": "code",
   "execution_count": null,
   "id": "b2bbd2f3",
   "metadata": {},
   "outputs": [],
   "source": [
    "s = -10\n",
    "\n",
    "if s >0: \n",
    "    print('Positive')\n",
    "elif s < 0:\n",
    "    print('Negative')\n",
    "else:\n",
    "    print('Is zero')\n",
    "    \n",
    "\n"
   ]
  },
  {
   "cell_type": "code",
   "execution_count": null,
   "id": "1c9d8563",
   "metadata": {},
   "outputs": [],
   "source": [
    "s = 0\n",
    "\n",
    "if s >0: \n",
    "    print('Positive')\n",
    "elif s < 0:\n",
    "    print('Negative')\n",
    "else:\n",
    "    print('Is zero')"
   ]
  },
  {
   "cell_type": "code",
   "execution_count": null,
   "id": "d0d28f00",
   "metadata": {},
   "outputs": [],
   "source": [
    "s = -2\n",
    "\n",
    "print('Positive') if s > 0 else print('Negative') if s < 0 else print('Is Zero')"
   ]
  },
  {
   "cell_type": "code",
   "execution_count": null,
   "id": "0e0c336e",
   "metadata": {},
   "outputs": [],
   "source": [
    "s = -10\n",
    "\n",
    "print('Positive') if s > 0 else print('Negative') if s < 0 else print('Is Zero')"
   ]
  },
  {
   "cell_type": "code",
   "execution_count": null,
   "id": "15a8d08b",
   "metadata": {},
   "outputs": [],
   "source": [
    "s = 0\n",
    "\n",
    "print('Positive') if s > 0 else print('Negative') if s < 0 else print('Is Zero')"
   ]
  },
  {
   "cell_type": "code",
   "execution_count": null,
   "id": "0723ee04",
   "metadata": {},
   "outputs": [],
   "source": [
    "s = 0\n",
    "x = -1\n",
    "\n",
    "print('Win') if s > 0 or s > x else print('Lose') if s < 0 else print('Draw')"
   ]
  },
  {
   "cell_type": "code",
   "execution_count": null,
   "id": "05c67c59",
   "metadata": {},
   "outputs": [],
   "source": [
    "s = 0\n",
    "x = -1\n",
    "\n",
    "print('Win') if s > 0 and s > x else print('Lose') if s < x else print('Draw')"
   ]
  },
  {
   "cell_type": "code",
   "execution_count": null,
   "id": "275b8b95",
   "metadata": {},
   "outputs": [],
   "source": [
    "s = -1\n",
    "x = 0\n",
    "\n",
    "print('Win') if s > 0 or s > x else print('Lose') if s < x else print('Draw')"
   ]
  },
  {
   "cell_type": "code",
   "execution_count": null,
   "id": "991b3c93",
   "metadata": {},
   "outputs": [],
   "source": [
    "print('Hi' if \"\" else 'Just doing time pass')"
   ]
  },
  {
   "cell_type": "markdown",
   "id": "f7af5538",
   "metadata": {},
   "source": [
    "### Membership operators"
   ]
  },
  {
   "cell_type": "code",
   "execution_count": null,
   "id": "555e8d45",
   "metadata": {},
   "outputs": [],
   "source": [
    "# Membership operators in and not in check for membership of an element in a sequential datatype(such as strings, lists, \n",
    "# tuple, dictionaries or sets)\n",
    "\n",
    "a = 'a'\n",
    "str1 = 'Python is great'\n",
    "list1 = list('Python is great')\n",
    "tup1 = tuple('Python is great')\n",
    "dict1 = dict.fromkeys(list1, 1)\n",
    "set1 = set('Python is great')\n",
    "\n",
    "print(str1)\n",
    "print(list1)\n",
    "\n",
    "\n"
   ]
  },
  {
   "cell_type": "code",
   "execution_count": null,
   "id": "ffdba23b",
   "metadata": {},
   "outputs": [],
   "source": [
    "print(a)"
   ]
  },
  {
   "cell_type": "code",
   "execution_count": null,
   "id": "4fee1f8c",
   "metadata": {},
   "outputs": [],
   "source": [
    "print(str1)"
   ]
  },
  {
   "cell_type": "code",
   "execution_count": null,
   "id": "c46ee534",
   "metadata": {},
   "outputs": [],
   "source": [
    "print(\"p\" in str1)"
   ]
  },
  {
   "cell_type": "code",
   "execution_count": null,
   "id": "ee108dac",
   "metadata": {},
   "outputs": [],
   "source": [
    "print('p' in list1)"
   ]
  },
  {
   "cell_type": "code",
   "execution_count": null,
   "id": "e309a61a",
   "metadata": {},
   "outputs": [],
   "source": [
    "a = 'P'"
   ]
  },
  {
   "cell_type": "code",
   "execution_count": null,
   "id": "d0f46495",
   "metadata": {},
   "outputs": [],
   "source": [
    "print(a not in list1)\n",
    "print(a in tup1)"
   ]
  },
  {
   "cell_type": "code",
   "execution_count": null,
   "id": "d704726f",
   "metadata": {},
   "outputs": [],
   "source": [
    "print(a in dict1)"
   ]
  },
  {
   "cell_type": "code",
   "execution_count": null,
   "id": "2297e9bc",
   "metadata": {},
   "outputs": [],
   "source": [
    "print(a in dict1.keys())"
   ]
  },
  {
   "cell_type": "code",
   "execution_count": null,
   "id": "ba1feca2",
   "metadata": {},
   "outputs": [],
   "source": [
    "print(a in dict1.values())"
   ]
  },
  {
   "cell_type": "code",
   "execution_count": null,
   "id": "c8717c31",
   "metadata": {},
   "outputs": [],
   "source": [
    "print(a in set1)"
   ]
  },
  {
   "cell_type": "code",
   "execution_count": null,
   "id": "77957769",
   "metadata": {},
   "outputs": [],
   "source": [
    "a = 'x'\n",
    "\n",
    "print(a in str1)\n",
    "print(a in list1)\n",
    "print(a in tup1)\n",
    "print(a in dict1)\n",
    "print(a in dict1.keys())\n",
    "print(a in dict1.values())\n",
    "print(a in set1)"
   ]
  },
  {
   "cell_type": "code",
   "execution_count": null,
   "id": "3f32f981",
   "metadata": {},
   "outputs": [],
   "source": [
    "a = 'a'\n",
    "\n",
    "print(a not in str1)\n",
    "print(a not in list1)\n",
    "print(a not in tup1)\n",
    "print(a not in dict1)\n",
    "print(a not in dict1.keys())\n",
    "print(a not in dict1.values())\n",
    "print(a not in set1)"
   ]
  },
  {
   "cell_type": "code",
   "execution_count": null,
   "id": "c229cf01",
   "metadata": {},
   "outputs": [],
   "source": [
    "a = 'x'\n",
    "\n",
    "print(a not in str1)\n",
    "print(a not in list1)\n",
    "print(a not in tup1)\n",
    "print(a not in dict1)\n",
    "print(a not in dict1.keys())\n",
    "print(a not in dict1.values())\n",
    "print(a not in set1)"
   ]
  },
  {
   "cell_type": "code",
   "execution_count": null,
   "id": "4b34b53a",
   "metadata": {},
   "outputs": [],
   "source": [
    "a = 1\n",
    "\n",
    "#print(a not in str1)\n",
    "print(a in list1)\n",
    "print(a in tup1)\n",
    "print(a in dict1)\n",
    "print(a in dict1.keys())\n",
    "print(a in dict1.values())\n",
    "print(a in set1)"
   ]
  },
  {
   "cell_type": "code",
   "execution_count": null,
   "id": "f995caae",
   "metadata": {},
   "outputs": [],
   "source": [
    "a = 1\n",
    "\n",
    "#print(a not in str1)\n",
    "print(a not in list1)\n",
    "print(a not in tup1)\n",
    "print(a not in dict1)\n",
    "print(a not in dict1.keys())\n",
    "print(a not in dict1.values())\n",
    "print(a not in set1)"
   ]
  },
  {
   "cell_type": "code",
   "execution_count": null,
   "id": "def71aa6",
   "metadata": {},
   "outputs": [],
   "source": [
    "# A common use for the in operator is in for loops:\n",
    "\n",
    "for element in list1:\n",
    "    print(element)\n",
    "    \n",
    "# Using the help of an iterator object(called/initialised every time a for loop runs), it picks up every element in the \n",
    "# iterable to perform some operations iteratively."
   ]
  },
  {
   "cell_type": "markdown",
   "id": "beaec516",
   "metadata": {},
   "source": [
    "### Identity operators"
   ]
  },
  {
   "cell_type": "code",
   "execution_count": null,
   "id": "4e673022",
   "metadata": {},
   "outputs": [],
   "source": [
    "# Identity operators is and is not are used to check if the objects on both sides of the operator are the same object and\n",
    "# share the same memory location or are not. is returns True if they are the same object, otherwise false. Inversely, \n",
    "# is not returns True if they are not the same otherwise False. \n",
    "\n",
    "a = b = c = 10140\n",
    "\n",
    "x = 10140\n",
    "y = 10140\n",
    "\n",
    "print(a is b)"
   ]
  },
  {
   "cell_type": "code",
   "execution_count": null,
   "id": "c7a619f8",
   "metadata": {},
   "outputs": [],
   "source": [
    "print(a is c)\n",
    "print(b is c)\n",
    "print(a is b is c)"
   ]
  },
  {
   "cell_type": "code",
   "execution_count": null,
   "id": "fca01b30",
   "metadata": {},
   "outputs": [],
   "source": [
    "print(a is x)"
   ]
  },
  {
   "cell_type": "code",
   "execution_count": null,
   "id": "1db038b0",
   "metadata": {},
   "outputs": [],
   "source": [
    "print(x is y)"
   ]
  },
  {
   "cell_type": "code",
   "execution_count": null,
   "id": "b7c75e38",
   "metadata": {},
   "outputs": [],
   "source": [
    "print(a == x)\n",
    "print(x == y)"
   ]
  },
  {
   "cell_type": "code",
   "execution_count": null,
   "id": "3c14e046",
   "metadata": {},
   "outputs": [],
   "source": [
    "a = b = c = 10140\n",
    "\n",
    "d = 10140\n",
    "\n",
    "print(a is not d)"
   ]
  },
  {
   "cell_type": "code",
   "execution_count": null,
   "id": "eb6408c5",
   "metadata": {},
   "outputs": [],
   "source": [
    "print(a is not b)\n",
    "print(a is not c)\n",
    "print(b is not c)\n",
    "print(a is not b is not c)"
   ]
  },
  {
   "cell_type": "code",
   "execution_count": null,
   "id": "4d3f6666",
   "metadata": {},
   "outputs": [],
   "source": [
    "# -5 to 256\n",
    "# Ascii \n",
    "# None\n",
    "# True/False\n",
    "\n",
    "# Anything outside these initialised objects will have new memory ids unless we do aliasing which is : \n",
    "    \n",
    "# a = b - in this case both label a and label b will be put on the same object. "
   ]
  },
  {
   "cell_type": "code",
   "execution_count": null,
   "id": "9b58f081",
   "metadata": {},
   "outputs": [],
   "source": [
    "print(a)\n",
    "print(b)\n",
    "\n",
    "c = 2001\n",
    "print(c)"
   ]
  },
  {
   "cell_type": "code",
   "execution_count": null,
   "id": "de20bff6",
   "metadata": {},
   "outputs": [],
   "source": [
    "print(a is b)\n",
    "print(a is c)\n",
    "print(b is c)\n",
    "print(a is b is c)"
   ]
  },
  {
   "cell_type": "code",
   "execution_count": null,
   "id": "dd8d7ba8",
   "metadata": {},
   "outputs": [],
   "source": [
    "print(a is not b)\n",
    "print(a is not c)\n",
    "print(b is not c)\n",
    "print(a is b is not c)"
   ]
  },
  {
   "cell_type": "code",
   "execution_count": null,
   "id": "92fc27f9",
   "metadata": {},
   "outputs": [],
   "source": [
    "print(a is b is not c)"
   ]
  },
  {
   "cell_type": "code",
   "execution_count": null,
   "id": "21ae9e88",
   "metadata": {},
   "outputs": [],
   "source": [
    "print(b is a is not c)"
   ]
  },
  {
   "cell_type": "code",
   "execution_count": null,
   "id": "742caa6c",
   "metadata": {},
   "outputs": [],
   "source": [
    "# For easy reference, the order of evaluation of \n",
    "\n",
    "\n",
    "# Operator                       Name\n",
    "# ()                             Parenthesis\n",
    "# **                             Exponentiation\n",
    "# -,~                            Unary minus, Bitwise complement(Bitwise Not)\n",
    "# *,/,//,%                       Multiplication, Division, Floor division, Modulus\n",
    "# +,-                            Addition, Subtraction\n",
    "# <<,>>                          Bitwise left shift, Bitwise right shift\n",
    "# &                              Bitwise AND\n",
    "# ^                              Bitwise XOR\n",
    "# |                              Bitwise OR\n",
    "# >,>=,<,<=,==,!=                Relational (comparison) operators\n",
    "# =,%=,/=,//=,-=, +=,*=,**=      Assignment operators\n",
    "# is,is not                      Identity operators\n",
    "# in,not in                      Membership operators\n",
    "# not                            Logical not\n",
    "# or                             Logical or\n",
    "# and                            Logical and"
   ]
  },
  {
   "cell_type": "code",
   "execution_count": null,
   "id": "069a0237",
   "metadata": {},
   "outputs": [],
   "source": [
    "PEMDAS / BODMAS\n",
    "\n",
    "Parenthesis / Bracket\n",
    "Exponent / Of\n",
    "Multiplication / Division\n",
    "Addition\n",
    "Subtraction"
   ]
  },
  {
   "cell_type": "code",
   "execution_count": 3,
   "id": "04b77396",
   "metadata": {},
   "outputs": [
    {
     "name": "stdout",
     "output_type": "stream",
     "text": [
      "2.0\n"
     ]
    }
   ],
   "source": [
    "print(10/5)"
   ]
  },
  {
   "cell_type": "code",
   "execution_count": 8,
   "id": "dd506b50",
   "metadata": {},
   "outputs": [
    {
     "name": "stdout",
     "output_type": "stream",
     "text": [
      "0b1101000\n",
      "0b1\n"
     ]
    }
   ],
   "source": [
    "print(bin(104))\n",
    "print(bin(1))"
   ]
  },
  {
   "cell_type": "code",
   "execution_count": 11,
   "id": "1061c052",
   "metadata": {},
   "outputs": [
    {
     "name": "stdout",
     "output_type": "stream",
     "text": [
      "105\n"
     ]
    }
   ],
   "source": [
    "# 1101000\n",
    "# 0000001\n",
    "\n",
    "# _______\n",
    "# 1101001\n",
    "\n",
    "print(int(0b1101001))"
   ]
  },
  {
   "cell_type": "code",
   "execution_count": 1,
   "id": "f18d710a",
   "metadata": {},
   "outputs": [
    {
     "name": "stdout",
     "output_type": "stream",
     "text": [
      "266.0\n"
     ]
    }
   ],
   "source": [
    "print((22 * 2 + 72 - 90 << 2 | 1)  + (27 / 3)**2 + (~-9)*10)"
   ]
  },
  {
   "cell_type": "code",
   "execution_count": 2,
   "id": "961f3c5b",
   "metadata": {},
   "outputs": [
    {
     "name": "stdout",
     "output_type": "stream",
     "text": [
      "266\n"
     ]
    }
   ],
   "source": [
    "print((22*2 + 72 - 90 <<2 |1) + 9**2 + 8 * 10)"
   ]
  },
  {
   "cell_type": "code",
   "execution_count": 4,
   "id": "7e1592a4",
   "metadata": {},
   "outputs": [
    {
     "name": "stdout",
     "output_type": "stream",
     "text": [
      "266\n"
     ]
    }
   ],
   "source": [
    "print((44 + 72 - 90 <<2 |1) + 9**2 + 8 * 10)"
   ]
  },
  {
   "cell_type": "code",
   "execution_count": null,
   "id": "388b7e1f",
   "metadata": {},
   "outputs": [],
   "source": [
    "print((26 <<2 |1) + 9**2 + 8 * 10)"
   ]
  },
  {
   "cell_type": "code",
   "execution_count": null,
   "id": "bf8fad9f",
   "metadata": {},
   "outputs": [],
   "source": [
    "print((104 |1) + 9**2 + 8 * 10)"
   ]
  },
  {
   "cell_type": "code",
   "execution_count": 7,
   "id": "dda27f1a",
   "metadata": {},
   "outputs": [
    {
     "name": "stdout",
     "output_type": "stream",
     "text": [
      "266\n"
     ]
    }
   ],
   "source": [
    "print(105 + 81 + 8 * 10)"
   ]
  },
  {
   "cell_type": "code",
   "execution_count": 6,
   "id": "3ac67d32",
   "metadata": {},
   "outputs": [
    {
     "name": "stdout",
     "output_type": "stream",
     "text": [
      "266\n"
     ]
    }
   ],
   "source": [
    "print(105 + 81 + 80)"
   ]
  },
  {
   "cell_type": "code",
   "execution_count": null,
   "id": "dcecab3e",
   "metadata": {},
   "outputs": [],
   "source": [
    "print(-(3**4 + 7 ** 2 // 14 - (3104 if 20 > 10 else 20) >> 1) * 75 % (14 & 8) * ~2)"
   ]
  },
  {
   "cell_type": "code",
   "execution_count": null,
   "id": "4bf9a2e1",
   "metadata": {},
   "outputs": [],
   "source": [
    "list1=[6000,6000] \n",
    "\n",
    "print(list1[0] is list1[1])\n",
    "print(id(list1[0]),id(list1[1]))\n",
    "print(id(list1[0]) is id(list1[1]))\n"
   ]
  },
  {
   "cell_type": "code",
   "execution_count": null,
   "id": "92803caa",
   "metadata": {},
   "outputs": [],
   "source": [
    "x = id(list1[0])\n",
    "y = id(list1[1])\n",
    "\n",
    "print(x, y)\n",
    "print(x == y)\n",
    "\n",
    "print(id(x), id(y))"
   ]
  },
  {
   "cell_type": "code",
   "execution_count": null,
   "id": "0d3b1ba2",
   "metadata": {},
   "outputs": [],
   "source": [
    "def funct():\n",
    "    \n",
    "    return 1000*5\n",
    "\n"
   ]
  },
  {
   "cell_type": "code",
   "execution_count": null,
   "id": "ca8da3c5",
   "metadata": {},
   "outputs": [],
   "source": [
    "x = funct()"
   ]
  },
  {
   "cell_type": "code",
   "execution_count": null,
   "id": "a94e8d84",
   "metadata": {},
   "outputs": [],
   "source": [
    "y = funct()"
   ]
  },
  {
   "cell_type": "code",
   "execution_count": null,
   "id": "030f2eec",
   "metadata": {},
   "outputs": [],
   "source": [
    "print(x)\n",
    "print(y)\n",
    "\n",
    "print(id(x))"
   ]
  },
  {
   "cell_type": "code",
   "execution_count": null,
   "id": "2ccdd86e",
   "metadata": {},
   "outputs": [],
   "source": [
    "print(id(y))"
   ]
  },
  {
   "cell_type": "code",
   "execution_count": null,
   "id": "5f151006",
   "metadata": {},
   "outputs": [],
   "source": []
  }
 ],
 "metadata": {
  "kernelspec": {
   "display_name": "Python 3 (ipykernel)",
   "language": "python",
   "name": "python3"
  },
  "language_info": {
   "codemirror_mode": {
    "name": "ipython",
    "version": 3
   },
   "file_extension": ".py",
   "mimetype": "text/x-python",
   "name": "python",
   "nbconvert_exporter": "python",
   "pygments_lexer": "ipython3",
   "version": "3.9.13"
  }
 },
 "nbformat": 4,
 "nbformat_minor": 5
}
