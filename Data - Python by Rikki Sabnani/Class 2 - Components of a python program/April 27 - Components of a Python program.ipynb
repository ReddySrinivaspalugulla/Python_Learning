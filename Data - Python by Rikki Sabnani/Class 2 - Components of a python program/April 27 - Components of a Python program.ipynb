{
 "cells": [
  {
   "cell_type": "markdown",
   "id": "13228f80",
   "metadata": {},
   "source": [
    "### Components of a Python program"
   ]
  },
  {
   "cell_type": "code",
   "execution_count": null,
   "id": "cfc36231",
   "metadata": {},
   "outputs": [],
   "source": [
    "#1. Literals\n",
    "#2. Identifiers\n",
    "#   - Variables\n",
    "#   - Function Names\n",
    "#   - Class names\n",
    "#3. Comments\n",
    "#4. Statements\n",
    "#5. Expressions\n",
    "#6. Blocks and Indentation"
   ]
  },
  {
   "cell_type": "code",
   "execution_count": null,
   "id": "52d4d0cc",
   "metadata": {},
   "outputs": [],
   "source": []
  },
  {
   "cell_type": "code",
   "execution_count": null,
   "id": "4556560d",
   "metadata": {},
   "outputs": [],
   "source": [
    "import platform\n",
    "\n",
    "print(platform.python_implementation())"
   ]
  },
  {
   "cell_type": "code",
   "execution_count": null,
   "id": "73cbeeb9",
   "metadata": {},
   "outputs": [],
   "source": [
    "# Literals\n",
    "\n",
    "# 1. Integers\n",
    "# 2. Float \n",
    "# 3. Complex Numbers\n",
    "# 4. Binary representation of numbers\n",
    "# 5. Octal Representation of numbers\n",
    "# 6. Hexadecimal representation of numbers\n",
    "# 7. Boolean\n",
    "# 8. None\n",
    "# 9. String\n",
    "\n",
    "# Literal collections (are made up of other objects)\n",
    "#1. Lists\n",
    "#2. Tuples\n",
    "#3. Sets\n",
    "#4. Dictionaries\n",
    "#5. Range\n",
    "# etc.\n",
    "\n",
    "\n"
   ]
  },
  {
   "cell_type": "code",
   "execution_count": null,
   "id": "667ac9b9",
   "metadata": {},
   "outputs": [],
   "source": [
    "a = 10 # Integer literal\n",
    "b = 10.2 # Float literal\n",
    "c = 10.00\n",
    "\n",
    "print(type(a))\n",
    "print(type(b))\n",
    "print(type(c))\n"
   ]
  },
  {
   "cell_type": "code",
   "execution_count": null,
   "id": "3c964cec",
   "metadata": {},
   "outputs": [],
   "source": [
    "c = 2+3j #This is a complex number - Arithmetic operations can be performed on complex numbers in python (except modulo an\n",
    "# floor divison)\n",
    "\n",
    "# real number + imaginary number x iota (i - j, python represents iota with j)\n",
    "\n",
    "# 25  x -1 square root = iota \n"
   ]
  },
  {
   "cell_type": "code",
   "execution_count": null,
   "id": "bf94cd4f",
   "metadata": {},
   "outputs": [],
   "source": [
    "+ = Plus\n",
    "- = Minus\n",
    "* = Multiplication\n",
    "/ = Division\n",
    "// = Floor division\n",
    "% = Modulo\n",
    "** = Exponentiation\n",
    "\n"
   ]
  },
  {
   "cell_type": "code",
   "execution_count": null,
   "id": "0a8480e6",
   "metadata": {},
   "outputs": [],
   "source": [
    "a = 10\n",
    "b = 20\n",
    "\n",
    "print(a+b)"
   ]
  },
  {
   "cell_type": "code",
   "execution_count": null,
   "id": "9256676d",
   "metadata": {},
   "outputs": [],
   "source": [
    "print(a-b)"
   ]
  },
  {
   "cell_type": "code",
   "execution_count": null,
   "id": "98c1d974",
   "metadata": {},
   "outputs": [],
   "source": [
    "print(a*b)"
   ]
  },
  {
   "cell_type": "code",
   "execution_count": null,
   "id": "e3c3e195",
   "metadata": {},
   "outputs": [],
   "source": [
    "print(a/b)"
   ]
  },
  {
   "cell_type": "code",
   "execution_count": null,
   "id": "f7866d36",
   "metadata": {},
   "outputs": [],
   "source": [
    "print(100**(1/2))"
   ]
  },
  {
   "cell_type": "code",
   "execution_count": null,
   "id": "c2f29c2f",
   "metadata": {},
   "outputs": [],
   "source": []
  },
  {
   "cell_type": "code",
   "execution_count": null,
   "id": "bd07b788",
   "metadata": {},
   "outputs": [],
   "source": [
    "a = 10\n",
    "b = 3\n",
    "\n",
    "#3 1/3\n",
    "\n",
    "print(a//b)"
   ]
  },
  {
   "cell_type": "code",
   "execution_count": null,
   "id": "83cd8f16",
   "metadata": {},
   "outputs": [],
   "source": [
    "print(a%b)"
   ]
  },
  {
   "cell_type": "code",
   "execution_count": null,
   "id": "7becaa79",
   "metadata": {},
   "outputs": [],
   "source": [
    "# binary\n",
    "\n",
    "a = bin(10)\n",
    "\n",
    "print(a)\n",
    "print(type(a))"
   ]
  },
  {
   "cell_type": "code",
   "execution_count": null,
   "id": "471dced5",
   "metadata": {},
   "outputs": [],
   "source": [
    "# octals\n",
    "\n",
    "a = oct(10)\n",
    "\n",
    "print(a)\n",
    "print(type(a))"
   ]
  },
  {
   "cell_type": "code",
   "execution_count": null,
   "id": "03a830d7",
   "metadata": {},
   "outputs": [],
   "source": [
    "# hexadecimal\n",
    "\n",
    "a = hex(10)\n",
    "\n",
    "print(a)\n",
    "print(type(a))"
   ]
  },
  {
   "cell_type": "code",
   "execution_count": null,
   "id": "6bbfc1eb",
   "metadata": {},
   "outputs": [],
   "source": [
    "# Boolean literals\n",
    "\n",
    "a = True\n",
    "\n",
    "\n",
    "print(type(a))"
   ]
  },
  {
   "cell_type": "code",
   "execution_count": null,
   "id": "fddce0b7",
   "metadata": {},
   "outputs": [],
   "source": [
    "b = False\n",
    "\n",
    "print(type(b))"
   ]
  },
  {
   "cell_type": "code",
   "execution_count": null,
   "id": "9e424489",
   "metadata": {},
   "outputs": [],
   "source": [
    "# True equals 1, False equals 0\n",
    "\n",
    "print(int(True))\n",
    "print(int(False))"
   ]
  },
  {
   "cell_type": "code",
   "execution_count": null,
   "id": "a6f3d070",
   "metadata": {},
   "outputs": [],
   "source": [
    "# Any non zero number or non  empty string will EVALUATE to True. Zero and empty string will evaluate to false\n",
    "\n",
    "if 200:\n",
    "    print('This is True')\n",
    "else:\n",
    "    print('This is False')"
   ]
  },
  {
   "cell_type": "code",
   "execution_count": null,
   "id": "6c3cb1d1",
   "metadata": {},
   "outputs": [],
   "source": [
    "print(bool(0))"
   ]
  },
  {
   "cell_type": "code",
   "execution_count": null,
   "id": "8b577a8d",
   "metadata": {},
   "outputs": [],
   "source": [
    "# None Datatype\n",
    "\n",
    "a = None\n",
    "\n",
    "print(type(None))"
   ]
  },
  {
   "cell_type": "code",
   "execution_count": null,
   "id": "b8b14915",
   "metadata": {},
   "outputs": [],
   "source": [
    "# String literals - They are literals(Fundamental or primitive datatypes) but they exhibit some properties of literal \n",
    "# collections(Derived datatypes)\n",
    "\n",
    "\n",
    "a = 'Rikki'\n",
    "\n",
    "print(a[0])\n",
    "print(a[1])\n",
    "print(a[2])\n",
    "print(a[3])\n",
    "print(a[4])\n",
    "\n"
   ]
  },
  {
   "cell_type": "code",
   "execution_count": null,
   "id": "6e4676a2",
   "metadata": {},
   "outputs": [],
   "source": [
    "#Subscription - indexing and slicing"
   ]
  },
  {
   "cell_type": "code",
   "execution_count": null,
   "id": "8516e8f6",
   "metadata": {},
   "outputs": [],
   "source": [
    "a = '375'\n",
    "\n",
    "print(a[0])"
   ]
  },
  {
   "cell_type": "code",
   "execution_count": null,
   "id": "b0ec67c2",
   "metadata": {},
   "outputs": [],
   "source": []
  },
  {
   "cell_type": "code",
   "execution_count": null,
   "id": "86cb9f34",
   "metadata": {},
   "outputs": [],
   "source": [
    "lst1 = [1,2,3,10.2, 2+3j, 'Learnbay', [2,3,4]]\n",
    "\n",
    "a = 10\n",
    "b = 10.2\n",
    "c = 2+3j\n"
   ]
  },
  {
   "cell_type": "code",
   "execution_count": null,
   "id": "9ac188f2",
   "metadata": {},
   "outputs": [],
   "source": [
    "# Literal collections\n",
    "# lists\n",
    "# tuples\n",
    "# sets\n",
    "# dictionaries\n",
    "# range\n",
    "\n",
    "# and other literal collections"
   ]
  },
  {
   "cell_type": "code",
   "execution_count": null,
   "id": "cba0d150",
   "metadata": {},
   "outputs": [],
   "source": [
    "# Identifier\n",
    "\n",
    "a = 10\n",
    "b = 20\n",
    "\n",
    "\n",
    "# Identifiers\n",
    "# - Variables\n",
    "# - Function names\n",
    "# - Class names\n",
    "\n",
    "\n",
    "# Identifier rules - \n",
    "\n",
    "# Identifiers can only contain alphabets lower or upper case, integers 0 ~ 9, and the underscore _\n",
    "# It cannot contain special characters(except underscore) such as @, !, ? etc - Neither can it contain a space. \n",
    "# It cannot begin with a number. It can begin with alphabets (lower or upper case) or an underscore. \n",
    "# Identifiers ARE case sensitive.\n",
    "# Keywords CANNOT be used as identifier names.\n",
    "\n",
    "\n"
   ]
  },
  {
   "cell_type": "code",
   "execution_count": null,
   "id": "8226d618",
   "metadata": {},
   "outputs": [],
   "source": [
    "abc_Dxy = 10\n",
    "\n",
    "print(abc_Dxy)"
   ]
  },
  {
   "cell_type": "code",
   "execution_count": null,
   "id": "ef82347c",
   "metadata": {},
   "outputs": [],
   "source": [
    "a = 10\n",
    "A = 100\n",
    "\n",
    "print(a)\n",
    "print(A)"
   ]
  },
  {
   "cell_type": "code",
   "execution_count": null,
   "id": "50e2fd73",
   "metadata": {},
   "outputs": [],
   "source": [
    "print('String')\n",
    "print(100)\n",
    "print(10.2)\n",
    "print(2+3j)\n",
    "\n",
    "a = 100\n",
    "\n",
    "print(100/10)\n",
    "\n",
    "print(None)\n",
    "\n",
    "def funct1():\n",
    "    print('Hello')\n",
    "\n",
    "\n",
    "# Python built-in functions, and numbers will show up in jupyter notebook in light green.\n",
    "# Strings will show up in Red\n",
    "# Operators such as +, -, * etc including = will show up in purple\n",
    "# Keywords will show up in DARK GREEN. \n",
    "# Variable names are in black\n",
    "# Function names and class names will show in light blue.\n",
    "\n",
    "#None, if, else, True, False, def, \n",
    "\n"
   ]
  },
  {
   "cell_type": "code",
   "execution_count": null,
   "id": "b67d1ac5",
   "metadata": {},
   "outputs": [],
   "source": [
    "import keyword\n",
    "\n",
    "print(keyword.kwlist)"
   ]
  },
  {
   "cell_type": "code",
   "execution_count": null,
   "id": "ff722025",
   "metadata": {},
   "outputs": [],
   "source": [
    "in = 100\n",
    "\n",
    "print(in)"
   ]
  },
  {
   "cell_type": "code",
   "execution_count": null,
   "id": "fd46aa89",
   "metadata": {},
   "outputs": [],
   "source": [
    "# Python does not stop us from using its built-in functions as variables - but PLEASE DO NOT do this. \n",
    "\n",
    "# int = 100\n",
    "\n",
    "\n",
    "# print(int)\n",
    "\n"
   ]
  },
  {
   "cell_type": "code",
   "execution_count": null,
   "id": "6d014f72",
   "metadata": {},
   "outputs": [],
   "source": [
    "#a = int(True)"
   ]
  },
  {
   "cell_type": "code",
   "execution_count": null,
   "id": "68d3536c",
   "metadata": {},
   "outputs": [],
   "source": [
    "# Conventions\n",
    "\n",
    "# Identifier names - should not be too long. They should briefly describe what the identifer is pointing to. \n",
    "\n",
    "# def takenumberandapplylogarithmtoit():\n",
    "\n",
    "# _ - single underscore, __ double underscore - means the developer wishes this variable to be private.\n",
    "\n",
    "# __variable__ - Python developer reserved function names.\n",
    "\n",
    "# Constants - values that are never going to change are put in capital case variables.\n",
    "\n",
    "# PI = 3.14"
   ]
  },
  {
   "cell_type": "code",
   "execution_count": null,
   "id": "fa72cd12",
   "metadata": {},
   "outputs": [],
   "source": [
    "print(dir(str))"
   ]
  },
  {
   "cell_type": "code",
   "execution_count": null,
   "id": "783a2934",
   "metadata": {},
   "outputs": [],
   "source": [
    "# Statements\n",
    "a =    10\n",
    "b =    20\n",
    "\n",
    "if b > a:\n",
    "    print(b)\n",
    "\n",
    "else:\n",
    "    print(a)\n",
    "    \n",
    "    \n",
    "    "
   ]
  },
  {
   "cell_type": "code",
   "execution_count": null,
   "id": "2b5e700b",
   "metadata": {},
   "outputs": [],
   "source": [
    "# Comparison operators\n",
    "\n",
    "# = assignment operator\n",
    "\n",
    "x = 100 # Assignment\n",
    "\n",
    "a = 10\n",
    "b = 10 \n",
    "\n",
    "a == b # Comparison\n",
    "\n",
    "\n",
    "# == Equal To\n",
    "# != Not equal\n",
    "# > Left greater than right\n",
    "# < Left less than right\n",
    "# >= Left is either greater than or equal to right\n",
    "# <= Left is either less than or equal to right"
   ]
  },
  {
   "cell_type": "code",
   "execution_count": null,
   "id": "f33c79ea",
   "metadata": {},
   "outputs": [],
   "source": [
    "# Assignment operator / Compound assignment"
   ]
  },
  {
   "cell_type": "code",
   "execution_count": null,
   "id": "d89ec67b",
   "metadata": {},
   "outputs": [],
   "source": [
    "x = 10\n",
    "\n",
    "print('First value of x ', x)\n",
    "\n",
    "x = x + 5\n",
    "\n",
    "print('New value of x ', x)"
   ]
  },
  {
   "cell_type": "code",
   "execution_count": null,
   "id": "e3487e2a",
   "metadata": {},
   "outputs": [],
   "source": [
    "x = 10\n",
    "\n",
    "print('First value of x ', x)\n",
    "\n",
    "x += 5 # x = x +5\n",
    "\n",
    "print('New value of x ', x)"
   ]
  },
  {
   "cell_type": "code",
   "execution_count": null,
   "id": "6ec2fb72",
   "metadata": {},
   "outputs": [],
   "source": []
  },
  {
   "cell_type": "code",
   "execution_count": null,
   "id": "31ba1785",
   "metadata": {},
   "outputs": [],
   "source": [
    "x = 10\n",
    "\n",
    "print(x)\n",
    "\n",
    "x += 5\n",
    "\n",
    "print(x)"
   ]
  },
  {
   "cell_type": "code",
   "execution_count": null,
   "id": "c5597668",
   "metadata": {},
   "outputs": [],
   "source": [
    "# conditional statements\n",
    "\n",
    "# if / elif / else\n",
    "\n",
    "# ifs elifs will be checked sequentially, if any one of them is true - the following elifs or else will not be executed.\n",
    "\n",
    "x = 5\n",
    "y = 19\n",
    "z = 29\n",
    "a = 5\n",
    "\n",
    "if x > 10:\n",
    "    print(x)\n",
    "elif y > 20:\n",
    "    print(y)\n",
    "elif z > 30:\n",
    "    print(z)\n",
    "else:\n",
    "    print(a)"
   ]
  },
  {
   "cell_type": "code",
   "execution_count": 4,
   "id": "64c21cd6",
   "metadata": {},
   "outputs": [
    {
     "name": "stdout",
     "output_type": "stream",
     "text": [
      "I am outside the if block so I print irrespective of whether if is true or not\n"
     ]
    }
   ],
   "source": [
    "if 100 > 105:\n",
    "    print('Rikki')\n",
    "    \n",
    "print('I am outside the if block so I print irrespective of whether if is true or not')"
   ]
  },
  {
   "cell_type": "code",
   "execution_count": null,
   "id": "7f92306e",
   "metadata": {},
   "outputs": [],
   "source": [
    "# if can exist without elif or else\n",
    "# elif can exist without else but NOT without if\n",
    "# else can exist without elif but NOT without if\n",
    "\n",
    "# if alone\n",
    "\n",
    "# if with elif\n",
    "\n",
    "# if with elif and else\n",
    "\n",
    "# if with else"
   ]
  },
  {
   "cell_type": "code",
   "execution_count": null,
   "id": "bf8ebe2b",
   "metadata": {},
   "outputs": [],
   "source": [
    "# Loop statements\n",
    "\n",
    "# For loops which run over iterables (literal collections - for now).\n",
    "\n",
    "lst1 = [1, 7,9,4, 4.65]\n",
    "\n",
    "for x in lst1:\n",
    "    print(x*10)\n",
    "    \n",
    "    \n",
    "# for <temp_var> in <iterable>:\n",
    "#        code\n",
    "#        code\n",
    "#        infinite lines of code\n"
   ]
  },
  {
   "cell_type": "code",
   "execution_count": null,
   "id": "56ee46df",
   "metadata": {},
   "outputs": [],
   "source": [
    "x = 10/5\n",
    "\n",
    "print(x)"
   ]
  },
  {
   "cell_type": "code",
   "execution_count": null,
   "id": "0c282527",
   "metadata": {},
   "outputs": [],
   "source": [
    "# While loops\n",
    "\n",
    "# While loops run based on a condition\n",
    "\n",
    "while <condition>:\n",
    "    code\n",
    "    code\n",
    "    code"
   ]
  },
  {
   "cell_type": "code",
   "execution_count": 1,
   "id": "496ce094",
   "metadata": {},
   "outputs": [
    {
     "name": "stdout",
     "output_type": "stream",
     "text": [
      "Hello there\n",
      "Hello there\n",
      "Hello there\n",
      "Hello there\n"
     ]
    }
   ],
   "source": [
    "x = 1\n",
    "\n",
    "while x < 5:\n",
    "    print('Hello there')\n",
    "    x +=1"
   ]
  },
  {
   "cell_type": "code",
   "execution_count": null,
   "id": "ada2023f",
   "metadata": {},
   "outputs": [],
   "source": [
    "# Expressions (That all expressions are ALSO statements but not all statements are expressions)\n",
    "\n",
    "a = 10 #Statement\n",
    "\n",
    "a = 5+5 # Expression\n",
    "\n",
    "if a > 3:\n",
    "    print('Hello')\n",
    "    \n",
    "    \n",
    "print('Hello')"
   ]
  },
  {
   "cell_type": "code",
   "execution_count": 8,
   "id": "bb2edfe3",
   "metadata": {},
   "outputs": [
    {
     "name": "stdout",
     "output_type": "stream",
     "text": [
      "10\n"
     ]
    }
   ],
   "source": [
    "# comments\n",
    "\n",
    "'''I am just writing some gibberish to show you how we can write multiline comments ...............................................\n",
    "...............................Gibberish ends here'''\n",
    "\n",
    "\n",
    "a = 10\n",
    "print(a)"
   ]
  },
  {
   "cell_type": "code",
   "execution_count": null,
   "id": "83e06784",
   "metadata": {},
   "outputs": [],
   "source": [
    "# As a programmer you will collaborate with others. So to explain what your code does at particular sections - it is a good\n",
    "# idea to put comments. "
   ]
  },
  {
   "cell_type": "code",
   "execution_count": null,
   "id": "3cd1f0d1",
   "metadata": {},
   "outputs": [],
   "source": [
    "# 1. Literal and literal collections - int, float, complex, none, boolean, string, lists, (tuples, sets and dictionaries\n",
    "# for later)\n",
    "# 2. identifiers - for variables, function names, class names, identifier rules and conventions\n",
    "# 3. Statements  - assignment, compound assignment, loops, conditional statements\n",
    "# 4. Expressions - Anything that needs to be evaluated. They are statements also but not all statments are expressions\n",
    "# 5. Block, suites and indentation\n",
    "# 6. Comments - Good programming practice.\n",
    "\n",
    "\n",
    "# Arithmetic and comparison operators"
   ]
  }
 ],
 "metadata": {
  "kernelspec": {
   "display_name": "Python 3 (ipykernel)",
   "language": "python",
   "name": "python3"
  },
  "language_info": {
   "codemirror_mode": {
    "name": "ipython",
    "version": 3
   },
   "file_extension": ".py",
   "mimetype": "text/x-python",
   "name": "python",
   "nbconvert_exporter": "python",
   "pygments_lexer": "ipython3",
   "version": "3.9.13"
  }
 },
 "nbformat": 4,
 "nbformat_minor": 5
}
