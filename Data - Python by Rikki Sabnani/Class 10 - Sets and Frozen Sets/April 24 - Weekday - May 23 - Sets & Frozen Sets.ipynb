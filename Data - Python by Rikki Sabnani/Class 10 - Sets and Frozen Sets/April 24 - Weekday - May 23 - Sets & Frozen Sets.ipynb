{
 "cells": [
  {
   "cell_type": "markdown",
   "id": "4f2198f6",
   "metadata": {},
   "source": [
    "### Sets and Frozen sets"
   ]
  },
  {
   "cell_type": "code",
   "execution_count": null,
   "id": "d7d8b6d4",
   "metadata": {},
   "outputs": [],
   "source": [
    "lst1 = list('abbcdaxy')\n",
    "\n",
    "print(lst1)"
   ]
  },
  {
   "cell_type": "code",
   "execution_count": null,
   "id": "02d645bd",
   "metadata": {},
   "outputs": [],
   "source": [
    "set1 = set(lst1)\n",
    "\n",
    "print(set1)"
   ]
  },
  {
   "cell_type": "code",
   "execution_count": null,
   "id": "7ceed33d",
   "metadata": {},
   "outputs": [],
   "source": [
    "# Union, intersection, difference and symmetric_difference\n",
    "\n"
   ]
  },
  {
   "cell_type": "code",
   "execution_count": null,
   "id": "d4f0668c",
   "metadata": {},
   "outputs": [],
   "source": [
    "# Sets - are pythons way of letting us work with mathematical sets. \n",
    "\n",
    "# 1. Derived.\n",
    "# 2. Mutable themselves but elements in a set MUST be IMMUTABLE.\n",
    "# 3. UNORDERED\n",
    "# 4. Iterable (but order cannot be guaranteed)\n",
    "# 5. Not Subscriptable\n",
    "# 6. Heterogenous\n"
   ]
  },
  {
   "cell_type": "code",
   "execution_count": 1,
   "id": "dc3bd113",
   "metadata": {},
   "outputs": [
    {
     "name": "stdout",
     "output_type": "stream",
     "text": [
      "{'y', 'p', 's', 'r', 't', 'v', 'z', 'c', 'm', 'k', 'w', 'f', 'g', 'b', 'u', 'i', 'd', 'e', 'x', 'q', 'n', 'o', 'l', 'h', 'j', 'a'}\n"
     ]
    }
   ],
   "source": [
    "set1 = set('abcdefghijklmnopqrstuvwxyz')\n",
    "\n",
    "print(set1)"
   ]
  },
  {
   "cell_type": "code",
   "execution_count": 2,
   "id": "8816988a",
   "metadata": {},
   "outputs": [
    {
     "name": "stdout",
     "output_type": "stream",
     "text": [
      "{1, 3, 4, 'Triratna', 'Ramesh', 99, 42, 'Priti', 'Juhi', 'Dharan', 27, 'Prajesh'}\n"
     ]
    }
   ],
   "source": [
    "lst1 = ['Ramesh', 'Prajesh', 'Triratna', 1, 4, 3,42,27, 'Juhi', 'Dharan']\n",
    "lst2 = ['Dharan', 'Prajesh', 99, 'Priti', 'Juhi', 4,42]\n",
    "\n",
    "set1 = set(lst1).union(lst2)\n",
    "print(set1)"
   ]
  },
  {
   "cell_type": "code",
   "execution_count": 3,
   "id": "02b20eb9",
   "metadata": {},
   "outputs": [
    {
     "name": "stdout",
     "output_type": "stream",
     "text": [
      "{1, 2, 3, 4, 7}\n"
     ]
    }
   ],
   "source": [
    "set1 = {1,3,4,7,4,2}\n",
    "\n",
    "print(set1)"
   ]
  },
  {
   "cell_type": "code",
   "execution_count": 8,
   "id": "aeab2518",
   "metadata": {},
   "outputs": [
    {
     "name": "stdout",
     "output_type": "stream",
     "text": [
      "{1, 2, 3, 4, 7}\n"
     ]
    }
   ],
   "source": [
    "set2 = set((1,2,4,3,7,4))\n",
    "\n",
    "print(set2)"
   ]
  },
  {
   "cell_type": "markdown",
   "id": "3a94a82c",
   "metadata": {},
   "source": [
    "#### Operations on Sets"
   ]
  },
  {
   "cell_type": "code",
   "execution_count": 1,
   "id": "fbc1d70d",
   "metadata": {},
   "outputs": [
    {
     "name": "stdout",
     "output_type": "stream",
     "text": [
      "['a', 'b', 'c', 'd', 'e', 'f', 'g', 'h', 'i', 'j']\n"
     ]
    }
   ],
   "source": [
    "# union method and operator, update method\n",
    "\n",
    "set1 = set('abcde')\n",
    "set2 = list('cfg')\n",
    "set3 = list('cdehij')\n",
    "\n",
    "set4 = set1.union(set2, set3)\n",
    "\n",
    "print(sorted(list(set4)))\n"
   ]
  },
  {
   "cell_type": "code",
   "execution_count": 12,
   "id": "53dc3a9f",
   "metadata": {},
   "outputs": [
    {
     "name": "stdout",
     "output_type": "stream",
     "text": [
      "['a', 'b', 'c', 'd', 'e', 'f', 'g', 'h', 'i', 'j']\n"
     ]
    }
   ],
   "source": [
    "# Operator\n",
    "\n",
    "set1 = set('abcde')\n",
    "set2 = set('cfg')\n",
    "set3 = set('cdehij')\n",
    "\n",
    "set4 = set1|set2|set3\n",
    "print(sorted(list(set4)))\n"
   ]
  },
  {
   "cell_type": "code",
   "execution_count": 7,
   "id": "2f3b651e",
   "metadata": {},
   "outputs": [
    {
     "name": "stdout",
     "output_type": "stream",
     "text": [
      "2490850487872\n",
      "2490850926880\n"
     ]
    }
   ],
   "source": [
    "#update method\n",
    "print(id(set1))\n",
    "print(id(set4))\n"
   ]
  },
  {
   "cell_type": "code",
   "execution_count": 8,
   "id": "1f921d64",
   "metadata": {},
   "outputs": [
    {
     "name": "stdout",
     "output_type": "stream",
     "text": [
      "Before update :  {'e', 'c', 'a', 'd', 'b'}\n",
      "2490850487872\n"
     ]
    }
   ],
   "source": [
    "print('Before update : ', set1)\n",
    "print(id(set1))"
   ]
  },
  {
   "cell_type": "code",
   "execution_count": 9,
   "id": "161bfbcf",
   "metadata": {},
   "outputs": [
    {
     "name": "stdout",
     "output_type": "stream",
     "text": [
      "After update :  {'e', 'c', 'a', 'd', 'f', 'b', 'g'}\n",
      "2490850487872\n"
     ]
    }
   ],
   "source": [
    "set1.update(set2)\n",
    "\n",
    "print('After update : ', set1)\n",
    "print(id(set1))"
   ]
  },
  {
   "cell_type": "code",
   "execution_count": 16,
   "id": "0d62fd5b",
   "metadata": {},
   "outputs": [
    {
     "name": "stdout",
     "output_type": "stream",
     "text": [
      "set()\n"
     ]
    }
   ],
   "source": [
    "# intersection, intersection_update\n",
    "\n",
    "set1 = set('abcde')\n",
    "set2 = set('cdefg')\n",
    "set3 = set('cdehi')\n",
    "\n",
    "set4 = set1.intersection(set2, set3)\n",
    "\n",
    "print(set4)"
   ]
  },
  {
   "cell_type": "code",
   "execution_count": 18,
   "id": "946fd076",
   "metadata": {},
   "outputs": [
    {
     "name": "stdout",
     "output_type": "stream",
     "text": [
      "Before Intersection  {'e', 'c', 'a', 'd', 'b'}\n",
      "2490850929120\n",
      "After Intersection  {'d', 'c', 'e'}\n",
      "2490850929120\n"
     ]
    }
   ],
   "source": [
    "# intersection_update\n",
    "\n",
    "set1 = set('abcde')\n",
    "set2 = set('cdefg')\n",
    "set3 = set('cdehi')\n",
    "\n",
    "\n",
    "print('Before Intersection ', set1)\n",
    "print(id(set1))\n",
    "\n",
    "set1.intersection_update(set2)\n",
    "\n",
    "print('After Intersection ', set1)\n",
    "print(id(set1))"
   ]
  },
  {
   "cell_type": "code",
   "execution_count": 22,
   "id": "f666353d",
   "metadata": {},
   "outputs": [
    {
     "name": "stdout",
     "output_type": "stream",
     "text": [
      "{'d', 'c', 'e'}\n"
     ]
    }
   ],
   "source": [
    "# intersection operator\n",
    "\n",
    "set1 = set('abcde')\n",
    "set2 = set('cdefg')\n",
    "set3 = set('cdehi')\n",
    "\n",
    "\n",
    "set4 = set1&set2\n",
    "\n",
    "print(set4)"
   ]
  },
  {
   "cell_type": "code",
   "execution_count": null,
   "id": "643cfbe8",
   "metadata": {},
   "outputs": [],
   "source": [
    "# set1.union(set2) or set2.union(set1)\n",
    "# set1.intersection(set2) or set2.intersection(set1)\n",
    "\n",
    "# No difference"
   ]
  },
  {
   "cell_type": "code",
   "execution_count": null,
   "id": "06c43aaa",
   "metadata": {},
   "outputs": [],
   "source": [
    "# Difference method, differene_update, difference operator"
   ]
  },
  {
   "cell_type": "code",
   "execution_count": 27,
   "id": "15bf3bfc",
   "metadata": {},
   "outputs": [
    {
     "name": "stdout",
     "output_type": "stream",
     "text": [
      "{'b', 'a', 'z', 'y'}\n"
     ]
    }
   ],
   "source": [
    "set1 = set('abcdexyz')\n",
    "set2 = set('cdefg')\n",
    "set3 = set('cdehix')\n",
    "\n",
    "set4 = set1.difference(set2, set3)\n",
    "\n",
    "print(set4)"
   ]
  },
  {
   "cell_type": "code",
   "execution_count": 25,
   "id": "3b5a921b",
   "metadata": {},
   "outputs": [
    {
     "name": "stdout",
     "output_type": "stream",
     "text": [
      "Before update :  {'e', 'c', 'a', 'd', 'b'}\n",
      "2490851698272\n",
      "After update  {'a', 'b'}\n",
      "2490851698272\n"
     ]
    }
   ],
   "source": [
    "print('Before update : ', set1)\n",
    "print(id(set1))\n",
    "\n",
    "set1.difference_update(set2)\n",
    "\n",
    "print('After update ', set1)\n",
    "print(id(set1))"
   ]
  },
  {
   "cell_type": "code",
   "execution_count": null,
   "id": "f55b7558",
   "metadata": {},
   "outputs": [],
   "source": [
    "# Difference operator"
   ]
  },
  {
   "cell_type": "code",
   "execution_count": 29,
   "id": "bafa87f0",
   "metadata": {},
   "outputs": [
    {
     "name": "stdout",
     "output_type": "stream",
     "text": [
      "{'a', 'b', 'z', 'y'}\n"
     ]
    }
   ],
   "source": [
    "set4 = set1-set2-set3\n",
    "\n",
    "print(set4)"
   ]
  },
  {
   "cell_type": "code",
   "execution_count": 28,
   "id": "8da621b1",
   "metadata": {},
   "outputs": [
    {
     "name": "stdout",
     "output_type": "stream",
     "text": [
      "{'f', 'g'}\n"
     ]
    }
   ],
   "source": [
    "set5 = set2-set1\n",
    "\n",
    "print(set5)"
   ]
  },
  {
   "cell_type": "code",
   "execution_count": 39,
   "id": "e21123a6",
   "metadata": {},
   "outputs": [],
   "source": [
    "# Symmetric difference, symmetric_difference_update, symmetric difference operator\n",
    "\n",
    "set1 = set('abcde')\n",
    "set2 = set('cdefg')\n",
    "set3 = set('cdehij')"
   ]
  },
  {
   "cell_type": "code",
   "execution_count": 33,
   "id": "a1e8c8bc",
   "metadata": {},
   "outputs": [
    {
     "name": "stdout",
     "output_type": "stream",
     "text": [
      "{'a', 'f', 'b', 'g'}\n"
     ]
    }
   ],
   "source": [
    "set4 = set1.symmetric_difference(set2)\n",
    "\n",
    "print(set4)"
   ]
  },
  {
   "cell_type": "code",
   "execution_count": 37,
   "id": "d35a902e",
   "metadata": {},
   "outputs": [
    {
     "name": "stdout",
     "output_type": "stream",
     "text": [
      "Before update  {'e', 'c', 'a', 'd', 'b'}\n",
      "2490851698944\n",
      "After update  {'a', 'f', 'b', 'g'}\n",
      "2490851698944\n"
     ]
    }
   ],
   "source": [
    "print('Before update ', set1)\n",
    "print(id(set1))\n",
    "\n",
    "set1.symmetric_difference_update(set2)\n",
    "\n",
    "print('After update ', set1)\n",
    "print(id(set1))"
   ]
  },
  {
   "cell_type": "code",
   "execution_count": 40,
   "id": "bf747ed2",
   "metadata": {},
   "outputs": [
    {
     "name": "stdout",
     "output_type": "stream",
     "text": [
      "{'a', 'f', 'b', 'g'}\n"
     ]
    }
   ],
   "source": [
    "# Operator\n",
    "\n",
    "set5 = set1^set2\n",
    "\n",
    "print(set5)"
   ]
  },
  {
   "cell_type": "code",
   "execution_count": 30,
   "id": "3566a35a",
   "metadata": {},
   "outputs": [
    {
     "name": "stdout",
     "output_type": "stream",
     "text": [
      "['__and__', '__class__', '__class_getitem__', '__contains__', '__delattr__', '__dir__', '__doc__', '__eq__', '__format__', '__ge__', '__getattribute__', '__gt__', '__hash__', '__iand__', '__init__', '__init_subclass__', '__ior__', '__isub__', '__iter__', '__ixor__', '__le__', '__len__', '__lt__', '__ne__', '__new__', '__or__', '__rand__', '__reduce__', '__reduce_ex__', '__repr__', '__ror__', '__rsub__', '__rxor__', '__setattr__', '__sizeof__', '__str__', '__sub__', '__subclasshook__', '__xor__', 'add', 'clear', 'copy', 'difference', 'difference_update', 'discard', 'intersection', 'intersection_update', 'isdisjoint', 'issubset', 'issuperset', 'pop', 'remove', 'symmetric_difference', 'symmetric_difference_update', 'union', 'update']\n"
     ]
    }
   ],
   "source": [
    "print(dir(set))"
   ]
  },
  {
   "cell_type": "code",
   "execution_count": null,
   "id": "9c98bc4b",
   "metadata": {},
   "outputs": [],
   "source": [
    "# subsets, supersets, proper subset, proper superset\n",
    "\n",
    "# Set B is considered a subset of set A - if all the elements of B are present in A. \n",
    "# Set A is considered a superset of set B - if set A contains all the elements of set B. "
   ]
  },
  {
   "cell_type": "code",
   "execution_count": null,
   "id": "543a1786",
   "metadata": {},
   "outputs": [],
   "source": [
    "# Every set is a subset AND superset of itself. \n"
   ]
  },
  {
   "cell_type": "code",
   "execution_count": null,
   "id": "82a1c5b8",
   "metadata": {},
   "outputs": [],
   "source": [
    "# Set B is a proper subset of set A - if all the elements of B are present in A BUT A contains other elements not present\n",
    "# in B i.e len(B)<len(A)\n",
    "\n",
    "# Set A is a proper superset of B - if all the elements of B are present in A BUT A contains other elements not present in \n",
    "# B i.e. len(A) > len(B)"
   ]
  },
  {
   "cell_type": "code",
   "execution_count": 106,
   "id": "9fcbba56",
   "metadata": {},
   "outputs": [
    {
     "name": "stdout",
     "output_type": "stream",
     "text": [
      "True\n"
     ]
    }
   ],
   "source": [
    "set1 = set('abc')\n",
    "set2 = set('abcde')\n",
    "\n",
    "print(set1.issubset(set2))"
   ]
  },
  {
   "cell_type": "code",
   "execution_count": 43,
   "id": "f2f5e730",
   "metadata": {},
   "outputs": [
    {
     "name": "stdout",
     "output_type": "stream",
     "text": [
      "True\n"
     ]
    }
   ],
   "source": [
    "print(set1.issubset(set1))"
   ]
  },
  {
   "cell_type": "code",
   "execution_count": 107,
   "id": "ae9a573e",
   "metadata": {},
   "outputs": [
    {
     "name": "stdout",
     "output_type": "stream",
     "text": [
      "True\n"
     ]
    }
   ],
   "source": [
    "print(set2.issuperset(set1))"
   ]
  },
  {
   "cell_type": "code",
   "execution_count": 50,
   "id": "4cea7850",
   "metadata": {},
   "outputs": [
    {
     "name": "stdout",
     "output_type": "stream",
     "text": [
      "True\n"
     ]
    }
   ],
   "source": [
    "print(set1.issuperset(set1))"
   ]
  },
  {
   "cell_type": "code",
   "execution_count": 53,
   "id": "a75adcbc",
   "metadata": {},
   "outputs": [
    {
     "name": "stdout",
     "output_type": "stream",
     "text": [
      "True\n"
     ]
    }
   ],
   "source": [
    "# Operator for checking subsets and supersets\n",
    "\n",
    "print(set1 <= set2)"
   ]
  },
  {
   "cell_type": "code",
   "execution_count": 56,
   "id": "6b53225e",
   "metadata": {},
   "outputs": [
    {
     "name": "stdout",
     "output_type": "stream",
     "text": [
      "True\n"
     ]
    }
   ],
   "source": [
    "set4 = set('abcd')\n",
    "set5 = set('abcd')\n",
    "\n",
    "print(set4 <= set5)"
   ]
  },
  {
   "cell_type": "code",
   "execution_count": 57,
   "id": "5d535ceb",
   "metadata": {},
   "outputs": [
    {
     "name": "stdout",
     "output_type": "stream",
     "text": [
      "False\n"
     ]
    }
   ],
   "source": [
    "# Checking for proper subset\n",
    "\n",
    "print(set4 < set5)"
   ]
  },
  {
   "cell_type": "code",
   "execution_count": 58,
   "id": "865ced41",
   "metadata": {},
   "outputs": [
    {
     "name": "stdout",
     "output_type": "stream",
     "text": [
      "True\n"
     ]
    }
   ],
   "source": [
    "# superset\n",
    "\n",
    "print(set2 >= set1)"
   ]
  },
  {
   "cell_type": "code",
   "execution_count": 59,
   "id": "abd7659e",
   "metadata": {},
   "outputs": [
    {
     "name": "stdout",
     "output_type": "stream",
     "text": [
      "True\n"
     ]
    }
   ],
   "source": [
    "print(set5 >= set4)"
   ]
  },
  {
   "cell_type": "code",
   "execution_count": 60,
   "id": "f889dca2",
   "metadata": {},
   "outputs": [
    {
     "name": "stdout",
     "output_type": "stream",
     "text": [
      "False\n"
     ]
    }
   ],
   "source": [
    "print(set5 > set4)"
   ]
  },
  {
   "cell_type": "code",
   "execution_count": 61,
   "id": "9dc87a9a",
   "metadata": {},
   "outputs": [
    {
     "name": "stdout",
     "output_type": "stream",
     "text": [
      "['__and__', '__class__', '__class_getitem__', '__contains__', '__delattr__', '__dir__', '__doc__', '__eq__', '__format__', '__ge__', '__getattribute__', '__gt__', '__hash__', '__iand__', '__init__', '__init_subclass__', '__ior__', '__isub__', '__iter__', '__ixor__', '__le__', '__len__', '__lt__', '__ne__', '__new__', '__or__', '__rand__', '__reduce__', '__reduce_ex__', '__repr__', '__ror__', '__rsub__', '__rxor__', '__setattr__', '__sizeof__', '__str__', '__sub__', '__subclasshook__', '__xor__', 'add', 'clear', 'copy', 'difference', 'difference_update', 'discard', 'intersection', 'intersection_update', 'isdisjoint', 'issubset', 'issuperset', 'pop', 'remove', 'symmetric_difference', 'symmetric_difference_update', 'union', 'update']\n"
     ]
    }
   ],
   "source": [
    "print(dir(set))"
   ]
  },
  {
   "cell_type": "code",
   "execution_count": 62,
   "id": "b53e37d9",
   "metadata": {},
   "outputs": [
    {
     "name": "stdout",
     "output_type": "stream",
     "text": [
      "True\n"
     ]
    }
   ],
   "source": [
    "# isdisjoint\n",
    "\n",
    "set1 = set('abcde')\n",
    "set2 = set('fghij')\n",
    "\n",
    "print(set1.isdisjoint(set2))"
   ]
  },
  {
   "cell_type": "code",
   "execution_count": 63,
   "id": "f9031b38",
   "metadata": {},
   "outputs": [
    {
     "name": "stdout",
     "output_type": "stream",
     "text": [
      "False\n"
     ]
    }
   ],
   "source": [
    "set3 = set('ijklmde')\n",
    "\n",
    "print(set1.isdisjoint(set3))"
   ]
  },
  {
   "cell_type": "code",
   "execution_count": 64,
   "id": "8b469bcc",
   "metadata": {},
   "outputs": [
    {
     "name": "stdout",
     "output_type": "stream",
     "text": [
      "{'e', 'c', 'a', 'd', 'b'}\n"
     ]
    }
   ],
   "source": [
    "#add, discard, pop, remove\n",
    "\n",
    "set1 = set('abcde')\n",
    "\n",
    "print(set1)"
   ]
  },
  {
   "cell_type": "code",
   "execution_count": null,
   "id": "ba74a8ca",
   "metadata": {},
   "outputs": [],
   "source": [
    "# value must be unique and immutable"
   ]
  },
  {
   "cell_type": "code",
   "execution_count": 66,
   "id": "e9b2221f",
   "metadata": {},
   "outputs": [
    {
     "name": "stdout",
     "output_type": "stream",
     "text": [
      "{'e', 'c', ('f', 'g'), 'a', 'd', 'f', 'b'}\n"
     ]
    }
   ],
   "source": [
    "set1.add(('f','g'))\n",
    "print(set1)"
   ]
  },
  {
   "cell_type": "code",
   "execution_count": 68,
   "id": "fceeab15",
   "metadata": {},
   "outputs": [],
   "source": [
    "set1.add(('h','i'))"
   ]
  },
  {
   "cell_type": "code",
   "execution_count": null,
   "id": "a7eaaa2c",
   "metadata": {},
   "outputs": [],
   "source": [
    "set1.add(('j','k',['l','m']))"
   ]
  },
  {
   "cell_type": "code",
   "execution_count": 69,
   "id": "45b5da2b",
   "metadata": {},
   "outputs": [
    {
     "name": "stdout",
     "output_type": "stream",
     "text": [
      "{(2, 3): 100}\n"
     ]
    }
   ],
   "source": [
    "dict1 = {(2,3):100}\n",
    "\n",
    "print(dict1)"
   ]
  },
  {
   "cell_type": "code",
   "execution_count": 70,
   "id": "d10ede42",
   "metadata": {},
   "outputs": [
    {
     "ename": "TypeError",
     "evalue": "unhashable type: 'list'",
     "output_type": "error",
     "traceback": [
      "\u001b[1;31m---------------------------------------------------------------------------\u001b[0m",
      "\u001b[1;31mTypeError\u001b[0m                                 Traceback (most recent call last)",
      "\u001b[1;32m~\\AppData\\Local\\Temp\\ipykernel_10388\\1280788979.py\u001b[0m in \u001b[0;36m<module>\u001b[1;34m\u001b[0m\n\u001b[1;32m----> 1\u001b[1;33m \u001b[0mdict1\u001b[0m \u001b[1;33m=\u001b[0m \u001b[1;33m{\u001b[0m\u001b[1;33m(\u001b[0m\u001b[1;36m2\u001b[0m\u001b[1;33m,\u001b[0m\u001b[1;36m3\u001b[0m\u001b[1;33m,\u001b[0m\u001b[1;33m[\u001b[0m\u001b[1;36m100\u001b[0m\u001b[1;33m,\u001b[0m\u001b[1;36m200\u001b[0m\u001b[1;33m]\u001b[0m\u001b[1;33m)\u001b[0m\u001b[1;33m:\u001b[0m\u001b[1;36m100\u001b[0m\u001b[1;33m}\u001b[0m\u001b[1;33m\u001b[0m\u001b[1;33m\u001b[0m\u001b[0m\n\u001b[0m",
      "\u001b[1;31mTypeError\u001b[0m: unhashable type: 'list'"
     ]
    }
   ],
   "source": [
    "dict1 = {(2,3,[100,200]):100}"
   ]
  },
  {
   "cell_type": "code",
   "execution_count": 74,
   "id": "8ae3c52a",
   "metadata": {},
   "outputs": [
    {
     "name": "stdout",
     "output_type": "stream",
     "text": [
      "{'e', 'c', 'a', 'd', 'b'}\n"
     ]
    }
   ],
   "source": [
    "set1 = set('abcde')\n",
    "\n",
    "print(set1)"
   ]
  },
  {
   "cell_type": "code",
   "execution_count": 72,
   "id": "3a4d81e1",
   "metadata": {},
   "outputs": [
    {
     "name": "stdout",
     "output_type": "stream",
     "text": [
      "{'e', 'a', 'd', 'b'}\n"
     ]
    }
   ],
   "source": [
    "set1.discard('c')\n",
    "\n",
    "print(set1)"
   ]
  },
  {
   "cell_type": "code",
   "execution_count": 75,
   "id": "0bff52ed",
   "metadata": {},
   "outputs": [
    {
     "name": "stdout",
     "output_type": "stream",
     "text": [
      "{'e', 'a', 'd', 'b'}\n",
      "None\n"
     ]
    }
   ],
   "source": [
    "x = set1.discard('c')\n",
    "\n",
    "print(set1)\n",
    "print(x)"
   ]
  },
  {
   "cell_type": "code",
   "execution_count": 81,
   "id": "14137759",
   "metadata": {},
   "outputs": [
    {
     "name": "stdout",
     "output_type": "stream",
     "text": [
      "{'e', 'c', 'a', 'd', 'b'}\n"
     ]
    }
   ],
   "source": [
    "# pop\n",
    "\n",
    "set1 = set('abcde')\n",
    "\n",
    "print(set1)"
   ]
  },
  {
   "cell_type": "code",
   "execution_count": 82,
   "id": "b506be9b",
   "metadata": {},
   "outputs": [],
   "source": [
    "x = set1.pop()"
   ]
  },
  {
   "cell_type": "code",
   "execution_count": 83,
   "id": "50976d20",
   "metadata": {},
   "outputs": [
    {
     "name": "stdout",
     "output_type": "stream",
     "text": [
      "{'c', 'a', 'd', 'b'}\n",
      "e\n"
     ]
    }
   ],
   "source": [
    "print(set1)\n",
    "print(x)\n"
   ]
  },
  {
   "cell_type": "code",
   "execution_count": 90,
   "id": "9a095482",
   "metadata": {},
   "outputs": [
    {
     "name": "stdout",
     "output_type": "stream",
     "text": [
      "{'e', 'c', 'a', 'd', 'b'}\n"
     ]
    }
   ],
   "source": [
    "# remove method\n",
    "\n",
    "set1 = set('abcde')\n",
    "\n",
    "print(set1)"
   ]
  },
  {
   "cell_type": "code",
   "execution_count": 91,
   "id": "a0b4d3c0",
   "metadata": {},
   "outputs": [
    {
     "ename": "KeyError",
     "evalue": "'x'",
     "output_type": "error",
     "traceback": [
      "\u001b[1;31m---------------------------------------------------------------------------\u001b[0m",
      "\u001b[1;31mKeyError\u001b[0m                                  Traceback (most recent call last)",
      "\u001b[1;32m~\\AppData\\Local\\Temp\\ipykernel_10388\\439060769.py\u001b[0m in \u001b[0;36m<module>\u001b[1;34m\u001b[0m\n\u001b[1;32m----> 1\u001b[1;33m \u001b[0mset1\u001b[0m\u001b[1;33m.\u001b[0m\u001b[0mremove\u001b[0m\u001b[1;33m(\u001b[0m\u001b[1;34m'x'\u001b[0m\u001b[1;33m)\u001b[0m\u001b[1;33m\u001b[0m\u001b[1;33m\u001b[0m\u001b[0m\n\u001b[0m\u001b[0;32m      2\u001b[0m \u001b[1;33m\u001b[0m\u001b[0m\n\u001b[0;32m      3\u001b[0m \u001b[0mprint\u001b[0m\u001b[1;33m(\u001b[0m\u001b[0mset1\u001b[0m\u001b[1;33m)\u001b[0m\u001b[1;33m\u001b[0m\u001b[1;33m\u001b[0m\u001b[0m\n",
      "\u001b[1;31mKeyError\u001b[0m: 'x'"
     ]
    }
   ],
   "source": [
    "set1.remove('x')\n",
    "\n",
    "print(set1)"
   ]
  },
  {
   "cell_type": "code",
   "execution_count": 92,
   "id": "b7a45009",
   "metadata": {},
   "outputs": [
    {
     "name": "stdout",
     "output_type": "stream",
     "text": [
      "{'e', 'c', 'a', 'd', 'b'}\n"
     ]
    }
   ],
   "source": [
    "set1.discard('x')\n",
    "\n",
    "print(set1)"
   ]
  },
  {
   "cell_type": "code",
   "execution_count": 93,
   "id": "2ef716b4",
   "metadata": {},
   "outputs": [
    {
     "name": "stdout",
     "output_type": "stream",
     "text": [
      "['__and__', '__class__', '__class_getitem__', '__contains__', '__delattr__', '__dir__', '__doc__', '__eq__', '__format__', '__ge__', '__getattribute__', '__gt__', '__hash__', '__iand__', '__init__', '__init_subclass__', '__ior__', '__isub__', '__iter__', '__ixor__', '__le__', '__len__', '__lt__', '__ne__', '__new__', '__or__', '__rand__', '__reduce__', '__reduce_ex__', '__repr__', '__ror__', '__rsub__', '__rxor__', '__setattr__', '__sizeof__', '__str__', '__sub__', '__subclasshook__', '__xor__', 'add', 'clear', 'copy', 'difference', 'difference_update', 'discard', 'intersection', 'intersection_update', 'isdisjoint', 'issubset', 'issuperset', 'pop', 'remove', 'symmetric_difference', 'symmetric_difference_update', 'union', 'update']\n"
     ]
    }
   ],
   "source": [
    "print(dir(set))"
   ]
  },
  {
   "cell_type": "code",
   "execution_count": 94,
   "id": "e934ed56",
   "metadata": {},
   "outputs": [
    {
     "name": "stdout",
     "output_type": "stream",
     "text": [
      "{'e', 'c', 'a', 'd', 'b'}\n"
     ]
    }
   ],
   "source": [
    "set1 = set('abcde')\n",
    "\n",
    "print(set1)\n",
    "\n"
   ]
  },
  {
   "cell_type": "code",
   "execution_count": 95,
   "id": "340d75b6",
   "metadata": {},
   "outputs": [
    {
     "name": "stdout",
     "output_type": "stream",
     "text": [
      "e\n",
      "c\n",
      "a\n",
      "d\n",
      "b\n"
     ]
    }
   ],
   "source": [
    "for x in set1:\n",
    "    print(x)"
   ]
  },
  {
   "cell_type": "code",
   "execution_count": 96,
   "id": "ce1a204a",
   "metadata": {},
   "outputs": [
    {
     "ename": "TypeError",
     "evalue": "'set' object is not subscriptable",
     "output_type": "error",
     "traceback": [
      "\u001b[1;31m---------------------------------------------------------------------------\u001b[0m",
      "\u001b[1;31mTypeError\u001b[0m                                 Traceback (most recent call last)",
      "\u001b[1;32m~\\AppData\\Local\\Temp\\ipykernel_10388\\2166654704.py\u001b[0m in \u001b[0;36m<module>\u001b[1;34m\u001b[0m\n\u001b[1;32m----> 1\u001b[1;33m \u001b[0mset1\u001b[0m\u001b[1;33m[\u001b[0m\u001b[1;36m0\u001b[0m\u001b[1;33m]\u001b[0m\u001b[1;33m\u001b[0m\u001b[1;33m\u001b[0m\u001b[0m\n\u001b[0m",
      "\u001b[1;31mTypeError\u001b[0m: 'set' object is not subscriptable"
     ]
    }
   ],
   "source": [
    "set1[0]"
   ]
  },
  {
   "cell_type": "code",
   "execution_count": null,
   "id": "3c9922de",
   "metadata": {},
   "outputs": [],
   "source": []
  },
  {
   "cell_type": "markdown",
   "id": "a9642e89",
   "metadata": {},
   "source": [
    "#### Frozen Sets"
   ]
  },
  {
   "cell_type": "code",
   "execution_count": null,
   "id": "1fdc8f11",
   "metadata": {},
   "outputs": [],
   "source": []
  },
  {
   "cell_type": "code",
   "execution_count": 97,
   "id": "bec65aaf",
   "metadata": {},
   "outputs": [],
   "source": [
    "# Properties of frozen sets\n",
    "\n",
    "# 1. Derived\n",
    "# 2. Immutable\n",
    "# 3. Unordered\n",
    "# 4. Not subscriptable\n",
    "# 5. Iterable\n",
    "# 6. Values of a set must be unique and Immutable\n",
    "# 7. Heterogenous\n",
    "\n",
    "# Frozen sets are immutable sets"
   ]
  },
  {
   "cell_type": "code",
   "execution_count": 98,
   "id": "f6d9f671",
   "metadata": {},
   "outputs": [
    {
     "name": "stdout",
     "output_type": "stream",
     "text": [
      "frozenset({'e', 'c', 'a', 'd', 'b'})\n",
      "<class 'frozenset'>\n"
     ]
    }
   ],
   "source": [
    "frozenset1 = frozenset('abcdede')\n",
    "\n",
    "print(frozenset1)\n",
    "print(type(frozenset1))"
   ]
  },
  {
   "cell_type": "code",
   "execution_count": 99,
   "id": "5b1c8670",
   "metadata": {},
   "outputs": [
    {
     "name": "stdout",
     "output_type": "stream",
     "text": [
      "['__and__', '__class__', '__class_getitem__', '__contains__', '__delattr__', '__dir__', '__doc__', '__eq__', '__format__', '__ge__', '__getattribute__', '__gt__', '__hash__', '__iand__', '__init__', '__init_subclass__', '__ior__', '__isub__', '__iter__', '__ixor__', '__le__', '__len__', '__lt__', '__ne__', '__new__', '__or__', '__rand__', '__reduce__', '__reduce_ex__', '__repr__', '__ror__', '__rsub__', '__rxor__', '__setattr__', '__sizeof__', '__str__', '__sub__', '__subclasshook__', '__xor__', 'add', 'clear', 'copy', 'difference', 'difference_update', 'discard', 'intersection', 'intersection_update', 'isdisjoint', 'issubset', 'issuperset', 'pop', 'remove', 'symmetric_difference', 'symmetric_difference_update', 'union', 'update']\n"
     ]
    }
   ],
   "source": [
    "print(dir(set))"
   ]
  },
  {
   "cell_type": "code",
   "execution_count": null,
   "id": "78ff0653",
   "metadata": {},
   "outputs": [],
   "source": [
    "1. add - No\n",
    "2. clear - No\n",
    "3. copy - Yes\n",
    "4. difference - Yes\n",
    "5. difference_update - No\n",
    "6. discard - No\n",
    "7. intersection - Yes\n",
    "8. intersection_update - No\n",
    "9. isdisjoint - Yes\n",
    "10. issubset - Yes\n",
    "11. issuperset - Yes\n",
    "12. pop - No\n",
    "13. remove - No\n",
    "14. symmetric_difference - Yes\n",
    "15. symmetric_difference_update - No\n",
    "16. union - Yes\n",
    "17. update - No\n"
   ]
  },
  {
   "cell_type": "code",
   "execution_count": 100,
   "id": "a869a237",
   "metadata": {},
   "outputs": [
    {
     "name": "stdout",
     "output_type": "stream",
     "text": [
      "['__and__', '__class__', '__class_getitem__', '__contains__', '__delattr__', '__dir__', '__doc__', '__eq__', '__format__', '__ge__', '__getattribute__', '__gt__', '__hash__', '__init__', '__init_subclass__', '__iter__', '__le__', '__len__', '__lt__', '__ne__', '__new__', '__or__', '__rand__', '__reduce__', '__reduce_ex__', '__repr__', '__ror__', '__rsub__', '__rxor__', '__setattr__', '__sizeof__', '__str__', '__sub__', '__subclasshook__', '__xor__', 'copy', 'difference', 'intersection', 'isdisjoint', 'issubset', 'issuperset', 'symmetric_difference', 'union']\n"
     ]
    }
   ],
   "source": [
    "print(dir(frozenset))"
   ]
  },
  {
   "cell_type": "code",
   "execution_count": 101,
   "id": "7d77e8d0",
   "metadata": {},
   "outputs": [
    {
     "name": "stdout",
     "output_type": "stream",
     "text": [
      "2.0\n"
     ]
    }
   ],
   "source": [
    "# Compile time errors(syntax errors), runtime errors and logical errors. \n",
    "\n",
    "print(10/5)"
   ]
  },
  {
   "cell_type": "code",
   "execution_count": 102,
   "id": "beeadf56",
   "metadata": {},
   "outputs": [
    {
     "name": "stdout",
     "output_type": "stream",
     "text": [
      "0.5\n"
     ]
    }
   ],
   "source": [
    "print(5/10)"
   ]
  },
  {
   "cell_type": "code",
   "execution_count": 103,
   "id": "9fc9498a",
   "metadata": {},
   "outputs": [],
   "source": [
    "# Compile time errors are violating the syntax rules of python. "
   ]
  },
  {
   "cell_type": "code",
   "execution_count": null,
   "id": "28eb86fa",
   "metadata": {},
   "outputs": [],
   "source": [
    "# They occur because Python is both compiled and interpreted. At compile time - source code is converted to byte code. \n",
    "# If there is an error in the syntax, this step of conversion to byte code cannot happen as Python doesnt understand what\n",
    "# to convert. \n",
    "\n",
    "# Compile Time / Syntax errors MUST be rectified before the source code is converted to byte code - and only after this \n",
    "# can execution begin."
   ]
  },
  {
   "cell_type": "code",
   "execution_count": null,
   "id": "d260acab",
   "metadata": {},
   "outputs": [],
   "source": [
    "# Runtime errors - errors which occur when interpreter executes the code and catches the error. It is possible that there\n",
    "# is a runtime error in the code, but it does not get caught (immediately or ever), depending on the flow of the program\n",
    "# execution. "
   ]
  },
  {
   "cell_type": "code",
   "execution_count": null,
   "id": "62d5c782",
   "metadata": {},
   "outputs": [],
   "source": [
    "# Logical errors - Are errors in flow/logic, made by the developer. The compiler or interpreter cannot catch the logical\n",
    "# error since only the developer knows what output was expected and compare to the actual output. Logical errors can only\n",
    "# be found by rigorous testing and fixed by the developer. "
   ]
  }
 ],
 "metadata": {
  "kernelspec": {
   "display_name": "Python 3 (ipykernel)",
   "language": "python",
   "name": "python3"
  },
  "language_info": {
   "codemirror_mode": {
    "name": "ipython",
    "version": 3
   },
   "file_extension": ".py",
   "mimetype": "text/x-python",
   "name": "python",
   "nbconvert_exporter": "python",
   "pygments_lexer": "ipython3",
   "version": "3.9.13"
  }
 },
 "nbformat": 4,
 "nbformat_minor": 5
}
