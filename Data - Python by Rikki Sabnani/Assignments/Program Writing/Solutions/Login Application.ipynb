{
 "cells": [
  {
   "cell_type": "markdown",
   "id": "7576d20c",
   "metadata": {},
   "source": [
    "#### BEST Data Services Login Application"
   ]
  },
  {
   "cell_type": "markdown",
   "id": "1897cc1b",
   "metadata": {},
   "source": [
    "We have been contracted by BEST Data Services to write the program for login access to their services. We also need to allow access to the different services based on the users profile and also offer complementary services from time to time. "
   ]
  },
  {
   "cell_type": "code",
   "execution_count": 16,
   "id": "89c015c7",
   "metadata": {},
   "outputs": [],
   "source": [
    "users = {'JohnDoe' : ('CID0001','JDoe1991.03.06', [1,2,3], 'jdoe@xyzmail.com'),'VikekSingh' : ('CID0002' ,'VSingh200!',\\\n",
    "[2,3],'Vivek.Singh2001@microsoft.com'), 'PrajaktaS':('CID0003','pr@j@kt@5',[1], 'Sharma.Praju@gmail.com')}\n"
   ]
  },
  {
   "cell_type": "markdown",
   "id": "05c28849",
   "metadata": {},
   "source": [
    "So far, the company has only a few users whose information is in the users dictionary. Each key is the username. The value has the following elements:\n",
    "\n",
    "1. The customer ID\n",
    "2. Password - The password must contain at least one upper case alphabet, at least one small case alphabet, one number and one symbol.\n",
    "3. Subscribed services in the form of a list:\n",
    "   1 - Stands for Internet Services\n",
    "   2 - Stands for Mobile Services\n",
    "   3 - Stands for Cable TV Services\n",
    "   4 - Is the users email address. \n",
    "   \n",
    "   \n",
    "First, we need to check if all the passwords in the dictionary conform to the rules for the passwords. "
   ]
  },
  {
   "cell_type": "code",
   "execution_count": 17,
   "id": "12523eda",
   "metadata": {},
   "outputs": [
    {
     "name": "stdout",
     "output_type": "stream",
     "text": [
      "['!', '\"', '#', '$', '%', '&', \"'\", '(', ')', '*', '+', ',', '-', '.', '/', ':', ';', '<', '=', '>', '?', '@', '[', '\\\\', ']', '^', '_', '`', '{', '|', '}', '~']\n"
     ]
    }
   ],
   "source": [
    "symbols = [chr(x) for x in range(33,48)] + [chr(x) for x in range(58,65)] + [chr(x) for x in range(91,97)]\\\n",
    "+ [chr(x) for x in range(123,127)]\n",
    "\n",
    "print(symbols)"
   ]
  },
  {
   "cell_type": "markdown",
   "id": "73982eb5",
   "metadata": {},
   "source": [
    "Write a function called pwd_rules to check if each password in our dictionary conforms to the password rules. Then run a for loop to check if all the passwords conform to our password rules using the function. If the password does not conform to the rules, then print <login> needs to change their password on next login attempt to the screen. If the password conforms then do nothing (pass). "
   ]
  },
  {
   "cell_type": "code",
   "execution_count": 27,
   "id": "fd9f4029",
   "metadata": {},
   "outputs": [
    {
     "name": "stdout",
     "output_type": "stream",
     "text": [
      "JohnDoe's password is A Valid Password.\n",
      "VikekSingh's password is A Valid Password.\n",
      "PrajaktaS's password is An ====>>   Invalid password <<=====.\n"
     ]
    }
   ],
   "source": [
    "def pwd_rules(pwd):\n",
    "    pwdcheck = {'upper':0, 'lower':0, 'number':0, 'symbol':0}\n",
    "    for char in pwd:\n",
    "        if char.isupper():\n",
    "            pwdcheck['upper'] += 1\n",
    "        elif char.islower():\n",
    "            pwdcheck['lower'] += 1\n",
    "        elif char.isdigit():\n",
    "            pwdcheck['number'] += 1\n",
    "        elif char in symbols:\n",
    "            pwdcheck['symbol'] += 1\n",
    "    if all(pwdcheck.values()):\n",
    "        return 'Valid Password'\n",
    "    else:\n",
    "        return 'Invalid password'\n",
    "            \n",
    "\n",
    "for login in users:\n",
    "    pwd = users[login][1]\n",
    "    print(f\"{login}'s password is {pwd_rules(pwd)}.\")\n",
    "    "
   ]
  },
  {
   "cell_type": "markdown",
   "id": "f297d721",
   "metadata": {},
   "source": [
    "Write a function to reset password called reset_pwd\n",
    "\n",
    "\n",
    "by entering Customer ID. If user has forgotten customer ID, then give them a contact \\\n",
    "number +900 987 654 321 to call for human assistance. \n",
    "\n",
    "It will take ask user to enter either their username or email address. If either is present in our users dictionary, it will send an email to user to reset their password with the following text:\n",
    "\n",
    "Dear <username>,\n",
    "    You are receiving this email because we have received a password reset request. To reset your password type 1 in the prompt below. To exit type 2. \n",
    "    If you have not requested a password reset, type 2 and exit the application. \n",
    "    \n",
    " Thank you. "
   ]
  },
  {
   "cell_type": "code",
   "execution_count": null,
   "id": "ceb82255",
   "metadata": {},
   "outputs": [],
   "source": [
    "First write a simple function that takes user input for new password called new_password. Initialise a variable in it called\n",
    "new_pwd that takes user input for new password. Return new_pwd variable from the function. \n",
    "\n",
    "Define the password rules in the input prompt. \n",
    "\n",
    "\n"
   ]
  },
  {
   "cell_type": "code",
   "execution_count": null,
   "id": "cce90018",
   "metadata": {},
   "outputs": [],
   "source": [
    "def new_password():\n",
    "    new_pwd = input('''Please input new password. Password must have:\n",
    "                at least 1 capital<upper case> letter, at least 1 lowercase letter, 1 digit and 1 symbol.''')\n",
    "    return new_pwd"
   ]
  },
  {
   "cell_type": "code",
   "execution_count": 32,
   "id": "313ae688",
   "metadata": {},
   "outputs": [],
   "source": [
    "def reset_pwd():\n",
    "    request = input('''Please follow the instructions below:\n",
    "    1. To reset your password\n",
    "    2. To exit application''')\n",
    "    if request == '1':\n",
    "        usernameOrEmail = input('''Please input either your username or email address. These are casesensitive.''')\n",
    "        emails = [users[user][-1] for user in users]\n",
    "        usernames = [user for user in users]\n",
    "        CIDs = [users[user][1] for user in users]\n",
    "        if usernameOrEmail in usernames or usernameOrEmail in emails:\n",
    "            if usernameOrEmail in emails:\n",
    "                CIDusers = CIDs[emails.index(usernameOrEmail)]\n",
    "                print(CIDusers)\n",
    "                userID = usernames[emails.index(usernameOrEmail)]\n",
    "            elif usernameOrEmail in usernames:\n",
    "                CIDusers = CIDs[usernames.index(usernameOrEmail)]\n",
    "                userID = usernames[usernames.index(usernameOrEmail)]\n",
    "            cid = input('''Please enter your customer ID.\n",
    "            If you have forgotten your customer ID please contact +900 987 654 321 for assistance.''')\n",
    "            if CIDusers == cid:\n",
    "                attempts = 0\n",
    "                while attempts < 3:\n",
    "                    new_pwd = new_password()\n",
    "                    pwdcheck = pwd_rules(new_pwd)\n",
    "                    if pwdcheck == 'Valid':\n",
    "                        users[user][1] = new_pwd\n",
    "                        break\n",
    "                    else:\n",
    "                        attempts +=1\n",
    "            else:\n",
    "                print('Fault')\n",
    "                    \n",
    "                    \n",
    "                \n",
    "    "
   ]
  },
  {
   "cell_type": "code",
   "execution_count": 33,
   "id": "e2cad4e6",
   "metadata": {},
   "outputs": [
    {
     "name": "stdout",
     "output_type": "stream",
     "text": [
      "Please follow the instructions below:\n",
      "    1. To reset your password\n",
      "    2. To exit application1\n",
      "Please input either your username or email address. These are casesensitive.PrajaktaS\n",
      "Please enter your customer ID.\n",
      "            If you have forgotten your customer ID please contact +900 987 654 321 for assistance.CID0003\n",
      "Fault\n"
     ]
    }
   ],
   "source": [
    "reset_pwd()"
   ]
  },
  {
   "cell_type": "code",
   "execution_count": null,
   "id": "dc1f4b79",
   "metadata": {},
   "outputs": [],
   "source": []
  }
 ],
 "metadata": {
  "kernelspec": {
   "display_name": "Python 3",
   "language": "python",
   "name": "python3"
  },
  "language_info": {
   "codemirror_mode": {
    "name": "ipython",
    "version": 3
   },
   "file_extension": ".py",
   "mimetype": "text/x-python",
   "name": "python",
   "nbconvert_exporter": "python",
   "pygments_lexer": "ipython3",
   "version": "3.8.5"
  }
 },
 "nbformat": 4,
 "nbformat_minor": 5
}
