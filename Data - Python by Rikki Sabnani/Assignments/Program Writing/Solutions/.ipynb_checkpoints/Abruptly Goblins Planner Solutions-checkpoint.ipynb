{
 "cells": [
  {
   "cell_type": "markdown",
   "metadata": {},
   "source": [
    "# Introduction\n",
    "\n",
    "Opening your comic book store, the Sorcery Society, has been a lifelong dream come true. You quickly diversified your shop offerings to include miniatures, plush toys, collectible card games, and board games. Eventually, the store became more a games store with a selection of this week's newest comic books and a small offering of graphic novel paperbacks. Completing your transformation means offering space for local tabletop gamers. They love to play their favorite RPG, \"Abruptly Goblins!\" and will happily pay you per chair to secure the space to do it. Unfortunately, planning the game night has fallen to you. If you pick the wrong night, not enough people will come and the game night will be cancelled. You decide it's best that you automate the game night selector to get the most people through the door. First you need to create a list of people who will be attending the game night.\n",
    "\n",
    "**Instructions**\n",
    "\n",
    "Create an empty list called `gamers`. This will be your list of people who are attending game night."
   ]
  },
  {
   "cell_type": "code",
   "execution_count": 1,
   "metadata": {},
   "outputs": [],
   "source": [
    "gamers = []"
   ]
  },
  {
   "cell_type": "markdown",
   "metadata": {},
   "source": [
    "Now we want to create a function that will update this list and add a new gamer to the this `gamers` list. Each `gamer` should be a dictionary with the following keys:\n",
    " - `\"name\"`: a string that contains the gamer's full or presumed name. E.g., \"Vicky Very\"\n",
    " - `\"availability\"`: a list of strings containing the names of the days of the week that the gamer is available. E.g., [\"Monday\", \"Thursday\", \"Sunday\"]\n",
    " \n",
    "**Instructions**\n",
    "\n",
    "Create a function called `add_gamer` that takes two parameters: `gamer` and `gamers_list`. The function should check that the argument passed to the `gamer` parameter has both `\"name\"` and a `\"availability\"` as keys and if so add `gamer` to `gamers_list`."
   ]
  },
  {
   "cell_type": "code",
   "execution_count": 2,
   "metadata": {},
   "outputs": [],
   "source": [
    "def add_gamer(gamer, gamers_list):\n",
    "    if 'name' in gamer and 'availability' in gamer:\n",
    "        gamers_list.append(gamer)"
   ]
  },
  {
   "cell_type": "markdown",
   "metadata": {},
   "source": [
    "Next we want to add our first gamer! Her name is Kimberly Warner and she's available on Mondays, Tuesdays, and Fridays.\n",
    "\n",
    "**Instructions**\n",
    "\n",
    "1. Create a dictionary called `kimberly` with the name and availability given above.\n",
    "2. Call `add_gamer` with `kimberly` as the first argument and `gamers` as the second."
   ]
  },
  {
   "cell_type": "code",
   "execution_count": 3,
   "metadata": {},
   "outputs": [],
   "source": [
    "kimberly = {'name': 'Kimberly Warner', 'availability' : ['M', 'T', 'F']}"
   ]
  },
  {
   "cell_type": "code",
   "execution_count": 4,
   "metadata": {},
   "outputs": [
    {
     "name": "stdout",
     "output_type": "stream",
     "text": [
      "[{'name': 'Kimberly Warner', 'availability': ['M', 'T', 'F']}]\n"
     ]
    }
   ],
   "source": [
    "add_gamer(kimberly, gamers)\n",
    "\n",
    "print(gamers)"
   ]
  },
  {
   "cell_type": "markdown",
   "metadata": {},
   "source": [
    "Great! Let's add a couple more gamers to the list!\n",
    "\n",
    "names = ['Tom Cruise','Brad Pitt', 'ShahRukh Khan', 'Alia Bhatt', 'Ranveer Singh', 'Deepika Padukone-Singh',\n",
    "'Catherine-Zeta Jones', 'Virat Kohli', 'Anushka Sharma-Kohli', 'Kobe \"Bean\" Bryant']\n",
    "\n",
    "availability = [['M'], ['S', 'W'], ['T','Th','F'], ['Th','Sa','S'], ['F','Sa','S'], ['F','Sa','S'], ['M','W','S'],\n",
    "['Th','F'], ['S', 'M','T'], ['S']]"
   ]
  },
  {
   "cell_type": "code",
   "execution_count": 5,
   "metadata": {},
   "outputs": [],
   "source": [
    "def create_gamer(name, availability):\n",
    "    gamer_dict = {'name' : name, 'availability' : availability}\n",
    "    return gamer_dict\n",
    "\n",
    "names = ['Tom Cruise','Brad Pitt', 'ShahRukh Khan', 'Alia Bhatt', 'Ranveer Singh', 'Deepika Padukone-Singh', \\\n",
    "         'Catherine-Zeta Jones', 'Virat Kohli', 'Anushka Sharma-Kohli', 'Kobe \"Bean\" Bryant']\n",
    "availability = [['M'], ['S', 'W'], ['T','Th','F'], ['Th','Sa','S'], ['F','Sa','S'], ['F','Sa','S'], ['M','W','S'],\\\n",
    "                ['Th','F'], ['S', 'M','T'], ['S']]\n",
    "\n",
    "for i in range(len(names)):\n",
    "    add_gamer(create_gamer(names[i], availability[i]),gamers)\n",
    "\n",
    "\n"
   ]
  },
  {
   "cell_type": "markdown",
   "metadata": {},
   "source": [
    "## Finding the perfect availability\n",
    "\n",
    "Now that we have a list of all of the people interested in game night, we want to be able to calculate which nights would have the most participation. First we need to create a frequency table which correlates each day of the week with gamer availability.\n",
    "\n",
    "**Instructions**\n",
    "\n",
    "Create a function called `build_daily_frequency_table` that takes no argument returns a dictionary with the days of the week as keys and `0`s for values. We'll be using this to count the availability per night. Call `build_daily_frequency_table` and save the results to a variable called `count_availability`."
   ]
  },
  {
   "cell_type": "code",
   "execution_count": 6,
   "metadata": {},
   "outputs": [
    {
     "name": "stdout",
     "output_type": "stream",
     "text": [
      "{'M': 0, 'T': 0, 'W': 0, 'Th': 0, 'F': 0, 'Sa': 0, 'S': 0}\n"
     ]
    }
   ],
   "source": [
    "days_of_week = ['M','T','W','Th','F','Sa','S']\n",
    "\n",
    "def build_daily_frequency_table():\n",
    "    count_availability = {}\n",
    "    for x in days_of_week:\n",
    "        count_availability[x] = 0\n",
    "    return count_availability\n",
    "        \n",
    "count_availability = build_daily_frequency_table()\n",
    "        \n",
    "print(count_availability)"
   ]
  },
  {
   "cell_type": "markdown",
   "metadata": {},
   "source": [
    "Next we need to count the number of people every night.\n",
    "\n",
    "**Instructions**\n",
    "\n",
    "Write a function called `calculate_availability` that takes a list of gamers as an argument `gamers_list` and a frequency table `available_frequency`. The function should iterate through each gamer in `gamers_list` and iterate through each day in the gamer's availability. For each day in the gamer's availability, add one to that date on the frequency table."
   ]
  },
  {
   "cell_type": "code",
   "execution_count": 7,
   "metadata": {},
   "outputs": [
    {
     "name": "stdout",
     "output_type": "stream",
     "text": [
      "[{'name': 'Kimberly Warner', 'availability': ['M', 'T', 'F']}, {'name': 'Tom Cruise', 'availability': ['M']}, {'name': 'Brad Pitt', 'availability': ['S', 'W']}, {'name': 'ShahRukh Khan', 'availability': ['T', 'Th', 'F']}, {'name': 'Alia Bhatt', 'availability': ['Th', 'Sa', 'S']}, {'name': 'Ranveer Singh', 'availability': ['F', 'Sa', 'S']}, {'name': 'Deepika Padukone-Singh', 'availability': ['F', 'Sa', 'S']}, {'name': 'Catherine-Zeta Jones', 'availability': ['M', 'W', 'S']}, {'name': 'Virat Kohli', 'availability': ['Th', 'F']}, {'name': 'Anushka Sharma-Kohli', 'availability': ['S', 'M', 'T']}, {'name': 'Kobe \"Bean\" Bryant', 'availability': ['S']}]\n"
     ]
    }
   ],
   "source": [
    "print(gamers)"
   ]
  },
  {
   "cell_type": "code",
   "execution_count": 8,
   "metadata": {},
   "outputs": [],
   "source": [
    "def calculate_availability(gamers_list, available_frequency):\n",
    "    for g in gamers_list:\n",
    "        for a in g['availability']:\n",
    "            available_frequency[a] += 1\n",
    "    return available_frequency\n",
    "        "
   ]
  },
  {
   "cell_type": "markdown",
   "metadata": {},
   "source": [
    "Now let's use these tools to find the best night to run Abruptly Goblins!\n",
    "\n",
    "**Instructions**\n",
    "\n",
    "Call `calculate_availability` with `gamers` and `count_availability`. Print out `count_availability` afterwards."
   ]
  },
  {
   "cell_type": "code",
   "execution_count": 9,
   "metadata": {},
   "outputs": [
    {
     "name": "stdout",
     "output_type": "stream",
     "text": [
      "{'M': 4, 'T': 3, 'W': 2, 'Th': 3, 'F': 5, 'Sa': 3, 'S': 7}\n"
     ]
    }
   ],
   "source": [
    "calculate_availability(gamers, count_availability)\n",
    "\n",
    "print(count_availability)"
   ]
  },
  {
   "cell_type": "markdown",
   "metadata": {},
   "source": [
    "Lastly we need a way to pick the day with the most available people to attend so that we can schedule game night on that night.\n",
    "\n",
    "**Instructions**\n",
    "\n",
    "Write a function `find_best_night` that takes a dictionary `availability_table` and returns the key with the highest number."
   ]
  },
  {
   "cell_type": "code",
   "execution_count": 10,
   "metadata": {},
   "outputs": [],
   "source": [
    "def find_best_night(availability_table):\n",
    "    for high in availability_table:\n",
    "        if availability_table[high] == max(availability_table.values()):\n",
    "            game_night = high\n",
    "    return game_night\n",
    "        "
   ]
  },
  {
   "cell_type": "markdown",
   "metadata": {},
   "source": [
    "Now let's find the best day to host game night.\n",
    "\n",
    "**Instructions**\n",
    "\n",
    "Call `find_best_night` with `count_availability`, store the result in a variable called `game_night`.\n",
    "Print out `game_night` to find out which day it is."
   ]
  },
  {
   "cell_type": "code",
   "execution_count": 11,
   "metadata": {},
   "outputs": [
    {
     "name": "stdout",
     "output_type": "stream",
     "text": [
      "S\n"
     ]
    }
   ],
   "source": [
    "game_night = find_best_night(count_availability)\n",
    "\n",
    "print(game_night)"
   ]
  },
  {
   "cell_type": "markdown",
   "metadata": {},
   "source": [
    "And let's make a list of all of the people who are available that night.\n",
    "\n",
    "**Instructions**\n",
    "\n",
    "* Create a function `available_on_night` that takes two parameters: `gamers_list` and `day` and returns a list of people who are available on that particular day.\n",
    "* Call `available_on_night` with `gamers` and `game_night` and save the result into the variable `attending_game_night`.\n",
    "* Print `attending_game_night`."
   ]
  },
  {
   "cell_type": "code",
   "execution_count": 12,
   "metadata": {},
   "outputs": [],
   "source": [
    "def available_on_night(gamers_list, day):\n",
    "    available_peeps = []\n",
    "    for each in gamers_list:\n",
    "        if day in each['availability']:\n",
    "            available_peeps.append(each['name'])\n",
    "    return available_peeps\n"
   ]
  },
  {
   "cell_type": "code",
   "execution_count": 13,
   "metadata": {},
   "outputs": [
    {
     "name": "stdout",
     "output_type": "stream",
     "text": [
      "['Brad Pitt', 'Alia Bhatt', 'Ranveer Singh', 'Deepika Padukone-Singh', 'Catherine-Zeta Jones', 'Anushka Sharma-Kohli', 'Kobe \"Bean\" Bryant']\n"
     ]
    }
   ],
   "source": [
    "attending_game_night = available_on_night(gamers, game_night)\n",
    "\n",
    "print(attending_game_night)"
   ]
  },
  {
   "cell_type": "markdown",
   "metadata": {},
   "source": [
    "## Generating an E-mail for the Participants\n",
    "\n",
    "With the best day for Abruptly Goblins! determined with computer precision, we need to let the attendees know that the game night is on a night they can attend. "
   ]
  },
  {
   "cell_type": "markdown",
   "metadata": {},
   "source": [
    "**Instructions**\n",
    "\n",
    "Create a function `send_email` with three parameters: `gamers_who_can_attend`, `day`, and `game`. Print the following message with interpolable variables which we shall fill with each gamer in `gamers_who_can_attend` with the appropriate `day` and `game`.\n",
    "\n",
    "'Hi {gamer_name}. \n",
    "\n",
    "Greetings from the Sorcery Society!\n",
    "\n",
    "We know you love the {game} game and would love to be able to compete with other people. \n",
    "\n",
    "We are hosting an {game} game night on {day} where we expect a sizable turnout.\n",
    "\n",
    "It would be wonderful if we could see you there too! Mark the day on your calendar and \n",
    "\n",
    "Game on!\n",
    "\n",
    "The Sorcery Society Team'\n",
    "\n",
    "#### Call `send_email` with `attending_game_night`, `game_night`, and `\"Abruptly Goblins!\"`."
   ]
  },
  {
   "cell_type": "code",
   "execution_count": 14,
   "metadata": {},
   "outputs": [],
   "source": [
    "def send_email(gamers_who_can_attend, day, game):\n",
    "    for gamer_name in gamers_who_can_attend:\n",
    "        print(f'''Hi {gamer_name}. \n",
    "\n",
    "Greetings from the Sorcery Society!\n",
    "\n",
    "We know you love the {game} game and would love to be able to compete with other people. \n",
    "\n",
    "We are hosting an {game} game night on {day} where we expect a sizable turnout.\n",
    "\n",
    "It would be wonderful if we could see you there too! Mark the day on your calendar and \n",
    "\n",
    "Game on!\n",
    "\n",
    "The Sorcery Society Team ''', end = '\\n'+ '-'*120+'\\n'*3)\n",
    "        "
   ]
  },
  {
   "cell_type": "code",
   "execution_count": 15,
   "metadata": {},
   "outputs": [
    {
     "name": "stdout",
     "output_type": "stream",
     "text": [
      "Hi Brad Pitt. \n",
      "\n",
      "Greetings from the Sorcery Society!\n",
      "\n",
      "We know you love the Abruptly Goblins game and would love to be able to compete with other people. \n",
      "\n",
      "We are hosting an Abruptly Goblins game night on S where we expect a sizable turnout.\n",
      "\n",
      "It would be wonderful if we could see you there too! Mark the day on your calendar and \n",
      "\n",
      "Game on!\n",
      "\n",
      "The Sorcery Society Team \n",
      "------------------------------------------------------------------------------------------------------------------------\n",
      "\n",
      "\n",
      "Hi Alia Bhatt. \n",
      "\n",
      "Greetings from the Sorcery Society!\n",
      "\n",
      "We know you love the Abruptly Goblins game and would love to be able to compete with other people. \n",
      "\n",
      "We are hosting an Abruptly Goblins game night on S where we expect a sizable turnout.\n",
      "\n",
      "It would be wonderful if we could see you there too! Mark the day on your calendar and \n",
      "\n",
      "Game on!\n",
      "\n",
      "The Sorcery Society Team \n",
      "------------------------------------------------------------------------------------------------------------------------\n",
      "\n",
      "\n",
      "Hi Ranveer Singh. \n",
      "\n",
      "Greetings from the Sorcery Society!\n",
      "\n",
      "We know you love the Abruptly Goblins game and would love to be able to compete with other people. \n",
      "\n",
      "We are hosting an Abruptly Goblins game night on S where we expect a sizable turnout.\n",
      "\n",
      "It would be wonderful if we could see you there too! Mark the day on your calendar and \n",
      "\n",
      "Game on!\n",
      "\n",
      "The Sorcery Society Team \n",
      "------------------------------------------------------------------------------------------------------------------------\n",
      "\n",
      "\n",
      "Hi Deepika Padukone-Singh. \n",
      "\n",
      "Greetings from the Sorcery Society!\n",
      "\n",
      "We know you love the Abruptly Goblins game and would love to be able to compete with other people. \n",
      "\n",
      "We are hosting an Abruptly Goblins game night on S where we expect a sizable turnout.\n",
      "\n",
      "It would be wonderful if we could see you there too! Mark the day on your calendar and \n",
      "\n",
      "Game on!\n",
      "\n",
      "The Sorcery Society Team \n",
      "------------------------------------------------------------------------------------------------------------------------\n",
      "\n",
      "\n",
      "Hi Catherine-Zeta Jones. \n",
      "\n",
      "Greetings from the Sorcery Society!\n",
      "\n",
      "We know you love the Abruptly Goblins game and would love to be able to compete with other people. \n",
      "\n",
      "We are hosting an Abruptly Goblins game night on S where we expect a sizable turnout.\n",
      "\n",
      "It would be wonderful if we could see you there too! Mark the day on your calendar and \n",
      "\n",
      "Game on!\n",
      "\n",
      "The Sorcery Society Team \n",
      "------------------------------------------------------------------------------------------------------------------------\n",
      "\n",
      "\n",
      "Hi Anushka Sharma-Kohli. \n",
      "\n",
      "Greetings from the Sorcery Society!\n",
      "\n",
      "We know you love the Abruptly Goblins game and would love to be able to compete with other people. \n",
      "\n",
      "We are hosting an Abruptly Goblins game night on S where we expect a sizable turnout.\n",
      "\n",
      "It would be wonderful if we could see you there too! Mark the day on your calendar and \n",
      "\n",
      "Game on!\n",
      "\n",
      "The Sorcery Society Team \n",
      "------------------------------------------------------------------------------------------------------------------------\n",
      "\n",
      "\n",
      "Hi Kobe \"Bean\" Bryant. \n",
      "\n",
      "Greetings from the Sorcery Society!\n",
      "\n",
      "We know you love the Abruptly Goblins game and would love to be able to compete with other people. \n",
      "\n",
      "We are hosting an Abruptly Goblins game night on S where we expect a sizable turnout.\n",
      "\n",
      "It would be wonderful if we could see you there too! Mark the day on your calendar and \n",
      "\n",
      "Game on!\n",
      "\n",
      "The Sorcery Society Team \n",
      "------------------------------------------------------------------------------------------------------------------------\n",
      "\n",
      "\n"
     ]
    }
   ],
   "source": [
    "send_email(attending_game_night, game_night, 'Abruptly Goblins')"
   ]
  },
  {
   "cell_type": "markdown",
   "metadata": {},
   "source": [
    "### Afterward\n",
    "\n",
    "You feel bad for the folks who weren't able to attend on the decided upon game night, and try to use your currently written methods to have a second game night of the week.\n",
    "\n",
    "**Instructions**\n",
    "\n",
    "* Create a list `unable_to_attend_best_night` of everyone in `gamers` that wasn't able to attend game night on `game_night`.\n",
    "* Create `second_night_availability` frequency table by calling `build_daily_frequency_table`.\n",
    "* Call `calculate_availability` with `unable_to_attend_best_night` and `second_night_availability`.\n",
    "* Call `find_best_night` with the now filled-in `second_night_availability`, save the results in `second_night`.\n"
   ]
  },
  {
   "cell_type": "code",
   "execution_count": 16,
   "metadata": {},
   "outputs": [
    {
     "name": "stdout",
     "output_type": "stream",
     "text": [
      "[{'name': 'Kimberly Warner', 'availability': ['M', 'T', 'F']}, {'name': 'Tom Cruise', 'availability': ['M']}, {'name': 'Brad Pitt', 'availability': ['S', 'W']}, {'name': 'ShahRukh Khan', 'availability': ['T', 'Th', 'F']}, {'name': 'Alia Bhatt', 'availability': ['Th', 'Sa', 'S']}, {'name': 'Ranveer Singh', 'availability': ['F', 'Sa', 'S']}, {'name': 'Deepika Padukone-Singh', 'availability': ['F', 'Sa', 'S']}, {'name': 'Catherine-Zeta Jones', 'availability': ['M', 'W', 'S']}, {'name': 'Virat Kohli', 'availability': ['Th', 'F']}, {'name': 'Anushka Sharma-Kohli', 'availability': ['S', 'M', 'T']}, {'name': 'Kobe \"Bean\" Bryant', 'availability': ['S']}]\n"
     ]
    }
   ],
   "source": [
    "print(gamers)"
   ]
  },
  {
   "cell_type": "code",
   "execution_count": 17,
   "metadata": {},
   "outputs": [
    {
     "name": "stdout",
     "output_type": "stream",
     "text": [
      "[{'name': 'Kimberly Warner', 'availability': ['M', 'T', 'F']}, {'name': 'Tom Cruise', 'availability': ['M']}, {'name': 'ShahRukh Khan', 'availability': ['T', 'Th', 'F']}, {'name': 'Virat Kohli', 'availability': ['Th', 'F']}]\n"
     ]
    }
   ],
   "source": [
    "unable_to_attend_best_night = []\n",
    "\n",
    "for gamer in gamers:\n",
    "    if gamer['name'] not in attending_game_night:\n",
    "        unable_to_attend_best_night.append(gamer)\n",
    "\n",
    "print(unable_to_attend_best_night)"
   ]
  },
  {
   "cell_type": "code",
   "execution_count": 18,
   "metadata": {},
   "outputs": [],
   "source": [
    "second_night_availability = build_daily_frequency_table()\n",
    "\n"
   ]
  },
  {
   "cell_type": "code",
   "execution_count": 19,
   "metadata": {},
   "outputs": [
    {
     "name": "stdout",
     "output_type": "stream",
     "text": [
      "{'M': 2, 'T': 2, 'W': 0, 'Th': 2, 'F': 3, 'Sa': 0, 'S': 0}\n"
     ]
    }
   ],
   "source": [
    "second_night_availability = calculate_availability(unable_to_attend_best_night, second_night_availability)\n",
    "\n",
    "print(second_night_availability)"
   ]
  },
  {
   "cell_type": "code",
   "execution_count": 20,
   "metadata": {},
   "outputs": [
    {
     "name": "stdout",
     "output_type": "stream",
     "text": [
      "F\n"
     ]
    }
   ],
   "source": [
    "second_night = find_best_night(second_night_availability)\n",
    "\n",
    "print(second_night)"
   ]
  },
  {
   "cell_type": "markdown",
   "metadata": {},
   "source": [
    "Let's send out an email to everyone (whether they can attend the first night or not) whose marked themselves as available on our second game night.\n",
    "\n",
    "**Instructions**\n",
    "\n",
    "* Create the list `available_second_game_night` by calling `available_on_night` with `gamers` and `second_night`\n",
    "* Let the gamers know by calling `send_email` with `available_second_game_night`, `second_night`, and \"Abruptly Goblins!\""
   ]
  },
  {
   "cell_type": "code",
   "execution_count": 21,
   "metadata": {},
   "outputs": [
    {
     "name": "stdout",
     "output_type": "stream",
     "text": [
      "['Kimberly Warner', 'ShahRukh Khan', 'Ranveer Singh', 'Deepika Padukone-Singh', 'Virat Kohli']\n"
     ]
    }
   ],
   "source": [
    "available_second_game_night = available_on_night(gamers, second_night)\n",
    "print(available_second_game_night)"
   ]
  },
  {
   "cell_type": "code",
   "execution_count": 22,
   "metadata": {},
   "outputs": [
    {
     "name": "stdout",
     "output_type": "stream",
     "text": [
      "Hi Kimberly Warner. \n",
      "\n",
      "Greetings from the Sorcery Society!\n",
      "\n",
      "We know you love the Abruptly Goblins game and would love to be able to compete with other people. \n",
      "\n",
      "We are hosting an Abruptly Goblins game night on F where we expect a sizable turnout.\n",
      "\n",
      "It would be wonderful if we could see you there too! Mark the day on your calendar and \n",
      "\n",
      "Game on!\n",
      "\n",
      "The Sorcery Society Team \n",
      "------------------------------------------------------------------------------------------------------------------------\n",
      "\n",
      "\n",
      "Hi ShahRukh Khan. \n",
      "\n",
      "Greetings from the Sorcery Society!\n",
      "\n",
      "We know you love the Abruptly Goblins game and would love to be able to compete with other people. \n",
      "\n",
      "We are hosting an Abruptly Goblins game night on F where we expect a sizable turnout.\n",
      "\n",
      "It would be wonderful if we could see you there too! Mark the day on your calendar and \n",
      "\n",
      "Game on!\n",
      "\n",
      "The Sorcery Society Team \n",
      "------------------------------------------------------------------------------------------------------------------------\n",
      "\n",
      "\n",
      "Hi Ranveer Singh. \n",
      "\n",
      "Greetings from the Sorcery Society!\n",
      "\n",
      "We know you love the Abruptly Goblins game and would love to be able to compete with other people. \n",
      "\n",
      "We are hosting an Abruptly Goblins game night on F where we expect a sizable turnout.\n",
      "\n",
      "It would be wonderful if we could see you there too! Mark the day on your calendar and \n",
      "\n",
      "Game on!\n",
      "\n",
      "The Sorcery Society Team \n",
      "------------------------------------------------------------------------------------------------------------------------\n",
      "\n",
      "\n",
      "Hi Deepika Padukone-Singh. \n",
      "\n",
      "Greetings from the Sorcery Society!\n",
      "\n",
      "We know you love the Abruptly Goblins game and would love to be able to compete with other people. \n",
      "\n",
      "We are hosting an Abruptly Goblins game night on F where we expect a sizable turnout.\n",
      "\n",
      "It would be wonderful if we could see you there too! Mark the day on your calendar and \n",
      "\n",
      "Game on!\n",
      "\n",
      "The Sorcery Society Team \n",
      "------------------------------------------------------------------------------------------------------------------------\n",
      "\n",
      "\n",
      "Hi Virat Kohli. \n",
      "\n",
      "Greetings from the Sorcery Society!\n",
      "\n",
      "We know you love the Abruptly Goblins game and would love to be able to compete with other people. \n",
      "\n",
      "We are hosting an Abruptly Goblins game night on F where we expect a sizable turnout.\n",
      "\n",
      "It would be wonderful if we could see you there too! Mark the day on your calendar and \n",
      "\n",
      "Game on!\n",
      "\n",
      "The Sorcery Society Team \n",
      "------------------------------------------------------------------------------------------------------------------------\n",
      "\n",
      "\n"
     ]
    }
   ],
   "source": [
    "send_email(available_second_game_night, second_night, 'Abruptly Goblins')"
   ]
  },
  {
   "cell_type": "code",
   "execution_count": null,
   "metadata": {},
   "outputs": [],
   "source": []
  }
 ],
 "metadata": {
  "kernelspec": {
   "display_name": "Python 3",
   "language": "python",
   "name": "python3"
  },
  "language_info": {
   "codemirror_mode": {
    "name": "ipython",
    "version": 3
   },
   "file_extension": ".py",
   "mimetype": "text/x-python",
   "name": "python",
   "nbconvert_exporter": "python",
   "pygments_lexer": "ipython3",
   "version": "3.8.5"
  }
 },
 "nbformat": 4,
 "nbformat_minor": 2
}
