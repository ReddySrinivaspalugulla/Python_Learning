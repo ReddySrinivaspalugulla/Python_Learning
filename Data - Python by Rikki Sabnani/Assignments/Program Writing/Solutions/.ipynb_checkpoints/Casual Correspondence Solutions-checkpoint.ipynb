{
 "cells": [
  {
   "cell_type": "markdown",
   "metadata": {},
   "source": [
    "# Casual Coded Correspondence: The Project\n",
    "\n",
    "In this project, you will be working to code and decode various messages between you and your fictional cryptography enthusiast pen pal Vishal. You and Vishal have been exchanging letters for quite some time now and have started to provide a puzzle in each one of your letters.  Here is his most recent letter:\n",
    "\n",
    "     Hey there! How have you been? I've been great! I just learned about this really cool type of cipher called a  Caesar Cipher. Here's how it works: You take your message, something like \"hello\" and then you shift all of the letters by a certain offset. For example, if I chose an offset of 3 and a message of \"hello\", I would code my message by shifting each letter 3 places to the left (with respect to the alphabet). So \"h\" becomes \"e\", \"e\" becomes, \"b\", \"l\" becomes \"i\", and \"o\" becomes \"l\". Then I have my coded message,\"ebiil\"! Now I can send you my message and the offset and you can decode it. The best thing is that Julius Caesar himself used this cipher, that's why it's called the Caesar Cipher! Isn't that so cool! Okay, now I'm going to send you a longer coded message that you have to decode yourself!\n",
    "    \n",
    "        Xuo jxuhu! Jxyi yi qd unqcfbu ev q Squiqh Syfxuh. Muhu oek qrbu je tusetu yj? Y xefu ie! Iudt cu q cuiiqwu rqsa myjx jxu iqcu evviuj!\n",
    "        \n",
    "    This message has an offset of 10. Can you decode it?\n",
    "    \n",
    "\n",
    "#### Step 1: Decode Vishal's Message\n",
    "In the cell below, use your Python skills to decode Vishal's message and print the result. Hint: you can account for shifts that go past the end of the alphabet using the modulus operator, but I'll let you figure out how!"
   ]
  },
  {
   "cell_type": "code",
   "execution_count": 1,
   "metadata": {},
   "outputs": [],
   "source": [
    "listalpha = list('abcdefghijklmnopqrstuvwxyz')"
   ]
  },
  {
   "cell_type": "code",
   "execution_count": 2,
   "metadata": {},
   "outputs": [
    {
     "name": "stdout",
     "output_type": "stream",
     "text": [
      "Hey there! This is an example of a Caesar Cipher. Were you able to decode it? I hope so! Send me a message back with the same offset!\n"
     ]
    }
   ],
   "source": [
    "decoded_msg = ''\n",
    "message = 'Xuo jxuhu! Jxyi yi qd unqcfbu ev q Squiqh Syfxuh. Muhu oek qrbu je tusetu yj? \\\n",
    "Y xefu ie! Iudt cu q cuiiqwu rqsa myjx jxu iqcu evviuj!'\n",
    "offset = 10\n",
    "\n",
    "for char in message:\n",
    "    if char.lower() in listalpha:\n",
    "        t = listalpha.index(char.lower())\n",
    "        toffset = (t+offset)%26\n",
    "        if char.islower():\n",
    "            decoded_msg += listalpha[toffset]\n",
    "        else:\n",
    "            decoded_msg += listalpha[toffset].upper()\n",
    "    else:\n",
    "        decoded_msg += char\n",
    "        \n",
    "print(decoded_msg)"
   ]
  },
  {
   "cell_type": "markdown",
   "metadata": {},
   "source": [
    "#### Step 2: Send Vishal a Coded Message\n",
    "Great job! Now send Vishal back a message using the same offset.\n",
    "\n",
    "The message is : \n",
    "\n",
    "'Hey man! This is way too easy. Is that the best you got? Hit me with the good stuff.'\n",
    "\n",
    "Remember, coding happens in opposite direction of decoding."
   ]
  },
  {
   "cell_type": "code",
   "execution_count": 3,
   "metadata": {},
   "outputs": [
    {
     "name": "stdout",
     "output_type": "stream",
     "text": [
      "Xuo cqd! Jxyi yi mqo jee uqio. Yi jxqj jxu ruij oek wej? Xyj cu myjx jxu weet ijkvv.\n"
     ]
    }
   ],
   "source": [
    "msg = 'Hey man! This is way too easy. Is that the best you got? Hit me with the good stuff.'\n",
    "offset = 10\n",
    "\n",
    "coded_msg = ''\n",
    "\n",
    "for char in msg:\n",
    "    if char.lower() in listalpha:\n",
    "        t = listalpha.index(char.lower())\n",
    "        toffset = (t-offset)%26\n",
    "        if char.islower():\n",
    "            coded_msg += listalpha[toffset]\n",
    "        else:\n",
    "            coded_msg += listalpha[toffset].upper()\n",
    "    else:\n",
    "        coded_msg += char\n",
    "\n",
    "        \n",
    "print(coded_msg)"
   ]
  },
  {
   "cell_type": "markdown",
   "metadata": {},
   "source": [
    "#### Step 3: Make functions for decoding and coding \n",
    "\n",
    "Vishal sent over another reply, this time with two coded messages!\n",
    "    \n",
    "    You're getting the hang of this! Okay here are two more messages, the first one is coded just like before with  an offset of ten, and it contains the hint for decoding the second message!\n",
    "    \n",
    "    First message:\n",
    "    \n",
    "        Jxu evviuj veh jxu iusedt cuiiqwu yi vekhjuud.\n",
    "        \n",
    "    Second message:\n",
    "    \n",
    "        Bqdradyuzs ygxfubxq Omqemd Oubtqde fa oapq kagd yqeemsqe ue qhqz yadq eqogdq!\n",
    "    \n",
    "Decode both of these messages. \n",
    "\n",
    "If you haven't already, define two functions `decoder(message, offset)` and `coder(message, offset)` that can be used to quickly decode and code messages given any offset."
   ]
  },
  {
   "cell_type": "code",
   "execution_count": 4,
   "metadata": {},
   "outputs": [],
   "source": [
    "message = 'Bqdradyuzs ygxfubxq Omqemd Oubtqde fa oapq kagd yqeemsqe ue qhqz yadq eqogdq!'\n",
    "offset = 14"
   ]
  },
  {
   "cell_type": "code",
   "execution_count": 5,
   "metadata": {},
   "outputs": [
    {
     "name": "stdout",
     "output_type": "stream",
     "text": [
      "Performing multiple Caesar Ciphers to code your messages is even more secure!\n"
     ]
    }
   ],
   "source": [
    "def decoder(message,offset):\n",
    "    decoded_msg = ''\n",
    "    for char in message:\n",
    "        if char.lower() in listalpha:\n",
    "            t = listalpha.index(char.lower())\n",
    "            toffset = (t+offset)%26\n",
    "            if char.islower():\n",
    "                decoded_msg += listalpha[toffset]\n",
    "            else:\n",
    "                decoded_msg += listalpha[toffset].upper()\n",
    "        else:\n",
    "            decoded_msg += char\n",
    "    return decoded_msg\n",
    "\n",
    "print(decoder(message,offset))"
   ]
  },
  {
   "cell_type": "code",
   "execution_count": 6,
   "metadata": {},
   "outputs": [],
   "source": [
    "def coder(message,offset):\n",
    "    coded_msg = ''\n",
    "    for char in message:\n",
    "        if char.lower() in listalpha:\n",
    "            t = listalpha.index(char.lower())\n",
    "            toffset = (t-offset)%26\n",
    "            if char.islower():\n",
    "                coded_msg += listalpha[toffset]\n",
    "            else:\n",
    "                coded_msg += listalpha[toffset].upper()\n",
    "        else:\n",
    "            coded_msg += char\n",
    "    return coded_msg\n"
   ]
  },
  {
   "cell_type": "markdown",
   "metadata": {},
   "source": [
    "Using your coder function, send Vishal the following coded message with an offset of 17. \n",
    "\n",
    "'Your fungshu is weak! If your next task is not challenging I am just going to ignore you!'"
   ]
  },
  {
   "cell_type": "code",
   "execution_count": 7,
   "metadata": {},
   "outputs": [
    {
     "name": "stdout",
     "output_type": "stream",
     "text": [
      "Hxda odwpbqd rb fnjt! Ro hxda wngc cjbt rb wxc lqjuunwprwp R jv sdbc pxrwp cx rpwxan hxd!\n"
     ]
    }
   ],
   "source": [
    "message = 'Your fungshu is weak! If your next task is not challenging I am just going to ignore you!'\n",
    "offset = 17\n",
    "coded_msg = coder(message, offset)\n",
    "\n",
    "print(coded_msg)"
   ]
  },
  {
   "cell_type": "markdown",
   "metadata": {},
   "source": [
    "#### Step 4: Solving a Caesar Cipher without knowing the shift value\n",
    "\n",
    "Awesome work! While you were working to decode his last two messages, Vishal sent over another letter! He's really been bitten by the crytpo-bug. Read it and see what interesting task he has lined up for you this time.\n",
    "\n",
    "            Hello again friend! I knew you would love the Caesar Cipher, it's a cool simple way to encrypt messages. Did you know that back in Caesar's time, it was considered a very secure way of communication and it took a lot of effort to crack if you were unaware of the value of the shift? That's all changed with computers! Now we can brute force these kinds of ciphers very quickly, as I'm sure you can imagine.\n",
    "            \n",
    "            To test your cryptography skills, this next coded message is going to be harder than the last couple to crack. It's still going to be coded with a Caesar Cipher but this time I'm not going to tell you the value of   the shift. You'll have to brute force it yourself.\n",
    "            \n",
    "            Here's the coded message:\n",
    "            \n",
    "            Vhfinmxkl atox kxgwxkxw tee hy maxlx hew vbiaxkl tl hulhexmx. Px'ee atox mh kxteer lmxi ni hnk ztfx by px ptgm mh dxxi hnk fxlltzxl ltyx.\n",
    "            \n",
    "            Good luck!\n",
    "            \n",
    "Decode Vishal's most recent message and see what it says!"
   ]
  },
  {
   "cell_type": "code",
   "execution_count": 8,
   "metadata": {},
   "outputs": [
    {
     "name": "stdout",
     "output_type": "stream",
     "text": [
      "Wigjonylm bupy lyhxylyx uff iz nbymy ifx wcjbylm um ivmifyny.\n",
      "Qy'ff bupy ni lyuffs mnyj oj iol augy cz qy quhn ni eyyj iol gymmuaym muzy.\n",
      "------------------------------------------------------------------------------------------------------------------------\n",
      "\n",
      "Xjhkpozmn cvqz mziyzmzy vgg ja ocznz jgy xdkczmn vn jwnjgzoz.\n",
      "Rz'gg cvqz oj mzvggt nozk pk jpm bvhz da rz rvio oj fzzk jpm hznnvbzn nvaz.\n",
      "------------------------------------------------------------------------------------------------------------------------\n",
      "\n",
      "Ykilqpano dwra najzanaz whh kb pdaoa khz yeldano wo kxokhapa.\n",
      "Sa'hh dwra pk nawhhu opal ql kqn cwia eb sa swjp pk gaal kqn iaoowcao owba.\n",
      "------------------------------------------------------------------------------------------------------------------------\n",
      "\n",
      "Zljmrqbop exsb obkaboba xii lc qebpb lia zfmebop xp lyplibqb.\n",
      "Tb'ii exsb ql obxiiv pqbm rm lro dxjb fc tb txkq ql hbbm lro jbppxdbp pxcb.\n",
      "------------------------------------------------------------------------------------------------------------------------\n",
      "\n",
      "Amknsrcpq fytc pclbcpcb yjj md rfcqc mjb agnfcpq yq mzqmjcrc.\n",
      "Uc'jj fytc rm pcyjjw qrcn sn msp eykc gd uc uylr rm iccn msp kcqqyecq qydc.\n",
      "------------------------------------------------------------------------------------------------------------------------\n",
      "\n",
      "Bnlotsdqr gzud qdmcdqdc zkk ne sgdrd nkc bhogdqr zr narnkdsd.\n",
      "Vd'kk gzud sn qdzkkx rsdo to ntq fzld he vd vzms sn jddo ntq ldrrzfdr rzed.\n",
      "------------------------------------------------------------------------------------------------------------------------\n",
      "\n",
      "Computers have rendered all of these old ciphers as obsolete.\n",
      "We'll have to really step up our game if we want to keep our messages safe.\n",
      "------------------------------------------------------------------------------------------------------------------------\n",
      "\n",
      "Dpnqvufst ibwf sfoefsfe bmm pg uiftf pme djqifst bt pctpmfuf.\n",
      "Xf'mm ibwf up sfbmmz tufq vq pvs hbnf jg xf xbou up lffq pvs nfttbhft tbgf.\n",
      "------------------------------------------------------------------------------------------------------------------------\n",
      "\n",
      "Eqorwvgtu jcxg tgpfgtgf cnn qh vjgug qnf ekrjgtu cu qduqngvg.\n",
      "Yg'nn jcxg vq tgcnna uvgr wr qwt icog kh yg ycpv vq mggr qwt oguucigu uchg.\n",
      "------------------------------------------------------------------------------------------------------------------------\n",
      "\n",
      "Frpsxwhuv kdyh uhqghuhg doo ri wkhvh rog flskhuv dv revrohwh.\n",
      "Zh'oo kdyh wr uhdoob vwhs xs rxu jdph li zh zdqw wr nhhs rxu phvvdjhv vdih.\n",
      "------------------------------------------------------------------------------------------------------------------------\n",
      "\n",
      "Gsqtyxivw lezi virhivih epp sj xliwi sph gmtlivw ew sfwspixi.\n",
      "Ai'pp lezi xs vieppc wxit yt syv keqi mj ai aerx xs oiit syv qiwwekiw weji.\n",
      "------------------------------------------------------------------------------------------------------------------------\n",
      "\n",
      "Htruzyjwx mfaj wjsijwji fqq tk ymjxj tqi hnumjwx fx tgxtqjyj.\n",
      "Bj'qq mfaj yt wjfqqd xyju zu tzw lfrj nk bj bfsy yt pjju tzw rjxxfljx xfkj.\n",
      "------------------------------------------------------------------------------------------------------------------------\n",
      "\n",
      "Iusvazkxy ngbk xktjkxkj grr ul znkyk urj iovnkxy gy uhyurkzk.\n",
      "Ck'rr ngbk zu xkgrre yzkv av uax mgsk ol ck cgtz zu qkkv uax skyygmky yglk.\n",
      "------------------------------------------------------------------------------------------------------------------------\n",
      "\n",
      "Jvtwbalyz ohcl yluklylk hss vm aolzl vsk jpwolyz hz vizvslal.\n",
      "Dl'ss ohcl av ylhssf zalw bw vby nhtl pm dl dhua av rllw vby tlzzhnlz zhml.\n",
      "------------------------------------------------------------------------------------------------------------------------\n",
      "\n",
      "Kwuxcbmza pidm zmvlmzml itt wn bpmam wtl kqxpmza ia wjawtmbm.\n",
      "Em'tt pidm bw zmittg abmx cx wcz oium qn em eivb bw smmx wcz umaaioma ainm.\n",
      "------------------------------------------------------------------------------------------------------------------------\n",
      "\n",
      "Lxvydcnab qjen anwmnanm juu xo cqnbn xum lryqnab jb xkbxuncn.\n",
      "Fn'uu qjen cx anjuuh bcny dy xda pjvn ro fn fjwc cx tnny xda vnbbjpnb bjon.\n",
      "------------------------------------------------------------------------------------------------------------------------\n",
      "\n",
      "Mywzedobc rkfo boxnobon kvv yp droco yvn mszrobc kc ylcyvodo.\n",
      "Go'vv rkfo dy bokvvi cdoz ez yeb qkwo sp go gkxd dy uooz yeb wocckqoc ckpo.\n",
      "------------------------------------------------------------------------------------------------------------------------\n",
      "\n",
      "Nzxafepcd slgp cpyopcpo lww zq espdp zwo ntaspcd ld zmdzwpep.\n",
      "Hp'ww slgp ez cplwwj depa fa zfc rlxp tq hp hlye ez vppa zfc xpddlrpd dlqp.\n",
      "------------------------------------------------------------------------------------------------------------------------\n",
      "\n",
      "Oaybgfqde tmhq dqzpqdqp mxx ar ftqeq axp oubtqde me aneaxqfq.\n",
      "Iq'xx tmhq fa dqmxxk efqb gb agd smyq ur iq imzf fa wqqb agd yqeemsqe emrq.\n",
      "------------------------------------------------------------------------------------------------------------------------\n",
      "\n",
      "Pbzchgref unir eraqrerq nyy bs gurfr byq pvcuref nf bofbyrgr.\n",
      "Jr'yy unir gb ernyyl fgrc hc bhe tnzr vs jr jnag gb xrrc bhe zrffntrf fnsr.\n",
      "------------------------------------------------------------------------------------------------------------------------\n",
      "\n",
      "Qcadihsfg vojs fsbrsfsr ozz ct hvsgs czr qwdvsfg og cpgczshs.\n",
      "Ks'zz vojs hc fsozzm ghsd id cif uoas wt ks kobh hc yssd cif asggousg gots.\n",
      "------------------------------------------------------------------------------------------------------------------------\n",
      "\n",
      "Rdbejitgh wpkt gtcstgts paa du iwtht das rxewtgh ph dqhdatit.\n",
      "Lt'aa wpkt id gtpaan hite je djg vpbt xu lt lpci id ztte djg bthhpvth hput.\n",
      "------------------------------------------------------------------------------------------------------------------------\n",
      "\n",
      "Secfkjuhi xqlu hudtuhut qbb ev jxuiu ebt syfxuhi qi eriebuju.\n",
      "Mu'bb xqlu je huqbbo ijuf kf ekh wqcu yv mu mqdj je auuf ekh cuiiqwui iqvu.\n",
      "------------------------------------------------------------------------------------------------------------------------\n",
      "\n",
      "Tfdglkvij yrmv iveuvivu rcc fw kyvjv fcu tzgyvij rj fsjfcvkv.\n",
      "Nv'cc yrmv kf ivrccp jkvg lg fli xrdv zw nv nrek kf bvvg fli dvjjrxvj jrwv.\n",
      "------------------------------------------------------------------------------------------------------------------------\n",
      "\n",
      "Ugehmlwjk zsnw jwfvwjwv sdd gx lzwkw gdv uahzwjk sk gtkgdwlw.\n",
      "Ow'dd zsnw lg jwsddq klwh mh gmj ysew ax ow osfl lg cwwh gmj ewkksywk ksxw.\n",
      "------------------------------------------------------------------------------------------------------------------------\n",
      "\n"
     ]
    }
   ],
   "source": [
    "message = '''Vhfinmxkl atox kxgwxkxw tee hy maxlx hew vbiaxkl tl hulhexmx.\n",
    "Px'ee atox mh kxteer lmxi ni hnk ztfx by px ptgm mh dxxi hnk fxlltzxl ltyx.'''\n",
    "\n",
    "for n in range(1,26):\n",
    "    print(decoder(message,n), end='\\n'+'-'*120+'\\n'*2)"
   ]
  },
  {
   "cell_type": "markdown",
   "metadata": {},
   "source": [
    "Step 5: The Vigenère Cipher\n",
    "Great work! While you were working on the brute force cracking of the cipher, Vishal sent over another letter. That guy is a letter machine!\n",
    "\n",
    "        Salutations! As you can see, technology has made brute forcing simple ciphers like the Caesar Cipher extremely easy, and us crypto-enthusiasts have had to get more creative and use more complicated ciphers. This next cipher I'm going to teach you is the Vigenère Cipher, invented by an Italian cryptologist named Giovan Battista Bellaso (cool name eh?) in the 16th century, but named after another cryptologist from the 16th century, Blaise de Vigenère.\n",
    "\n",
    "       The Vigenère Cipher is a polyalphabetic substitution cipher, as opposed to the Caesar Cipher which was a monoalphabetic substitution cipher. What this means is that opposed to having a single shift that is applied to every letter, the Vigenère Cipher has a different shift for each individual letter. The value of the shift for each letter is determined by a given keyword.\n",
    "\n",
    "       Consider the message\n",
    "\n",
    "           barry is the spy\n",
    "\n",
    "       If we want to code this message, first we choose a keyword. For this example, we'll use the keyword\n",
    "\n",
    "           dog\n",
    "\n",
    "       Now we use the repeat the keyword over and over to generate a _keyword phrase_ that is the same length as the message we want to code. So if we want to code the message \"barry is the spy\" our _keyword phrase_ is \"dogdo gd ogd ogd\". Now we are ready to start coding our message. We shift the each letter of our message by the place value of the corresponding letter in the keyword phrase, assuming that \"a\" has a place value of 0, \"b\" has a place value of 1, and so forth. Remember, we zero-index because this is Python we're talking about!\n",
    "\n",
    "                    message:       b  a  r  r  y    i  s   t  h  e   s  p  y\n",
    "\n",
    "             keyword phrase:       d  o  g  d  o    g  d   o  g  d   o  g  d\n",
    "\n",
    "      resulting place value:       4  14 23 20 12   14 21  7  13 7   6  21 1\n",
    "\n",
    "        So we shift \"b\", which has an index of 1, by the index of \"d\", which is 3. This gives us an place value of 4, which is \"e\". Then continue the trend: we shift \"a\" by the place value of \"o\", 14, and get \"o\" again, we shift \"r\" by the place value of \"g\", 23, and get \"x\", shift the next \"r\" by 6 places and \"u\", and so forth. Once we complete all the shifts we end up with our coded message:\n",
    "\n",
    "            eoxum ov hnh gvb\n",
    "\n",
    "        As you can imagine, this is a lot harder to crack without knowing the keyword! So now comes the hard part. I'll give you a message and the keyword, and you'll see if you can figure out how to crack it! Ready? Okay here's my message:\n",
    "\n",
    "            Dfc aruw fsti gr vjtwhr wznj? Vmph otis! Cbx swv jipreneo uhllj kpi rahjib eg fjdkwkedhmp!\n",
    "\n",
    "        and the keyword to decode my message is \n",
    "\n",
    "            friends\n",
    "\n",
    "        Because that's what we are! Good luck friend!\n",
    "And there it is. Vishal has given you quite the assignment this time! Try to decode his message. It may be helpful to create a function that takes two parameters, the coded message and the keyword and then work towards a solution from there.\n",
    "\n",
    "NOTE: Watch out for spaces and punctuation! When there's a space or punctuation mark in the original message, there should be a space/punctuation mark in the corresponding repeated-keyword string as well!"
   ]
  },
  {
   "cell_type": "code",
   "execution_count": 9,
   "metadata": {},
   "outputs": [],
   "source": [
    "def vignere_decoder(message,keyword):\n",
    "    temp_code = \"\"\n",
    "    temp_index = 0\n",
    "    for x in range(len(message)):\n",
    "        if message[x].lower() in listalpha:\n",
    "            temp_code += keyword[temp_index%len(keyword)]\n",
    "            temp_index += 1\n",
    "        else:\n",
    "            temp_code += message[x]\n",
    "    decoded_msg = ''\n",
    "    for y in range(len(message)):\n",
    "        if message[y].lower() in listalpha:\n",
    "            orig_char_idx = listalpha.index(message[y].lower())\n",
    "            temp_char_idx = listalpha.index(temp_code[y])\n",
    "            if message[y].islower():\n",
    "                decoded_msg += listalpha[(orig_char_idx-temp_char_idx)]\n",
    "            else:\n",
    "                decoded_msg += listalpha[(orig_char_idx-temp_char_idx)].upper()                \n",
    "        else:\n",
    "            decoded_msg += message[y]\n",
    "            \n",
    "            \n",
    "    return decoded_msg\n",
    "            "
   ]
  },
  {
   "cell_type": "code",
   "execution_count": 10,
   "metadata": {},
   "outputs": [
    {
     "name": "stdout",
     "output_type": "stream",
     "text": [
      "You were able to decode this? Nice work! You are becoming quite the expert at crytography!\n"
     ]
    }
   ],
   "source": [
    "message = 'Dfc aruw fsti gr vjtwhr wznj? Vmph otis! Cbx swv jipreneo uhllj kpi rahjib eg fjdkwkedhmp!'\n",
    "keyword = 'friends'\n",
    "\n",
    "print(vignere_decoder(message, keyword))"
   ]
  },
  {
   "cell_type": "markdown",
   "metadata": {
    "collapsed": true
   },
   "source": [
    "#### Step 6: Send a message with the  Vigenère Cipher\n",
    "Great work decoding the message. For your final task, write a function that can encode a message using a given keyword and write out a message to send to Vishal! The message is 'Hey folks! If you reached the end of this project, this is impressive! Great work!' and the keyword is 'python'"
   ]
  },
  {
   "cell_type": "code",
   "execution_count": 11,
   "metadata": {},
   "outputs": [],
   "source": [
    "message = 'Hey folks! If you reached the end of this project, this is impressive! Great work!'\n",
    "keyword = 'python'"
   ]
  },
  {
   "cell_type": "code",
   "execution_count": 12,
   "metadata": {},
   "outputs": [],
   "source": [
    "def vignere_coder(message,keyword):\n",
    "    temp_code = \"\"\n",
    "    temp_index = 0\n",
    "    for x in range(len(message)):\n",
    "        if message[x].lower() in listalpha:\n",
    "            temp_code += keyword[temp_index%len(keyword)]\n",
    "            temp_index += 1\n",
    "        else:\n",
    "            temp_code += message[x]\n",
    "    coded_msg = ''\n",
    "    for y in range(len(message)):\n",
    "        if message[y].lower() in listalpha:\n",
    "            orig_char_idx = listalpha.index(message[y].lower())\n",
    "            temp_char_idx = listalpha.index(temp_code[y])\n",
    "            if message[y].islower():\n",
    "                coded_msg += listalpha[(orig_char_idx+temp_char_idx)%26]\n",
    "            else:\n",
    "                coded_msg += listalpha[(orig_char_idx+temp_char_idx)%26].upper()                \n",
    "        else:\n",
    "            coded_msg += message[y]\n",
    "    return coded_msg"
   ]
  },
  {
   "cell_type": "code",
   "execution_count": 13,
   "metadata": {},
   "outputs": [
    {
     "name": "stdout",
     "output_type": "stream",
     "text": [
      "Wcr mcyzq! Bm mbj pxhqutb mos rcb hm huxq iycwtam, avvh gl pacgclzwit! Eklog lmkr!\n"
     ]
    }
   ],
   "source": [
    "print(vignere_coder(message,keyword))"
   ]
  },
  {
   "cell_type": "code",
   "execution_count": 14,
   "metadata": {},
   "outputs": [
    {
     "name": "stdout",
     "output_type": "stream",
     "text": [
      "Hey folks! If you reached the end of this project, this is impressive! Great work!\n"
     ]
    }
   ],
   "source": [
    "message = vignere_coder(message,keyword)\n",
    "keyword = 'python'\n",
    "\n",
    "print(vignere_decoder(message, keyword))"
   ]
  },
  {
   "cell_type": "markdown",
   "metadata": {},
   "source": [
    "#### Conclusion\n",
    "Over the course of this project you've learned about two different cipher methods and have used your Python skills to code and decode messages. There are all types of other facinating ciphers out there to explore, and Python is the perfect language to implement them with, so go exploring! "
   ]
  }
 ],
 "metadata": {
  "kernelspec": {
   "display_name": "Python 3",
   "language": "python",
   "name": "python3"
  },
  "language_info": {
   "codemirror_mode": {
    "name": "ipython",
    "version": 3
   },
   "file_extension": ".py",
   "mimetype": "text/x-python",
   "name": "python",
   "nbconvert_exporter": "python",
   "pygments_lexer": "ipython3",
   "version": "3.8.5"
  }
 },
 "nbformat": 4,
 "nbformat_minor": 2
}
