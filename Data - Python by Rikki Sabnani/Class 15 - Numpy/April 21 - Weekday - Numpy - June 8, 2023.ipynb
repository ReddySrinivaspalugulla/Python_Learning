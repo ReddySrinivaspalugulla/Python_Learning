{
 "cells": [
  {
   "cell_type": "markdown",
   "id": "5fc2d26f",
   "metadata": {},
   "source": [
    "### Numpy library"
   ]
  },
  {
   "cell_type": "code",
   "execution_count": null,
   "id": "526e2b97",
   "metadata": {},
   "outputs": [],
   "source": [
    "# It is a library that helps us deal with array datatype.\n",
    "\n",
    "# 1. Collection of elements very similar to lists but with important differences\n",
    "# 2. Homogenous (unlike lists which are heterogenous)\n",
    "# 3. Offers very simple syntax to process the elements of the array and efficient processing. \n",
    "# 4. The way the data is stored is different in arrays and lists. \n",
    "# 5. Iterable\n",
    "# 6. Subscriptable\n",
    "# 7. Ordered\n",
    "# 8. Nested lists can be of different sizes. Arrays cannot."
   ]
  },
  {
   "cell_type": "code",
   "execution_count": 1,
   "id": "3a55c71d",
   "metadata": {},
   "outputs": [],
   "source": [
    "import numpy as np"
   ]
  },
  {
   "cell_type": "code",
   "execution_count": 7,
   "id": "a875b8b9",
   "metadata": {},
   "outputs": [
    {
     "name": "stdout",
     "output_type": "stream",
     "text": [
      "[1, 'a', (2+3j), None, True, False]\n"
     ]
    }
   ],
   "source": [
    "lst1 = [1,'a', 2+3j, None, True, False]\n",
    "\n",
    "print(lst1)"
   ]
  },
  {
   "cell_type": "code",
   "execution_count": 14,
   "id": "91e19d57",
   "metadata": {},
   "outputs": [
    {
     "name": "stdout",
     "output_type": "stream",
     "text": [
      "[1 'a' (2+3j) None True False]\n",
      "object\n"
     ]
    }
   ],
   "source": [
    "arr1 = np.array([1,'a', 2+3j, None, True, False])\n",
    "\n",
    "print(arr1)\n",
    "print(arr1.dtype)\n",
    "\n"
   ]
  },
  {
   "cell_type": "code",
   "execution_count": 15,
   "id": "8f35d3b3",
   "metadata": {},
   "outputs": [
    {
     "ename": "TypeError",
     "evalue": "unsupported operand type(s) for /: 'str' and 'int'",
     "output_type": "error",
     "traceback": [
      "\u001b[1;31m---------------------------------------------------------------------------\u001b[0m",
      "\u001b[1;31mTypeError\u001b[0m                                 Traceback (most recent call last)",
      "\u001b[1;32m~\\AppData\\Local\\Temp\\ipykernel_13332\\3905682412.py\u001b[0m in \u001b[0;36m<module>\u001b[1;34m\u001b[0m\n\u001b[1;32m----> 1\u001b[1;33m \u001b[0mprint\u001b[0m\u001b[1;33m(\u001b[0m\u001b[0marr1\u001b[0m\u001b[1;33m/\u001b[0m\u001b[1;36m2\u001b[0m\u001b[1;33m)\u001b[0m\u001b[1;33m\u001b[0m\u001b[1;33m\u001b[0m\u001b[0m\n\u001b[0m",
      "\u001b[1;31mTypeError\u001b[0m: unsupported operand type(s) for /: 'str' and 'int'"
     ]
    }
   ],
   "source": [
    "print(arr1/2)"
   ]
  },
  {
   "cell_type": "code",
   "execution_count": null,
   "id": "38c238ba",
   "metadata": {},
   "outputs": [],
   "source": []
  },
  {
   "cell_type": "code",
   "execution_count": 8,
   "id": "ac9b6936",
   "metadata": {},
   "outputs": [
    {
     "name": "stdout",
     "output_type": "stream",
     "text": [
      "10000000\n"
     ]
    }
   ],
   "source": [
    "lst1 = range(10000000)\n",
    "\n",
    "print(len(lst1))"
   ]
  },
  {
   "cell_type": "code",
   "execution_count": 9,
   "id": "337726fd",
   "metadata": {},
   "outputs": [
    {
     "name": "stdout",
     "output_type": "stream",
     "text": [
      "10000000\n"
     ]
    }
   ],
   "source": [
    "arr1 = np.array(range(10000000))\n",
    "print(len(arr1))"
   ]
  },
  {
   "cell_type": "code",
   "execution_count": 10,
   "id": "983e8dfc",
   "metadata": {},
   "outputs": [
    {
     "name": "stdout",
     "output_type": "stream",
     "text": [
      "True\n"
     ]
    }
   ],
   "source": [
    "print(len(lst1) == len(arr1))"
   ]
  },
  {
   "cell_type": "code",
   "execution_count": 11,
   "id": "ec959d0b",
   "metadata": {},
   "outputs": [
    {
     "name": "stdout",
     "output_type": "stream",
     "text": [
      "Wall time: 892 ms\n"
     ]
    }
   ],
   "source": [
    "%%time\n",
    "\n",
    "lst2 = [x*2 for x in lst1]"
   ]
  },
  {
   "cell_type": "code",
   "execution_count": 12,
   "id": "001fd59f",
   "metadata": {},
   "outputs": [
    {
     "name": "stdout",
     "output_type": "stream",
     "text": [
      "Wall time: 23.3 ms\n"
     ]
    }
   ],
   "source": [
    "%%time\n",
    "\n",
    "arr2 = arr1 * 2"
   ]
  },
  {
   "cell_type": "code",
   "execution_count": 24,
   "id": "6f435919",
   "metadata": {},
   "outputs": [
    {
     "name": "stdout",
     "output_type": "stream",
     "text": [
      "[[1, 2, 3, 4], [10, 20, 30, 40, 50]]\n"
     ]
    }
   ],
   "source": [
    "lst1 = [[1,2,3,4], [10,20,30,40, 50]]\n",
    "\n",
    "print(lst1)"
   ]
  },
  {
   "cell_type": "code",
   "execution_count": 25,
   "id": "479602d6",
   "metadata": {},
   "outputs": [
    {
     "name": "stdout",
     "output_type": "stream",
     "text": [
      "[list([1, 2, 3, 4]) list([10, 20, 30, 40, 50])]\n"
     ]
    },
    {
     "name": "stderr",
     "output_type": "stream",
     "text": [
      "C:\\Users\\Lenovo\\AppData\\Local\\Temp\\ipykernel_13332\\3255359961.py:1: VisibleDeprecationWarning: Creating an ndarray from ragged nested sequences (which is a list-or-tuple of lists-or-tuples-or ndarrays with different lengths or shapes) is deprecated. If you meant to do this, you must specify 'dtype=object' when creating the ndarray.\n",
      "  arr1 = np.array(lst1)\n"
     ]
    }
   ],
   "source": [
    "arr1 = np.array(lst1)\n",
    "\n",
    "print(arr1)"
   ]
  },
  {
   "cell_type": "code",
   "execution_count": 23,
   "id": "26efedf9",
   "metadata": {},
   "outputs": [],
   "source": [
    "# 2 x 4 matrix"
   ]
  },
  {
   "cell_type": "code",
   "execution_count": 20,
   "id": "d678a7d8",
   "metadata": {},
   "outputs": [
    {
     "name": "stdout",
     "output_type": "stream",
     "text": [
      "2\n"
     ]
    }
   ],
   "source": [
    "print(len(arr1))"
   ]
  },
  {
   "cell_type": "code",
   "execution_count": null,
   "id": "f96070de",
   "metadata": {},
   "outputs": [],
   "source": []
  },
  {
   "cell_type": "code",
   "execution_count": 40,
   "id": "ab181a4d",
   "metadata": {},
   "outputs": [
    {
     "name": "stdout",
     "output_type": "stream",
     "text": [
      "[[[[ 0  1  2  3]\n",
      "   [ 4  5  6  7]\n",
      "   [ 8  9 10 11]]\n",
      "\n",
      "  [[12 13 14 15]\n",
      "   [16 17 18 19]\n",
      "   [20 21 22 23]]]\n",
      "\n",
      "\n",
      " [[[24 25 26 27]\n",
      "   [28 29 30 31]\n",
      "   [32 33 34 35]]\n",
      "\n",
      "  [[36 37 38 39]\n",
      "   [40 41 42 43]\n",
      "   [44 45 46 47]]]]\n"
     ]
    }
   ],
   "source": [
    "arr1 = np.arange(48).reshape(2,2,3,4)\n",
    "print(arr1)"
   ]
  },
  {
   "cell_type": "code",
   "execution_count": null,
   "id": "4f055729",
   "metadata": {},
   "outputs": [],
   "source": [
    "# 1st example\n",
    "\n",
    "axis0 = 4\n",
    "\n",
    "# 2nd example (3,4)\n",
    "\n",
    "axis 0 = 3\n",
    "axis 1 = 4\n",
    "\n",
    "# 3rd example (2,3,4)\n",
    "\n",
    "axis 0 = 2\n",
    "axis 1 = 3\n",
    "axis 2 = 4\n",
    "\n",
    "# 4th example (5,2,3,4)\n",
    "\n",
    "axis 0 = 5\n",
    "axis 1 = 2\n",
    "axis 2 = 3\n",
    "axis 3 = 4\n"
   ]
  },
  {
   "cell_type": "code",
   "execution_count": 41,
   "id": "043baf39",
   "metadata": {},
   "outputs": [
    {
     "name": "stdout",
     "output_type": "stream",
     "text": [
      "[[1, 2, 3, 4], [5, 6, 7, 8], [1, 2, 3, 4], [5, 6, 7, 8]]\n"
     ]
    }
   ],
   "source": [
    "lst1 = [[1,2,3,4], [5,6,7,8]]\n",
    "\n"
   ]
  },
  {
   "cell_type": "code",
   "execution_count": 42,
   "id": "3b147357",
   "metadata": {},
   "outputs": [
    {
     "name": "stdout",
     "output_type": "stream",
     "text": [
      "[[1 2 3 4]\n",
      " [5 6 7 8]]\n"
     ]
    }
   ],
   "source": [
    "arr1 = np.arange(1,9).reshape(2,4)\n",
    "\n",
    "print(arr1)"
   ]
  },
  {
   "cell_type": "code",
   "execution_count": 43,
   "id": "03fbe8e9",
   "metadata": {},
   "outputs": [
    {
     "name": "stdout",
     "output_type": "stream",
     "text": [
      "[[ 2  4  6  8]\n",
      " [10 12 14 16]]\n"
     ]
    }
   ],
   "source": [
    "print(arr1*2)"
   ]
  },
  {
   "cell_type": "code",
   "execution_count": 51,
   "id": "8c353bef",
   "metadata": {},
   "outputs": [
    {
     "name": "stdout",
     "output_type": "stream",
     "text": [
      "[[1 2 3 4]\n",
      " [5 6 7 8]]\n",
      "[[10 20 30 40]\n",
      " [50 60 70 80]]\n"
     ]
    }
   ],
   "source": [
    "arr2 = np.array([[10,20,30,40], [50, 60,70,80]])\n",
    "\n",
    "print(arr1)\n",
    "print(arr2)"
   ]
  },
  {
   "cell_type": "code",
   "execution_count": 50,
   "id": "cb2ba121",
   "metadata": {},
   "outputs": [
    {
     "ename": "ValueError",
     "evalue": "operands could not be broadcast together with shapes (2,4) (2,5) ",
     "output_type": "error",
     "traceback": [
      "\u001b[1;31m---------------------------------------------------------------------------\u001b[0m",
      "\u001b[1;31mValueError\u001b[0m                                Traceback (most recent call last)",
      "\u001b[1;32m~\\AppData\\Local\\Temp\\ipykernel_13332\\287990470.py\u001b[0m in \u001b[0;36m<module>\u001b[1;34m\u001b[0m\n\u001b[1;32m----> 1\u001b[1;33m \u001b[0mprint\u001b[0m\u001b[1;33m(\u001b[0m\u001b[0marr1\u001b[0m\u001b[1;33m+\u001b[0m\u001b[0marr2\u001b[0m\u001b[1;33m)\u001b[0m\u001b[1;33m\u001b[0m\u001b[1;33m\u001b[0m\u001b[0m\n\u001b[0m",
      "\u001b[1;31mValueError\u001b[0m: operands could not be broadcast together with shapes (2,4) (2,5) "
     ]
    }
   ],
   "source": [
    "print(arr1+arr2)"
   ]
  },
  {
   "cell_type": "code",
   "execution_count": 46,
   "id": "95a1634b",
   "metadata": {},
   "outputs": [
    {
     "name": "stdout",
     "output_type": "stream",
     "text": [
      "[[ 1  4  9 16]\n",
      " [25 36 49 64]]\n"
     ]
    }
   ],
   "source": [
    "print(arr1**2)"
   ]
  },
  {
   "cell_type": "code",
   "execution_count": 47,
   "id": "4f8ebaf5",
   "metadata": {},
   "outputs": [
    {
     "name": "stdout",
     "output_type": "stream",
     "text": [
      "[[1 2 3 4]\n",
      " [5 6 7 8]]\n"
     ]
    }
   ],
   "source": [
    "print(arr1)"
   ]
  },
  {
   "cell_type": "code",
   "execution_count": 48,
   "id": "92639d07",
   "metadata": {},
   "outputs": [
    {
     "name": "stdout",
     "output_type": "stream",
     "text": [
      "4\n"
     ]
    }
   ],
   "source": [
    "print(arr1[0][3])"
   ]
  },
  {
   "cell_type": "code",
   "execution_count": 56,
   "id": "a387c573",
   "metadata": {},
   "outputs": [
    {
     "name": "stdout",
     "output_type": "stream",
     "text": [
      "[4 8]\n"
     ]
    }
   ],
   "source": [
    "print(arr1[:,3])"
   ]
  },
  {
   "cell_type": "code",
   "execution_count": null,
   "id": "40b2a428",
   "metadata": {},
   "outputs": [],
   "source": [
    "arr1"
   ]
  },
  {
   "cell_type": "code",
   "execution_count": 58,
   "id": "c2728382",
   "metadata": {},
   "outputs": [
    {
     "name": "stdout",
     "output_type": "stream",
     "text": [
      "[[[[  0   1   2   3   4]\n",
      "   [  5   6   7   8   9]\n",
      "   [ 10  11  12  13  14]\n",
      "   [ 15  16  17  18  19]]\n",
      "\n",
      "  [[ 20  21  22  23  24]\n",
      "   [ 25  26  27  28  29]\n",
      "   [ 30  31  32  33  34]\n",
      "   [ 35  36  37  38  39]]\n",
      "\n",
      "  [[ 40  41  42  43  44]\n",
      "   [ 45  46  47  48  49]\n",
      "   [ 50  51  52  53  54]\n",
      "   [ 55  56  57  58  59]]]\n",
      "\n",
      "\n",
      " [[[ 60  61  62  63  64]\n",
      "   [ 65  66  67  68  69]\n",
      "   [ 70  71  72  73  74]\n",
      "   [ 75  76  77  78  79]]\n",
      "\n",
      "  [[ 80  81  82  83  84]\n",
      "   [ 85  86  87  88  89]\n",
      "   [ 90  91  92  93  94]\n",
      "   [ 95  96  97  98  99]]\n",
      "\n",
      "  [[100 101 102 103 104]\n",
      "   [105 106 107 108 109]\n",
      "   [110 111 112 113 114]\n",
      "   [115 116 117 118 119]]]]\n"
     ]
    }
   ],
   "source": [
    "arr1 = np.arange(120).reshape(2,3,4,5)\n",
    "\n",
    "print(arr1)"
   ]
  },
  {
   "cell_type": "code",
   "execution_count": null,
   "id": "a12ba649",
   "metadata": {},
   "outputs": [],
   "source": [
    "#2*3*4*5"
   ]
  },
  {
   "cell_type": "code",
   "execution_count": 70,
   "id": "1e591cfc",
   "metadata": {},
   "outputs": [
    {
     "name": "stdout",
     "output_type": "stream",
     "text": [
      "[[[31 32]\n",
      "  [36 37]]\n",
      "\n",
      " [[51 52]\n",
      "  [56 57]]]\n"
     ]
    }
   ],
   "source": [
    "print(arr1[0,1:,2:,1:3])"
   ]
  },
  {
   "cell_type": "code",
   "execution_count": 85,
   "id": "edbe5257",
   "metadata": {},
   "outputs": [
    {
     "name": "stdout",
     "output_type": "stream",
     "text": [
      "[[[ 0  1  2  3]\n",
      "  [ 4  5  6  7]\n",
      "  [ 8  9 10 11]]\n",
      "\n",
      " [[12 13 14 15]\n",
      "  [16 17 18 19]\n",
      "  [20 21 22 23]]]\n"
     ]
    }
   ],
   "source": [
    "# Assignment\n",
    "\n",
    "arr1 = np.arange(24).reshape(2,3,4)\n",
    "\n",
    "print(arr1)"
   ]
  },
  {
   "cell_type": "code",
   "execution_count": 86,
   "id": "7ffef16c",
   "metadata": {},
   "outputs": [
    {
     "name": "stdout",
     "output_type": "stream",
     "text": [
      "[[[  0   1   2   3]\n",
      "  [  4   5   6   7]\n",
      "  [  8   9  10 100]]\n",
      "\n",
      " [[ 12  13  14  15]\n",
      "  [ 16  17  18  19]\n",
      "  [ 20  21  22  23]]]\n"
     ]
    }
   ],
   "source": [
    "arr1[0,2,3] = 100\n",
    "\n",
    "print(arr1)"
   ]
  },
  {
   "cell_type": "code",
   "execution_count": 87,
   "id": "6cbfa090",
   "metadata": {},
   "outputs": [
    {
     "name": "stdout",
     "output_type": "stream",
     "text": [
      "[[[  0   1   2   3]\n",
      "  [ 99  99  99  99]\n",
      "  [  8   9  10 100]]\n",
      "\n",
      " [[ 12  13  14  15]\n",
      "  [ 16  17  18  19]\n",
      "  [ 20  21  22  23]]]\n"
     ]
    }
   ],
   "source": [
    "arr1[0,1] = 99\n",
    "\n",
    "print(arr1)"
   ]
  },
  {
   "cell_type": "code",
   "execution_count": 89,
   "id": "02be6e59",
   "metadata": {},
   "outputs": [
    {
     "name": "stdout",
     "output_type": "stream",
     "text": [
      "[[[  0   1   2   3]\n",
      "  [ 99  99  99  99]\n",
      "  [  8   9  10 100]]\n",
      "\n",
      " [[ 12  13  14  15]\n",
      "  [101 101  18  19]\n",
      "  [101 101  22  23]]]\n"
     ]
    }
   ],
   "source": [
    "arr1[1,1:,0] = 101\n",
    "\n",
    "print(arr1)"
   ]
  },
  {
   "cell_type": "code",
   "execution_count": 90,
   "id": "09445103",
   "metadata": {},
   "outputs": [
    {
     "name": "stdout",
     "output_type": "stream",
     "text": [
      "[[[   0    1    2    3]\n",
      "  [  99   99   99   99]\n",
      "  [   8    9   10  100]]\n",
      "\n",
      " [[1001 1001 1001 1001]\n",
      "  [1001 1001 1001 1001]\n",
      "  [1001 1001 1001 1001]]]\n"
     ]
    }
   ],
   "source": [
    "arr1[1] = 1001\n",
    "\n",
    "print(arr1)"
   ]
  },
  {
   "cell_type": "code",
   "execution_count": 91,
   "id": "3ab34d5a",
   "metadata": {},
   "outputs": [
    {
     "name": "stdout",
     "output_type": "stream",
     "text": [
      "[[[   0    1    2    3]\n",
      "  [  99   99   99   99]\n",
      "  [   8    9   10  100]]\n",
      "\n",
      " [[1001 1001 1001 1001]\n",
      "  [1001 2001 1001 1001]\n",
      "  [1001 3001 1001 1001]]]\n"
     ]
    }
   ],
   "source": [
    "arr1[1,1:,1] = [2001,3001]\n",
    "\n",
    "print(arr1)"
   ]
  },
  {
   "cell_type": "code",
   "execution_count": null,
   "id": "57ae729e",
   "metadata": {},
   "outputs": [],
   "source": [
    "# item assignment - we are replacing one element with one element. \n",
    "\n",
    "# slice assignment - on arrays:\n",
    "# either supply a scalar(single value) which will be used for ALL the elements being replaced\n",
    "# OR give same number of elements TO replace and same number of elements replacing them."
   ]
  },
  {
   "cell_type": "code",
   "execution_count": null,
   "id": "9271f1dd",
   "metadata": {},
   "outputs": [],
   "source": [
    "# list slice assignment?\n",
    "\n",
    "# 1. items replacing the existing ones - must be put in an iterable. \n",
    "# 2. The number of items being replaced did not have to match the number of items replacing them."
   ]
  },
  {
   "cell_type": "code",
   "execution_count": null,
   "id": "26c8fd65",
   "metadata": {},
   "outputs": [],
   "source": []
  },
  {
   "cell_type": "code",
   "execution_count": null,
   "id": "3ab9aa52",
   "metadata": {},
   "outputs": [],
   "source": []
  },
  {
   "cell_type": "code",
   "execution_count": null,
   "id": "48ddcc84",
   "metadata": {},
   "outputs": [],
   "source": []
  },
  {
   "cell_type": "code",
   "execution_count": null,
   "id": "b7e1423c",
   "metadata": {},
   "outputs": [],
   "source": []
  },
  {
   "cell_type": "code",
   "execution_count": 59,
   "id": "c84eecb8",
   "metadata": {},
   "outputs": [
    {
     "name": "stdout",
     "output_type": "stream",
     "text": [
      "[[80 81 82 83 84]\n",
      " [85 86 87 88 89]\n",
      " [90 91 92 93 94]\n",
      " [95 96 97 98 99]]\n"
     ]
    }
   ],
   "source": [
    "print(arr1[-1,-2])"
   ]
  },
  {
   "cell_type": "code",
   "execution_count": 66,
   "id": "cf7ba4b8",
   "metadata": {},
   "outputs": [
    {
     "name": "stdout",
     "output_type": "stream",
     "text": [
      "[[82 83 84]\n",
      " [87 88 89]\n",
      " [92 93 94]]\n"
     ]
    }
   ],
   "source": [
    "print(arr1[1,1,:3,2:])"
   ]
  },
  {
   "cell_type": "code",
   "execution_count": null,
   "id": "83b75cf9",
   "metadata": {},
   "outputs": [],
   "source": []
  },
  {
   "cell_type": "code",
   "execution_count": 27,
   "id": "592e1db5",
   "metadata": {},
   "outputs": [
    {
     "name": "stdout",
     "output_type": "stream",
     "text": [
      "int32\n"
     ]
    }
   ],
   "source": [
    "print(arr1.dtype)"
   ]
  },
  {
   "cell_type": "code",
   "execution_count": 28,
   "id": "62e54ec5",
   "metadata": {},
   "outputs": [
    {
     "name": "stdout",
     "output_type": "stream",
     "text": [
      "1\n"
     ]
    }
   ],
   "source": [
    "print(arr1.ndim)"
   ]
  },
  {
   "cell_type": "code",
   "execution_count": 29,
   "id": "fc416ac9",
   "metadata": {},
   "outputs": [
    {
     "name": "stdout",
     "output_type": "stream",
     "text": [
      "(4,)\n"
     ]
    }
   ],
   "source": [
    "print(arr1.shape)"
   ]
  },
  {
   "cell_type": "code",
   "execution_count": 75,
   "id": "b2444853",
   "metadata": {},
   "outputs": [
    {
     "name": "stdout",
     "output_type": "stream",
     "text": [
      "[[0 1 2]\n",
      " [3 4 5]]\n",
      "-----------------------------------------------------------------------------------------------------------------------------\n",
      "[[ 0 10 20]\n",
      " [30 40 50]]\n",
      "-----------------------------------------------------------------------------------------------------------------------------\n",
      "[[ 0 11 22]\n",
      " [33 44 55]]\n"
     ]
    }
   ],
   "source": [
    "arr1 = np.arange(6).reshape(2,3)\n",
    "arr2 = np.arange(0,60,10).reshape(2,3)\n",
    "\n",
    "print(arr1)\n",
    "print('-'*125)\n",
    "print(arr2)\n",
    "print('-'*125)\n",
    "print(arr1+arr2)"
   ]
  },
  {
   "cell_type": "code",
   "execution_count": 78,
   "id": "94fef2c9",
   "metadata": {},
   "outputs": [
    {
     "name": "stdout",
     "output_type": "stream",
     "text": [
      "['1' '2' '3' '4']\n",
      "<U1\n"
     ]
    }
   ],
   "source": [
    "arr1 = np.array([1,2,3,4], dtype = str)\n",
    "\n",
    "print(arr1)\n",
    "print(arr1.dtype)"
   ]
  },
  {
   "cell_type": "markdown",
   "id": "e7be1e57",
   "metadata": {},
   "source": [
    "### Boolean indexing - see main notebook"
   ]
  },
  {
   "cell_type": "markdown",
   "id": "d1a1697c",
   "metadata": {},
   "source": [
    "### Broadcasting"
   ]
  },
  {
   "cell_type": "code",
   "execution_count": 2,
   "id": "ccfc24f3",
   "metadata": {},
   "outputs": [
    {
     "name": "stdout",
     "output_type": "stream",
     "text": [
      "[[[1]]]\n"
     ]
    }
   ],
   "source": [
    "import numpy as np\n",
    "\n",
    "scalararr = np.arange(1,2).reshape(1,1,1)\n",
    "\n",
    "print(scalararr)"
   ]
  },
  {
   "cell_type": "code",
   "execution_count": 3,
   "id": "6cf3f1c7",
   "metadata": {},
   "outputs": [
    {
     "name": "stdout",
     "output_type": "stream",
     "text": [
      "[[[1]]\n",
      "\n",
      " [[2]]]\n"
     ]
    }
   ],
   "source": [
    "scalararr2 = np.arange(1,3).reshape(2,1,1)\n",
    "\n",
    "print(scalararr2)"
   ]
  },
  {
   "cell_type": "code",
   "execution_count": 11,
   "id": "d089f37a",
   "metadata": {},
   "outputs": [
    {
     "name": "stdout",
     "output_type": "stream",
     "text": [
      "[[[1 7 1 8]\n",
      "  [2 2 1 3]\n",
      "  [9 8 1 7]]\n",
      "\n",
      " [[7 1 9 6]\n",
      "  [2 7 8 7]\n",
      "  [7 5 7 2]]]\n"
     ]
    }
   ],
   "source": [
    "np.random.seed()\n",
    "arr1 = np.random.randint(1,10,24).reshape(2,3,4)\n",
    "\n",
    "print(arr1)"
   ]
  },
  {
   "cell_type": "code",
   "execution_count": 24,
   "id": "24c71ca8",
   "metadata": {},
   "outputs": [
    {
     "name": "stdout",
     "output_type": "stream",
     "text": [
      "[[[2 2 8 7]]\n",
      "\n",
      " [[3 8 4 5]]\n",
      "\n",
      " [[4 9 9 8]]]\n"
     ]
    }
   ],
   "source": [
    "np.random.seed()\n",
    "\n",
    "arr2 = np.random.randint(1,10,12).reshape(3,1,4)\n",
    "\n",
    "print(arr2)"
   ]
  },
  {
   "cell_type": "code",
   "execution_count": 25,
   "id": "df36fcea",
   "metadata": {},
   "outputs": [
    {
     "ename": "ValueError",
     "evalue": "operands could not be broadcast together with shapes (2,3,4) (3,1,4) ",
     "output_type": "error",
     "traceback": [
      "\u001b[1;31m---------------------------------------------------------------------------\u001b[0m",
      "\u001b[1;31mValueError\u001b[0m                                Traceback (most recent call last)",
      "\u001b[1;32m~\\AppData\\Local\\Temp\\ipykernel_5056\\3764110519.py\u001b[0m in \u001b[0;36m<module>\u001b[1;34m\u001b[0m\n\u001b[1;32m----> 1\u001b[1;33m \u001b[0marr1\u001b[0m\u001b[1;33m+\u001b[0m\u001b[0marr2\u001b[0m\u001b[1;33m\u001b[0m\u001b[1;33m\u001b[0m\u001b[0m\n\u001b[0m",
      "\u001b[1;31mValueError\u001b[0m: operands could not be broadcast together with shapes (2,3,4) (3,1,4) "
     ]
    }
   ],
   "source": [
    "arr1+arr2"
   ]
  },
  {
   "cell_type": "code",
   "execution_count": null,
   "id": "34097b85",
   "metadata": {},
   "outputs": [],
   "source": []
  }
 ],
 "metadata": {
  "kernelspec": {
   "display_name": "Python 3 (ipykernel)",
   "language": "python",
   "name": "python3"
  },
  "language_info": {
   "codemirror_mode": {
    "name": "ipython",
    "version": 3
   },
   "file_extension": ".py",
   "mimetype": "text/x-python",
   "name": "python",
   "nbconvert_exporter": "python",
   "pygments_lexer": "ipython3",
   "version": "3.9.13"
  }
 },
 "nbformat": 4,
 "nbformat_minor": 5
}
