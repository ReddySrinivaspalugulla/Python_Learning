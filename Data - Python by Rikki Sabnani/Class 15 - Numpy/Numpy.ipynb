{
 "cells": [
  {
   "cell_type": "markdown",
   "id": "2b566273",
   "metadata": {},
   "source": [
    "### Numpy (Numerical Python) Library"
   ]
  },
  {
   "cell_type": "code",
   "execution_count": null,
   "id": "657348c5",
   "metadata": {},
   "outputs": [],
   "source": [
    "# NumPy, short for Numerical Python, has long been a cornerstone of numerical computing in Python. It provides the data\n",
    "# structures, algorithms, and library glue needed for most scientific applications involving numerical data in Python. \n",
    "# NumPy contains, among other things:\n",
    "\n",
    "# ● A fast and efficient multidimensional array object ndarray\n",
    "# ● Functions for performing element-wise computations with arrays or mathematical\n",
    "# operations between arrays\n",
    "# ● Tools for reading and writing array-based datasets to disk\n",
    "# ● Linear algebra operations, Fourier transform, and random number generation\n",
    "# ● A mature C API to enable Python extensions and native C or C++ code to access"
   ]
  },
  {
   "cell_type": "code",
   "execution_count": null,
   "id": "ed33d5de",
   "metadata": {},
   "outputs": [],
   "source": [
    "# NumPy’s data structures and computational facilities.\n",
    "\n",
    "# Beyond the fast array-processing capabilities that NumPy adds to Python, one of its primary uses in data analysis is as a\n",
    "# container for data to be passed between algorithms and libraries.\n",
    "\n",
    "# For numerical data, NumPy arrays are more efficient for storing and manipulating data than the other built-in Python\n",
    "# data structures. Also, libraries written in a lower-level language, such as C or Fortran, can operate on the data stored\n",
    "# in a NumPy array without copying data into some other memory representation. Thus, many numerical computing tools for\n",
    "# Python either assume NumPy arrays as a primary data structure or else target seamless interoperability with NumPy."
   ]
  },
  {
   "cell_type": "code",
   "execution_count": null,
   "id": "6c1d4645",
   "metadata": {},
   "outputs": [],
   "source": [
    "# Why Numpy?\n",
    "# One of the reasons NumPy is so important for numerical computations in Python is because it is designed for efficiency on\n",
    "# large arrays of data. There are a number of reasons for this:\n",
    "# ● NumPy internally stores data in a contiguous block of memory, independent of other built-in Python objects. NumPy’s\n",
    "# library of algorithms written in the C language can operate on this memory without any type checking or other overhead. \n",
    "# NumPy arrays also use much less memory than built-in Python sequences.\n",
    "# ● NumPy operations perform complex computations on entire arrays without the need for Python for loops. To give you an\n",
    "# idea of the performance difference, consider a NumPy array of one million integers, and the equivalent Python list:"
   ]
  },
  {
   "cell_type": "code",
   "execution_count": null,
   "id": "7919d5ec",
   "metadata": {},
   "outputs": [],
   "source": [
    "lst1 = [1,'a', 2+3j, (2,3)]\n",
    "\n",
    "print(lst1)"
   ]
  },
  {
   "cell_type": "code",
   "execution_count": null,
   "id": "c70ceff9",
   "metadata": {},
   "outputs": [],
   "source": [
    "import numpy as np\n",
    "arr1 = np.array([1,2,3,4])\n",
    "arr2 = np.array(list('abcde'))\n",
    "\n",
    "print(arr1)\n",
    "print(arr2)"
   ]
  },
  {
   "cell_type": "code",
   "execution_count": null,
   "id": "301c22bd",
   "metadata": {},
   "outputs": [],
   "source": [
    "print(arr1.dtype)"
   ]
  },
  {
   "cell_type": "code",
   "execution_count": null,
   "id": "241017fd",
   "metadata": {},
   "outputs": [],
   "source": [
    "print(arr2.dtype)"
   ]
  },
  {
   "cell_type": "code",
   "execution_count": null,
   "id": "44bcd244",
   "metadata": {},
   "outputs": [],
   "source": [
    "arr3 = np.array(lst1)\n",
    "\n",
    "print(arr3)\n",
    "\n",
    "print(arr3.dtype)"
   ]
  },
  {
   "cell_type": "code",
   "execution_count": null,
   "id": "090c5d21",
   "metadata": {},
   "outputs": [],
   "source": [
    "array is a collection of homogenous data.\n",
    "\n",
    "arrays can have n dimensions"
   ]
  },
  {
   "cell_type": "code",
   "execution_count": null,
   "id": "d38a4852",
   "metadata": {},
   "outputs": [],
   "source": [
    "lst1 = [[1,2,3,4],[5,6,7,8],[9,10,11,12]]\n",
    "\n",
    "print(lst1)"
   ]
  },
  {
   "cell_type": "code",
   "execution_count": null,
   "id": "d9041301",
   "metadata": {},
   "outputs": [],
   "source": [
    "arr1 = np.array(lst1)\n",
    "\n",
    "print(arr1)"
   ]
  },
  {
   "cell_type": "code",
   "execution_count": null,
   "id": "e979edc1",
   "metadata": {},
   "outputs": [],
   "source": []
  },
  {
   "cell_type": "code",
   "execution_count": null,
   "id": "02aa5873",
   "metadata": {},
   "outputs": [],
   "source": []
  },
  {
   "cell_type": "code",
   "execution_count": null,
   "id": "fdef2747",
   "metadata": {},
   "outputs": [],
   "source": [
    "import numpy as np\n",
    "\n",
    "arr1 = np.arange(10)\n",
    "\n",
    "print(arr1)"
   ]
  },
  {
   "cell_type": "code",
   "execution_count": null,
   "id": "a7dc7ccb",
   "metadata": {},
   "outputs": [],
   "source": [
    "arr2 = arr1 +1\n",
    "\n",
    "print(arr2)"
   ]
  },
  {
   "cell_type": "code",
   "execution_count": null,
   "id": "ee9e205b",
   "metadata": {},
   "outputs": [],
   "source": [
    "lst1 = list(range(10))\n",
    "\n",
    "print(lst1)\n",
    "print(type(lst1))"
   ]
  },
  {
   "cell_type": "code",
   "execution_count": null,
   "id": "9c5e4cf6",
   "metadata": {},
   "outputs": [],
   "source": [
    "for x in range(len(lst1)):\n",
    "    lst1[x] = lst1[x]+1\n",
    "\n",
    "print(lst1)"
   ]
  },
  {
   "cell_type": "code",
   "execution_count": null,
   "id": "621d0510",
   "metadata": {},
   "outputs": [],
   "source": [
    "import numpy as np\n",
    "\n",
    "arr1 = np.array(range(10))\n",
    "\n",
    "print(arr1)\n",
    "print(type(arr1))"
   ]
  },
  {
   "cell_type": "code",
   "execution_count": null,
   "id": "fe792fee",
   "metadata": {},
   "outputs": [],
   "source": [
    "lst1 = [1,2,'a', 2+3j, None, 10.2]\n",
    "\n",
    "print(lst1)\n",
    "print(type(lst1))"
   ]
  },
  {
   "cell_type": "code",
   "execution_count": null,
   "id": "d40a8944",
   "metadata": {},
   "outputs": [],
   "source": [
    "arr1 = np.array(lst1)\n",
    "\n",
    "print(arr1)\n",
    "print(type(arr1))\n",
    "print(arr1.dtype)"
   ]
  },
  {
   "cell_type": "code",
   "execution_count": null,
   "id": "dfd4ecde",
   "metadata": {},
   "outputs": [],
   "source": [
    "arr2 = np.array(range(10))\n",
    "\n",
    "print(arr2)\n",
    "print(type(arr2))\n",
    "print(arr2.dtype)"
   ]
  },
  {
   "cell_type": "code",
   "execution_count": null,
   "id": "e90ede81",
   "metadata": {},
   "outputs": [],
   "source": []
  },
  {
   "cell_type": "code",
   "execution_count": null,
   "id": "c851069f",
   "metadata": {},
   "outputs": [],
   "source": []
  },
  {
   "cell_type": "code",
   "execution_count": null,
   "id": "78b04276",
   "metadata": {},
   "outputs": [],
   "source": [
    "import numpy as np\n",
    "\n",
    "nump_a = np.arange(10000000)\n",
    "list_a = list(range(10000000))\n",
    "\n",
    "print(len(nump_a), type(nump_a))\n",
    "\n",
    "print(len(list_a), type(list_a))"
   ]
  },
  {
   "cell_type": "code",
   "execution_count": null,
   "id": "33a4db49",
   "metadata": {},
   "outputs": [],
   "source": []
  },
  {
   "cell_type": "code",
   "execution_count": null,
   "id": "566c5853",
   "metadata": {},
   "outputs": [],
   "source": [
    "import numpy as np\n",
    "\n",
    "nump_a = np.arange(10000000)\n",
    "list_a = list(range(10000000))\n",
    "\n",
    "print(len(nump_a))\n",
    "\n",
    "print(len(list_a))"
   ]
  },
  {
   "cell_type": "code",
   "execution_count": null,
   "id": "7213e1ee",
   "metadata": {},
   "outputs": [],
   "source": [
    "%%time\n",
    "\n",
    "list_b = [x*2 for x in list_a]"
   ]
  },
  {
   "cell_type": "code",
   "execution_count": null,
   "id": "0bc0a9a6",
   "metadata": {},
   "outputs": [],
   "source": [
    "%%time\n",
    "\n",
    "nump_a2 = nump_a * 2"
   ]
  },
  {
   "cell_type": "code",
   "execution_count": null,
   "id": "7084928d",
   "metadata": {},
   "outputs": [],
   "source": []
  },
  {
   "cell_type": "code",
   "execution_count": null,
   "id": "e38e5931",
   "metadata": {},
   "outputs": [],
   "source": [
    "nump_b = np.arange(10)\n",
    "list_b = list(range(10))\n",
    "\n",
    "nump_m = nump_b * 2"
   ]
  },
  {
   "cell_type": "code",
   "execution_count": null,
   "id": "84fb373f",
   "metadata": {},
   "outputs": [],
   "source": [
    "list_c = list_b*2"
   ]
  },
  {
   "cell_type": "code",
   "execution_count": null,
   "id": "f0799fd2",
   "metadata": {},
   "outputs": [],
   "source": [
    "list_d = [x*2 for x in list_b]\n",
    "\n",
    "print(nump_m, type(nump_m))\n",
    "print(list_c, type(list_c))\n",
    "print(list_d, type(list_d))"
   ]
  },
  {
   "cell_type": "code",
   "execution_count": null,
   "id": "fc71daa8",
   "metadata": {},
   "outputs": [],
   "source": [
    "lst1 = [[1,2,3],[2,3], [4,5,6,7]]\n",
    "\n",
    "print(lst1)"
   ]
  },
  {
   "cell_type": "code",
   "execution_count": null,
   "id": "73b40d9a",
   "metadata": {},
   "outputs": [],
   "source": [
    "# The NumPy ndarray\n",
    "# A Multidimensional Array Object One of the key features of NumPy is its N-dimensional array object, or ndarray, which is\n",
    "# a fast, flexible container for large datasets in Python. Arrays enable you to perform mathematical operations on whole\n",
    "# blocks of data using similar syntax to the equivalent operations between scalar elements."
   ]
  },
  {
   "cell_type": "code",
   "execution_count": null,
   "id": "f476ce5a",
   "metadata": {},
   "outputs": [],
   "source": [
    "# Numpy stands for Numerical Python\n",
    "\n",
    "# Arrays - \n",
    "\n",
    "# 1. Homogenous data\n",
    "# 2. In contiguous blocks of memory\n",
    "# 3. Faster than pythons lists\n",
    "# 4. Easier syntax for arithmetic operations (no need for loops)\n",
    "\n"
   ]
  },
  {
   "cell_type": "code",
   "execution_count": null,
   "id": "caf7c682",
   "metadata": {},
   "outputs": [],
   "source": [
    "arr1 = np.arange(1,10,2)\n",
    "\n",
    "print(arr1)\n",
    "print(type(arr1))\n",
    "print(arr1.dtype)"
   ]
  },
  {
   "cell_type": "code",
   "execution_count": null,
   "id": "984e77fe",
   "metadata": {},
   "outputs": [],
   "source": [
    "import numpy as np"
   ]
  },
  {
   "cell_type": "code",
   "execution_count": null,
   "id": "8264b75e",
   "metadata": {},
   "outputs": [],
   "source": [
    "arr1 = np.array([5,7,9,12])\n",
    "\n",
    "print(arr1)"
   ]
  },
  {
   "cell_type": "code",
   "execution_count": null,
   "id": "57486b9d",
   "metadata": {},
   "outputs": [],
   "source": [
    "lst1 = tuple(range(10))\n",
    "\n",
    "print(lst1)"
   ]
  },
  {
   "cell_type": "code",
   "execution_count": null,
   "id": "7348a007",
   "metadata": {},
   "outputs": [],
   "source": [
    "arr1 = np.array(lst1)\n",
    "\n",
    "print(arr1)\n",
    "print(type(arr1))"
   ]
  },
  {
   "cell_type": "code",
   "execution_count": null,
   "id": "7b8bff47",
   "metadata": {},
   "outputs": [],
   "source": [
    "for x in range(len(lst1)):\n",
    "    lst1[x] += 5\n",
    "    \n",
    "    \n",
    "print(lst1)"
   ]
  },
  {
   "cell_type": "code",
   "execution_count": null,
   "id": "e9b427b6",
   "metadata": {},
   "outputs": [],
   "source": [
    "arr1 = np.arange(5)"
   ]
  },
  {
   "cell_type": "code",
   "execution_count": null,
   "id": "fb21a7ee",
   "metadata": {},
   "outputs": [],
   "source": [
    "arr1 = arr1 + 5\n",
    "\n",
    "print(arr1)"
   ]
  },
  {
   "cell_type": "code",
   "execution_count": null,
   "id": "bad78bf8",
   "metadata": {},
   "outputs": [],
   "source": [
    "lst1 = [list(range(1,11)), list(range(11,21))]\n",
    "\n",
    "print(lst1)"
   ]
  },
  {
   "cell_type": "code",
   "execution_count": null,
   "id": "2f91ba94",
   "metadata": {},
   "outputs": [],
   "source": [
    "arr1 = np.array(lst1)\n",
    "\n",
    "print(arr1)"
   ]
  },
  {
   "cell_type": "code",
   "execution_count": null,
   "id": "aacdfff3",
   "metadata": {},
   "outputs": [],
   "source": [
    "for x in range(len(lst1)):\n",
    "    for y in range(len(lst1[x])):\n",
    "        lst1[x][y] += 5\n",
    "        \n",
    "        \n",
    "print(lst1)"
   ]
  },
  {
   "cell_type": "code",
   "execution_count": null,
   "id": "092815d3",
   "metadata": {},
   "outputs": [],
   "source": [
    "arr1 = arr1+5\n",
    "\n",
    "print(arr1)"
   ]
  },
  {
   "cell_type": "code",
   "execution_count": null,
   "id": "d6ba7d8e",
   "metadata": {},
   "outputs": [],
   "source": [
    "print(dir(np))"
   ]
  },
  {
   "cell_type": "code",
   "execution_count": null,
   "id": "752fbca0",
   "metadata": {
    "scrolled": true
   },
   "outputs": [],
   "source": [
    "data = np.arange(720).reshape(2,3,4,5,6)\n",
    "\n",
    "print(data)\n",
    "#print(len(data))\n",
    "print(data.shape)\n",
    "print(data.ndim)"
   ]
  },
  {
   "cell_type": "code",
   "execution_count": null,
   "id": "123312c3",
   "metadata": {},
   "outputs": [],
   "source": [
    "Axis no.            Elements\n",
    "0                   2\n",
    "\n",
    "0,1                 3x2\n",
    "\n",
    "0,1,2               4x3x2\n",
    "\n",
    "0,1,2,3             5x4x3x2\n",
    "\n",
    "\n",
    "\n"
   ]
  },
  {
   "cell_type": "code",
   "execution_count": null,
   "id": "4f357205",
   "metadata": {},
   "outputs": [],
   "source": [
    "str1 = 'CAP'"
   ]
  },
  {
   "cell_type": "code",
   "execution_count": null,
   "id": "4dc8fc41",
   "metadata": {},
   "outputs": [],
   "source": [
    "print(data.shape)\n",
    "print(data.ndim)"
   ]
  },
  {
   "cell_type": "code",
   "execution_count": null,
   "id": "695ea9df",
   "metadata": {},
   "outputs": [],
   "source": [
    "print(data.size)"
   ]
  },
  {
   "cell_type": "code",
   "execution_count": null,
   "id": "7ad3d5fb",
   "metadata": {},
   "outputs": [],
   "source": [
    "arr1 = np.arange(6).reshape(3,2)\n",
    "\n",
    "print(arr1)\n",
    "print(arr1.shape)\n",
    "print(arr1.ndim)"
   ]
  },
  {
   "cell_type": "code",
   "execution_count": null,
   "id": "b2e69b6d",
   "metadata": {},
   "outputs": [],
   "source": [
    "arr1[2][1]"
   ]
  },
  {
   "cell_type": "code",
   "execution_count": null,
   "id": "46228fcd",
   "metadata": {},
   "outputs": [],
   "source": []
  },
  {
   "cell_type": "code",
   "execution_count": null,
   "id": "57d8d4fc",
   "metadata": {},
   "outputs": [],
   "source": [
    "arr1 = np.array([1,2,3])\n",
    "\n",
    "print(arr1.shape)\n",
    "print(arr1.ndim)"
   ]
  },
  {
   "cell_type": "code",
   "execution_count": null,
   "id": "2dcb6a1f",
   "metadata": {},
   "outputs": [],
   "source": [
    "data = data * 10\n",
    "\n",
    "print(data)"
   ]
  },
  {
   "cell_type": "code",
   "execution_count": null,
   "id": "121b4781",
   "metadata": {},
   "outputs": [],
   "source": [
    "data1 = np.random.randint(1,10,24)\n",
    "\n",
    "print(data1)"
   ]
  },
  {
   "cell_type": "code",
   "execution_count": null,
   "id": "41578f02",
   "metadata": {},
   "outputs": [],
   "source": [
    "data2 = np.random.randint(1,10,24).reshape(4,6)\n",
    "print(data2)"
   ]
  },
  {
   "cell_type": "code",
   "execution_count": null,
   "id": "5475e5a9",
   "metadata": {},
   "outputs": [],
   "source": [
    "# Note the appearance is of a 3 layer nested list. However, though they appear the same - these are arrays!! Important :\n",
    "# note NO commas between the elements of the array. \n",
    "\n",
    "print(type(data))\n",
    "\n",
    "for x in range(len(data)):\n",
    "    for y in range(len(data[x])):\n",
    "        for z in range(len(data[x][y])):\n",
    "            print(data[x][y][z])\n",
    "            \n",
    "# The 3 dimensional array object is constructed of : 4 elements in each row, 3 rows nested in the 2nd dimension of the \n",
    "# array object and 2 such 2nd Dimension arrays nested in the outer most array block. "
   ]
  },
  {
   "cell_type": "code",
   "execution_count": null,
   "id": "d31d3f69",
   "metadata": {},
   "outputs": [],
   "source": [
    "print(data)"
   ]
  },
  {
   "cell_type": "code",
   "execution_count": null,
   "id": "534811f9",
   "metadata": {},
   "outputs": [],
   "source": [
    "print(data * 10)"
   ]
  },
  {
   "cell_type": "code",
   "execution_count": null,
   "id": "b4382845",
   "metadata": {},
   "outputs": [],
   "source": [
    "# Note, we have not changed the original data ndarray.\n",
    "print(data)\n",
    "\n",
    "# We could change the original data variable by assigning the result to itself or to a new variable as usual."
   ]
  },
  {
   "cell_type": "code",
   "execution_count": null,
   "id": "54abc1ac",
   "metadata": {},
   "outputs": [],
   "source": [
    "data1 = data*10\n",
    "\n",
    "print(data1)"
   ]
  },
  {
   "cell_type": "code",
   "execution_count": null,
   "id": "2eb95a7e",
   "metadata": {},
   "outputs": [],
   "source": [
    "data = np.random.randint(1,10,10)\n",
    "\n",
    "\n",
    "print(data)"
   ]
  },
  {
   "cell_type": "code",
   "execution_count": null,
   "id": "83f49d12",
   "metadata": {},
   "outputs": [],
   "source": [
    "data[2] = 77\n",
    "\n",
    "print(data)"
   ]
  },
  {
   "cell_type": "code",
   "execution_count": null,
   "id": "c0a3de08",
   "metadata": {},
   "outputs": [],
   "source": [
    "data = np.arange(1,16).reshape(3,5)\n",
    "data1 = np.arange(10,160,10).reshape(3,5)\n",
    "print(data)\n",
    "print(data1)"
   ]
  },
  {
   "cell_type": "code",
   "execution_count": null,
   "id": "1210b3a9",
   "metadata": {},
   "outputs": [],
   "source": [
    "print(data)"
   ]
  },
  {
   "cell_type": "code",
   "execution_count": null,
   "id": "9d0b08d6",
   "metadata": {},
   "outputs": [],
   "source": [
    "print(data1)"
   ]
  },
  {
   "cell_type": "code",
   "execution_count": null,
   "id": "31829a4b",
   "metadata": {},
   "outputs": [],
   "source": [
    "# Easily perform arithmetic operations between same shaped/sized arrays. \n",
    "\n",
    "# However, there is also 'broadcasting' for arrays that are not the same shape. These follow certain rules. "
   ]
  },
  {
   "cell_type": "code",
   "execution_count": null,
   "id": "47334eb7",
   "metadata": {},
   "outputs": [],
   "source": [
    "print(data+data1)"
   ]
  },
  {
   "cell_type": "code",
   "execution_count": null,
   "id": "01753681",
   "metadata": {},
   "outputs": [],
   "source": [
    "data = np.arange(120).reshape(2,3,4,5)\n",
    "\n",
    "print(data)"
   ]
  },
  {
   "cell_type": "code",
   "execution_count": null,
   "id": "278d2dcb",
   "metadata": {},
   "outputs": [],
   "source": [
    "dataaxis0 = data.sum(axis=2)\n",
    "\n",
    "\n",
    "print(dataaxis0)"
   ]
  },
  {
   "cell_type": "code",
   "execution_count": null,
   "id": "faafef4c",
   "metadata": {},
   "outputs": [],
   "source": []
  },
  {
   "cell_type": "code",
   "execution_count": null,
   "id": "a6fb72c5",
   "metadata": {},
   "outputs": [],
   "source": []
  },
  {
   "cell_type": "code",
   "execution_count": null,
   "id": "ecf419cd",
   "metadata": {},
   "outputs": [],
   "source": []
  },
  {
   "cell_type": "code",
   "execution_count": null,
   "id": "e0b2823d",
   "metadata": {},
   "outputs": [],
   "source": [
    "data1 = np.arange(101,107).reshape(2,3)\n",
    "\n",
    "print(data1)"
   ]
  },
  {
   "cell_type": "code",
   "execution_count": null,
   "id": "c6cc53f8",
   "metadata": {},
   "outputs": [],
   "source": [
    "data3 = data+data1\n",
    "\n",
    "print(data3)"
   ]
  },
  {
   "cell_type": "code",
   "execution_count": null,
   "id": "622ecc26",
   "metadata": {},
   "outputs": [],
   "source": [
    "arr5D = np.random.randint(1,100,720).reshape(2,3,4,5,6)\n",
    "\n",
    "print(arr5D)"
   ]
  },
  {
   "cell_type": "code",
   "execution_count": null,
   "id": "3ade8cf2",
   "metadata": {},
   "outputs": [],
   "source": [
    "arr5D[0,1,1,1,2]"
   ]
  },
  {
   "cell_type": "code",
   "execution_count": null,
   "id": "946ea226",
   "metadata": {},
   "outputs": [],
   "source": [
    "arr = np.random.randint(1,100,6)\n",
    "\n",
    "print(arr)\n",
    "print(arr.shape)\n",
    "print(arr.ndim)"
   ]
  },
  {
   "cell_type": "code",
   "execution_count": null,
   "id": "028db318",
   "metadata": {},
   "outputs": [],
   "source": [
    "arr2d = np.random.randint(1,100,30).reshape(5,6)\n",
    "\n",
    "print(arr2d)\n",
    "print(arr2d.shape)\n",
    "print(arr2d.ndim)"
   ]
  },
  {
   "cell_type": "code",
   "execution_count": null,
   "id": "11d5fa6e",
   "metadata": {},
   "outputs": [],
   "source": [
    "6 - 1D\n",
    "0\n",
    "\n",
    "5,6 - 2D\n",
    "0,1\n",
    "\n",
    "4,5,6 - 3D\n",
    "0,1,2"
   ]
  },
  {
   "cell_type": "code",
   "execution_count": null,
   "id": "44fbe54d",
   "metadata": {},
   "outputs": [],
   "source": [
    "index numbers of each element of each n dim array is different\n",
    "\n",
    "index numbers of axes is different"
   ]
  },
  {
   "cell_type": "code",
   "execution_count": null,
   "id": "20656b82",
   "metadata": {},
   "outputs": [],
   "source": [
    "arr3d = np.random.randint(1,100,120).reshape(4,5,6)\n",
    "\n",
    "print(arr3d)\n",
    "print(arr3d.shape)\n",
    "print(arr3d.ndim)"
   ]
  },
  {
   "cell_type": "code",
   "execution_count": null,
   "id": "50bebb85",
   "metadata": {},
   "outputs": [],
   "source": [
    "print(arr3d[0,:,:1])"
   ]
  },
  {
   "cell_type": "code",
   "execution_count": null,
   "id": "f95bb5fd",
   "metadata": {},
   "outputs": [],
   "source": [
    "arr4d = np.arange(360).reshape(3,4,5,6)\n",
    "\n",
    "print(arr4d)\n",
    "print(arr4d.shape)\n",
    "print(arr4d.ndim)"
   ]
  },
  {
   "cell_type": "code",
   "execution_count": null,
   "id": "b5647453",
   "metadata": {},
   "outputs": [],
   "source": []
  },
  {
   "cell_type": "code",
   "execution_count": null,
   "id": "6e37be51",
   "metadata": {},
   "outputs": [],
   "source": []
  },
  {
   "cell_type": "code",
   "execution_count": null,
   "id": "cf00d26e",
   "metadata": {},
   "outputs": [],
   "source": []
  },
  {
   "cell_type": "code",
   "execution_count": null,
   "id": "af018d23",
   "metadata": {},
   "outputs": [],
   "source": [
    "print(data)"
   ]
  },
  {
   "cell_type": "code",
   "execution_count": null,
   "id": "af64d20a",
   "metadata": {},
   "outputs": [],
   "source": [
    "arr"
   ]
  },
  {
   "cell_type": "code",
   "execution_count": null,
   "id": "129028bd",
   "metadata": {},
   "outputs": [],
   "source": [
    "data2 = data.reshape(3,2,4)\n",
    "\n",
    "print(data2)"
   ]
  },
  {
   "cell_type": "code",
   "execution_count": null,
   "id": "933da115",
   "metadata": {},
   "outputs": [],
   "source": [
    "print(data + data2)"
   ]
  },
  {
   "cell_type": "code",
   "execution_count": null,
   "id": "080b2110",
   "metadata": {},
   "outputs": [],
   "source": [
    "data1 = data*10\n",
    "\n",
    "print(data1)"
   ]
  },
  {
   "cell_type": "code",
   "execution_count": null,
   "id": "d1c0b73b",
   "metadata": {},
   "outputs": [],
   "source": [
    "data1 = data1+data1\n",
    "print(data1)"
   ]
  },
  {
   "cell_type": "code",
   "execution_count": null,
   "id": "38e13e18",
   "metadata": {},
   "outputs": [],
   "source": []
  },
  {
   "cell_type": "code",
   "execution_count": null,
   "id": "5e136a3d",
   "metadata": {},
   "outputs": [],
   "source": [
    "print(type(data1[0][0][0]))"
   ]
  },
  {
   "cell_type": "code",
   "execution_count": null,
   "id": "902a73c8",
   "metadata": {},
   "outputs": [],
   "source": [
    "print(data1.dtype)`"
   ]
  },
  {
   "cell_type": "code",
   "execution_count": null,
   "id": "72f99da8",
   "metadata": {},
   "outputs": [],
   "source": [
    "arralpha = np.array(list('abcde'), dtype = str)\n",
    "\n",
    "print(arralpha)\n",
    "print(type(arralpha))\n",
    "print(arralpha.dtype)"
   ]
  },
  {
   "cell_type": "code",
   "execution_count": null,
   "id": "d60173e9",
   "metadata": {},
   "outputs": [],
   "source": [
    "arr1 = np.array([1,2,3,4], dtype = float)\n",
    "\n",
    "print(arr1)\n",
    "print(arr1.dtype)"
   ]
  },
  {
   "cell_type": "code",
   "execution_count": null,
   "id": "a96ff9a9",
   "metadata": {},
   "outputs": [],
   "source": [
    "print(data1.shape)"
   ]
  },
  {
   "cell_type": "code",
   "execution_count": null,
   "id": "99e7ad0d",
   "metadata": {},
   "outputs": [],
   "source": [
    "onedarr = np.arange(6).reshape(2,3)\n",
    "\n",
    "print(onedarr.shape)"
   ]
  },
  {
   "cell_type": "code",
   "execution_count": null,
   "id": "78bfa3f0",
   "metadata": {},
   "outputs": [],
   "source": []
  },
  {
   "cell_type": "code",
   "execution_count": null,
   "id": "8c62732e",
   "metadata": {},
   "outputs": [],
   "source": [
    "# An ndarray is a generic multidimensional container for homogeneous data; that is, all of the elements must be the same\n",
    "# type. \n",
    "\n",
    "lst1 = ['a', 100, (20,30), {'x':10, 'y':20}]\n",
    "\n",
    "np_arr = np.array(lst1)\n",
    "\n",
    "print(np_arr)\n",
    "print(np_arr.dtype)"
   ]
  },
  {
   "cell_type": "code",
   "execution_count": null,
   "id": "77fe0487",
   "metadata": {},
   "outputs": [],
   "source": [
    "print(np_arr)\n",
    "print(np_arr.dtype)\n",
    "\n",
    "print(type(np_arr[2]))"
   ]
  },
  {
   "cell_type": "code",
   "execution_count": null,
   "id": "3271d978",
   "metadata": {},
   "outputs": [],
   "source": [
    "lst1 = list(range(10))\n",
    "\n",
    "print(lst1)"
   ]
  },
  {
   "cell_type": "code",
   "execution_count": null,
   "id": "bee8f7ce",
   "metadata": {},
   "outputs": [],
   "source": [
    "np_arr = np.array(lst1,dtype = float)\n",
    "\n",
    "\n",
    "print(np_arr)"
   ]
  },
  {
   "cell_type": "code",
   "execution_count": null,
   "id": "0a4ed452",
   "metadata": {},
   "outputs": [],
   "source": [
    "print(np_arr.dtype)"
   ]
  },
  {
   "cell_type": "code",
   "execution_count": null,
   "id": "f101b494",
   "metadata": {},
   "outputs": [],
   "source": [
    "# Unless explicitly specified, np.array tries to infer a good data type for the array that it creates."
   ]
  },
  {
   "cell_type": "code",
   "execution_count": null,
   "id": "46a25ecd",
   "metadata": {},
   "outputs": [],
   "source": [
    "int1 = (2*100)\n",
    "tup1 = (2,)\n",
    "tup2 = 2,\n",
    "print(type(int1))\n",
    "print(type(tup1))\n",
    "print(type(tup2))\n",
    "print(len(tup1), len(tup2))"
   ]
  },
  {
   "cell_type": "code",
   "execution_count": null,
   "id": "7058d624",
   "metadata": {},
   "outputs": [],
   "source": [
    "lst2 = [2, 300, 72, 34, 78,10.2, '100', '1000', (2)]\n",
    "np_arr = np.array(lst2)\n",
    "\n",
    "print(np_arr)\n",
    "print(np_arr.dtype)"
   ]
  },
  {
   "cell_type": "code",
   "execution_count": null,
   "id": "affb7ac5",
   "metadata": {},
   "outputs": [],
   "source": []
  },
  {
   "cell_type": "code",
   "execution_count": null,
   "id": "d29bdb32",
   "metadata": {},
   "outputs": [],
   "source": [
    "lstalpha = [1,2,3,4]\n",
    "\n",
    "print(lstalpha)"
   ]
  },
  {
   "cell_type": "code",
   "execution_count": null,
   "id": "6878f9ce",
   "metadata": {},
   "outputs": [],
   "source": [
    "np_str = np.array(lstalpha, dtype = str)\n",
    "\n",
    "print(np_str)\n",
    "print(type(np_str[0]))\n",
    "print(type(np_str))"
   ]
  },
  {
   "cell_type": "code",
   "execution_count": null,
   "id": "33043938",
   "metadata": {},
   "outputs": [],
   "source": [
    "print(np_arr)\n",
    "print(np_arr.dtype)\n",
    "\n",
    "\n",
    "for x in np_arr:\n",
    "    print(type(x))"
   ]
  },
  {
   "cell_type": "code",
   "execution_count": null,
   "id": "41bbb8a3",
   "metadata": {},
   "outputs": [],
   "source": [
    "lst3 = [2.13, 7.272, 3, 4.321, 11.234, 101]\n",
    "\n",
    "np_arr2 = np.array(lst3)\n",
    "\n",
    "print(np_arr2)\n",
    "print(np_arr2.dtype)\n",
    "\n",
    "print(type(np_arr2[2]))"
   ]
  },
  {
   "cell_type": "code",
   "execution_count": null,
   "id": "eeb06950",
   "metadata": {},
   "outputs": [],
   "source": [
    "import numpy as np\n",
    "\n",
    "lst11 = [[1,2,3,4], [10,20,30,40]]\n",
    "\n",
    "np_arr11 = np.array(lst11,dtype = int)\n",
    "\n",
    "print(np_arr11)\n",
    "print(type(np_arr11[0,0]))\n",
    "print(np_arr11[0,0])\n"
   ]
  },
  {
   "cell_type": "code",
   "execution_count": null,
   "id": "0b7451fa",
   "metadata": {},
   "outputs": [],
   "source": [
    "np_arr = np.random.randint(1,100,48).reshape(3,2,2,4)\n",
    "print(np_arr)"
   ]
  },
  {
   "cell_type": "code",
   "execution_count": null,
   "id": "f6f26dc4",
   "metadata": {},
   "outputs": [],
   "source": [
    "4 - 0 axis\n",
    "2,4 - 1 axis\n",
    "3,2,4 - 2 axis\n",
    "5,3,2,4 - 3 axis"
   ]
  },
  {
   "cell_type": "code",
   "execution_count": null,
   "id": "2c1108ba",
   "metadata": {},
   "outputs": [],
   "source": [
    "print(np_arr.shape)"
   ]
  },
  {
   "cell_type": "code",
   "execution_count": null,
   "id": "2c579e55",
   "metadata": {},
   "outputs": [],
   "source": [
    "print(np_arr.ndim)"
   ]
  },
  {
   "cell_type": "code",
   "execution_count": null,
   "id": "a0034cfd",
   "metadata": {},
   "outputs": [],
   "source": [
    "np_arr_rs = np_arr.reshape(2,2,3,4)\n",
    "print(np_arr_rs)\n",
    "print(type(np_arr_rs))"
   ]
  },
  {
   "cell_type": "code",
   "execution_count": null,
   "id": "28188e60",
   "metadata": {},
   "outputs": [],
   "source": [
    "# Every array has a shape, a tuple indicating the size of each dimension, and a dtype, an object describing the data\n",
    "# type of the array:\n",
    "\n",
    "print(np_arr_rs.shape)"
   ]
  },
  {
   "cell_type": "code",
   "execution_count": null,
   "id": "083ee5e6",
   "metadata": {},
   "outputs": [],
   "source": [
    "print(np_arr_rs.dtype)"
   ]
  },
  {
   "cell_type": "code",
   "execution_count": null,
   "id": "a7eeb81b",
   "metadata": {},
   "outputs": [],
   "source": [
    "print(np_arr_rs.ndim)"
   ]
  },
  {
   "cell_type": "code",
   "execution_count": null,
   "id": "a55d4f35",
   "metadata": {},
   "outputs": [],
   "source": [
    "# Creating ndarrays The easiest way to create an array is to use the array function. This accepts any sequence-like object\n",
    "# (including other arrays) and produces a new NumPy array containing the passed data. For example, a list is a good\n",
    "# candidate for conversion:\n",
    "\n",
    "lst1 = [1,2,3,4]\n",
    "\n",
    "nump_arr = np.array(lst1)\n",
    "\n",
    "print(nump_arr)\n",
    "print(type(nump_arr))\n",
    "print(nump_arr.shape)\n",
    "print(f'Dimensions of nump_arr is {nump_arr.ndim}.')"
   ]
  },
  {
   "cell_type": "code",
   "execution_count": null,
   "id": "fbcecb24",
   "metadata": {},
   "outputs": [],
   "source": [
    "image_rec = np.random.randint(0,256,48).reshape(3,4,4)\n",
    "\n",
    "\n",
    "print(image_rec)"
   ]
  },
  {
   "cell_type": "code",
   "execution_count": null,
   "id": "6b1d3386",
   "metadata": {},
   "outputs": [],
   "source": [
    "# Note, how for a one dimensional array, the shape tuple is (4,) but the dimensions are 1."
   ]
  },
  {
   "cell_type": "code",
   "execution_count": null,
   "id": "5a28ff40",
   "metadata": {},
   "outputs": [],
   "source": [
    "\n",
    "\n",
    "nump_arr = np.arange(8).reshape(4,2)\n",
    "\n",
    "print(nump_arr.shape)\n",
    "print(nump_arr.ndim)\n",
    "print(nump_arr)"
   ]
  },
  {
   "cell_type": "code",
   "execution_count": null,
   "id": "94acbba9",
   "metadata": {},
   "outputs": [],
   "source": [
    "# Nested sequences, like a list of equal-length lists, will be converted into a multi-dimensional array:"
   ]
  },
  {
   "cell_type": "code",
   "execution_count": null,
   "id": "b2dc629e",
   "metadata": {},
   "outputs": [],
   "source": [
    "lst2 = [[1,2,3,4], [10,20,30,40]]\n",
    "\n",
    "nump_arr2 = np.array(lst2)\n",
    "\n",
    "print(nump_arr2)\n",
    "print(type(nump_arr2))\n",
    "print(nump_arr2.shape)\n",
    "print(f'Dimensions of nump_arr2 is {nump_arr2.ndim}.')"
   ]
  },
  {
   "cell_type": "code",
   "execution_count": null,
   "id": "05d6e49e",
   "metadata": {},
   "outputs": [],
   "source": [
    "print(dir(np))"
   ]
  },
  {
   "cell_type": "code",
   "execution_count": null,
   "id": "a3638b78",
   "metadata": {},
   "outputs": [],
   "source": [
    "print(nump_arr2)\n",
    "nump_arr2"
   ]
  },
  {
   "cell_type": "code",
   "execution_count": null,
   "id": "dc298701",
   "metadata": {},
   "outputs": [],
   "source": [
    "# Note the output when outputting nump_arr2 on the notebook. It specifies that this is an array - but note the return of the\n",
    "# comma!! It doesnt make a difference since we know that this is an array but just pointing out the difference in the \n",
    "# view of both commands."
   ]
  },
  {
   "cell_type": "code",
   "execution_count": null,
   "id": "a5d32e78",
   "metadata": {},
   "outputs": [],
   "source": [
    "# What are arrays?\n",
    "\n",
    "# Representation of collection of homogenous data.\n",
    "\n",
    "# Continuous block of memory how arrays store the data and metadata making them faster to process. \n",
    "# Arrays allow us to perform operations on the whole array without running a loop like in python iterables. \n",
    "\n",
    "\n",
    "# Axes of arrays.\n",
    "\n",
    "# np.array to create arrays from iterables. \n",
    "\n"
   ]
  },
  {
   "cell_type": "code",
   "execution_count": null,
   "id": "73c5cfea",
   "metadata": {},
   "outputs": [],
   "source": [
    "lst1 = [1,2,3,4]\n",
    "\n",
    "print(lst1)"
   ]
  },
  {
   "cell_type": "code",
   "execution_count": null,
   "id": "f37f9d36",
   "metadata": {},
   "outputs": [],
   "source": [
    "import numpy as np\n",
    "\n",
    "arr1 = np.array(lst1, dtype = str)\n",
    "\n",
    "\n",
    "print(arr1)\n",
    "print(arr1.dtype)"
   ]
  },
  {
   "cell_type": "markdown",
   "id": "e9d09a3d",
   "metadata": {},
   "source": [
    "### Basic Indexing and Slicing"
   ]
  },
  {
   "cell_type": "code",
   "execution_count": null,
   "id": "9bd3f49e",
   "metadata": {},
   "outputs": [],
   "source": [
    "#NumPy array indexing is a rich topic, as there are many ways you may want to select a subset of your data or individual\n",
    "# elements. One-dimensional arrays are simple; on the surface they act similarly to Python lists:"
   ]
  },
  {
   "cell_type": "code",
   "execution_count": null,
   "id": "7c5cc237",
   "metadata": {},
   "outputs": [],
   "source": []
  },
  {
   "cell_type": "code",
   "execution_count": null,
   "id": "4bb8b780",
   "metadata": {
    "scrolled": true
   },
   "outputs": [],
   "source": [
    "import numpy as np\n",
    "\n",
    "arr1 = np.arange(120).reshape(4,5,6)\n",
    "print(arr1)"
   ]
  },
  {
   "cell_type": "code",
   "execution_count": null,
   "id": "684d171e",
   "metadata": {},
   "outputs": [],
   "source": [
    "arr1[2,3,4:]"
   ]
  },
  {
   "cell_type": "code",
   "execution_count": null,
   "id": "a7e215d9",
   "metadata": {},
   "outputs": [],
   "source": [
    "arr1[1][3][5]"
   ]
  },
  {
   "cell_type": "code",
   "execution_count": null,
   "id": "27990d91",
   "metadata": {},
   "outputs": [],
   "source": [
    "arr1[1,3,5]"
   ]
  },
  {
   "cell_type": "code",
   "execution_count": null,
   "id": "d3ba442b",
   "metadata": {},
   "outputs": [],
   "source": [
    "arr1[1:3,1:3,2:4]"
   ]
  },
  {
   "cell_type": "code",
   "execution_count": null,
   "id": "eef2be14",
   "metadata": {},
   "outputs": [],
   "source": [
    "# axes are also integer indexed\n",
    "# elements on each axes are also integer indexed"
   ]
  },
  {
   "cell_type": "code",
   "execution_count": null,
   "id": "f359ee43",
   "metadata": {},
   "outputs": [],
   "source": []
  },
  {
   "cell_type": "code",
   "execution_count": null,
   "id": "be0c3dea",
   "metadata": {},
   "outputs": [],
   "source": [
    "print(arr1[5])"
   ]
  },
  {
   "cell_type": "code",
   "execution_count": null,
   "id": "848609c2",
   "metadata": {},
   "outputs": [],
   "source": [
    "print(arr1[2:4])"
   ]
  },
  {
   "cell_type": "code",
   "execution_count": null,
   "id": "47b5a2c6",
   "metadata": {},
   "outputs": [],
   "source": [
    "arr1 = np.arange(72).reshape(4,6,3)\n",
    "\n",
    "print(arr1)"
   ]
  },
  {
   "cell_type": "code",
   "execution_count": null,
   "id": "0b77be5f",
   "metadata": {},
   "outputs": [],
   "source": [
    "print(arr1[2])"
   ]
  },
  {
   "cell_type": "code",
   "execution_count": null,
   "id": "bf07c631",
   "metadata": {},
   "outputs": [],
   "source": [
    "print(arr1)"
   ]
  },
  {
   "cell_type": "code",
   "execution_count": null,
   "id": "e2c30961",
   "metadata": {},
   "outputs": [],
   "source": [
    "print(arr1[:2,1:4, -2:])"
   ]
  },
  {
   "cell_type": "code",
   "execution_count": null,
   "id": "9d9566db",
   "metadata": {},
   "outputs": [],
   "source": [
    "# Slice assignment"
   ]
  },
  {
   "cell_type": "code",
   "execution_count": null,
   "id": "80980428",
   "metadata": {},
   "outputs": [],
   "source": [
    "lst1 = [1,2,3,4,5]\n",
    "\n",
    "lst1[1:4] = 12,13,14\n",
    "print(lst1)"
   ]
  },
  {
   "cell_type": "code",
   "execution_count": null,
   "id": "02e4f1de",
   "metadata": {},
   "outputs": [],
   "source": [
    "# 1. That the assigned values should be in an iterable\n",
    "# 2. The number of elements being replaced do not have to have the same lenght as the len of elements replacing."
   ]
  },
  {
   "cell_type": "code",
   "execution_count": null,
   "id": "84c91989",
   "metadata": {},
   "outputs": [],
   "source": []
  },
  {
   "cell_type": "code",
   "execution_count": null,
   "id": "ab587b75",
   "metadata": {},
   "outputs": [],
   "source": [
    "arr1 = np.array([1,2,3,4,5])\n",
    "\n",
    "print(arr1)"
   ]
  },
  {
   "cell_type": "code",
   "execution_count": null,
   "id": "12a5d5b5",
   "metadata": {},
   "outputs": [],
   "source": [
    "arr1[2:4] = 12\n",
    "\n",
    "\n",
    "print(arr1)"
   ]
  },
  {
   "cell_type": "code",
   "execution_count": null,
   "id": "215a5935",
   "metadata": {},
   "outputs": [],
   "source": [
    "arr1[1:4] = 12,13,14\n",
    "\n",
    "print(arr1)"
   ]
  },
  {
   "cell_type": "code",
   "execution_count": null,
   "id": "55cce86d",
   "metadata": {},
   "outputs": [],
   "source": [
    "arr1 = np.arange(12).reshape(4,3)\n",
    "\n",
    "\n",
    "print(arr1)"
   ]
  },
  {
   "cell_type": "code",
   "execution_count": null,
   "id": "f95bfb2a",
   "metadata": {},
   "outputs": [],
   "source": [
    "arr1[1:3,1:]"
   ]
  },
  {
   "cell_type": "code",
   "execution_count": null,
   "id": "9133c31e",
   "metadata": {},
   "outputs": [],
   "source": [
    "arr1[1:3, 1:] = np.array([[44,55],[77,88]])"
   ]
  },
  {
   "cell_type": "code",
   "execution_count": null,
   "id": "4378fd43",
   "metadata": {},
   "outputs": [],
   "source": [
    "arr2 = np.array([[44,55],[77,88]])"
   ]
  },
  {
   "cell_type": "code",
   "execution_count": null,
   "id": "be4810ed",
   "metadata": {},
   "outputs": [],
   "source": [
    "arr2"
   ]
  },
  {
   "cell_type": "code",
   "execution_count": null,
   "id": "126fbda0",
   "metadata": {},
   "outputs": [],
   "source": [
    "arr1[1:3,1:] = 100"
   ]
  },
  {
   "cell_type": "code",
   "execution_count": null,
   "id": "4c77de14",
   "metadata": {},
   "outputs": [],
   "source": [
    "arr1"
   ]
  },
  {
   "cell_type": "code",
   "execution_count": null,
   "id": "354e3636",
   "metadata": {},
   "outputs": [],
   "source": [
    "arr1"
   ]
  },
  {
   "cell_type": "code",
   "execution_count": null,
   "id": "9e44a181",
   "metadata": {},
   "outputs": [],
   "source": [
    "print(arr1+5)"
   ]
  },
  {
   "cell_type": "code",
   "execution_count": null,
   "id": "42e836d4",
   "metadata": {},
   "outputs": [],
   "source": [
    "arr1 = np.arange(3).reshape(1,1,3)\n",
    "\n",
    "\n",
    "print(arr1)\n",
    "print(arr1.shape)"
   ]
  },
  {
   "cell_type": "code",
   "execution_count": null,
   "id": "79024619",
   "metadata": {},
   "outputs": [],
   "source": [
    "# 1. That the assigned values should be in an iterable\n",
    "# 2. The number of elements being replaced do not have to have the same lenght as the len of elements replacing."
   ]
  },
  {
   "cell_type": "code",
   "execution_count": null,
   "id": "3be54cbc",
   "metadata": {},
   "outputs": [],
   "source": [
    "# For lists the elements in the slice of list being replaced do not need to be equal in length to the elements replacing them."
   ]
  },
  {
   "cell_type": "code",
   "execution_count": null,
   "id": "6aad9588",
   "metadata": {},
   "outputs": [],
   "source": [
    "arr1 = np.arange(24).reshape(2,3,4)\n",
    "\n",
    "arr1"
   ]
  },
  {
   "cell_type": "code",
   "execution_count": null,
   "id": "12ce59ba",
   "metadata": {},
   "outputs": [],
   "source": [
    "arr2 = np.arange(48).reshape(4,3,4)\n",
    "\n",
    "arr2"
   ]
  },
  {
   "cell_type": "code",
   "execution_count": null,
   "id": "4cc2f073",
   "metadata": {},
   "outputs": [],
   "source": [
    "arr1+arr2"
   ]
  },
  {
   "cell_type": "code",
   "execution_count": null,
   "id": "b843fd05",
   "metadata": {},
   "outputs": [],
   "source": []
  },
  {
   "cell_type": "code",
   "execution_count": null,
   "id": "dae257c4",
   "metadata": {},
   "outputs": [],
   "source": []
  },
  {
   "cell_type": "code",
   "execution_count": null,
   "id": "1733b34a",
   "metadata": {},
   "outputs": [],
   "source": []
  },
  {
   "cell_type": "code",
   "execution_count": null,
   "id": "40ba0562",
   "metadata": {},
   "outputs": [],
   "source": []
  },
  {
   "cell_type": "code",
   "execution_count": null,
   "id": "74645993",
   "metadata": {},
   "outputs": [],
   "source": []
  },
  {
   "cell_type": "code",
   "execution_count": null,
   "id": "1b8022f1",
   "metadata": {},
   "outputs": [],
   "source": []
  },
  {
   "cell_type": "code",
   "execution_count": null,
   "id": "354ec7f3",
   "metadata": {},
   "outputs": [],
   "source": []
  },
  {
   "cell_type": "code",
   "execution_count": null,
   "id": "42885fb1",
   "metadata": {},
   "outputs": [],
   "source": [
    "arr1 = np.arange(10)\n",
    "\n"
   ]
  },
  {
   "cell_type": "code",
   "execution_count": null,
   "id": "def1dd35",
   "metadata": {},
   "outputs": [],
   "source": [
    "print(arr1)"
   ]
  },
  {
   "cell_type": "code",
   "execution_count": null,
   "id": "472f852e",
   "metadata": {},
   "outputs": [],
   "source": [
    "print(arr1[2:7])"
   ]
  },
  {
   "cell_type": "code",
   "execution_count": null,
   "id": "90a05124",
   "metadata": {},
   "outputs": [],
   "source": [
    "# Slice assignment in arrays\n",
    "\n",
    "# 1. Either assign a scalar value which will replace each one of the elements sliced. \n",
    "\n",
    "# 2. Give same length of values to replace and to be replaced"
   ]
  },
  {
   "cell_type": "code",
   "execution_count": null,
   "id": "28c2aacd",
   "metadata": {},
   "outputs": [],
   "source": [
    "arr1[2:7] = 11,12,13,14,15\n",
    "\n",
    "print(arr1)"
   ]
  },
  {
   "cell_type": "code",
   "execution_count": null,
   "id": "c2f2c7a5",
   "metadata": {},
   "outputs": [],
   "source": [
    "list1 = list(range(10))\n",
    "print(list1)\n",
    "list1[2:4] = 11,\n",
    "print(list1)"
   ]
  },
  {
   "cell_type": "code",
   "execution_count": null,
   "id": "19979212",
   "metadata": {},
   "outputs": [],
   "source": [
    "# As you can see, if you assign a scalar value to a slice of an array, as in arr[2:4] = 11, the value is propagated (or \n",
    "# broadcasted henceforth) to the entire selection. While for lists, the value(s) of the iterable replace(s) the slice."
   ]
  },
  {
   "cell_type": "code",
   "execution_count": null,
   "id": "43bc740f",
   "metadata": {},
   "outputs": [],
   "source": [
    "# An important first distinction from Python’s built-in lists is that array slices are views on the original array. This\n",
    "# means that the data is not copied, and any modifications to the view will be reflected in the source array. To give\n",
    "# an example of this, first create a slice of arr:"
   ]
  },
  {
   "cell_type": "code",
   "execution_count": null,
   "id": "1ba67054",
   "metadata": {},
   "outputs": [],
   "source": [
    "lst1 = list(range(10))\n",
    "\n",
    "lst2 = lst1[2:6]\n",
    "\n",
    "print(lst1)\n",
    "print(lst2)\n"
   ]
  },
  {
   "cell_type": "code",
   "execution_count": null,
   "id": "8a684d31",
   "metadata": {},
   "outputs": [],
   "source": [
    "lst2[0] = 20\n",
    "\n",
    "print(lst1)\n",
    "print(lst2)"
   ]
  },
  {
   "cell_type": "code",
   "execution_count": null,
   "id": "80ecddb0",
   "metadata": {},
   "outputs": [],
   "source": [
    "arr = np.arange(11)\n",
    "arr_slice = arr[5:8]\n",
    "print(arr)\n",
    "print(arr_slice)"
   ]
  },
  {
   "cell_type": "code",
   "execution_count": null,
   "id": "8f597e40",
   "metadata": {},
   "outputs": [],
   "source": [
    "arr_slice[0] = np.array([1,2,3,4])\n",
    "print(arr)\n",
    "print(arr_slice)"
   ]
  },
  {
   "cell_type": "code",
   "execution_count": null,
   "id": "841eae85",
   "metadata": {},
   "outputs": [],
   "source": [
    "arr[6] = 686\n",
    "\n",
    "print(arr)\n",
    "print(arr_slice)"
   ]
  },
  {
   "cell_type": "code",
   "execution_count": null,
   "id": "89467dd5",
   "metadata": {},
   "outputs": [],
   "source": [
    "print(id(arr))\n",
    "print(id(arr_slice))"
   ]
  },
  {
   "cell_type": "code",
   "execution_count": null,
   "id": "328512d4",
   "metadata": {},
   "outputs": [],
   "source": [
    "list1 = list(range(11))\n",
    "lst_slice = list1[5:8]\n",
    "print(list1)\n",
    "print(lst_slice)\n"
   ]
  },
  {
   "cell_type": "code",
   "execution_count": null,
   "id": "d3537aa5",
   "metadata": {},
   "outputs": [],
   "source": [
    "lst_slice[1] = 6789\n",
    "print(lst_slice)\n",
    "print(list1)"
   ]
  },
  {
   "cell_type": "code",
   "execution_count": null,
   "id": "5dca0974",
   "metadata": {},
   "outputs": [],
   "source": [
    "lst1 = list(range(10))\n",
    "lst2 = lst1[:]\n",
    "\n",
    "print(lst1)\n",
    "print(lst2)"
   ]
  },
  {
   "cell_type": "code",
   "execution_count": null,
   "id": "5dc9d552",
   "metadata": {},
   "outputs": [],
   "source": [
    "# To copy an array or its slice you have to exlicitly copy."
   ]
  },
  {
   "cell_type": "code",
   "execution_count": null,
   "id": "b19d6e60",
   "metadata": {},
   "outputs": [],
   "source": [
    "arr = np.arange(11)\n",
    "print(arr)\n",
    "arr_slice = arr[5:8].copy()\n",
    "\n",
    "print(arr_slice)"
   ]
  },
  {
   "cell_type": "code",
   "execution_count": null,
   "id": "dd5fdde3",
   "metadata": {},
   "outputs": [],
   "source": [
    "arr_slice[0] = 555\n",
    "\n",
    "print(arr_slice)\n",
    "print(arr)"
   ]
  },
  {
   "cell_type": "code",
   "execution_count": null,
   "id": "026c846f",
   "metadata": {},
   "outputs": [],
   "source": [
    "# Accessing values in nested arrays."
   ]
  },
  {
   "cell_type": "code",
   "execution_count": null,
   "id": "c355c2c5",
   "metadata": {},
   "outputs": [],
   "source": [
    "lst1 = [[1,2,3],[4,5,6],[7,8,9]]\n",
    "\n",
    "print(lst1[1][1])"
   ]
  },
  {
   "cell_type": "code",
   "execution_count": null,
   "id": "41a51b8b",
   "metadata": {
    "scrolled": true
   },
   "outputs": [],
   "source": [
    "arr_hdim = np.array([[1,2,3],[4,5,6],[7,8,9]])\n",
    "\n",
    "print(arr_hdim)"
   ]
  },
  {
   "cell_type": "code",
   "execution_count": null,
   "id": "2bb91000",
   "metadata": {},
   "outputs": [],
   "source": [
    "print(arr_hdim[1,2])"
   ]
  },
  {
   "cell_type": "code",
   "execution_count": null,
   "id": "ded4c119",
   "metadata": {},
   "outputs": [],
   "source": [
    "arr1 = np.random.randint(1,100,24).reshape(2,3,4)\n",
    "\n",
    "print(arr1)"
   ]
  },
  {
   "cell_type": "code",
   "execution_count": null,
   "id": "7b42eb91",
   "metadata": {},
   "outputs": [],
   "source": [
    "# Numpy allows you to use easier syntax to access elements in nested arrays.\n",
    "\n",
    "print(arr1[1,0:2,1:])"
   ]
  },
  {
   "cell_type": "code",
   "execution_count": null,
   "id": "942ce448",
   "metadata": {},
   "outputs": [],
   "source": [
    "lst1 = [[1,2,3],[4,5,6],[7,8,9]]\n",
    "\n",
    "print(lst1[1][1])\n"
   ]
  },
  {
   "cell_type": "code",
   "execution_count": null,
   "id": "b87fc105",
   "metadata": {},
   "outputs": [],
   "source": [
    "print(lst1[-1,-1])"
   ]
  },
  {
   "cell_type": "code",
   "execution_count": null,
   "id": "9557f980",
   "metadata": {},
   "outputs": [],
   "source": [
    "#Indexing with slices\n",
    "\n",
    "#Like one-dimensional objects such as Python lists, ndarrays can be sliced with the familiar syntax:\n",
    "\n",
    "arr = np.arange(11)\n",
    "arr"
   ]
  },
  {
   "cell_type": "code",
   "execution_count": null,
   "id": "5a07cd2a",
   "metadata": {},
   "outputs": [],
   "source": [
    "print(arr[1:6])"
   ]
  },
  {
   "cell_type": "code",
   "execution_count": null,
   "id": "480f81b7",
   "metadata": {},
   "outputs": [],
   "source": [
    "# Consider a two-dimensional array. Slicing this array is a bit different:\n",
    " \n",
    "arr_2d = np.array([[1,2,3], [4,5,6],[7,8,9]])\n",
    "\n",
    "print(arr_2d)"
   ]
  },
  {
   "cell_type": "code",
   "execution_count": null,
   "id": "ff95b097",
   "metadata": {},
   "outputs": [],
   "source": [
    "(3,3)"
   ]
  },
  {
   "cell_type": "code",
   "execution_count": null,
   "id": "1a2d480b",
   "metadata": {},
   "outputs": [],
   "source": [
    "print(arr_2d[:2,:2])"
   ]
  },
  {
   "cell_type": "code",
   "execution_count": null,
   "id": "ff78d6f8",
   "metadata": {},
   "outputs": [],
   "source": [
    "print(arr_2d[:2,:2])"
   ]
  },
  {
   "cell_type": "code",
   "execution_count": null,
   "id": "c33921b5",
   "metadata": {},
   "outputs": [],
   "source": []
  },
  {
   "cell_type": "code",
   "execution_count": null,
   "id": "71c43121",
   "metadata": {},
   "outputs": [],
   "source": [
    "import numpy as np"
   ]
  },
  {
   "cell_type": "code",
   "execution_count": null,
   "id": "7ee6c03f",
   "metadata": {},
   "outputs": [],
   "source": [
    "np_i = np.arange(1,61).reshape(5,4,3)\n",
    "print(np_i)"
   ]
  },
  {
   "cell_type": "code",
   "execution_count": null,
   "id": "af1cd9f2",
   "metadata": {},
   "outputs": [],
   "source": [
    "print(np_i[1,:,:2])\n",
    "\n",
    "# arr_2d[0, 1]\n",
    "# arr_2d[:2,:]"
   ]
  },
  {
   "cell_type": "code",
   "execution_count": null,
   "id": "e6f33946",
   "metadata": {},
   "outputs": [],
   "source": [
    "np_i[:2,:,1:]"
   ]
  },
  {
   "cell_type": "code",
   "execution_count": null,
   "id": "65fa5bb6",
   "metadata": {},
   "outputs": [],
   "source": [
    "# As we see, the array has been sliced on axis 0"
   ]
  },
  {
   "cell_type": "code",
   "execution_count": null,
   "id": "001c0be7",
   "metadata": {},
   "outputs": [],
   "source": [
    "print(arr_2d)"
   ]
  },
  {
   "cell_type": "code",
   "execution_count": null,
   "id": "0aa2c882",
   "metadata": {},
   "outputs": [],
   "source": [
    "# As the syntax for multiple indexes seen previously, we can pass multiple slices as well. \n",
    "\n",
    "print(arr_2d[:2])"
   ]
  },
  {
   "cell_type": "code",
   "execution_count": null,
   "id": "c6fb13c6",
   "metadata": {},
   "outputs": [],
   "source": [
    "print(arr_2d[:2, :2])"
   ]
  },
  {
   "cell_type": "code",
   "execution_count": null,
   "id": "d38ebc88",
   "metadata": {},
   "outputs": [],
   "source": [
    "arr_2d"
   ]
  },
  {
   "cell_type": "code",
   "execution_count": null,
   "id": "7c22a604",
   "metadata": {},
   "outputs": [],
   "source": [
    "# or\n",
    "\n",
    "print(arr_2d[:2,1:])"
   ]
  },
  {
   "cell_type": "code",
   "execution_count": null,
   "id": "2cadf532",
   "metadata": {},
   "outputs": [],
   "source": [
    "# When slicing like this, you always obtain array views of the same number of dimensions"
   ]
  },
  {
   "cell_type": "code",
   "execution_count": null,
   "id": "93ab3659",
   "metadata": {},
   "outputs": [],
   "source": [
    "# By mixing integer indexes and slices, you get lower dimensional slices"
   ]
  },
  {
   "cell_type": "code",
   "execution_count": null,
   "id": "1b185e9f",
   "metadata": {},
   "outputs": [],
   "source": [
    "arr_3d = np.arange(60).reshape(3,5,4)\n",
    "\n",
    "print(arr_3d)"
   ]
  },
  {
   "cell_type": "code",
   "execution_count": null,
   "id": "68d25ae8",
   "metadata": {},
   "outputs": [],
   "source": []
  },
  {
   "cell_type": "code",
   "execution_count": null,
   "id": "55a81c05",
   "metadata": {},
   "outputs": [],
   "source": [
    "print(arr_3d[1,1:, 1:4])"
   ]
  },
  {
   "cell_type": "code",
   "execution_count": null,
   "id": "f8d77c27",
   "metadata": {},
   "outputs": [],
   "source": [
    "# Here we first selected the 1st index on axis 0 and then sliced from 1st index to end along axis 1"
   ]
  },
  {
   "cell_type": "code",
   "execution_count": null,
   "id": "b7f2f7d7",
   "metadata": {},
   "outputs": [],
   "source": [
    "# Another example, slice from 1st index to end along axis 0 and then index 2 along axis 1\n",
    "print(arr_2d[1:])"
   ]
  },
  {
   "cell_type": "code",
   "execution_count": null,
   "id": "8f08ee5f",
   "metadata": {},
   "outputs": [],
   "source": [
    "print(arr_2d[1:,2])"
   ]
  },
  {
   "cell_type": "code",
   "execution_count": null,
   "id": "61e6e59c",
   "metadata": {},
   "outputs": [],
   "source": [
    "arr_3d = np.arange(24).reshape(2,3,4)\n",
    "\n",
    "print(arr_3d)"
   ]
  },
  {
   "cell_type": "code",
   "execution_count": null,
   "id": "e5fd92b7",
   "metadata": {},
   "outputs": [],
   "source": [
    "print(arr_3d[1][1][2])"
   ]
  },
  {
   "cell_type": "code",
   "execution_count": null,
   "id": "a035b610",
   "metadata": {},
   "outputs": [],
   "source": [
    "print(arr_3d[1:,:2,0])"
   ]
  },
  {
   "cell_type": "code",
   "execution_count": null,
   "id": "2fdeb6c5",
   "metadata": {},
   "outputs": [],
   "source": []
  },
  {
   "cell_type": "code",
   "execution_count": null,
   "id": "a8f37b07",
   "metadata": {},
   "outputs": [],
   "source": [
    "# Numpy\n",
    "\n",
    "# np.array function to create arrays\n",
    "# nested arrays, shapes of arrays, axes, dimensions of arrays. \n",
    "# Indexing, slicing, assignment arrays. \n",
    "# Arithmetic operatons on arrays using scalars or array with array operations."
   ]
  },
  {
   "cell_type": "code",
   "execution_count": null,
   "id": "a95e2e7d",
   "metadata": {},
   "outputs": [],
   "source": [
    "import numpy as np\n",
    "arr1 = np.arange(24).reshape(2,3,4)\n",
    "arr2 = np.arange(4).reshape(4,1)"
   ]
  },
  {
   "cell_type": "code",
   "execution_count": null,
   "id": "6d9a127d",
   "metadata": {},
   "outputs": [],
   "source": [
    "arr3 = np.arange(4)\n",
    "\n",
    "print(arr3)\n",
    "print(arr3.shape)"
   ]
  },
  {
   "cell_type": "code",
   "execution_count": null,
   "id": "cb69a4e1",
   "metadata": {},
   "outputs": [],
   "source": [
    "print(arr2)\n",
    "print(arr2.shape)"
   ]
  },
  {
   "cell_type": "code",
   "execution_count": null,
   "id": "8af8a86a",
   "metadata": {},
   "outputs": [],
   "source": [
    "arr1+arr2"
   ]
  },
  {
   "cell_type": "code",
   "execution_count": null,
   "id": "547f3955",
   "metadata": {},
   "outputs": [],
   "source": [
    "arr4 = np.arange(12).reshape(1,4,3)\n",
    "\n",
    "print(arr4)"
   ]
  },
  {
   "cell_type": "code",
   "execution_count": null,
   "id": "bb4dab0a",
   "metadata": {},
   "outputs": [],
   "source": []
  },
  {
   "cell_type": "markdown",
   "id": "dc79a111",
   "metadata": {},
   "source": [
    "### Boolean Indexing"
   ]
  },
  {
   "cell_type": "code",
   "execution_count": null,
   "id": "060877f0",
   "metadata": {},
   "outputs": [],
   "source": [
    "# Let’s consider an example where we have some data in an array and an array of names with duplicates. "
   ]
  },
  {
   "cell_type": "code",
   "execution_count": null,
   "id": "a8e874d9",
   "metadata": {},
   "outputs": [],
   "source": []
  },
  {
   "cell_type": "code",
   "execution_count": null,
   "id": "22789114",
   "metadata": {},
   "outputs": [],
   "source": [
    "print(120*100)"
   ]
  },
  {
   "cell_type": "code",
   "execution_count": null,
   "id": "b5041923",
   "metadata": {},
   "outputs": [],
   "source": [
    "import numpy as np\n",
    "\n",
    "arr1 = np.arange(10)\n",
    "\n",
    "print(arr1)"
   ]
  },
  {
   "cell_type": "code",
   "execution_count": null,
   "id": "9a1d0d31",
   "metadata": {},
   "outputs": [],
   "source": [
    "print(arr1*100)"
   ]
  },
  {
   "cell_type": "code",
   "execution_count": null,
   "id": "81bb74ca",
   "metadata": {},
   "outputs": [],
   "source": [
    "print(120>100)"
   ]
  },
  {
   "cell_type": "code",
   "execution_count": null,
   "id": "8b55681b",
   "metadata": {},
   "outputs": [],
   "source": [
    "print(arr1>5)"
   ]
  },
  {
   "cell_type": "code",
   "execution_count": null,
   "id": "1c1bb540",
   "metadata": {},
   "outputs": [],
   "source": [
    "import numpy as np\n",
    "arr1 = np.array([101,120,39,421,75,1001])\n",
    "\n",
    "print(arr1)"
   ]
  },
  {
   "cell_type": "code",
   "execution_count": null,
   "id": "c7e110e1",
   "metadata": {},
   "outputs": [],
   "source": [
    "print(20+1)"
   ]
  },
  {
   "cell_type": "code",
   "execution_count": null,
   "id": "530aa9a7",
   "metadata": {},
   "outputs": [],
   "source": [
    "print(arr1+1)"
   ]
  },
  {
   "cell_type": "code",
   "execution_count": null,
   "id": "bc6d01bc",
   "metadata": {},
   "outputs": [],
   "source": [
    "print(20>10)"
   ]
  },
  {
   "cell_type": "code",
   "execution_count": null,
   "id": "4eaf832e",
   "metadata": {},
   "outputs": [],
   "source": [
    "print(arr1>100)"
   ]
  },
  {
   "cell_type": "code",
   "execution_count": null,
   "id": "a5a298e4",
   "metadata": {},
   "outputs": [],
   "source": [
    "arr1[arr1>100]"
   ]
  },
  {
   "cell_type": "code",
   "execution_count": null,
   "id": "d01a572f",
   "metadata": {},
   "outputs": [],
   "source": [
    "names = np.array(['Bob', 'John', 'Steve', 'Will', 'Bob', 'Steve', 'Bob'])\n",
    "print(names)"
   ]
  },
  {
   "cell_type": "code",
   "execution_count": null,
   "id": "04f970f4",
   "metadata": {},
   "outputs": [],
   "source": [
    "# Like arithmetic operations, comparisons (such as ==) with arrays are also vectorized. Thus, comparing names with\n",
    "# the string 'Bob' yields a boolean array:\n",
    "print(names == 'Bob')"
   ]
  },
  {
   "cell_type": "code",
   "execution_count": null,
   "id": "213eac7d",
   "metadata": {},
   "outputs": [],
   "source": [
    "names_bool = names == 'Bob'\n",
    "\n",
    "print(names_bool)"
   ]
  },
  {
   "cell_type": "code",
   "execution_count": null,
   "id": "e152b5ca",
   "metadata": {},
   "outputs": [],
   "source": [
    "data = np.random.choice(np.arange(1,100),7, replace = False)\n",
    "\n",
    "print(data)"
   ]
  },
  {
   "cell_type": "code",
   "execution_count": null,
   "id": "f91259d8",
   "metadata": {},
   "outputs": [],
   "source": [
    "print(data[names_bool])"
   ]
  },
  {
   "cell_type": "markdown",
   "id": "108126e0",
   "metadata": {},
   "source": [
    "[73 57 82 71 9 15 54]\n",
    "\n",
    "[T F F F T F T]\n",
    "\n",
    "73- - - 9 - 54"
   ]
  },
  {
   "cell_type": "code",
   "execution_count": null,
   "id": "d07310c9",
   "metadata": {},
   "outputs": [],
   "source": [
    "import numpy as np"
   ]
  },
  {
   "cell_type": "code",
   "execution_count": null,
   "id": "8883b5b4",
   "metadata": {},
   "outputs": [],
   "source": [
    "data = np.arange(24).reshape(4,3,2)"
   ]
  },
  {
   "cell_type": "code",
   "execution_count": null,
   "id": "fabadc4a",
   "metadata": {
    "scrolled": true
   },
   "outputs": [],
   "source": [
    "print(data)"
   ]
  },
  {
   "cell_type": "code",
   "execution_count": null,
   "id": "047f145b",
   "metadata": {},
   "outputs": [],
   "source": [
    "names_bool = np.array([True, False, False, True])\n",
    "\n",
    "print(names_bool)"
   ]
  },
  {
   "cell_type": "code",
   "execution_count": null,
   "id": "48802b8a",
   "metadata": {},
   "outputs": [],
   "source": [
    "#axis index and element index"
   ]
  },
  {
   "cell_type": "code",
   "execution_count": null,
   "id": "f340ade2",
   "metadata": {},
   "outputs": [],
   "source": [
    "data[names_bool]"
   ]
  },
  {
   "cell_type": "code",
   "execution_count": null,
   "id": "b7a82257",
   "metadata": {},
   "outputs": [],
   "source": [
    "data[1, :, names_bool]"
   ]
  },
  {
   "cell_type": "code",
   "execution_count": null,
   "id": "7ffebf33",
   "metadata": {},
   "outputs": [],
   "source": [
    "data[1,:,names_bool] # True False False False True False True"
   ]
  },
  {
   "cell_type": "code",
   "execution_count": null,
   "id": "74604aec",
   "metadata": {},
   "outputs": [],
   "source": [
    "14, 18,  20\n",
    "21, 25, 27"
   ]
  },
  {
   "cell_type": "code",
   "execution_count": null,
   "id": "03be500a",
   "metadata": {},
   "outputs": [],
   "source": []
  },
  {
   "cell_type": "code",
   "execution_count": null,
   "id": "d4def343",
   "metadata": {},
   "outputs": [],
   "source": [
    "7,3,2\n",
    "0 1 2\n",
    "\n",
    ": "
   ]
  },
  {
   "cell_type": "code",
   "execution_count": null,
   "id": "2b737c50",
   "metadata": {},
   "outputs": [],
   "source": [
    "data[:, 1,0]"
   ]
  },
  {
   "cell_type": "code",
   "execution_count": null,
   "id": "de436e4c",
   "metadata": {},
   "outputs": [],
   "source": []
  },
  {
   "cell_type": "code",
   "execution_count": null,
   "id": "531997b7",
   "metadata": {},
   "outputs": [],
   "source": []
  },
  {
   "cell_type": "code",
   "execution_count": null,
   "id": "1ec36c54",
   "metadata": {},
   "outputs": [],
   "source": [
    "data = np.random.randint(1,10,49).reshape(7,7)"
   ]
  },
  {
   "cell_type": "code",
   "execution_count": null,
   "id": "9eba8026",
   "metadata": {},
   "outputs": [],
   "source": [
    "print(data)"
   ]
  },
  {
   "cell_type": "code",
   "execution_count": null,
   "id": "3f2b9478",
   "metadata": {},
   "outputs": [],
   "source": [
    "print(names_bool)"
   ]
  },
  {
   "cell_type": "code",
   "execution_count": null,
   "id": "5dfc2c0e",
   "metadata": {},
   "outputs": [],
   "source": [
    "data[names_bool]"
   ]
  },
  {
   "cell_type": "code",
   "execution_count": null,
   "id": "a649f2af",
   "metadata": {},
   "outputs": [],
   "source": [
    "arr1 = np.arange(4).reshape(4)\n",
    "\n",
    "print(arr1)\n",
    "print(arr1.shape)\n",
    "print(arr1.ndim)"
   ]
  },
  {
   "cell_type": "code",
   "execution_count": null,
   "id": "6714fb37",
   "metadata": {},
   "outputs": [],
   "source": [
    "arr2 = np.arange(12).reshape(3,4)\n",
    "\n",
    "print(arr2)\n",
    "print(arr2.shape)\n",
    "print(arr2.ndim)"
   ]
  },
  {
   "cell_type": "code",
   "execution_count": null,
   "id": "3142bb7c",
   "metadata": {},
   "outputs": [],
   "source": [
    "arr3 = np.arange(24).reshape(2,3,4)\n",
    "\n",
    "\n",
    "print(arr3)\n",
    "print(arr3.shape)\n",
    "print(arr3.ndim)"
   ]
  },
  {
   "cell_type": "code",
   "execution_count": null,
   "id": "e99a5111",
   "metadata": {},
   "outputs": [],
   "source": []
  },
  {
   "cell_type": "code",
   "execution_count": null,
   "id": "da7781c1",
   "metadata": {},
   "outputs": [],
   "source": [
    "4\n",
    "0 1D = 1 Index position axis\n",
    "\n",
    "3,4\n",
    "0,1   2D = 2 Index postions\n",
    "\n",
    "2,3,4\n",
    "0,1,2 3D = 3 index positions for axis"
   ]
  },
  {
   "cell_type": "code",
   "execution_count": null,
   "id": "0515dfdb",
   "metadata": {},
   "outputs": [],
   "source": [
    "arr1 = np.random.randint(1,100,24).reshape(2,3,4)\n",
    "\n",
    "\n",
    "print(arr1)"
   ]
  },
  {
   "cell_type": "code",
   "execution_count": null,
   "id": "14bfbe51",
   "metadata": {},
   "outputs": [],
   "source": []
  },
  {
   "cell_type": "code",
   "execution_count": null,
   "id": "58e029ca",
   "metadata": {},
   "outputs": [],
   "source": []
  },
  {
   "cell_type": "code",
   "execution_count": null,
   "id": "b9dcb0a1",
   "metadata": {},
   "outputs": [],
   "source": []
  },
  {
   "cell_type": "code",
   "execution_count": null,
   "id": "7bd2e6a4",
   "metadata": {},
   "outputs": [],
   "source": []
  },
  {
   "cell_type": "code",
   "execution_count": null,
   "id": "074438d0",
   "metadata": {},
   "outputs": [],
   "source": []
  },
  {
   "cell_type": "code",
   "execution_count": null,
   "id": "4f80008c",
   "metadata": {},
   "outputs": [],
   "source": []
  },
  {
   "cell_type": "code",
   "execution_count": null,
   "id": "c22c74c5",
   "metadata": {},
   "outputs": [],
   "source": [
    "np_range = np.arange(len(names_bool))\n",
    "\n",
    "print(np_range)"
   ]
  },
  {
   "cell_type": "code",
   "execution_count": null,
   "id": "837cbf72",
   "metadata": {},
   "outputs": [],
   "source": [
    "print(np_range[names_bool])"
   ]
  },
  {
   "cell_type": "code",
   "execution_count": null,
   "id": "ada86b30",
   "metadata": {},
   "outputs": [],
   "source": [
    "print(data[names_bool])"
   ]
  },
  {
   "cell_type": "code",
   "execution_count": null,
   "id": "ae0a87bb",
   "metadata": {
    "scrolled": true
   },
   "outputs": [],
   "source": [
    "print(data)"
   ]
  },
  {
   "cell_type": "code",
   "execution_count": null,
   "id": "4ff4f1b1",
   "metadata": {},
   "outputs": [],
   "source": [
    "data[:,:3]"
   ]
  },
  {
   "cell_type": "code",
   "execution_count": null,
   "id": "64930af0",
   "metadata": {},
   "outputs": [],
   "source": [
    "# We can use the values from the boolean array returned from the comparison operator == performed on 'names' array to \n",
    "# index from another array data."
   ]
  },
  {
   "cell_type": "code",
   "execution_count": null,
   "id": "bdbfe55f",
   "metadata": {},
   "outputs": [],
   "source": [
    "print(data)"
   ]
  },
  {
   "cell_type": "code",
   "execution_count": null,
   "id": "6ef8e258",
   "metadata": {},
   "outputs": [],
   "source": [
    "print(data[:,names_bool])"
   ]
  },
  {
   "cell_type": "code",
   "execution_count": null,
   "id": "b542620a",
   "metadata": {},
   "outputs": [],
   "source": [
    "print(data[:,2:4])"
   ]
  },
  {
   "cell_type": "code",
   "execution_count": null,
   "id": "5ff1774f",
   "metadata": {},
   "outputs": [],
   "source": [
    "print(data[:, names_bool])"
   ]
  },
  {
   "cell_type": "code",
   "execution_count": null,
   "id": "cbcc5f43",
   "metadata": {},
   "outputs": [],
   "source": [
    "print(names)\n",
    "print(names=='Bob')"
   ]
  },
  {
   "cell_type": "code",
   "execution_count": null,
   "id": "1d0e8887",
   "metadata": {},
   "outputs": [],
   "source": [
    "print('Bob'=='Bob')"
   ]
  },
  {
   "cell_type": "code",
   "execution_count": null,
   "id": "7aaa318f",
   "metadata": {},
   "outputs": [],
   "source": [
    "print(names=='Bob')\n"
   ]
  },
  {
   "cell_type": "code",
   "execution_count": null,
   "id": "e5d1bdf7",
   "metadata": {},
   "outputs": [],
   "source": [
    "names_bool = names == 'Bob'\n",
    "\n",
    "print(names_bool)\n",
    "print(type(names_bool))"
   ]
  },
  {
   "cell_type": "code",
   "execution_count": null,
   "id": "d0418dfe",
   "metadata": {},
   "outputs": [],
   "source": [
    "data1 = data[2]\n",
    "\n",
    "print(data1)"
   ]
  },
  {
   "cell_type": "code",
   "execution_count": null,
   "id": "cc85a131",
   "metadata": {},
   "outputs": [],
   "source": [
    "print(names_bool)"
   ]
  },
  {
   "cell_type": "code",
   "execution_count": null,
   "id": "3e8dce5c",
   "metadata": {},
   "outputs": [],
   "source": [
    "print(data1[names_bool])"
   ]
  },
  {
   "cell_type": "code",
   "execution_count": null,
   "id": "be6be7e0",
   "metadata": {},
   "outputs": [],
   "source": [
    "lst1 = list('abcdefg')\n",
    "\n",
    "lst2 = []\n",
    "\n",
    "for x in lst1:\n",
    "    for y in range(len(lst1)):\n",
    "        lst2.append(x*(y+1))\n",
    "print(lst2)"
   ]
  },
  {
   "cell_type": "code",
   "execution_count": null,
   "id": "6b414238",
   "metadata": {},
   "outputs": [],
   "source": [
    "arr_alpha = np.arange(1,50).reshape(7,7)\n",
    "\n",
    "print(arr_alpha)"
   ]
  },
  {
   "cell_type": "code",
   "execution_count": null,
   "id": "5c098b9a",
   "metadata": {},
   "outputs": [],
   "source": [
    "print(names_bool)"
   ]
  },
  {
   "cell_type": "code",
   "execution_count": null,
   "id": "4efe8b36",
   "metadata": {},
   "outputs": [],
   "source": [
    "print(arr_alpha[2:5, names_bool])"
   ]
  },
  {
   "cell_type": "code",
   "execution_count": null,
   "id": "25aad035",
   "metadata": {},
   "outputs": [],
   "source": [
    "print(data)"
   ]
  },
  {
   "cell_type": "code",
   "execution_count": null,
   "id": "6da08e10",
   "metadata": {},
   "outputs": [],
   "source": [
    "data1 = np.random.randint(1,10,42).reshape(2,7,3)\n",
    "\n",
    "print(data1)"
   ]
  },
  {
   "cell_type": "code",
   "execution_count": null,
   "id": "f5255ea2",
   "metadata": {},
   "outputs": [],
   "source": [
    "print(names)"
   ]
  },
  {
   "cell_type": "code",
   "execution_count": null,
   "id": "269e1c4b",
   "metadata": {},
   "outputs": [],
   "source": [
    "print(names_bool)"
   ]
  },
  {
   "cell_type": "code",
   "execution_count": null,
   "id": "34db0748",
   "metadata": {},
   "outputs": [],
   "source": [
    "print(data1[:,names_bool])"
   ]
  },
  {
   "cell_type": "code",
   "execution_count": null,
   "id": "78ad4b5f",
   "metadata": {},
   "outputs": [],
   "source": [
    "print(data)"
   ]
  },
  {
   "cell_type": "code",
   "execution_count": null,
   "id": "df6c2808",
   "metadata": {},
   "outputs": [],
   "source": [
    "print(data1)"
   ]
  },
  {
   "cell_type": "code",
   "execution_count": null,
   "id": "cf3ed502",
   "metadata": {},
   "outputs": [],
   "source": [
    "data2 = data1.reshape(2,7,3)\n",
    "\n",
    "print(data2)\n"
   ]
  },
  {
   "cell_type": "code",
   "execution_count": null,
   "id": "d53073ae",
   "metadata": {},
   "outputs": [],
   "source": [
    "print(data2[:,names=='Bob', :])"
   ]
  },
  {
   "cell_type": "code",
   "execution_count": null,
   "id": "c17402b7",
   "metadata": {},
   "outputs": [],
   "source": [
    "#asarray"
   ]
  },
  {
   "cell_type": "code",
   "execution_count": null,
   "id": "c959e135",
   "metadata": {
    "scrolled": true
   },
   "outputs": [],
   "source": [
    "print(nump_arr2)"
   ]
  },
  {
   "cell_type": "code",
   "execution_count": null,
   "id": "4c5df747",
   "metadata": {},
   "outputs": [],
   "source": [
    "nump_arr2[1,2] = 33\n",
    "\n",
    "print(nump_arr2)"
   ]
  },
  {
   "cell_type": "code",
   "execution_count": null,
   "id": "8180acc8",
   "metadata": {},
   "outputs": [],
   "source": [
    "nump_mIdx = np.random.randint(1,10,72).reshape(3,2,3,4)\n",
    "\n",
    "print(nump_mIdx)"
   ]
  },
  {
   "cell_type": "code",
   "execution_count": null,
   "id": "5af8da6d",
   "metadata": {},
   "outputs": [],
   "source": [
    "nump_mIdx[1][1][1][1] = 88\n",
    "\n",
    "print(nump_mIdx)"
   ]
  },
  {
   "cell_type": "code",
   "execution_count": null,
   "id": "3514a1b3",
   "metadata": {},
   "outputs": [],
   "source": [
    "nump_mIdx[2][0][0][3] = 606\n",
    "\n",
    "print(nump_mIdx)"
   ]
  },
  {
   "cell_type": "code",
   "execution_count": null,
   "id": "ef819e38",
   "metadata": {},
   "outputs": [],
   "source": []
  },
  {
   "cell_type": "code",
   "execution_count": null,
   "id": "a366cce8",
   "metadata": {},
   "outputs": [],
   "source": [
    "import numpy as np\n",
    "\n",
    "lst1 = [1,2,3,4]\n",
    "np_array = np.array(lst1)\n",
    "np_asarray = np.asarray(lst1)\n",
    "\n",
    "print(np_array)\n",
    "print(type(np_array))\n",
    "\n",
    "print(np_asarray)\n",
    "print(type(np_asarray))"
   ]
  },
  {
   "cell_type": "code",
   "execution_count": null,
   "id": "2bb8f5ca",
   "metadata": {},
   "outputs": [],
   "source": [
    "lst1[0] = 100\n",
    "\n",
    "print(lst1)\n",
    "print(np_array)\n",
    "print(np_asarray)"
   ]
  },
  {
   "cell_type": "code",
   "execution_count": null,
   "id": "abb55bc5",
   "metadata": {},
   "outputs": [],
   "source": [
    "np_array[0] = 101\n",
    "print(lst1)\n",
    "print(np_array)\n",
    "print(np_asarray)"
   ]
  },
  {
   "cell_type": "code",
   "execution_count": null,
   "id": "2983ff7b",
   "metadata": {},
   "outputs": [],
   "source": [
    "np_array[0] = 1\n",
    "print(np_array)"
   ]
  },
  {
   "cell_type": "code",
   "execution_count": null,
   "id": "004f79e9",
   "metadata": {},
   "outputs": [],
   "source": [
    "np_asarray[0] = 1001\n",
    "\n",
    "print(lst1)\n",
    "print(np_array)\n",
    "print(np_asarray)\n"
   ]
  },
  {
   "cell_type": "markdown",
   "id": "ee5d3adb",
   "metadata": {},
   "source": [
    "###### np.array from list - change to either list or array does not affect the other\n",
    "###### np.asarray from list - change to either list or array does not affect the other\n",
    "\n",
    "##### np.array from array - change to either array does not affect the other\n",
    "##### np.asarray from array - change to either DOES affect the other"
   ]
  },
  {
   "cell_type": "code",
   "execution_count": null,
   "id": "19625090",
   "metadata": {},
   "outputs": [],
   "source": [
    "lst2 = [1,2,3,4]\n",
    "\n",
    "np_lst = np.array(lst2)\n",
    "\n",
    "print(np_lst)\n",
    "print(type(np_lst))"
   ]
  },
  {
   "cell_type": "code",
   "execution_count": null,
   "id": "632300f6",
   "metadata": {},
   "outputs": [],
   "source": [
    "np_array_lst = np.array(np_lst)\n",
    "np_asarray_lst = np.asarray(np_lst)\n",
    "\n",
    "print(np_array_lst, type(np_array_lst))\n",
    "print(np_asarray_lst, type(np_asarray_lst))"
   ]
  },
  {
   "cell_type": "code",
   "execution_count": null,
   "id": "68b06e14",
   "metadata": {},
   "outputs": [],
   "source": [
    "np_lst[0] = 1001\n",
    "\n",
    "print(np_lst)\n",
    "print(np_array_lst)\n",
    "print(np_asarray_lst)"
   ]
  },
  {
   "cell_type": "code",
   "execution_count": null,
   "id": "8cb04b6b",
   "metadata": {},
   "outputs": [],
   "source": [
    "print(id(np_lst))\n",
    "print(id(np_array_lst))\n",
    "print(id(np_asarray_lst))"
   ]
  },
  {
   "cell_type": "code",
   "execution_count": null,
   "id": "54cf5b7e",
   "metadata": {},
   "outputs": [],
   "source": [
    "np_array_lst[0][0] = 1111\n",
    "\n",
    "print(np_lst)\n",
    "print(np_array_lst)\n",
    "print(np_asarray_lst)"
   ]
  },
  {
   "cell_type": "code",
   "execution_count": null,
   "id": "06de1756",
   "metadata": {},
   "outputs": [],
   "source": [
    "np_asarray_lst[1] = 2222\n",
    "\n",
    "print(np_lst)\n",
    "print(np_array_lst)\n",
    "print(np_asarray_lst)"
   ]
  },
  {
   "cell_type": "code",
   "execution_count": null,
   "id": "d45f0b23",
   "metadata": {},
   "outputs": [],
   "source": [
    "# Before we go on - lets make the axis of Numpy clear. \n",
    "import numpy as np\n",
    "\n",
    "arr = np.arange(1,25)\n",
    "\n",
    "print(arr)"
   ]
  },
  {
   "cell_type": "code",
   "execution_count": null,
   "id": "8d39f9b4",
   "metadata": {},
   "outputs": [],
   "source": [
    "arr1 = arr.reshape(2,3,4)\n",
    "\n",
    "print(arr1)"
   ]
  },
  {
   "cell_type": "code",
   "execution_count": null,
   "id": "10d560a5",
   "metadata": {},
   "outputs": [],
   "source": [
    "arrsum1 = arr1[0]+arr1[1]\n",
    "\n",
    "print(arrsum1)"
   ]
  },
  {
   "cell_type": "code",
   "execution_count": null,
   "id": "2d4dce41",
   "metadata": {},
   "outputs": [],
   "source": [
    "print(np.sum(arr1))"
   ]
  },
  {
   "cell_type": "code",
   "execution_count": null,
   "id": "7682eb4b",
   "metadata": {},
   "outputs": [],
   "source": [
    "print(np.sum(arr1,axis = 2))"
   ]
  },
  {
   "cell_type": "code",
   "execution_count": null,
   "id": "b78eca87",
   "metadata": {},
   "outputs": [],
   "source": [
    "2,3,4   \n",
    "\n",
    "axis 0 = 3,4\n",
    "\n",
    "axis 1 = 2,4\n",
    "\n",
    "axis 2 = 2,3\n"
   ]
  },
  {
   "cell_type": "code",
   "execution_count": null,
   "id": "ce8f56b2",
   "metadata": {},
   "outputs": [],
   "source": []
  },
  {
   "cell_type": "code",
   "execution_count": null,
   "id": "4faedda7",
   "metadata": {},
   "outputs": [],
   "source": []
  },
  {
   "cell_type": "code",
   "execution_count": null,
   "id": "6c5a1688",
   "metadata": {},
   "outputs": [],
   "source": [
    "arrx = np.arange(1,25)\n",
    "arrx\n"
   ]
  },
  {
   "cell_type": "code",
   "execution_count": null,
   "id": "3da001ef",
   "metadata": {},
   "outputs": [],
   "source": [
    "arr2 = arrx.reshape(2,3,4)\n",
    "print(arr2)"
   ]
  },
  {
   "cell_type": "code",
   "execution_count": null,
   "id": "f8770eb6",
   "metadata": {},
   "outputs": [],
   "source": [
    "print(np.sum(arr2))"
   ]
  },
  {
   "cell_type": "code",
   "execution_count": null,
   "id": "ad4681fd",
   "metadata": {},
   "outputs": [],
   "source": [
    "axis0 = np.sum(arr2, axis = 0)\n",
    "\n",
    "print(axis0)\n",
    "print(axis0.shape)"
   ]
  },
  {
   "cell_type": "code",
   "execution_count": null,
   "id": "1256ee22",
   "metadata": {},
   "outputs": [],
   "source": [
    "axis1 = np.sum(arr2, axis = 1)\n",
    "\n",
    "print(axis1)\n",
    "print(axis1.shape)"
   ]
  },
  {
   "cell_type": "code",
   "execution_count": null,
   "id": "3dec420b",
   "metadata": {},
   "outputs": [],
   "source": [
    "print(arr2)"
   ]
  },
  {
   "cell_type": "code",
   "execution_count": null,
   "id": "5a3e51b6",
   "metadata": {},
   "outputs": [],
   "source": [
    "axis2 = np.sum(arr2, axis = 2)\n",
    "\n",
    "\n",
    "print(axis2)\n",
    "print(axis2.shape)"
   ]
  },
  {
   "cell_type": "code",
   "execution_count": null,
   "id": "da5ea06c",
   "metadata": {},
   "outputs": [],
   "source": [
    "arrnew = np.arange(1,121).reshape(2,3,4,5)\n",
    "\n",
    "print(arrnew)"
   ]
  },
  {
   "cell_type": "code",
   "execution_count": null,
   "id": "415b31be",
   "metadata": {},
   "outputs": [],
   "source": [
    "axis3 = np.sum(arrnew, axis = 3)\n",
    "\n",
    "print(axis3)\n",
    "print(axis3.shape)"
   ]
  },
  {
   "cell_type": "code",
   "execution_count": null,
   "id": "f2fba3e7",
   "metadata": {},
   "outputs": [],
   "source": []
  },
  {
   "cell_type": "code",
   "execution_count": null,
   "id": "7bc61a3d",
   "metadata": {},
   "outputs": [],
   "source": []
  },
  {
   "cell_type": "code",
   "execution_count": null,
   "id": "a428abf8",
   "metadata": {},
   "outputs": [],
   "source": []
  },
  {
   "cell_type": "code",
   "execution_count": null,
   "id": "87524d00",
   "metadata": {},
   "outputs": [],
   "source": [
    "print('arr :', arr, '\\n','_'*125)\n",
    "print('arr1 :', arr1, '\\n','_'*125)\n",
    "print('arr2 :', arr2, '\\n','_'*125)"
   ]
  },
  {
   "cell_type": "code",
   "execution_count": null,
   "id": "52936fb1",
   "metadata": {},
   "outputs": [],
   "source": [
    "arr2 = arr.reshape(2,3,4)\n",
    "print('arr2 :', arr2, '\\n','_'*125)\n"
   ]
  },
  {
   "cell_type": "code",
   "execution_count": null,
   "id": "bb3da3e0",
   "metadata": {},
   "outputs": [],
   "source": [
    "arr3 = arr.reshape(2,4,3)\n",
    "print(arr3)"
   ]
  },
  {
   "cell_type": "code",
   "execution_count": null,
   "id": "bbc59c3b",
   "metadata": {},
   "outputs": [],
   "source": [
    "arr4 = arr.reshape(4,3,2)\n",
    "print(arr4)"
   ]
  },
  {
   "cell_type": "code",
   "execution_count": null,
   "id": "f328241f",
   "metadata": {},
   "outputs": [],
   "source": [
    "print(arr)"
   ]
  },
  {
   "cell_type": "code",
   "execution_count": null,
   "id": "c0d0de80",
   "metadata": {},
   "outputs": [],
   "source": [
    "print('Sum Arr', np.sum(arr, axis = 0)) # 1D Array has no axis 1."
   ]
  },
  {
   "cell_type": "code",
   "execution_count": null,
   "id": "7ccae303",
   "metadata": {},
   "outputs": [],
   "source": [
    "arr4 = arr.reshape(2,3,4)"
   ]
  },
  {
   "cell_type": "code",
   "execution_count": null,
   "id": "4ddd18ae",
   "metadata": {},
   "outputs": [],
   "source": [
    "print(arr4)\n",
    "print(arr4.shape)"
   ]
  },
  {
   "cell_type": "code",
   "execution_count": null,
   "id": "0796c8b5",
   "metadata": {},
   "outputs": [],
   "source": [
    "print(np.sum(arr4, axis = 2))\n",
    "print(np.sum(arr4, axis = 2).shape)"
   ]
  },
  {
   "cell_type": "code",
   "execution_count": null,
   "id": "28199e04",
   "metadata": {},
   "outputs": [],
   "source": [
    "# In built function sum will sum on 0 axis by default. \n",
    "# np.sum will sum all axis elements together by default i.e. if no axis specified."
   ]
  },
  {
   "cell_type": "code",
   "execution_count": null,
   "id": "fd8f7f91",
   "metadata": {},
   "outputs": [],
   "source": [
    "print(np.sum(arr4))"
   ]
  },
  {
   "cell_type": "code",
   "execution_count": null,
   "id": "1e35c1df",
   "metadata": {},
   "outputs": [],
   "source": [
    "print('sum Axis 0', np.sum(arr4, axis = 0))"
   ]
  },
  {
   "cell_type": "code",
   "execution_count": null,
   "id": "2d91a3dd",
   "metadata": {},
   "outputs": [],
   "source": [
    "print(arr4)"
   ]
  },
  {
   "cell_type": "code",
   "execution_count": null,
   "id": "9790dfff",
   "metadata": {},
   "outputs": [],
   "source": [
    "ax0 = np.sum(arr4, axis = 0)\n",
    "\n",
    "print(ax0)\n",
    "print(ax0.shape)"
   ]
  },
  {
   "cell_type": "code",
   "execution_count": null,
   "id": "57c76326",
   "metadata": {},
   "outputs": [],
   "source": [
    "print(arr4)\n",
    "print(arr4.shape) "
   ]
  },
  {
   "cell_type": "code",
   "execution_count": null,
   "id": "03de629c",
   "metadata": {},
   "outputs": [],
   "source": [
    "print(arr4)"
   ]
  },
  {
   "cell_type": "code",
   "execution_count": null,
   "id": "b501b49f",
   "metadata": {},
   "outputs": [],
   "source": [
    "arr_col = np.sum(arr4, axis = 1)\n",
    "print(arr_col)\n",
    "print(arr_col.shape)"
   ]
  },
  {
   "cell_type": "code",
   "execution_count": null,
   "id": "7c045c85",
   "metadata": {},
   "outputs": [],
   "source": [
    "print(arr4)"
   ]
  },
  {
   "cell_type": "code",
   "execution_count": null,
   "id": "9bd7c222",
   "metadata": {},
   "outputs": [],
   "source": [
    "print('Sum Axis 2', np.sum(arr4, axis = 2)) # 4,3,2     - 4,3"
   ]
  },
  {
   "cell_type": "code",
   "execution_count": null,
   "id": "887eb86b",
   "metadata": {},
   "outputs": [],
   "source": [
    "4, 3"
   ]
  },
  {
   "cell_type": "code",
   "execution_count": null,
   "id": "8f544698",
   "metadata": {},
   "outputs": [],
   "source": [
    "arr6 = np.arange(1,13).reshape(3,2,2)\n",
    "\n",
    "print(arr6)"
   ]
  },
  {
   "cell_type": "code",
   "execution_count": null,
   "id": "41e03249",
   "metadata": {},
   "outputs": [],
   "source": [
    "arr = np.arange(1,49)\n",
    "arr5 = arr.reshape(3,4,2,2)\n",
    "print('arr5 :', arr5)\n",
    "print('Sum Axis 3', np.sum(arr5, axis = 0))"
   ]
  },
  {
   "cell_type": "code",
   "execution_count": null,
   "id": "aa7eabd0",
   "metadata": {},
   "outputs": [],
   "source": [
    "print(np.sum(arr6,axis = 2))"
   ]
  },
  {
   "cell_type": "code",
   "execution_count": null,
   "id": "ea5ca0b3",
   "metadata": {},
   "outputs": [],
   "source": [
    "print(np.sum(arr6, axis = 1))"
   ]
  },
  {
   "cell_type": "code",
   "execution_count": null,
   "id": "ab8241af",
   "metadata": {},
   "outputs": [],
   "source": [
    "print(np.sum(arr6))"
   ]
  },
  {
   "cell_type": "code",
   "execution_count": null,
   "id": "4f990caf",
   "metadata": {},
   "outputs": [],
   "source": [
    "import numpy as np\n",
    "\n",
    "num_arr = np.arange(1,5.5, 0.2)\n",
    "\n",
    "print(num_arr)\n",
    "print(type(num_arr))"
   ]
  },
  {
   "cell_type": "code",
   "execution_count": null,
   "id": "83565fe9",
   "metadata": {},
   "outputs": [],
   "source": [
    "python_range = list(range(1,20,0.2))\n",
    "print(python_range)"
   ]
  },
  {
   "cell_type": "markdown",
   "id": "d409a089",
   "metadata": {},
   "source": [
    "### Homogeneous n-dimensional vectors:\n",
    "\n",
    "In addition to np.array, there are a number of other functions for creating new arrays. As examples, zeros and ones create arrays of 0s or 1s, respectively, with a given length or shape(using tuples for shape)."
   ]
  },
  {
   "cell_type": "code",
   "execution_count": null,
   "id": "bbe86e47",
   "metadata": {},
   "outputs": [],
   "source": [
    "import numpy as np\n",
    "\n",
    "np_zero = np.zeros(10, dtype = int)\n",
    "\n",
    "print(np_zero)"
   ]
  },
  {
   "cell_type": "code",
   "execution_count": null,
   "id": "d0446888",
   "metadata": {},
   "outputs": [],
   "source": [
    "np_zero6x2 = np.zeros([2,3,4])\n",
    "\n",
    "print(np_zero6x2)"
   ]
  },
  {
   "cell_type": "code",
   "execution_count": null,
   "id": "838b118b",
   "metadata": {},
   "outputs": [],
   "source": [
    "#Note above how the shape is a tuple. "
   ]
  },
  {
   "cell_type": "code",
   "execution_count": null,
   "id": "c8fc0066",
   "metadata": {},
   "outputs": [],
   "source": [
    "np_one = np.ones(10)\n",
    "print(np_one)"
   ]
  },
  {
   "cell_type": "code",
   "execution_count": null,
   "id": "40303369",
   "metadata": {},
   "outputs": [],
   "source": [
    "np_one6x2 = np.ones((2,3,4), dtype = int)\n",
    "\n",
    "print(np_one6x2)"
   ]
  },
  {
   "cell_type": "code",
   "execution_count": null,
   "id": "7fd3bf17",
   "metadata": {},
   "outputs": [],
   "source": [
    "np_full_5 = np.full(10,5)\n",
    "\n",
    "print(np_full_5)"
   ]
  },
  {
   "cell_type": "code",
   "execution_count": null,
   "id": "1365777b",
   "metadata": {},
   "outputs": [],
   "source": [
    "np_full_a = np.full(10, 'a')"
   ]
  },
  {
   "cell_type": "code",
   "execution_count": null,
   "id": "02dce397",
   "metadata": {},
   "outputs": [],
   "source": [
    "print(np_full_a)"
   ]
  },
  {
   "cell_type": "code",
   "execution_count": null,
   "id": "1272cb1b",
   "metadata": {},
   "outputs": [],
   "source": [
    "np_fullshape = np.full((2,3,4), 'Hi')\n",
    "\n",
    "print(np_fullshape)"
   ]
  },
  {
   "cell_type": "code",
   "execution_count": null,
   "id": "83c06d7a",
   "metadata": {},
   "outputs": [],
   "source": [
    "x = np.array([2,3], dtype = object)\n",
    "\n",
    "print(x)"
   ]
  },
  {
   "cell_type": "code",
   "execution_count": null,
   "id": "5a54f160",
   "metadata": {},
   "outputs": [],
   "source": []
  },
  {
   "cell_type": "code",
   "execution_count": null,
   "id": "056d1abc",
   "metadata": {},
   "outputs": [],
   "source": []
  },
  {
   "cell_type": "code",
   "execution_count": null,
   "id": "4fd26427",
   "metadata": {},
   "outputs": [],
   "source": [
    "np_full6x2_5 = np.full((2,3,4), fill_value = np.array([x,x,x,x]))\n",
    "\n",
    "print(np_full6x2_5)"
   ]
  },
  {
   "cell_type": "code",
   "execution_count": null,
   "id": "39340690",
   "metadata": {},
   "outputs": [],
   "source": [
    "# Empty creates an array without initializing its values to any particular value. To create a higher dimensional array\n",
    "# with these methods, use a tuple for shape."
   ]
  },
  {
   "cell_type": "code",
   "execution_count": null,
   "id": "ee6fdfd9",
   "metadata": {},
   "outputs": [],
   "source": [
    "np_nan = np.full(10,None)\n",
    "\n",
    "print(np_nan)\n",
    "\n",
    "print(type(np_nan[0]))"
   ]
  },
  {
   "cell_type": "code",
   "execution_count": 1,
   "id": "61445bb0",
   "metadata": {},
   "outputs": [
    {
     "name": "stdout",
     "output_type": "stream",
     "text": [
      "[ 4.82406556e+228  1.34104863e-110  7.30927250e-114  8.79467787e-313\n",
      "  4.37300893e-308  3.76155539e+199  8.38752460e+242  2.53352367e-309\n",
      "  6.01347002e-154 -2.36070100e-310]\n"
     ]
    }
   ],
   "source": [
    "import numpy as np\n",
    "\n",
    "np_empty = np.empty(10)\n",
    "print(np_empty)"
   ]
  },
  {
   "cell_type": "code",
   "execution_count": 2,
   "id": "8b11e9d8",
   "metadata": {},
   "outputs": [
    {
     "name": "stdout",
     "output_type": "stream",
     "text": [
      "[[8.83286916e-312 3.16202013e-322 0.00000000e+000 0.00000000e+000\n",
      "  6.23058367e-307 5.39746319e-062]\n",
      " [1.72295699e+184 1.77109152e-051 7.79330907e-043 2.70248092e-056\n",
      "  1.64725679e+185 1.43369838e+161]]\n"
     ]
    }
   ],
   "source": [
    "np_empty6x2 = np.empty((2,6))\n",
    "print(np_empty6x2)"
   ]
  },
  {
   "cell_type": "code",
   "execution_count": null,
   "id": "a0b540e8",
   "metadata": {},
   "outputs": [],
   "source": [
    "#Note that the numpy empty does not actually have empty values - it does create the array of desired shape and size but with\n",
    "# arbitary values. It is slightly faster to initialise than np.zeros and np.ones especially for larger arrays. "
   ]
  },
  {
   "cell_type": "markdown",
   "id": "3ad77423",
   "metadata": {},
   "source": [
    "#### Note that for each of np.zeros, np.ones, np.full and np.empty there are np.zeros_like, ones_like, full_like and empty_like which behave just like the difference between np.array and np.asarray i.e. if the matrix is already an array, then does not create a copy but just gives array like funcitonality."
   ]
  },
  {
   "cell_type": "code",
   "execution_count": null,
   "id": "c09b7417",
   "metadata": {},
   "outputs": [],
   "source": [
    "#Matrix Functions"
   ]
  },
  {
   "cell_type": "code",
   "execution_count": 5,
   "id": "68de43b0",
   "metadata": {},
   "outputs": [
    {
     "name": "stdout",
     "output_type": "stream",
     "text": [
      "[[ True False False False False]\n",
      " [False  True False False False]\n",
      " [False False  True False False]\n",
      " [False False False  True False]\n",
      " [False False False False  True]]\n"
     ]
    }
   ],
   "source": [
    "#1. The identity matrix:\n",
    "# In linear algebra, the identity matrix of size n is the n × n square matrix with ones on the main diagonal and zeros\n",
    "# elsewhere.\n",
    "\n",
    "np_id = np.identity(5, dtype = bool)\n",
    "\n",
    "print(np_id)"
   ]
  },
  {
   "cell_type": "code",
   "execution_count": null,
   "id": "7b27fcbd",
   "metadata": {},
   "outputs": [],
   "source": [
    "# Note that by default the 1s and 0s are float type. "
   ]
  },
  {
   "cell_type": "code",
   "execution_count": 6,
   "id": "4d9a49cb",
   "metadata": {},
   "outputs": [
    {
     "name": "stdout",
     "output_type": "stream",
     "text": [
      "[[1 0 0 0 0]\n",
      " [0 1 0 0 0]\n",
      " [0 0 1 0 0]\n",
      " [0 0 0 1 0]\n",
      " [0 0 0 0 1]]\n"
     ]
    }
   ],
   "source": [
    "np_id_int = np.identity(5, dtype = int)\n",
    "\n",
    "print(np_id_int)"
   ]
  },
  {
   "cell_type": "code",
   "execution_count": null,
   "id": "22812110",
   "metadata": {},
   "outputs": [],
   "source": [
    "np_id_bool = np.identity(5,dtype= bool)\n",
    "\n",
    "print(np_id_bool)"
   ]
  },
  {
   "cell_type": "code",
   "execution_count": 7,
   "id": "a3988209",
   "metadata": {},
   "outputs": [
    {
     "name": "stdout",
     "output_type": "stream",
     "text": [
      "[[1 0 0 0 0]\n",
      " [0 1 0 0 0]\n",
      " [0 0 1 0 0]\n",
      " [0 0 0 1 0]\n",
      " [0 0 0 0 1]]\n"
     ]
    }
   ],
   "source": [
    "# 2. Function ‘eye’:\n",
    "# It is used to return a 2-D array with ones on the diagonal and zeros elsewhere. Unlike identity, array does not necessarily\n",
    "# have to be square.\n",
    "\n",
    "np_eye_1 = np.eye(5, dtype = int)\n",
    "\n",
    "print(np_eye_1)\n"
   ]
  },
  {
   "cell_type": "code",
   "execution_count": 15,
   "id": "d43f5a81",
   "metadata": {},
   "outputs": [
    {
     "name": "stdout",
     "output_type": "stream",
     "text": [
      "[[0 0 0 0]\n",
      " [1 0 0 0]\n",
      " [0 1 0 0]\n",
      " [0 0 1 0]\n",
      " [0 0 0 1]]\n"
     ]
    }
   ],
   "source": [
    "np_eye_5x4 = np.eye(5,4, dtype = int, k=-1)\n",
    "\n",
    "print(np_eye_5x4)"
   ]
  },
  {
   "cell_type": "code",
   "execution_count": null,
   "id": "fe25b7ba",
   "metadata": {},
   "outputs": [],
   "source": [
    "# We can also specify the diagnol in the eye function unlike the identity function. 0 is the default, Positive values are\n",
    "# integers above the main diagonal and negative values are integers below the main diagonal. "
   ]
  },
  {
   "cell_type": "code",
   "execution_count": 16,
   "id": "b276c2ac",
   "metadata": {},
   "outputs": [
    {
     "name": "stdout",
     "output_type": "stream",
     "text": [
      "[[0 0 0 0 0 0]\n",
      " [1 0 0 0 0 0]\n",
      " [0 1 0 0 0 0]\n",
      " [0 0 1 0 0 0]\n",
      " [0 0 0 1 0 0]\n",
      " [0 0 0 0 1 0]]\n"
     ]
    }
   ],
   "source": [
    "np_eye_8x6_0 = np.eye(6,6,-1, dtype= int)\n",
    "\n",
    "print(np_eye_8x6_0)"
   ]
  },
  {
   "cell_type": "code",
   "execution_count": null,
   "id": "68af49db",
   "metadata": {},
   "outputs": [],
   "source": [
    "np_eye_8x6_p1 = np.eye(8,6,1)\n",
    "\n",
    "print(np_eye_8x6_p1)"
   ]
  },
  {
   "cell_type": "code",
   "execution_count": null,
   "id": "4d1f8095",
   "metadata": {},
   "outputs": [],
   "source": [
    "np_eye_8x6_p2 = np.eye(6,6,2)\n",
    "\n",
    "print(np_eye_8x6_p2)"
   ]
  },
  {
   "cell_type": "code",
   "execution_count": null,
   "id": "3288fd21",
   "metadata": {},
   "outputs": [],
   "source": [
    "np_eye_8x6_n1 = np.eye(6,6,-1)\n",
    "\n",
    "print(np_eye_8x6_n1)"
   ]
  },
  {
   "cell_type": "code",
   "execution_count": null,
   "id": "12104d67",
   "metadata": {},
   "outputs": [],
   "source": [
    "np_eye_8x6_n2 = np.eye(6,6,-2)\n",
    "\n",
    "print(np_eye_8x6_n2)"
   ]
  },
  {
   "cell_type": "code",
   "execution_count": null,
   "id": "b7e94b5f",
   "metadata": {},
   "outputs": [],
   "source": [
    "# 3. Function diag:\n",
    "# The diag function takes two arguments:\n",
    "# ● An ndarray v.\n",
    "# ● An integer k (default = 0). If ‘v’ is dimension is 1 then the function constructs a matrix where its diagonal number k \n",
    "# is formed by the elements of the vector ‘v’. If a is a matrix (dimension 2) then the function extracts the elements of\n",
    "# the kth diagonal in a one-dimensional vector."
   ]
  },
  {
   "cell_type": "code",
   "execution_count": 17,
   "id": "750694fa",
   "metadata": {},
   "outputs": [
    {
     "name": "stdout",
     "output_type": "stream",
     "text": [
      "[[1 0 0 0 0 0]\n",
      " [0 4 0 0 0 0]\n",
      " [0 0 7 0 0 0]\n",
      " [0 0 0 5 0 0]\n",
      " [0 0 0 0 2 0]\n",
      " [0 0 0 0 0 3]]\n"
     ]
    }
   ],
   "source": [
    "lsta = [1,4,7,5,2,3]\n",
    "\n",
    "np_diagalpha = np.diag(lsta)\n",
    "\n",
    "print(np_diagalpha)"
   ]
  },
  {
   "cell_type": "code",
   "execution_count": null,
   "id": "c26010e7",
   "metadata": {},
   "outputs": [],
   "source": [
    "np_diag = np.diag(list(range(1,10)))\n",
    "\n",
    "print(np_diag)"
   ]
  },
  {
   "cell_type": "code",
   "execution_count": null,
   "id": "73f71a1c",
   "metadata": {},
   "outputs": [],
   "source": []
  },
  {
   "cell_type": "code",
   "execution_count": null,
   "id": "bba7d1fb",
   "metadata": {},
   "outputs": [],
   "source": [
    "np_array_1 = np.ones((3,3))\n",
    "\n",
    "\n",
    "print(np_array_1)"
   ]
  },
  {
   "cell_type": "code",
   "execution_count": 19,
   "id": "f08a8081",
   "metadata": {},
   "outputs": [
    {
     "name": "stdout",
     "output_type": "stream",
     "text": [
      "[[ 0  1  2  3  4]\n",
      " [ 5  6  7  8  9]\n",
      " [10 11 12 13 14]\n",
      " [15 16 17 18 19]\n",
      " [20 21 22 23 24]]\n"
     ]
    }
   ],
   "source": [
    "np_num = np.arange(25).reshape(5,5)\n",
    "\n",
    "print(np_num)"
   ]
  },
  {
   "cell_type": "code",
   "execution_count": 20,
   "id": "d7cef3c2",
   "metadata": {},
   "outputs": [
    {
     "name": "stdout",
     "output_type": "stream",
     "text": [
      "[ 0  6 12 18 24]\n"
     ]
    }
   ],
   "source": [
    "np_diag1 = np.diag(np_num)\n",
    "\n",
    "print(np_diag1)"
   ]
  },
  {
   "cell_type": "code",
   "execution_count": null,
   "id": "0a187048",
   "metadata": {},
   "outputs": [],
   "source": [
    "# Two uses for diagonal function. If supplied a vector(1D array) it will construct a square matrix of shape - len(vector)x\n",
    "# len(vector) with the vector elements along the diagonal. \n",
    "\n",
    "# If supplied a 2D Matrix - will extract the elements along the diagonal."
   ]
  },
  {
   "cell_type": "code",
   "execution_count": null,
   "id": "fa65f7ba",
   "metadata": {},
   "outputs": [],
   "source": [
    "np_array_1 = np.diag([1,3,5])\n",
    "print(np_array_1)"
   ]
  },
  {
   "cell_type": "code",
   "execution_count": null,
   "id": "580da367",
   "metadata": {},
   "outputs": [],
   "source": [
    "np_diag1 = np.diag(np_array_1)\n",
    "\n",
    "print(np_array_1)"
   ]
  },
  {
   "cell_type": "code",
   "execution_count": null,
   "id": "3e71c469",
   "metadata": {},
   "outputs": [],
   "source": [
    "print(np_diag1)"
   ]
  },
  {
   "cell_type": "code",
   "execution_count": null,
   "id": "dab95e02",
   "metadata": {},
   "outputs": [],
   "source": [
    "np_arr_lst = np.array([[1,2,3], [10,20,30], [100,200,300]])\n",
    "\n",
    "print(np_arr_lst)"
   ]
  },
  {
   "cell_type": "code",
   "execution_count": null,
   "id": "a684d180",
   "metadata": {},
   "outputs": [],
   "source": [
    "np_diag_l = np.diag(np_arr_lst)\n",
    "\n",
    "print(np_diag_l)"
   ]
  },
  {
   "cell_type": "code",
   "execution_count": null,
   "id": "2a5f6b7f",
   "metadata": {},
   "outputs": [],
   "source": [
    "np_diag_2 = np.diag(np_arr_lst, -1)\n",
    "\n",
    "print(np_diag_2)"
   ]
  },
  {
   "cell_type": "code",
   "execution_count": null,
   "id": "72d7ce55",
   "metadata": {},
   "outputs": [],
   "source": [
    "import numpy as np\n",
    "\n",
    "np_ones = np.ones((3,3))\n",
    "\n",
    "print(np_ones)"
   ]
  },
  {
   "cell_type": "code",
   "execution_count": null,
   "id": "a69f1cfd",
   "metadata": {},
   "outputs": [],
   "source": [
    "print(dir(np))"
   ]
  },
  {
   "cell_type": "code",
   "execution_count": 21,
   "id": "9eeb586b",
   "metadata": {},
   "outputs": [
    {
     "name": "stdout",
     "output_type": "stream",
     "text": [
      "[[ 0 -1 -2 -3]\n",
      " [ 1  0 -1 -2]\n",
      " [ 2  1  0 -1]]\n"
     ]
    }
   ],
   "source": [
    "#4. Function ‘fromfunction’:\n",
    "# Construct an array by executing a function over each coordinate. Let’s create a vector-based on its indices.\n",
    "\n",
    "#myfunct = lambda x,y : x - y\n",
    "\n",
    "import numpy as np\n",
    "\n",
    "np_ffunc = np.fromfunction(lambda x,y : x-y, (3,4), dtype=int)\n",
    "\n",
    "print(np_ffunc)"
   ]
  },
  {
   "cell_type": "code",
   "execution_count": null,
   "id": "6adf1ad3",
   "metadata": {},
   "outputs": [],
   "source": [
    "00 01 02 03\n",
    "10 11 12 13\n",
    "20 21 22 23"
   ]
  },
  {
   "cell_type": "code",
   "execution_count": null,
   "id": "13b724a6",
   "metadata": {},
   "outputs": [],
   "source": [
    "arr3x3 = np.arange(9).reshape(3,3)\n",
    "\n",
    "print(arr3x3)"
   ]
  },
  {
   "cell_type": "code",
   "execution_count": null,
   "id": "9b63af64",
   "metadata": {},
   "outputs": [],
   "source": [
    "print(arr3x3[1,2])"
   ]
  },
  {
   "cell_type": "code",
   "execution_count": null,
   "id": "b411a306",
   "metadata": {},
   "outputs": [],
   "source": [
    "#Remember here that the co-ordinates x,y for each element are as follows:\n",
    "\n",
    "0,0   0,1   0,2\n",
    "1,0   1,1   1,2\n",
    "2,0   2,1   2,2"
   ]
  },
  {
   "cell_type": "code",
   "execution_count": 23,
   "id": "f51c0672",
   "metadata": {},
   "outputs": [
    {
     "name": "stdout",
     "output_type": "stream",
     "text": [
      "[[[ 0  1  2  3]\n",
      "  [ 4  5  6  7]\n",
      "  [ 8  9 10 11]]\n",
      "\n",
      " [[12 13 14 15]\n",
      "  [16 17 18 19]\n",
      "  [20 21 22 23]]]\n"
     ]
    }
   ],
   "source": [
    "arr2x3x4 = np.arange(24).reshape(2,3,4)\n",
    "\n",
    "print(arr2x3x4)"
   ]
  },
  {
   "cell_type": "code",
   "execution_count": 24,
   "id": "27528392",
   "metadata": {},
   "outputs": [
    {
     "name": "stdout",
     "output_type": "stream",
     "text": [
      "[[[0. 1. 2. 3.]\n",
      "  [0. 1. 2. 3.]\n",
      "  [0. 1. 2. 3.]]\n",
      "\n",
      " [[0. 1. 2. 3.]\n",
      "  [1. 2. 3. 4.]\n",
      "  [2. 3. 4. 5.]]]\n"
     ]
    }
   ],
   "source": [
    "np_ffuncXY2 = np.fromfunction(lambda x,y,z : x*y+z, (2,3,4))\n",
    "\n",
    "print(np_ffuncXY2)"
   ]
  },
  {
   "cell_type": "code",
   "execution_count": null,
   "id": "1d2813d2",
   "metadata": {},
   "outputs": [],
   "source": [
    "# 0,0,0  0,0,1  0,0,2, 0,0,3\n",
    "# 0,1,0  0,1,1, 0,1,2, 0,1,3\n",
    "# 0,2,0, 0,2,1, 0,2,2, 0,2,3\n",
    "\n",
    "# 1,0,0  1,0,1  1,0,2, 1,0,3\n",
    "# 1,1,0  1,1,1, 1,1,2, 1,1,3\n",
    "# 1,2,0, 1,2,1, 1,2,2, 1,2,3\n",
    "\n"
   ]
  },
  {
   "cell_type": "code",
   "execution_count": null,
   "id": "1e5aae94",
   "metadata": {},
   "outputs": [],
   "source": [
    "import numpy as np\n",
    "\n",
    "np_ffunct_gte = np.fromfunction(lambda x,y : x >= y, (3,3))\n",
    "\n",
    "print(np_ffunct_gte)"
   ]
  },
  {
   "cell_type": "code",
   "execution_count": null,
   "id": "af0ad892",
   "metadata": {},
   "outputs": [],
   "source": [
    "lst1 = list(range(100))\n",
    "\n",
    "np_lst1 = np.array(lst1)\n",
    "\n",
    "print(lst1)"
   ]
  },
  {
   "cell_type": "code",
   "execution_count": null,
   "id": "d0772001",
   "metadata": {},
   "outputs": [],
   "source": [
    "np_arangelst = np_lst1.reshape(5,4,5)\n",
    "\n",
    "print(np_arangelst)"
   ]
  },
  {
   "cell_type": "code",
   "execution_count": null,
   "id": "f2464dc3",
   "metadata": {},
   "outputs": [],
   "source": [
    "np1 = np_arangelst.reshape(2,5,10)\n",
    "\n",
    "print(np1)"
   ]
  },
  {
   "cell_type": "code",
   "execution_count": null,
   "id": "c87d82b8",
   "metadata": {},
   "outputs": [],
   "source": [
    "np_arange = np.arange(1,21).reshape(2,2,5)\n",
    "\n",
    "\n",
    "print(np_arange)"
   ]
  },
  {
   "cell_type": "code",
   "execution_count": null,
   "id": "5e26e4e8",
   "metadata": {},
   "outputs": [],
   "source": [
    "lst1 = list(range(1,10))\n",
    "\n",
    "print(lst1)"
   ]
  },
  {
   "cell_type": "code",
   "execution_count": null,
   "id": "1c0292f7",
   "metadata": {},
   "outputs": [],
   "source": [
    "np1 = np.arange(1, 10, 0.5)\n",
    "\n",
    "print(np1)"
   ]
  },
  {
   "cell_type": "code",
   "execution_count": null,
   "id": "7763bbeb",
   "metadata": {},
   "outputs": [],
   "source": [
    "arr1 = np.arange(6).reshape(2,3)\n",
    "\n",
    "print(arr1)"
   ]
  },
  {
   "cell_type": "code",
   "execution_count": null,
   "id": "8fb0bff3",
   "metadata": {},
   "outputs": [],
   "source": [
    "lst1 = list(arr1)\n",
    "\n",
    "print(lst1)"
   ]
  },
  {
   "cell_type": "code",
   "execution_count": 34,
   "id": "449e1181",
   "metadata": {},
   "outputs": [
    {
     "ename": "TypeError",
     "evalue": "'float' object cannot be interpreted as an integer",
     "output_type": "error",
     "traceback": [
      "\u001b[1;31m---------------------------------------------------------------------------\u001b[0m",
      "\u001b[1;31mTypeError\u001b[0m                                 Traceback (most recent call last)",
      "\u001b[1;32m~\\AppData\\Local\\Temp\\ipykernel_7516\\769871938.py\u001b[0m in \u001b[0;36m<module>\u001b[1;34m\u001b[0m\n\u001b[0;32m      1\u001b[0m \u001b[1;31m# arange function\u001b[0m\u001b[1;33m\u001b[0m\u001b[1;33m\u001b[0m\u001b[0m\n\u001b[0;32m      2\u001b[0m \u001b[1;33m\u001b[0m\u001b[0m\n\u001b[1;32m----> 3\u001b[1;33m \u001b[0mlst1\u001b[0m \u001b[1;33m=\u001b[0m \u001b[0mlist\u001b[0m\u001b[1;33m(\u001b[0m\u001b[0mrange\u001b[0m\u001b[1;33m(\u001b[0m\u001b[1;36m1.1\u001b[0m\u001b[1;33m,\u001b[0m\u001b[1;36m7.1\u001b[0m\u001b[1;33m,\u001b[0m\u001b[1;36m0.2\u001b[0m\u001b[1;33m)\u001b[0m\u001b[1;33m)\u001b[0m\u001b[1;33m\u001b[0m\u001b[1;33m\u001b[0m\u001b[0m\n\u001b[0m\u001b[0;32m      4\u001b[0m \u001b[1;33m\u001b[0m\u001b[0m\n\u001b[0;32m      5\u001b[0m \u001b[0mprint\u001b[0m\u001b[1;33m(\u001b[0m\u001b[0mlst1\u001b[0m\u001b[1;33m)\u001b[0m\u001b[1;33m\u001b[0m\u001b[1;33m\u001b[0m\u001b[0m\n",
      "\u001b[1;31mTypeError\u001b[0m: 'float' object cannot be interpreted as an integer"
     ]
    }
   ],
   "source": [
    "# arange function\n",
    "\n",
    "lst1 = list(range(1.1,7.1,0.2))\n",
    "\n",
    "print(lst1)"
   ]
  },
  {
   "cell_type": "code",
   "execution_count": 35,
   "id": "f6fda447",
   "metadata": {},
   "outputs": [
    {
     "name": "stdout",
     "output_type": "stream",
     "text": [
      "[1.1 1.3 1.5 1.7 1.9 2.1 2.3 2.5 2.7 2.9 3.1 3.3 3.5 3.7 3.9 4.1 4.3 4.5\n",
      " 4.7 4.9 5.1 5.3 5.5 5.7 5.9 6.1 6.3 6.5 6.7 6.9]\n"
     ]
    }
   ],
   "source": [
    "nprange = np.arange(1.1,7.1,0.2)\n",
    "\n",
    "print(nprange)"
   ]
  },
  {
   "cell_type": "code",
   "execution_count": 36,
   "id": "9e66377b",
   "metadata": {},
   "outputs": [
    {
     "name": "stdout",
     "output_type": "stream",
     "text": [
      "[[[ 0  1  2  3]\n",
      "  [ 4  5  6  7]\n",
      "  [ 8  9 10 11]]\n",
      "\n",
      " [[12 13 14 15]\n",
      "  [16 17 18 19]\n",
      "  [20 21 22 23]]]\n"
     ]
    }
   ],
   "source": [
    "# Aggregation methods:\n",
    "\n",
    "np_sample = np.arange(24).reshape(2,3,4)\n",
    "\n",
    "print(np_sample)"
   ]
  },
  {
   "cell_type": "code",
   "execution_count": null,
   "id": "6cc8d68a",
   "metadata": {},
   "outputs": [],
   "source": [
    "test = list(range(1,20))"
   ]
  },
  {
   "cell_type": "code",
   "execution_count": null,
   "id": "4465ba35",
   "metadata": {},
   "outputs": [],
   "source": [
    "test1 = np.arange(1,5,0.2)\n",
    "\n",
    "print(test1)"
   ]
  },
  {
   "cell_type": "code",
   "execution_count": 37,
   "id": "6bb31fae",
   "metadata": {},
   "outputs": [
    {
     "name": "stdout",
     "output_type": "stream",
     "text": [
      "[[[ 0  1  2  3]\n",
      "  [ 4  5  6  7]\n",
      "  [ 8  9 10 11]]\n",
      "\n",
      " [[12 13 14 15]\n",
      "  [16 17 18 19]\n",
      "  [20 21 22 23]]]\n"
     ]
    }
   ],
   "source": [
    "# ● ndarray.sum: Return the sum of the array elements over the given axis.\n",
    "print(np_sample)"
   ]
  },
  {
   "cell_type": "code",
   "execution_count": 45,
   "id": "d4b29856",
   "metadata": {},
   "outputs": [
    {
     "name": "stdout",
     "output_type": "stream",
     "text": [
      "[[ 6 22 38]\n",
      " [54 70 86]]\n"
     ]
    }
   ],
   "source": [
    "print(np_sample.sum(2)) # - With no axis specified, sums all the elements of the array."
   ]
  },
  {
   "cell_type": "code",
   "execution_count": 41,
   "id": "c9c55c08",
   "metadata": {},
   "outputs": [
    {
     "name": "stdout",
     "output_type": "stream",
     "text": [
      "[[12 14 16 18]\n",
      " [20 22 24 26]\n",
      " [28 30 32 34]]\n",
      "(3, 4)\n"
     ]
    }
   ],
   "source": [
    "new_array = np_sample[0] + np_sample[1]\n",
    "\n",
    "print(new_array)\n",
    "print(new_array.shape)"
   ]
  },
  {
   "cell_type": "code",
   "execution_count": null,
   "id": "c8cf7d5f",
   "metadata": {},
   "outputs": [],
   "source": [
    "print(np.sum(np_sample, axis = 1))"
   ]
  },
  {
   "cell_type": "code",
   "execution_count": null,
   "id": "bfe7eb0f",
   "metadata": {},
   "outputs": [],
   "source": [
    "print(np.sum(np_sample, axis = 1))"
   ]
  },
  {
   "cell_type": "code",
   "execution_count": null,
   "id": "9174f702",
   "metadata": {},
   "outputs": [],
   "source": [
    "print(np_sample.sum(axis = 1))"
   ]
  },
  {
   "cell_type": "code",
   "execution_count": null,
   "id": "bd1cc0e3",
   "metadata": {},
   "outputs": [],
   "source": [
    "np_s_a0 = np_sample.sum(0) # - with axis specified sums elements of specified axis or you could say collapses specified axis\n",
    "\n",
    "print(np_s_a0)\n",
    "print(np_s_a0.ndim)"
   ]
  },
  {
   "cell_type": "code",
   "execution_count": null,
   "id": "f5ba8db3",
   "metadata": {},
   "outputs": [],
   "source": [
    "print(np_sample)\n",
    "print(np_sample.ndim)"
   ]
  },
  {
   "cell_type": "code",
   "execution_count": null,
   "id": "1291c09d",
   "metadata": {},
   "outputs": [],
   "source": [
    "np_s_a1 = np_sample.sum(1)\n",
    "\n",
    "print(np_s_a1)\n",
    "print(np_s_a1.ndim)"
   ]
  },
  {
   "cell_type": "code",
   "execution_count": null,
   "id": "b6df866b",
   "metadata": {},
   "outputs": [],
   "source": []
  },
  {
   "cell_type": "code",
   "execution_count": null,
   "id": "e79ec11a",
   "metadata": {},
   "outputs": [],
   "source": [
    "np_s_a2 = np_sample.sum(2)\n",
    "\n",
    "print(np_s_a2)\n",
    "print(np_s_a2.ndim)"
   ]
  },
  {
   "cell_type": "code",
   "execution_count": 52,
   "id": "79a6f2c3",
   "metadata": {},
   "outputs": [
    {
     "name": "stdout",
     "output_type": "stream",
     "text": [
      "[[[ 1  2  3  4]\n",
      "  [ 5  6  7  8]\n",
      "  [ 9 10 11 12]]\n",
      "\n",
      " [[13 14 15 16]\n",
      "  [17 18 19 20]\n",
      "  [21 22 23 24]]]\n"
     ]
    }
   ],
   "source": [
    "print(np_sample)"
   ]
  },
  {
   "cell_type": "code",
   "execution_count": 53,
   "id": "39ee5702",
   "metadata": {},
   "outputs": [
    {
     "name": "stdout",
     "output_type": "stream",
     "text": [
      "[[[ 1  2  3  4]\n",
      "  [ 6  8 10 12]\n",
      "  [15 18 21 24]]\n",
      "\n",
      " [[13 14 15 16]\n",
      "  [30 32 34 36]\n",
      "  [51 54 57 60]]]\n"
     ]
    }
   ],
   "source": [
    "npcumsum = np_sample.cumsum(1)\n",
    "\n",
    "print(npcumsum)"
   ]
  },
  {
   "cell_type": "code",
   "execution_count": 50,
   "id": "5683d605",
   "metadata": {},
   "outputs": [
    {
     "name": "stdout",
     "output_type": "stream",
     "text": [
      "[[[ 1  2  3  4]\n",
      "  [ 5  6  7  8]\n",
      "  [ 9 10 11 12]]\n",
      "\n",
      " [[13 14 15 16]\n",
      "  [17 18 19 20]\n",
      "  [21 22 23 24]]]\n"
     ]
    }
   ],
   "source": [
    "# ● ndarray.product: Return the product of the array elements over the given axis.\n",
    "\n",
    "np_sample = np.arange(1,25).reshape(2,3,4)\n",
    "print(np_sample)"
   ]
  },
  {
   "cell_type": "code",
   "execution_count": 48,
   "id": "386ad30c",
   "metadata": {},
   "outputs": [
    {
     "name": "stdout",
     "output_type": "stream",
     "text": [
      "[[1 2 3]\n",
      " [4 5 6]]\n"
     ]
    }
   ],
   "source": [
    "print(np_sample)"
   ]
  },
  {
   "cell_type": "code",
   "execution_count": 51,
   "id": "ad274b51",
   "metadata": {},
   "outputs": [
    {
     "name": "stdout",
     "output_type": "stream",
     "text": [
      "[[ 13  28  45  64]\n",
      " [ 85 108 133 160]\n",
      " [189 220 253 288]]\n"
     ]
    }
   ],
   "source": [
    "np_prod = np_sample.prod(0)\n",
    "\n",
    "print(np_prod)"
   ]
  },
  {
   "cell_type": "code",
   "execution_count": null,
   "id": "e6b762a2",
   "metadata": {},
   "outputs": [],
   "source": [
    "print(np_sample_2)"
   ]
  },
  {
   "cell_type": "code",
   "execution_count": null,
   "id": "4a5508ac",
   "metadata": {},
   "outputs": [],
   "source": [
    "np_prod_0 = np_sample_2.prod(2)\n",
    "\n",
    "print(np_prod_0)"
   ]
  },
  {
   "cell_type": "code",
   "execution_count": null,
   "id": "18c782cd",
   "metadata": {},
   "outputs": [],
   "source": [
    "np_prod_1 = np_sample_2.prod(1)\n",
    "\n",
    "print(np_prod_1)"
   ]
  },
  {
   "cell_type": "code",
   "execution_count": null,
   "id": "25fba36f",
   "metadata": {},
   "outputs": [],
   "source": [
    "np_sample_2 = np.arange(120).reshape(2,3,4,5)\n",
    "\n"
   ]
  },
  {
   "cell_type": "code",
   "execution_count": 54,
   "id": "cb229492",
   "metadata": {},
   "outputs": [
    {
     "name": "stdout",
     "output_type": "stream",
     "text": [
      "[[[1 1 3 2]\n",
      "  [3 2 1 2]\n",
      "  [2 2 3 3]]\n",
      "\n",
      " [[2 1 2 1]\n",
      "  [1 2 3 1]\n",
      "  [1 3 1 3]]]\n"
     ]
    }
   ],
   "source": [
    "np_sample_2 = np.random.randint(1,4,24).reshape(2,3,4)\n",
    "\n",
    "print(np_sample_2)"
   ]
  },
  {
   "cell_type": "code",
   "execution_count": 56,
   "id": "758d0646",
   "metadata": {},
   "outputs": [
    {
     "name": "stdout",
     "output_type": "stream",
     "text": [
      "[[[ 1  1  3  2]\n",
      "  [ 3  2  3  4]\n",
      "  [ 6  4  9 12]]\n",
      "\n",
      " [[ 2  1  2  1]\n",
      "  [ 2  2  6  1]\n",
      "  [ 2  6  6  3]]]\n"
     ]
    }
   ],
   "source": [
    "npcumprod2 = np_sample_2.cumprod(axis = 1)\n",
    "\n",
    "print(npcumprod)"
   ]
  },
  {
   "cell_type": "code",
   "execution_count": 55,
   "id": "3df52823",
   "metadata": {},
   "outputs": [
    {
     "name": "stdout",
     "output_type": "stream",
     "text": [
      "[[[ 1  1  3  2]\n",
      "  [ 3  2  3  4]\n",
      "  [ 6  4  9 12]]\n",
      "\n",
      " [[ 2  1  2  1]\n",
      "  [ 2  2  6  1]\n",
      "  [ 2  6  6  3]]]\n"
     ]
    }
   ],
   "source": [
    "npcumprod = np.cumprod(np_sample_2, axis = 1)\n",
    "\n",
    "print(npcumprod)"
   ]
  },
  {
   "cell_type": "code",
   "execution_count": 58,
   "id": "58f5d2f6",
   "metadata": {},
   "outputs": [
    {
     "name": "stdout",
     "output_type": "stream",
     "text": [
      "[[[[  0   1   2   3   4]\n",
      "   [  5   6   7   8   9]\n",
      "   [ 10  11  12  13  14]\n",
      "   [ 15  16  17  18  19]]\n",
      "\n",
      "  [[ 20  21  22  23  24]\n",
      "   [ 25  26  27  28  29]\n",
      "   [ 30  31  32  33  34]\n",
      "   [ 35  36  37  38  39]]\n",
      "\n",
      "  [[ 40  41  42  43  44]\n",
      "   [ 45  46  47  48  49]\n",
      "   [ 50  51  52  53  54]\n",
      "   [ 55  56  57  58  59]]]\n",
      "\n",
      "\n",
      " [[[ 60  61  62  63  64]\n",
      "   [ 65  66  67  68  69]\n",
      "   [ 70  71  72  73  74]\n",
      "   [ 75  76  77  78  79]]\n",
      "\n",
      "  [[ 80  81  82  83  84]\n",
      "   [ 85  86  87  88  89]\n",
      "   [ 90  91  92  93  94]\n",
      "   [ 95  96  97  98  99]]\n",
      "\n",
      "  [[100 101 102 103 104]\n",
      "   [105 106 107 108 109]\n",
      "   [110 111 112 113 114]\n",
      "   [115 116 117 118 119]]]]\n"
     ]
    }
   ],
   "source": [
    "np_sample = np.arange(120).reshape(2,3,4,5)\n",
    "print(np_sample)"
   ]
  },
  {
   "cell_type": "code",
   "execution_count": 60,
   "id": "84240512",
   "metadata": {},
   "outputs": [
    {
     "name": "stdout",
     "output_type": "stream",
     "text": [
      "[  0   1   2   3   4   5   6   7   8   9  10  11  12  13  14  15  16  17\n",
      "  18  19  20  21  22  23  24  25  26  27  28  29  30  31  32  33  34  35\n",
      "  36  37  38  39  40  41  42  43  44  45  46  47  48  49  50  51  52  53\n",
      "  54  55  56  57  58  59  60  61  62  63  64  65  66  67  68  69  70  71\n",
      "  72  73  74  75  76  77  78  79  80  81  82  83  84  85  86  87  88  89\n",
      "  90  91  92  93  94  95  96  97  98  99 100 101 102 103 104 105 106 107\n",
      " 108 109 110 111 112 113 114 115 116 117 118 119]\n"
     ]
    }
   ],
   "source": [
    "npflat = np_sample.flatten()\n",
    "\n",
    "print(npflat)"
   ]
  },
  {
   "cell_type": "code",
   "execution_count": null,
   "id": "05ef0e42",
   "metadata": {},
   "outputs": [],
   "source": [
    "nprand1 = np.random.randint(1,100,24).reshape(2,3,4)\n",
    "\n",
    "print(nprand1)"
   ]
  },
  {
   "cell_type": "code",
   "execution_count": null,
   "id": "92bb39bd",
   "metadata": {},
   "outputs": [],
   "source": [
    "nprand1flat = nprand1.flatten()\n",
    "\n",
    "print(nprand1flat)"
   ]
  },
  {
   "cell_type": "code",
   "execution_count": 62,
   "id": "6a7a3f36",
   "metadata": {},
   "outputs": [
    {
     "name": "stdout",
     "output_type": "stream",
     "text": [
      "[[[72 46 11 40]\n",
      "  [81  5 41 64]\n",
      "  [84 65 48 28]]\n",
      "\n",
      " [[14 32  7  6]\n",
      "  [57 78 75  7]\n",
      "  [47 53 23 77]]]\n"
     ]
    }
   ],
   "source": [
    "import numpy as np\n",
    "\n",
    "np_rand_sample = np.random.randint(1,100,24).reshape(2,3,4)\n",
    "\n",
    "print(np_rand_sample)"
   ]
  },
  {
   "cell_type": "code",
   "execution_count": null,
   "id": "19bee2b1",
   "metadata": {},
   "outputs": [],
   "source": [
    "# ● ndarray.max: Return the maximum along the given axis.\n",
    "# ● ndarray.argmax: Return indices of the maximum values along the given axis"
   ]
  },
  {
   "cell_type": "code",
   "execution_count": 63,
   "id": "a805b8cd",
   "metadata": {},
   "outputs": [
    {
     "name": "stdout",
     "output_type": "stream",
     "text": [
      "[[[72 46 11 40]\n",
      "  [81  5 41 64]\n",
      "  [84 65 48 28]]\n",
      "\n",
      " [[14 32  7  6]\n",
      "  [57 78 75  7]\n",
      "  [47 53 23 77]]]\n"
     ]
    }
   ],
   "source": [
    "print(np_rand_sample)"
   ]
  },
  {
   "cell_type": "code",
   "execution_count": 64,
   "id": "140a3a5a",
   "metadata": {},
   "outputs": [
    {
     "name": "stdout",
     "output_type": "stream",
     "text": [
      "84\n"
     ]
    }
   ],
   "source": [
    "print(np_rand_sample.max()) #without any axis - maximum of array"
   ]
  },
  {
   "cell_type": "code",
   "execution_count": 65,
   "id": "d6c21c7e",
   "metadata": {},
   "outputs": [
    {
     "name": "stdout",
     "output_type": "stream",
     "text": [
      "[72 46 11 40 81  5 41 64 84 65 48 28 14 32  7  6 57 78 75  7 47 53 23 77]\n"
     ]
    }
   ],
   "source": [
    "print(np_rand_sample.flatten())"
   ]
  },
  {
   "cell_type": "code",
   "execution_count": 66,
   "id": "0b8c9437",
   "metadata": {},
   "outputs": [
    {
     "name": "stdout",
     "output_type": "stream",
     "text": [
      "8\n"
     ]
    }
   ],
   "source": [
    "print(np_rand_sample.argmax()) # Index position of maximum number - without any axis > index value of max number (flattened\n",
    "# array)"
   ]
  },
  {
   "cell_type": "code",
   "execution_count": null,
   "id": "7fc0d139",
   "metadata": {},
   "outputs": [],
   "source": [
    "print(np_rand_sample.flatten())"
   ]
  },
  {
   "cell_type": "code",
   "execution_count": null,
   "id": "d955aa55",
   "metadata": {},
   "outputs": [],
   "source": [
    "x = np_rand_sample.flatten()\n",
    "\n",
    "y = np.arange(len(x))\n",
    "\n",
    "print(x)\n",
    "print(y)"
   ]
  },
  {
   "cell_type": "code",
   "execution_count": null,
   "id": "7a1a2e3a",
   "metadata": {},
   "outputs": [],
   "source": [
    "max_val = x==95\n",
    "\n",
    "print(max_val)"
   ]
  },
  {
   "cell_type": "code",
   "execution_count": null,
   "id": "c4036898",
   "metadata": {},
   "outputs": [],
   "source": [
    "print(max_val.sum())"
   ]
  },
  {
   "cell_type": "code",
   "execution_count": null,
   "id": "be7c5ff1",
   "metadata": {},
   "outputs": [],
   "source": [
    "print(y[max_val])"
   ]
  },
  {
   "cell_type": "code",
   "execution_count": null,
   "id": "a7fc0adc",
   "metadata": {},
   "outputs": [],
   "source": [
    "print(np_rand_sample)"
   ]
  },
  {
   "cell_type": "code",
   "execution_count": null,
   "id": "1fcc6903",
   "metadata": {},
   "outputs": [],
   "source": [
    "np_rand_sample[0][0]<np_rand_sample[0][1]<np_rand_sample[0][2]\n",
    "np_rand_sample[1][0]<np_rand_sample[1][1]<np_rand_sample[1][2]"
   ]
  },
  {
   "cell_type": "code",
   "execution_count": 67,
   "id": "42757637",
   "metadata": {},
   "outputs": [
    {
     "name": "stdout",
     "output_type": "stream",
     "text": [
      "[[[72 46 11 40]\n",
      "  [81  5 41 64]\n",
      "  [84 65 48 28]]\n",
      "\n",
      " [[14 32  7  6]\n",
      "  [57 78 75  7]\n",
      "  [47 53 23 77]]]\n"
     ]
    }
   ],
   "source": [
    "print(np_rand_sample)"
   ]
  },
  {
   "cell_type": "code",
   "execution_count": 71,
   "id": "f91a1e2e",
   "metadata": {},
   "outputs": [
    {
     "name": "stdout",
     "output_type": "stream",
     "text": [
      "[[84 65 48 64]\n",
      " [57 78 75 77]]\n"
     ]
    }
   ],
   "source": [
    "print(np_rand_sample.max(1)) # with axis 0"
   ]
  },
  {
   "cell_type": "code",
   "execution_count": 73,
   "id": "c6357511",
   "metadata": {},
   "outputs": [
    {
     "name": "stdout",
     "output_type": "stream",
     "text": [
      "[[2 2 2 1]\n",
      " [1 1 1 2]]\n"
     ]
    }
   ],
   "source": [
    "print(np_rand_sample.argmax(1))"
   ]
  },
  {
   "cell_type": "code",
   "execution_count": null,
   "id": "065ead04",
   "metadata": {},
   "outputs": [],
   "source": [
    "2,3,4\n",
    "\n",
    "axis 0 - 2 elements of axis 0 it will work on (arithmetic, comparison etc) and axis 0 will collapse. Output 3,4\n",
    "axis 1 - 3 elements of axis 1 it will work on (arithmetic, comparison etc) and axis 1 will collapse. Output 2,4\n",
    "axis 2 - 4 elements of axis 2 it will work on (arithmetic, comparison etc) and axis 2 will collapse. Output 2,3\n"
   ]
  },
  {
   "cell_type": "code",
   "execution_count": null,
   "id": "c8a839ab",
   "metadata": {},
   "outputs": [],
   "source": [
    "print(np_rand_sample.argmax(2)) # with axis 0"
   ]
  },
  {
   "cell_type": "code",
   "execution_count": null,
   "id": "721be16c",
   "metadata": {},
   "outputs": [],
   "source": [
    "print(np_rand_sample) #2 x 3 x 4"
   ]
  },
  {
   "cell_type": "code",
   "execution_count": null,
   "id": "fb9d3335",
   "metadata": {},
   "outputs": [],
   "source": [
    "print(np_rand_sample.max(1))\n",
    "print(np_rand_sample.argmax(1))"
   ]
  },
  {
   "cell_type": "code",
   "execution_count": null,
   "id": "9d905e25",
   "metadata": {},
   "outputs": [],
   "source": [
    "print(np_rand_sample)"
   ]
  },
  {
   "cell_type": "code",
   "execution_count": null,
   "id": "2f386e64",
   "metadata": {},
   "outputs": [],
   "source": [
    "print(np_rand_sample.max(2))\n",
    "print(np_rand_sample.argmax(2))"
   ]
  },
  {
   "cell_type": "code",
   "execution_count": null,
   "id": "2d0c4f14",
   "metadata": {},
   "outputs": [],
   "source": [
    "print(np_rand_sample)"
   ]
  },
  {
   "cell_type": "code",
   "execution_count": null,
   "id": "fe223659",
   "metadata": {},
   "outputs": [],
   "source": [
    "# ● ndarray.min: Return the minimum along the given axis.\n",
    "# ● ndarray.argmin: Return indices of the minimum values along the given axis."
   ]
  },
  {
   "cell_type": "code",
   "execution_count": 74,
   "id": "73efb02f",
   "metadata": {},
   "outputs": [
    {
     "name": "stdout",
     "output_type": "stream",
     "text": [
      "5\n",
      "5\n",
      "[72 46 11 40 81  5 41 64 84 65 48 28 14 32  7  6 57 78 75  7 47 53 23 77]\n"
     ]
    }
   ],
   "source": [
    "print(np_rand_sample.min())\n",
    "print(np_rand_sample.argmin())\n",
    "print(np_rand_sample.flatten())"
   ]
  },
  {
   "cell_type": "code",
   "execution_count": null,
   "id": "13dd540f",
   "metadata": {},
   "outputs": [],
   "source": [
    "print(np_rand_sample)"
   ]
  },
  {
   "cell_type": "code",
   "execution_count": null,
   "id": "c9edc706",
   "metadata": {},
   "outputs": [],
   "source": [
    "print(np_rand_sample.min(0))\n",
    "print(np_rand_sample.argmin(0))"
   ]
  },
  {
   "cell_type": "code",
   "execution_count": null,
   "id": "65ba58ea",
   "metadata": {},
   "outputs": [],
   "source": [
    "print(np_rand_sample)"
   ]
  },
  {
   "cell_type": "code",
   "execution_count": null,
   "id": "b7e9a60a",
   "metadata": {},
   "outputs": [],
   "source": [
    "print(np_rand_sample.min(1))\n",
    "print(np_rand_sample.argmin(1))"
   ]
  },
  {
   "cell_type": "code",
   "execution_count": null,
   "id": "a0c988cf",
   "metadata": {},
   "outputs": [],
   "source": [
    "print(np_rand_sample.min(2))\n",
    "print(np_rand_sample.argmin(2))"
   ]
  },
  {
   "cell_type": "code",
   "execution_count": null,
   "id": "b10d64a5",
   "metadata": {},
   "outputs": [],
   "source": [
    "print(dir(np))"
   ]
  },
  {
   "cell_type": "code",
   "execution_count": 75,
   "id": "a0e218ce",
   "metadata": {},
   "outputs": [
    {
     "name": "stdout",
     "output_type": "stream",
     "text": [
      "[[[72 46 11 40]\n",
      "  [81  5 41 64]\n",
      "  [84 65 48 28]]\n",
      "\n",
      " [[14 32  7  6]\n",
      "  [57 78 75  7]\n",
      "  [47 53 23 77]]]\n"
     ]
    }
   ],
   "source": [
    "# ● ndarray.mean: Returns the average of the array elements along the given axis.\n",
    "\n",
    "print(np_rand_sample)"
   ]
  },
  {
   "cell_type": "code",
   "execution_count": 76,
   "id": "1ab94b98",
   "metadata": {},
   "outputs": [
    {
     "name": "stdout",
     "output_type": "stream",
     "text": [
      "44.208333333333336\n"
     ]
    }
   ],
   "source": [
    "print(np_rand_sample.mean()) #without axis - mean of all elements."
   ]
  },
  {
   "cell_type": "code",
   "execution_count": null,
   "id": "08cb0fe0",
   "metadata": {},
   "outputs": [],
   "source": [
    "print(np_rand_sample)"
   ]
  },
  {
   "cell_type": "code",
   "execution_count": 77,
   "id": "3feb6099",
   "metadata": {},
   "outputs": [
    {
     "name": "stdout",
     "output_type": "stream",
     "text": [
      "[[43.  39.   9.  23. ]\n",
      " [69.  41.5 58.  35.5]\n",
      " [65.5 59.  35.5 52.5]]\n"
     ]
    }
   ],
   "source": [
    "print(np_rand_sample.mean(0))"
   ]
  },
  {
   "cell_type": "code",
   "execution_count": null,
   "id": "bc2951f7",
   "metadata": {},
   "outputs": [],
   "source": [
    "print(np_rand_sample.mean(1))"
   ]
  },
  {
   "cell_type": "code",
   "execution_count": null,
   "id": "33c58ffc",
   "metadata": {},
   "outputs": [],
   "source": [
    "print(np_rand_sample.mean(2))"
   ]
  },
  {
   "cell_type": "code",
   "execution_count": null,
   "id": "dae678dd",
   "metadata": {},
   "outputs": [],
   "source": [
    "# ● ndarray.cumsum: Return the cumulative sum of the elements along the given axis."
   ]
  },
  {
   "cell_type": "code",
   "execution_count": null,
   "id": "dd9786c0",
   "metadata": {},
   "outputs": [],
   "source": [
    "import numpy as np\n",
    "\n",
    "np_rand_sample = np.random.randint(1,10,24).reshape(2,3,4)"
   ]
  },
  {
   "cell_type": "code",
   "execution_count": null,
   "id": "6bac0e8e",
   "metadata": {},
   "outputs": [],
   "source": [
    "print(np_rand_sample)"
   ]
  },
  {
   "cell_type": "code",
   "execution_count": null,
   "id": "fedcd622",
   "metadata": {},
   "outputs": [],
   "source": [
    "# cumsum\n",
    "\n",
    "# 1,7,9,12,8,3\n",
    "\n",
    "# 1,8,17,29,37,40"
   ]
  },
  {
   "cell_type": "code",
   "execution_count": null,
   "id": "e460a107",
   "metadata": {},
   "outputs": [],
   "source": [
    "print(np_rand_sample.cumsum())"
   ]
  },
  {
   "cell_type": "code",
   "execution_count": null,
   "id": "cc58e39e",
   "metadata": {},
   "outputs": [],
   "source": [
    "print(np_rand_sample)"
   ]
  },
  {
   "cell_type": "code",
   "execution_count": null,
   "id": "0251a612",
   "metadata": {},
   "outputs": [],
   "source": [
    "print(np_rand_sample.cumsum(0))"
   ]
  },
  {
   "cell_type": "code",
   "execution_count": null,
   "id": "5db55356",
   "metadata": {},
   "outputs": [],
   "source": [
    "print(np_rand_sample)"
   ]
  },
  {
   "cell_type": "code",
   "execution_count": null,
   "id": "e22abd06",
   "metadata": {},
   "outputs": [],
   "source": [
    "print(np_rand_sample.cumsum(1))"
   ]
  },
  {
   "cell_type": "code",
   "execution_count": null,
   "id": "9afd25f2",
   "metadata": {},
   "outputs": [],
   "source": [
    "print(np_rand_sample)"
   ]
  },
  {
   "cell_type": "code",
   "execution_count": null,
   "id": "6aeb44e3",
   "metadata": {},
   "outputs": [],
   "source": [
    "print(np_rand_sample.cumsum(2))"
   ]
  },
  {
   "cell_type": "code",
   "execution_count": null,
   "id": "c8385559",
   "metadata": {},
   "outputs": [],
   "source": [
    "# ● ndarray.cumprod: Return the cumulative product of the elements along the given axis."
   ]
  },
  {
   "cell_type": "code",
   "execution_count": null,
   "id": "9c6c82bd",
   "metadata": {},
   "outputs": [],
   "source": [
    "np_sample_cd = np.random.randint(1,3, 24).reshape(2,3,4)\n",
    "\n",
    "print(np_sample_cd)"
   ]
  },
  {
   "cell_type": "code",
   "execution_count": null,
   "id": "80415418",
   "metadata": {},
   "outputs": [],
   "source": [
    "print(np_sample_cd.cumprod())"
   ]
  },
  {
   "cell_type": "code",
   "execution_count": null,
   "id": "9460ed8f",
   "metadata": {},
   "outputs": [],
   "source": [
    "print(np_sample_cd)"
   ]
  },
  {
   "cell_type": "code",
   "execution_count": null,
   "id": "15ad1465",
   "metadata": {},
   "outputs": [],
   "source": [
    "print(np_sample.cumprod(0))"
   ]
  },
  {
   "cell_type": "code",
   "execution_count": null,
   "id": "22de87b8",
   "metadata": {},
   "outputs": [],
   "source": [
    "print(np_sample_cd)"
   ]
  },
  {
   "cell_type": "code",
   "execution_count": null,
   "id": "08f08629",
   "metadata": {},
   "outputs": [],
   "source": [
    "print(np_sample_cd.cumprod(1))"
   ]
  },
  {
   "cell_type": "code",
   "execution_count": null,
   "id": "a1c0d821",
   "metadata": {},
   "outputs": [],
   "source": [
    "print(np_sample_cd.cumprod(2))"
   ]
  },
  {
   "cell_type": "code",
   "execution_count": null,
   "id": "372a8e00",
   "metadata": {},
   "outputs": [],
   "source": [
    "# ● ndarray.var: Returns the variance of the array elements, along the given axis.\n",
    "# ● ndarray.std: Returns the standard deviation of the array elements along the given axis."
   ]
  },
  {
   "cell_type": "code",
   "execution_count": null,
   "id": "02cc5d62",
   "metadata": {},
   "outputs": [],
   "source": [
    "# # What is Numpy?\n",
    "\n",
    "# Numerical Python - which allows to work with arrays (homogenous elements in arrays).\n",
    "\n",
    "# #Functions\n",
    "\n",
    "# arange in numpy - floats, int, datetime64 \n",
    "# range in lists - will only take integers.\n",
    "\n",
    "# #Matrix\n",
    "# identity, eye, zeros, ones, diagnol, full, \n",
    "\n",
    "# min, argmin, max, argmax\n",
    "\n",
    "# sum, prod\n"
   ]
  },
  {
   "cell_type": "code",
   "execution_count": 83,
   "id": "3beb2e42",
   "metadata": {},
   "outputs": [],
   "source": [
    "import numpy as np\n",
    "\n",
    "np_rand_sample = np.random.randint(1,100,24).reshape(2,3,4)"
   ]
  },
  {
   "cell_type": "code",
   "execution_count": 84,
   "id": "662f0c26",
   "metadata": {},
   "outputs": [
    {
     "name": "stdout",
     "output_type": "stream",
     "text": [
      "[[[84 39 71 78]\n",
      "  [37 37 80 38]\n",
      "  [78 29 30 20]]\n",
      "\n",
      " [[75 13 92 14]\n",
      "  [68 63 22 24]\n",
      "  [37 15 30 52]]]\n"
     ]
    }
   ],
   "source": [
    "print(np_rand_sample)"
   ]
  },
  {
   "cell_type": "code",
   "execution_count": null,
   "id": "82f5f9ae",
   "metadata": {},
   "outputs": [],
   "source": []
  },
  {
   "cell_type": "code",
   "execution_count": null,
   "id": "04ed330d",
   "metadata": {},
   "outputs": [],
   "source": [
    "print(np_rand_sample.mean(2))"
   ]
  },
  {
   "cell_type": "code",
   "execution_count": null,
   "id": "1bd4f792",
   "metadata": {},
   "outputs": [],
   "source": [
    "print(np.mean(np_rand_sample, axis = 0))"
   ]
  },
  {
   "cell_type": "code",
   "execution_count": null,
   "id": "1afbc866",
   "metadata": {},
   "outputs": [],
   "source": [
    "lst1 = [1,7,9,3,5]\n",
    "\n",
    "np_lst1 = np.array(lst1)\n",
    "\n",
    "print(np_lst1.var())"
   ]
  },
  {
   "cell_type": "code",
   "execution_count": 85,
   "id": "9fc1811a",
   "metadata": {},
   "outputs": [
    {
     "name": "stdout",
     "output_type": "stream",
     "text": [
      "[[[84 39 71 78]\n",
      "  [37 37 80 38]\n",
      "  [78 29 30 20]]\n",
      "\n",
      " [[75 13 92 14]\n",
      "  [68 63 22 24]\n",
      "  [37 15 30 52]]]\n"
     ]
    }
   ],
   "source": [
    "print(np_rand_sample)"
   ]
  },
  {
   "cell_type": "code",
   "execution_count": null,
   "id": "83802fbd",
   "metadata": {},
   "outputs": [],
   "source": [
    "print(np_rand_sample.sum())"
   ]
  },
  {
   "cell_type": "code",
   "execution_count": 86,
   "id": "fa5449a0",
   "metadata": {},
   "outputs": [
    {
     "name": "stdout",
     "output_type": "stream",
     "text": [
      "[[ 301.5     341.5     515.6875]\n",
      " [1261.25    455.1875  177.25  ]]\n"
     ]
    }
   ],
   "source": [
    "print(np_rand_sample.var(2))"
   ]
  },
  {
   "cell_type": "code",
   "execution_count": 90,
   "id": "3e1357ec",
   "metadata": {},
   "outputs": [
    {
     "name": "stdout",
     "output_type": "stream",
     "text": [
      "[[17.36375535 18.47971861 22.70875382]\n",
      " [35.51408171 21.33512362 13.31352696]]\n"
     ]
    }
   ],
   "source": [
    "print(np_rand_sample.std(2))"
   ]
  },
  {
   "cell_type": "code",
   "execution_count": null,
   "id": "5b933101",
   "metadata": {},
   "outputs": [],
   "source": [
    "16 -29 3 10\n",
    "\n",
    "256 + 841 9 100 = 1206/4"
   ]
  },
  {
   "cell_type": "code",
   "execution_count": 91,
   "id": "b6e3ec4e",
   "metadata": {},
   "outputs": [
    {
     "name": "stdout",
     "output_type": "stream",
     "text": [
      "17.363755354185336\n"
     ]
    }
   ],
   "source": [
    "print(301.5**(1/2))"
   ]
  },
  {
   "cell_type": "code",
   "execution_count": null,
   "id": "c00ff3fb",
   "metadata": {},
   "outputs": [],
   "source": [
    "# 1,7,9,3,5\n",
    "\n",
    "# 5 \n",
    "\n",
    "# 1-5 = -4 sq\n",
    "# 7-5 = 2 sq\n",
    "# 9-5 = 4 sq\n",
    "# 3-5 = -2 sq\n",
    "# 5-5 = 0 sq\n",
    "\n",
    "\n",
    "# 40/5\n",
    "\n"
   ]
  },
  {
   "cell_type": "code",
   "execution_count": null,
   "id": "5d3e4418",
   "metadata": {},
   "outputs": [],
   "source": [
    "print('Standard Deviation : ', np_rand_sample.std())"
   ]
  },
  {
   "cell_type": "code",
   "execution_count": null,
   "id": "0cdef588",
   "metadata": {},
   "outputs": [],
   "source": [
    "print(np_rand_sample)"
   ]
  },
  {
   "cell_type": "code",
   "execution_count": null,
   "id": "0e63761a",
   "metadata": {},
   "outputs": [],
   "source": [
    "print('Variance')\n",
    "print(np_rand_sample.var())\n",
    "\n",
    "print('-'*125)\n",
    "\n",
    "print('Standard Deviation')\n",
    "print(np_rand_sample.std())"
   ]
  },
  {
   "cell_type": "code",
   "execution_count": null,
   "id": "f36a3d25",
   "metadata": {},
   "outputs": [],
   "source": [
    "print(np_rand_sample)"
   ]
  },
  {
   "cell_type": "code",
   "execution_count": null,
   "id": "3ed25e25",
   "metadata": {},
   "outputs": [],
   "source": [
    "print('Variance')\n",
    "print(np_rand_sample.var())\n",
    "\n",
    "print('-'*125)\n",
    "\n",
    "print('Standard Deviation')\n",
    "print(np_rand_sample.std())"
   ]
  },
  {
   "cell_type": "code",
   "execution_count": null,
   "id": "7e13f250",
   "metadata": {},
   "outputs": [],
   "source": [
    "print('Variance')\n",
    "print(np_rand_sample.var(2))\n",
    "\n",
    "print('-'*125)\n",
    "\n",
    "print('Standard Deviation')\n",
    "print(np_rand_sample.std(2))"
   ]
  },
  {
   "cell_type": "code",
   "execution_count": null,
   "id": "30d75595",
   "metadata": {},
   "outputs": [],
   "source": [
    "# Boolean indexing - Using comparative operators to get Boolean values array and then using the array to get the relevant\n",
    "# info from another array. \n",
    "\n",
    "# Revised Axes on numpy arrays. \n",
    "\n",
    "# Aggregate functions - \n",
    "\n",
    "# sum\n",
    "# prod\n",
    "# cumsum\n",
    "# cumprod\n",
    "# max, argmax\n",
    "# min, argmin\n",
    "# mean\n",
    "# var\n",
    "# std"
   ]
  },
  {
   "cell_type": "markdown",
   "id": "6da17b02",
   "metadata": {},
   "source": [
    "### Data Types for ndarrays"
   ]
  },
  {
   "cell_type": "code",
   "execution_count": null,
   "id": "be7c1619",
   "metadata": {},
   "outputs": [],
   "source": [
    "# The data type or dtype is a special object containing the information (or metadata, data about data) the ndarray needs to\n",
    "# interpret a chunk of memory as a particular type of data:"
   ]
  },
  {
   "cell_type": "code",
   "execution_count": null,
   "id": "fe32d87a",
   "metadata": {},
   "outputs": [],
   "source": [
    "import numpy as np\n",
    "import sys\n",
    "np_arr1 = np.array([1,2,3], dtype = 'float16')"
   ]
  },
  {
   "cell_type": "code",
   "execution_count": null,
   "id": "d707b55e",
   "metadata": {},
   "outputs": [],
   "source": [
    "print(np_arr1.dtype)\n",
    "print(np_arr1)"
   ]
  },
  {
   "cell_type": "code",
   "execution_count": null,
   "id": "3ea3954e",
   "metadata": {},
   "outputs": [],
   "source": [
    "np_arr2 = np.array([10,-4,3], dtype = 'int8')\n",
    "\n",
    "print(np_arr2.dtype)\n",
    "print(np_arr2)\n",
    "\n",
    "print(sys.getsizeof(np_arr2[0]))\n",
    "print(sys.getsizeof(10))"
   ]
  },
  {
   "cell_type": "code",
   "execution_count": null,
   "id": "e9c62369",
   "metadata": {},
   "outputs": [],
   "source": [
    "# Type              Type code           Description\n",
    "# int8, uint8       i1, u1              Signed and unsigned 8-bit (1byte) integer types\n",
    "# int16, uint16     i2, u2              Signed and unsigned 16-bit integer types\n",
    "# int32, uint32     i4, u4              Signed and unsigned 32-bit integer types\n",
    "# int64, uint64     i8, u8              Signed and unsigned 64-bit integer types\n",
    "# float16           f2                  Half-precision floating point\n",
    "# float32           f4 or f             Standard single-precision floating point; compatible with C float\n",
    "# float64           f8 or d             Standard double-precision floating point; compatible with C double\n",
    "#                                       and Python float object\n",
    "# float128          f16 or g            Extended-precision floating point\n",
    "# complex64,        c8, c16, c32        Complex numbers represented by two 32, 64, or 128 floats respectively\n",
    "# complex128,\n",
    "# complex256\n",
    "# bool              ?                   Boolean type storing True and False values\n",
    "# object            O                   Python object type; a value can be any Python object\n",
    "# string_           S                   Fixed-length ASCII string type (1 byte per character); for example, to create a\n",
    "#                                       string dtype with length 10, use 'S10'\n",
    "# unicode_          U                   Fixed-length Unicode type (number of bytes platform specific); same specification\n",
    "#                                       semantics as string_ (e.g., 'U10')\n",
    "\n",
    "# Note: It’s important to be cautious when using the numpy string_ type, as string data in NumPy is fixed size and may\n",
    "# truncate input without warning"
   ]
  },
  {
   "cell_type": "markdown",
   "id": "34fb2f97",
   "metadata": {},
   "source": [
    "### Arithmetic with NumPy"
   ]
  },
  {
   "cell_type": "code",
   "execution_count": null,
   "id": "c9623faa",
   "metadata": {},
   "outputs": [],
   "source": [
    "# Arrays Arrays are important because they enable you to express batch operations on data without writing any for loops. \n",
    "# NumPy users call this vectorization. Any arithmetic operations between equal-size arrays applies the operation\n",
    "# element-wise:"
   ]
  },
  {
   "cell_type": "code",
   "execution_count": null,
   "id": "58297264",
   "metadata": {},
   "outputs": [],
   "source": []
  },
  {
   "cell_type": "code",
   "execution_count": null,
   "id": "8e1de855",
   "metadata": {},
   "outputs": [],
   "source": [
    "np_arr1 = np.array([[1,2,3], [4,5,6]])\n",
    "\n",
    "np_arr2 = np.array([[2,4,6], [8,10,12]])\n",
    "\n",
    "print(np_arr1)\n",
    "print(np_arr2)"
   ]
  },
  {
   "cell_type": "code",
   "execution_count": null,
   "id": "659256c0",
   "metadata": {},
   "outputs": [],
   "source": [
    "print(np_arr1)"
   ]
  },
  {
   "cell_type": "code",
   "execution_count": null,
   "id": "1f3d1b9b",
   "metadata": {},
   "outputs": [],
   "source": [
    "print(np_arr1*10)"
   ]
  },
  {
   "cell_type": "code",
   "execution_count": null,
   "id": "6eaf2b6c",
   "metadata": {},
   "outputs": [],
   "source": [
    "print(np_arr1 * np_arr2)"
   ]
  },
  {
   "cell_type": "code",
   "execution_count": null,
   "id": "dacd0407",
   "metadata": {},
   "outputs": [],
   "source": [
    "print(np_arr2 - np_arr1)"
   ]
  },
  {
   "cell_type": "code",
   "execution_count": null,
   "id": "dfd61e40",
   "metadata": {},
   "outputs": [],
   "source": [
    "# Arithmetic operations with scalars propagate the scalar argument to each element in the array:"
   ]
  },
  {
   "cell_type": "code",
   "execution_count": null,
   "id": "7fec4eea",
   "metadata": {},
   "outputs": [],
   "source": [
    "import numpy as np\n",
    "\n",
    "np_rand3d = np.arange(1,25).reshape(2,3,4)\n",
    "\n",
    "print(np_rand3d)"
   ]
  },
  {
   "cell_type": "code",
   "execution_count": null,
   "id": "e7559804",
   "metadata": {},
   "outputs": [],
   "source": [
    "print(np_arr1)"
   ]
  },
  {
   "cell_type": "code",
   "execution_count": null,
   "id": "c4f7fd64",
   "metadata": {},
   "outputs": [],
   "source": [
    "print(np_arr1*2)"
   ]
  },
  {
   "cell_type": "code",
   "execution_count": null,
   "id": "d4e86b87",
   "metadata": {},
   "outputs": [],
   "source": [
    "print(np_arr1)\n",
    "print(np_arr2)"
   ]
  },
  {
   "cell_type": "code",
   "execution_count": null,
   "id": "82f1585b",
   "metadata": {},
   "outputs": [],
   "source": [
    "print(np_arr1 * np_arr2)"
   ]
  },
  {
   "cell_type": "code",
   "execution_count": null,
   "id": "c5e07b64",
   "metadata": {},
   "outputs": [],
   "source": [
    "print((np_arr1*np_arr2)**1/2)"
   ]
  },
  {
   "cell_type": "code",
   "execution_count": null,
   "id": "fb54c7b1",
   "metadata": {},
   "outputs": [],
   "source": [
    "# Comparisons between arrays of the same size yield boolean arrays:"
   ]
  },
  {
   "cell_type": "code",
   "execution_count": null,
   "id": "b83e7f0c",
   "metadata": {},
   "outputs": [],
   "source": [
    "np_arr1 = np.random.randint(1,10,24).reshape(2,3,4)\n",
    "np_arr2 = np.random.randint(1,10,24).reshape(2,3,4)"
   ]
  },
  {
   "cell_type": "code",
   "execution_count": null,
   "id": "7438dafa",
   "metadata": {},
   "outputs": [],
   "source": [
    "print(np_arr1)\n",
    "print('-'*125)\n",
    "print(np_arr2)"
   ]
  },
  {
   "cell_type": "code",
   "execution_count": null,
   "id": "76c76c01",
   "metadata": {},
   "outputs": [],
   "source": [
    "print(np_arr1 < np_arr2)"
   ]
  },
  {
   "cell_type": "code",
   "execution_count": null,
   "id": "9a8c64ee",
   "metadata": {},
   "outputs": [],
   "source": [
    "arrtest = np.arange(1,11).reshape(2,5)\n",
    "\n",
    "arrtest\n",
    "\n",
    "print(arrtest.ndim)\n",
    "print(arrtest)"
   ]
  },
  {
   "cell_type": "code",
   "execution_count": null,
   "id": "226b5d59",
   "metadata": {},
   "outputs": [],
   "source": [
    "np_arr1 = np.random.randint(1,100,6).reshape(2,3)\n",
    "\n",
    "np_arr2 = np.random.randint(1,100,6).reshape(2,3)\n",
    "\n",
    "print(np_arr1)\n",
    "print(np_arr2)"
   ]
  },
  {
   "cell_type": "code",
   "execution_count": null,
   "id": "3098548f",
   "metadata": {},
   "outputs": [],
   "source": [
    "np_trufals = np_arr1 > np_arr2\n",
    "\n",
    "print(np_trufals)"
   ]
  },
  {
   "cell_type": "code",
   "execution_count": null,
   "id": "4d6c7bc4",
   "metadata": {},
   "outputs": [],
   "source": [
    "# Uncommon dimensions arrays are 'broadcast'. E.g.\n",
    "\n",
    "import numpy as np\n",
    "\n",
    "# However, broadcasting needs to follow certain rules. \n",
    "\n",
    "# Arrays are broadcastable if:\n",
    "\n",
    "# Arrays have exactly the same shape.\n",
    "\n",
    "np_arr_so = np.arange(1,7).reshape(2,3)\n",
    "np_arr_lo = np.arange(10,70,10).reshape(2,3)\n",
    "\n",
    "print(np_arr_so)\n",
    "print('-'*125)\n",
    "print(np_arr_lo)"
   ]
  },
  {
   "cell_type": "code",
   "execution_count": null,
   "id": "448cb59d",
   "metadata": {},
   "outputs": [],
   "source": [
    "print(np_arr_so+np_arr_lo)"
   ]
  },
  {
   "cell_type": "code",
   "execution_count": null,
   "id": "a369dbe1",
   "metadata": {},
   "outputs": [],
   "source": [
    "# Arrays have the same number of dimensions and the length of each dimension is either a common length or 1.\n",
    "\n",
    "np_arr_so = np.arange(3).reshape(1,3)\n",
    "print(np_arr_so)"
   ]
  },
  {
   "cell_type": "code",
   "execution_count": null,
   "id": "078edab2",
   "metadata": {},
   "outputs": [],
   "source": [
    "print(np_arr_lo)"
   ]
  },
  {
   "cell_type": "code",
   "execution_count": null,
   "id": "db0a1edb",
   "metadata": {},
   "outputs": [],
   "source": [
    "print(np_arr_so+np_arr_lo)"
   ]
  },
  {
   "cell_type": "code",
   "execution_count": null,
   "id": "91e2b134",
   "metadata": {},
   "outputs": [],
   "source": [
    "np_arr_lo = np.arange(0,60,10).reshape(2,3)\n",
    "print(np_arr_lo)"
   ]
  },
  {
   "cell_type": "code",
   "execution_count": null,
   "id": "680673bc",
   "metadata": {},
   "outputs": [],
   "source": [
    "print(np_arr_so*np_arr_lo)"
   ]
  },
  {
   "cell_type": "code",
   "execution_count": null,
   "id": "2b215618",
   "metadata": {},
   "outputs": [],
   "source": [
    "arr_lo = np.arange(1,25).reshape(2,3,4)\n",
    "arr_so = np.arange(1,13).reshape(3,4)\n",
    "\n",
    "print(arr_lo)"
   ]
  },
  {
   "cell_type": "code",
   "execution_count": null,
   "id": "ff201ecd",
   "metadata": {},
   "outputs": [],
   "source": [
    "print(arr_so)"
   ]
  },
  {
   "cell_type": "code",
   "execution_count": null,
   "id": "a6ec450e",
   "metadata": {},
   "outputs": [],
   "source": [
    "print(arr_so + arr_lo)"
   ]
  },
  {
   "cell_type": "code",
   "execution_count": null,
   "id": "1e3d465e",
   "metadata": {},
   "outputs": [],
   "source": [
    "np_arr_lo = np.arange(0,60,10).reshape(3,2)\n",
    "np_arr_so = np.arange(2).reshape(1,2)\n",
    "\n",
    "print(np_arr_lo)\n",
    "print(np_arr_so)"
   ]
  },
  {
   "cell_type": "code",
   "execution_count": null,
   "id": "2e7455fc",
   "metadata": {},
   "outputs": [],
   "source": [
    "print(np_arr_lo*np_arr_so)"
   ]
  },
  {
   "cell_type": "code",
   "execution_count": null,
   "id": "295952e6",
   "metadata": {},
   "outputs": [],
   "source": [
    "np_arr_so = np.arange(6).reshape(3,2)\n",
    "np_arr_so"
   ]
  },
  {
   "cell_type": "code",
   "execution_count": null,
   "id": "2e2b33be",
   "metadata": {},
   "outputs": [],
   "source": [
    "np_arr_lo = np.arange(0,120,10).reshape(2,2,3)\n",
    "np_arr_lo"
   ]
  },
  {
   "cell_type": "code",
   "execution_count": null,
   "id": "f19b7ec2",
   "metadata": {},
   "outputs": [],
   "source": [
    "print(np_arr_so+np_arr_lo)"
   ]
  },
  {
   "cell_type": "code",
   "execution_count": null,
   "id": "dbfdbc89",
   "metadata": {},
   "outputs": [],
   "source": [
    "# Array having too few dimensions can have its shape prepended with a dimension of length 1, so that the above stated\n",
    "# property is true.\n",
    "\n",
    "np_arr_so = np.arange(1,7).reshape(2,3)\n",
    "print(np_arr_so)"
   ]
  },
  {
   "cell_type": "code",
   "execution_count": null,
   "id": "42ee3cf4",
   "metadata": {},
   "outputs": [],
   "source": [
    "np_arr_lo = np.arange(1,37).reshape(2,3,2,3)\n",
    "print(np_arr_lo)"
   ]
  },
  {
   "cell_type": "code",
   "execution_count": null,
   "id": "558195aa",
   "metadata": {},
   "outputs": [],
   "source": [
    "np_arr_so+np_arr_lo"
   ]
  },
  {
   "cell_type": "code",
   "execution_count": null,
   "id": "457d8429",
   "metadata": {},
   "outputs": [],
   "source": [
    "np_arr_so = np_arr_so.reshape(2,3)\n",
    "print(np_arr_so)"
   ]
  },
  {
   "cell_type": "code",
   "execution_count": null,
   "id": "f4d4b171",
   "metadata": {},
   "outputs": [],
   "source": [
    "print(np_arr_so*np_arr_lo)"
   ]
  },
  {
   "cell_type": "code",
   "execution_count": null,
   "id": "2c1ad1da",
   "metadata": {},
   "outputs": [],
   "source": [
    "np_append = np.arange(1,13).reshape(2,2,3)"
   ]
  },
  {
   "cell_type": "code",
   "execution_count": null,
   "id": "18dbfb65",
   "metadata": {},
   "outputs": [],
   "source": [
    "np_append1 = np.arange(1,7).reshape(1,2,3)"
   ]
  },
  {
   "cell_type": "code",
   "execution_count": null,
   "id": "1f03f580",
   "metadata": {},
   "outputs": [],
   "source": [
    "print(np_append)\n",
    "print(np_append1)"
   ]
  },
  {
   "cell_type": "code",
   "execution_count": null,
   "id": "0b588c5b",
   "metadata": {},
   "outputs": [],
   "source": [
    "new_np = np_append + np_append1\n",
    "\n",
    "print(new_np)\n",
    "print(new_np.shape)"
   ]
  },
  {
   "cell_type": "code",
   "execution_count": null,
   "id": "22cbc9d9",
   "metadata": {},
   "outputs": [],
   "source": [
    "#add, sub, mul, div, pow, mod"
   ]
  },
  {
   "cell_type": "code",
   "execution_count": null,
   "id": "2bf287bc",
   "metadata": {},
   "outputs": [],
   "source": [
    "# However, broadcasting follows certain rules:\n",
    "\n",
    "# An input can be used in calculation, if its size in a particular dimension matches the output size or its value is exactly\n",
    "# 1.\n",
    "\n",
    "# If an input has a dimension size of 1, the first data entry in that dimension is used for all calculations along that\n",
    "# dimension.\n",
    "\n",
    "# Array with smaller ndim than the other is prepended with '1' in its shape.\n",
    "\n",
    "# Size in each dimension of the output shape is maximum of the input sizes in that dimension.\n"
   ]
  },
  {
   "cell_type": "code",
   "execution_count": null,
   "id": "9a03aea1",
   "metadata": {},
   "outputs": [],
   "source": [
    "# Arange function in Numpy. Takes 4 arguments\n",
    "\n",
    "#1. Start - Optional - defaults to 0\n",
    "#2. Stop - Mandatory\n",
    "#3. Step - Optional - Defaults to 1 but can take floating point numbers as a step (Unlike built-in range function of Python)\n",
    "#4. dtype - Optional\n",
    "\n",
    "\n",
    "np_arr_dec = np.arange(1.1,10.2,0.2)\n",
    "\n",
    "print(np_arr_dec)"
   ]
  },
  {
   "cell_type": "code",
   "execution_count": null,
   "id": "85eacd82",
   "metadata": {},
   "outputs": [],
   "source": [
    "# arange allows to get range of data - it allows integers, floats and datetime64. "
   ]
  },
  {
   "cell_type": "code",
   "execution_count": null,
   "id": "74a17fd4",
   "metadata": {},
   "outputs": [],
   "source": [
    "lst1 = list(range(1.1,10.2,0.2))\n",
    "\n",
    "print(lst1)"
   ]
  },
  {
   "cell_type": "code",
   "execution_count": null,
   "id": "4ff067ec",
   "metadata": {},
   "outputs": [],
   "source": [
    "# arange can take int, float or datetime64 as input parameters"
   ]
  },
  {
   "cell_type": "code",
   "execution_count": null,
   "id": "4e4cb0a8",
   "metadata": {},
   "outputs": [],
   "source": [
    "range_1 = list(range(1,3,0.1))\n",
    "print(list(range_1))"
   ]
  },
  {
   "cell_type": "code",
   "execution_count": null,
   "id": "594d6019",
   "metadata": {},
   "outputs": [],
   "source": [
    "range_2 = list(range(1,3,1))\n",
    "print(list(range_2))"
   ]
  },
  {
   "cell_type": "code",
   "execution_count": null,
   "id": "d4ffe084",
   "metadata": {},
   "outputs": [],
   "source": [
    "# linspace function - returns evenly spaced equidistant number numbers between a specified range."
   ]
  },
  {
   "cell_type": "code",
   "execution_count": null,
   "id": "1f4587ca",
   "metadata": {},
   "outputs": [],
   "source": [
    "range(1,10)\n",
    "\n",
    "1,2,3,4,5,6,7,8,9 = 9 points with a distance of 1"
   ]
  },
  {
   "cell_type": "code",
   "execution_count": null,
   "id": "fd48b68f",
   "metadata": {},
   "outputs": [],
   "source": [
    "# linspace \n",
    "linspace(1,10)\n",
    "\n",
    "1,1.9,2.8,3.7,4.6,5.5,6.4,7.3,8.2,9.1 = distance? but need 10 points between start and stop"
   ]
  },
  {
   "cell_type": "code",
   "execution_count": null,
   "id": "de280166",
   "metadata": {},
   "outputs": [],
   "source": [
    "# It takes 7 arguments.\n",
    "\n",
    "#1. Start - Mandatory\n",
    "#2. Stop - Mandatory\n",
    "#3. Num - Optional - Number of samples required between the range/interval. By default set to 50\n",
    "#4. endpoint - Optional - By default set to true and includes the endpoint(i.e. stop value) - if set to False, returns\n",
    "# equidistant numbers not including the endpoint/stop value.\n",
    "#5 retstep - Optional - Default is False. If set to true, returns the samples and the step value (distance between samples)\n",
    "#6 dtype - Optional - By default datatype will be inferred. However, for int datatype, float will be considered even if \n",
    "# start and stop are int.\n",
    "#7 axis - Optional - By default 0 axis. Only useful in case start and stop are array-like."
   ]
  },
  {
   "cell_type": "code",
   "execution_count": null,
   "id": "3f3f7490",
   "metadata": {},
   "outputs": [],
   "source": []
  },
  {
   "cell_type": "code",
   "execution_count": 98,
   "id": "880b6fde",
   "metadata": {},
   "outputs": [
    {
     "name": "stdout",
     "output_type": "stream",
     "text": [
      "(array([ 1.  ,  1.99,  2.98,  3.97,  4.96,  5.95,  6.94,  7.93,  8.92,\n",
      "        9.91, 10.9 , 11.89, 12.88, 13.87, 14.86, 15.85, 16.84, 17.83,\n",
      "       18.82, 19.81, 20.8 , 21.79, 22.78, 23.77, 24.76, 25.75, 26.74,\n",
      "       27.73, 28.72, 29.71, 30.7 , 31.69, 32.68, 33.67, 34.66, 35.65,\n",
      "       36.64, 37.63, 38.62, 39.61, 40.6 , 41.59, 42.58, 43.57, 44.56,\n",
      "       45.55, 46.54, 47.53, 48.52, 49.51, 50.5 , 51.49, 52.48, 53.47,\n",
      "       54.46, 55.45, 56.44, 57.43, 58.42, 59.41, 60.4 , 61.39, 62.38,\n",
      "       63.37, 64.36, 65.35, 66.34, 67.33, 68.32, 69.31, 70.3 , 71.29,\n",
      "       72.28, 73.27, 74.26, 75.25, 76.24, 77.23, 78.22, 79.21, 80.2 ,\n",
      "       81.19, 82.18, 83.17, 84.16, 85.15, 86.14, 87.13, 88.12, 89.11,\n",
      "       90.1 , 91.09, 92.08, 93.07, 94.06, 95.05, 96.04, 97.03, 98.02,\n",
      "       99.01]), 0.99)\n"
     ]
    }
   ],
   "source": [
    "arr_lin = np.linspace(1,100, num=100, retstep = True, endpoint=False)\n",
    "\n",
    "print(arr_lin)"
   ]
  },
  {
   "cell_type": "code",
   "execution_count": null,
   "id": "feb3368d",
   "metadata": {},
   "outputs": [],
   "source": [
    "1,100 = 100 points\n",
    "\n",
    "100-1 / 100 = \n",
    "\n",
    "endpoint = True\n",
    "\n",
    "100-1 / 101"
   ]
  },
  {
   "cell_type": "code",
   "execution_count": null,
   "id": "f0d4b5e4",
   "metadata": {},
   "outputs": [],
   "source": [
    "25 equidistant\n",
    "\n",
    "1 - 49 = 26 equidistant points. \n",
    "1 - 47.08 = 25 equidistant points"
   ]
  },
  {
   "cell_type": "code",
   "execution_count": null,
   "id": "13e42cf7",
   "metadata": {},
   "outputs": [],
   "source": [
    "# By default creates 50 equidistant samples / points"
   ]
  },
  {
   "cell_type": "code",
   "execution_count": null,
   "id": "3223e026",
   "metadata": {},
   "outputs": [],
   "source": [
    "arr_lin10 = np.linspace(0,20,5) # with num of samples specified\n",
    "\n",
    "print(arr_lin10)"
   ]
  },
  {
   "cell_type": "code",
   "execution_count": null,
   "id": "19cea00c",
   "metadata": {},
   "outputs": [],
   "source": [
    "arr_lin10_noEP = np.linspace(1,20,5, endpoint=False) #No Endpoint included"
   ]
  },
  {
   "cell_type": "code",
   "execution_count": null,
   "id": "ba940a83",
   "metadata": {},
   "outputs": [],
   "source": [
    "print(arr_lin10_noEP)"
   ]
  },
  {
   "cell_type": "code",
   "execution_count": null,
   "id": "f70f20e8",
   "metadata": {},
   "outputs": [],
   "source": [
    "arr_lin10_noEP_wRS = np.linspace(1,20,5, endpoint=False, retstep=True) #With array as 1st element and step value as 2nd\n",
    "                                                                       # element of tuple.\n",
    "print(arr_lin10_noEP_wRS)\n",
    "print(type(arr_lin10_noEP_wRS))"
   ]
  },
  {
   "cell_type": "code",
   "execution_count": null,
   "id": "b4c7ab68",
   "metadata": {},
   "outputs": [],
   "source": [
    "arr_lin10_int = np.linspace(1,20,5, dtype = int) # With dtype specified.\n",
    "print(arr_lin10_int)"
   ]
  },
  {
   "cell_type": "code",
   "execution_count": null,
   "id": "b42a418d",
   "metadata": {},
   "outputs": [],
   "source": [
    "arr_like_lin10 = np.linspace((1,2), (3,4), 10, axis = 1) # Array like start and stop values.\n",
    "print(arr_like_lin10)\n",
    "\n",
    "#Note here that default axis is 0. The equidistant numbers are being added along 0 axis"
   ]
  },
  {
   "cell_type": "code",
   "execution_count": 101,
   "id": "4e7192ce",
   "metadata": {},
   "outputs": [
    {
     "name": "stdout",
     "output_type": "stream",
     "text": [
      "[[ 1.          1.22222222  1.44444444  1.66666667  1.88888889  2.11111111\n",
      "   2.33333333  2.55555556  2.77777778  3.        ]\n",
      " [ 2.          2.22222222  2.44444444  2.66666667  2.88888889  3.11111111\n",
      "   3.33333333  3.55555556  3.77777778  4.        ]\n",
      " [ 5.          5.55555556  6.11111111  6.66666667  7.22222222  7.77777778\n",
      "   8.33333333  8.88888889  9.44444444 10.        ]]\n"
     ]
    }
   ],
   "source": [
    "arr_like_lin10_ax1 = np.linspace((1,2,5), (3,4,10), 10, axis = 1) # with equidistant samples added along axis 1\n",
    "\n",
    "print(arr_like_lin10_ax1)"
   ]
  },
  {
   "cell_type": "markdown",
   "id": "56af78a2",
   "metadata": {},
   "source": [
    "### Random Module in Numpy"
   ]
  },
  {
   "cell_type": "code",
   "execution_count": null,
   "id": "78d6a8ba",
   "metadata": {},
   "outputs": [],
   "source": [
    "#Randint to generate a random integer\n",
    "#np.random.seed(101)"
   ]
  },
  {
   "cell_type": "code",
   "execution_count": null,
   "id": "e9f7bc06",
   "metadata": {},
   "outputs": [],
   "source": [
    "# test_samples using random\n",
    "\n",
    "# model\n",
    "\n",
    "# tried the model with samples from test_samples\n",
    "\n",
    "# tweaked the model\n",
    "\n",
    "# test_samples (new)\n",
    "\n",
    "# tried the model and accuracy is even worse than before.\n",
    "\n",
    "\n",
    "model = randomvalues --------> How good your model is. ---------> Your model improves\n",
    "\n",
    "the metrics are saying that model deteriorated."
   ]
  },
  {
   "cell_type": "code",
   "execution_count": 27,
   "id": "a5ef5b70",
   "metadata": {},
   "outputs": [
    {
     "name": "stdout",
     "output_type": "stream",
     "text": [
      "[7 4 8 5 7]\n"
     ]
    }
   ],
   "source": [
    "np.random.seed(42)  \n",
    "\n",
    "import numpy as np\n",
    "\n",
    "result = np.random.randint(1,10, 5)\n",
    "print(result)\n",
    "# Returns random numbers between specified range and number of values specified in third parameter"
   ]
  },
  {
   "cell_type": "code",
   "execution_count": 17,
   "id": "25465f54",
   "metadata": {},
   "outputs": [
    {
     "ename": "SyntaxError",
     "evalue": "cannot assign to operator (3189867808.py, line 1)",
     "output_type": "error",
     "traceback": [
      "\u001b[1;36m  File \u001b[1;32m\"C:\\Users\\Lenovo\\AppData\\Local\\Temp\\ipykernel_7284\\3189867808.py\"\u001b[1;36m, line \u001b[1;32m1\u001b[0m\n\u001b[1;33m    1 * (10*20/1.75+ log(32) / 100**3 + 20**(1/3)) = result100\u001b[0m\n\u001b[1;37m    ^\u001b[0m\n\u001b[1;31mSyntaxError\u001b[0m\u001b[1;31m:\u001b[0m cannot assign to operator\n"
     ]
    }
   ],
   "source": [
    "# 1 * (10*20/1.75+ log(32) / 100**3 + 20**(1/3)) = result100\n",
    "# 2 * () = result2\n",
    "# 3 * () = result3"
   ]
  },
  {
   "cell_type": "code",
   "execution_count": 28,
   "id": "b1b2b7d8",
   "metadata": {},
   "outputs": [
    {
     "name": "stdout",
     "output_type": "stream",
     "text": [
      "[[[83 87 75 75]\n",
      "  [88 24  3 22]\n",
      "  [53  2 88 30]]\n",
      "\n",
      " [[38  2 64 60]\n",
      "  [21 33 76 58]\n",
      "  [22 89 49 91]]]\n"
     ]
    }
   ],
   "source": [
    "print(np.random.randint(1,100, (2,3,4))) # Prints 1 number between 0 and 9 - Start not specified defaults to 0, number not specified \n",
    "                             # defaults to 1."
   ]
  },
  {
   "cell_type": "code",
   "execution_count": null,
   "id": "d3f5d052",
   "metadata": {},
   "outputs": [],
   "source": [
    "def randomint(start = 0, end = mandatory, 1, 2, 3)"
   ]
  },
  {
   "cell_type": "code",
   "execution_count": 32,
   "id": "d5634ec5",
   "metadata": {},
   "outputs": [
    {
     "name": "stdout",
     "output_type": "stream",
     "text": [
      "[[[0.35846573 0.11586906 0.86310343 0.62329813]\n",
      "  [0.33089802 0.06355835 0.31098232 0.32518332]\n",
      "  [0.72960618 0.63755747 0.88721274 0.47221493]]\n",
      "\n",
      " [[0.11959425 0.71324479 0.76078505 0.5612772 ]\n",
      "  [0.77096718 0.4937956  0.52273283 0.42754102]\n",
      "  [0.02541913 0.10789143 0.03142919 0.63641041]]]\n"
     ]
    }
   ],
   "source": [
    "#rand - For random float values between 0 and 1 only.\n",
    "\n",
    "result = np.random.rand(2,3,4)\n",
    "\n",
    "print(result)"
   ]
  },
  {
   "cell_type": "code",
   "execution_count": 31,
   "id": "dc1b634b",
   "metadata": {},
   "outputs": [
    {
     "name": "stdout",
     "output_type": "stream",
     "text": [
      "[[[ 6.70172982  9.52030584  2.26988477  3.2050509 ]\n",
      "  [ 1.89347741  4.33037388  4.88149242  3.86073658]\n",
      "  [ 8.71001633  4.60375394  3.94413023  6.22145592]]\n",
      "\n",
      " [[ 2.72604076  8.47911373  2.1485906  10.08591635]\n",
      "  [ 8.21852949  3.22882643  1.54804242  8.59451443]\n",
      "  [ 7.64965889  7.84236236  8.21005202  2.14418847]]]\n"
     ]
    }
   ],
   "source": [
    "result = np.random.uniform(1.5,10.2,(2,3,4))\n",
    "\n",
    "\n",
    "print(result)"
   ]
  },
  {
   "cell_type": "code",
   "execution_count": null,
   "id": "864cc32a",
   "metadata": {},
   "outputs": [],
   "source": [
    "print(np.random.rand(3,2,4)) # Can take shape as parameter. Here will return 3 arrays on axis 0, 2 on 1 and 4 on 2"
   ]
  },
  {
   "cell_type": "code",
   "execution_count": 34,
   "id": "9f8e2fe4",
   "metadata": {},
   "outputs": [
    {
     "name": "stdout",
     "output_type": "stream",
     "text": [
      "[-0.5297602   0.51326743  0.09707755  0.96864499 -0.70205309 -0.32766215\n",
      " -0.39210815 -1.46351495  0.29612028  0.26105527  0.00511346 -0.23458713\n",
      " -1.41537074 -0.42064532 -0.34271452 -0.80227727 -0.16128571  0.40405086\n",
      "  1.8861859   0.17457781  0.25755039 -0.07444592 -1.91877122 -0.02651388\n",
      "  0.06023021  2.46324211 -0.19236096  0.30154734 -0.03471177 -1.16867804\n",
      "  1.14282281  0.75193303  0.79103195 -0.90938745  1.40279431 -1.40185106\n",
      "  0.58685709  2.19045563 -0.99053633 -0.56629773  0.09965137 -0.50347565\n",
      " -1.55066343  0.06856297 -1.06230371  0.47359243 -0.91942423  1.54993441\n",
      " -0.78325329 -0.32206152]\n"
     ]
    }
   ],
   "source": [
    "#randn function - returns float values in given shape array from a standard normal distribution i.e. \n",
    "\n",
    "# Roughly - 68% of the values will be between -1 to 1\n",
    "# Roughly - 95% of the values will be between -2 to 2, -2 to -1 and 1 to 2 - 27%\n",
    "# Roughly - 99.2%  of the values will be between -3 to 3, -3 to -2 and 2 to 3 - 4.2%\n",
    "# Roughly - 99.7% of the values will be between -4 to 4\n",
    "\n",
    "# If no shape provided will return a single float value.\n",
    "import numpy as np\n",
    "\n",
    "result = np.random.randn(50) \n",
    "\n",
    "print(result)"
   ]
  },
  {
   "cell_type": "code",
   "execution_count": 36,
   "id": "655a39e3",
   "metadata": {},
   "outputs": [
    {
     "name": "stdout",
     "output_type": "stream",
     "text": [
      "[ 92.05359694 107.6990115  101.45616324 114.52967486  89.46920359\n",
      "  95.0850678   94.1183777   78.04727578 104.44180416 103.91582908\n",
      " 100.07670185  96.481193    78.76943887  93.69032016  94.85928225\n",
      "  87.96584096  97.58071433 106.06076285 128.29278852 102.61866719\n",
      " 103.86325586  98.88331126  71.21843177  99.60229187 100.90345315\n",
      " 136.94863169  97.11458553 104.52321014  99.47932345  82.46982944\n",
      " 117.14234222 111.27899549 111.86547921  86.35918818 121.04191466\n",
      "  78.97223406 108.80285641 132.85683439  85.14195512  91.50553406\n",
      " 101.49477048  92.44786519  76.74004853 101.02844462  84.06544429\n",
      " 107.10388646  86.20863649 123.24901608  88.25120061  95.16907726]\n"
     ]
    }
   ],
   "source": [
    "print((result*15)+100)"
   ]
  },
  {
   "cell_type": "code",
   "execution_count": null,
   "id": "022b3437",
   "metadata": {},
   "outputs": [],
   "source": [
    "#Uniform\n",
    "import numpy as np\n",
    "\n",
    "float_val = np.random.uniform(1,5, (2,3,4))\n",
    "\n",
    "print(float_val)"
   ]
  },
  {
   "cell_type": "code",
   "execution_count": null,
   "id": "c4ea8d42",
   "metadata": {},
   "outputs": [],
   "source": [
    "import numpy as np"
   ]
  },
  {
   "cell_type": "code",
   "execution_count": 39,
   "id": "6423550e",
   "metadata": {},
   "outputs": [
    {
     "data": {
      "text/plain": [
       "array([17, 18, 19, 20, 21, 22, 23, 24, 25, 26, 27, 28, 29, 30, 31, 32, 33,\n",
       "       34, 35, 36, 37, 38])"
      ]
     },
     "execution_count": 39,
     "metadata": {},
     "output_type": "execute_result"
    }
   ],
   "source": [
    "arr1 = np.arange(17,39)\n",
    "arr1"
   ]
  },
  {
   "cell_type": "code",
   "execution_count": 50,
   "id": "5235f609",
   "metadata": {},
   "outputs": [
    {
     "name": "stdout",
     "output_type": "stream",
     "text": [
      "[22 35 36 23 26 33 27 24 21 28]\n"
     ]
    }
   ],
   "source": [
    "#choice - Choose a random number from an array or integer. \n",
    "\n",
    "# Takes only one 1D array or an integer as input from which to chose. \n",
    "\n",
    "choice = np.random.choice(arr1, 10, replace = False)\n",
    "\n",
    "print(choice)"
   ]
  },
  {
   "cell_type": "code",
   "execution_count": 51,
   "id": "1270ad16",
   "metadata": {},
   "outputs": [
    {
     "name": "stdout",
     "output_type": "stream",
     "text": [
      "['Yashoda' 'Sachin' 'Rohan']\n"
     ]
    }
   ],
   "source": [
    "names = ['Yashoda', 'Rohan', 'Rakesh', 'Raghu', 'Mala', 'Jatin', 'Mrinasha', 'Sachin']\n",
    "\n",
    "chosename = np.random.choice(names, 3, replace = False)\n",
    "print(chosename)"
   ]
  },
  {
   "cell_type": "code",
   "execution_count": 54,
   "id": "947a5d26",
   "metadata": {},
   "outputs": [
    {
     "name": "stdout",
     "output_type": "stream",
     "text": [
      "['Yashoda' 'Yashoda' 'Rakesh' 'Yashoda' 'Yashoda' 'Yashoda' 'Yashoda'\n",
      " 'Raghu' 'Rakesh' 'Rohan' 'Yashoda' 'Rohan' 'Rohan' 'Yashoda' 'Rohan'\n",
      " 'Yashoda' 'Rakesh' 'Rakesh' 'Yashoda' 'Yashoda' 'Rakesh' 'Rohan' 'Raghu'\n",
      " 'Rakesh' 'Yashoda' 'Yashoda' 'Rakesh' 'Yashoda' 'Rohan' 'Raghu' 'Rohan'\n",
      " 'Yashoda' 'Rakesh' 'Rohan' 'Rohan' 'Raghu' 'Yashoda' 'Jatin' 'Raghu'\n",
      " 'Yashoda' 'Yashoda' 'Yashoda' 'Yashoda' 'Yashoda' 'Rakesh' 'Yashoda'\n",
      " 'Yashoda' 'Rakesh' 'Yashoda' 'Rakesh' 'Yashoda' 'Yashoda' 'Rakesh'\n",
      " 'Rakesh' 'Raghu' 'Rakesh' 'Rakesh' 'Yashoda' 'Yashoda' 'Rakesh' 'Rakesh'\n",
      " 'Mrinasha' 'Rohan' 'Yashoda' 'Rakesh' 'Yashoda' 'Raghu' 'Raghu' 'Rohan'\n",
      " 'Rakesh' 'Rakesh' 'Yashoda' 'Raghu' 'Rohan' 'Rakesh' 'Yashoda' 'Raghu'\n",
      " 'Yashoda' 'Yashoda' 'Raghu' 'Yashoda' 'Yashoda' 'Mala' 'Mala' 'Rohan'\n",
      " 'Rakesh' 'Rohan' 'Yashoda' 'Yashoda' 'Rakesh' 'Rakesh' 'Rakesh' 'Rakesh'\n",
      " 'Yashoda' 'Rohan' 'Yashoda' 'Rohan' 'Rohan' 'Raghu' 'Yashoda']\n"
     ]
    }
   ],
   "source": [
    "chosename = np.random.choice(names, 100, p=[0.40,0.2,0.25,0.10,0.01,0.02,0.02,0.00])\n",
    "\n",
    "print(chosename)\n",
    "\n",
    "# Probabilities HAVE to be given for each element in the array. You CAN set the probability to 0 for a particular element\n",
    "# but value MUST be supplied. \n",
    "# Total Probabilities MUST equal 1. \n",
    "\n",
    "# 1 = 0.4\n",
    "# 2 = 0.3\n",
    "# 3 = 0.3"
   ]
  },
  {
   "cell_type": "code",
   "execution_count": null,
   "id": "83703f0a",
   "metadata": {},
   "outputs": [],
   "source": [
    "choice = np.random.choice(10) # If an integer x is specified - treats it as a choice in np.arange(x) i.e from 0 to x-1 e.g.\n",
    "                              # here - it will choose between 0 to 9.\n",
    "    \n",
    "print(choice)"
   ]
  },
  {
   "cell_type": "code",
   "execution_count": null,
   "id": "4c3ec179",
   "metadata": {},
   "outputs": [],
   "source": [
    "choice = np.random.choice(arr1, 5) # Size of choice specified.\n",
    "print(choice)"
   ]
  },
  {
   "cell_type": "code",
   "execution_count": null,
   "id": "aa1b3eeb",
   "metadata": {},
   "outputs": [],
   "source": [
    "# By default - replace parameter is True i.e. if a number has been chosen, it will be put back in the array and has a chance\n",
    "# to be chosen again. By setting to false - the number is removed from array and wont be chosen again.\n",
    "\n",
    "arr1 = np.arange(5)\n",
    "\n",
    "print(arr1)"
   ]
  },
  {
   "cell_type": "code",
   "execution_count": null,
   "id": "baeeb0ea",
   "metadata": {},
   "outputs": [],
   "source": [
    "x = np.random.choice(arr1, 10, replace = True)\n",
    "\n",
    "print(x)"
   ]
  },
  {
   "cell_type": "code",
   "execution_count": null,
   "id": "be08c383",
   "metadata": {},
   "outputs": [],
   "source": [
    "lst1 = []"
   ]
  },
  {
   "cell_type": "code",
   "execution_count": null,
   "id": "85e1da7c",
   "metadata": {},
   "outputs": [],
   "source": [
    "for x in range(20):\n",
    "    lst1.append(np.random.choice(arr1, replace = False))"
   ]
  },
  {
   "cell_type": "code",
   "execution_count": null,
   "id": "82dc6db9",
   "metadata": {},
   "outputs": [],
   "source": [
    "print(lst1)"
   ]
  },
  {
   "cell_type": "code",
   "execution_count": null,
   "id": "6ae4189d",
   "metadata": {},
   "outputs": [],
   "source": [
    "x = np.random.choice(10, 15, replace = False)\n",
    "\n",
    "print(x)"
   ]
  },
  {
   "cell_type": "code",
   "execution_count": null,
   "id": "fa0d24be",
   "metadata": {},
   "outputs": [],
   "source": [
    "np_arr1 = np.arange(4)\n",
    "\n",
    "print(np_arr1)"
   ]
  },
  {
   "cell_type": "code",
   "execution_count": null,
   "id": "307aa6a1",
   "metadata": {},
   "outputs": [],
   "source": [
    "np.random.choice(np_arr1, 4,replace = False)\n",
    "\n",
    "\n"
   ]
  },
  {
   "cell_type": "code",
   "execution_count": 60,
   "id": "cb77daa5",
   "metadata": {},
   "outputs": [
    {
     "name": "stdout",
     "output_type": "stream",
     "text": [
      "[ 8 49 26 65  4 28 36 37 82  7]\n"
     ]
    }
   ],
   "source": [
    "print(np.random.choice(100,10))"
   ]
  },
  {
   "cell_type": "code",
   "execution_count": null,
   "id": "27636385",
   "metadata": {},
   "outputs": [],
   "source": [
    "# 0 = 10%\n",
    "# 1 = 15%\n",
    "# 2 = 20%\n",
    "# 3 = 55%"
   ]
  },
  {
   "cell_type": "code",
   "execution_count": null,
   "id": "93e18350",
   "metadata": {},
   "outputs": [],
   "source": [
    "print(np_arr1)"
   ]
  },
  {
   "cell_type": "code",
   "execution_count": null,
   "id": "60ad835d",
   "metadata": {},
   "outputs": [],
   "source": [
    "arr1 = [0,1,2,3]"
   ]
  },
  {
   "cell_type": "code",
   "execution_count": null,
   "id": "c6296b02",
   "metadata": {},
   "outputs": [],
   "source": [
    "a = [0.1, 0.15,0.20,0.55]"
   ]
  },
  {
   "cell_type": "code",
   "execution_count": null,
   "id": "98beb586",
   "metadata": {},
   "outputs": [],
   "source": [
    "print(np_arr1)"
   ]
  },
  {
   "cell_type": "code",
   "execution_count": null,
   "id": "7bf7b5dc",
   "metadata": {},
   "outputs": [],
   "source": [
    "# The p parameter takes probabilities i.e. if I had numbers 1 to 5 - in a uniform distribution each would have a 20% chance\n",
    "# or (0.2 probability). However, if we were to specify the probabilities, it will take those probabilities into account\n",
    "# while generating random numbers\n",
    "\n",
    "choice = np.random.choice(2, p = [0.5,0.5], size = 20)\n",
    "\n",
    "print(choice)"
   ]
  },
  {
   "cell_type": "code",
   "execution_count": null,
   "id": "77f883f0",
   "metadata": {},
   "outputs": [],
   "source": [
    "x = np.arange(10)\n",
    "\n",
    "print(x)"
   ]
  },
  {
   "cell_type": "code",
   "execution_count": 64,
   "id": "9ff58fee",
   "metadata": {},
   "outputs": [
    {
     "name": "stdout",
     "output_type": "stream",
     "text": [
      "[8 1 5 0 7 2 9 4 3 6]\n"
     ]
    }
   ],
   "source": [
    "#permutation - Returns a random permutation of input array or if integer specified random permutation of np.arrange(integer)\n",
    "\n",
    "import numpy as np\n",
    "\n",
    "np.random.seed(42)\n",
    "\n",
    "perm = np.random.permutation(10)\n",
    "\n",
    "print(perm)"
   ]
  },
  {
   "cell_type": "code",
   "execution_count": 65,
   "id": "31ef7c7d",
   "metadata": {},
   "outputs": [
    {
     "name": "stdout",
     "output_type": "stream",
     "text": [
      "[20 21 22 23 24 25 26 27 28 29 30 31 32 33 34 35 36 37 38 39]\n"
     ]
    }
   ],
   "source": [
    "np_arr = np.arange(20,40)\n",
    "\n",
    "print(np_arr)"
   ]
  },
  {
   "cell_type": "code",
   "execution_count": 66,
   "id": "111bc8a0",
   "metadata": {},
   "outputs": [
    {
     "name": "stdout",
     "output_type": "stream",
     "text": [
      "[28 33 29 26 20 31 36 37 32 34 21 24 25 22 35 27 23 39 30 38]\n"
     ]
    }
   ],
   "source": [
    "perm = np.random.permutation(np_arr)\n",
    "\n",
    "print(perm)"
   ]
  },
  {
   "cell_type": "code",
   "execution_count": 68,
   "id": "681d71d9",
   "metadata": {},
   "outputs": [
    {
     "name": "stdout",
     "output_type": "stream",
     "text": [
      "[[[20 21]\n",
      "  [22 23]]\n",
      "\n",
      " [[24 25]\n",
      "  [26 27]]\n",
      "\n",
      " [[28 29]\n",
      "  [30 31]]\n",
      "\n",
      " [[32 33]\n",
      "  [34 35]]\n",
      "\n",
      " [[36 37]\n",
      "  [38 39]]]\n"
     ]
    }
   ],
   "source": [
    "np_arr2 = np_arr.reshape(5,2,2)\n",
    "\n",
    "print(np_arr2)"
   ]
  },
  {
   "cell_type": "code",
   "execution_count": null,
   "id": "8d443370",
   "metadata": {},
   "outputs": [],
   "source": [
    "arr = np.arange(24).reshape(4,3,2)\n",
    "print(arr)"
   ]
  },
  {
   "cell_type": "code",
   "execution_count": 71,
   "id": "9ecf05ec",
   "metadata": {},
   "outputs": [
    {
     "name": "stdout",
     "output_type": "stream",
     "text": [
      "[[[20 21]\n",
      "  [22 23]]\n",
      "\n",
      " [[24 25]\n",
      "  [26 27]]\n",
      "\n",
      " [[28 29]\n",
      "  [30 31]]\n",
      "\n",
      " [[32 33]\n",
      "  [34 35]]\n",
      "\n",
      " [[36 37]\n",
      "  [38 39]]]\n"
     ]
    }
   ],
   "source": [
    "print(np_arr2)"
   ]
  },
  {
   "cell_type": "code",
   "execution_count": 70,
   "id": "4f4bbfb3",
   "metadata": {},
   "outputs": [
    {
     "name": "stdout",
     "output_type": "stream",
     "text": [
      "[[[36 37]\n",
      "  [38 39]]\n",
      "\n",
      " [[28 29]\n",
      "  [30 31]]\n",
      "\n",
      " [[24 25]\n",
      "  [26 27]]\n",
      "\n",
      " [[20 21]\n",
      "  [22 23]]\n",
      "\n",
      " [[32 33]\n",
      "  [34 35]]]\n"
     ]
    }
   ],
   "source": [
    "perm_arr = np.random.permutation(np_arr2) #\n",
    "print(perm_arr)\n",
    "\n",
    "\n",
    "# For a multidimensional array - it is only shuffled along the 0 index axis."
   ]
  },
  {
   "cell_type": "code",
   "execution_count": null,
   "id": "9d11bb8b",
   "metadata": {},
   "outputs": [],
   "source": [
    "perm_reshape = np.arange(24).reshape(2,3,4)\n",
    "\n",
    "print(perm_reshape)"
   ]
  },
  {
   "cell_type": "code",
   "execution_count": null,
   "id": "e92783ff",
   "metadata": {},
   "outputs": [],
   "source": [
    "perm_arr1 = perm_arr.flatten()\n",
    "\n",
    "perm_arr2 = np.random.permutation(perm_arr1).reshape(4,3,2)\n",
    "\n",
    "print(perm_arr2)"
   ]
  },
  {
   "cell_type": "code",
   "execution_count": null,
   "id": "b2724a48",
   "metadata": {},
   "outputs": [],
   "source": [
    "perm_reshape = perm_reshape.reshape(4,3,2)\n",
    "\n",
    "print(perm_reshape)"
   ]
  },
  {
   "cell_type": "code",
   "execution_count": null,
   "id": "4633c005",
   "metadata": {},
   "outputs": [],
   "source": [
    "perm_reshape2 = np.random.permutation(perm_reshape).reshape(2,3,4)\n",
    "\n",
    "print(perm_reshape2)"
   ]
  },
  {
   "cell_type": "code",
   "execution_count": null,
   "id": "d86ee800",
   "metadata": {},
   "outputs": [],
   "source": []
  },
  {
   "cell_type": "code",
   "execution_count": 72,
   "id": "23a199fe",
   "metadata": {},
   "outputs": [
    {
     "name": "stdout",
     "output_type": "stream",
     "text": [
      "[0 1 2 3 4 5 6 7 8 9]\n"
     ]
    }
   ],
   "source": [
    "arr = np.arange(10)\n",
    "print(arr)"
   ]
  },
  {
   "cell_type": "code",
   "execution_count": null,
   "id": "8e78b8f3",
   "metadata": {},
   "outputs": [],
   "source": [
    "#any - Returns true if any of the elements in the array are true. \n",
    "#all Returns true if all of the elements in the array are true."
   ]
  },
  {
   "cell_type": "code",
   "execution_count": null,
   "id": "5f021f17",
   "metadata": {},
   "outputs": [],
   "source": [
    "print(arr)"
   ]
  },
  {
   "cell_type": "code",
   "execution_count": 73,
   "id": "748eeb9a",
   "metadata": {},
   "outputs": [
    {
     "name": "stdout",
     "output_type": "stream",
     "text": [
      "True\n"
     ]
    }
   ],
   "source": [
    "print(np.any(arr))"
   ]
  },
  {
   "cell_type": "code",
   "execution_count": 74,
   "id": "0a9a4520",
   "metadata": {},
   "outputs": [
    {
     "name": "stdout",
     "output_type": "stream",
     "text": [
      "False\n"
     ]
    }
   ],
   "source": [
    "print(np.all(arr))"
   ]
  },
  {
   "cell_type": "code",
   "execution_count": null,
   "id": "4e5089fa",
   "metadata": {},
   "outputs": [],
   "source": [
    "print(arr.all())"
   ]
  },
  {
   "cell_type": "code",
   "execution_count": null,
   "id": "86e75e2b",
   "metadata": {},
   "outputs": [],
   "source": [
    "print(arr.any())"
   ]
  },
  {
   "cell_type": "code",
   "execution_count": null,
   "id": "5ebbd4c9",
   "metadata": {},
   "outputs": [],
   "source": [
    "print(dir(np))"
   ]
  },
  {
   "cell_type": "code",
   "execution_count": null,
   "id": "d2f04cf0",
   "metadata": {},
   "outputs": [],
   "source": [
    "print(dir(arr))"
   ]
  },
  {
   "cell_type": "code",
   "execution_count": null,
   "id": "a2695b35",
   "metadata": {},
   "outputs": [],
   "source": []
  },
  {
   "cell_type": "code",
   "execution_count": 75,
   "id": "f85e96a3",
   "metadata": {},
   "outputs": [
    {
     "name": "stdout",
     "output_type": "stream",
     "text": [
      "[0. 0. 0. 0. 0.]\n"
     ]
    }
   ],
   "source": [
    "arr_zero = np.zeros(5)\n",
    "\n",
    "print(arr_zero)"
   ]
  },
  {
   "cell_type": "code",
   "execution_count": 79,
   "id": "04f652d7",
   "metadata": {},
   "outputs": [
    {
     "name": "stdout",
     "output_type": "stream",
     "text": [
      "True\n"
     ]
    }
   ],
   "source": [
    "print(np.any(arr_zero))"
   ]
  },
  {
   "cell_type": "code",
   "execution_count": 80,
   "id": "a9fb70fe",
   "metadata": {},
   "outputs": [
    {
     "name": "stdout",
     "output_type": "stream",
     "text": [
      "False\n"
     ]
    }
   ],
   "source": [
    "print(np.all(arr_zero))"
   ]
  },
  {
   "cell_type": "code",
   "execution_count": 78,
   "id": "41ad9aac",
   "metadata": {},
   "outputs": [
    {
     "name": "stdout",
     "output_type": "stream",
     "text": [
      "[  0.   0. 100.   0.   0.]\n"
     ]
    }
   ],
   "source": [
    "arr_zero[2] = 100\n",
    "\n",
    "print(arr_zero)"
   ]
  },
  {
   "cell_type": "code",
   "execution_count": null,
   "id": "0ed011ee",
   "metadata": {},
   "outputs": [],
   "source": [
    "arr_alt = np.random.randint(0,2,5)\n",
    "\n",
    "print(arr_alt)"
   ]
  },
  {
   "cell_type": "code",
   "execution_count": null,
   "id": "96861578",
   "metadata": {},
   "outputs": [],
   "source": [
    "print(np.any(arr_alt))"
   ]
  },
  {
   "cell_type": "code",
   "execution_count": null,
   "id": "181b3510",
   "metadata": {},
   "outputs": [],
   "source": [
    "print(np.all(arr_alt))"
   ]
  },
  {
   "cell_type": "code",
   "execution_count": 81,
   "id": "7ae384af",
   "metadata": {},
   "outputs": [
    {
     "name": "stdout",
     "output_type": "stream",
     "text": [
      "[[0. 0. 0.]\n",
      " [0. 0. 0.]]\n"
     ]
    }
   ],
   "source": [
    "arr_zero_grid = np.zeros((2,3))\n",
    "print(arr_zero_grid)"
   ]
  },
  {
   "cell_type": "code",
   "execution_count": 83,
   "id": "f90a7e39",
   "metadata": {},
   "outputs": [
    {
     "name": "stdout",
     "output_type": "stream",
     "text": [
      "[[  0.   0.   0.]\n",
      " [100.   0.   0.]]\n"
     ]
    }
   ],
   "source": [
    "arr_zero_grid[1,0] = 100\n",
    "\n",
    "print(arr_zero_grid)"
   ]
  },
  {
   "cell_type": "code",
   "execution_count": 86,
   "id": "ac05610f",
   "metadata": {},
   "outputs": [
    {
     "name": "stdout",
     "output_type": "stream",
     "text": [
      "[ True False False]\n"
     ]
    }
   ],
   "source": [
    "print(np.any(arr_zero_grid, axis = 0))"
   ]
  },
  {
   "cell_type": "code",
   "execution_count": 88,
   "id": "95d8bebb",
   "metadata": {},
   "outputs": [
    {
     "name": "stdout",
     "output_type": "stream",
     "text": [
      "[False False False]\n"
     ]
    }
   ],
   "source": [
    "print(np.all(arr_zero_grid, axis = 0))"
   ]
  },
  {
   "cell_type": "code",
   "execution_count": null,
   "id": "55d4b61f",
   "metadata": {},
   "outputs": [],
   "source": [
    "arr_one_grid = np.ones((2,3))\n",
    "print(arr_one_grid)"
   ]
  },
  {
   "cell_type": "code",
   "execution_count": null,
   "id": "2ad0eca5",
   "metadata": {},
   "outputs": [],
   "source": [
    "print(np.any(arr_one_grid))"
   ]
  },
  {
   "cell_type": "code",
   "execution_count": null,
   "id": "ea4f5ded",
   "metadata": {},
   "outputs": [],
   "source": [
    "print(np.all(arr_one_grid))"
   ]
  },
  {
   "cell_type": "code",
   "execution_count": 1,
   "id": "87eed836",
   "metadata": {},
   "outputs": [
    {
     "name": "stdout",
     "output_type": "stream",
     "text": [
      "[ 0  1  2  3  4  5  6  7  8  9 10]\n",
      "[11 12 13 14 15 16 17 18 19 20]\n"
     ]
    }
   ],
   "source": [
    "import numpy as np\n",
    "\n",
    "\n",
    "arr = np.arange(11)\n",
    "arr10 = np.arange(11,21)\n",
    "print(arr)\n",
    "print(arr10)"
   ]
  },
  {
   "cell_type": "code",
   "execution_count": 2,
   "id": "f62d7cb6",
   "metadata": {},
   "outputs": [
    {
     "name": "stdout",
     "output_type": "stream",
     "text": [
      "[ 0  1  2  3  4  5  6  7  8  9 10 11 12 13 14 15 16 17 18 19 20]\n",
      "[ 0  1  2  3  4  5  6  7  8  9 10]\n",
      "[11 12 13 14 15 16 17 18 19 20]\n"
     ]
    }
   ],
   "source": [
    "# Append\n",
    "\n",
    "arr_n_10 = np.append(arr, arr10)\n",
    "print(arr_n_10)\n",
    "\n",
    "print(arr)\n",
    "print(arr10)"
   ]
  },
  {
   "cell_type": "code",
   "execution_count": null,
   "id": "417d7b21",
   "metadata": {},
   "outputs": [],
   "source": [
    "lst1 = [1,2,3,4]\n",
    "x = lst1.append(5)\n",
    "\n",
    "print(x)\n",
    "print(lst1)"
   ]
  },
  {
   "cell_type": "code",
   "execution_count": 3,
   "id": "766030df",
   "metadata": {},
   "outputs": [
    {
     "name": "stdout",
     "output_type": "stream",
     "text": [
      "[[ 1  2  3  4  5]\n",
      " [ 6  7  8  9 10]]\n"
     ]
    }
   ],
   "source": [
    "arr_1 = np.arange(1,11).reshape(2,5)\n",
    "arr_2 = np.arange(21,31).reshape(2,5)\n",
    "arr_3 = np.arange(101,251,10).reshape(3,5)\n",
    "print(arr_1)"
   ]
  },
  {
   "cell_type": "code",
   "execution_count": 4,
   "id": "46703074",
   "metadata": {},
   "outputs": [
    {
     "name": "stdout",
     "output_type": "stream",
     "text": [
      "[[21 22 23 24 25]\n",
      " [26 27 28 29 30]]\n"
     ]
    }
   ],
   "source": [
    "print(arr_2)"
   ]
  },
  {
   "cell_type": "code",
   "execution_count": 6,
   "id": "0fe1944a",
   "metadata": {},
   "outputs": [
    {
     "name": "stdout",
     "output_type": "stream",
     "text": [
      "[ 1  2  3  4  5  6  7  8  9 10 21 22 23 24 25 26 27 28 29 30]\n"
     ]
    }
   ],
   "source": [
    "# arr_x = np.append(arr_1, arr_2)\n",
    "\n",
    "# print(arr_x)"
   ]
  },
  {
   "cell_type": "code",
   "execution_count": 5,
   "id": "43f0120d",
   "metadata": {},
   "outputs": [
    {
     "name": "stdout",
     "output_type": "stream",
     "text": [
      "[[101 111 121 131 141]\n",
      " [151 161 171 181 191]\n",
      " [201 211 221 231 241]]\n"
     ]
    }
   ],
   "source": [
    "print(arr_3)"
   ]
  },
  {
   "cell_type": "code",
   "execution_count": null,
   "id": "f191c05c",
   "metadata": {},
   "outputs": [],
   "source": [
    "arr_1n2 = np.append(arr_1, arr_3, axis = 1)\n",
    "\n",
    "print(arr_1n2)"
   ]
  },
  {
   "cell_type": "code",
   "execution_count": null,
   "id": "25b7bfd6",
   "metadata": {},
   "outputs": [],
   "source": [
    "#[[1,2,3,4,5]\n",
    "#[6,7,8,9,10]\n",
    "#[[21,22,23,24,25]\n",
    "#[26,27,28,29,30]]\n",
    "\n"
   ]
  },
  {
   "cell_type": "code",
   "execution_count": null,
   "id": "d54adb01",
   "metadata": {},
   "outputs": [],
   "source": [
    "arr_1n2V = np.append(arr_1, arr_2, axis = 0)\n",
    "\n",
    "print(arr_1n2V)"
   ]
  },
  {
   "cell_type": "code",
   "execution_count": null,
   "id": "a0634e3a",
   "metadata": {},
   "outputs": [],
   "source": [
    "#vstack - stacks arrays vertically\n",
    "\n",
    "arr_V = np.vstack((arr_1, arr_2))\n",
    "print(arr_V)"
   ]
  },
  {
   "cell_type": "code",
   "execution_count": null,
   "id": "7e296639",
   "metadata": {},
   "outputs": [],
   "source": [
    "arr1x = np.arange(1,6)\n",
    "arr2x = np.arange(11,16)\n",
    "print(arr1x)\n",
    "print(arr2x)"
   ]
  },
  {
   "cell_type": "code",
   "execution_count": null,
   "id": "eb2fa537",
   "metadata": {},
   "outputs": [],
   "source": [
    "arr_vx = np.vstack((arr1x, arr2x))\n",
    "print(arr_vx)\n"
   ]
  },
  {
   "cell_type": "code",
   "execution_count": null,
   "id": "ddc1911e",
   "metadata": {},
   "outputs": [],
   "source": [
    "arr1x = np.arange(1,13).reshape(2,2,3)\n",
    "arr2x = np.arange(11,23).reshape(2,2,3)\n",
    "print(arr1x)"
   ]
  },
  {
   "cell_type": "code",
   "execution_count": null,
   "id": "0e731512",
   "metadata": {},
   "outputs": [],
   "source": [
    "print(arr2x)"
   ]
  },
  {
   "cell_type": "code",
   "execution_count": null,
   "id": "f2fbfc8e",
   "metadata": {},
   "outputs": [],
   "source": [
    "arrvx = np.vstack((arr1x,arr2x))\n",
    "\n",
    "print(arrvx)"
   ]
  },
  {
   "cell_type": "code",
   "execution_count": null,
   "id": "4c00080f",
   "metadata": {},
   "outputs": [],
   "source": [
    "print(arr1x)"
   ]
  },
  {
   "cell_type": "code",
   "execution_count": null,
   "id": "3ed13c90",
   "metadata": {},
   "outputs": [],
   "source": [
    "print(arr2x)"
   ]
  },
  {
   "cell_type": "code",
   "execution_count": null,
   "id": "a3d18a7d",
   "metadata": {},
   "outputs": [],
   "source": [
    "arr1x = np.arange(6).reshape(2,3)\n",
    "arr2x = np.arange(10,16).reshape(2,3)\n",
    "\n",
    "\n",
    "print(arr1x)\n",
    "print(arr2x)"
   ]
  },
  {
   "cell_type": "code",
   "execution_count": null,
   "id": "0973a544",
   "metadata": {},
   "outputs": [],
   "source": [
    "print(dir(np))"
   ]
  },
  {
   "cell_type": "code",
   "execution_count": null,
   "id": "5a51c23f",
   "metadata": {},
   "outputs": [],
   "source": [
    "arr_H = np.hstack((arr1x, arr2x))\n",
    "\n",
    "print(arr_H)"
   ]
  },
  {
   "cell_type": "code",
   "execution_count": null,
   "id": "9afbef56",
   "metadata": {},
   "outputs": [],
   "source": [
    "arr1x = np.arange(1,13).reshape(2,2,3)\n",
    "arr2x = np.arange(11,17).reshape(2,3)\n",
    "print(arr1x)"
   ]
  },
  {
   "cell_type": "code",
   "execution_count": null,
   "id": "cace4aa0",
   "metadata": {},
   "outputs": [],
   "source": [
    "print(arr2x)"
   ]
  },
  {
   "cell_type": "code",
   "execution_count": null,
   "id": "0a8ad87d",
   "metadata": {},
   "outputs": [],
   "source": [
    "arr_2n3 = np.append(arr_1,arr_2, axis = 1)\n",
    "\n",
    "print(arr_2n3)"
   ]
  },
  {
   "cell_type": "code",
   "execution_count": null,
   "id": "295a3711",
   "metadata": {},
   "outputs": [],
   "source": [
    "arr1 = np.arange(24).reshape(2,3,4)\n",
    "arr2 = np.arange(0,240,10).reshape(2,3,4)\n",
    "\n",
    "print(arr1)\n",
    "print(arr2)"
   ]
  },
  {
   "cell_type": "code",
   "execution_count": null,
   "id": "0db414d6",
   "metadata": {},
   "outputs": [],
   "source": [
    "arr12hstack = np.hstack((arr1,arr2))\n",
    "\n",
    "print(arr12hstack)"
   ]
  },
  {
   "cell_type": "code",
   "execution_count": null,
   "id": "6ea11068",
   "metadata": {},
   "outputs": [],
   "source": [
    "arr12vstack = np.vstack((arr1, arr2))\n",
    "\n",
    "print(arr12vstack)"
   ]
  },
  {
   "cell_type": "code",
   "execution_count": null,
   "id": "259ac083",
   "metadata": {},
   "outputs": [],
   "source": [
    "#sort will by default sort on the last axis.\n",
    "np.random.seed(101)\n",
    "arr_rand = np.random.randint(1,10, 20).reshape(2,2,5)\n",
    "print(arr_rand)"
   ]
  },
  {
   "cell_type": "code",
   "execution_count": null,
   "id": "466931b8",
   "metadata": {},
   "outputs": [],
   "source": [
    "arr_sort = np.sort(arr_rand, axis = 1)\n",
    "print(arr_sort)"
   ]
  },
  {
   "cell_type": "code",
   "execution_count": null,
   "id": "25e6260f",
   "metadata": {},
   "outputs": [],
   "source": [
    "print(arr_rand)"
   ]
  },
  {
   "cell_type": "code",
   "execution_count": null,
   "id": "b29b2d43",
   "metadata": {},
   "outputs": [],
   "source": [
    "0,1,2,3, 4,5,6\n",
    "\n",
    "-7,-6,-5,-4,-3,-2,-1"
   ]
  },
  {
   "cell_type": "code",
   "execution_count": null,
   "id": "8d121c53",
   "metadata": {},
   "outputs": [],
   "source": [
    "0,1,2\n",
    "-3,-2,-1"
   ]
  },
  {
   "cell_type": "code",
   "execution_count": null,
   "id": "015a74f5",
   "metadata": {},
   "outputs": [],
   "source": [
    "arr_sort = np.sort(arr_rand, axis = -2) \n",
    "print(arr_sort)"
   ]
  },
  {
   "cell_type": "code",
   "execution_count": null,
   "id": "3cc22ca1",
   "metadata": {},
   "outputs": [],
   "source": [
    "# insert\n",
    "\n",
    "print(arr_sort)"
   ]
  },
  {
   "cell_type": "code",
   "execution_count": null,
   "id": "da4e74d8",
   "metadata": {},
   "outputs": [],
   "source": [
    "arr_sort = np.arange(10,100,10)\n",
    "\n",
    "print(arr_sort)"
   ]
  },
  {
   "cell_type": "code",
   "execution_count": null,
   "id": "c8abee6c",
   "metadata": {},
   "outputs": [],
   "source": [
    "1"
   ]
  },
  {
   "cell_type": "code",
   "execution_count": null,
   "id": "8df8cba3",
   "metadata": {},
   "outputs": [],
   "source": [
    "arr_ins = np.insert(arr_sort,2, 555)\n",
    "\n",
    "print(arr_ins)"
   ]
  },
  {
   "cell_type": "code",
   "execution_count": null,
   "id": "60cded9d",
   "metadata": {},
   "outputs": [],
   "source": [
    "arr_ins2 = np.insert(arr_sort, -1,555)\n",
    "\n",
    "\n",
    "print(arr_ins2)"
   ]
  },
  {
   "cell_type": "code",
   "execution_count": null,
   "id": "166e5553",
   "metadata": {},
   "outputs": [],
   "source": [
    "import numpy as np\n",
    "\n",
    "arr_sort = np.arange(1,31).reshape(6,5)\n",
    "print(arr_sort)"
   ]
  },
  {
   "cell_type": "code",
   "execution_count": null,
   "id": "299b2aee",
   "metadata": {},
   "outputs": [],
   "source": [
    "arr3d = np.random.randint(1,10,24).reshape(2,3,4)\n",
    "\n",
    "print(arr3d)"
   ]
  },
  {
   "cell_type": "code",
   "execution_count": null,
   "id": "16a32cec",
   "metadata": {},
   "outputs": [],
   "source": [
    "arrins = np.random.randint(1,5,12).reshape(3,4)\n",
    "\n",
    "print(arrins)\n",
    "\n",
    "# 2 x 3 x 4"
   ]
  },
  {
   "cell_type": "code",
   "execution_count": null,
   "id": "b30039c1",
   "metadata": {},
   "outputs": [],
   "source": [
    "print(arr3d)"
   ]
  },
  {
   "cell_type": "code",
   "execution_count": null,
   "id": "2f60368d",
   "metadata": {},
   "outputs": [],
   "source": [
    "arrIns = np.arange(100,106).reshape(2,3)"
   ]
  },
  {
   "cell_type": "code",
   "execution_count": null,
   "id": "27a7d077",
   "metadata": {},
   "outputs": [],
   "source": [
    "arroutput = np.insert(arr3d, 1, arrins, axis = 0)\n",
    "\n",
    "\n",
    "print(arroutput)"
   ]
  },
  {
   "cell_type": "code",
   "execution_count": null,
   "id": "37976449",
   "metadata": {},
   "outputs": [],
   "source": [
    "print(arr3d)"
   ]
  },
  {
   "cell_type": "code",
   "execution_count": null,
   "id": "1946b4ba",
   "metadata": {},
   "outputs": [],
   "source": [
    "arrins1 = np.arange(8).reshape(2,4)\n",
    "\n",
    "print(arrins1)"
   ]
  },
  {
   "cell_type": "code",
   "execution_count": null,
   "id": "8cb2ace3",
   "metadata": {},
   "outputs": [],
   "source": [
    "arrinsX1 = np.insert(arr3d,1, arrins1, axis = 1)\n",
    "\n",
    "print(arrinsX1)"
   ]
  },
  {
   "cell_type": "code",
   "execution_count": null,
   "id": "6065d2fa",
   "metadata": {},
   "outputs": [],
   "source": [
    "arrins2 = np.arange(6).reshape(2,3)\n",
    "\n",
    "print(arrins2)"
   ]
  },
  {
   "cell_type": "code",
   "execution_count": null,
   "id": "4bcf710f",
   "metadata": {},
   "outputs": [],
   "source": [
    "print(arr3d)"
   ]
  },
  {
   "cell_type": "code",
   "execution_count": null,
   "id": "f8ab5e81",
   "metadata": {},
   "outputs": [],
   "source": [
    "print(arr3d)\n",
    "\n",
    "print(arrins2)"
   ]
  },
  {
   "cell_type": "code",
   "execution_count": null,
   "id": "96402ca4",
   "metadata": {},
   "outputs": [],
   "source": [
    "arrinsX2 = np.insert(arr3d, 2, arrins2, axis = 2)\n",
    "\n",
    "print(arrinsX2)"
   ]
  },
  {
   "cell_type": "code",
   "execution_count": null,
   "id": "18036126",
   "metadata": {},
   "outputs": [],
   "source": [
    "arrins2 = np.arange(101,107).reshape(2,3)\n",
    "\n",
    "print(arrins2)"
   ]
  },
  {
   "cell_type": "code",
   "execution_count": null,
   "id": "62669afb",
   "metadata": {},
   "outputs": [],
   "source": [
    "print(arr3d)"
   ]
  },
  {
   "cell_type": "code",
   "execution_count": null,
   "id": "4901d924",
   "metadata": {},
   "outputs": [],
   "source": [
    "2,3,4   = Axis 0 has 2 elements of (3x4)   = 3x4\n",
    "\n",
    "2,3,4 = Axis 1 has 3 elements of 1d arrays = 2 x 4\n",
    "\n",
    "2,3,4 = Axis 2 has 4 elements along it = 2x3"
   ]
  },
  {
   "cell_type": "code",
   "execution_count": null,
   "id": "4f9e3050",
   "metadata": {},
   "outputs": [],
   "source": []
  },
  {
   "cell_type": "code",
   "execution_count": null,
   "id": "3a6bd361",
   "metadata": {},
   "outputs": [],
   "source": [
    "arr_result = np.insert(arr3d,1,arrins2,axis=2)\n",
    "\n",
    "print(arr_result)"
   ]
  },
  {
   "cell_type": "code",
   "execution_count": null,
   "id": "35c87c4a",
   "metadata": {},
   "outputs": [],
   "source": [
    "arr3d = np.arange(48).reshape(4,3,4)\n",
    "\n",
    "print(arr3d)"
   ]
  },
  {
   "cell_type": "code",
   "execution_count": null,
   "id": "ce8cbac0",
   "metadata": {},
   "outputs": [],
   "source": [
    "arrIns = np.arange(10,121,10).reshape(3,4)\n",
    "\n",
    "print(arrIns)"
   ]
  },
  {
   "cell_type": "code",
   "execution_count": null,
   "id": "cb135b4d",
   "metadata": {},
   "outputs": [],
   "source": [
    "arr_ins = np.insert(arr3d, [1,3], arrIns, axis=0)\n",
    "\n",
    "print(arr_ins)"
   ]
  },
  {
   "cell_type": "code",
   "execution_count": null,
   "id": "d6299b2d",
   "metadata": {},
   "outputs": [],
   "source": [
    "print(arr_sort)"
   ]
  },
  {
   "cell_type": "code",
   "execution_count": null,
   "id": "dca09d41",
   "metadata": {},
   "outputs": [],
   "source": [
    "arr_ins1 = np.insert(arr_ins, 4, [1,1,1,1,1,1], axis = 0)\n",
    "\n",
    "print(arr_ins1)"
   ]
  },
  {
   "cell_type": "code",
   "execution_count": null,
   "id": "28c09198",
   "metadata": {},
   "outputs": [],
   "source": [
    "print(arr_ins)"
   ]
  },
  {
   "cell_type": "code",
   "execution_count": null,
   "id": "97adc94a",
   "metadata": {},
   "outputs": [],
   "source": [
    "arr_ins[0][1] = 20\n",
    "\n",
    "print(arr_ins)\n",
    "print(arr_sort)"
   ]
  },
  {
   "cell_type": "code",
   "execution_count": null,
   "id": "ed15f808",
   "metadata": {},
   "outputs": [],
   "source": [
    "print(arr_ins)"
   ]
  },
  {
   "cell_type": "code",
   "execution_count": null,
   "id": "7cb00263",
   "metadata": {},
   "outputs": [],
   "source": [
    "arr_flat = arr_ins.flatten()\n",
    "print(arr_flat)"
   ]
  },
  {
   "cell_type": "code",
   "execution_count": null,
   "id": "66481e60",
   "metadata": {},
   "outputs": [],
   "source": [
    "arr_flat_ins = np.insert(arr_flat, 4, 20)\n",
    "\n",
    "print(arr_flat_ins)"
   ]
  },
  {
   "cell_type": "code",
   "execution_count": null,
   "id": "2c509489",
   "metadata": {},
   "outputs": [],
   "source": [
    "#Transpose"
   ]
  },
  {
   "cell_type": "code",
   "execution_count": null,
   "id": "dbc09fc7",
   "metadata": {},
   "outputs": [],
   "source": [
    "arr_1 = np.arange(1,9).reshape(2,4)\n",
    "\n",
    "print(arr_1)"
   ]
  },
  {
   "cell_type": "code",
   "execution_count": null,
   "id": "72d0e171",
   "metadata": {},
   "outputs": [],
   "source": [
    "arr2 = arr_1.transpose() #Returns only a view of the transposed array and does not have a inplace parameter - so to see\n",
    "# the effect - must save the transposed view to a variable.\n",
    "\n",
    "print(arr2)"
   ]
  },
  {
   "cell_type": "code",
   "execution_count": null,
   "id": "13d06c7d",
   "metadata": {},
   "outputs": [],
   "source": [
    "print(arr_1)\n",
    "print(arr2)"
   ]
  },
  {
   "cell_type": "code",
   "execution_count": null,
   "id": "d93f160a",
   "metadata": {},
   "outputs": [],
   "source": [
    "arr2[-1,-1] = 888\n",
    "\n",
    "print(arr_1)\n",
    "print(arr2)"
   ]
  },
  {
   "cell_type": "code",
   "execution_count": null,
   "id": "b80f496e",
   "metadata": {},
   "outputs": [],
   "source": []
  },
  {
   "cell_type": "code",
   "execution_count": null,
   "id": "ed4f1bca",
   "metadata": {},
   "outputs": [],
   "source": [
    "0,1\n",
    "\n",
    "1,0\n"
   ]
  },
  {
   "cell_type": "code",
   "execution_count": null,
   "id": "a2bf0249",
   "metadata": {},
   "outputs": [],
   "source": [
    "arr_2[2][3] = 777\n",
    "\n",
    "arr_2"
   ]
  },
  {
   "cell_type": "code",
   "execution_count": null,
   "id": "e01eb0fa",
   "metadata": {},
   "outputs": [],
   "source": [
    "arr_1"
   ]
  },
  {
   "cell_type": "code",
   "execution_count": null,
   "id": "a36d7dba",
   "metadata": {},
   "outputs": [],
   "source": [
    "import copy\n",
    "\n",
    "arr_3 = copy.deepcopy(arr_1.transpose())"
   ]
  },
  {
   "cell_type": "code",
   "execution_count": null,
   "id": "323ae22d",
   "metadata": {},
   "outputs": [],
   "source": [
    "arr_3"
   ]
  },
  {
   "cell_type": "code",
   "execution_count": null,
   "id": "6718f011",
   "metadata": {},
   "outputs": [],
   "source": [
    "arr_3[0][0] = 1000\n",
    "\n",
    "arr_3"
   ]
  },
  {
   "cell_type": "code",
   "execution_count": null,
   "id": "e8a90446",
   "metadata": {},
   "outputs": [],
   "source": [
    "arr_1"
   ]
  },
  {
   "cell_type": "code",
   "execution_count": null,
   "id": "e7fc13b4",
   "metadata": {},
   "outputs": [],
   "source": [
    "arr_1 = np.arange(1,25).reshape(2,3,4)\n",
    "\n",
    "print(arr_1)"
   ]
  },
  {
   "cell_type": "code",
   "execution_count": null,
   "id": "86140e82",
   "metadata": {},
   "outputs": [],
   "source": [
    "#0,1,2  = 2,3,4\n",
    "\n",
    "#1,0,2 = 3,2,4\n",
    "\n",
    "arr_2 = np.transpose(arr_1, (1,0,2))\n",
    "\n",
    "print(arr_2)\n",
    "arr_2.shape"
   ]
  },
  {
   "cell_type": "code",
   "execution_count": null,
   "id": "130f376a",
   "metadata": {},
   "outputs": [],
   "source": [
    "print(arr_1) # 2 x 3 x 4"
   ]
  },
  {
   "cell_type": "code",
   "execution_count": null,
   "id": "baba3bd2",
   "metadata": {},
   "outputs": [],
   "source": [
    "arr_3 = np.transpose(arr_1, (1,2,0))\n",
    "\n",
    "print(arr_3)\n",
    "\n",
    "# 3 x 4 x 2"
   ]
  },
  {
   "cell_type": "code",
   "execution_count": null,
   "id": "310b4a78",
   "metadata": {},
   "outputs": [],
   "source": [
    "print(arr_3)"
   ]
  },
  {
   "cell_type": "code",
   "execution_count": null,
   "id": "095e89e2",
   "metadata": {},
   "outputs": [],
   "source": [
    "print(arr_1)"
   ]
  },
  {
   "cell_type": "code",
   "execution_count": null,
   "id": "570d8b28",
   "metadata": {},
   "outputs": [],
   "source": [
    "arrtransp = np.transpose(arr_1, (2,1,0))\n",
    "\n",
    "print(arrtransp)"
   ]
  },
  {
   "cell_type": "code",
   "execution_count": null,
   "id": "db087031",
   "metadata": {},
   "outputs": [],
   "source": [
    "np_arr1 = np.arange(1,21).reshape(4,5)\n",
    "\n",
    "np_arr2 = np.arange(1,201,10).reshape(5,4)\n",
    "\n",
    "print(np_arr1)"
   ]
  },
  {
   "cell_type": "code",
   "execution_count": null,
   "id": "1da04d83",
   "metadata": {},
   "outputs": [],
   "source": [
    "print(np_arr2)"
   ]
  },
  {
   "cell_type": "code",
   "execution_count": null,
   "id": "90dfeafe",
   "metadata": {},
   "outputs": [],
   "source": [
    "np.dot(np_arr1,np_arr2)"
   ]
  },
  {
   "cell_type": "code",
   "execution_count": null,
   "id": "f9683d6c",
   "metadata": {},
   "outputs": [],
   "source": [
    "print(dir(np))"
   ]
  },
  {
   "cell_type": "code",
   "execution_count": null,
   "id": "66fd1340",
   "metadata": {},
   "outputs": [],
   "source": [
    "print(1 "
   ]
  },
  {
   "cell_type": "markdown",
   "id": "b9c26ca9",
   "metadata": {},
   "source": [
    "### Datetime"
   ]
  },
  {
   "cell_type": "code",
   "execution_count": null,
   "id": "b6910f2f",
   "metadata": {},
   "outputs": [],
   "source": [
    "# Numpy has a datetime64 function which converts string with input 'YYYY-MM-DD hh:mm:ss.ms' format to a datetime object. \n",
    "# Unlike the string, we can perform arithmetic operations on datetime objects (and in some cases require the help of the \n",
    "# timedelta24 object - more on that later)."
   ]
  },
  {
   "cell_type": "code",
   "execution_count": null,
   "id": "d125becf",
   "metadata": {},
   "outputs": [],
   "source": [
    "import numpy as np\n",
    "\n",
    "np_date = np.datetime64('2023-04-08')\n",
    "\n",
    "print(np_date)\n",
    "print(type(np_date))"
   ]
  },
  {
   "cell_type": "code",
   "execution_count": null,
   "id": "86ba9e94",
   "metadata": {},
   "outputs": [],
   "source": []
  },
  {
   "cell_type": "code",
   "execution_count": null,
   "id": "e66490ff",
   "metadata": {},
   "outputs": [],
   "source": [
    "#YYYY-MM-DD hh:mm:ss.ms\n",
    "\n",
    "#YYYY\n",
    "#YYYY-MM\n",
    "#YYYY-MM-DD hh:mm:ss.ms"
   ]
  },
  {
   "cell_type": "code",
   "execution_count": null,
   "id": "ba61eabf",
   "metadata": {},
   "outputs": [],
   "source": [
    "print(np_date+7)"
   ]
  },
  {
   "cell_type": "code",
   "execution_count": null,
   "id": "a5b56719",
   "metadata": {},
   "outputs": [],
   "source": [
    "print(type(np_date))"
   ]
  },
  {
   "cell_type": "code",
   "execution_count": null,
   "id": "8f5365d9",
   "metadata": {},
   "outputs": [],
   "source": [
    "print(np_date.dtype)"
   ]
  },
  {
   "cell_type": "code",
   "execution_count": null,
   "id": "cc6b8b49",
   "metadata": {},
   "outputs": [],
   "source": [
    "# We can also input a partial string if we do not wish the complete date (including timestamp)"
   ]
  },
  {
   "cell_type": "code",
   "execution_count": null,
   "id": "f66edb04",
   "metadata": {},
   "outputs": [],
   "source": [
    "np_msecs = np.datetime64('2022-09-16 11:20:45.09')\n",
    "\n",
    "print(np_msecs)"
   ]
  },
  {
   "cell_type": "code",
   "execution_count": null,
   "id": "14d91d1f",
   "metadata": {},
   "outputs": [],
   "source": [
    "np_msecs.dtype"
   ]
  },
  {
   "cell_type": "code",
   "execution_count": null,
   "id": "cc6fcc4d",
   "metadata": {},
   "outputs": [],
   "source": [
    "# Note how a 'T' denoting time has been inserted between the date and the time."
   ]
  },
  {
   "cell_type": "code",
   "execution_count": null,
   "id": "cf16a6fe",
   "metadata": {},
   "outputs": [],
   "source": [
    "np_secs = np.datetime64('2022-09-16 11:20:45')\n",
    "\n",
    "print(np_secs)"
   ]
  },
  {
   "cell_type": "code",
   "execution_count": null,
   "id": "285f1bf8",
   "metadata": {},
   "outputs": [],
   "source": [
    "np_mins = np.datetime64('2022-09-16 11:20')\n",
    "\n",
    "print(np_mins)"
   ]
  },
  {
   "cell_type": "code",
   "execution_count": null,
   "id": "92709f3b",
   "metadata": {},
   "outputs": [],
   "source": [
    "np_hours = np.datetime64('2022-09-16 11')\n",
    "\n",
    "print(np_hours)"
   ]
  },
  {
   "cell_type": "code",
   "execution_count": null,
   "id": "a67fc19a",
   "metadata": {},
   "outputs": [],
   "source": [
    "np_days = np.datetime64('2022-09-16')\n",
    "\n",
    "print(np_days)"
   ]
  },
  {
   "cell_type": "code",
   "execution_count": null,
   "id": "04408e06",
   "metadata": {},
   "outputs": [],
   "source": [
    "np_mths = np.datetime64('2022-09')\n",
    "\n",
    "print(np_mths)"
   ]
  },
  {
   "cell_type": "code",
   "execution_count": null,
   "id": "9ba9133e",
   "metadata": {},
   "outputs": [],
   "source": [
    "np_years = np.datetime64('2022')\n",
    "\n",
    "print(np_years)"
   ]
  },
  {
   "cell_type": "code",
   "execution_count": null,
   "id": "af193947",
   "metadata": {},
   "outputs": [],
   "source": [
    "# The datetime64 function can take an additional parameter - The abbreviate of the time unit."
   ]
  },
  {
   "cell_type": "code",
   "execution_count": null,
   "id": "8cd97c55",
   "metadata": {},
   "outputs": [],
   "source": [
    "np_dtime = np.datetime64('2022-09-12 11:20', 'M')\n",
    "\n",
    "print(np_dtime)\n",
    "print(np_dtime.dtype)"
   ]
  },
  {
   "cell_type": "code",
   "execution_count": null,
   "id": "18aba1ec",
   "metadata": {},
   "outputs": [],
   "source": [
    "np_dtime2 = np.datetime64('2023-04-12', 'W')\n",
    "\n",
    "print(np_dtime2)"
   ]
  },
  {
   "cell_type": "code",
   "execution_count": null,
   "id": "396bc887",
   "metadata": {},
   "outputs": [],
   "source": [
    "# Common abbreviations are givin below\n",
    "\n",
    "# Abbreviation - Meaning\n",
    "# Y            - Years\n",
    "# M            - Months\n",
    "# D            - Days\n",
    "# W            - Weeks\n",
    "# h            - Hours\n",
    "# m            - Minutes\n",
    "# s            - Seconds\n",
    "\n",
    "\n"
   ]
  },
  {
   "cell_type": "code",
   "execution_count": null,
   "id": "a3ecae1f",
   "metadata": {},
   "outputs": [],
   "source": [
    "print(np_dtime+1)"
   ]
  },
  {
   "cell_type": "code",
   "execution_count": null,
   "id": "49f36328",
   "metadata": {},
   "outputs": [],
   "source": [
    "today = np.datetime64('today')\n",
    "\n",
    "print(today)"
   ]
  },
  {
   "cell_type": "code",
   "execution_count": null,
   "id": "44995b58",
   "metadata": {},
   "outputs": [],
   "source": [
    "np_weeks = np.datetime64('2023-04-20', 'D')\n",
    "\n",
    "print(np_weeks)\n",
    "print(np_weeks.dtype)"
   ]
  },
  {
   "cell_type": "code",
   "execution_count": null,
   "id": "f99eb486",
   "metadata": {},
   "outputs": [],
   "source": [
    "print(np_weeks-72)"
   ]
  },
  {
   "cell_type": "code",
   "execution_count": null,
   "id": "7f852f38",
   "metadata": {},
   "outputs": [],
   "source": [
    "# Another useful input that the datetime64 function can take is 'today' giving the current date"
   ]
  },
  {
   "cell_type": "code",
   "execution_count": null,
   "id": "0d9d0f54",
   "metadata": {},
   "outputs": [],
   "source": [
    "np_today = np.datetime64('today', 'm')\n",
    "\n",
    "print(np_today)\n",
    "print(np_today.dtype)"
   ]
  },
  {
   "cell_type": "code",
   "execution_count": null,
   "id": "d3891970",
   "metadata": {},
   "outputs": [],
   "source": [
    "print(np_today+1)"
   ]
  },
  {
   "cell_type": "code",
   "execution_count": null,
   "id": "130cfc22",
   "metadata": {},
   "outputs": [],
   "source": [
    "np_tod_mth = np.datetime64('today', 'M')\n",
    "\n",
    "print(np_tod_mth-4)"
   ]
  },
  {
   "cell_type": "code",
   "execution_count": null,
   "id": "f3673d6a",
   "metadata": {},
   "outputs": [],
   "source": [
    "# However, what if we wanted to add 4 months to today? If we added +4 to my day datatype datetime64 object it would add 4 \n",
    "# days to my date and not months. To do this kind of arithmetic on dates, we have the timedelta64 object. "
   ]
  },
  {
   "cell_type": "code",
   "execution_count": null,
   "id": "07b7ebb0",
   "metadata": {},
   "outputs": [],
   "source": [
    "np_hours = np.datetime64('today','m')\n",
    "\n",
    "print(np_hours)"
   ]
  },
  {
   "cell_type": "code",
   "execution_count": null,
   "id": "fc95b66d",
   "metadata": {},
   "outputs": [],
   "source": [
    "npnew = np_hours + np.timedelta64(5,'D')\n",
    "\n",
    "print(npnew)"
   ]
  },
  {
   "cell_type": "code",
   "execution_count": null,
   "id": "9d44672f",
   "metadata": {},
   "outputs": [],
   "source": [
    "nptd64 = np.timedelta64(5,'D')\n",
    "\n",
    "print(nptd64)\n",
    "print(type(nptd64))\n",
    "print(nptd64.dtype)"
   ]
  },
  {
   "cell_type": "code",
   "execution_count": null,
   "id": "00d7b93e",
   "metadata": {},
   "outputs": [],
   "source": [
    "print(np_add_day)"
   ]
  },
  {
   "cell_type": "code",
   "execution_count": null,
   "id": "45ff8d27",
   "metadata": {},
   "outputs": [],
   "source": [
    "np_add_day = np_hours + np.timedelta64(3, 'Y')\n",
    "\n",
    "print(np_add_day)"
   ]
  },
  {
   "cell_type": "code",
   "execution_count": null,
   "id": "727ead58",
   "metadata": {},
   "outputs": [],
   "source": [
    "np_year = np.datetime64('today', 'M')\n",
    "\n",
    "print(np_year)"
   ]
  },
  {
   "cell_type": "code",
   "execution_count": null,
   "id": "e33935ff",
   "metadata": {},
   "outputs": [],
   "source": [
    "np_year_add = np_year + np.timedelta64(3,'Y')\n",
    "\n",
    "print(np_year_add)"
   ]
  },
  {
   "cell_type": "code",
   "execution_count": null,
   "id": "d7d2b139",
   "metadata": {},
   "outputs": [],
   "source": [
    "# TimeDelta64 - Does not work between datetime64 object of unit day(or lower) and Year/Month timedelta64"
   ]
  },
  {
   "cell_type": "code",
   "execution_count": null,
   "id": "f9937755",
   "metadata": {},
   "outputs": [],
   "source": []
  },
  {
   "cell_type": "code",
   "execution_count": null,
   "id": "f64ad2f3",
   "metadata": {},
   "outputs": [],
   "source": []
  },
  {
   "cell_type": "code",
   "execution_count": null,
   "id": "10eae5ee",
   "metadata": {},
   "outputs": [],
   "source": [
    "np_tod_mth = np.datetime64('today', 'M')\n",
    "\n",
    "print(np_tod_mth)"
   ]
  },
  {
   "cell_type": "code",
   "execution_count": null,
   "id": "06ef80e9",
   "metadata": {},
   "outputs": [],
   "source": [
    "np_tod_day = np_tod_mth + np.timedelta64(1, 'Y')\n",
    "\n",
    "print(np_tod_day)"
   ]
  },
  {
   "cell_type": "code",
   "execution_count": null,
   "id": "4e6c71d8",
   "metadata": {},
   "outputs": [],
   "source": [
    "np_days_tobday = np.datetime64('2023-08-04') - np.datetime64('today')\n",
    "\n",
    "print(np_days_tobday)\n",
    "print(np_days_tobday.dtype)\n",
    "print(type(np_days_tobday))"
   ]
  },
  {
   "cell_type": "code",
   "execution_count": null,
   "id": "3e910d8b",
   "metadata": {},
   "outputs": [],
   "source": [
    "# However, due to the fact that length of months and also of years are non-standard i.e. a year can have either 365 or 366\n",
    "# days and months can have either 30,31, 28 or 29 days - timedelta64 does not work between day type and month / year \n",
    "# timedelta64. "
   ]
  },
  {
   "cell_type": "code",
   "execution_count": null,
   "id": "ef788df6",
   "metadata": {},
   "outputs": [],
   "source": [
    "np_addtime = np.datetime64('today', 'm')\n",
    "\n",
    "print(np_addtime)"
   ]
  },
  {
   "cell_type": "code",
   "execution_count": null,
   "id": "b19371b4",
   "metadata": {},
   "outputs": [],
   "source": [
    "print(np_addtime+np.timedelta64(3, 'Y'))"
   ]
  },
  {
   "cell_type": "code",
   "execution_count": null,
   "id": "038a86fb",
   "metadata": {},
   "outputs": [],
   "source": [
    "np_addmths = np.datetime64('today')+ np.timedelta64(4, 'M')\n",
    "\n",
    "print(np_addmths)"
   ]
  },
  {
   "cell_type": "code",
   "execution_count": null,
   "id": "835b49ac",
   "metadata": {},
   "outputs": [],
   "source": [
    "np_addmths = np.datetime64('today', 'M')+ np.timedelta64(4, 'M')\n",
    "\n",
    "print(np_addmths)"
   ]
  },
  {
   "cell_type": "code",
   "execution_count": null,
   "id": "bbb64a2a",
   "metadata": {},
   "outputs": [],
   "source": [
    "print(np.datetime64('2022-12','D'))"
   ]
  },
  {
   "cell_type": "code",
   "execution_count": null,
   "id": "07f65b6e",
   "metadata": {},
   "outputs": [],
   "source": [
    "# For the above example, would have no choice but to truncate to the desired time unit, then add back the days. \n",
    "\n",
    "# For example - 4 months from today\n",
    "\n",
    "add_days = np.datetime64('2022-12-05 13:10','m')-np.datetime64('today', 'M')\n",
    "\n",
    "print(add_days)\n",
    "print(add_days.dtype)\n"
   ]
  },
  {
   "cell_type": "code",
   "execution_count": null,
   "id": "b6051fca",
   "metadata": {},
   "outputs": [],
   "source": [
    "add_4mths = np.datetime64('today', 'M') + np.timedelta64(4,'M')+add_days\n",
    "\n",
    "print(add_4mths)"
   ]
  },
  {
   "cell_type": "code",
   "execution_count": null,
   "id": "f9e792f2",
   "metadata": {},
   "outputs": [],
   "source": [
    "# Or simply"
   ]
  },
  {
   "cell_type": "code",
   "execution_count": null,
   "id": "cfcb495a",
   "metadata": {},
   "outputs": [],
   "source": [
    "add_4mths2 = np.datetime64('today', 'M') + 4+add_days\n",
    "\n",
    "print(add_4mths2)"
   ]
  },
  {
   "cell_type": "code",
   "execution_count": null,
   "id": "90ef2818",
   "metadata": {},
   "outputs": [],
   "source": [
    "# But if we wanted to add a year to today we could do:\n",
    "\n",
    "add_1yr = np.datetime64('today', 'M') + np.timedelta64(1,'Y') + add_days\n",
    "\n",
    "print(add_1yr)"
   ]
  },
  {
   "cell_type": "code",
   "execution_count": null,
   "id": "e58b670d",
   "metadata": {},
   "outputs": [],
   "source": [
    "np_today = np.datetime64('today', 'm')\n",
    "\n",
    "print(np_today)"
   ]
  },
  {
   "cell_type": "code",
   "execution_count": null,
   "id": "37444257",
   "metadata": {},
   "outputs": [],
   "source": [
    "print(np.datetime64('today', 'M'))"
   ]
  },
  {
   "cell_type": "code",
   "execution_count": null,
   "id": "c5c7d7ac",
   "metadata": {},
   "outputs": [],
   "source": [
    "np_adddays = np_today - np.datetime64('today', 'M')\n",
    "\n",
    "print(np_adddays)"
   ]
  },
  {
   "cell_type": "code",
   "execution_count": null,
   "id": "d0984726",
   "metadata": {},
   "outputs": [],
   "source": [
    "np_add4months = np.datetime64('today', 'M') + np.timedelta64(4,'M') + np_adddays"
   ]
  },
  {
   "cell_type": "code",
   "execution_count": null,
   "id": "cc954c43",
   "metadata": {},
   "outputs": [],
   "source": [
    "print(np_add4months)"
   ]
  },
  {
   "cell_type": "code",
   "execution_count": null,
   "id": "77fd4435",
   "metadata": {},
   "outputs": [],
   "source": []
  },
  {
   "cell_type": "code",
   "execution_count": null,
   "id": "7c662c64",
   "metadata": {},
   "outputs": [],
   "source": []
  },
  {
   "cell_type": "code",
   "execution_count": null,
   "id": "af0059a1",
   "metadata": {},
   "outputs": [],
   "source": [
    "# is_busday function"
   ]
  },
  {
   "cell_type": "code",
   "execution_count": null,
   "id": "1f22b110",
   "metadata": {},
   "outputs": [],
   "source": [
    "np_isbusday = np.is_busday(np.datetime64('2023-04-23'), weekmask = [1,1,1,1,1,0,0])\n",
    "\n",
    "print(np_isbusday)"
   ]
  },
  {
   "cell_type": "code",
   "execution_count": null,
   "id": "7e85a43d",
   "metadata": {},
   "outputs": [],
   "source": [
    "# weekmask = [1,1,1,1,1,0,0]\n",
    "# weekmask = '1111110'\n",
    "#weekmask = 'Mon Tue Wed Thu Fri Sat'"
   ]
  },
  {
   "cell_type": "code",
   "execution_count": null,
   "id": "6597fc5e",
   "metadata": {},
   "outputs": [],
   "source": [
    "#weekmask in busday functions\n",
    "\n",
    "np_isbusday = np.is_busday(np.datetime64('2022-12-10'), weekmask = weekmask)\n",
    "\n",
    "print(np_isbusday)"
   ]
  },
  {
   "cell_type": "code",
   "execution_count": null,
   "id": "31260e98",
   "metadata": {},
   "outputs": [],
   "source": [
    "today = np.datetime64('2022-11-01', 'D')\n",
    "\n",
    "print(today)"
   ]
  },
  {
   "cell_type": "code",
   "execution_count": null,
   "id": "bdef796b",
   "metadata": {},
   "outputs": [],
   "source": [
    "aprdates = np.arange('2023-04-01', '2023-05-01', dtype = 'datetime64[D]')\n",
    "\n",
    "print(aprdates)\n",
    "print(type(aprdates[0]))\n",
    "print(aprdates[0].dtype)"
   ]
  },
  {
   "cell_type": "code",
   "execution_count": null,
   "id": "ec8cd791",
   "metadata": {},
   "outputs": [],
   "source": [
    "arr1 = np.arange(1,100)\n",
    "\n",
    "print(arr1%2 == 0)"
   ]
  },
  {
   "cell_type": "code",
   "execution_count": null,
   "id": "d002321e",
   "metadata": {},
   "outputs": [],
   "source": [
    "satsunNov = np.is_busday(aprdates, weekmask = '0000011')\n",
    "\n",
    "print(satsunNov)"
   ]
  },
  {
   "cell_type": "code",
   "execution_count": null,
   "id": "e671db51",
   "metadata": {},
   "outputs": [],
   "source": [
    "print(aprdates[satsunNov])"
   ]
  },
  {
   "cell_type": "code",
   "execution_count": null,
   "id": "26be19eb",
   "metadata": {},
   "outputs": [],
   "source": [
    "#busday_count\n",
    "\n",
    "busday_count = np.busday_count('2023-04-01', '2023-05-01')\n",
    "\n",
    "print(busday_count)\n",
    "\n",
    "\n"
   ]
  },
  {
   "cell_type": "code",
   "execution_count": null,
   "id": "1fe11abd",
   "metadata": {},
   "outputs": [],
   "source": [
    "import numpy as np"
   ]
  },
  {
   "cell_type": "code",
   "execution_count": null,
   "id": "03b8123e",
   "metadata": {},
   "outputs": [],
   "source": [
    "#busday_offset\n",
    "\n",
    "busday_offset = np.busday_offset('2023-04-20',2)\n",
    "\n",
    "print(busday_offset)"
   ]
  },
  {
   "cell_type": "markdown",
   "id": "fc32edda",
   "metadata": {},
   "source": [
    "https://numpy.org/doc/stable/reference/arrays.datetime.html"
   ]
  },
  {
   "cell_type": "code",
   "execution_count": null,
   "id": "809230d4",
   "metadata": {},
   "outputs": [],
   "source": [
    "import numpy as np\n",
    "x= np.random.randint(1,10,9).reshape(3,3)\n",
    "print(\"Original Array:\")\n",
    "print(x)\n",
    "xmax, xmin = x.max(), x.min()\n",
    "x = (x - xmin)/(xmax - xmin)\n",
    "print(\"After normalization:\")\n",
    "print(x)"
   ]
  },
  {
   "cell_type": "code",
   "execution_count": null,
   "id": "0c1459ac",
   "metadata": {},
   "outputs": [],
   "source": [
    "# Numpy\n",
    "\n",
    "1. Its a library which helps us work with arrays in Python and does numerical processing very fast.\n",
    "2. Arrays are homogenous datatypes.\n",
    "\n",
    "# Creating arrays - \n",
    "1. Through np.array or np.asarray and the difference. \n",
    "2. Multidimensional arrays and relationship with axis number. \n",
    "3. Attributes of a numpy array i.e. dtype, shape, ndim.\n"
   ]
  },
  {
   "cell_type": "code",
   "execution_count": null,
   "id": "5bc22831",
   "metadata": {},
   "outputs": [],
   "source": [
    "#Methods we say Nov 8, 2022\n",
    "\n",
    "array and asarray - along with difference. \n",
    "\n",
    "zeros\n",
    "ones\n",
    "empty\n",
    "full\n",
    "identity\n",
    "eye\n",
    "diag\n",
    "\n",
    "zerolike, onelike, fulllike, emptylike\n",
    "\n",
    "arange\n",
    "reshape\n",
    "\n",
    "flatten\n",
    "fromfunction\n",
    "prod\n",
    "sum\n",
    "min\n",
    "argmin\n",
    "max\n",
    "argmax\n"
   ]
  },
  {
   "cell_type": "markdown",
   "id": "3e8fe5c0",
   "metadata": {},
   "source": [
    "What is numpy?\n",
    "\n",
    "Numpy is a module in python that allows us to work with arrays. \n",
    "It stands for numerical python. \n",
    "\n",
    "\n",
    "arrays - are multidimensional sequences containing homogenous datatypes. Arrays are mutable. \n",
    "\n",
    "Advantages of arrays over the native python datatypes?\n",
    "1. Faster processing of arrays - since arrays store the data in contiguous blocks of memory and are homogenous, the metadata\n",
    "is contained in the array object itself allowing for faster access to the data and therefore faster processing. \n",
    "2. Operations can be performed on arrays quickly without the use of a for loop. \n",
    "3. Easier transfer between algorithms and scripts. \n",
    "\n",
    "Indexing and slicing in arrays, boolean indexing in arrays\n",
    "\n",
    "array, asarray - and difference between these two. \n",
    "\n",
    "Broadcasting and operations between arrays. \n",
    "\n",
    "Array axes, shapes and dimensions.\n",
    "\n"
   ]
  },
  {
   "cell_type": "code",
   "execution_count": null,
   "id": "8a383bdf",
   "metadata": {},
   "outputs": [],
   "source": [
    "import numpy as np\n",
    "\n",
    "arr1 = np.arange(120)"
   ]
  }
 ],
 "metadata": {
  "kernelspec": {
   "display_name": "Python 3 (ipykernel)",
   "language": "python",
   "name": "python3"
  },
  "language_info": {
   "codemirror_mode": {
    "name": "ipython",
    "version": 3
   },
   "file_extension": ".py",
   "mimetype": "text/x-python",
   "name": "python",
   "nbconvert_exporter": "python",
   "pygments_lexer": "ipython3",
   "version": "3.9.13"
  }
 },
 "nbformat": 4,
 "nbformat_minor": 5
}
