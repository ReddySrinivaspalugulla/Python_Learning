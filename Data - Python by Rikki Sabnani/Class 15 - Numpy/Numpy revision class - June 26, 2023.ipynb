{
 "cells": [
  {
   "cell_type": "code",
   "execution_count": 14,
   "id": "2378b42a",
   "metadata": {},
   "outputs": [
    {
     "name": "stdout",
     "output_type": "stream",
     "text": [
      "[[[ 0  1  2  3]\n",
      "  [ 4  5  6  7]\n",
      "  [ 8  9 10 11]]\n",
      "\n",
      " [[12 13 14 15]\n",
      "  [16 17 18 19]\n",
      "  [20 21 22 23]]]\n",
      "---------------\n",
      "[ 9 19]\n"
     ]
    }
   ],
   "source": [
    "import numpy as np\n",
    "array1=np.arange(24).reshape(2,3,4)\n",
    "print(array1)\n",
    "print(('-')*15)\n",
    "print(array1[[0,1],[2,1],[1,3]])\n",
    "# array1[[1, 2]] = array1[[2, 1]]\n"
   ]
  },
  {
   "cell_type": "code",
   "execution_count": 16,
   "id": "c0541164",
   "metadata": {},
   "outputs": [
    {
     "name": "stdout",
     "output_type": "stream",
     "text": [
      "[[[ 0  1  2  3]\n",
      "  [ 4  5  6  7]\n",
      "  [ 8  9 10 11]]\n",
      "\n",
      " [[12 13 14 15]\n",
      "  [16 17 18 19]\n",
      "  [20 21 22 23]]]\n",
      "[[0]\n",
      " [4]\n",
      " [8]]\n",
      "[0 4 8]\n"
     ]
    }
   ],
   "source": [
    "# Sankara\n",
    "\n",
    "arrayS = np.arange(24).reshape(2,3,4)\n",
    "\n",
    "x = arrayS[0,:,:1]\n",
    "y = arrayS[0,:,0]\n",
    "\n",
    "print(arrayS)\n",
    "print(x)\n",
    "print(y)"
   ]
  },
  {
   "cell_type": "code",
   "execution_count": null,
   "id": "37a6070f",
   "metadata": {},
   "outputs": [],
   "source": [
    "# Normalise data. Means to scale the values such that your values fall between 0 and 1. \n",
    "\n",
    "# 7,21,42,33,82 = 0 to 1\n",
    "\n",
    "# 7/82, 21/82, 42/82, 33/82, 82/82 \n",
    "\n",
    "# grading on a curve?\n"
   ]
  },
  {
   "cell_type": "code",
   "execution_count": null,
   "id": "f997a289",
   "metadata": {},
   "outputs": [],
   "source": [
    "# 2021\n",
    "\n",
    "# Physics exam - The exam for 2021 was much easier than the exam for 2022\n",
    "\n",
    "96/96 = 100% = 1\n",
    "\n",
    "89/96 = 93~94%\n",
    "\n",
    "# 2022\n",
    "\n",
    "# Physics exams\n",
    "\n",
    "# 93/93 = 100%\n",
    "\n",
    "# 84/93 = 95%"
   ]
  },
  {
   "cell_type": "code",
   "execution_count": 25,
   "id": "2584e5ea",
   "metadata": {},
   "outputs": [
    {
     "name": "stdout",
     "output_type": "stream",
     "text": [
      "[[[ 0  1  2  3]\n",
      "  [ 4  5  6  7]\n",
      "  [ 8  9 10 11]]\n",
      "\n",
      " [[12 13 14 15]\n",
      "  [16 17 18 19]\n",
      "  [20 21 22 23]]]\n"
     ]
    }
   ],
   "source": [
    "arrayG = np.arange(24).reshape(2,3,4)\n",
    "\n",
    "# 0,1,2,3\n",
    "# 0,1,2\n",
    "# 0,1\n",
    "# 0\n",
    "print(arrayG)"
   ]
  },
  {
   "cell_type": "code",
   "execution_count": 27,
   "id": "7b2a96ec",
   "metadata": {},
   "outputs": [
    {
     "data": {
      "text/plain": [
       "array([[17, 18],\n",
       "       [21, 22]])"
      ]
     },
     "execution_count": 27,
     "metadata": {},
     "output_type": "execute_result"
    }
   ],
   "source": [
    "arrayG[1,1:,1:3]"
   ]
  },
  {
   "cell_type": "code",
   "execution_count": 29,
   "id": "943472fb",
   "metadata": {},
   "outputs": [
    {
     "name": "stdout",
     "output_type": "stream",
     "text": [
      "[ 0  1  2  3  4  5  6  7  8  9 10]\n",
      "[5 6 7]\n",
      "[  0   1   2   3   4   5 686   7   8   9  10]\n",
      "[5 6 7]\n"
     ]
    }
   ],
   "source": [
    "arr = np.arange(11)\n",
    "arr_slice = arr[5:8].copy()\n",
    "print(arr)\n",
    "print(arr_slice)\n",
    "arr[6] = 686\n",
    "\n",
    "print(arr)\n",
    "print(arr_slice)\n",
    "\n"
   ]
  },
  {
   "cell_type": "code",
   "execution_count": null,
   "id": "35f6726d",
   "metadata": {},
   "outputs": [],
   "source": [
    "#0,1,2,3,4"
   ]
  },
  {
   "cell_type": "code",
   "execution_count": 33,
   "id": "06e2e4ea",
   "metadata": {},
   "outputs": [
    {
     "name": "stdout",
     "output_type": "stream",
     "text": [
      "[[[ 7  4  8  5]\n",
      "  [ 7 10  3  7]\n",
      "  [ 8  5  4  8]]\n",
      "\n",
      " [[ 8  3  6  5]\n",
      "  [ 2  8  6  2]\n",
      "  [ 5  1 10  6]]]\n"
     ]
    }
   ],
   "source": [
    "# Broadcasting\n",
    "\n",
    "np.random.seed(42)\n",
    "\n",
    "arrayY = np.random.randint(1,11,24).reshape(2,3,4)\n",
    "\n",
    "print(arrayY)"
   ]
  },
  {
   "cell_type": "code",
   "execution_count": 49,
   "id": "edc4878b",
   "metadata": {},
   "outputs": [
    {
     "name": "stdout",
     "output_type": "stream",
     "text": [
      "[[[[ 2  7  8 10]\n",
      "   [ 9  5  9  6]\n",
      "   [ 1  6  9  2]]]]\n"
     ]
    }
   ],
   "source": [
    "np.random.seed(101)\n",
    "\n",
    "arrayYM = np.random.randint(1,11,12).reshape(1,1,3,4)\n",
    "\n",
    "print(arrayYM)"
   ]
  },
  {
   "cell_type": "code",
   "execution_count": 34,
   "id": "3b9e142b",
   "metadata": {},
   "outputs": [
    {
     "name": "stdout",
     "output_type": "stream",
     "text": [
      "[[[14  8 16 10]\n",
      "  [14 20  6 14]\n",
      "  [16 10  8 16]]\n",
      "\n",
      " [[16  6 12 10]\n",
      "  [ 4 16 12  4]\n",
      "  [10  2 20 12]]]\n"
     ]
    }
   ],
   "source": [
    "arrayY2 = arrayY*2 \n",
    "\n",
    "print(arrayY2)"
   ]
  },
  {
   "cell_type": "code",
   "execution_count": 37,
   "id": "72e489d9",
   "metadata": {},
   "outputs": [
    {
     "name": "stdout",
     "output_type": "stream",
     "text": [
      "(2, 3, 4)\n",
      "(2, 3, 4)\n"
     ]
    }
   ],
   "source": [
    "print(arrayY.shape)\n",
    "print(arrayYM.shape)"
   ]
  },
  {
   "cell_type": "code",
   "execution_count": 44,
   "id": "e055ca4c",
   "metadata": {},
   "outputs": [
    {
     "name": "stdout",
     "output_type": "stream",
     "text": [
      "[[[ 9 11 16 15]\n",
      "  [ 9 17 11 17]\n",
      "  [10 12 12 18]]\n",
      "\n",
      " [[17  8 15 11]\n",
      "  [11 13 15  8]\n",
      "  [14  6 19 12]]]\n"
     ]
    }
   ],
   "source": [
    "arrayY3 = arrayY+arrayYM\n",
    "\n",
    "print(arrayY3)"
   ]
  },
  {
   "cell_type": "code",
   "execution_count": null,
   "id": "381dffaf",
   "metadata": {},
   "outputs": [],
   "source": [
    "# For broadcasting two arrays, either the no of elements on respective dimensions must be the same or must be one element.\n",
    "# If the shape of smaller array is shorter than bigger array, each missing dimension on shorter array will be prepended with \n",
    "# 1. "
   ]
  },
  {
   "cell_type": "code",
   "execution_count": null,
   "id": "9e5e0246",
   "metadata": {},
   "outputs": [],
   "source": [
    "vstack = append(0 axis)\n",
    "hstack = append(1 axis)"
   ]
  }
 ],
 "metadata": {
  "kernelspec": {
   "display_name": "Python 3 (ipykernel)",
   "language": "python",
   "name": "python3"
  },
  "language_info": {
   "codemirror_mode": {
    "name": "ipython",
    "version": 3
   },
   "file_extension": ".py",
   "mimetype": "text/x-python",
   "name": "python",
   "nbconvert_exporter": "python",
   "pygments_lexer": "ipython3",
   "version": "3.9.13"
  }
 },
 "nbformat": 4,
 "nbformat_minor": 5
}
