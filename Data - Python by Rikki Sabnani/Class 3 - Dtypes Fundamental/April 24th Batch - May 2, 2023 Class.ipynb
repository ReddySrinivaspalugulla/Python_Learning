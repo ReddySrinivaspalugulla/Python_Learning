{
 "cells": [
  {
   "cell_type": "code",
   "execution_count": null,
   "id": "0bdd0033",
   "metadata": {},
   "outputs": [],
   "source": [
    "if True:\n",
    "    print('Ankit')\n",
    "    print(100*2)\n",
    "else:\n",
    "    print('Rikki')\n",
    "    print(200*5)\n",
    "    \n",
    "    \n",
    "print('Outside the if/else block/suite and not indented so will run irrespective of if and else output')"
   ]
  },
  {
   "cell_type": "markdown",
   "id": "9fba6c89",
   "metadata": {},
   "source": [
    "# Datatypes in Python, Memory Management, Subscription"
   ]
  },
  {
   "cell_type": "code",
   "execution_count": null,
   "id": "201180f0",
   "metadata": {},
   "outputs": [],
   "source": [
    "# Datatypes\n",
    "\n",
    "# Literal, literal collection - these are all datatypes.\n",
    "\n",
    "\n",
    "# Fundamental (also called Primitive) Datatypes - Literals\n",
    "\n",
    "#1. Integer\n",
    "#2. Float\n",
    "#3. Bool\n",
    "#4. String\n",
    "#5. None\n",
    "#6. Complex\n",
    "\n",
    "# Derived datatypes - Literal collections\n",
    "\n",
    "# String is an exception - it shows some properties of a derived datatype. \n",
    "\n",
    "#1. List\n",
    "#2. Tuple\n",
    "#3. Range\n",
    "#4. Bytes\n",
    "#5. Dictionary\n",
    "#6. Sets\n",
    "#7. ByteArrays\n",
    "#8. Frozensets"
   ]
  },
  {
   "cell_type": "code",
   "execution_count": null,
   "id": "1fea93f6",
   "metadata": {},
   "outputs": [],
   "source": [
    "a = 1000\n",
    "b = 1000\n",
    "\n",
    "print(id(a))\n",
    "print(id(b))\n",
    "print(a is b)\n",
    "print(a == b)"
   ]
  },
  {
   "cell_type": "code",
   "execution_count": null,
   "id": "365499b5",
   "metadata": {},
   "outputs": [],
   "source": [
    "c = a\n",
    "\n",
    "print(id(a))\n",
    "print(id(c))\n",
    "\n",
    "print(a is c)\n",
    "print(a == c)"
   ]
  },
  {
   "cell_type": "code",
   "execution_count": null,
   "id": "c6dec286",
   "metadata": {},
   "outputs": [],
   "source": [
    "d = 4000\n",
    "\n",
    "print(id(d))\n",
    "\n",
    "d = 5000\n",
    "print(id(d))"
   ]
  },
  {
   "cell_type": "code",
   "execution_count": null,
   "id": "7bdda0ee",
   "metadata": {},
   "outputs": [],
   "source": [
    "d = d+100\n",
    "d = d-100\n",
    "\n",
    "print(id(d))"
   ]
  },
  {
   "cell_type": "code",
   "execution_count": null,
   "id": "876c4b59",
   "metadata": {},
   "outputs": [],
   "source": [
    "lst1 = [1000,2000,3000,4000]\n",
    "\n",
    "print(lst1[0], id(lst1[0]))\n",
    "print(lst1[1], id(lst1[1]))\n",
    "print(lst1[2], id(lst1[2]))\n",
    "print(lst1[3], id(lst1[3]))"
   ]
  },
  {
   "cell_type": "code",
   "execution_count": null,
   "id": "99960ee1",
   "metadata": {},
   "outputs": [],
   "source": [
    "print(id(lst1))"
   ]
  },
  {
   "cell_type": "code",
   "execution_count": null,
   "id": "b0570b86",
   "metadata": {},
   "outputs": [],
   "source": [
    "lst1[0] = 1111\n",
    "\n",
    "print(lst1)"
   ]
  },
  {
   "cell_type": "code",
   "execution_count": null,
   "id": "87ad9b2f",
   "metadata": {},
   "outputs": [],
   "source": [
    "print(id(lst1))"
   ]
  },
  {
   "cell_type": "code",
   "execution_count": null,
   "id": "271b6bde",
   "metadata": {},
   "outputs": [],
   "source": [
    "print(id(lst1[0]))"
   ]
  },
  {
   "cell_type": "code",
   "execution_count": null,
   "id": "eca70a1e",
   "metadata": {},
   "outputs": [],
   "source": [
    "lst2 = ['A', 'B']\n",
    "\n",
    "lst1.append(lst2)\n",
    "\n",
    "print(lst1)"
   ]
  },
  {
   "cell_type": "code",
   "execution_count": null,
   "id": "9714af6e",
   "metadata": {},
   "outputs": [],
   "source": [
    "print(id(lst2))"
   ]
  },
  {
   "cell_type": "code",
   "execution_count": null,
   "id": "ae222324",
   "metadata": {},
   "outputs": [],
   "source": [
    "print(id(lst1[4]))"
   ]
  },
  {
   "cell_type": "code",
   "execution_count": null,
   "id": "162c877c",
   "metadata": {},
   "outputs": [],
   "source": [
    "lst2[0] = 'a'\n",
    "\n",
    "print(lst2)\n",
    "print(id(lst2))"
   ]
  },
  {
   "cell_type": "code",
   "execution_count": null,
   "id": "7caa33b9",
   "metadata": {},
   "outputs": [],
   "source": [
    "print(lst1)"
   ]
  },
  {
   "cell_type": "code",
   "execution_count": null,
   "id": "6736b1d3",
   "metadata": {},
   "outputs": [],
   "source": [
    "a = 1000\n",
    "\n",
    "a[0] = 2"
   ]
  },
  {
   "cell_type": "code",
   "execution_count": null,
   "id": "bd8a268b",
   "metadata": {},
   "outputs": [],
   "source": [
    "# Memory optimisation - reusing objects. \n",
    "\n",
    "# The following objects are assigned memory at startup. Whenever we try and use any of the following values - Python DOES NOT\n",
    "# create new objects but uses these same objects from memory which are already created. Even if we do not end up using \n",
    "# some of these values in our script - overall Python would have saved a lot of memory. \n",
    "\n",
    "# -5 to 256 = Integers i.e. 262 memids allocated\n",
    "# 128 ascii values = 128 memids allocated\n",
    "# True / False = 2 memids allocated\n",
    "# None = 1 memid allocated"
   ]
  },
  {
   "cell_type": "code",
   "execution_count": null,
   "id": "649678a0",
   "metadata": {},
   "outputs": [],
   "source": [
    "a = 'Rikki'\n",
    "\n",
    "print(a[0])\n",
    "print(a[1])\n",
    "print(a[2])\n",
    "print(a[3])\n",
    "print(a[4])"
   ]
  },
  {
   "cell_type": "code",
   "execution_count": null,
   "id": "ce7e13cd",
   "metadata": {},
   "outputs": [],
   "source": [
    "b = 'rocky'\n",
    "c = 'vikki'\n",
    "d = 'mikki'"
   ]
  },
  {
   "cell_type": "code",
   "execution_count": null,
   "id": "96cec1e8",
   "metadata": {},
   "outputs": [],
   "source": [
    "a = 1000\n",
    "b = 1000\n",
    "\n",
    "print(id(a))\n",
    "print(id(b))\n",
    "print(a is b)"
   ]
  },
  {
   "cell_type": "code",
   "execution_count": null,
   "id": "4eb4c834",
   "metadata": {},
   "outputs": [],
   "source": [
    "x = 257\n",
    "y = 257\n",
    "\n",
    "print(id(x))\n",
    "print(id(y))\n",
    "print(x is y)\n"
   ]
  },
  {
   "cell_type": "code",
   "execution_count": null,
   "id": "d2eb8f76",
   "metadata": {},
   "outputs": [],
   "source": [
    "a = 'sanka'\n",
    "b = 'pankaj'\n",
    "\n",
    "print(a[1], id(a[1]), id(a[4]))\n",
    "print(b[1], id(b[1]), id(b[4]))\n",
    "print(a[1] is b[1] is a[4] is b[4])"
   ]
  },
  {
   "cell_type": "code",
   "execution_count": 2,
   "id": "3e82a30a",
   "metadata": {},
   "outputs": [
    {
     "name": "stdout",
     "output_type": "stream",
     "text": [
      "140715757271144 140715757271144\n",
      "True\n"
     ]
    }
   ],
   "source": [
    "a = True\n",
    "\n",
    "print(id(True), id(a))\n",
    "print(True is a)"
   ]
  },
  {
   "cell_type": "code",
   "execution_count": 1,
   "id": "246aaf41",
   "metadata": {},
   "outputs": [
    {
     "name": "stdout",
     "output_type": "stream",
     "text": [
      "140715757271144\n",
      "Ginil\n",
      "Ginil\n",
      "Ginil\n",
      "Ginil\n",
      "140715757271144\n"
     ]
    }
   ],
   "source": [
    "print(id(True))\n",
    "\n",
    "x = 1\n",
    "while x < 5:\n",
    "    print('Ginil')\n",
    "    x += 1\n",
    "    \n",
    "print(id(True))"
   ]
  },
  {
   "cell_type": "code",
   "execution_count": null,
   "id": "a6f237c1",
   "metadata": {},
   "outputs": [],
   "source": [
    "b = False\n",
    "\n",
    "print(id(False), id(b))\n",
    "print(False is b)"
   ]
  },
  {
   "cell_type": "code",
   "execution_count": null,
   "id": "9556ad2b",
   "metadata": {},
   "outputs": [],
   "source": [
    "c = None\n",
    "\n",
    "print(id(None), id(c))\n",
    "print(None is c)"
   ]
  },
  {
   "cell_type": "code",
   "execution_count": null,
   "id": "ffe29b13",
   "metadata": {},
   "outputs": [],
   "source": [
    "a = [1000,1000] #due to cache memory ids are same\n",
    "\n",
    "print(id(a[0]))\n",
    "print(id(a[1]))"
   ]
  },
  {
   "cell_type": "code",
   "execution_count": null,
   "id": "6d5150e0",
   "metadata": {},
   "outputs": [],
   "source": [
    "a = [1000, 2000]\n",
    "\n",
    "print(id(a[0]))"
   ]
  },
  {
   "cell_type": "code",
   "execution_count": null,
   "id": "9e7576c3",
   "metadata": {},
   "outputs": [],
   "source": [
    "a.append(1000)\n",
    "print(a)"
   ]
  },
  {
   "cell_type": "code",
   "execution_count": null,
   "id": "4393f527",
   "metadata": {},
   "outputs": [],
   "source": [
    "print(id(a[2]))"
   ]
  },
  {
   "cell_type": "code",
   "execution_count": null,
   "id": "c56e69f8",
   "metadata": {},
   "outputs": [],
   "source": [
    "print(id(1000))"
   ]
  },
  {
   "cell_type": "code",
   "execution_count": 14,
   "id": "b87501f6",
   "metadata": {},
   "outputs": [
    {
     "name": "stdout",
     "output_type": "stream",
     "text": [
      "1366740658560\n",
      "1366739866304\n"
     ]
    }
   ],
   "source": [
    "# Memory Management - String interning\n",
    "\n",
    "lst1 = [1,2,3,4]\n",
    "lst2 = [1,2,3,4]\n",
    "\n",
    "print(id(lst1))\n",
    "print(id(lst2))"
   ]
  },
  {
   "cell_type": "code",
   "execution_count": 17,
   "id": "bdc0aa4c",
   "metadata": {},
   "outputs": [],
   "source": [
    "# they can contain alphabets or numbers or _\n",
    "# they cannot begin with a number\n",
    "# No special symbols (except _) including spaces\n",
    "# Case sensitive"
   ]
  },
  {
   "cell_type": "code",
   "execution_count": 18,
   "id": "4595accb",
   "metadata": {},
   "outputs": [
    {
     "name": "stdout",
     "output_type": "stream",
     "text": [
      "1366740453808\n",
      "1366740453808\n"
     ]
    }
   ],
   "source": [
    "str1 = 'Venki'\n",
    "str2 = 'Venki'\n",
    "\n",
    "print(id(str1))\n",
    "print(id(str2))"
   ]
  },
  {
   "cell_type": "code",
   "execution_count": 19,
   "id": "99d84283",
   "metadata": {},
   "outputs": [
    {
     "name": "stdout",
     "output_type": "stream",
     "text": [
      "1366740478320\n",
      "1366740478704\n"
     ]
    }
   ],
   "source": [
    "str3 = 'Venki@'\n",
    "str4 = 'Venki@'\n",
    "\n",
    "\n",
    "print(id(str3))\n",
    "print(id(str4))"
   ]
  },
  {
   "cell_type": "code",
   "execution_count": 20,
   "id": "e7f7c887",
   "metadata": {},
   "outputs": [],
   "source": [
    "# If a multichar string follows identifier rules then it will be 'interned' i.e. another string with exact same characters\n",
    "# will NOT create a new object, the previous string object will be reused. "
   ]
  },
  {
   "cell_type": "code",
   "execution_count": 21,
   "id": "ef98cf9e",
   "metadata": {},
   "outputs": [
    {
     "ename": "NameError",
     "evalue": "name 'Venki' is not defined",
     "output_type": "error",
     "traceback": [
      "\u001b[1;31m---------------------------------------------------------------------------\u001b[0m",
      "\u001b[1;31mNameError\u001b[0m                                 Traceback (most recent call last)",
      "\u001b[1;32m~\\AppData\\Local\\Temp\\ipykernel_1840\\1867924154.py\u001b[0m in \u001b[0;36m<module>\u001b[1;34m\u001b[0m\n\u001b[1;32m----> 1\u001b[1;33m \u001b[0mprint\u001b[0m\u001b[1;33m(\u001b[0m\u001b[0mVenki\u001b[0m\u001b[1;33m)\u001b[0m\u001b[1;33m\u001b[0m\u001b[1;33m\u001b[0m\u001b[0m\n\u001b[0m",
      "\u001b[1;31mNameError\u001b[0m: name 'Venki' is not defined"
     ]
    }
   ],
   "source": [
    "print(Venki)"
   ]
  },
  {
   "cell_type": "code",
   "execution_count": 25,
   "id": "9b27423b",
   "metadata": {},
   "outputs": [
    {
     "name": "stdout",
     "output_type": "stream",
     "text": [
      "4\n"
     ]
    }
   ],
   "source": [
    "# Subscription - Indexing, Slicing and Assignment\n",
    "\n",
    "\n",
    "lst1 = [1,2,3,4]\n",
    "\n",
    "print(lst1[3])"
   ]
  },
  {
   "cell_type": "code",
   "execution_count": 26,
   "id": "9b458e16",
   "metadata": {},
   "outputs": [
    {
     "name": "stdout",
     "output_type": "stream",
     "text": [
      "V\n"
     ]
    }
   ],
   "source": [
    "str1 = 'Venki'\n",
    "\n",
    "print(str1[0])"
   ]
  },
  {
   "cell_type": "code",
   "execution_count": 27,
   "id": "1dea4064",
   "metadata": {},
   "outputs": [
    {
     "name": "stdout",
     "output_type": "stream",
     "text": [
      "k\n"
     ]
    }
   ],
   "source": [
    "print(str1[3])"
   ]
  },
  {
   "cell_type": "code",
   "execution_count": 28,
   "id": "11f47f94",
   "metadata": {},
   "outputs": [
    {
     "name": "stdout",
     "output_type": "stream",
     "text": [
      "4\n"
     ]
    }
   ],
   "source": [
    "print(lst1[-1])"
   ]
  },
  {
   "cell_type": "code",
   "execution_count": 29,
   "id": "3097c143",
   "metadata": {},
   "outputs": [
    {
     "name": "stdout",
     "output_type": "stream",
     "text": [
      "2\n"
     ]
    }
   ],
   "source": [
    "print(lst1[-3])"
   ]
  },
  {
   "cell_type": "code",
   "execution_count": 30,
   "id": "09a1e991",
   "metadata": {},
   "outputs": [
    {
     "name": "stdout",
     "output_type": "stream",
     "text": [
      "i\n"
     ]
    }
   ],
   "source": [
    "print(str1[-1])"
   ]
  },
  {
   "cell_type": "code",
   "execution_count": 31,
   "id": "f37558aa",
   "metadata": {},
   "outputs": [
    {
     "name": "stdout",
     "output_type": "stream",
     "text": [
      "n\n"
     ]
    }
   ],
   "source": [
    "print(str1[-3])"
   ]
  },
  {
   "cell_type": "code",
   "execution_count": 32,
   "id": "9ed0e2fd",
   "metadata": {},
   "outputs": [
    {
     "name": "stdout",
     "output_type": "stream",
     "text": [
      "n\n"
     ]
    }
   ],
   "source": [
    "print(str1[2])"
   ]
  },
  {
   "cell_type": "code",
   "execution_count": null,
   "id": "b6f6beb6",
   "metadata": {},
   "outputs": [],
   "source": [
    "str1 = 'Venki'"
   ]
  },
  {
   "cell_type": "code",
   "execution_count": 34,
   "id": "fcabf058",
   "metadata": {},
   "outputs": [
    {
     "ename": "IndexError",
     "evalue": "string index out of range",
     "output_type": "error",
     "traceback": [
      "\u001b[1;31m---------------------------------------------------------------------------\u001b[0m",
      "\u001b[1;31mIndexError\u001b[0m                                Traceback (most recent call last)",
      "\u001b[1;32m~\\AppData\\Local\\Temp\\ipykernel_1840\\155510393.py\u001b[0m in \u001b[0;36m<module>\u001b[1;34m\u001b[0m\n\u001b[1;32m----> 1\u001b[1;33m \u001b[0mprint\u001b[0m\u001b[1;33m(\u001b[0m\u001b[0mstr1\u001b[0m\u001b[1;33m[\u001b[0m\u001b[1;33m-\u001b[0m\u001b[1;36m6\u001b[0m\u001b[1;33m]\u001b[0m\u001b[1;33m)\u001b[0m\u001b[1;33m\u001b[0m\u001b[1;33m\u001b[0m\u001b[0m\n\u001b[0m",
      "\u001b[1;31mIndexError\u001b[0m: string index out of range"
     ]
    }
   ],
   "source": [
    "print(str1[-6])"
   ]
  },
  {
   "cell_type": "code",
   "execution_count": null,
   "id": "719a1690",
   "metadata": {},
   "outputs": [],
   "source": [
    "# Index assignment"
   ]
  },
  {
   "cell_type": "code",
   "execution_count": 37,
   "id": "0090fec0",
   "metadata": {},
   "outputs": [
    {
     "name": "stdout",
     "output_type": "stream",
     "text": [
      "1366773294400\n"
     ]
    }
   ],
   "source": [
    "lst1 = [1,2,3,4] #Mutable\n",
    "\n",
    "str1 = 'Venki' #Immutable\n",
    "\n",
    "print(id(lst1))\n"
   ]
  },
  {
   "cell_type": "code",
   "execution_count": 38,
   "id": "6764e8ea",
   "metadata": {},
   "outputs": [
    {
     "name": "stdout",
     "output_type": "stream",
     "text": [
      "[11, 2, 3, 4]\n",
      "1366773294400\n"
     ]
    }
   ],
   "source": [
    "lst1[0] = 11\n",
    "\n",
    "print(lst1)\n",
    "print(id(lst1))"
   ]
  },
  {
   "cell_type": "code",
   "execution_count": 36,
   "id": "6d645959",
   "metadata": {},
   "outputs": [
    {
     "ename": "TypeError",
     "evalue": "'str' object does not support item assignment",
     "output_type": "error",
     "traceback": [
      "\u001b[1;31m---------------------------------------------------------------------------\u001b[0m",
      "\u001b[1;31mTypeError\u001b[0m                                 Traceback (most recent call last)",
      "\u001b[1;32m~\\AppData\\Local\\Temp\\ipykernel_1840\\78036924.py\u001b[0m in \u001b[0;36m<module>\u001b[1;34m\u001b[0m\n\u001b[1;32m----> 1\u001b[1;33m \u001b[0mstr1\u001b[0m\u001b[1;33m[\u001b[0m\u001b[1;36m0\u001b[0m\u001b[1;33m]\u001b[0m \u001b[1;33m=\u001b[0m \u001b[1;34m'v'\u001b[0m\u001b[1;33m\u001b[0m\u001b[1;33m\u001b[0m\u001b[0m\n\u001b[0m\u001b[0;32m      2\u001b[0m \u001b[1;33m\u001b[0m\u001b[0m\n\u001b[0;32m      3\u001b[0m \u001b[0mprint\u001b[0m\u001b[1;33m(\u001b[0m\u001b[0mstr1\u001b[0m\u001b[1;33m)\u001b[0m\u001b[1;33m\u001b[0m\u001b[1;33m\u001b[0m\u001b[0m\n",
      "\u001b[1;31mTypeError\u001b[0m: 'str' object does not support item assignment"
     ]
    }
   ],
   "source": [
    "str1[0] = 'v'\n",
    "\n",
    "print(str1)"
   ]
  },
  {
   "cell_type": "code",
   "execution_count": 39,
   "id": "38ff5672",
   "metadata": {},
   "outputs": [
    {
     "name": "stdout",
     "output_type": "stream",
     "text": [
      "[0, 1, 2, 3, 4, 5, 6, 7, 8, 9, 10, 11, 12, 13, 14, 15, 16, 17, 18, 19]\n",
      "Hello There\n"
     ]
    }
   ],
   "source": [
    "# Slicing\n",
    "\n",
    "\n",
    "lst1 = list(range(20))\n",
    "\n",
    "str1 = 'Hello There'\n",
    "\n",
    "print(lst1)\n",
    "print(str1)"
   ]
  },
  {
   "cell_type": "code",
   "execution_count": null,
   "id": "51fb72aa",
   "metadata": {},
   "outputs": [],
   "source": [
    "# Stop index is always exclusive"
   ]
  },
  {
   "cell_type": "code",
   "execution_count": 57,
   "id": "69fdbed5",
   "metadata": {},
   "outputs": [
    {
     "data": {
      "text/plain": [
       "[19, 18, 17, 16, 15, 14, 13, 12, 11, 10, 9, 8, 7, 6, 5, 4, 3, 2, 1, 0]"
      ]
     },
     "execution_count": 57,
     "metadata": {},
     "output_type": "execute_result"
    }
   ],
   "source": [
    "lst1[-1:-21:-1]"
   ]
  },
  {
   "cell_type": "code",
   "execution_count": null,
   "id": "e0ed13e0",
   "metadata": {},
   "outputs": [],
   "source": [
    "# While slicing we can provide 3 parameters\n",
    "\n",
    "# start index - where to start slicing. If left blank, it will start from beginning (or end in case of negative step) of string\n",
    "# stop index - where to end slicing (minus 1 because stop index is exclusive). If left blank, it will stop at end \n",
    "# (or beginning in case of negative step)\n",
    "# step size - OPTIONAL. It defaults to 1 if not provided. "
   ]
  },
  {
   "cell_type": "code",
   "execution_count": null,
   "id": "84d05d0a",
   "metadata": {},
   "outputs": [],
   "source": [
    "# Slice Assignment\n",
    "\n",
    "#String - No assignment\n",
    "# Tuples - No assignment\n",
    "# Dictionaries - Key, Value Pairs (and they do not even support integer subscription)\n",
    "# sets - We can do assignment\n",
    "\n",
    "\n",
    "#lists - Mutable"
   ]
  },
  {
   "cell_type": "code",
   "execution_count": 58,
   "id": "6d693c64",
   "metadata": {},
   "outputs": [
    {
     "name": "stdout",
     "output_type": "stream",
     "text": [
      "[0, 1, 2, 3, 4, 5, 6, 7, 8, 9, 10, 11, 12, 13, 14, 15, 16, 17, 18, 19]\n"
     ]
    }
   ],
   "source": [
    "print(lst1)"
   ]
  },
  {
   "cell_type": "code",
   "execution_count": 59,
   "id": "de5f91a9",
   "metadata": {},
   "outputs": [
    {
     "name": "stdout",
     "output_type": "stream",
     "text": [
      "[100, 1, 2, 3, 4, 5, 6, 7, 8, 9, 10, 11, 12, 13, 14, 15, 16, 17, 18, 19]\n"
     ]
    }
   ],
   "source": [
    "# Length of items being replaced does NOT have to equal length of items replacing them.\n",
    "# The new values being assigned must be an iterable(i.e. derived datatype such as list, tuple or set)\n",
    "\n",
    "lst1[0] = 100\n",
    "\n",
    "print(lst1)"
   ]
  },
  {
   "cell_type": "code",
   "execution_count": 60,
   "id": "bf2f9dfc",
   "metadata": {},
   "outputs": [
    {
     "name": "stdout",
     "output_type": "stream",
     "text": [
      "[100, 200, 300, 400, 500, 5, 6, 7, 8, 9, 10, 11, 12, 13, 14, 15, 16, 17, 18, 19]\n"
     ]
    }
   ],
   "source": [
    "lst1[0:5] = [100,200,300,400,500]\n",
    "\n",
    "print(lst1)"
   ]
  },
  {
   "cell_type": "code",
   "execution_count": 103,
   "id": "75217bf2",
   "metadata": {},
   "outputs": [
    {
     "name": "stdout",
     "output_type": "stream",
     "text": [
      "[0, 1, 2, 3, 4, 5, 6, 7, 8, 9]\n"
     ]
    }
   ],
   "source": [
    "lst1 = list(range(10))\n",
    "\n",
    "print(lst1)"
   ]
  },
  {
   "cell_type": "code",
   "execution_count": 66,
   "id": "8ed6c06e",
   "metadata": {},
   "outputs": [
    {
     "name": "stdout",
     "output_type": "stream",
     "text": [
      "[100, 200, 5, 6, 7, 8, 9]\n"
     ]
    }
   ],
   "source": [
    "lst1[0:5] = [100,200]\n",
    "\n",
    "print(lst1)"
   ]
  },
  {
   "cell_type": "code",
   "execution_count": 107,
   "id": "b72f2d98",
   "metadata": {},
   "outputs": [
    {
     "name": "stdout",
     "output_type": "stream",
     "text": [
      "[\n",
      "1\n",
      ",\n",
      " \n",
      "2\n",
      ",\n",
      " \n",
      "3\n",
      ",\n",
      " \n",
      "4\n",
      "]\n"
     ]
    }
   ],
   "source": [
    "lst1 = [1,2,3,4]\n",
    "\n",
    "str1 = str(lst1)\n",
    "\n",
    "for x in str1:\n",
    "    print(x)"
   ]
  },
  {
   "cell_type": "code",
   "execution_count": null,
   "id": "563f0158",
   "metadata": {},
   "outputs": [],
   "source": [
    "lst2 = [1, 2, 3, 4]\n",
    "\n",
    "str2 "
   ]
  },
  {
   "cell_type": "code",
   "execution_count": 104,
   "id": "b5f9ce3f",
   "metadata": {},
   "outputs": [],
   "source": [
    "lst1[0:5] = [100]"
   ]
  },
  {
   "cell_type": "code",
   "execution_count": 105,
   "id": "d7705a2f",
   "metadata": {},
   "outputs": [
    {
     "name": "stdout",
     "output_type": "stream",
     "text": [
      "[100, 5, 6, 7, 8, 9]\n"
     ]
    }
   ],
   "source": [
    "print(lst1)"
   ]
  },
  {
   "cell_type": "code",
   "execution_count": 114,
   "id": "4dca29b9",
   "metadata": {},
   "outputs": [
    {
     "name": "stdout",
     "output_type": "stream",
     "text": [
      "1\n"
     ]
    }
   ],
   "source": [
    "lst1 = [1,2,3,4,[5,6,7, [11,12,13,14]],8,9,10, 'Rikki', 2+3j, (1,2,3)]\n",
    "\n",
    "print(lst1[-1][0])\n"
   ]
  },
  {
   "cell_type": "code",
   "execution_count": 75,
   "id": "f6801934",
   "metadata": {},
   "outputs": [
    {
     "data": {
      "text/plain": [
       "13"
      ]
     },
     "execution_count": 75,
     "metadata": {},
     "output_type": "execute_result"
    }
   ],
   "source": [
    "lst1[4][3][2]"
   ]
  },
  {
   "cell_type": "code",
   "execution_count": 72,
   "id": "d67e8ab0",
   "metadata": {},
   "outputs": [
    {
     "name": "stdout",
     "output_type": "stream",
     "text": [
      "[6, 7]\n"
     ]
    }
   ],
   "source": [
    "print(lst1[4][1:])"
   ]
  },
  {
   "cell_type": "code",
   "execution_count": 76,
   "id": "869bf864",
   "metadata": {},
   "outputs": [
    {
     "name": "stdout",
     "output_type": "stream",
     "text": [
      "<class 'int'>\n"
     ]
    }
   ],
   "source": [
    "# Typecasting using functions\n",
    "\n",
    "a = 10\n",
    "\n",
    "\n",
    "print(type(10))"
   ]
  },
  {
   "cell_type": "code",
   "execution_count": 77,
   "id": "4acb80b6",
   "metadata": {},
   "outputs": [
    {
     "name": "stdout",
     "output_type": "stream",
     "text": [
      "10.0\n"
     ]
    }
   ],
   "source": [
    "b = float(a)\n",
    "\n",
    "print(b)"
   ]
  },
  {
   "cell_type": "code",
   "execution_count": 78,
   "id": "b54f95e3",
   "metadata": {},
   "outputs": [
    {
     "name": "stdout",
     "output_type": "stream",
     "text": [
      "<class 'float'>\n",
      "10\n",
      "<class 'int'>\n"
     ]
    }
   ],
   "source": [
    "a = 10.0\n",
    "\n",
    "print(type(a))\n",
    "\n",
    "b = int(a)\n",
    "\n",
    "print(b)\n",
    "print(type(b))"
   ]
  },
  {
   "cell_type": "code",
   "execution_count": 80,
   "id": "34088a9b",
   "metadata": {},
   "outputs": [
    {
     "name": "stdout",
     "output_type": "stream",
     "text": [
      "10.0\n",
      "<class 'str'>\n"
     ]
    }
   ],
   "source": [
    "a = 10.0\n",
    "\n",
    "b = str(a)\n",
    "\n",
    "print(b)\n",
    "print(type(b))"
   ]
  },
  {
   "cell_type": "code",
   "execution_count": 81,
   "id": "b948bdc6",
   "metadata": {},
   "outputs": [
    {
     "name": "stdout",
     "output_type": "stream",
     "text": [
      "10\n",
      "<class 'str'>\n"
     ]
    }
   ],
   "source": [
    "a = 10\n",
    "\n",
    "b = str(a)\n",
    "\n",
    "print(b)\n",
    "print(type(b))"
   ]
  },
  {
   "cell_type": "code",
   "execution_count": 82,
   "id": "0a3a22ce",
   "metadata": {},
   "outputs": [
    {
     "name": "stdout",
     "output_type": "stream",
     "text": [
      "[1, 2, 3, 4]\n",
      "<class 'str'>\n"
     ]
    }
   ],
   "source": [
    "lst1 = [1,2,3,4]\n",
    "\n",
    "b = str(lst1)\n",
    "\n",
    "print(b)\n",
    "print(type(b))"
   ]
  },
  {
   "cell_type": "code",
   "execution_count": 83,
   "id": "f0028fbb",
   "metadata": {},
   "outputs": [
    {
     "data": {
      "text/plain": [
       "'['"
      ]
     },
     "execution_count": 83,
     "metadata": {},
     "output_type": "execute_result"
    }
   ],
   "source": [
    "b[0]"
   ]
  },
  {
   "cell_type": "code",
   "execution_count": 84,
   "id": "cf22dbfd",
   "metadata": {},
   "outputs": [
    {
     "data": {
      "text/plain": [
       "'1'"
      ]
     },
     "execution_count": 84,
     "metadata": {},
     "output_type": "execute_result"
    }
   ],
   "source": [
    "b[1]"
   ]
  },
  {
   "cell_type": "code",
   "execution_count": 85,
   "id": "7b65f5fc",
   "metadata": {},
   "outputs": [
    {
     "data": {
      "text/plain": [
       "','"
      ]
     },
     "execution_count": 85,
     "metadata": {},
     "output_type": "execute_result"
    }
   ],
   "source": [
    "b[2]"
   ]
  },
  {
   "cell_type": "code",
   "execution_count": 86,
   "id": "8f1cb63c",
   "metadata": {},
   "outputs": [
    {
     "data": {
      "text/plain": [
       "'2'"
      ]
     },
     "execution_count": 86,
     "metadata": {},
     "output_type": "execute_result"
    }
   ],
   "source": [
    "b[4]"
   ]
  },
  {
   "cell_type": "code",
   "execution_count": 87,
   "id": "505ea36a",
   "metadata": {},
   "outputs": [
    {
     "data": {
      "text/plain": [
       "']'"
      ]
     },
     "execution_count": 87,
     "metadata": {},
     "output_type": "execute_result"
    }
   ],
   "source": [
    "b[-1]"
   ]
  },
  {
   "cell_type": "code",
   "execution_count": 88,
   "id": "6c107679",
   "metadata": {},
   "outputs": [
    {
     "ename": "TypeError",
     "evalue": "int() argument must be a string, a bytes-like object or a number, not 'list'",
     "output_type": "error",
     "traceback": [
      "\u001b[1;31m---------------------------------------------------------------------------\u001b[0m",
      "\u001b[1;31mTypeError\u001b[0m                                 Traceback (most recent call last)",
      "\u001b[1;32m~\\AppData\\Local\\Temp\\ipykernel_1840\\111886939.py\u001b[0m in \u001b[0;36m<module>\u001b[1;34m\u001b[0m\n\u001b[1;32m----> 1\u001b[1;33m \u001b[0mx\u001b[0m \u001b[1;33m=\u001b[0m \u001b[0mint\u001b[0m\u001b[1;33m(\u001b[0m\u001b[0mlst1\u001b[0m\u001b[1;33m)\u001b[0m\u001b[1;33m\u001b[0m\u001b[1;33m\u001b[0m\u001b[0m\n\u001b[0m",
      "\u001b[1;31mTypeError\u001b[0m: int() argument must be a string, a bytes-like object or a number, not 'list'"
     ]
    }
   ],
   "source": [
    "x = int(lst1)"
   ]
  },
  {
   "cell_type": "code",
   "execution_count": 89,
   "id": "7273fed1",
   "metadata": {},
   "outputs": [
    {
     "name": "stdout",
     "output_type": "stream",
     "text": [
      "(2+3j)\n"
     ]
    }
   ],
   "source": [
    "y = complex(2,3)\n",
    "\n",
    "print(y)"
   ]
  },
  {
   "cell_type": "code",
   "execution_count": 90,
   "id": "e1cd648b",
   "metadata": {},
   "outputs": [
    {
     "name": "stdout",
     "output_type": "stream",
     "text": [
      "(1, 2, 3, 4)\n",
      "<class 'tuple'>\n"
     ]
    }
   ],
   "source": [
    "lst1 = [1,2,3,4]\n",
    "\n",
    "tup1 = tuple(lst1)\n",
    "\n",
    "print(tup1)\n",
    "print(type(tup1))\n"
   ]
  },
  {
   "cell_type": "code",
   "execution_count": 91,
   "id": "6bf3259f",
   "metadata": {},
   "outputs": [],
   "source": [
    "tup1 = (100,200,300)\n",
    "\n",
    "lst1 = list(tup1)"
   ]
  },
  {
   "cell_type": "code",
   "execution_count": 92,
   "id": "fb862198",
   "metadata": {},
   "outputs": [
    {
     "name": "stdout",
     "output_type": "stream",
     "text": [
      "[100, 200, 300]\n"
     ]
    }
   ],
   "source": [
    "print(lst1)"
   ]
  },
  {
   "cell_type": "code",
   "execution_count": null,
   "id": "4733f8fa",
   "metadata": {},
   "outputs": [],
   "source": [
    "str1 = 'Venki'"
   ]
  },
  {
   "cell_type": "code",
   "execution_count": null,
   "id": "724cbd4b",
   "metadata": {},
   "outputs": [],
   "source": [
    "# An iterable is an object that can be iterated over. \n",
    "\n",
    "# for <temp_var> in <iterable>:\n"
   ]
  },
  {
   "cell_type": "code",
   "execution_count": 93,
   "id": "62d86ebb",
   "metadata": {},
   "outputs": [
    {
     "name": "stdout",
     "output_type": "stream",
     "text": [
      "100\n",
      "200\n",
      "300\n",
      "400\n"
     ]
    }
   ],
   "source": [
    "lst1 = [100,200,300,400]\n",
    "\n",
    "for x in lst1:\n",
    "    print(x)"
   ]
  },
  {
   "cell_type": "code",
   "execution_count": 94,
   "id": "e62c51f1",
   "metadata": {},
   "outputs": [
    {
     "name": "stdout",
     "output_type": "stream",
     "text": [
      "A\n",
      "B\n",
      "C\n",
      "D\n",
      "E\n"
     ]
    }
   ],
   "source": [
    "str1 = 'ABCDE'\n",
    "\n",
    "for x in str1:\n",
    "    print(x)"
   ]
  },
  {
   "cell_type": "code",
   "execution_count": 95,
   "id": "76e18df9",
   "metadata": {},
   "outputs": [
    {
     "name": "stdout",
     "output_type": "stream",
     "text": [
      "1000\n",
      "2000\n",
      "3000\n",
      "4000\n"
     ]
    }
   ],
   "source": [
    "tup1 = (1000,2000,3000,4000)\n",
    "\n",
    "\n",
    "for x in tup1:\n",
    "    print(x)"
   ]
  },
  {
   "cell_type": "code",
   "execution_count": 96,
   "id": "0d4d710e",
   "metadata": {},
   "outputs": [
    {
     "ename": "TypeError",
     "evalue": "'int' object is not iterable",
     "output_type": "error",
     "traceback": [
      "\u001b[1;31m---------------------------------------------------------------------------\u001b[0m",
      "\u001b[1;31mTypeError\u001b[0m                                 Traceback (most recent call last)",
      "\u001b[1;32m~\\AppData\\Local\\Temp\\ipykernel_1840\\156776494.py\u001b[0m in \u001b[0;36m<module>\u001b[1;34m\u001b[0m\n\u001b[0;32m      1\u001b[0m \u001b[0mnum\u001b[0m \u001b[1;33m=\u001b[0m \u001b[1;36m10\u001b[0m\u001b[1;33m\u001b[0m\u001b[1;33m\u001b[0m\u001b[0m\n\u001b[0;32m      2\u001b[0m \u001b[1;33m\u001b[0m\u001b[0m\n\u001b[1;32m----> 3\u001b[1;33m \u001b[1;32mfor\u001b[0m \u001b[0mx\u001b[0m \u001b[1;32min\u001b[0m \u001b[0mnum\u001b[0m\u001b[1;33m:\u001b[0m\u001b[1;33m\u001b[0m\u001b[1;33m\u001b[0m\u001b[0m\n\u001b[0m\u001b[0;32m      4\u001b[0m     \u001b[0mprint\u001b[0m\u001b[1;33m(\u001b[0m\u001b[0mx\u001b[0m\u001b[1;33m)\u001b[0m\u001b[1;33m\u001b[0m\u001b[1;33m\u001b[0m\u001b[0m\n",
      "\u001b[1;31mTypeError\u001b[0m: 'int' object is not iterable"
     ]
    }
   ],
   "source": [
    "num = 10\n",
    "\n",
    "for x in num:\n",
    "    print(x)"
   ]
  },
  {
   "cell_type": "code",
   "execution_count": 97,
   "id": "fde66157",
   "metadata": {},
   "outputs": [
    {
     "ename": "TypeError",
     "evalue": "'float' object is not iterable",
     "output_type": "error",
     "traceback": [
      "\u001b[1;31m---------------------------------------------------------------------------\u001b[0m",
      "\u001b[1;31mTypeError\u001b[0m                                 Traceback (most recent call last)",
      "\u001b[1;32m~\\AppData\\Local\\Temp\\ipykernel_1840\\4235371658.py\u001b[0m in \u001b[0;36m<module>\u001b[1;34m\u001b[0m\n\u001b[0;32m      1\u001b[0m \u001b[0mfloat1\u001b[0m \u001b[1;33m=\u001b[0m \u001b[1;36m10.0\u001b[0m\u001b[1;33m\u001b[0m\u001b[1;33m\u001b[0m\u001b[0m\n\u001b[0;32m      2\u001b[0m \u001b[1;33m\u001b[0m\u001b[0m\n\u001b[1;32m----> 3\u001b[1;33m \u001b[1;32mfor\u001b[0m \u001b[0mx\u001b[0m \u001b[1;32min\u001b[0m \u001b[0mfloat1\u001b[0m\u001b[1;33m:\u001b[0m\u001b[1;33m\u001b[0m\u001b[1;33m\u001b[0m\u001b[0m\n\u001b[0m\u001b[0;32m      4\u001b[0m     \u001b[0mprint\u001b[0m\u001b[1;33m(\u001b[0m\u001b[0mx\u001b[0m\u001b[1;33m)\u001b[0m\u001b[1;33m\u001b[0m\u001b[1;33m\u001b[0m\u001b[0m\n",
      "\u001b[1;31mTypeError\u001b[0m: 'float' object is not iterable"
     ]
    }
   ],
   "source": [
    "float1 = 10.0\n",
    "\n",
    "for x in float1:\n",
    "    print(x)"
   ]
  },
  {
   "cell_type": "code",
   "execution_count": null,
   "id": "09cfe396",
   "metadata": {},
   "outputs": [],
   "source": [
    "noneobj = None\n",
    "\n",
    "true = True\n",
    "false = False"
   ]
  },
  {
   "cell_type": "code",
   "execution_count": 99,
   "id": "77bac250",
   "metadata": {},
   "outputs": [
    {
     "name": "stdout",
     "output_type": "stream",
     "text": [
      "False\n",
      "<class 'bool'>\n"
     ]
    }
   ],
   "source": [
    "a = bool(0)\n",
    "\n",
    "print(a)\n",
    "print(type(a))"
   ]
  },
  {
   "cell_type": "code",
   "execution_count": 102,
   "id": "fbcf921d",
   "metadata": {},
   "outputs": [
    {
     "name": "stdout",
     "output_type": "stream",
     "text": [
      "0\n"
     ]
    }
   ],
   "source": [
    "b = int(False)\n",
    "\n",
    "print(b)"
   ]
  },
  {
   "cell_type": "code",
   "execution_count": 1,
   "id": "1d9e92e2",
   "metadata": {},
   "outputs": [
    {
     "name": "stdout",
     "output_type": "stream",
     "text": [
      "[0, 1, 2, 3, 4, 5, 6, 7, 8, 9, 10, 11, 12, 13, 14, 15, 16, 17, 18, 19]\n"
     ]
    }
   ],
   "source": [
    "lst = list(range(20))\n",
    "\n",
    "print(lst)"
   ]
  },
  {
   "cell_type": "code",
   "execution_count": 2,
   "id": "2407bad3",
   "metadata": {},
   "outputs": [
    {
     "name": "stdout",
     "output_type": "stream",
     "text": [
      "[0, 1, 2, 3, 4, 5, 6, 7, 8, 9, 10, 11, 12, 13, 14, 15, 16, 17, 18, 19]\n"
     ]
    }
   ],
   "source": [
    "print(lst[0:20])"
   ]
  },
  {
   "cell_type": "code",
   "execution_count": 3,
   "id": "cedffab2",
   "metadata": {},
   "outputs": [
    {
     "name": "stdout",
     "output_type": "stream",
     "text": [
      "[19, 17, 15, 13, 11, 9, 7]\n"
     ]
    }
   ],
   "source": [
    "print(lst[-1:6:-2])"
   ]
  },
  {
   "cell_type": "code",
   "execution_count": null,
   "id": "eb48b070",
   "metadata": {},
   "outputs": [],
   "source": []
  },
  {
   "cell_type": "code",
   "execution_count": null,
   "id": "f8f65735",
   "metadata": {},
   "outputs": [],
   "source": [
    "# String Concatenation\n",
    "# list.append()\n",
    "# len function\n",
    "# print()"
   ]
  },
  {
   "cell_type": "code",
   "execution_count": 5,
   "id": "7a863456",
   "metadata": {},
   "outputs": [
    {
     "name": "stdout",
     "output_type": "stream",
     "text": [
      "April 24th\n"
     ]
    }
   ],
   "source": [
    "# String concatenation\n",
    "\n",
    "print('April' + ' 24th')"
   ]
  },
  {
   "cell_type": "code",
   "execution_count": 21,
   "id": "c9402a92",
   "metadata": {},
   "outputs": [
    {
     "name": "stdout",
     "output_type": "stream",
     "text": [
      "[100, 200, 300, 400]\n",
      "1788290467392\n"
     ]
    }
   ],
   "source": [
    "lst1 = [100,200,300,400]\n",
    "\n",
    "print(lst1)\n",
    "print(id(lst1))"
   ]
  },
  {
   "cell_type": "code",
   "execution_count": 25,
   "id": "0ff121c4",
   "metadata": {},
   "outputs": [
    {
     "name": "stdout",
     "output_type": "stream",
     "text": [
      "[100, 200, 300, 400, [500, 600], [500, 600], [500, 600], [500, 600]]\n",
      "1788290467392\n"
     ]
    }
   ],
   "source": [
    "lst1.append([500,600])\n",
    "\n",
    "print(lst1)\n",
    "print(id(lst1))"
   ]
  },
  {
   "cell_type": "code",
   "execution_count": 15,
   "id": "a7e51026",
   "metadata": {},
   "outputs": [
    {
     "ename": "NameError",
     "evalue": "name 'lst2' is not defined",
     "output_type": "error",
     "traceback": [
      "\u001b[1;31m---------------------------------------------------------------------------\u001b[0m",
      "\u001b[1;31mNameError\u001b[0m                                 Traceback (most recent call last)",
      "\u001b[1;32m~\\AppData\\Local\\Temp\\ipykernel_15740\\541503566.py\u001b[0m in \u001b[0;36m<module>\u001b[1;34m\u001b[0m\n\u001b[1;32m----> 1\u001b[1;33m \u001b[0mlst2\u001b[0m\u001b[1;33m.\u001b[0m\u001b[0mappend\u001b[0m\u001b[1;33m(\u001b[0m\u001b[1;36m100\u001b[0m\u001b[1;33m)\u001b[0m\u001b[1;33m\u001b[0m\u001b[1;33m\u001b[0m\u001b[0m\n\u001b[0m",
      "\u001b[1;31mNameError\u001b[0m: name 'lst2' is not defined"
     ]
    }
   ],
   "source": [
    "lst2.append(100)"
   ]
  },
  {
   "cell_type": "code",
   "execution_count": null,
   "id": "fef11776",
   "metadata": {},
   "outputs": [],
   "source": [
    "# -5 to 256\n",
    "# ascii\n",
    "# None\n",
    "# True and False"
   ]
  },
  {
   "cell_type": "code",
   "execution_count": 16,
   "id": "2b9de137",
   "metadata": {},
   "outputs": [
    {
     "name": "stdout",
     "output_type": "stream",
     "text": [
      "140717202193624\n",
      "140717202193624\n"
     ]
    }
   ],
   "source": [
    "print(id(a))\n",
    "print(id(None))"
   ]
  },
  {
   "cell_type": "code",
   "execution_count": 29,
   "id": "159878ed",
   "metadata": {},
   "outputs": [
    {
     "name": "stdout",
     "output_type": "stream",
     "text": [
      "[0, 2, 4, 6, 8, 10, 12, 14, 16, 18, 20, 22, 24, 26, 28, 30, 32, 34, 36, 38, 40, 42, 44, 46, 48, 50, 52, 54, 56, 58, 60, 62, 64, 66, 68, 70, 72, 74, 76, 78, 80, 82, 84, 86, 88, 90, 92, 94, 96, 98]\n"
     ]
    }
   ],
   "source": [
    "lst1 = list(range(0,100,2))\n",
    "\n",
    "print(lst1)"
   ]
  },
  {
   "cell_type": "code",
   "execution_count": 30,
   "id": "b83ee000",
   "metadata": {},
   "outputs": [
    {
     "name": "stdout",
     "output_type": "stream",
     "text": [
      "50\n"
     ]
    }
   ],
   "source": [
    "print(len(lst1))"
   ]
  },
  {
   "cell_type": "code",
   "execution_count": 31,
   "id": "072cc99e",
   "metadata": {},
   "outputs": [
    {
     "name": "stdout",
     "output_type": "stream",
     "text": [
      "16\n"
     ]
    }
   ],
   "source": [
    "print(len('April 24th Batch'))"
   ]
  },
  {
   "cell_type": "code",
   "execution_count": 32,
   "id": "01e1fa8a",
   "metadata": {},
   "outputs": [
    {
     "ename": "TypeError",
     "evalue": "object of type 'int' has no len()",
     "output_type": "error",
     "traceback": [
      "\u001b[1;31m---------------------------------------------------------------------------\u001b[0m",
      "\u001b[1;31mTypeError\u001b[0m                                 Traceback (most recent call last)",
      "\u001b[1;32m~\\AppData\\Local\\Temp\\ipykernel_15740\\1762305765.py\u001b[0m in \u001b[0;36m<module>\u001b[1;34m\u001b[0m\n\u001b[1;32m----> 1\u001b[1;33m \u001b[0mprint\u001b[0m\u001b[1;33m(\u001b[0m\u001b[0mlen\u001b[0m\u001b[1;33m(\u001b[0m\u001b[1;36m10\u001b[0m\u001b[1;33m)\u001b[0m\u001b[1;33m)\u001b[0m\u001b[1;33m\u001b[0m\u001b[1;33m\u001b[0m\u001b[0m\n\u001b[0m",
      "\u001b[1;31mTypeError\u001b[0m: object of type 'int' has no len()"
     ]
    }
   ],
   "source": [
    "print(len(10))"
   ]
  },
  {
   "cell_type": "code",
   "execution_count": 33,
   "id": "352d56db",
   "metadata": {},
   "outputs": [
    {
     "name": "stdout",
     "output_type": "stream",
     "text": [
      "Rikki\n"
     ]
    }
   ],
   "source": [
    "print('Rikki')"
   ]
  },
  {
   "cell_type": "code",
   "execution_count": 43,
   "id": "95cc2b66",
   "metadata": {},
   "outputs": [
    {
     "name": "stdout",
     "output_type": "stream",
     "text": [
      "Rikki\n",
      " S\n",
      " Learnbay\n",
      " Dharan\n",
      " Venkatesh\n",
      " 10\n",
      " [100, 200]\n",
      "Hello there\n"
     ]
    }
   ],
   "source": [
    "print('Rikki', 'S', 'Learnbay', 'Dharan', 'Venkatesh', 10, [100,200], sep = '\\n ', end = '\\n')\n",
    "print('Hello there')"
   ]
  },
  {
   "cell_type": "code",
   "execution_count": 45,
   "id": "939e285e",
   "metadata": {},
   "outputs": [
    {
     "name": "stdout",
     "output_type": "stream",
     "text": [
      "range(1, 20)\n",
      "<class 'range'>\n"
     ]
    }
   ],
   "source": [
    "# range object\n",
    "\n",
    "range1 = range(1,20,1)\n",
    "\n",
    "print(range1)\n",
    "print(type(range1))"
   ]
  },
  {
   "cell_type": "code",
   "execution_count": 46,
   "id": "ae5f3b81",
   "metadata": {},
   "outputs": [
    {
     "name": "stdout",
     "output_type": "stream",
     "text": [
      "[1, 2, 3, 4, 5, 6, 7, 8, 9, 10, 11, 12, 13, 14, 15, 16, 17, 18, 19]\n"
     ]
    }
   ],
   "source": [
    "range2 = list(range1)\n",
    "\n",
    "print(range2)"
   ]
  },
  {
   "cell_type": "code",
   "execution_count": 47,
   "id": "b7a6b04a",
   "metadata": {},
   "outputs": [
    {
     "name": "stdout",
     "output_type": "stream",
     "text": [
      "1\n"
     ]
    }
   ],
   "source": [
    "print(range1[0])"
   ]
  },
  {
   "cell_type": "code",
   "execution_count": 49,
   "id": "79da27c5",
   "metadata": {},
   "outputs": [
    {
     "name": "stdout",
     "output_type": "stream",
     "text": [
      "<class 'int'>\n"
     ]
    }
   ],
   "source": [
    "print(type(range1[0]))"
   ]
  },
  {
   "cell_type": "code",
   "execution_count": null,
   "id": "44933a56",
   "metadata": {},
   "outputs": [],
   "source": [
    "# Range takes 3 parameters\n",
    "\n",
    "# Start - Optional - Where we want to start our range object from. Defaults to 0 if not provided\n",
    "# Stop - Mandatory - Where to stop our range object. EXCLUSIVE\n",
    "# Step - Optional - If not provided defaults to 1. \n",
    "\n",
    "\n",
    "# Range can only take integer type as its parameters."
   ]
  },
  {
   "cell_type": "code",
   "execution_count": 50,
   "id": "c857633b",
   "metadata": {},
   "outputs": [
    {
     "name": "stdout",
     "output_type": "stream",
     "text": [
      "[0, 1, 2, 3, 4, 5, 6, 7, 8, 9, 10, 11, 12, 13, 14, 15, 16, 17, 18, 19]\n"
     ]
    }
   ],
   "source": [
    "range1 = list(range(0,20,1))\n",
    "\n",
    "print(range1)"
   ]
  },
  {
   "cell_type": "code",
   "execution_count": 51,
   "id": "4735c93d",
   "metadata": {},
   "outputs": [
    {
     "name": "stdout",
     "output_type": "stream",
     "text": [
      "[10, 11, 12, 13, 14, 15, 16, 17, 18, 19]\n"
     ]
    }
   ],
   "source": [
    "range2 = list(range(10,20,1))\n",
    "print(range2)"
   ]
  },
  {
   "cell_type": "code",
   "execution_count": 52,
   "id": "a9c6f7c4",
   "metadata": {},
   "outputs": [
    {
     "name": "stdout",
     "output_type": "stream",
     "text": [
      "[10, 12, 14, 16, 18]\n"
     ]
    }
   ],
   "source": [
    "range3 = list(range(11,20,2))\n",
    "\n",
    "print(range3)"
   ]
  },
  {
   "cell_type": "code",
   "execution_count": 53,
   "id": "51689e03",
   "metadata": {},
   "outputs": [
    {
     "name": "stdout",
     "output_type": "stream",
     "text": [
      "[10, 11, 12, 13, 14, 15, 16, 17, 18, 19]\n"
     ]
    }
   ],
   "source": [
    "range4 = list(range(10,20))\n",
    "\n",
    "print(range4)"
   ]
  },
  {
   "cell_type": "code",
   "execution_count": 55,
   "id": "763b10f2",
   "metadata": {},
   "outputs": [
    {
     "name": "stdout",
     "output_type": "stream",
     "text": [
      "[0, 1, 2, 3, 4, 5, 6, 7, 8, 9]\n"
     ]
    }
   ],
   "source": [
    "range5 = list(range(10))\n",
    "print(range5)"
   ]
  },
  {
   "cell_type": "code",
   "execution_count": 57,
   "id": "a5178ef0",
   "metadata": {},
   "outputs": [
    {
     "name": "stdout",
     "output_type": "stream",
     "text": [
      "[20, 19, 18, 17, 16, 15, 14, 13, 12, 11]\n"
     ]
    }
   ],
   "source": [
    "range6 = list(range(20,10,-1))\n",
    "print(range6)"
   ]
  },
  {
   "cell_type": "code",
   "execution_count": 58,
   "id": "6cae1de6",
   "metadata": {},
   "outputs": [
    {
     "name": "stdout",
     "output_type": "stream",
     "text": [
      "<class 'list'>\n",
      "<class 'range'>\n"
     ]
    }
   ],
   "source": [
    "range7 = range(20,10,-1)\n",
    "\n",
    "print(type(range6))\n",
    "print(type(range7))"
   ]
  },
  {
   "cell_type": "code",
   "execution_count": 59,
   "id": "917f5a95",
   "metadata": {},
   "outputs": [
    {
     "name": "stdout",
     "output_type": "stream",
     "text": [
      "[20, 19, 18, 17, 16, 15, 14, 13, 12, 11, 100]\n"
     ]
    }
   ],
   "source": [
    "range6.append(100)\n",
    "\n",
    "print(range6)"
   ]
  },
  {
   "cell_type": "code",
   "execution_count": 60,
   "id": "ce62f0e2",
   "metadata": {},
   "outputs": [
    {
     "ename": "AttributeError",
     "evalue": "'range' object has no attribute 'append'",
     "output_type": "error",
     "traceback": [
      "\u001b[1;31m---------------------------------------------------------------------------\u001b[0m",
      "\u001b[1;31mAttributeError\u001b[0m                            Traceback (most recent call last)",
      "\u001b[1;32m~\\AppData\\Local\\Temp\\ipykernel_15740\\532260014.py\u001b[0m in \u001b[0;36m<module>\u001b[1;34m\u001b[0m\n\u001b[1;32m----> 1\u001b[1;33m \u001b[0mrange7\u001b[0m\u001b[1;33m.\u001b[0m\u001b[0mappend\u001b[0m\u001b[1;33m(\u001b[0m\u001b[1;36m100\u001b[0m\u001b[1;33m)\u001b[0m\u001b[1;33m\u001b[0m\u001b[1;33m\u001b[0m\u001b[0m\n\u001b[0m",
      "\u001b[1;31mAttributeError\u001b[0m: 'range' object has no attribute 'append'"
     ]
    }
   ],
   "source": [
    "range7.append(100)"
   ]
  },
  {
   "cell_type": "code",
   "execution_count": 61,
   "id": "aeb66a52",
   "metadata": {},
   "outputs": [
    {
     "name": "stdout",
     "output_type": "stream",
     "text": [
      "[20, 19, 18, 17, 16, 15, 14, 13, 12, 11, 100, [0, 1, 2, 3, 4, 5, 6, 7, 8, 9]]\n"
     ]
    }
   ],
   "source": [
    "range6.append(range5)\n",
    "\n",
    "\n",
    "print(range6)"
   ]
  },
  {
   "cell_type": "code",
   "execution_count": null,
   "id": "a2cc9a74",
   "metadata": {},
   "outputs": [],
   "source": [
    "# For loop is to iterate over an iterable"
   ]
  },
  {
   "cell_type": "code",
   "execution_count": null,
   "id": "b180e402",
   "metadata": {},
   "outputs": [],
   "source": [
    "# for <temp_var> in iterable:\n",
    "#       code to be repeated for each value of temp_var\n",
    "#       1\n",
    "#       2"
   ]
  },
  {
   "cell_type": "code",
   "execution_count": 62,
   "id": "8b65e3de",
   "metadata": {},
   "outputs": [
    {
     "name": "stdout",
     "output_type": "stream",
     "text": [
      "7\n"
     ]
    }
   ],
   "source": [
    "lst1 = [12, 72, 32, 41, 17, 19, 33]\n",
    "\n",
    "print(len(lst1))"
   ]
  },
  {
   "cell_type": "code",
   "execution_count": 65,
   "id": "9d698fc6",
   "metadata": {},
   "outputs": [
    {
     "name": "stdout",
     "output_type": "stream",
     "text": [
      "0\n",
      "1\n",
      "2\n",
      "3\n",
      "4\n",
      "5\n",
      "6\n"
     ]
    }
   ],
   "source": [
    "for x in range(7):\n",
    "    print(x)"
   ]
  },
  {
   "cell_type": "code",
   "execution_count": null,
   "id": "2db26c67",
   "metadata": {},
   "outputs": [],
   "source": [
    "print(len(lst1))"
   ]
  },
  {
   "cell_type": "code",
   "execution_count": 67,
   "id": "df19705e",
   "metadata": {},
   "outputs": [
    {
     "name": "stdout",
     "output_type": "stream",
     "text": [
      "[12, 72, 32, 41, 17, 19, 33]\n",
      "<class 'list'>\n"
     ]
    }
   ],
   "source": [
    "print(lst1)\n",
    "print(type(lst1))"
   ]
  },
  {
   "cell_type": "code",
   "execution_count": 64,
   "id": "57f595e9",
   "metadata": {},
   "outputs": [
    {
     "name": "stdout",
     "output_type": "stream",
     "text": [
      "0\n",
      "1\n",
      "2\n",
      "3\n",
      "4\n",
      "5\n",
      "6\n"
     ]
    }
   ],
   "source": [
    "for x in range(len(lst1)):\n",
    "    print(x)"
   ]
  },
  {
   "cell_type": "code",
   "execution_count": null,
   "id": "955f165a",
   "metadata": {},
   "outputs": [],
   "source": [
    "# One of the most common uses of range function is to get the index numbers of an iterable. We can use it as a proxy for\n",
    "# index numbers. \n",
    "\n",
    "# However, that is NOT its only use. It is just programming logic we are using to get index numbers. \n",
    "\n",
    "# If anyone tells me in class that use of range object is to get index numbers - I  will be deducting  10 marks from  your \n",
    "# test scores. "
   ]
  },
  {
   "cell_type": "code",
   "execution_count": 66,
   "id": "61b09f3f",
   "metadata": {},
   "outputs": [
    {
     "name": "stdout",
     "output_type": "stream",
     "text": [
      "[12, 72, 32, 41, 17, 19, 33]\n"
     ]
    }
   ],
   "source": [
    "print(lst1)"
   ]
  },
  {
   "cell_type": "code",
   "execution_count": null,
   "id": "34c9800c",
   "metadata": {},
   "outputs": [],
   "source": []
  },
  {
   "cell_type": "code",
   "execution_count": 69,
   "id": "490591d3",
   "metadata": {},
   "outputs": [],
   "source": [
    "# Print each of the elements in lst1 after adding 4. \n",
    "\n",
    "lst1 = [12, 72, 32, 41, 17, 19, 33]"
   ]
  },
  {
   "cell_type": "code",
   "execution_count": 70,
   "id": "28eee69d",
   "metadata": {},
   "outputs": [
    {
     "name": "stdout",
     "output_type": "stream",
     "text": [
      "16\n",
      "76\n",
      "36\n",
      "45\n",
      "21\n",
      "23\n",
      "37\n"
     ]
    }
   ],
   "source": [
    "for x in lst1:\n",
    "    print(x+4)"
   ]
  },
  {
   "cell_type": "code",
   "execution_count": null,
   "id": "78fee8a3",
   "metadata": {},
   "outputs": [],
   "source": []
  },
  {
   "cell_type": "code",
   "execution_count": 71,
   "id": "60488538",
   "metadata": {},
   "outputs": [
    {
     "name": "stdout",
     "output_type": "stream",
     "text": [
      "[12, 72, 32, 41, 17, 19, 33]\n",
      "[16, 76, 36, 45, 21, 23, 37]\n"
     ]
    }
   ],
   "source": [
    "# Make a new list with numbers from lst1 but add 4 to each number before putting in new list. \n",
    "\n",
    "lst2 = []\n",
    "\n",
    "for x in lst1:\n",
    "    lst2.append(x+4)\n",
    "    \n",
    "    \n",
    "print(lst1)\n",
    "print(lst2)"
   ]
  },
  {
   "cell_type": "code",
   "execution_count": 72,
   "id": "b71e8564",
   "metadata": {},
   "outputs": [
    {
     "name": "stdout",
     "output_type": "stream",
     "text": [
      "[16, 76, 36, 45, 21, 23, 37]\n"
     ]
    }
   ],
   "source": [
    "# Add 4 to each element of lst1 WITHOUT creating a new list or changing lst1s memory ID. \n",
    "# Hint - Here you will need range object and index assignment\n",
    "\n",
    "\n",
    "lst1 = [12, 72, 32, 41, 17, 19, 33]\n",
    "\n",
    "for x in range(len(lst1)):\n",
    "    lst1[x] = lst1[x]+4\n",
    "\n",
    "    \n",
    "print(lst1)\n"
   ]
  },
  {
   "cell_type": "code",
   "execution_count": 103,
   "id": "2976f291",
   "metadata": {},
   "outputs": [],
   "source": [
    "# Print strings concatenating 1st element from str1 with 1st element from str2 then 2nd element str1 and str2 then 3rd\n",
    "# element and so on...\n",
    "\n",
    "# bh\n",
    "# lo\n",
    "# ar\n",
    "# cs\n",
    "# ke\n",
    "\n",
    "str1 = 'black'\n",
    "str2 = 'horse'\n",
    "\n"
   ]
  },
  {
   "cell_type": "code",
   "execution_count": 92,
   "id": "850aea65",
   "metadata": {},
   "outputs": [
    {
     "name": "stdout",
     "output_type": "stream",
     "text": [
      "bh\n",
      "lo\n",
      "ar\n",
      "cs\n",
      "ke\n"
     ]
    }
   ],
   "source": [
    "for x in range(len(str1)):\n",
    "    print(str1[x]+str2[x])"
   ]
  },
  {
   "cell_type": "code",
   "execution_count": 101,
   "id": "2dd855ec",
   "metadata": {},
   "outputs": [
    {
     "name": "stdout",
     "output_type": "stream",
     "text": [
      "ar\n"
     ]
    }
   ],
   "source": [
    "print(str1[2]+str2[2])"
   ]
  },
  {
   "cell_type": "code",
   "execution_count": 104,
   "id": "885b3c1e",
   "metadata": {},
   "outputs": [
    {
     "name": "stdout",
     "output_type": "stream",
     "text": [
      "black\n",
      "horse\n"
     ]
    }
   ],
   "source": [
    "print(str1)\n",
    "print(str2)"
   ]
  },
  {
   "cell_type": "code",
   "execution_count": 94,
   "id": "7f532829",
   "metadata": {},
   "outputs": [
    {
     "name": "stdout",
     "output_type": "stream",
     "text": [
      "ke\n",
      "cs\n",
      "ar\n",
      "lo\n",
      "bh\n"
     ]
    }
   ],
   "source": [
    "for x in range(-1,-(len(str1)+1),-1):\n",
    "    print(str1[x]+str2[x])"
   ]
  },
  {
   "cell_type": "code",
   "execution_count": 99,
   "id": "b731b7aa",
   "metadata": {},
   "outputs": [
    {
     "name": "stdout",
     "output_type": "stream",
     "text": [
      "blacked\n",
      "horse\n"
     ]
    }
   ],
   "source": [
    "print(str1)\n",
    "print(str2)"
   ]
  },
  {
   "cell_type": "code",
   "execution_count": 98,
   "id": "15d599e5",
   "metadata": {},
   "outputs": [
    {
     "name": "stdout",
     "output_type": "stream",
     "text": [
      "bh\n",
      "lo\n",
      "ar\n",
      "cs\n",
      "ke\n",
      "e*\n",
      "d*\n"
     ]
    }
   ],
   "source": [
    "for x in range(len(str1)):\n",
    "    if x >= len(str2):\n",
    "        print(str1[x]+'*')\n",
    "    else:\n",
    "        print(str1[x]+str2[x])\n",
    "    "
   ]
  },
  {
   "cell_type": "code",
   "execution_count": null,
   "id": "e45afd11",
   "metadata": {},
   "outputs": [],
   "source": []
  }
 ],
 "metadata": {
  "kernelspec": {
   "display_name": "Python 3 (ipykernel)",
   "language": "python",
   "name": "python3"
  },
  "language_info": {
   "codemirror_mode": {
    "name": "ipython",
    "version": 3
   },
   "file_extension": ".py",
   "mimetype": "text/x-python",
   "name": "python",
   "nbconvert_exporter": "python",
   "pygments_lexer": "ipython3",
   "version": "3.9.13"
  }
 },
 "nbformat": 4,
 "nbformat_minor": 5
}
