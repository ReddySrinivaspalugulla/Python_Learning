{
 "cells": [
  {
   "cell_type": "markdown",
   "id": "92bc95b1",
   "metadata": {},
   "source": [
    "# An introduction to Python"
   ]
  },
  {
   "cell_type": "code",
   "execution_count": null,
   "id": "93b11587",
   "metadata": {},
   "outputs": [],
   "source": [
    "# What is Python?\n",
    "# What are its features - and the advantages of these features."
   ]
  },
  {
   "cell_type": "code",
   "execution_count": null,
   "id": "6a8ff762",
   "metadata": {},
   "outputs": [],
   "source": [
    "# What is a language?"
   ]
  },
  {
   "cell_type": "code",
   "execution_count": null,
   "id": "05c0e729",
   "metadata": {},
   "outputs": [],
   "source": [
    "# What is a programming language? A means to communicate our information and instructions to a computer. \n",
    "\n",
    "# Computers only understand on / off signals. Electrical signals. This we do in binary - 0s and 1s\n",
    "\n",
    "\n",
    "# Languages are broadly classified into low level and high level languages\n",
    "\n",
    "# Low Level Language\n",
    "\n",
    "# Assembly language and Machine Language\n",
    "# It is very difficult to write and decipher.\n",
    "\n",
    "# High Level Languages - use a translator to convert our written program to instructions to the computer - which is called \n",
    "# byte code\n",
    "\n",
    "# Java, javascript, c, c++, html, Python, Ruby, R etc etc etc\n",
    "\n",
    "# Python Virtual Machine - translating the code that we are writing to assembly+machine language. This translation is called\n",
    "# byte code. Besides translation - it also performs a lot of other functions including but not limited to memory allocation \n",
    "# and other hardware instructions."
   ]
  },
  {
   "cell_type": "code",
   "execution_count": 1,
   "id": "5bea644a",
   "metadata": {},
   "outputs": [
    {
     "name": "stdout",
     "output_type": "stream",
     "text": [
      "Hello\n"
     ]
    }
   ],
   "source": [
    "print('Hello')"
   ]
  },
  {
   "cell_type": "code",
   "execution_count": null,
   "id": "75de6d79",
   "metadata": {},
   "outputs": [],
   "source": [
    "# high level languages are more user friendly and use a translator to convert your code to machine language."
   ]
  },
  {
   "cell_type": "code",
   "execution_count": null,
   "id": "5d5d453e",
   "metadata": {},
   "outputs": [],
   "source": [
    "# Compiler or interpreter - both translators"
   ]
  },
  {
   "cell_type": "code",
   "execution_count": null,
   "id": "690d19f9",
   "metadata": {},
   "outputs": [],
   "source": [
    "# Machine Language \n",
    "\n",
    "# Assembly language - Contains instructions to hardware resources"
   ]
  },
  {
   "cell_type": "code",
   "execution_count": null,
   "id": "9d310c73",
   "metadata": {},
   "outputs": [],
   "source": [
    "# Languages are also divided into general purpose and special purpose languages\n",
    "\n",
    "# - General purpose languages - can be used for a variety of applications\n",
    "# - Special purpose languages - can only be used for a special purpose that they have been created. \n",
    "\n",
    "# SQL - Structured Query Language - This is used to manipulate databases. "
   ]
  },
  {
   "cell_type": "code",
   "execution_count": null,
   "id": "16b5eb8e",
   "metadata": {},
   "outputs": [],
   "source": [
    "# Volatile(RAM) and Non-Volatile memory (Hard Disk, or any permanent memory, ROM)\n",
    "\n",
    "# Non Volatile memory - Is store permanently even when program stops executing or power is switched off\n",
    "\n",
    "# Volatile - is erased once program stops running and/or power is switched off. "
   ]
  },
  {
   "cell_type": "code",
   "execution_count": null,
   "id": "97db604d",
   "metadata": {},
   "outputs": [],
   "source": [
    "# Dynamically and strongly typed"
   ]
  },
  {
   "cell_type": "code",
   "execution_count": 2,
   "id": "65822b23",
   "metadata": {},
   "outputs": [
    {
     "name": "stdout",
     "output_type": "stream",
     "text": [
      "10\n",
      "<class 'int'>\n"
     ]
    }
   ],
   "source": [
    "a = 10 # Datatype is inferred automatically in a dynamically typed language. This is called implicit typecasting. \n",
    "# Later we can change the datatype explicitly i.e. on purpose.\n",
    "\n",
    "print(a)\n",
    "print(type(a))"
   ]
  },
  {
   "cell_type": "code",
   "execution_count": 3,
   "id": "c7e07c1d",
   "metadata": {},
   "outputs": [
    {
     "name": "stdout",
     "output_type": "stream",
     "text": [
      "<class 'str'>\n"
     ]
    }
   ],
   "source": [
    "b = '10'\n",
    "\n",
    "print(type(b))"
   ]
  },
  {
   "cell_type": "code",
   "execution_count": 7,
   "id": "0b2abced",
   "metadata": {},
   "outputs": [
    {
     "ename": "TypeError",
     "evalue": "can only concatenate str (not \"int\") to str",
     "output_type": "error",
     "traceback": [
      "\u001b[1;31m---------------------------------------------------------------------------\u001b[0m",
      "\u001b[1;31mTypeError\u001b[0m                                 Traceback (most recent call last)",
      "\u001b[1;32m~\\AppData\\Local\\Temp\\ipykernel_16264\\368855055.py\u001b[0m in \u001b[0;36m<module>\u001b[1;34m\u001b[0m\n\u001b[1;32m----> 1\u001b[1;33m \u001b[0mc\u001b[0m \u001b[1;33m=\u001b[0m \u001b[1;34m'3'\u001b[0m \u001b[1;33m+\u001b[0m \u001b[1;36m5\u001b[0m\u001b[1;33m\u001b[0m\u001b[1;33m\u001b[0m\u001b[0m\n\u001b[0m\u001b[0;32m      2\u001b[0m \u001b[1;33m\u001b[0m\u001b[0m\n\u001b[0;32m      3\u001b[0m \u001b[0mprint\u001b[0m\u001b[1;33m(\u001b[0m\u001b[0mc\u001b[0m\u001b[1;33m)\u001b[0m\u001b[1;33m\u001b[0m\u001b[1;33m\u001b[0m\u001b[0m\n",
      "\u001b[1;31mTypeError\u001b[0m: can only concatenate str (not \"int\") to str"
     ]
    }
   ],
   "source": [
    "c = '3' + 5\n",
    "\n",
    "print(c)\n"
   ]
  },
  {
   "cell_type": "code",
   "execution_count": null,
   "id": "5ecea392",
   "metadata": {},
   "outputs": [],
   "source": [
    "# Translator\n",
    "\n",
    "# For high level languages - there are two types:\n",
    "\n",
    "# Compiler\n",
    "# Interpreter\n",
    "\n",
    "# implicit typecasting - Python infers the datatype.\n",
    "# explicit typecasting - which user defines which datatype they want to make it. "
   ]
  },
  {
   "cell_type": "code",
   "execution_count": 8,
   "id": "a4393a30",
   "metadata": {},
   "outputs": [
    {
     "name": "stdout",
     "output_type": "stream",
     "text": [
      "30\n"
     ]
    }
   ],
   "source": [
    "a = 10 # Typecasting can only happen at execution.\n",
    "b = 20\n",
    "\n",
    "print(a+b)"
   ]
  },
  {
   "cell_type": "code",
   "execution_count": null,
   "id": "cc99fb93",
   "metadata": {},
   "outputs": [],
   "source": [
    "# Compiler will convert all the code to byte code at one go. \n",
    "# After compiling - it will begin executing or running the program.\n",
    "\n",
    "# Compiled languages are usually faster.\n",
    "\n",
    "# Interpreter - converts to byte code and executes line by line. "
   ]
  },
  {
   "cell_type": "code",
   "execution_count": 15,
   "id": "ba0ef5c1",
   "metadata": {},
   "outputs": [
    {
     "ename": "SyntaxError",
     "evalue": "EOL while scanning string literal (3203085976.py, line 7)",
     "output_type": "error",
     "traceback": [
      "\u001b[1;36m  File \u001b[1;32m\"C:\\Users\\Lenovo\\AppData\\Local\\Temp\\ipykernel_16264\\3203085976.py\"\u001b[1;36m, line \u001b[1;32m7\u001b[0m\n\u001b[1;33m    a = 'Learnbay\u001b[0m\n\u001b[1;37m                 ^\u001b[0m\n\u001b[1;31mSyntaxError\u001b[0m\u001b[1;31m:\u001b[0m EOL while scanning string literal\n"
     ]
    }
   ],
   "source": [
    "x = 10\n",
    "y = 5\n",
    "\n",
    "print(x)\n",
    "print(y)\n",
    "print('Hello')\n",
    "a = 'Learnbay\n",
    "\n",
    "# Not able to convert this to byte code at compile time.\n"
   ]
  },
  {
   "cell_type": "code",
   "execution_count": null,
   "id": "24856d65",
   "metadata": {},
   "outputs": [],
   "source": [
    "# Compile time errors are errors with the syntax of the language which prevent the translator to convert the program to\n",
    "# byte code. A syntax error at ANY part of my code will prevent the translation and throw an error."
   ]
  },
  {
   "cell_type": "code",
   "execution_count": 13,
   "id": "9c0a6b76",
   "metadata": {},
   "outputs": [
    {
     "name": "stdout",
     "output_type": "stream",
     "text": [
      "Hello\n"
     ]
    },
    {
     "ename": "NameError",
     "evalue": "name 'z' is not defined",
     "output_type": "error",
     "traceback": [
      "\u001b[1;31m---------------------------------------------------------------------------\u001b[0m",
      "\u001b[1;31mNameError\u001b[0m                                 Traceback (most recent call last)",
      "\u001b[1;32m~\\AppData\\Local\\Temp\\ipykernel_16264\\960143109.py\u001b[0m in \u001b[0;36m<module>\u001b[1;34m\u001b[0m\n\u001b[0;32m      6\u001b[0m     \u001b[0mprint\u001b[0m\u001b[1;33m(\u001b[0m\u001b[0my\u001b[0m\u001b[1;33m)\u001b[0m\u001b[1;33m\u001b[0m\u001b[1;33m\u001b[0m\u001b[0m\n\u001b[0;32m      7\u001b[0m \u001b[1;32melse\u001b[0m\u001b[1;33m:\u001b[0m\u001b[1;33m\u001b[0m\u001b[1;33m\u001b[0m\u001b[0m\n\u001b[1;32m----> 8\u001b[1;33m     \u001b[0mprint\u001b[0m\u001b[1;33m(\u001b[0m\u001b[0mz\u001b[0m\u001b[1;33m)\u001b[0m\u001b[1;33m\u001b[0m\u001b[1;33m\u001b[0m\u001b[0m\n\u001b[0m",
      "\u001b[1;31mNameError\u001b[0m: name 'z' is not defined"
     ]
    }
   ],
   "source": [
    "x = 10\n",
    "y = 5 \n",
    "\n",
    "print('Hello')\n",
    "\n",
    "if y > x:\n",
    "    print(y)\n",
    "else:\n",
    "    print(z)"
   ]
  },
  {
   "cell_type": "code",
   "execution_count": 14,
   "id": "dcf01ba7",
   "metadata": {},
   "outputs": [
    {
     "ename": "SyntaxError",
     "evalue": "unexpected EOF while parsing (3379003011.py, line 9)",
     "output_type": "error",
     "traceback": [
      "\u001b[1;36m  File \u001b[1;32m\"C:\\Users\\Lenovo\\AppData\\Local\\Temp\\ipykernel_16264\\3379003011.py\"\u001b[1;36m, line \u001b[1;32m9\u001b[0m\n\u001b[1;33m    print(z\u001b[0m\n\u001b[1;37m           ^\u001b[0m\n\u001b[1;31mSyntaxError\u001b[0m\u001b[1;31m:\u001b[0m unexpected EOF while parsing\n"
     ]
    }
   ],
   "source": [
    "x = 10\n",
    "y = 5\n",
    "\n",
    "print('Hello')\n",
    "\n",
    "if y < x:\n",
    "    print(y)\n",
    "else:\n",
    "    print(z"
   ]
  },
  {
   "cell_type": "code",
   "execution_count": null,
   "id": "a0c873ff",
   "metadata": {},
   "outputs": [],
   "source": [
    "# Runtime errors (basically interpretation time or execution time errors) - happen during execution of code. And if there\n",
    "# is a runtime error that is on a line that never gets executed - the program will not be able to catch it."
   ]
  },
  {
   "cell_type": "code",
   "execution_count": null,
   "id": "53015200",
   "metadata": {},
   "outputs": [],
   "source": [
    "# - Python is open source. Free of cost.\n",
    "# - Python is a high level language\n",
    "# - General purpose\n",
    "# - Dynamically and Strongly typed.\n",
    "# - Python is currently BOTH - compiled and interpreted.\n",
    "# - Many ibraries available to python developers - free of cost / Open Source. Huge community support.\n",
    "# - Easy to write - and debug.\n",
    "# - Portable"
   ]
  },
  {
   "cell_type": "code",
   "execution_count": 3,
   "id": "5c5f36bf",
   "metadata": {},
   "outputs": [
    {
     "name": "stdout",
     "output_type": "stream",
     "text": [
      "CPython\n"
     ]
    }
   ],
   "source": [
    "import platform\n",
    "\n",
    "print(platform.python_implementation())"
   ]
  },
  {
   "cell_type": "code",
   "execution_count": null,
   "id": "a87e4aa0",
   "metadata": {},
   "outputs": [],
   "source": []
  }
 ],
 "metadata": {
  "kernelspec": {
   "display_name": "Python 3 (ipykernel)",
   "language": "python",
   "name": "python3"
  },
  "language_info": {
   "codemirror_mode": {
    "name": "ipython",
    "version": 3
   },
   "file_extension": ".py",
   "mimetype": "text/x-python",
   "name": "python",
   "nbconvert_exporter": "python",
   "pygments_lexer": "ipython3",
   "version": "3.9.13"
  }
 },
 "nbformat": 4,
 "nbformat_minor": 5
}
