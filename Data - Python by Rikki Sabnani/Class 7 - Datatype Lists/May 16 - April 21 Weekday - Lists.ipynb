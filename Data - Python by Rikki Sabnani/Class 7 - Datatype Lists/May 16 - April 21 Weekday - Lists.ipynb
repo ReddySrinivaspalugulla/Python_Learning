{
 "cells": [
  {
   "cell_type": "markdown",
   "id": "74594ed0",
   "metadata": {},
   "source": [
    "### Lists"
   ]
  },
  {
   "cell_type": "code",
   "execution_count": 40,
   "id": "06812a8d",
   "metadata": {},
   "outputs": [],
   "source": [
    "# Properties of lists\n",
    "\n",
    "# Derived Datatype\n",
    "# Mutable\n",
    "# Subscription - Indexing, Slicing, Assignment\n",
    "# Iterable\n",
    "# They can take heterogenous element\n",
    "# Ordered\n",
    "# Nesting is allowed"
   ]
  },
  {
   "cell_type": "code",
   "execution_count": 11,
   "id": "6668a7a8",
   "metadata": {},
   "outputs": [
    {
     "name": "stdout",
     "output_type": "stream",
     "text": [
      "[1, 'a', (2+3j), [4, 5], ('x', 'y'), {1: 1, 2: 2}, {5, 7}, range(0, 10)]\n"
     ]
    }
   ],
   "source": [
    "lst1 = [1,'a', 2+3j, [4,5], ('x','y'), {1:1, 2:2}, {5,7}, range(10)]\n",
    "\n",
    "print(lst1)"
   ]
  },
  {
   "cell_type": "code",
   "execution_count": null,
   "id": "2c5fad08",
   "metadata": {},
   "outputs": [],
   "source": [
    "# Only derived datatypes (except string which exhibits this property of derived datatypes that it is made up of multiple\n",
    "# elements) can be iterable."
   ]
  },
  {
   "cell_type": "code",
   "execution_count": 15,
   "id": "2130b9e8",
   "metadata": {},
   "outputs": [
    {
     "name": "stdout",
     "output_type": "stream",
     "text": [
      "['__abs__', '__add__', '__bool__', '__class__', '__delattr__', '__dir__', '__divmod__', '__doc__', '__eq__', '__float__', '__floordiv__', '__format__', '__ge__', '__getattribute__', '__getnewargs__', '__gt__', '__hash__', '__init__', '__init_subclass__', '__int__', '__le__', '__lt__', '__mod__', '__mul__', '__ne__', '__neg__', '__new__', '__pos__', '__pow__', '__radd__', '__rdivmod__', '__reduce__', '__reduce_ex__', '__repr__', '__rfloordiv__', '__rmod__', '__rmul__', '__rpow__', '__rsub__', '__rtruediv__', '__setattr__', '__sizeof__', '__str__', '__sub__', '__subclasshook__', '__truediv__', 'conjugate', 'imag', 'real']\n"
     ]
    }
   ],
   "source": [
    "print(dir(complex))"
   ]
  },
  {
   "cell_type": "code",
   "execution_count": 16,
   "id": "02519f8e",
   "metadata": {},
   "outputs": [
    {
     "name": "stdout",
     "output_type": "stream",
     "text": [
      "<class 'complex'>\n"
     ]
    }
   ],
   "source": [
    "x = 2+3j\n",
    "\n",
    "print(type(x))"
   ]
  },
  {
   "cell_type": "code",
   "execution_count": null,
   "id": "00579d98",
   "metadata": {},
   "outputs": [],
   "source": [
    "# If you can run a for loop over the datatype then it is iterable. "
   ]
  },
  {
   "cell_type": "markdown",
   "id": "d4fb0128",
   "metadata": {},
   "source": [
    "##### Initialising lists"
   ]
  },
  {
   "cell_type": "code",
   "execution_count": 17,
   "id": "8211d961",
   "metadata": {},
   "outputs": [
    {
     "name": "stdout",
     "output_type": "stream",
     "text": [
      "[]\n",
      "<class 'list'>\n"
     ]
    }
   ],
   "source": [
    "lst1 = []\n",
    "\n",
    "print(lst1)\n",
    "print(type(lst1))"
   ]
  },
  {
   "cell_type": "code",
   "execution_count": 18,
   "id": "510f9f1f",
   "metadata": {},
   "outputs": [
    {
     "name": "stdout",
     "output_type": "stream",
     "text": [
      "[1, 2, 3, 4]\n",
      "<class 'list'>\n"
     ]
    }
   ],
   "source": [
    "lst1 = [1,2,3,4]\n",
    "\n",
    "print(lst1)\n",
    "print(type(lst1))"
   ]
  },
  {
   "cell_type": "code",
   "execution_count": 19,
   "id": "2535d7c8",
   "metadata": {},
   "outputs": [
    {
     "name": "stdout",
     "output_type": "stream",
     "text": [
      "[]\n"
     ]
    }
   ],
   "source": [
    "lst1 = list()\n",
    "\n",
    "print(lst1)"
   ]
  },
  {
   "cell_type": "code",
   "execution_count": 20,
   "id": "ce281c2c",
   "metadata": {},
   "outputs": [
    {
     "name": "stdout",
     "output_type": "stream",
     "text": [
      "(10, 20, 30, 40)\n"
     ]
    }
   ],
   "source": [
    "tup1 = (10,20,30,40)\n",
    "\n",
    "print(tup1)\n"
   ]
  },
  {
   "cell_type": "code",
   "execution_count": 21,
   "id": "334c98d1",
   "metadata": {},
   "outputs": [
    {
     "name": "stdout",
     "output_type": "stream",
     "text": [
      "[10, 20, 30, 40]\n",
      "<class 'list'>\n"
     ]
    }
   ],
   "source": [
    "lst1 = list(tup1)\n",
    "\n",
    "print(lst1)\n",
    "print(type(lst1))"
   ]
  },
  {
   "cell_type": "code",
   "execution_count": 30,
   "id": "81cccaf1",
   "metadata": {},
   "outputs": [
    {
     "name": "stdout",
     "output_type": "stream",
     "text": [
      "['abcde']\n",
      "<class 'list'>\n"
     ]
    }
   ],
   "source": [
    "# List function will take any ITERABLE. \n",
    "lststr = list(['abcde'])\n",
    "\n",
    "print(lststr)\n",
    "print(type(lststr))"
   ]
  },
  {
   "cell_type": "code",
   "execution_count": 31,
   "id": "132724a9",
   "metadata": {},
   "outputs": [
    {
     "name": "stdout",
     "output_type": "stream",
     "text": [
      "abc\n"
     ]
    }
   ],
   "source": [
    "str1 = str('abc')\n",
    "\n",
    "print(str1)"
   ]
  },
  {
   "cell_type": "code",
   "execution_count": 32,
   "id": "13ffeaa4",
   "metadata": {},
   "outputs": [
    {
     "name": "stdout",
     "output_type": "stream",
     "text": [
      "(10, 20, 30)\n"
     ]
    }
   ],
   "source": [
    "tup1 = (10,20,30)\n",
    "\n",
    "print(tup1)"
   ]
  },
  {
   "cell_type": "code",
   "execution_count": 35,
   "id": "74cf4d9e",
   "metadata": {},
   "outputs": [
    {
     "name": "stdout",
     "output_type": "stream",
     "text": [
      "(10, 20, 30)\n",
      "<class 'tuple'>\n"
     ]
    }
   ],
   "source": [
    "x = 10,20,30\n",
    "\n",
    "print(x)\n",
    "print(type(x))"
   ]
  },
  {
   "cell_type": "code",
   "execution_count": 36,
   "id": "715f0561",
   "metadata": {},
   "outputs": [
    {
     "name": "stdout",
     "output_type": "stream",
     "text": [
      "(10,)\n",
      "<class 'tuple'>\n"
     ]
    }
   ],
   "source": [
    "x = (10,)\n",
    "\n",
    "print(x)\n",
    "print(type(x))"
   ]
  },
  {
   "cell_type": "code",
   "execution_count": 37,
   "id": "1bc92e97",
   "metadata": {},
   "outputs": [
    {
     "name": "stdout",
     "output_type": "stream",
     "text": [
      "(10,)\n",
      "<class 'tuple'>\n"
     ]
    }
   ],
   "source": [
    "x = 10,\n",
    "\n",
    "print(x)\n",
    "print(type(x))"
   ]
  },
  {
   "cell_type": "code",
   "execution_count": 39,
   "id": "44615bc8",
   "metadata": {},
   "outputs": [
    {
     "name": "stdout",
     "output_type": "stream",
     "text": [
      "()\n",
      "<class 'tuple'>\n"
     ]
    }
   ],
   "source": [
    "x = ()\n",
    "print(x)\n",
    "print(type(x))"
   ]
  },
  {
   "cell_type": "code",
   "execution_count": 41,
   "id": "fd3c94d8",
   "metadata": {},
   "outputs": [
    {
     "name": "stdout",
     "output_type": "stream",
     "text": [
      "[2, 2, 2, 2, 2]\n"
     ]
    }
   ],
   "source": [
    "lst1 = [2,2,2,2,2]\n",
    "\n",
    "print(lst1)"
   ]
  },
  {
   "cell_type": "markdown",
   "id": "eba37b00",
   "metadata": {},
   "source": [
    "#### Indexing, Slicing, Assignment"
   ]
  },
  {
   "cell_type": "code",
   "execution_count": 47,
   "id": "5247e725",
   "metadata": {},
   "outputs": [
    {
     "name": "stdout",
     "output_type": "stream",
     "text": [
      "[0, 1, 2, 3, 4]\n"
     ]
    }
   ],
   "source": [
    "lst1 = list(range(5))\n",
    "\n",
    "print(lst1)"
   ]
  },
  {
   "cell_type": "code",
   "execution_count": 48,
   "id": "616533f0",
   "metadata": {},
   "outputs": [
    {
     "name": "stdout",
     "output_type": "stream",
     "text": [
      "[0, 1, 2, 3, 4, [10, 20, 30, 40, 50]]\n"
     ]
    }
   ],
   "source": [
    "lst1.append(list(range(10,60,10)))\n",
    "\n",
    "print(lst1)"
   ]
  },
  {
   "cell_type": "code",
   "execution_count": 49,
   "id": "1d025062",
   "metadata": {},
   "outputs": [
    {
     "data": {
      "text/plain": [
       "4"
      ]
     },
     "execution_count": 49,
     "metadata": {},
     "output_type": "execute_result"
    }
   ],
   "source": [
    "lst1[4]"
   ]
  },
  {
   "cell_type": "code",
   "execution_count": 51,
   "id": "314da0ec",
   "metadata": {},
   "outputs": [
    {
     "data": {
      "text/plain": [
       "4"
      ]
     },
     "execution_count": 51,
     "metadata": {},
     "output_type": "execute_result"
    }
   ],
   "source": [
    "lst1[-2]"
   ]
  },
  {
   "cell_type": "code",
   "execution_count": 52,
   "id": "d82d1c3c",
   "metadata": {},
   "outputs": [
    {
     "data": {
      "text/plain": [
       "30"
      ]
     },
     "execution_count": 52,
     "metadata": {},
     "output_type": "execute_result"
    }
   ],
   "source": [
    "lst1[5][2]"
   ]
  },
  {
   "cell_type": "code",
   "execution_count": 53,
   "id": "945e43c5",
   "metadata": {},
   "outputs": [
    {
     "data": {
      "text/plain": [
       "30"
      ]
     },
     "execution_count": 53,
     "metadata": {},
     "output_type": "execute_result"
    }
   ],
   "source": [
    "lst1[-1][-3]"
   ]
  },
  {
   "cell_type": "code",
   "execution_count": 55,
   "id": "1c867444",
   "metadata": {},
   "outputs": [
    {
     "data": {
      "text/plain": [
       "[1, 3]"
      ]
     },
     "execution_count": 55,
     "metadata": {},
     "output_type": "execute_result"
    }
   ],
   "source": [
    "lst1[1:5:2]"
   ]
  },
  {
   "cell_type": "code",
   "execution_count": 56,
   "id": "7faef452",
   "metadata": {},
   "outputs": [
    {
     "name": "stdout",
     "output_type": "stream",
     "text": [
      "[0, 1, 20, 3, 4, [10, 20, 30, 40, 50]]\n"
     ]
    }
   ],
   "source": [
    "# Assignment\n",
    "\n",
    "lst1[2] = 20\n",
    "\n",
    "print(lst1)"
   ]
  },
  {
   "cell_type": "code",
   "execution_count": 57,
   "id": "c3f38cf4",
   "metadata": {},
   "outputs": [
    {
     "name": "stdout",
     "output_type": "stream",
     "text": [
      "[0, 1, 20, 3, 4, 1000]\n"
     ]
    }
   ],
   "source": [
    "lst1[-1] = 1000\n",
    "\n",
    "print(lst1)"
   ]
  },
  {
   "cell_type": "code",
   "execution_count": 58,
   "id": "8c188188",
   "metadata": {},
   "outputs": [
    {
     "name": "stdout",
     "output_type": "stream",
     "text": [
      "[0, 1, 20, 3, 4, [10, 20, 30, 40]]\n"
     ]
    }
   ],
   "source": [
    "lst1[-1] = list(range(10,50,10))\n",
    "\n",
    "print(lst1)"
   ]
  },
  {
   "cell_type": "code",
   "execution_count": 59,
   "id": "99a391f1",
   "metadata": {},
   "outputs": [
    {
     "name": "stdout",
     "output_type": "stream",
     "text": [
      "[0, 100, 200, 3, 4, [10, 20, 30, 40]]\n"
     ]
    }
   ],
   "source": [
    "lst1[1:3] = 100,200\n",
    "\n",
    "print(lst1)"
   ]
  },
  {
   "cell_type": "code",
   "execution_count": 81,
   "id": "1b763331",
   "metadata": {},
   "outputs": [
    {
     "ename": "TypeError",
     "evalue": "can only assign an iterable",
     "output_type": "error",
     "traceback": [
      "\u001b[1;31m---------------------------------------------------------------------------\u001b[0m",
      "\u001b[1;31mTypeError\u001b[0m                                 Traceback (most recent call last)",
      "\u001b[1;32m~\\AppData\\Local\\Temp\\ipykernel_6072\\3820318561.py\u001b[0m in \u001b[0;36m<module>\u001b[1;34m\u001b[0m\n\u001b[1;32m----> 1\u001b[1;33m \u001b[0mlst1\u001b[0m\u001b[1;33m[\u001b[0m\u001b[1;36m1\u001b[0m\u001b[1;33m:\u001b[0m\u001b[1;36m3\u001b[0m\u001b[1;33m]\u001b[0m \u001b[1;33m=\u001b[0m \u001b[1;36m1000\u001b[0m\u001b[1;33m\u001b[0m\u001b[1;33m\u001b[0m\u001b[0m\n\u001b[0m\u001b[0;32m      2\u001b[0m \u001b[1;33m\u001b[0m\u001b[0m\n\u001b[0;32m      3\u001b[0m \u001b[0mprint\u001b[0m\u001b[1;33m(\u001b[0m\u001b[0mlst1\u001b[0m\u001b[1;33m)\u001b[0m\u001b[1;33m\u001b[0m\u001b[1;33m\u001b[0m\u001b[0m\n",
      "\u001b[1;31mTypeError\u001b[0m: can only assign an iterable"
     ]
    }
   ],
   "source": [
    "lst1[1:3] = 1000,\n",
    "\n",
    "print(lst1)"
   ]
  },
  {
   "cell_type": "code",
   "execution_count": 64,
   "id": "d3ad89a0",
   "metadata": {},
   "outputs": [],
   "source": [
    "# Two rules for slice assignment on lists is:\n",
    "\n",
    "# The elements being replaced do not have to have equal length as the elements replacing them\n",
    "# The elements being assigned must be IN AN ITERABLE."
   ]
  },
  {
   "cell_type": "code",
   "execution_count": 66,
   "id": "752f36d3",
   "metadata": {},
   "outputs": [
    {
     "name": "stdout",
     "output_type": "stream",
     "text": [
      "<class 'str'>\n"
     ]
    }
   ],
   "source": [
    "str1 = 'Hello there'\n",
    "\n",
    "print(type(str1[:5]))"
   ]
  },
  {
   "cell_type": "code",
   "execution_count": 68,
   "id": "556cef14",
   "metadata": {},
   "outputs": [
    {
     "name": "stdout",
     "output_type": "stream",
     "text": [
      "[10, 11, 12, 13, 14, 15, 16, 17, 18, 19]\n"
     ]
    }
   ],
   "source": [
    "lst1 = list(range(10,20))\n",
    "\n",
    "print(lst1)"
   ]
  },
  {
   "cell_type": "code",
   "execution_count": 69,
   "id": "9ae56191",
   "metadata": {},
   "outputs": [
    {
     "name": "stdout",
     "output_type": "stream",
     "text": [
      "[10, 11, 12, 13, 14]\n"
     ]
    }
   ],
   "source": [
    "print(lst1[:5])"
   ]
  },
  {
   "cell_type": "code",
   "execution_count": 70,
   "id": "1e96ef5f",
   "metadata": {},
   "outputs": [
    {
     "name": "stdout",
     "output_type": "stream",
     "text": [
      "<class 'list'>\n"
     ]
    }
   ],
   "source": [
    "print(type(lst1[:5]))"
   ]
  },
  {
   "cell_type": "code",
   "execution_count": 71,
   "id": "16ab5d09",
   "metadata": {},
   "outputs": [
    {
     "name": "stdout",
     "output_type": "stream",
     "text": [
      "(10, 11, 12, 13, 14, 15, 16, 17, 18, 19)\n"
     ]
    }
   ],
   "source": [
    "tup1 = tuple(range(10,20))\n",
    "\n",
    "print(tup1)"
   ]
  },
  {
   "cell_type": "code",
   "execution_count": 72,
   "id": "83fc69d8",
   "metadata": {},
   "outputs": [
    {
     "name": "stdout",
     "output_type": "stream",
     "text": [
      "(10, 11, 12, 13, 14)\n"
     ]
    }
   ],
   "source": [
    "print(tup1[:5])"
   ]
  },
  {
   "cell_type": "code",
   "execution_count": 73,
   "id": "990ed486",
   "metadata": {},
   "outputs": [
    {
     "name": "stdout",
     "output_type": "stream",
     "text": [
      "<class 'tuple'>\n"
     ]
    }
   ],
   "source": [
    "print(type(tup1[:5]))"
   ]
  },
  {
   "cell_type": "code",
   "execution_count": 80,
   "id": "c6a3cd0c",
   "metadata": {},
   "outputs": [
    {
     "name": "stdout",
     "output_type": "stream",
     "text": [
      "range(1, 10)\n"
     ]
    }
   ],
   "source": [
    "range1 = range(1,10)\n",
    "\n",
    "print(range1)"
   ]
  },
  {
   "cell_type": "code",
   "execution_count": 75,
   "id": "25a402f3",
   "metadata": {},
   "outputs": [
    {
     "name": "stdout",
     "output_type": "stream",
     "text": [
      "range(1, 6)\n"
     ]
    }
   ],
   "source": [
    "print(range1[:5])"
   ]
  },
  {
   "cell_type": "code",
   "execution_count": 76,
   "id": "214f08f7",
   "metadata": {},
   "outputs": [
    {
     "name": "stdout",
     "output_type": "stream",
     "text": [
      "<class 'range'>\n"
     ]
    }
   ],
   "source": [
    "print(type(range1[:5]))"
   ]
  },
  {
   "cell_type": "code",
   "execution_count": 77,
   "id": "728f4719",
   "metadata": {},
   "outputs": [
    {
     "name": "stdout",
     "output_type": "stream",
     "text": [
      "['a', 'b', 'c', 'd', 'e']\n"
     ]
    }
   ],
   "source": [
    "lst1 = list('abcde')\n",
    "\n",
    "print(lst1)"
   ]
  },
  {
   "cell_type": "code",
   "execution_count": 78,
   "id": "70b6d51e",
   "metadata": {},
   "outputs": [
    {
     "name": "stdout",
     "output_type": "stream",
     "text": [
      "['a', 'b', 'c']\n"
     ]
    }
   ],
   "source": [
    "print(lst1[:3])"
   ]
  },
  {
   "cell_type": "code",
   "execution_count": 82,
   "id": "bc990a11",
   "metadata": {},
   "outputs": [
    {
     "name": "stdout",
     "output_type": "stream",
     "text": [
      "['a', 'b', 'c', 'd', 'e']\n",
      "[0, 1, 2, 3, 4]\n"
     ]
    }
   ],
   "source": [
    "lst1 = list('abcde')\n",
    "lst2 = list(range(5))\n",
    "\n",
    "print(lst1)\n",
    "print(lst2)"
   ]
  },
  {
   "cell_type": "code",
   "execution_count": 83,
   "id": "ff62c168",
   "metadata": {},
   "outputs": [
    {
     "name": "stdout",
     "output_type": "stream",
     "text": [
      "['a', 'b', 'c', 'd', 'e', 0, 1, 2, 3, 4]\n"
     ]
    }
   ],
   "source": [
    "lst3 = lst1+lst2\n",
    "\n",
    "print(lst3)"
   ]
  },
  {
   "cell_type": "code",
   "execution_count": 84,
   "id": "70c01783",
   "metadata": {},
   "outputs": [
    {
     "name": "stdout",
     "output_type": "stream",
     "text": [
      "['a', 'b', 'c', 'd', 'e', 'a', 'b', 'c', 'd', 'e', 'a', 'b', 'c', 'd', 'e']\n"
     ]
    }
   ],
   "source": [
    "lst4 = lst1*3\n",
    "\n",
    "print(lst4)"
   ]
  },
  {
   "cell_type": "code",
   "execution_count": 85,
   "id": "4a81bea9",
   "metadata": {},
   "outputs": [
    {
     "name": "stdout",
     "output_type": "stream",
     "text": [
      "(0, 1, 2, 3, 4)\n"
     ]
    }
   ],
   "source": [
    "tup1 = tuple(lst2)\n",
    "\n",
    "print(tup1)"
   ]
  },
  {
   "cell_type": "code",
   "execution_count": 86,
   "id": "92dac50a",
   "metadata": {},
   "outputs": [
    {
     "ename": "TypeError",
     "evalue": "can only concatenate list (not \"tuple\") to list",
     "output_type": "error",
     "traceback": [
      "\u001b[1;31m---------------------------------------------------------------------------\u001b[0m",
      "\u001b[1;31mTypeError\u001b[0m                                 Traceback (most recent call last)",
      "\u001b[1;32m~\\AppData\\Local\\Temp\\ipykernel_6072\\236351838.py\u001b[0m in \u001b[0;36m<module>\u001b[1;34m\u001b[0m\n\u001b[1;32m----> 1\u001b[1;33m \u001b[0mlst5\u001b[0m \u001b[1;33m=\u001b[0m \u001b[0mlst1\u001b[0m \u001b[1;33m+\u001b[0m \u001b[0mtup1\u001b[0m\u001b[1;33m\u001b[0m\u001b[1;33m\u001b[0m\u001b[0m\n\u001b[0m\u001b[0;32m      2\u001b[0m \u001b[1;33m\u001b[0m\u001b[0m\n\u001b[0;32m      3\u001b[0m \u001b[0mprint\u001b[0m\u001b[1;33m(\u001b[0m\u001b[0mlst5\u001b[0m\u001b[1;33m)\u001b[0m\u001b[1;33m\u001b[0m\u001b[1;33m\u001b[0m\u001b[0m\n",
      "\u001b[1;31mTypeError\u001b[0m: can only concatenate list (not \"tuple\") to list"
     ]
    }
   ],
   "source": [
    "lst5 = lst1 + tup1\n",
    "\n",
    "print(lst5)"
   ]
  },
  {
   "cell_type": "code",
   "execution_count": 87,
   "id": "59dd6c7c",
   "metadata": {},
   "outputs": [
    {
     "name": "stdout",
     "output_type": "stream",
     "text": [
      "['a', 'b', 'c', 'd', 'e']\n"
     ]
    }
   ],
   "source": [
    "print(lst1)"
   ]
  },
  {
   "cell_type": "code",
   "execution_count": 88,
   "id": "2ffd7729",
   "metadata": {},
   "outputs": [
    {
     "name": "stdout",
     "output_type": "stream",
     "text": [
      "True\n"
     ]
    }
   ],
   "source": [
    "print('e' in lst1)"
   ]
  },
  {
   "cell_type": "code",
   "execution_count": 89,
   "id": "cccf4758",
   "metadata": {},
   "outputs": [
    {
     "name": "stdout",
     "output_type": "stream",
     "text": [
      "False\n"
     ]
    }
   ],
   "source": [
    "print('ee' in lst1)"
   ]
  },
  {
   "cell_type": "code",
   "execution_count": 91,
   "id": "ef48b08e",
   "metadata": {},
   "outputs": [
    {
     "name": "stdout",
     "output_type": "stream",
     "text": [
      "False\n"
     ]
    }
   ],
   "source": [
    "print(['d','e'] in lst1)"
   ]
  },
  {
   "cell_type": "code",
   "execution_count": 92,
   "id": "8b5488dc",
   "metadata": {},
   "outputs": [
    {
     "name": "stdout",
     "output_type": "stream",
     "text": [
      "5\n"
     ]
    }
   ],
   "source": [
    "print(len(lst1))"
   ]
  },
  {
   "cell_type": "code",
   "execution_count": 93,
   "id": "8da7bc19",
   "metadata": {},
   "outputs": [
    {
     "name": "stdout",
     "output_type": "stream",
     "text": [
      "e\n"
     ]
    }
   ],
   "source": [
    "print(max(lst1))"
   ]
  },
  {
   "cell_type": "code",
   "execution_count": 94,
   "id": "483cf651",
   "metadata": {},
   "outputs": [
    {
     "name": "stdout",
     "output_type": "stream",
     "text": [
      "a\n"
     ]
    }
   ],
   "source": [
    "print(min(lst1))"
   ]
  },
  {
   "cell_type": "code",
   "execution_count": 95,
   "id": "e12e80e3",
   "metadata": {},
   "outputs": [
    {
     "name": "stdout",
     "output_type": "stream",
     "text": [
      "Shikha\n"
     ]
    }
   ],
   "source": [
    "lst2 = ['Rikki', 'Astha', 'Raj', 'Shikha', 'Pankaj']\n",
    "\n",
    "\n",
    "print(max(lst2))"
   ]
  },
  {
   "cell_type": "markdown",
   "id": "9fdf9417",
   "metadata": {},
   "source": [
    "### List Functions"
   ]
  },
  {
   "cell_type": "code",
   "execution_count": 96,
   "id": "25abfbb1",
   "metadata": {},
   "outputs": [
    {
     "name": "stdout",
     "output_type": "stream",
     "text": [
      "[1, 2, 3, 4]\n"
     ]
    }
   ],
   "source": [
    "lst1 = [1,2,3,4]\n",
    "\n",
    "print(lst1)"
   ]
  },
  {
   "cell_type": "code",
   "execution_count": 97,
   "id": "06c4c1ee",
   "metadata": {},
   "outputs": [
    {
     "name": "stdout",
     "output_type": "stream",
     "text": [
      "[1, 2, 3, 4, 5]\n",
      "None\n"
     ]
    }
   ],
   "source": [
    "lst2 = lst1.append(5)\n",
    "\n",
    "print(lst1)\n",
    "print(lst2)"
   ]
  },
  {
   "cell_type": "code",
   "execution_count": 98,
   "id": "eb6781ba",
   "metadata": {},
   "outputs": [],
   "source": [
    "def funct():\n",
    "    print('Hello')"
   ]
  },
  {
   "cell_type": "code",
   "execution_count": 99,
   "id": "3e66a6bd",
   "metadata": {},
   "outputs": [],
   "source": [
    "def funct1():\n",
    "    return 'Hello'"
   ]
  },
  {
   "cell_type": "code",
   "execution_count": 100,
   "id": "b13fc538",
   "metadata": {},
   "outputs": [
    {
     "name": "stdout",
     "output_type": "stream",
     "text": [
      "Hello\n"
     ]
    }
   ],
   "source": [
    "funct()"
   ]
  },
  {
   "cell_type": "code",
   "execution_count": 102,
   "id": "a1579b6f",
   "metadata": {},
   "outputs": [
    {
     "data": {
      "text/plain": [
       "10"
      ]
     },
     "execution_count": 102,
     "metadata": {},
     "output_type": "execute_result"
    }
   ],
   "source": [
    "x = 10\n",
    "\n",
    "funct1()\n",
    "\n",
    "x\n"
   ]
  },
  {
   "cell_type": "code",
   "execution_count": 103,
   "id": "a283467f",
   "metadata": {},
   "outputs": [],
   "source": [
    "retvalue = funct1()"
   ]
  },
  {
   "cell_type": "code",
   "execution_count": 104,
   "id": "fca006c5",
   "metadata": {},
   "outputs": [
    {
     "name": "stdout",
     "output_type": "stream",
     "text": [
      "Hello\n"
     ]
    }
   ],
   "source": [
    "print(retvalue)"
   ]
  },
  {
   "cell_type": "code",
   "execution_count": 105,
   "id": "3de541b9",
   "metadata": {},
   "outputs": [
    {
     "name": "stdout",
     "output_type": "stream",
     "text": [
      "Hello\n"
     ]
    }
   ],
   "source": [
    "retf = funct()"
   ]
  },
  {
   "cell_type": "code",
   "execution_count": 106,
   "id": "559c1a3a",
   "metadata": {},
   "outputs": [
    {
     "name": "stdout",
     "output_type": "stream",
     "text": [
      "None\n"
     ]
    }
   ],
   "source": [
    "print(retf)"
   ]
  },
  {
   "cell_type": "code",
   "execution_count": 107,
   "id": "4e688a9d",
   "metadata": {},
   "outputs": [],
   "source": [
    "def delmobile():\n",
    "    print('Mobile Delivered')\n",
    "    \n",
    "def returnmoney():\n",
    "    return 10000"
   ]
  },
  {
   "cell_type": "code",
   "execution_count": 108,
   "id": "08f28e7a",
   "metadata": {},
   "outputs": [
    {
     "name": "stdout",
     "output_type": "stream",
     "text": [
      "Mobile Delivered\n"
     ]
    }
   ],
   "source": [
    "delmobile()"
   ]
  },
  {
   "cell_type": "code",
   "execution_count": 109,
   "id": "62eeeeef",
   "metadata": {},
   "outputs": [
    {
     "data": {
      "text/plain": [
       "10"
      ]
     },
     "execution_count": 109,
     "metadata": {},
     "output_type": "execute_result"
    }
   ],
   "source": [
    "returnmoney()\n",
    "\n",
    "x"
   ]
  },
  {
   "cell_type": "code",
   "execution_count": 110,
   "id": "edb91e5c",
   "metadata": {},
   "outputs": [],
   "source": [
    "drawer = returnmoney()"
   ]
  },
  {
   "cell_type": "code",
   "execution_count": 111,
   "id": "849f6e31",
   "metadata": {},
   "outputs": [
    {
     "name": "stdout",
     "output_type": "stream",
     "text": [
      "10000\n"
     ]
    }
   ],
   "source": [
    "print(drawer)"
   ]
  },
  {
   "cell_type": "code",
   "execution_count": 117,
   "id": "cc61ac57",
   "metadata": {},
   "outputs": [
    {
     "name": "stdout",
     "output_type": "stream",
     "text": [
      "50000\n"
     ]
    },
    {
     "data": {
      "text/plain": [
       "100"
      ]
     },
     "execution_count": 117,
     "metadata": {},
     "output_type": "execute_result"
    }
   ],
   "source": [
    "print(returnmoney()*5)\n",
    "\n",
    "x"
   ]
  },
  {
   "cell_type": "code",
   "execution_count": 119,
   "id": "0fdc1bf1",
   "metadata": {},
   "outputs": [
    {
     "name": "stdout",
     "output_type": "stream",
     "text": [
      "[1, 2, 3, 4, 5]\n",
      "2715737099392\n"
     ]
    }
   ],
   "source": [
    "print(lst1)\n",
    "print(id(lst1))"
   ]
  },
  {
   "cell_type": "code",
   "execution_count": 120,
   "id": "b6cbf102",
   "metadata": {},
   "outputs": [
    {
     "name": "stdout",
     "output_type": "stream",
     "text": [
      "[1, 2, 3, 4, 5]\n",
      "2715736216448\n"
     ]
    }
   ],
   "source": [
    "lst2 = lst1[:]\n",
    "\n",
    "print(lst2)\n",
    "print(id(lst2))"
   ]
  },
  {
   "cell_type": "code",
   "execution_count": 121,
   "id": "94aa4e5f",
   "metadata": {},
   "outputs": [
    {
     "name": "stdout",
     "output_type": "stream",
     "text": [
      "[1, 2, 3, 4, 5, 6]\n"
     ]
    }
   ],
   "source": [
    "lst2.append(6)\n",
    "\n",
    "print(lst2)"
   ]
  },
  {
   "cell_type": "code",
   "execution_count": 115,
   "id": "f2e0af6b",
   "metadata": {},
   "outputs": [
    {
     "data": {
      "text/plain": [
       "100"
      ]
     },
     "execution_count": 115,
     "metadata": {},
     "output_type": "execute_result"
    }
   ],
   "source": [
    "x = 100\n",
    "y = 200\n",
    "\n"
   ]
  },
  {
   "cell_type": "code",
   "execution_count": null,
   "id": "157ed5a6",
   "metadata": {},
   "outputs": [],
   "source": [
    "# Lists\n",
    "\n",
    "#1. Derived \n",
    "#2. Mutable\n",
    "#3. Heterogenous\n",
    "#4. Allows subscription - Indexing, slicing, assignment.\n",
    "#5. Ordered\n",
    "#6. Allows duplicates\n",
    "#7. Allows nesting\n",
    "#8. Iterable\n",
    "\n",
    "# Initialising lists\n",
    "\n",
    "#1. Either put the elements inside a square bracket\n",
    "#2. Using the list function, which takes one single iterable as its argument.\n",
    "\n",
    "# We can do concatenation and multiplication of lists. \n",
    "\n",
    "# Built-in methods that work with lists\n",
    "\n",
    "# len, max, min"
   ]
  },
  {
   "cell_type": "code",
   "execution_count": 15,
   "id": "6db6f979",
   "metadata": {},
   "outputs": [],
   "source": [
    "def funct():\n",
    "    print('Hello')"
   ]
  },
  {
   "cell_type": "code",
   "execution_count": 16,
   "id": "25c3f76e",
   "metadata": {},
   "outputs": [
    {
     "name": "stdout",
     "output_type": "stream",
     "text": [
      "Hello\n"
     ]
    }
   ],
   "source": [
    "funct()"
   ]
  },
  {
   "cell_type": "code",
   "execution_count": 18,
   "id": "9f4f7f8a",
   "metadata": {},
   "outputs": [],
   "source": [
    "def funct1():\n",
    "    return 'Hi'"
   ]
  },
  {
   "cell_type": "code",
   "execution_count": 20,
   "id": "63de0e70",
   "metadata": {},
   "outputs": [
    {
     "data": {
      "text/plain": [
       "10"
      ]
     },
     "execution_count": 20,
     "metadata": {},
     "output_type": "execute_result"
    }
   ],
   "source": [
    "x = 10\n",
    "\n",
    "funct1()\n",
    "\n",
    "x"
   ]
  },
  {
   "cell_type": "code",
   "execution_count": 21,
   "id": "4ee716f2",
   "metadata": {},
   "outputs": [],
   "source": [
    "var1 = funct1()"
   ]
  },
  {
   "cell_type": "code",
   "execution_count": 22,
   "id": "7cc5b6b9",
   "metadata": {},
   "outputs": [
    {
     "name": "stdout",
     "output_type": "stream",
     "text": [
      "Hi\n"
     ]
    }
   ],
   "source": [
    "print(var1)"
   ]
  },
  {
   "cell_type": "code",
   "execution_count": 23,
   "id": "5ba18523",
   "metadata": {},
   "outputs": [
    {
     "name": "stdout",
     "output_type": "stream",
     "text": [
      "Hi\n"
     ]
    }
   ],
   "source": [
    "print(funct1())"
   ]
  },
  {
   "cell_type": "markdown",
   "id": "b5856373",
   "metadata": {},
   "source": [
    "### List functions"
   ]
  },
  {
   "cell_type": "code",
   "execution_count": null,
   "id": "0681c908",
   "metadata": {},
   "outputs": [],
   "source": [
    "# Append function"
   ]
  },
  {
   "cell_type": "code",
   "execution_count": 25,
   "id": "9296b148",
   "metadata": {},
   "outputs": [],
   "source": [
    "lst1 = [1,2,3,4]"
   ]
  },
  {
   "cell_type": "code",
   "execution_count": 26,
   "id": "05b1f8e7",
   "metadata": {},
   "outputs": [],
   "source": [
    "lst1.append(5)"
   ]
  },
  {
   "cell_type": "code",
   "execution_count": 27,
   "id": "a3c0433a",
   "metadata": {},
   "outputs": [
    {
     "name": "stdout",
     "output_type": "stream",
     "text": [
      "[1, 2, 3, 4, 5]\n"
     ]
    }
   ],
   "source": [
    "print(lst1)"
   ]
  },
  {
   "cell_type": "code",
   "execution_count": 28,
   "id": "12b94db4",
   "metadata": {},
   "outputs": [
    {
     "name": "stdout",
     "output_type": "stream",
     "text": [
      "[1, 2, 3, 4, 5, [6, 7, 8]]\n"
     ]
    }
   ],
   "source": [
    "lst1.append([6,7,8])\n",
    "\n",
    "print(lst1)"
   ]
  },
  {
   "cell_type": "code",
   "execution_count": 29,
   "id": "dd48b1c4",
   "metadata": {},
   "outputs": [],
   "source": [
    "lst1.append((9,10))"
   ]
  },
  {
   "cell_type": "code",
   "execution_count": 30,
   "id": "e87e2d96",
   "metadata": {},
   "outputs": [
    {
     "name": "stdout",
     "output_type": "stream",
     "text": [
      "[1, 2, 3, 4, 5, [6, 7, 8], (9, 10)]\n"
     ]
    }
   ],
   "source": [
    "print(lst1)"
   ]
  },
  {
   "cell_type": "code",
   "execution_count": 31,
   "id": "6c61d468",
   "metadata": {},
   "outputs": [],
   "source": [
    "lst1.append('ABC')"
   ]
  },
  {
   "cell_type": "code",
   "execution_count": 32,
   "id": "2430173f",
   "metadata": {},
   "outputs": [
    {
     "name": "stdout",
     "output_type": "stream",
     "text": [
      "[1, 2, 3, 4, 5, [6, 7, 8], (9, 10), 'ABC']\n"
     ]
    }
   ],
   "source": [
    "print(lst1)"
   ]
  },
  {
   "cell_type": "code",
   "execution_count": 35,
   "id": "c77c82c6",
   "metadata": {},
   "outputs": [],
   "source": [
    "# Extend - Takes an iterable as its argument and puts the elements of the iterable as seperate objects in the list.\n",
    "lst1 = [1,2,3,4]"
   ]
  },
  {
   "cell_type": "code",
   "execution_count": 36,
   "id": "359ce3e1",
   "metadata": {},
   "outputs": [],
   "source": [
    "lst1.extend([5,6])"
   ]
  },
  {
   "cell_type": "code",
   "execution_count": 37,
   "id": "72859cae",
   "metadata": {},
   "outputs": [
    {
     "name": "stdout",
     "output_type": "stream",
     "text": [
      "[1, 2, 3, 4, 5, 6]\n"
     ]
    }
   ],
   "source": [
    "print(lst1)"
   ]
  },
  {
   "cell_type": "code",
   "execution_count": 39,
   "id": "324580c1",
   "metadata": {},
   "outputs": [],
   "source": [
    "lst1.extend((7,8))"
   ]
  },
  {
   "cell_type": "code",
   "execution_count": 40,
   "id": "a8286401",
   "metadata": {},
   "outputs": [
    {
     "name": "stdout",
     "output_type": "stream",
     "text": [
      "[1, 2, 3, 4, 5, 6, 7, 8]\n"
     ]
    }
   ],
   "source": [
    "print(lst1)"
   ]
  },
  {
   "cell_type": "code",
   "execution_count": 41,
   "id": "50890d2f",
   "metadata": {},
   "outputs": [
    {
     "ename": "TypeError",
     "evalue": "can only concatenate list (not \"tuple\") to list",
     "output_type": "error",
     "traceback": [
      "\u001b[1;31m---------------------------------------------------------------------------\u001b[0m",
      "\u001b[1;31mTypeError\u001b[0m                                 Traceback (most recent call last)",
      "\u001b[1;32m~\\AppData\\Local\\Temp\\ipykernel_8596\\3481649403.py\u001b[0m in \u001b[0;36m<module>\u001b[1;34m\u001b[0m\n\u001b[0;32m      3\u001b[0m \u001b[0mlst1\u001b[0m \u001b[1;33m=\u001b[0m \u001b[1;33m[\u001b[0m\u001b[1;36m1\u001b[0m\u001b[1;33m,\u001b[0m\u001b[1;36m2\u001b[0m\u001b[1;33m,\u001b[0m\u001b[1;36m3\u001b[0m\u001b[1;33m,\u001b[0m\u001b[1;36m4\u001b[0m\u001b[1;33m]\u001b[0m\u001b[1;33m\u001b[0m\u001b[1;33m\u001b[0m\u001b[0m\n\u001b[0;32m      4\u001b[0m \u001b[1;33m\u001b[0m\u001b[0m\n\u001b[1;32m----> 5\u001b[1;33m \u001b[0mlst2\u001b[0m \u001b[1;33m=\u001b[0m \u001b[0mlst1\u001b[0m\u001b[1;33m+\u001b[0m \u001b[1;33m(\u001b[0m\u001b[1;36m9\u001b[0m\u001b[1;33m,\u001b[0m\u001b[1;36m10\u001b[0m\u001b[1;33m)\u001b[0m\u001b[1;33m\u001b[0m\u001b[1;33m\u001b[0m\u001b[0m\n\u001b[0m",
      "\u001b[1;31mTypeError\u001b[0m: can only concatenate list (not \"tuple\") to list"
     ]
    }
   ],
   "source": [
    "# Difference between extend and concatenate. \n",
    "\n",
    "lst1 = [1,2,3,4]\n",
    "\n",
    "lst2 = lst1+ (9,10)"
   ]
  },
  {
   "cell_type": "code",
   "execution_count": 42,
   "id": "2979474a",
   "metadata": {},
   "outputs": [
    {
     "name": "stdout",
     "output_type": "stream",
     "text": [
      "[1, 2, 3, 4, 9, 10]\n"
     ]
    }
   ],
   "source": [
    "lst1.extend((9,10))\n",
    "\n",
    "print(lst1)"
   ]
  },
  {
   "cell_type": "code",
   "execution_count": null,
   "id": "f9225daf",
   "metadata": {},
   "outputs": [],
   "source": [
    "# Another difference is - concatenate gives a NEW LIST as its output. Extend modifies the original list."
   ]
  },
  {
   "cell_type": "code",
   "execution_count": 43,
   "id": "b7d8866c",
   "metadata": {},
   "outputs": [
    {
     "name": "stdout",
     "output_type": "stream",
     "text": [
      "2250061156928\n"
     ]
    }
   ],
   "source": [
    "lst1 = [1,2,3,4]\n",
    "\n",
    "print(id(lst1))"
   ]
  },
  {
   "cell_type": "code",
   "execution_count": 44,
   "id": "6fc67c2d",
   "metadata": {},
   "outputs": [
    {
     "name": "stdout",
     "output_type": "stream",
     "text": [
      "[1, 2, 3, 4, 5, 6]\n",
      "2250061156928\n"
     ]
    }
   ],
   "source": [
    "lst1.extend([5,6])\n",
    "\n",
    "print(lst1)\n",
    "print(id(lst1))"
   ]
  },
  {
   "cell_type": "code",
   "execution_count": 73,
   "id": "ee2f3b89",
   "metadata": {},
   "outputs": [
    {
     "name": "stdout",
     "output_type": "stream",
     "text": [
      "[1, 2, 3, 4]\n"
     ]
    }
   ],
   "source": [
    "# Insert\n",
    "\n",
    "lst1 = [1,2,3,4]\n",
    "\n",
    "print(lst1)"
   ]
  },
  {
   "cell_type": "code",
   "execution_count": 74,
   "id": "8409861a",
   "metadata": {},
   "outputs": [],
   "source": [
    "lst1.insert(-1,100)"
   ]
  },
  {
   "cell_type": "code",
   "execution_count": 75,
   "id": "66c5e7af",
   "metadata": {},
   "outputs": [
    {
     "name": "stdout",
     "output_type": "stream",
     "text": [
      "[1, 2, 3, 100, 4]\n"
     ]
    }
   ],
   "source": [
    "print(lst1)"
   ]
  },
  {
   "cell_type": "code",
   "execution_count": 81,
   "id": "4e85e92d",
   "metadata": {},
   "outputs": [
    {
     "name": "stdout",
     "output_type": "stream",
     "text": [
      "2250062077184\n"
     ]
    }
   ],
   "source": [
    "# Clear\n",
    "\n",
    "lst1 = [1,2,3,4]\n",
    "\n",
    "print(id(lst1))"
   ]
  },
  {
   "cell_type": "code",
   "execution_count": 82,
   "id": "6ddf76f1",
   "metadata": {},
   "outputs": [
    {
     "name": "stdout",
     "output_type": "stream",
     "text": [
      "[]\n",
      "2250062077184\n"
     ]
    }
   ],
   "source": [
    "lst1.clear()\n",
    "\n",
    "print(lst1)\n",
    "print(id(lst1))"
   ]
  },
  {
   "cell_type": "code",
   "execution_count": 80,
   "id": "779d9d2f",
   "metadata": {},
   "outputs": [
    {
     "name": "stdout",
     "output_type": "stream",
     "text": [
      "[1, 2, 3]\n"
     ]
    }
   ],
   "source": [
    "# del keyword\n",
    "\n",
    "del lst1[3]\n",
    "\n",
    "print(lst1)"
   ]
  },
  {
   "cell_type": "code",
   "execution_count": 83,
   "id": "27a7e2e3",
   "metadata": {},
   "outputs": [
    {
     "name": "stdout",
     "output_type": "stream",
     "text": [
      "Abc\n"
     ]
    }
   ],
   "source": [
    "x = 'Abc'\n",
    "\n",
    "print(x)\n"
   ]
  },
  {
   "cell_type": "code",
   "execution_count": 84,
   "id": "ce6573e3",
   "metadata": {},
   "outputs": [
    {
     "ename": "NameError",
     "evalue": "name 'x' is not defined",
     "output_type": "error",
     "traceback": [
      "\u001b[1;31m---------------------------------------------------------------------------\u001b[0m",
      "\u001b[1;31mNameError\u001b[0m                                 Traceback (most recent call last)",
      "\u001b[1;32m~\\AppData\\Local\\Temp\\ipykernel_8596\\1410404107.py\u001b[0m in \u001b[0;36m<module>\u001b[1;34m\u001b[0m\n\u001b[0;32m      1\u001b[0m \u001b[1;32mdel\u001b[0m \u001b[0mx\u001b[0m\u001b[1;33m\u001b[0m\u001b[1;33m\u001b[0m\u001b[0m\n\u001b[0;32m      2\u001b[0m \u001b[1;33m\u001b[0m\u001b[0m\n\u001b[1;32m----> 3\u001b[1;33m \u001b[0mprint\u001b[0m\u001b[1;33m(\u001b[0m\u001b[0mx\u001b[0m\u001b[1;33m)\u001b[0m\u001b[1;33m\u001b[0m\u001b[1;33m\u001b[0m\u001b[0m\n\u001b[0m",
      "\u001b[1;31mNameError\u001b[0m: name 'x' is not defined"
     ]
    }
   ],
   "source": [
    "del x\n",
    "\n",
    "print(x)"
   ]
  },
  {
   "cell_type": "code",
   "execution_count": 85,
   "id": "45aea827",
   "metadata": {},
   "outputs": [
    {
     "name": "stdout",
     "output_type": "stream",
     "text": [
      "[1, 2, 3, 4]\n"
     ]
    }
   ],
   "source": [
    "# remove\n",
    "\n",
    "lst1 = [1,2,3,4]\n",
    "\n",
    "print(lst1)"
   ]
  },
  {
   "cell_type": "code",
   "execution_count": 86,
   "id": "06917df4",
   "metadata": {},
   "outputs": [],
   "source": [
    "lst1.remove(3)"
   ]
  },
  {
   "cell_type": "code",
   "execution_count": 87,
   "id": "2560de1b",
   "metadata": {},
   "outputs": [
    {
     "name": "stdout",
     "output_type": "stream",
     "text": [
      "[1, 2, 4]\n"
     ]
    }
   ],
   "source": [
    "print(lst1)"
   ]
  },
  {
   "cell_type": "code",
   "execution_count": 92,
   "id": "e0587fb0",
   "metadata": {},
   "outputs": [
    {
     "name": "stdout",
     "output_type": "stream",
     "text": [
      "['A', 'B', 'C', 'D', 'E']\n"
     ]
    }
   ],
   "source": [
    "lst1 = list('ABCDE')\n",
    "\n",
    "print(lst1)"
   ]
  },
  {
   "cell_type": "code",
   "execution_count": 90,
   "id": "f7e3bc9b",
   "metadata": {},
   "outputs": [
    {
     "name": "stdout",
     "output_type": "stream",
     "text": [
      "['A', 'B', 'D', 'E']\n"
     ]
    }
   ],
   "source": [
    "lst1.remove('C')\n",
    "\n",
    "print(lst1)"
   ]
  },
  {
   "cell_type": "code",
   "execution_count": 93,
   "id": "b1ef4507",
   "metadata": {},
   "outputs": [
    {
     "ename": "ValueError",
     "evalue": "list.remove(x): x not in list",
     "output_type": "error",
     "traceback": [
      "\u001b[1;31m---------------------------------------------------------------------------\u001b[0m",
      "\u001b[1;31mValueError\u001b[0m                                Traceback (most recent call last)",
      "\u001b[1;32m~\\AppData\\Local\\Temp\\ipykernel_8596\\4032726704.py\u001b[0m in \u001b[0;36m<module>\u001b[1;34m\u001b[0m\n\u001b[1;32m----> 1\u001b[1;33m \u001b[0mlst1\u001b[0m\u001b[1;33m.\u001b[0m\u001b[0mremove\u001b[0m\u001b[1;33m(\u001b[0m\u001b[1;36m2\u001b[0m\u001b[1;33m)\u001b[0m\u001b[1;33m\u001b[0m\u001b[1;33m\u001b[0m\u001b[0m\n\u001b[0m\u001b[0;32m      2\u001b[0m \u001b[1;33m\u001b[0m\u001b[0m\n\u001b[0;32m      3\u001b[0m \u001b[0mprint\u001b[0m\u001b[1;33m(\u001b[0m\u001b[0mlst1\u001b[0m\u001b[1;33m)\u001b[0m\u001b[1;33m\u001b[0m\u001b[1;33m\u001b[0m\u001b[0m\n",
      "\u001b[1;31mValueError\u001b[0m: list.remove(x): x not in list"
     ]
    }
   ],
   "source": [
    "lst1.remove(2)\n",
    "\n",
    "print(lst1)"
   ]
  },
  {
   "cell_type": "code",
   "execution_count": 94,
   "id": "7413eb20",
   "metadata": {},
   "outputs": [
    {
     "name": "stdout",
     "output_type": "stream",
     "text": [
      "['A', 'B', 'C', 'D', 'E', 'C', 'C']\n"
     ]
    }
   ],
   "source": [
    "lst1 = list('ABCDECC')\n",
    "\n",
    "\n",
    "print(lst1)"
   ]
  },
  {
   "cell_type": "code",
   "execution_count": 95,
   "id": "76825247",
   "metadata": {},
   "outputs": [
    {
     "name": "stdout",
     "output_type": "stream",
     "text": [
      "['A', 'B', 'D', 'E', 'C', 'C']\n"
     ]
    }
   ],
   "source": [
    "lst1.remove('C')\n",
    "\n",
    "print(lst1)"
   ]
  },
  {
   "cell_type": "code",
   "execution_count": 96,
   "id": "d7a10dd8",
   "metadata": {},
   "outputs": [],
   "source": [
    "# pop"
   ]
  },
  {
   "cell_type": "code",
   "execution_count": 106,
   "id": "d93f893c",
   "metadata": {},
   "outputs": [
    {
     "name": "stdout",
     "output_type": "stream",
     "text": [
      "[1, 2, 3, 4, 5]\n"
     ]
    }
   ],
   "source": [
    "lst1 = [1,2,3,4,5]\n",
    "\n",
    "print(lst1)"
   ]
  },
  {
   "cell_type": "code",
   "execution_count": null,
   "id": "afebacab",
   "metadata": {},
   "outputs": [],
   "source": [
    "# Pop - by default will remove the last element from the list. \n",
    "# However, it can take an optional argument, index position of the element to be removed. "
   ]
  },
  {
   "cell_type": "code",
   "execution_count": 105,
   "id": "7b315992",
   "metadata": {},
   "outputs": [
    {
     "name": "stdout",
     "output_type": "stream",
     "text": [
      "[1, 2, 4, 5]\n"
     ]
    }
   ],
   "source": [
    "lst1.pop(2)\n",
    "\n",
    "print(lst1)"
   ]
  },
  {
   "cell_type": "code",
   "execution_count": 110,
   "id": "e50c1010",
   "metadata": {},
   "outputs": [],
   "source": [
    "lst1 = [1,2,3,4,5]"
   ]
  },
  {
   "cell_type": "code",
   "execution_count": 108,
   "id": "8026dd6a",
   "metadata": {},
   "outputs": [
    {
     "name": "stdout",
     "output_type": "stream",
     "text": [
      "[1, 2, 3, 4, 5]\n"
     ]
    }
   ],
   "source": [
    "print(lst1)"
   ]
  },
  {
   "cell_type": "code",
   "execution_count": 109,
   "id": "1ba61189",
   "metadata": {},
   "outputs": [
    {
     "name": "stdout",
     "output_type": "stream",
     "text": [
      "[1, 2, 4, 5]\n",
      "None\n"
     ]
    }
   ],
   "source": [
    "tempvar = lst1.remove(3)\n",
    "\n",
    "print(lst1)\n",
    "print(tempvar)"
   ]
  },
  {
   "cell_type": "code",
   "execution_count": 161,
   "id": "72ce7789",
   "metadata": {},
   "outputs": [],
   "source": [
    "def funct():\n",
    "    print('Hello')"
   ]
  },
  {
   "cell_type": "code",
   "execution_count": 160,
   "id": "5f42e9ce",
   "metadata": {},
   "outputs": [],
   "source": [
    "def funct1():\n",
    "    return 'Hi'"
   ]
  },
  {
   "cell_type": "code",
   "execution_count": 111,
   "id": "30e48a3e",
   "metadata": {},
   "outputs": [
    {
     "name": "stdout",
     "output_type": "stream",
     "text": [
      "[1, 2, 4, 5]\n",
      "3\n"
     ]
    }
   ],
   "source": [
    "tempvar = lst1.pop(2)\n",
    "\n",
    "print(lst1)\n",
    "print(tempvar)"
   ]
  },
  {
   "cell_type": "code",
   "execution_count": 112,
   "id": "49f60b90",
   "metadata": {},
   "outputs": [
    {
     "name": "stdout",
     "output_type": "stream",
     "text": [
      "6\n"
     ]
    }
   ],
   "source": [
    "lst1 = list('ABCDDDEDCDD')\n",
    "\n",
    "tempvar = lst1.count('D')\n",
    "\n",
    "print(tempvar)"
   ]
  },
  {
   "cell_type": "code",
   "execution_count": null,
   "id": "07096a11",
   "metadata": {},
   "outputs": [],
   "source": [
    "# Index - Looks for first occurrence of element to be found and goes left to right. \n",
    "# If element not found index throws an error."
   ]
  },
  {
   "cell_type": "code",
   "execution_count": 115,
   "id": "8535fe07",
   "metadata": {},
   "outputs": [
    {
     "name": "stdout",
     "output_type": "stream",
     "text": [
      "['A', 'B', 'C', 'D', 'E', 'D', 'F', 'D', 'G', 'D']\n"
     ]
    }
   ],
   "source": [
    "lst1 = list('ABCDEDFDGD')\n",
    "\n",
    "print(lst1)"
   ]
  },
  {
   "cell_type": "code",
   "execution_count": 117,
   "id": "fe432de1",
   "metadata": {},
   "outputs": [
    {
     "name": "stdout",
     "output_type": "stream",
     "text": [
      "3\n"
     ]
    }
   ],
   "source": [
    "tempvar = lst1.index('D')\n",
    "\n",
    "print(tempvar)"
   ]
  },
  {
   "cell_type": "code",
   "execution_count": 122,
   "id": "049bb66c",
   "metadata": {},
   "outputs": [
    {
     "name": "stdout",
     "output_type": "stream",
     "text": [
      "[18, 41, 99, 26, 23, 72, 7]\n"
     ]
    }
   ],
   "source": [
    "# Sort method\n",
    "\n",
    "lst1 = [18,41,99,26,23,72,7]\n",
    "\n",
    "print(lst1)"
   ]
  },
  {
   "cell_type": "code",
   "execution_count": 125,
   "id": "a1208bbb",
   "metadata": {},
   "outputs": [
    {
     "name": "stdout",
     "output_type": "stream",
     "text": [
      "[99, 72, 41, 26, 23, 18, 7]\n"
     ]
    }
   ],
   "source": [
    "lst1.sort(reverse=True)\n",
    "\n",
    "print(lst1)"
   ]
  },
  {
   "cell_type": "code",
   "execution_count": 126,
   "id": "0e2e5cb0",
   "metadata": {},
   "outputs": [
    {
     "name": "stdout",
     "output_type": "stream",
     "text": [
      "['c', 'd', 'f', 'x', 'm', 'r', 'b', 'a', 'j']\n"
     ]
    }
   ],
   "source": [
    "lstalpha = list('cdfxmrbaj')\n",
    "\n",
    "print(lstalpha)"
   ]
  },
  {
   "cell_type": "code",
   "execution_count": 127,
   "id": "c401c2d9",
   "metadata": {},
   "outputs": [
    {
     "name": "stdout",
     "output_type": "stream",
     "text": [
      "['a', 'b', 'c', 'd', 'f', 'j', 'm', 'r', 'x']\n"
     ]
    }
   ],
   "source": [
    "lstalpha.sort()\n",
    "print(lstalpha)"
   ]
  },
  {
   "cell_type": "code",
   "execution_count": 128,
   "id": "2b7f445e",
   "metadata": {},
   "outputs": [],
   "source": [
    "lstnames = ['lovish', 'Sankar', 'Reddy', 'Peter', 'Juhi', 'Manisha', 'Sravanthi', 'Ismitha', 'Pat']"
   ]
  },
  {
   "cell_type": "code",
   "execution_count": 129,
   "id": "4235dd72",
   "metadata": {},
   "outputs": [
    {
     "name": "stdout",
     "output_type": "stream",
     "text": [
      "['Pat', 'Juhi', 'Reddy', 'Peter', 'lovish', 'Sankar', 'Manisha', 'Ismitha', 'Sravanthi']\n"
     ]
    }
   ],
   "source": [
    "lstnames.sort(key = len)\n",
    "\n",
    "print(lstnames)"
   ]
  },
  {
   "cell_type": "code",
   "execution_count": null,
   "id": "97e26675",
   "metadata": {},
   "outputs": [],
   "source": [
    "# Step number 1\n",
    "\n",
    "# Each of the elements in the list get passed to the function we have given\n",
    "\n",
    "# 6, 6, 5, 5, 4, 7, 9, 7, 3\n",
    "\n",
    "# Step number 2\n",
    "\n",
    "# 3,4,5,5,6,6,7,7,9\n",
    "\n",
    "# Step number 3\n",
    "\n",
    "# Pat, Juhi, Reddy, Peter, Lovish, Sankar, Manisha, Ismitha, Sravanthi\n",
    "\n",
    "# \n"
   ]
  },
  {
   "cell_type": "code",
   "execution_count": 131,
   "id": "c694e578",
   "metadata": {},
   "outputs": [
    {
     "name": "stdout",
     "output_type": "stream",
     "text": [
      "[[10, 30, 99], [7, 84, 31], [93, 95, 67], [42, 59, 32]]\n"
     ]
    }
   ],
   "source": [
    "lst1 = [[10,30,99], [7,84,31], [93,95,67], [42, 59,32]]\n",
    "\n",
    "print(lst1)"
   ]
  },
  {
   "cell_type": "code",
   "execution_count": 135,
   "id": "a24f3bc3",
   "metadata": {},
   "outputs": [
    {
     "name": "stdout",
     "output_type": "stream",
     "text": [
      "[[10, 30, 99], [93, 95, 67], [7, 84, 31], [42, 59, 32]]\n"
     ]
    }
   ],
   "source": [
    "lst1.sort(key = max, reverse = True)\n",
    "\n",
    "print(lst1)"
   ]
  },
  {
   "cell_type": "code",
   "execution_count": 133,
   "id": "5b34c78e",
   "metadata": {},
   "outputs": [],
   "source": [
    "# Step 1 - Passing each element to the function given - which is max in this case. \n",
    "\n",
    "# [10,30,99] = 99\n",
    "# [7,84,31] = 84\n",
    "# [93,95,67] = 95\n",
    "# [42,59,32] = 59\n",
    "\n",
    "# 99,84,95,59\n",
    "\n",
    "# Step 2 - It sorts the outputs from step 1\n",
    "\n",
    "# 59,84,95,99\n",
    "\n",
    "# Step 3 - Output sorted list as per corresponding elements of each output in step 2\n",
    "\n",
    "#[[42,59,32], [7,84,31], [93,95,67], [10,30,99]]"
   ]
  },
  {
   "cell_type": "code",
   "execution_count": 137,
   "id": "78704640",
   "metadata": {},
   "outputs": [],
   "source": [
    "def secondelem(x):\n",
    "    return x[1]"
   ]
  },
  {
   "cell_type": "code",
   "execution_count": 141,
   "id": "14001f04",
   "metadata": {},
   "outputs": [
    {
     "name": "stdout",
     "output_type": "stream",
     "text": [
      "83\n"
     ]
    }
   ],
   "source": [
    "output1 = secondelem(('Sankara', 83))\n",
    "\n",
    "print(output1)"
   ]
  },
  {
   "cell_type": "code",
   "execution_count": 140,
   "id": "e0d00e09",
   "metadata": {},
   "outputs": [
    {
     "name": "stdout",
     "output_type": "stream",
     "text": [
      "80\n"
     ]
    }
   ],
   "source": [
    "lst1 = [('Lovish', 80), ('Sankara', 83), ('Reddy', 84), ('Peter',91), ('Juhi', 87)]\n",
    "\n",
    "lst1.sort(key = secondelem)\n",
    "\n",
    "print(lst1))\n",
    "\n",
    "print(output1)"
   ]
  },
  {
   "cell_type": "code",
   "execution_count": 139,
   "id": "bccba6fc",
   "metadata": {},
   "outputs": [
    {
     "name": "stdout",
     "output_type": "stream",
     "text": [
      "[('Lovish', 80), ('Sankara', 83), ('Reddy', 84), ('Juhi', 87), ('Peter', 91)]\n"
     ]
    }
   ],
   "source": [
    "lst1 = [('Lovish', 80), ('Sankara', 83), ('Reddy', 84), ('Peter',91), ('Juhi', 87)]\n",
    "\n",
    "lst1.sort(key = secondelem)\n",
    "\n",
    "print(lst1)"
   ]
  },
  {
   "cell_type": "code",
   "execution_count": null,
   "id": "019b3d69",
   "metadata": {},
   "outputs": [],
   "source": [
    "# Step 1 - Pass each element of the list to the given function\n",
    "\n",
    "# (Lovish, 80) = 80\n",
    "# (Sankara, 83) = 83\n",
    "# (Reddy, 84) = 84\n",
    "# (Peter, 91) = 91\n",
    "# (Juhi, 87) = 87\n",
    "\n",
    "# 80, 83,84,91, 87\n",
    "\n",
    "# Step 2 - Sort out the outputs from first step. \n",
    "\n",
    "# 80,83,84,87,91\n",
    "\n",
    "# Step - Give the sorted list as per corresponding elements of each output in step 2\n",
    "\n",
    "# [('Lovish', 80), ('Sankara', 83), ('Reddy', 84), ('Juhi', 87), ('Peter', 91)]"
   ]
  },
  {
   "cell_type": "code",
   "execution_count": null,
   "id": "2c8de379",
   "metadata": {},
   "outputs": [],
   "source": [
    "# Python also has a built-in function called sorted"
   ]
  },
  {
   "cell_type": "code",
   "execution_count": 142,
   "id": "9eaf99cb",
   "metadata": {},
   "outputs": [],
   "source": [
    "# Difference between sort method (list method) and sorted:\n",
    "\n",
    "# 1. sort is a LIST method and syntax to use it is lstname.sort(). Sorted is a Python built-in method and will take any\n",
    "# iterable as its argument\n",
    "# 2. Sort modifies the original list. Sorted outputs a new LIST and leaves the original ITERABLE unchanged."
   ]
  },
  {
   "cell_type": "code",
   "execution_count": null,
   "id": "0b4bcc0b",
   "metadata": {},
   "outputs": [],
   "source": []
  },
  {
   "cell_type": "code",
   "execution_count": 143,
   "id": "24d2c1d8",
   "metadata": {},
   "outputs": [
    {
     "name": "stdout",
     "output_type": "stream",
     "text": [
      "(99, 7, 42, 39, 64)\n"
     ]
    }
   ],
   "source": [
    "tup1 = (99,7,42,39,64)\n",
    "\n",
    "print(tup1)"
   ]
  },
  {
   "cell_type": "code",
   "execution_count": 147,
   "id": "2daccd08",
   "metadata": {},
   "outputs": [
    {
     "name": "stdout",
     "output_type": "stream",
     "text": [
      "[99, 7, 42, 39, 64]\n"
     ]
    }
   ],
   "source": [
    "lst1 = list(tup1)\n",
    "\n",
    "print(lst1)"
   ]
  },
  {
   "cell_type": "code",
   "execution_count": 145,
   "id": "f62cfeac",
   "metadata": {},
   "outputs": [
    {
     "ename": "AttributeError",
     "evalue": "'tuple' object has no attribute 'sort'",
     "output_type": "error",
     "traceback": [
      "\u001b[1;31m---------------------------------------------------------------------------\u001b[0m",
      "\u001b[1;31mAttributeError\u001b[0m                            Traceback (most recent call last)",
      "\u001b[1;32m~\\AppData\\Local\\Temp\\ipykernel_8596\\641033316.py\u001b[0m in \u001b[0;36m<module>\u001b[1;34m\u001b[0m\n\u001b[1;32m----> 1\u001b[1;33m \u001b[0mtup1\u001b[0m\u001b[1;33m.\u001b[0m\u001b[0msort\u001b[0m\u001b[1;33m(\u001b[0m\u001b[1;33m)\u001b[0m\u001b[1;33m\u001b[0m\u001b[1;33m\u001b[0m\u001b[0m\n\u001b[0m",
      "\u001b[1;31mAttributeError\u001b[0m: 'tuple' object has no attribute 'sort'"
     ]
    }
   ],
   "source": [
    "tup1.sort()"
   ]
  },
  {
   "cell_type": "code",
   "execution_count": 159,
   "id": "e865aabe",
   "metadata": {},
   "outputs": [
    {
     "name": "stdout",
     "output_type": "stream",
     "text": [
      "[' ', 'D', 'M', 'a', 'a', 'a', 'e', 'h', 'n', 'o', 'r', 'r', 's']\n"
     ]
    }
   ],
   "source": [
    "newstring = sorted('Darshana More')\n",
    "\n",
    "print(newstring)"
   ]
  },
  {
   "cell_type": "code",
   "execution_count": 146,
   "id": "8e118953",
   "metadata": {},
   "outputs": [
    {
     "name": "stdout",
     "output_type": "stream",
     "text": [
      "[7, 39, 42, 64, 99]\n"
     ]
    }
   ],
   "source": [
    "lst1.sort()\n",
    "\n",
    "print(lst1)"
   ]
  },
  {
   "cell_type": "code",
   "execution_count": 148,
   "id": "1ed56c22",
   "metadata": {},
   "outputs": [
    {
     "name": "stdout",
     "output_type": "stream",
     "text": [
      "(99, 7, 42, 39, 64)\n",
      "[7, 39, 42, 64, 99]\n"
     ]
    }
   ],
   "source": [
    "sortedtup = sorted(tup1)\n",
    "\n",
    "print(tup1)\n",
    "print(sortedtup)"
   ]
  },
  {
   "cell_type": "code",
   "execution_count": 149,
   "id": "987b4063",
   "metadata": {},
   "outputs": [
    {
     "name": "stdout",
     "output_type": "stream",
     "text": [
      "(7, 39, 42, 64, 99)\n"
     ]
    }
   ],
   "source": [
    "sortedtup = tuple(sorted(tup1))\n",
    "\n",
    "print(sortedtup)"
   ]
  },
  {
   "cell_type": "code",
   "execution_count": 152,
   "id": "2c5950aa",
   "metadata": {},
   "outputs": [
    {
     "name": "stdout",
     "output_type": "stream",
     "text": [
      "['Sravanthi', 'Sankara', 'Manisha', 'Ismitha', 'Lovish', 'Reddy', 'Peter', 'Juhi']\n"
     ]
    }
   ],
   "source": [
    "tupnames = ('Lovish', 'Sankara', 'Juhi', 'Reddy', 'Peter', 'Manisha', 'Sravanthi', 'Ismitha')\n",
    "\n",
    "tupnamessorted = sorted(tupnames, key = len, reverse = True)\n",
    "\n",
    "print(tupnamessorted)"
   ]
  },
  {
   "cell_type": "code",
   "execution_count": 151,
   "id": "f0dbb552",
   "metadata": {},
   "outputs": [
    {
     "name": "stdout",
     "output_type": "stream",
     "text": [
      "['Sravanthi', 'Sankara', 'Manisha', 'Ismitha', 'Lovish', 'Reddy', 'Peter', 'Juhi']\n"
     ]
    }
   ],
   "source": [
    "# Reverse\n",
    "\n",
    "print(tupnamessorted)"
   ]
  },
  {
   "cell_type": "code",
   "execution_count": 153,
   "id": "a96eb421",
   "metadata": {},
   "outputs": [
    {
     "name": "stdout",
     "output_type": "stream",
     "text": [
      "['Lovish', 'Sankara', 'Juhi', 'Reddy', 'Peter', 'Manisha', 'Sravanthi', 'Ismitha']\n"
     ]
    }
   ],
   "source": [
    "lstnames = list(tupnames)\n",
    "\n",
    "print(lstnames)"
   ]
  },
  {
   "cell_type": "code",
   "execution_count": 154,
   "id": "91f78b83",
   "metadata": {},
   "outputs": [
    {
     "name": "stdout",
     "output_type": "stream",
     "text": [
      "['Ismitha', 'Sravanthi', 'Manisha', 'Peter', 'Reddy', 'Juhi', 'Sankara', 'Lovish']\n"
     ]
    }
   ],
   "source": [
    "lstnames.reverse()\n",
    "\n",
    "print(lstnames)"
   ]
  },
  {
   "cell_type": "code",
   "execution_count": 155,
   "id": "2cfb3cab",
   "metadata": {},
   "outputs": [],
   "source": [
    "lst1 = [4,2,6,1,'a','c','b']"
   ]
  },
  {
   "cell_type": "code",
   "execution_count": 156,
   "id": "0009466b",
   "metadata": {},
   "outputs": [
    {
     "ename": "TypeError",
     "evalue": "sort() takes no positional arguments",
     "output_type": "error",
     "traceback": [
      "\u001b[1;31m---------------------------------------------------------------------------\u001b[0m",
      "\u001b[1;31mTypeError\u001b[0m                                 Traceback (most recent call last)",
      "\u001b[1;32m~\\AppData\\Local\\Temp\\ipykernel_8596\\1564664573.py\u001b[0m in \u001b[0;36m<module>\u001b[1;34m\u001b[0m\n\u001b[1;32m----> 1\u001b[1;33m \u001b[0mprint\u001b[0m\u001b[1;33m(\u001b[0m\u001b[0mlst1\u001b[0m\u001b[1;33m.\u001b[0m\u001b[0msort\u001b[0m\u001b[1;33m(\u001b[0m\u001b[0mlst1\u001b[0m\u001b[1;33m[\u001b[0m\u001b[1;33m:\u001b[0m\u001b[1;36m3\u001b[0m\u001b[1;33m]\u001b[0m\u001b[1;33m)\u001b[0m\u001b[1;33m)\u001b[0m\u001b[1;33m\u001b[0m\u001b[1;33m\u001b[0m\u001b[0m\n\u001b[0m",
      "\u001b[1;31mTypeError\u001b[0m: sort() takes no positional arguments"
     ]
    }
   ],
   "source": [
    "print(lst1.sort(lst1[:3]))"
   ]
  },
  {
   "cell_type": "code",
   "execution_count": 158,
   "id": "79d9a842",
   "metadata": {},
   "outputs": [
    {
     "name": "stdout",
     "output_type": "stream",
     "text": [
      "[2, 4, 6]\n"
     ]
    }
   ],
   "source": [
    "lst2 = lst1[:3]\n",
    "lst2.sort()\n",
    "\n",
    "print(lst2)"
   ]
  },
  {
   "cell_type": "code",
   "execution_count": null,
   "id": "2f3924ae",
   "metadata": {},
   "outputs": [],
   "source": [
    "# Functions in lists\n",
    "\n",
    "# Append, extend, remove, sort, pop, insert, count, clear, reverse, index\n",
    "\n",
    "# Sorted built-in Python function\n",
    "# del keyword - Python built-in keyword"
   ]
  },
  {
   "cell_type": "code",
   "execution_count": null,
   "id": "07973c72",
   "metadata": {},
   "outputs": [],
   "source": []
  },
  {
   "cell_type": "code",
   "execution_count": 134,
   "id": "76806024",
   "metadata": {},
   "outputs": [
    {
     "name": "stdout",
     "output_type": "stream",
     "text": [
      "['__add__', '__class__', '__class_getitem__', '__contains__', '__delattr__', '__delitem__', '__dir__', '__doc__', '__eq__', '__format__', '__ge__', '__getattribute__', '__getitem__', '__gt__', '__hash__', '__iadd__', '__imul__', '__init__', '__init_subclass__', '__iter__', '__le__', '__len__', '__lt__', '__mul__', '__ne__', '__new__', '__reduce__', '__reduce_ex__', '__repr__', '__reversed__', '__rmul__', '__setattr__', '__setitem__', '__sizeof__', '__str__', '__subclasshook__', 'append', 'clear', 'copy', 'count', 'extend', 'index', 'insert', 'pop', 'remove', 'reverse', 'sort']\n"
     ]
    }
   ],
   "source": [
    "print(dir(list))"
   ]
  },
  {
   "cell_type": "code",
   "execution_count": null,
   "id": "f2b65281",
   "metadata": {},
   "outputs": [],
   "source": [
    "# If we cannot change the value(s) (The value could also just be memory locations) of an object without creating a new object\n",
    "# instead - the object is immutable. "
   ]
  },
  {
   "cell_type": "code",
   "execution_count": 1,
   "id": "dc1f347c",
   "metadata": {},
   "outputs": [
    {
     "name": "stdout",
     "output_type": "stream",
     "text": [
      "2919696401648\n"
     ]
    }
   ],
   "source": [
    "a = 1000\n",
    "\n",
    "print(id(a))"
   ]
  },
  {
   "cell_type": "code",
   "execution_count": 2,
   "id": "b4e25b87",
   "metadata": {},
   "outputs": [
    {
     "name": "stdout",
     "output_type": "stream",
     "text": [
      "2919696401712\n"
     ]
    }
   ],
   "source": [
    "a = 1001\n",
    "\n",
    "print(id(a))"
   ]
  },
  {
   "cell_type": "code",
   "execution_count": 3,
   "id": "fdf06a7e",
   "metadata": {},
   "outputs": [
    {
     "name": "stdout",
     "output_type": "stream",
     "text": [
      "2919695921328\n"
     ]
    }
   ],
   "source": [
    "x = 'Apr 21'\n",
    "\n",
    "print(id(x))"
   ]
  },
  {
   "cell_type": "code",
   "execution_count": 4,
   "id": "213c472d",
   "metadata": {},
   "outputs": [
    {
     "name": "stdout",
     "output_type": "stream",
     "text": [
      "2919696373296\n"
     ]
    }
   ],
   "source": [
    "x = 'Apr 24'\n",
    "\n",
    "print(id(x))"
   ]
  },
  {
   "cell_type": "code",
   "execution_count": 5,
   "id": "6adeae17",
   "metadata": {},
   "outputs": [
    {
     "name": "stdout",
     "output_type": "stream",
     "text": [
      "2919696658048\n"
     ]
    }
   ],
   "source": [
    "lst1 = [1,2,3,4]\n",
    "\n",
    "print(id(lst1))"
   ]
  },
  {
   "cell_type": "code",
   "execution_count": 6,
   "id": "ac4bca30",
   "metadata": {},
   "outputs": [
    {
     "name": "stdout",
     "output_type": "stream",
     "text": [
      "2919696663808\n"
     ]
    }
   ],
   "source": [
    "lst2 = [1,2,3,4]\n",
    "\n",
    "print(id(lst2))"
   ]
  },
  {
   "cell_type": "code",
   "execution_count": 7,
   "id": "e53f7ba7",
   "metadata": {},
   "outputs": [
    {
     "name": "stdout",
     "output_type": "stream",
     "text": [
      "[100, 2, 3, 4]\n",
      "[1, 2, 3, 4]\n"
     ]
    }
   ],
   "source": [
    "lst1[0] = 100\n",
    "\n",
    "print(lst1)\n",
    "print(lst2)"
   ]
  },
  {
   "cell_type": "code",
   "execution_count": 8,
   "id": "afde21b5",
   "metadata": {},
   "outputs": [
    {
     "name": "stdout",
     "output_type": "stream",
     "text": [
      "[100, 2, 3, 4]\n"
     ]
    }
   ],
   "source": [
    "print(lst1)"
   ]
  },
  {
   "cell_type": "code",
   "execution_count": 9,
   "id": "f0bdddd3",
   "metadata": {},
   "outputs": [
    {
     "name": "stdout",
     "output_type": "stream",
     "text": [
      "2919696658048\n",
      "2919696658048\n"
     ]
    }
   ],
   "source": [
    "lst3 = lst1\n",
    "\n",
    "print(id(lst1))\n",
    "print(id(lst3))"
   ]
  },
  {
   "cell_type": "code",
   "execution_count": 10,
   "id": "d8bcc5bb",
   "metadata": {},
   "outputs": [
    {
     "name": "stdout",
     "output_type": "stream",
     "text": [
      "[111, 2, 3, 4]\n",
      "[111, 2, 3, 4]\n"
     ]
    }
   ],
   "source": [
    "lst1[0] = 111\n",
    "\n",
    "print(lst1)\n",
    "print(lst3)"
   ]
  },
  {
   "cell_type": "code",
   "execution_count": 11,
   "id": "7e15ee73",
   "metadata": {},
   "outputs": [
    {
     "name": "stdout",
     "output_type": "stream",
     "text": [
      "[111, 2, 3, 4]\n",
      "2919696658048\n",
      "2919696676096\n"
     ]
    }
   ],
   "source": [
    "# Copying can be done in 3 ways. \n",
    "\n",
    "lst4 = lst1[:]\n",
    "\n",
    "print(lst4)\n",
    "print(id(lst1))\n",
    "print(id(lst4))"
   ]
  },
  {
   "cell_type": "code",
   "execution_count": 12,
   "id": "2d51a5fd",
   "metadata": {},
   "outputs": [
    {
     "name": "stdout",
     "output_type": "stream",
     "text": [
      "[111, 2, 3, 4]\n",
      "2919696658048\n",
      "2919696676224\n"
     ]
    }
   ],
   "source": [
    "lst4 = lst1.copy()\n",
    "\n",
    "print(lst4)\n",
    "print(id(lst1))\n",
    "print(id(lst4))"
   ]
  },
  {
   "cell_type": "code",
   "execution_count": 13,
   "id": "8fbc524b",
   "metadata": {},
   "outputs": [
    {
     "name": "stdout",
     "output_type": "stream",
     "text": [
      "[111, 2, 3, 4]\n",
      "2919696658048\n",
      "2919696675840\n"
     ]
    }
   ],
   "source": [
    "import copy\n",
    "\n",
    "lst4 = copy.copy(lst1)\n",
    "\n",
    "print(lst4)\n",
    "print(id(lst1))\n",
    "print(id(lst4))"
   ]
  },
  {
   "cell_type": "code",
   "execution_count": 14,
   "id": "d1ef08f9",
   "metadata": {},
   "outputs": [
    {
     "name": "stdout",
     "output_type": "stream",
     "text": [
      "[1000, 2, 3, 4]\n",
      "[111, 2, 3, 4]\n"
     ]
    }
   ],
   "source": [
    "lst1[0] = 1000\n",
    "\n",
    "print(lst1)\n",
    "print(lst4)"
   ]
  },
  {
   "cell_type": "code",
   "execution_count": 30,
   "id": "57dffc4a",
   "metadata": {},
   "outputs": [
    {
     "name": "stdout",
     "output_type": "stream",
     "text": [
      "[1000, 2000, [500, 600]] 2919696677632\n",
      "[1000, 2000, [500, 600]] 2919696654528\n"
     ]
    }
   ],
   "source": [
    "#Deepcopy\n",
    "\n",
    "lst1 = [1000,2000,[500,600]]\n",
    "\n",
    "lst2 = lst1.copy()\n",
    "\n",
    "print(lst1, id(lst1))\n",
    "print(lst2, id(lst2))"
   ]
  },
  {
   "cell_type": "code",
   "execution_count": 16,
   "id": "e627caed",
   "metadata": {},
   "outputs": [
    {
     "name": "stdout",
     "output_type": "stream",
     "text": [
      "2919696676224\n",
      "2919696676224\n"
     ]
    }
   ],
   "source": [
    "print(id(lst1[2]))\n",
    "print(id(lst2[2]))"
   ]
  },
  {
   "cell_type": "code",
   "execution_count": 18,
   "id": "74555b39",
   "metadata": {},
   "outputs": [
    {
     "name": "stdout",
     "output_type": "stream",
     "text": [
      "2919696401648 2919696401648\n",
      "2919696403056 2919696403056\n",
      "2919696676224 2919696676224\n"
     ]
    }
   ],
   "source": [
    "for x in range(len(lst1)):\n",
    "    print(id(lst1[x]),id(lst2[x]))\n",
    "    "
   ]
  },
  {
   "cell_type": "code",
   "execution_count": 19,
   "id": "e91f7bd2",
   "metadata": {},
   "outputs": [
    {
     "name": "stdout",
     "output_type": "stream",
     "text": [
      "[1001, 2000, [500, 600]]\n",
      "[1000, 2000, [500, 600]]\n"
     ]
    }
   ],
   "source": [
    "lst1[0] = 1001\n",
    "\n",
    "print(lst1)\n",
    "print(lst2)\n",
    "\n"
   ]
  },
  {
   "cell_type": "code",
   "execution_count": 20,
   "id": "d011fed5",
   "metadata": {},
   "outputs": [
    {
     "name": "stdout",
     "output_type": "stream",
     "text": [
      "2919696403152 2919696401648\n"
     ]
    }
   ],
   "source": [
    "print(id(lst1[0]), id(lst2[0]))"
   ]
  },
  {
   "cell_type": "code",
   "execution_count": 31,
   "id": "808fda9c",
   "metadata": {},
   "outputs": [
    {
     "name": "stdout",
     "output_type": "stream",
     "text": [
      "[1000, 2000, [555, 666]]\n",
      "[1000, 2000, [500, 600]]\n"
     ]
    }
   ],
   "source": [
    "lst1[2] = [555,666]\n",
    "\n",
    "print(lst1)\n",
    "print(lst2)"
   ]
  },
  {
   "cell_type": "code",
   "execution_count": 23,
   "id": "5261f70e",
   "metadata": {},
   "outputs": [
    {
     "name": "stdout",
     "output_type": "stream",
     "text": [
      "[1000, 2000, [501, 600]] 2919696687296\n",
      "[1000, 2000, [501, 600]] 2919696676480\n"
     ]
    }
   ],
   "source": [
    "import copy\n",
    "\n",
    "lst3 = copy.deepcopy(lst1)\n",
    "\n",
    "print(lst1, id(lst1))\n",
    "print(lst3, id(lst3))"
   ]
  },
  {
   "cell_type": "code",
   "execution_count": 25,
   "id": "4ac2a0a7",
   "metadata": {},
   "outputs": [
    {
     "name": "stdout",
     "output_type": "stream",
     "text": [
      "2919696403312 2919696403312\n",
      "2919696403824 2919696403824\n",
      "2919696662720 2919696464704\n"
     ]
    }
   ],
   "source": [
    "for x in range(len(lst1)):\n",
    "    print(id(lst1[x]), id(lst3[x]))"
   ]
  },
  {
   "cell_type": "code",
   "execution_count": 26,
   "id": "256f1b79",
   "metadata": {},
   "outputs": [
    {
     "name": "stdout",
     "output_type": "stream",
     "text": [
      "[1000, 2000, [3000, 4000, [5000, 6000]]]\n",
      "[1000, 2000, [3000, 4000, [5000, 6000]]]\n"
     ]
    }
   ],
   "source": [
    "lst1 = [1000,2000,[3000,4000,[5000,6000]]]\n",
    "\n",
    "lst4 = copy.deepcopy(lst1)\n",
    "\n",
    "print(lst1)\n",
    "print(lst4)"
   ]
  },
  {
   "cell_type": "code",
   "execution_count": 28,
   "id": "d2202bdb",
   "metadata": {},
   "outputs": [
    {
     "name": "stdout",
     "output_type": "stream",
     "text": [
      "[5000, 6000]\n"
     ]
    }
   ],
   "source": [
    "print(lst1[2][2])"
   ]
  },
  {
   "cell_type": "code",
   "execution_count": 29,
   "id": "07e92f0d",
   "metadata": {},
   "outputs": [
    {
     "name": "stdout",
     "output_type": "stream",
     "text": [
      "2919696658048\n",
      "2919696657024\n"
     ]
    }
   ],
   "source": [
    "print(id(lst1[2][2]))\n",
    "print(id(lst4[2][2]))"
   ]
  },
  {
   "cell_type": "code",
   "execution_count": null,
   "id": "bfaadf76",
   "metadata": {},
   "outputs": [],
   "source": [
    "# Aliasing\n",
    "# Copying\n",
    "# Deepcopying\n",
    "\n"
   ]
  },
  {
   "cell_type": "code",
   "execution_count": 32,
   "id": "04929b57",
   "metadata": {},
   "outputs": [
    {
     "name": "stdout",
     "output_type": "stream",
     "text": [
      "(1, 2, 3, 4)\n",
      "<class 'tuple'>\n"
     ]
    }
   ],
   "source": [
    "tup1 = (1,2,3,4)\n",
    "\n",
    "print(tup1)\n",
    "print(type(tup1))"
   ]
  },
  {
   "cell_type": "code",
   "execution_count": 34,
   "id": "8070a945",
   "metadata": {},
   "outputs": [
    {
     "name": "stdout",
     "output_type": "stream",
     "text": [
      "1\n"
     ]
    }
   ],
   "source": [
    "print(tup1[0])\n"
   ]
  },
  {
   "cell_type": "code",
   "execution_count": 35,
   "id": "caee3d11",
   "metadata": {},
   "outputs": [
    {
     "name": "stdout",
     "output_type": "stream",
     "text": [
      "R\n"
     ]
    }
   ],
   "source": [
    "str1 = 'Rikki'\n",
    "\n",
    "print(str1[0])"
   ]
  },
  {
   "cell_type": "code",
   "execution_count": 36,
   "id": "5b11fa50",
   "metadata": {},
   "outputs": [
    {
     "ename": "TypeError",
     "evalue": "'str' object does not support item assignment",
     "output_type": "error",
     "traceback": [
      "\u001b[1;31m---------------------------------------------------------------------------\u001b[0m",
      "\u001b[1;31mTypeError\u001b[0m                                 Traceback (most recent call last)",
      "\u001b[1;32m~\\AppData\\Local\\Temp\\ipykernel_15780\\670620183.py\u001b[0m in \u001b[0;36m<module>\u001b[1;34m\u001b[0m\n\u001b[1;32m----> 1\u001b[1;33m \u001b[0mstr1\u001b[0m\u001b[1;33m[\u001b[0m\u001b[1;36m0\u001b[0m\u001b[1;33m]\u001b[0m \u001b[1;33m=\u001b[0m \u001b[1;34m'r'\u001b[0m\u001b[1;33m\u001b[0m\u001b[1;33m\u001b[0m\u001b[0m\n\u001b[0m",
      "\u001b[1;31mTypeError\u001b[0m: 'str' object does not support item assignment"
     ]
    }
   ],
   "source": [
    "str1[0] = 'r'"
   ]
  },
  {
   "cell_type": "code",
   "execution_count": 37,
   "id": "afb11ed6",
   "metadata": {},
   "outputs": [
    {
     "name": "stdout",
     "output_type": "stream",
     "text": [
      "(1, 2, 3, [4, 5])\n"
     ]
    }
   ],
   "source": [
    "tup1 = (1,2,3,[4,5])\n",
    "\n",
    "\n",
    "print(tup1)"
   ]
  },
  {
   "cell_type": "code",
   "execution_count": 38,
   "id": "92eeb2fa",
   "metadata": {},
   "outputs": [
    {
     "name": "stdout",
     "output_type": "stream",
     "text": [
      "(1, 2, 3, [44, 5])\n"
     ]
    }
   ],
   "source": [
    "tup1[3][0] = 44\n",
    "\n",
    "print(tup1)"
   ]
  },
  {
   "cell_type": "code",
   "execution_count": 39,
   "id": "e33e57e1",
   "metadata": {},
   "outputs": [
    {
     "name": "stdout",
     "output_type": "stream",
     "text": [
      "[10, 20, 30, 40]\n"
     ]
    }
   ],
   "source": [
    "# List comprehension\n",
    "\n",
    "lst1 = [10,20,30,40]\n",
    "\n",
    "print(lst1)"
   ]
  },
  {
   "cell_type": "code",
   "execution_count": 40,
   "id": "64f019e1",
   "metadata": {},
   "outputs": [
    {
     "name": "stdout",
     "output_type": "stream",
     "text": [
      "[100, 200, 300, 400]\n"
     ]
    }
   ],
   "source": [
    "lst2 = []\n",
    "\n",
    "for x in lst1:\n",
    "    lst2.append(x*10)\n",
    "    \n",
    "print(lst2)"
   ]
  },
  {
   "cell_type": "code",
   "execution_count": 41,
   "id": "945b9f4c",
   "metadata": {},
   "outputs": [
    {
     "name": "stdout",
     "output_type": "stream",
     "text": [
      "[100, 200, 300, 400]\n"
     ]
    }
   ],
   "source": [
    "lst3 = [x*10 for x in lst1]\n",
    "\n",
    "print(lst3)"
   ]
  },
  {
   "cell_type": "code",
   "execution_count": 42,
   "id": "56189bd7",
   "metadata": {},
   "outputs": [
    {
     "name": "stdout",
     "output_type": "stream",
     "text": [
      "[0, 1, 2, 3, 4, 5, 6, 7, 8, 9]\n"
     ]
    }
   ],
   "source": [
    "lst1 = list(range(10))\n",
    "\n",
    "print(lst1)"
   ]
  },
  {
   "cell_type": "code",
   "execution_count": 45,
   "id": "173509ae",
   "metadata": {},
   "outputs": [
    {
     "name": "stdout",
     "output_type": "stream",
     "text": [
      "[5, 15, 25, 35, 45]\n"
     ]
    }
   ],
   "source": [
    "# In list comprehension we can also use if/else (NO ELIF)\n",
    "\n",
    "lst3 = [x*5 for x in lst1 if x%2 == 1]\n",
    "\n",
    "print(lst3)"
   ]
  },
  {
   "cell_type": "code",
   "execution_count": 46,
   "id": "cc449918",
   "metadata": {},
   "outputs": [
    {
     "name": "stdout",
     "output_type": "stream",
     "text": [
      "[0, 5, 20, 15, 40, 25, 60, 35, 80, 45]\n"
     ]
    }
   ],
   "source": [
    "lst3 = [x*5 if x%2 == 1 else x*10 for x in lst1]\n",
    "\n",
    "print(lst3)"
   ]
  },
  {
   "cell_type": "code",
   "execution_count": 47,
   "id": "d7376fca",
   "metadata": {},
   "outputs": [],
   "source": [
    "# In comprehensions(also dictionary comprehensions) - if only IF and the condition comes AFTER the for loop. \n",
    "# If both if AND else are present, they will come along with their condition and value BEFORE the for loop."
   ]
  },
  {
   "cell_type": "code",
   "execution_count": 50,
   "id": "ca269f66",
   "metadata": {},
   "outputs": [
    {
     "name": "stdout",
     "output_type": "stream",
     "text": [
      "[0, 10, 14, 60, 18, 6]\n"
     ]
    }
   ],
   "source": [
    "# You cannot have more than ONE if else block/suite. Neither can you use elifs. You CAN have nested if else to get your\n",
    "# desired output\n",
    "\n",
    "lst4 = [0,10,13,12,17,6]\n",
    "\n",
    "\n",
    "lstX = []\n",
    "\n",
    "for x in lst4:\n",
    "    if x%2 == 1:\n",
    "        lstX.append(x+1)\n",
    "    else:\n",
    "        if x > 10:\n",
    "            lstX.append(x*5)\n",
    "        else:\n",
    "            lstX.append(x)\n",
    "    \n",
    "print(lstX)"
   ]
  },
  {
   "cell_type": "code",
   "execution_count": 51,
   "id": "b8c1c856",
   "metadata": {},
   "outputs": [
    {
     "name": "stdout",
     "output_type": "stream",
     "text": [
      "[0, 10, 14, 60, 18, 6]\n"
     ]
    }
   ],
   "source": [
    "lst5 = [x+1 if x%2 == 1 else x*5 if x>10 else x for x in lst4]\n",
    "\n",
    "print(lst5)"
   ]
  },
  {
   "cell_type": "code",
   "execution_count": 52,
   "id": "900e4d8d",
   "metadata": {},
   "outputs": [
    {
     "ename": "SyntaxError",
     "evalue": "invalid syntax (2212230476.py, line 1)",
     "output_type": "error",
     "traceback": [
      "\u001b[1;36m  File \u001b[1;32m\"C:\\Users\\Lenovo\\AppData\\Local\\Temp\\ipykernel_15780\\2212230476.py\"\u001b[1;36m, line \u001b[1;32m1\u001b[0m\n\u001b[1;33m    lst6 = [x+1 if x%2 == 1 elif x > 10 x*5 else x for x in lst4]\u001b[0m\n\u001b[1;37m                            ^\u001b[0m\n\u001b[1;31mSyntaxError\u001b[0m\u001b[1;31m:\u001b[0m invalid syntax\n"
     ]
    }
   ],
   "source": [
    "lst6 = [x+1 if x%2 == 1 elif x > 10 x*5 else x for x in lst4]\n",
    "\n",
    "print(lst6)"
   ]
  },
  {
   "cell_type": "code",
   "execution_count": 53,
   "id": "ed3fba62",
   "metadata": {},
   "outputs": [],
   "source": [
    "# Sum\n",
    "# reversed built-in method\n",
    "# Unpacking"
   ]
  },
  {
   "cell_type": "code",
   "execution_count": 54,
   "id": "367958ad",
   "metadata": {},
   "outputs": [],
   "source": [
    "lst1 = [100,10.2, 30,40]\n",
    "\n",
    "x = sum(lst1)"
   ]
  },
  {
   "cell_type": "code",
   "execution_count": 55,
   "id": "1f7ca851",
   "metadata": {},
   "outputs": [
    {
     "name": "stdout",
     "output_type": "stream",
     "text": [
      "180.2\n"
     ]
    }
   ],
   "source": [
    "print(x)"
   ]
  },
  {
   "cell_type": "code",
   "execution_count": 59,
   "id": "c52d1f9f",
   "metadata": {},
   "outputs": [
    {
     "name": "stdout",
     "output_type": "stream",
     "text": [
      "180.2\n"
     ]
    }
   ],
   "source": [
    "x = sum(lst1)\n",
    "\n",
    "print(x)"
   ]
  },
  {
   "cell_type": "code",
   "execution_count": 60,
   "id": "ea9d650f",
   "metadata": {},
   "outputs": [],
   "source": [
    "lst1 = [10,20,30,40]\n",
    "lst2 = [1000,2000]\n",
    "\n",
    "lst3 = sum(lst1,sum(lst2))"
   ]
  },
  {
   "cell_type": "code",
   "execution_count": 61,
   "id": "28fac70f",
   "metadata": {},
   "outputs": [
    {
     "name": "stdout",
     "output_type": "stream",
     "text": [
      "3100\n"
     ]
    }
   ],
   "source": [
    "print(lst3)"
   ]
  },
  {
   "cell_type": "code",
   "execution_count": 62,
   "id": "78e78a18",
   "metadata": {},
   "outputs": [],
   "source": [
    "# reversed function - Built-in"
   ]
  },
  {
   "cell_type": "code",
   "execution_count": 63,
   "id": "81a5f4ad",
   "metadata": {},
   "outputs": [
    {
     "name": "stdout",
     "output_type": "stream",
     "text": [
      "['a', 'b', 'c', 'd', 'e']\n"
     ]
    }
   ],
   "source": [
    "lstalpha = list('abcde')\n",
    "\n",
    "print(lstalpha)"
   ]
  },
  {
   "cell_type": "code",
   "execution_count": 64,
   "id": "16b724b4",
   "metadata": {},
   "outputs": [
    {
     "name": "stdout",
     "output_type": "stream",
     "text": [
      "['e', 'd', 'c', 'b', 'a']\n"
     ]
    }
   ],
   "source": [
    "lstalpha.reverse()\n",
    "\n",
    "print(lstalpha)"
   ]
  },
  {
   "cell_type": "code",
   "execution_count": 65,
   "id": "85bdd27a",
   "metadata": {},
   "outputs": [
    {
     "name": "stdout",
     "output_type": "stream",
     "text": [
      "('a', 'b', 'c', 'd', 'e')\n"
     ]
    }
   ],
   "source": [
    "tupalpha = tuple('abcde')\n",
    "\n",
    "print(tupalpha)"
   ]
  },
  {
   "cell_type": "code",
   "execution_count": 66,
   "id": "ade36652",
   "metadata": {},
   "outputs": [
    {
     "name": "stdout",
     "output_type": "stream",
     "text": [
      "<reversed object at 0x000002A7CB885BE0>\n"
     ]
    }
   ],
   "source": [
    "tupalphanew = reversed(tupalpha)\n",
    "\n",
    "print(tupalphanew)"
   ]
  },
  {
   "cell_type": "code",
   "execution_count": 67,
   "id": "5235734d",
   "metadata": {},
   "outputs": [
    {
     "name": "stdout",
     "output_type": "stream",
     "text": [
      "('e', 'd', 'c', 'b', 'a')\n"
     ]
    }
   ],
   "source": [
    "tupalphanew = tuple(reversed(tupalpha))\n",
    "\n",
    "print(tupalphanew)"
   ]
  },
  {
   "cell_type": "code",
   "execution_count": 68,
   "id": "671bde1e",
   "metadata": {},
   "outputs": [
    {
     "name": "stdout",
     "output_type": "stream",
     "text": [
      "range(0, 10)\n"
     ]
    }
   ],
   "source": [
    "range1 = range(10)\n",
    "\n",
    "print(range1)"
   ]
  },
  {
   "cell_type": "code",
   "execution_count": 70,
   "id": "c141856a",
   "metadata": {},
   "outputs": [
    {
     "name": "stdout",
     "output_type": "stream",
     "text": [
      "[0, 1, 2, 3, 4, 5, 6, 7, 8, 9]\n"
     ]
    }
   ],
   "source": [
    "range2 = list(range(10))\n",
    "\n",
    "print(range2)"
   ]
  },
  {
   "cell_type": "code",
   "execution_count": 71,
   "id": "94376b28",
   "metadata": {},
   "outputs": [
    {
     "name": "stdout",
     "output_type": "stream",
     "text": [
      "<reversed object at 0x000002A7CB885D30>\n"
     ]
    }
   ],
   "source": [
    "tupalphanew = reversed(tupalpha)\n",
    "\n",
    "print(tupalphanew)"
   ]
  },
  {
   "cell_type": "code",
   "execution_count": 73,
   "id": "b8b244b8",
   "metadata": {},
   "outputs": [],
   "source": [
    "for x in tupalphanew:\n",
    "    print(x)"
   ]
  },
  {
   "cell_type": "code",
   "execution_count": null,
   "id": "838bac06",
   "metadata": {},
   "outputs": [],
   "source": [
    "# Iterator objects can ONLY be iterated over ONCE!"
   ]
  },
  {
   "cell_type": "code",
   "execution_count": 74,
   "id": "e8e587ae",
   "metadata": {},
   "outputs": [
    {
     "name": "stdout",
     "output_type": "stream",
     "text": [
      "[1, 2, 3, 4, 5]\n"
     ]
    }
   ],
   "source": [
    "# Unpacking\n",
    "\n",
    "lst1 = [1,2,3,4,5]\n",
    "\n",
    "print(lst1)"
   ]
  },
  {
   "cell_type": "code",
   "execution_count": 75,
   "id": "09b4033f",
   "metadata": {},
   "outputs": [
    {
     "name": "stdout",
     "output_type": "stream",
     "text": [
      "1\n",
      "2\n",
      "3\n",
      "4\n",
      "5\n"
     ]
    }
   ],
   "source": [
    "a = lst1[0]\n",
    "b = lst1[1]\n",
    "c = lst1[2]\n",
    "d = lst1[3]\n",
    "e = lst1[4]\n",
    "\n",
    "print(a,b,c,d,e, sep = '\\n')"
   ]
  },
  {
   "cell_type": "code",
   "execution_count": 76,
   "id": "aca97148",
   "metadata": {},
   "outputs": [
    {
     "name": "stdout",
     "output_type": "stream",
     "text": [
      "1\n",
      "2\n",
      "3\n",
      "4\n",
      "5\n"
     ]
    }
   ],
   "source": [
    "p,q,r,s,t = lst1\n",
    "\n",
    "print(p,q,r,s,t, sep = '\\n')"
   ]
  },
  {
   "cell_type": "code",
   "execution_count": 77,
   "id": "98dc41da",
   "metadata": {},
   "outputs": [
    {
     "ename": "ValueError",
     "evalue": "too many values to unpack (expected 3)",
     "output_type": "error",
     "traceback": [
      "\u001b[1;31m---------------------------------------------------------------------------\u001b[0m",
      "\u001b[1;31mValueError\u001b[0m                                Traceback (most recent call last)",
      "\u001b[1;32m~\\AppData\\Local\\Temp\\ipykernel_15780\\988302896.py\u001b[0m in \u001b[0;36m<module>\u001b[1;34m\u001b[0m\n\u001b[1;32m----> 1\u001b[1;33m \u001b[0mx\u001b[0m\u001b[1;33m,\u001b[0m\u001b[0my\u001b[0m\u001b[1;33m,\u001b[0m\u001b[0mz\u001b[0m \u001b[1;33m=\u001b[0m \u001b[0mlst1\u001b[0m\u001b[1;33m\u001b[0m\u001b[1;33m\u001b[0m\u001b[0m\n\u001b[0m",
      "\u001b[1;31mValueError\u001b[0m: too many values to unpack (expected 3)"
     ]
    }
   ],
   "source": [
    "x,y,z = lst1"
   ]
  },
  {
   "cell_type": "code",
   "execution_count": 82,
   "id": "2a32477d",
   "metadata": {},
   "outputs": [
    {
     "name": "stdout",
     "output_type": "stream",
     "text": [
      "[1, 2, 3, 4, 5, 6, 7, 8, 9, 10]\n"
     ]
    }
   ],
   "source": [
    "lst1 = list(range(1,11))\n",
    "\n",
    "print(lst1)"
   ]
  },
  {
   "cell_type": "code",
   "execution_count": 90,
   "id": "4cb39672",
   "metadata": {},
   "outputs": [
    {
     "name": "stdout",
     "output_type": "stream",
     "text": [
      "1\n",
      "2\n",
      "3\n",
      "[4, 5, 6, 7, 8, 9]\n",
      "10\n"
     ]
    }
   ],
   "source": [
    "u,v,x,*y,z = lst1\n",
    "\n",
    "print(u,v,x,y,z, sep = '\\n')"
   ]
  },
  {
   "cell_type": "code",
   "execution_count": 88,
   "id": "274b4e79",
   "metadata": {},
   "outputs": [
    {
     "name": "stdout",
     "output_type": "stream",
     "text": [
      "1\n",
      "2\n",
      "3\n",
      "4\n",
      "5\n"
     ]
    }
   ],
   "source": [
    "tup1 = (1,2,3,4,5)\n",
    "\n",
    "a,b,c,d,e = tup1\n",
    "\n",
    "print(a,b,c,d,e, sep = '\\n')"
   ]
  },
  {
   "cell_type": "code",
   "execution_count": 89,
   "id": "cfe34c86",
   "metadata": {},
   "outputs": [
    {
     "name": "stdout",
     "output_type": "stream",
     "text": [
      "R\n",
      "i\n",
      "['k', 'k', 'i']\n"
     ]
    }
   ],
   "source": [
    "x,y,*z = 'Rikki'\n",
    "\n",
    "print(x,y,z, sep = '\\n')"
   ]
  },
  {
   "cell_type": "code",
   "execution_count": null,
   "id": "73c0aa8e",
   "metadata": {},
   "outputs": [],
   "source": []
  }
 ],
 "metadata": {
  "kernelspec": {
   "display_name": "Python 3 (ipykernel)",
   "language": "python",
   "name": "python3"
  },
  "language_info": {
   "codemirror_mode": {
    "name": "ipython",
    "version": 3
   },
   "file_extension": ".py",
   "mimetype": "text/x-python",
   "name": "python",
   "nbconvert_exporter": "python",
   "pygments_lexer": "ipython3",
   "version": "3.9.13"
  }
 },
 "nbformat": 4,
 "nbformat_minor": 5
}
