{
 "cells": [
  {
   "cell_type": "code",
   "execution_count": 1,
   "id": "1f0e361f",
   "metadata": {},
   "outputs": [],
   "source": [
    "import pandas as pd\n",
    "import numpy as np"
   ]
  },
  {
   "cell_type": "code",
   "execution_count": 5,
   "id": "beada43b",
   "metadata": {},
   "outputs": [],
   "source": [
    "df = pd.read_csv('hotel_bookings_copy4.csv', usecols = ['is_canceled','lead_time','arrival_month_year',\\\n",
    "'stays_in_weekend_nights','stays_in_week_nights','market_segment', 'country', 'adults', 'children', 'babies'])\n"
   ]
  },
  {
   "cell_type": "code",
   "execution_count": 6,
   "id": "84a03dbe",
   "metadata": {},
   "outputs": [
    {
     "data": {
      "text/plain": [
       "(1999, 10)"
      ]
     },
     "execution_count": 6,
     "metadata": {},
     "output_type": "execute_result"
    }
   ],
   "source": [
    "df.shape"
   ]
  },
  {
   "cell_type": "code",
   "execution_count": null,
   "id": "2e3b79be",
   "metadata": {},
   "outputs": [],
   "source": [
    "df.head()"
   ]
  },
  {
   "cell_type": "code",
   "execution_count": null,
   "id": "20a803c0",
   "metadata": {},
   "outputs": [],
   "source": [
    "df['market_segment'].unique()"
   ]
  },
  {
   "cell_type": "code",
   "execution_count": null,
   "id": "3938ecdb",
   "metadata": {},
   "outputs": [],
   "source": [
    "# groupby method\n",
    "\n",
    "df_market = df.groupby('market_segment')\n",
    "\n",
    "print(df_market)"
   ]
  },
  {
   "cell_type": "code",
   "execution_count": null,
   "id": "f6d185ec",
   "metadata": {},
   "outputs": [],
   "source": [
    "df_market.apply(print)"
   ]
  },
  {
   "cell_type": "code",
   "execution_count": null,
   "id": "39ae30a6",
   "metadata": {},
   "outputs": [],
   "source": [
    "df_mean = df_market.mean()"
   ]
  },
  {
   "cell_type": "code",
   "execution_count": null,
   "id": "52d6f57d",
   "metadata": {},
   "outputs": [],
   "source": [
    "print(type(df_mean))"
   ]
  },
  {
   "cell_type": "code",
   "execution_count": null,
   "id": "2f3bf629",
   "metadata": {},
   "outputs": [],
   "source": [
    "df_mean"
   ]
  },
  {
   "cell_type": "code",
   "execution_count": null,
   "id": "362ecaf1",
   "metadata": {},
   "outputs": [],
   "source": [
    "df_market.first()"
   ]
  },
  {
   "cell_type": "code",
   "execution_count": null,
   "id": "99820dba",
   "metadata": {},
   "outputs": [],
   "source": [
    "df_corporate = df_market.get_group('Corporate')"
   ]
  },
  {
   "cell_type": "code",
   "execution_count": null,
   "id": "2d777d63",
   "metadata": {},
   "outputs": [],
   "source": [
    "print(type(df_corporate))"
   ]
  },
  {
   "cell_type": "code",
   "execution_count": null,
   "id": "16bfc906",
   "metadata": {},
   "outputs": [],
   "source": [
    "df_corporate"
   ]
  },
  {
   "cell_type": "code",
   "execution_count": null,
   "id": "763f2f72",
   "metadata": {},
   "outputs": [],
   "source": [
    "df_market['lead_time']"
   ]
  },
  {
   "cell_type": "code",
   "execution_count": null,
   "id": "6455c63b",
   "metadata": {},
   "outputs": [],
   "source": [
    "df_market_IC = df.groupby(['market_segment', 'is_canceled'])\n",
    "\n",
    "df_market_IC"
   ]
  },
  {
   "cell_type": "code",
   "execution_count": null,
   "id": "d2d7bc29",
   "metadata": {},
   "outputs": [],
   "source": [
    "df_market_IC.apply(print)"
   ]
  },
  {
   "cell_type": "code",
   "execution_count": 12,
   "id": "86c64fd9",
   "metadata": {},
   "outputs": [
    {
     "data": {
      "text/html": [
       "<div>\n",
       "<style scoped>\n",
       "    .dataframe tbody tr th:only-of-type {\n",
       "        vertical-align: middle;\n",
       "    }\n",
       "\n",
       "    .dataframe tbody tr th {\n",
       "        vertical-align: top;\n",
       "    }\n",
       "\n",
       "    .dataframe thead th {\n",
       "        text-align: right;\n",
       "    }\n",
       "</style>\n",
       "<table border=\"1\" class=\"dataframe\">\n",
       "  <thead>\n",
       "    <tr style=\"text-align: right;\">\n",
       "      <th></th>\n",
       "      <th>is_canceled</th>\n",
       "      <th>lead_time</th>\n",
       "      <th>arrival_month_year</th>\n",
       "      <th>stays_in_weekend_nights</th>\n",
       "      <th>stays_in_week_nights</th>\n",
       "      <th>adults</th>\n",
       "      <th>children</th>\n",
       "      <th>babies</th>\n",
       "      <th>country</th>\n",
       "      <th>market_segment</th>\n",
       "    </tr>\n",
       "  </thead>\n",
       "  <tbody>\n",
       "    <tr>\n",
       "      <th>312</th>\n",
       "      <td>0</td>\n",
       "      <td>48</td>\n",
       "      <td>Jul-15</td>\n",
       "      <td>2</td>\n",
       "      <td>5</td>\n",
       "      <td>2</td>\n",
       "      <td>0</td>\n",
       "      <td>0</td>\n",
       "      <td>BRA</td>\n",
       "      <td>Offline TA/TO</td>\n",
       "    </tr>\n",
       "    <tr>\n",
       "      <th>634</th>\n",
       "      <td>0</td>\n",
       "      <td>8</td>\n",
       "      <td>Jul-15</td>\n",
       "      <td>0</td>\n",
       "      <td>2</td>\n",
       "      <td>2</td>\n",
       "      <td>0</td>\n",
       "      <td>0</td>\n",
       "      <td>BRA</td>\n",
       "      <td>Online TA</td>\n",
       "    </tr>\n",
       "    <tr>\n",
       "      <th>643</th>\n",
       "      <td>0</td>\n",
       "      <td>8</td>\n",
       "      <td>Jul-15</td>\n",
       "      <td>0</td>\n",
       "      <td>2</td>\n",
       "      <td>2</td>\n",
       "      <td>0</td>\n",
       "      <td>0</td>\n",
       "      <td>BRA</td>\n",
       "      <td>Online TA</td>\n",
       "    </tr>\n",
       "    <tr>\n",
       "      <th>804</th>\n",
       "      <td>0</td>\n",
       "      <td>20</td>\n",
       "      <td>Jul-15</td>\n",
       "      <td>1</td>\n",
       "      <td>3</td>\n",
       "      <td>2</td>\n",
       "      <td>1</td>\n",
       "      <td>0</td>\n",
       "      <td>BRA</td>\n",
       "      <td>Online TA</td>\n",
       "    </tr>\n",
       "    <tr>\n",
       "      <th>1159</th>\n",
       "      <td>0</td>\n",
       "      <td>2</td>\n",
       "      <td>Aug-15</td>\n",
       "      <td>1</td>\n",
       "      <td>0</td>\n",
       "      <td>2</td>\n",
       "      <td>0</td>\n",
       "      <td>0</td>\n",
       "      <td>BRA</td>\n",
       "      <td>Online TA</td>\n",
       "    </tr>\n",
       "    <tr>\n",
       "      <th>1393</th>\n",
       "      <td>0</td>\n",
       "      <td>31</td>\n",
       "      <td>Aug-15</td>\n",
       "      <td>0</td>\n",
       "      <td>2</td>\n",
       "      <td>3</td>\n",
       "      <td>0</td>\n",
       "      <td>0</td>\n",
       "      <td>BRA</td>\n",
       "      <td>Direct</td>\n",
       "    </tr>\n",
       "    <tr>\n",
       "      <th>1398</th>\n",
       "      <td>0</td>\n",
       "      <td>31</td>\n",
       "      <td>Aug-15</td>\n",
       "      <td>0</td>\n",
       "      <td>2</td>\n",
       "      <td>2</td>\n",
       "      <td>2</td>\n",
       "      <td>0</td>\n",
       "      <td>BRA</td>\n",
       "      <td>Direct</td>\n",
       "    </tr>\n",
       "    <tr>\n",
       "      <th>1431</th>\n",
       "      <td>0</td>\n",
       "      <td>47</td>\n",
       "      <td>Aug-15</td>\n",
       "      <td>2</td>\n",
       "      <td>1</td>\n",
       "      <td>1</td>\n",
       "      <td>0</td>\n",
       "      <td>0</td>\n",
       "      <td>BRA</td>\n",
       "      <td>Online TA</td>\n",
       "    </tr>\n",
       "    <tr>\n",
       "      <th>1733</th>\n",
       "      <td>0</td>\n",
       "      <td>1</td>\n",
       "      <td>Sep-15</td>\n",
       "      <td>1</td>\n",
       "      <td>2</td>\n",
       "      <td>2</td>\n",
       "      <td>2</td>\n",
       "      <td>0</td>\n",
       "      <td>BRA</td>\n",
       "      <td>Online TA</td>\n",
       "    </tr>\n",
       "    <tr>\n",
       "      <th>1746</th>\n",
       "      <td>0</td>\n",
       "      <td>143</td>\n",
       "      <td>Sep-15</td>\n",
       "      <td>2</td>\n",
       "      <td>4</td>\n",
       "      <td>2</td>\n",
       "      <td>0</td>\n",
       "      <td>0</td>\n",
       "      <td>BRA</td>\n",
       "      <td>Online TA</td>\n",
       "    </tr>\n",
       "    <tr>\n",
       "      <th>1834</th>\n",
       "      <td>0</td>\n",
       "      <td>78</td>\n",
       "      <td>Sep-15</td>\n",
       "      <td>0</td>\n",
       "      <td>2</td>\n",
       "      <td>2</td>\n",
       "      <td>0</td>\n",
       "      <td>0</td>\n",
       "      <td>BRA</td>\n",
       "      <td>Online TA</td>\n",
       "    </tr>\n",
       "    <tr>\n",
       "      <th>1931</th>\n",
       "      <td>0</td>\n",
       "      <td>78</td>\n",
       "      <td>Sep-15</td>\n",
       "      <td>0</td>\n",
       "      <td>2</td>\n",
       "      <td>2</td>\n",
       "      <td>0</td>\n",
       "      <td>0</td>\n",
       "      <td>BRA</td>\n",
       "      <td>Online TA</td>\n",
       "    </tr>\n",
       "  </tbody>\n",
       "</table>\n",
       "</div>"
      ],
      "text/plain": [
       "      is_canceled  lead_time arrival_month_year  stays_in_weekend_nights  \\\n",
       "312             0         48             Jul-15                        2   \n",
       "634             0          8             Jul-15                        0   \n",
       "643             0          8             Jul-15                        0   \n",
       "804             0         20             Jul-15                        1   \n",
       "1159            0          2             Aug-15                        1   \n",
       "1393            0         31             Aug-15                        0   \n",
       "1398            0         31             Aug-15                        0   \n",
       "1431            0         47             Aug-15                        2   \n",
       "1733            0          1             Sep-15                        1   \n",
       "1746            0        143             Sep-15                        2   \n",
       "1834            0         78             Sep-15                        0   \n",
       "1931            0         78             Sep-15                        0   \n",
       "\n",
       "      stays_in_week_nights  adults  children  babies country market_segment  \n",
       "312                      5       2         0       0     BRA  Offline TA/TO  \n",
       "634                      2       2         0       0     BRA      Online TA  \n",
       "643                      2       2         0       0     BRA      Online TA  \n",
       "804                      3       2         1       0     BRA      Online TA  \n",
       "1159                     0       2         0       0     BRA      Online TA  \n",
       "1393                     2       3         0       0     BRA         Direct  \n",
       "1398                     2       2         2       0     BRA         Direct  \n",
       "1431                     1       1         0       0     BRA      Online TA  \n",
       "1733                     2       2         2       0     BRA      Online TA  \n",
       "1746                     4       2         0       0     BRA      Online TA  \n",
       "1834                     2       2         0       0     BRA      Online TA  \n",
       "1931                     2       2         0       0     BRA      Online TA  "
      ]
     },
     "execution_count": 12,
     "metadata": {},
     "output_type": "execute_result"
    }
   ],
   "source": [
    "df[df['country']== 'BRA']"
   ]
  },
  {
   "cell_type": "code",
   "execution_count": null,
   "id": "fb88b98a",
   "metadata": {},
   "outputs": [],
   "source": []
  },
  {
   "cell_type": "code",
   "execution_count": null,
   "id": "82738f67",
   "metadata": {},
   "outputs": [],
   "source": [
    "# cross_tab"
   ]
  },
  {
   "cell_type": "code",
   "execution_count": 4,
   "id": "3e0aa047",
   "metadata": {},
   "outputs": [
    {
     "name": "stdout",
     "output_type": "stream",
     "text": [
      "is_canceled               0    1\n",
      "country market_segment          \n",
      "ALB     Offline TA/TO     1    0\n",
      "ARG     Direct            1    0\n",
      "        Online TA         1    0\n",
      "AUS     Direct            1    0\n",
      "        Online TA         1    0\n",
      "BEL     Online TA         7    0\n",
      "BRA     Direct            2    0\n",
      "        Offline TA/TO     1    0\n",
      "        Online TA         9    0\n",
      "BWA     Online TA         1    0\n",
      "CHE     Corporate         1    0\n",
      "        Direct            4    0\n",
      "        Offline TA/TO     5    0\n",
      "        Online TA         5    0\n",
      "CHL     Online TA         1    0\n",
      "CHN     Online TA         3    0\n",
      "CN      Corporate         1    0\n",
      "        Direct            3    0\n",
      "        Offline TA/TO     5    0\n",
      "        Online TA         4    0\n",
      "CZE     Online TA         1    0\n",
      "DEU     Corporate         2    0\n",
      "        Direct            1    1\n",
      "        Offline TA/TO     8    0\n",
      "        Online TA         6    0\n",
      "DNK     Online TA         5    0\n",
      "ESP     Direct           36    0\n",
      "        Offline TA/TO    37    0\n",
      "        Online TA       121    1\n",
      "EST     Online TA         2    0\n",
      "FIN     Offline TA/TO     1    0\n",
      "        Online TA         2    0\n",
      "FRA     Corporate         2    0\n",
      "        Direct            4    0\n",
      "        Groups            1    0\n",
      "        Offline TA/TO     8    0\n",
      "        Online TA        28    0\n",
      "GBR     Corporate         3    0\n",
      "        Direct            9    0\n",
      "        Offline TA/TO   102    0\n",
      "        Online TA        75    0\n",
      "GRC     Online TA         1    0\n",
      "IND     Online TA         2    0\n",
      "IRL     Corporate         1    0\n",
      "        Direct           18    1\n",
      "        Groups            1    1\n",
      "        Offline TA/TO    36    0\n",
      "        Online TA        35    0\n",
      "ITA     Corporate         5    0\n",
      "        Direct            1    0\n",
      "        Offline TA/TO     3    0\n",
      "        Online TA         2    0\n",
      "LUX     Online TA         1    0\n",
      "LVA     Offline TA/TO     1    0\n",
      "        Online TA         2    0\n",
      "MAR     Offline TA/TO     1    0\n",
      "        Online TA         1    0\n",
      "MEX     Online TA         1    0\n",
      "MOZ     Online TA         2    0\n",
      "NLD     Direct           10    0\n",
      "        Offline TA/TO     5    0\n",
      "        Online TA         8    0\n",
      "NOR     Offline TA/TO     2    0\n",
      "        Online TA         2    0\n",
      "OMN     Offline TA/TO     1    0\n",
      "POL     Offline TA/TO     2    0\n",
      "        Online TA        10    0\n",
      "PRI     Online TA         1    0\n",
      "PRT     Complementary     2    0\n",
      "        Corporate        13   13\n",
      "        Direct          174  104\n",
      "        Groups           26   12\n",
      "        Offline TA/TO   101  109\n",
      "        Online TA       223  491\n",
      "ROU     Direct            2    0\n",
      "        Offline TA/TO     2    0\n",
      "        Online TA         7    0\n",
      "RUS     Direct            2    0\n",
      "        Offline TA/TO     2    0\n",
      "        Online TA        12    0\n",
      "SMR     Corporate         1    0\n",
      "SRB     Offline TA/TO     1    0\n",
      "SVN     Online TA         2    0\n",
      "SWE     Offline TA/TO     2    0\n",
      "        Online TA         5    0\n",
      "UKR     Online TA         1    0\n",
      "USA     Direct            2    0\n",
      "        Offline TA/TO     2    0\n",
      "        Online TA        17    0\n"
     ]
    }
   ],
   "source": [
    "df_crossT = pd.crosstab([df['country'],df['market_segment']],df['is_canceled'])\n",
    "\n",
    "pd.set_option('display.max_rows', None)\n",
    "print(df_crossT)"
   ]
  },
  {
   "cell_type": "code",
   "execution_count": 14,
   "id": "9ca2fad4",
   "metadata": {},
   "outputs": [
    {
     "name": "stdout",
     "output_type": "stream",
     "text": [
      "arrival_month_year  Aug-15  Jul-15  Sep-15\n",
      "market_segment                            \n",
      "Complementary          NaN     4.0     1.0\n",
      "Corporate             24.0    16.0    32.0\n",
      "Direct               265.0   307.0   323.0\n",
      "Groups                 9.0    39.0    24.0\n",
      "Offline TA/TO        261.0   357.0   323.0\n",
      "Online TA            729.0   955.0   499.0\n"
     ]
    }
   ],
   "source": [
    "#pivot table\n",
    "\n",
    "df_pivot = pd.pivot_table(df, values = 'adults', columns = 'arrival_month_year', index = 'market_segment', aggfunc='sum')\n",
    "\n",
    "print(df_pivot)"
   ]
  },
  {
   "cell_type": "code",
   "execution_count": 16,
   "id": "aea120a9",
   "metadata": {},
   "outputs": [
    {
     "data": {
      "text/plain": [
       "1288"
      ]
     },
     "execution_count": 16,
     "metadata": {},
     "output_type": "execute_result"
    }
   ],
   "source": [
    "df[df['arrival_month_year']=='Aug-15']['adults'].sum()"
   ]
  },
  {
   "cell_type": "code",
   "execution_count": 17,
   "id": "ba9ae6db",
   "metadata": {},
   "outputs": [
    {
     "data": {
      "text/plain": [
       "1288.0"
      ]
     },
     "execution_count": 17,
     "metadata": {},
     "output_type": "execute_result"
    }
   ],
   "source": [
    "df_pivot['Aug-15'].sum()"
   ]
  },
  {
   "cell_type": "code",
   "execution_count": 18,
   "id": "a78580e3",
   "metadata": {},
   "outputs": [
    {
     "name": "stdout",
     "output_type": "stream",
     "text": [
      "<class 'pandas.core.frame.DataFrame'>\n"
     ]
    }
   ],
   "source": [
    "print(type(df_pivot))"
   ]
  },
  {
   "cell_type": "code",
   "execution_count": null,
   "id": "30df55fb",
   "metadata": {},
   "outputs": [],
   "source": []
  }
 ],
 "metadata": {
  "kernelspec": {
   "display_name": "Python 3 (ipykernel)",
   "language": "python",
   "name": "python3"
  },
  "language_info": {
   "codemirror_mode": {
    "name": "ipython",
    "version": 3
   },
   "file_extension": ".py",
   "mimetype": "text/x-python",
   "name": "python",
   "nbconvert_exporter": "python",
   "pygments_lexer": "ipython3",
   "version": "3.9.13"
  }
 },
 "nbformat": 4,
 "nbformat_minor": 5
}
