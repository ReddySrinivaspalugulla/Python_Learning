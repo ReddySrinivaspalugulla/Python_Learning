{
 "cells": [
  {
   "cell_type": "code",
   "execution_count": 1,
   "id": "7eb2d90f",
   "metadata": {},
   "outputs": [],
   "source": [
    "# Control Flow\n",
    "\n",
    "# 1. Sequential\n",
    "# 2. Conditional\n",
    "# 3. Loops"
   ]
  },
  {
   "cell_type": "code",
   "execution_count": 3,
   "id": "22e30b5e",
   "metadata": {},
   "outputs": [
    {
     "name": "stdout",
     "output_type": "stream",
     "text": [
      "30\n"
     ]
    }
   ],
   "source": [
    "# Sequential\n",
    "\n",
    "a = 10\n",
    "#c = a + b\n",
    "b = 20\n",
    "c = a+b\n",
    "\n",
    "print(c)"
   ]
  },
  {
   "cell_type": "code",
   "execution_count": 8,
   "id": "f6684655",
   "metadata": {},
   "outputs": [
    {
     "name": "stdout",
     "output_type": "stream",
     "text": [
      "A is greater than or equal to 10\n",
      "A is also greater than or equal to 5\n"
     ]
    }
   ],
   "source": [
    "a = 6\n",
    "\n",
    "if a >=10:\n",
    "    print('A is greater than or equal to 10')\n",
    "    if a >= 5:\n",
    "        print('A is also greater than or equal to 5')"
   ]
  },
  {
   "cell_type": "code",
   "execution_count": 9,
   "id": "8e096966",
   "metadata": {},
   "outputs": [
    {
     "name": "stdout",
     "output_type": "stream",
     "text": [
      "Hi\n"
     ]
    }
   ],
   "source": [
    "# if / elif / else - Conditional statements or flow\n",
    "\n",
    "a = 10\n",
    "\n",
    "if a > 5: \n",
    "    print('Hi')"
   ]
  },
  {
   "cell_type": "code",
   "execution_count": 10,
   "id": "f0a83384",
   "metadata": {},
   "outputs": [
    {
     "name": "stdout",
     "output_type": "stream",
     "text": [
      "Hello\n"
     ]
    }
   ],
   "source": [
    "if a > 10:\n",
    "    print('Hi')\n",
    "else:\n",
    "    print('Hello')"
   ]
  },
  {
   "cell_type": "code",
   "execution_count": 56,
   "id": "1a0c2c13",
   "metadata": {},
   "outputs": [],
   "source": [
    "a = 11"
   ]
  },
  {
   "cell_type": "code",
   "execution_count": null,
   "id": "2f13b841",
   "metadata": {},
   "outputs": [],
   "source": [
    "# Between if, elif, else - ONLY ONE suite will be executed, whichever is true first. "
   ]
  },
  {
   "cell_type": "code",
   "execution_count": 15,
   "id": "ac000583",
   "metadata": {},
   "outputs": [
    {
     "name": "stdout",
     "output_type": "stream",
     "text": [
      "Namaste\n"
     ]
    }
   ],
   "source": [
    "if a > 10:\n",
    "    print('Hi')\n",
    "elif a > 9:\n",
    "    print('Namaste')\n",
    "elif a > 8:\n",
    "    print('Sahvadika')\n",
    "elif a > 7:\n",
    "    print('Arigato')\n",
    "else:\n",
    "    print('Satsriakal')"
   ]
  },
  {
   "cell_type": "code",
   "execution_count": 57,
   "id": "06804c8b",
   "metadata": {},
   "outputs": [
    {
     "name": "stdout",
     "output_type": "stream",
     "text": [
      "Hi\n",
      "Namaste\n",
      "Sahvadika\n",
      "Arigato\n",
      "Satsriakal\n"
     ]
    }
   ],
   "source": [
    "if a > 10:\n",
    "    print('Hi')\n",
    "if a > 9:\n",
    "    print('Namaste')\n",
    "if a > 8:\n",
    "    print('Sahvadika')\n",
    "if a > 7:\n",
    "    print('Arigato')\n",
    "if a > 5:\n",
    "    print('Satsriakal')"
   ]
  },
  {
   "cell_type": "code",
   "execution_count": null,
   "id": "4bd789b6",
   "metadata": {},
   "outputs": [],
   "source": []
  },
  {
   "cell_type": "code",
   "execution_count": null,
   "id": "d5eb929f",
   "metadata": {},
   "outputs": [],
   "source": []
  },
  {
   "cell_type": "code",
   "execution_count": null,
   "id": "76d7033a",
   "metadata": {},
   "outputs": [],
   "source": [
    "# In an if /elif / else block : \n",
    "\n",
    "# We can only have one if condition, we MAY or MAY NOT have have multiple elifs, and MAY or MAY NOT have one else suite.\n",
    "\n",
    "if\n",
    "\n",
    "if\n",
    "else\n",
    "\n",
    "if\n",
    "elif\n",
    "\n",
    "if\n",
    "elif\n",
    "else\n",
    "\n",
    "if \n",
    "elif\n",
    "elif\n",
    "elif\n",
    "else\n"
   ]
  },
  {
   "cell_type": "code",
   "execution_count": null,
   "id": "56b0595e",
   "metadata": {},
   "outputs": [],
   "source": [
    "# If can exist with or without else or elif. Elif and else can exist without each other BUT elif and else CANNOT exist without\n",
    "# the if keyword."
   ]
  },
  {
   "cell_type": "code",
   "execution_count": 16,
   "id": "e73e4a77",
   "metadata": {},
   "outputs": [
    {
     "ename": "SyntaxError",
     "evalue": "invalid syntax (1801586338.py, line 6)",
     "output_type": "error",
     "traceback": [
      "\u001b[1;36m  File \u001b[1;32m\"C:\\Users\\Lenovo\\AppData\\Local\\Temp\\ipykernel_19428\\1801586338.py\"\u001b[1;36m, line \u001b[1;32m6\u001b[0m\n\u001b[1;33m    elif a>10:\u001b[0m\n\u001b[1;37m    ^\u001b[0m\n\u001b[1;31mSyntaxError\u001b[0m\u001b[1;31m:\u001b[0m invalid syntax\n"
     ]
    }
   ],
   "source": [
    "if a>10:\n",
    "    print('Hi')\n",
    "    \n",
    "elif a>9:\n",
    "    print('Nameste')\n",
    "    if a>10:\n",
    "        print('hello')\n"
   ]
  },
  {
   "cell_type": "code",
   "execution_count": 19,
   "id": "25bf0629",
   "metadata": {},
   "outputs": [],
   "source": [
    "a = ['oil', 'masala', 'paneer']\n",
    "\n",
    "if 'potatoes' in a:\n",
    "    print('We can make aloo sabji')\n",
    "    if 'paneer' in a:\n",
    "        print('We can also make paneer aloo sabji')\n",
    "    elif 'mattar' in a:\n",
    "        print('We can also make mattar aloo')\n",
    "        \n"
   ]
  },
  {
   "cell_type": "code",
   "execution_count": null,
   "id": "29a9f0fd",
   "metadata": {},
   "outputs": [],
   "source": []
  },
  {
   "cell_type": "code",
   "execution_count": 20,
   "id": "b0576439",
   "metadata": {},
   "outputs": [
    {
     "name": "stdout",
     "output_type": "stream",
     "text": [
      "We can make Paneer Aloo Sabji\n"
     ]
    }
   ],
   "source": [
    "if 'potatoes' in a or'paneer' in a:\n",
    "    print('We can make Paneer Aloo Sabji')"
   ]
  },
  {
   "cell_type": "code",
   "execution_count": 29,
   "id": "5ebc95ac",
   "metadata": {},
   "outputs": [
    {
     "name": "stdout",
     "output_type": "stream",
     "text": [
      "Its a tie\n"
     ]
    }
   ],
   "source": [
    "# Ternary operators. Since Python 2.5 we have the ability to write if/else in one line of code\n",
    "\n",
    "# Ternary operators - you CANNOT use elif. You CAN use nested if else to get desired result. \n",
    "\n",
    "a = 10\n",
    "b = 10\n",
    "\n",
    "print('A wins' if a > b else 'B wins' if b > a else 'Its a tie')"
   ]
  },
  {
   "cell_type": "code",
   "execution_count": null,
   "id": "2d4f02d8",
   "metadata": {},
   "outputs": [],
   "source": [
    "if a > b:\n",
    "    print('A wins')\n",
    "else:\n",
    "    if b>a:\n",
    "        print('B Wins')\n",
    "    else:\n",
    "        print('Its a tie')"
   ]
  },
  {
   "cell_type": "code",
   "execution_count": 26,
   "id": "9d0953a1",
   "metadata": {},
   "outputs": [
    {
     "name": "stdout",
     "output_type": "stream",
     "text": [
      "Its a tie\n"
     ]
    }
   ],
   "source": [
    "if a > b:\n",
    "    print('A wins')\n",
    "elif b > a:\n",
    "    print('B Wins')\n",
    "else:\n",
    "    print('Its a tie')"
   ]
  },
  {
   "cell_type": "code",
   "execution_count": null,
   "id": "701410f6",
   "metadata": {},
   "outputs": [],
   "source": [
    "# Loops\n",
    "\n",
    "# We have two kinds of loops in Python\n",
    "\n",
    "# For loops - For loops run over an iterable and stop automatically once the end of the iterable(last element) is processed.\n",
    "# While Loops - Run as long as a condition is True. As soon as the condition defined in the while header becomes false, the\n",
    "# loop stops running. "
   ]
  },
  {
   "cell_type": "code",
   "execution_count": null,
   "id": "1e192d01",
   "metadata": {},
   "outputs": [],
   "source": [
    "# for <temp_var> in iterable:\n",
    "#        Indented lines of code which will run for each iteration\n",
    "#        We can write infinite lines of code indented inside the loop."
   ]
  },
  {
   "cell_type": "code",
   "execution_count": null,
   "id": "ba4930a4",
   "metadata": {},
   "outputs": [],
   "source": [
    "lst1 = ['Pankaj', 'Ramgopal','Aarti', 'Priya', 'Dhananjay']\n"
   ]
  },
  {
   "cell_type": "code",
   "execution_count": 33,
   "id": "9c000dcc",
   "metadata": {},
   "outputs": [
    {
     "name": "stdout",
     "output_type": "stream",
     "text": [
      "P\n",
      "R\n",
      "A\n",
      "P\n",
      "D\n"
     ]
    }
   ],
   "source": [
    "for name in lst1:\n",
    "    print(name[0])"
   ]
  },
  {
   "cell_type": "code",
   "execution_count": 36,
   "id": "9d7bcd9f",
   "metadata": {},
   "outputs": [
    {
     "name": "stdout",
     "output_type": "stream",
     "text": [
      "5\n",
      "1\n",
      "10\n",
      "4\n",
      "15\n",
      "9\n",
      "20\n",
      "16\n"
     ]
    }
   ],
   "source": [
    "lst1 = [1,2,3,4]\n",
    "\n",
    "for num in lst1:\n",
    "    print(num * 5)\n",
    "    print(num ** 2)"
   ]
  },
  {
   "cell_type": "code",
   "execution_count": 37,
   "id": "6761b9f3",
   "metadata": {},
   "outputs": [],
   "source": [
    "lst1 = [1,2,3,4]"
   ]
  },
  {
   "cell_type": "code",
   "execution_count": 38,
   "id": "fbc94354",
   "metadata": {},
   "outputs": [
    {
     "name": "stdout",
     "output_type": "stream",
     "text": [
      "Number outside the loop before running is :  100\n"
     ]
    }
   ],
   "source": [
    "num = 100\n",
    "print('Number outside the loop before running is : ', num)"
   ]
  },
  {
   "cell_type": "code",
   "execution_count": 39,
   "id": "0a619e9c",
   "metadata": {},
   "outputs": [
    {
     "name": "stdout",
     "output_type": "stream",
     "text": [
      "Number inside the loop is :  1\n",
      "Number inside the loop is :  2\n",
      "Number inside the loop is :  3\n",
      "Number inside the loop is :  4\n"
     ]
    }
   ],
   "source": [
    "for num in lst1:\n",
    "    print('Number inside the loop is : ', num)"
   ]
  },
  {
   "cell_type": "code",
   "execution_count": 40,
   "id": "02b046d6",
   "metadata": {},
   "outputs": [
    {
     "name": "stdout",
     "output_type": "stream",
     "text": [
      "Number outside the loop after running loop is now :  4\n"
     ]
    }
   ],
   "source": [
    "    \n",
    "print('Number outside the loop after running loop is now : ', num)\n",
    "    "
   ]
  },
  {
   "cell_type": "code",
   "execution_count": 41,
   "id": "42bcc300",
   "metadata": {},
   "outputs": [
    {
     "name": "stdout",
     "output_type": "stream",
     "text": [
      "4\n"
     ]
    }
   ],
   "source": [
    "print(num)"
   ]
  },
  {
   "cell_type": "code",
   "execution_count": 42,
   "id": "563724d5",
   "metadata": {},
   "outputs": [
    {
     "name": "stdout",
     "output_type": "stream",
     "text": [
      "Hi\n",
      "Hi\n",
      "Hi\n",
      "Hi\n"
     ]
    }
   ],
   "source": [
    "# while loops\n",
    "\n",
    "x = 1\n",
    "\n",
    "while x < 5:\n",
    "    print('Hi')\n",
    "    #x += 1 #Update parameter"
   ]
  },
  {
   "cell_type": "code",
   "execution_count": 43,
   "id": "d5368159",
   "metadata": {},
   "outputs": [
    {
     "name": "stdout",
     "output_type": "stream",
     "text": [
      "['Betty', 'bought', 'some', 'butter', 'but', 'the', 'butter', 'was', 'bitter', 'so', 'Betty', 'bought', 'some', 'bitter', 'butter', 'to', 'make', 'the', 'bitter', 'butter', 'better']\n"
     ]
    }
   ],
   "source": [
    "str1 = 'Betty bought some butter but the butter was bitter so Betty bought some bitter butter to make the bitter butter better'\n",
    "\n",
    "lst1 = str1.split()\n",
    "\n",
    "print(lst1)"
   ]
  },
  {
   "cell_type": "code",
   "execution_count": 53,
   "id": "4b1b99e7",
   "metadata": {},
   "outputs": [
    {
     "name": "stdout",
     "output_type": "stream",
     "text": [
      "[1, 2, 3, 4, 5, 6, 7, 8, 9, 10]\n"
     ]
    }
   ],
   "source": [
    "lstnum = [1,2,3,4,5,6,7,8,9,10]\n",
    "\n",
    "print(lstnum)"
   ]
  },
  {
   "cell_type": "code",
   "execution_count": 54,
   "id": "94542cdf",
   "metadata": {},
   "outputs": [
    {
     "name": "stdout",
     "output_type": "stream",
     "text": [
      "[1, 2, 3, 4, 5, 6, 7, 8, 9]\n"
     ]
    }
   ],
   "source": [
    "lstnum.pop()\n",
    "\n",
    "print(lstnum)"
   ]
  },
  {
   "cell_type": "code",
   "execution_count": 46,
   "id": "73f24d1a",
   "metadata": {},
   "outputs": [
    {
     "name": "stdout",
     "output_type": "stream",
     "text": [
      "[1, 2, 3, 4, 5, 6, 7, 8, 9]\n"
     ]
    }
   ],
   "source": [
    "print(lstnum)"
   ]
  },
  {
   "cell_type": "code",
   "execution_count": 55,
   "id": "db0eb948",
   "metadata": {},
   "outputs": [
    {
     "name": "stdout",
     "output_type": "stream",
     "text": [
      "[1, 2, 3, 4, 5, 6, 7, 8]\n"
     ]
    }
   ],
   "source": [
    "lstnum.pop()\n",
    "\n",
    "print(lstnum)"
   ]
  },
  {
   "cell_type": "code",
   "execution_count": 48,
   "id": "40e340bb",
   "metadata": {},
   "outputs": [
    {
     "data": {
      "text/plain": [
       "8"
      ]
     },
     "execution_count": 48,
     "metadata": {},
     "output_type": "execute_result"
    }
   ],
   "source": [
    "lstnum.pop()"
   ]
  },
  {
   "cell_type": "code",
   "execution_count": 49,
   "id": "8c6b3273",
   "metadata": {},
   "outputs": [
    {
     "name": "stdout",
     "output_type": "stream",
     "text": [
      "[1, 2, 3, 4, 5, 6, 7]\n"
     ]
    }
   ],
   "source": [
    "print(lstnum)"
   ]
  },
  {
   "cell_type": "code",
   "execution_count": 50,
   "id": "736ca825",
   "metadata": {},
   "outputs": [
    {
     "name": "stdout",
     "output_type": "stream",
     "text": [
      "['Betty', 'bought', 'some', 'butter', 'but', 'the', 'butter', 'was', 'bitter', 'so', 'Betty', 'bought', 'some', 'bitter', 'butter', 'to', 'make', 'the', 'bitter', 'butter', 'better']\n"
     ]
    }
   ],
   "source": [
    "print(lst1)"
   ]
  },
  {
   "cell_type": "code",
   "execution_count": 51,
   "id": "0a600a60",
   "metadata": {},
   "outputs": [
    {
     "name": "stdout",
     "output_type": "stream",
     "text": [
      "['Betty', 'bought', 'some', 'butter', 'but', 'the', 'butter']\n"
     ]
    }
   ],
   "source": [
    "while 'was' in lst1:\n",
    "    lst1.pop()\n",
    "    \n",
    "    \n",
    "print(lst1)"
   ]
  },
  {
   "cell_type": "code",
   "execution_count": null,
   "id": "15968eae",
   "metadata": {},
   "outputs": [],
   "source": [
    "# It is not necessary to have update parameter explicitly in a while loop. It is usually there but not always. "
   ]
  },
  {
   "cell_type": "code",
   "execution_count": null,
   "id": "875f8b39",
   "metadata": {},
   "outputs": [],
   "source": [
    "# string concatenation\n",
    "# string multiplication\n",
    "# string split\n",
    "# string join"
   ]
  },
  {
   "cell_type": "code",
   "execution_count": null,
   "id": "990ffe73",
   "metadata": {},
   "outputs": [],
   "source": [
    "# *\n",
    "# **\n",
    "# ***\n",
    "# ****\n",
    "\n",
    "\n",
    "\n",
    "\n",
    "\n",
    "\n",
    "# *********************"
   ]
  },
  {
   "cell_type": "code",
   "execution_count": 7,
   "id": "47c7a8a4",
   "metadata": {},
   "outputs": [
    {
     "name": "stdout",
     "output_type": "stream",
     "text": [
      "-----------------------------------------------------------------------------------------------------------------------------\n"
     ]
    }
   ],
   "source": [
    "print(125*'-')"
   ]
  },
  {
   "cell_type": "code",
   "execution_count": 5,
   "id": "8c1357c8",
   "metadata": {},
   "outputs": [
    {
     "name": "stdout",
     "output_type": "stream",
     "text": [
      "*\n",
      "**\n",
      "***\n",
      "****\n",
      "*****\n",
      "******\n",
      "*******\n",
      "********\n",
      "*********\n",
      "**********\n",
      "***********\n",
      "************\n",
      "*************\n",
      "**************\n",
      "***************\n",
      "****************\n",
      "*****************\n",
      "******************\n",
      "*******************\n",
      "********************\n"
     ]
    }
   ],
   "source": [
    "i = 1\n",
    "\n",
    "while i <= 20:\n",
    "    print('*'*i)\n",
    "    i += 1"
   ]
  },
  {
   "cell_type": "code",
   "execution_count": 6,
   "id": "232fc59c",
   "metadata": {},
   "outputs": [
    {
     "name": "stdout",
     "output_type": "stream",
     "text": [
      "*\n",
      "**\n",
      "***\n",
      "****\n",
      "*****\n",
      "******\n",
      "*******\n",
      "********\n",
      "*********\n",
      "**********\n",
      "***********\n",
      "************\n",
      "*************\n",
      "**************\n",
      "***************\n",
      "****************\n",
      "*****************\n",
      "******************\n",
      "*******************\n",
      "********************\n"
     ]
    }
   ],
   "source": [
    "for x in range(1,21):\n",
    "    print('*'*x)"
   ]
  },
  {
   "cell_type": "code",
   "execution_count": 8,
   "id": "cd755f76",
   "metadata": {},
   "outputs": [
    {
     "name": "stdout",
     "output_type": "stream",
     "text": [
      "LEARNBAY\n"
     ]
    }
   ],
   "source": [
    "str1 = 'learnbay'\n",
    "\n",
    "str2 = str1.upper()\n",
    "\n",
    "print(str2)"
   ]
  },
  {
   "cell_type": "code",
   "execution_count": 9,
   "id": "7c97f35c",
   "metadata": {},
   "outputs": [
    {
     "name": "stdout",
     "output_type": "stream",
     "text": [
      "B\n"
     ]
    }
   ],
   "source": [
    "print('b'.upper())"
   ]
  },
  {
   "cell_type": "code",
   "execution_count": 12,
   "id": "60e97eec",
   "metadata": {},
   "outputs": [],
   "source": [
    "str1 = 'one flew over the cuckoos nest by ernest hemingway'\n",
    "# Output = One Flew OVer The Cuckoos Nest By Ernest Hemingway\n"
   ]
  },
  {
   "cell_type": "code",
   "execution_count": 17,
   "id": "c175cbd2",
   "metadata": {},
   "outputs": [
    {
     "name": "stdout",
     "output_type": "stream",
     "text": [
      "One Flew Over The Cuckoos Nest By Ernest Hemingway\n"
     ]
    }
   ],
   "source": [
    "str2 = ''\n",
    "for i in range(len(str1)):\n",
    "    if i == 0 or str1[i-1] == ' ': \n",
    "        str2 += str1[i].upper()\n",
    "    else:\n",
    "        str2 += str1[i]\n",
    "        \n",
    "print(str2)"
   ]
  },
  {
   "cell_type": "code",
   "execution_count": 18,
   "id": "cf977697",
   "metadata": {},
   "outputs": [
    {
     "name": "stdout",
     "output_type": "stream",
     "text": [
      "['Betty', 'bought', 'some', 'butter', 'but', 'the', 'butter', 'was', 'bitter', 'so', 'Betty', 'bought', 'some', 'better', 'butter', 'to', 'make', 'the', 'bitter', 'butter', 'better']\n"
     ]
    }
   ],
   "source": [
    "# string split\n",
    "# string join\n",
    "\n",
    "strx = 'Betty bought some butter but the butter was bitter so Betty bought some better butter to make the bitter butter better'\n",
    "\n",
    "lst1 = strx.split()\n",
    "\n",
    "print(lst1)"
   ]
  },
  {
   "cell_type": "code",
   "execution_count": 20,
   "id": "c9e6ca4d",
   "metadata": {},
   "outputs": [
    {
     "name": "stdout",
     "output_type": "stream",
     "text": [
      "Betty*bought*some*butter*but*the*butter*was*bitter*so*Betty*bought*some*better*butter*to*make*the*bitter*butter*better\n"
     ]
    }
   ],
   "source": [
    "str2 = '*'.join(lst1)\n",
    "\n",
    "print(str2)"
   ]
  },
  {
   "cell_type": "code",
   "execution_count": 37,
   "id": "cb713cf6",
   "metadata": {},
   "outputs": [
    {
     "name": "stdout",
     "output_type": "stream",
     "text": [
      "['one', 'flew', 'over', 'the', 'cuckoos', 'nest', 'by', 'ernest', 'hemingway.']\n"
     ]
    }
   ],
   "source": [
    "# Make each first letter of each word a capital and return the complete string. \n",
    "\n",
    "# Hint - you will need to use string.upper(), string.split(), string.join(), list.append() methods. Not necessarily in this \n",
    "# order. Slicing on string will also be required.\n",
    "\n",
    "str1 = 'one flew over the cuckoos nest by ernest hemingway.'\n",
    "lst1 = str1.split()\n",
    "\n",
    "print(lst1)"
   ]
  },
  {
   "cell_type": "code",
   "execution_count": 31,
   "id": "5262610e",
   "metadata": {},
   "outputs": [
    {
     "name": "stdout",
     "output_type": "stream",
     "text": [
      "Bulla*Triratna\n"
     ]
    }
   ],
   "source": [
    "print('*'.join(['Bulla', 'Triratna']))"
   ]
  },
  {
   "cell_type": "code",
   "execution_count": 39,
   "id": "0ff2a52a",
   "metadata": {},
   "outputs": [
    {
     "name": "stdout",
     "output_type": "stream",
     "text": [
      "One Flew Over The Cuckoos Nest By Ernest Hemingway.\n"
     ]
    }
   ],
   "source": [
    "lst2 = []\n",
    "for word in lst1:\n",
    "    lst2.append(word[0].upper()+word[1:])\n",
    "    #print(lst2)\n",
    "\n",
    "strjoined = ' '.join(lst2)\n",
    "\n",
    "print(strjoined)"
   ]
  },
  {
   "cell_type": "code",
   "execution_count": 25,
   "id": "9b16737e",
   "metadata": {},
   "outputs": [
    {
     "name": "stdout",
     "output_type": "stream",
     "text": [
      "['One', 'Flew', 'Over', 'The', 'Cuckoos', 'Nest', 'By', 'Ernest', 'Hemingway']\n"
     ]
    }
   ],
   "source": [
    "print(lst2)"
   ]
  },
  {
   "cell_type": "code",
   "execution_count": 27,
   "id": "8bb39a08",
   "metadata": {},
   "outputs": [
    {
     "name": "stdout",
     "output_type": "stream",
     "text": [
      "('One', 'Flew', 'Over', 'The', 'Cuckoos', 'Nest', 'By', 'Ernest', 'Hemingway')\n"
     ]
    }
   ],
   "source": [
    "tup1 = tuple(lst2)\n",
    "\n",
    "print(tup1)"
   ]
  },
  {
   "cell_type": "code",
   "execution_count": 28,
   "id": "cb089d26",
   "metadata": {},
   "outputs": [
    {
     "name": "stdout",
     "output_type": "stream",
     "text": [
      "One Flew Over The Cuckoos Nest By Ernest Hemingway\n"
     ]
    }
   ],
   "source": [
    "print(' '.join(tup1))"
   ]
  },
  {
   "cell_type": "code",
   "execution_count": 35,
   "id": "aa0758af",
   "metadata": {},
   "outputs": [
    {
     "name": "stdout",
     "output_type": "stream",
     "text": [
      "Triratna\n"
     ]
    }
   ],
   "source": [
    "strx = 'triratna'\n",
    "\n",
    "strxx = strx[0].upper()+strx[1:]\n",
    "\n",
    "print(strxx)"
   ]
  },
  {
   "cell_type": "code",
   "execution_count": 40,
   "id": "49d1f7b1",
   "metadata": {},
   "outputs": [
    {
     "name": "stdout",
     "output_type": "stream",
     "text": [
      "Value of x is  0 . Value of y is  21\n",
      "Value of x is  0 . Value of y is  22\n",
      "Value of x is  0 . Value of y is  23\n",
      "Value of x is  1 . Value of y is  21\n",
      "Value of x is  1 . Value of y is  22\n",
      "Value of x is  1 . Value of y is  23\n",
      "Value of x is  2 . Value of y is  21\n",
      "Value of x is  2 . Value of y is  22\n",
      "Value of x is  2 . Value of y is  23\n"
     ]
    }
   ],
   "source": [
    "for x in range(3):\n",
    "    for y in range(21,24):\n",
    "        print('Value of x is ',x, '. Value of y is ', y)"
   ]
  },
  {
   "cell_type": "code",
   "execution_count": 4,
   "id": "3bb69db5",
   "metadata": {},
   "outputs": [
    {
     "name": "stdout",
     "output_type": "stream",
     "text": [
      "10\n",
      "2\n",
      "22\n",
      "42\n",
      "-----------------------------------------------------------------------------------------------------------------------------\n",
      "Inner while loop finished\n",
      "-----------------------------------------------------------------------------------------------------------------------------\n",
      "20\n",
      "2\n",
      "22\n",
      "42\n",
      "-----------------------------------------------------------------------------------------------------------------------------\n",
      "Inner while loop finished\n",
      "-----------------------------------------------------------------------------------------------------------------------------\n",
      "30\n",
      "2\n",
      "22\n",
      "42\n",
      "-----------------------------------------------------------------------------------------------------------------------------\n",
      "Inner while loop finished\n",
      "-----------------------------------------------------------------------------------------------------------------------------\n",
      "40\n",
      "2\n",
      "22\n",
      "42\n",
      "-----------------------------------------------------------------------------------------------------------------------------\n",
      "Inner while loop finished\n",
      "-----------------------------------------------------------------------------------------------------------------------------\n",
      "50\n",
      "2\n",
      "22\n",
      "42\n",
      "-----------------------------------------------------------------------------------------------------------------------------\n",
      "Inner while loop finished\n",
      "-----------------------------------------------------------------------------------------------------------------------------\n"
     ]
    }
   ],
   "source": [
    "x = 1\n",
    "\n",
    "#while x <= 5:\n",
    "    print(x*10)\n",
    "    y = 1\n",
    "    while y <= 30:\n",
    "        print(y*2)\n",
    "        y += 10\n",
    "    print('-'*125)\n",
    "    print('Inner while loop finished')\n",
    "    print('-'*125)\n",
    "    x += 1"
   ]
  },
  {
   "cell_type": "code",
   "execution_count": 15,
   "id": "7050166c",
   "metadata": {},
   "outputs": [],
   "source": [
    "# 0,1,1,2,3,5,8,13,21,34,55,89.... # fibonacci sequence\n",
    "\n",
    "# Starting with below list, we wish to get the fibonnaci series - till the number touches 100. \n",
    "lst1 = [0,1]\n",
    "\n"
   ]
  },
  {
   "cell_type": "code",
   "execution_count": 16,
   "id": "444743dd",
   "metadata": {},
   "outputs": [
    {
     "name": "stdout",
     "output_type": "stream",
     "text": [
      "[0, 1, 1]\n",
      "[0, 1, 1, 2]\n",
      "[0, 1, 1, 2, 3]\n",
      "[0, 1, 1, 2, 3, 5]\n",
      "[0, 1, 1, 2, 3, 5, 8]\n",
      "[0, 1, 1, 2, 3, 5, 8, 13]\n",
      "[0, 1, 1, 2, 3, 5, 8, 13, 21]\n",
      "[0, 1, 1, 2, 3, 5, 8, 13, 21, 34]\n",
      "[0, 1, 1, 2, 3, 5, 8, 13, 21, 34, 55]\n",
      "[0, 1, 1, 2, 3, 5, 8, 13, 21, 34, 55, 89]\n"
     ]
    }
   ],
   "source": [
    "while lst1[-1]+lst1[-2] <= 100:\n",
    "    lst1.append(lst1[-1]+lst1[-2])\n",
    "    print(lst1)\n",
    "    \n",
    "#print(lst1)"
   ]
  },
  {
   "cell_type": "code",
   "execution_count": 19,
   "id": "d3c841c7",
   "metadata": {},
   "outputs": [
    {
     "data": {
      "text/plain": [
       "'i'"
      ]
     },
     "execution_count": 19,
     "metadata": {},
     "output_type": "execute_result"
    }
   ],
   "source": [
    "str1 = 'Sonia'\n",
    "\n",
    "str1[-2]"
   ]
  },
  {
   "cell_type": "code",
   "execution_count": 21,
   "id": "5b76599a",
   "metadata": {},
   "outputs": [
    {
     "data": {
      "text/plain": [
       "30"
      ]
     },
     "execution_count": 21,
     "metadata": {},
     "output_type": "execute_result"
    }
   ],
   "source": [
    "lst1 = [10,20,30,40,50]\n",
    "\n",
    "lst1[-3]"
   ]
  },
  {
   "cell_type": "code",
   "execution_count": 26,
   "id": "28288100",
   "metadata": {},
   "outputs": [
    {
     "name": "stdout",
     "output_type": "stream",
     "text": [
      "Python Python Python Python Python \n",
      "is is is is is is is is is is is is \n",
      "easy easy easy easy easy easy easy \n",
      "peasy peasy peasy peasy peasy peasy \n"
     ]
    }
   ],
   "source": [
    "lst1 = ['Python', 'is', 'easy', 'peasy']\n",
    "\n",
    "for word in lst1:\n",
    "    str1 = ''\n",
    "    while len(str1) < 35:\n",
    "        str1 += word + ' '\n",
    "    print(str1)\n",
    "\n"
   ]
  },
  {
   "cell_type": "code",
   "execution_count": 24,
   "id": "008e8354",
   "metadata": {},
   "outputs": [
    {
     "name": "stdout",
     "output_type": "stream",
     "text": [
      "['Python', 'is', 'easy', 'peasy']\n"
     ]
    }
   ],
   "source": [
    "print(lst1)"
   ]
  },
  {
   "cell_type": "code",
   "execution_count": 25,
   "id": "857be828",
   "metadata": {},
   "outputs": [
    {
     "name": "stdout",
     "output_type": "stream",
     "text": [
      "Python is easy peasy Python is easy peasy Python is easy peasy Python is easy peasy Python is easy peasy Python is easy peasy \n"
     ]
    }
   ],
   "source": [
    "x = ''\n",
    "while len(x) < 120:\n",
    "    for word in lst1:\n",
    "        x += word + ' '\n",
    "#         print(x)\n",
    "#     print(len(x))\n",
    "\n",
    "print(x)"
   ]
  },
  {
   "cell_type": "code",
   "execution_count": null,
   "id": "ad2c2549",
   "metadata": {},
   "outputs": [],
   "source": [
    "# Break, Continue and Pass keywords"
   ]
  },
  {
   "cell_type": "code",
   "execution_count": null,
   "id": "54d6f4a8",
   "metadata": {},
   "outputs": [],
   "source": [
    "# Break keyword - as soon as hit in a for loop comes out of the loop immediately.\n",
    "\n",
    "# continue keyword - continues to the next iteration."
   ]
  },
  {
   "cell_type": "code",
   "execution_count": 40,
   "id": "72acd1d7",
   "metadata": {},
   "outputs": [
    {
     "name": "stdout",
     "output_type": "stream",
     "text": [
      "0\n",
      "Hello There\n",
      "1\n",
      "Hello There\n",
      "2\n",
      "Hello There\n",
      "3\n",
      "Hello There\n",
      "4\n"
     ]
    }
   ],
   "source": [
    "for x in range(10):\n",
    "    print(x)\n",
    "    if x > 3:\n",
    "        break\n",
    "        print('Hello There')\n",
    "    print('Hello There')"
   ]
  },
  {
   "cell_type": "code",
   "execution_count": 42,
   "id": "82f5fcd4",
   "metadata": {},
   "outputs": [
    {
     "name": "stdout",
     "output_type": "stream",
     "text": [
      "0\n",
      "Hello There\n",
      "1\n",
      "Hello There\n",
      "2\n",
      "Hello There\n",
      "3\n",
      "Hello There\n",
      "4\n",
      "5\n",
      "6\n",
      "7\n",
      "8\n",
      "9\n"
     ]
    }
   ],
   "source": [
    "for x in range(10):\n",
    "    print(x)\n",
    "    if x > 3:\n",
    "        continue\n",
    "        print('Hello There')\n",
    "    print('Hello There')"
   ]
  },
  {
   "cell_type": "code",
   "execution_count": 41,
   "id": "9854f72b",
   "metadata": {},
   "outputs": [
    {
     "name": "stdout",
     "output_type": "stream",
     "text": [
      "0\n",
      "Hello There\n",
      "1\n",
      "Hello There\n",
      "2\n",
      "Hello There\n",
      "3\n",
      "Hello There\n",
      "4\n",
      "Hello There\n",
      "Hello There\n",
      "5\n",
      "Hello There\n",
      "Hello There\n",
      "6\n",
      "Hello There\n",
      "Hello There\n",
      "7\n",
      "Hello There\n",
      "Hello There\n",
      "8\n",
      "Hello There\n",
      "Hello There\n",
      "9\n",
      "Hello There\n",
      "Hello There\n"
     ]
    }
   ],
   "source": [
    "for x in range(10):\n",
    "    print(x)\n",
    "    if x > 3:\n",
    "        pass\n",
    "        print('Hello There')\n",
    "    print('Hello There')"
   ]
  },
  {
   "cell_type": "code",
   "execution_count": null,
   "id": "0a995311",
   "metadata": {},
   "outputs": [],
   "source": []
  }
 ],
 "metadata": {
  "kernelspec": {
   "display_name": "Python 3 (ipykernel)",
   "language": "python",
   "name": "python3"
  },
  "language_info": {
   "codemirror_mode": {
    "name": "ipython",
    "version": 3
   },
   "file_extension": ".py",
   "mimetype": "text/x-python",
   "name": "python",
   "nbconvert_exporter": "python",
   "pygments_lexer": "ipython3",
   "version": "3.9.13"
  }
 },
 "nbformat": 4,
 "nbformat_minor": 5
}
