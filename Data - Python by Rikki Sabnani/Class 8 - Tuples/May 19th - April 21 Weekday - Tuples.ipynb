{
 "cells": [
  {
   "cell_type": "markdown",
   "id": "c96068f8",
   "metadata": {},
   "source": [
    "### Tuples\n"
   ]
  },
  {
   "cell_type": "code",
   "execution_count": null,
   "id": "989b29cb",
   "metadata": {},
   "outputs": [],
   "source": [
    "# Properties of Tuples\n",
    "\n",
    "#1. Derived\n",
    "#2. Immutable\n",
    "#3. Ordered\n",
    "#4. Subscription - Indexing, Slicing are supported but item or slice assignment - not supported\n",
    "#5. Iterable\n",
    "#6. Heterogenous"
   ]
  },
  {
   "cell_type": "code",
   "execution_count": 1,
   "id": "0da0de7c",
   "metadata": {},
   "outputs": [
    {
     "name": "stdout",
     "output_type": "stream",
     "text": [
      "(1, 2, 3, 4)\n",
      "<class 'tuple'>\n"
     ]
    }
   ],
   "source": [
    "# Initialising Tuples\n",
    "\n",
    "tup1 = (1,2,3,4)\n",
    "\n",
    "print(tup1)\n",
    "print(type(tup1))"
   ]
  },
  {
   "cell_type": "code",
   "execution_count": 3,
   "id": "d672352f",
   "metadata": {},
   "outputs": [
    {
     "name": "stdout",
     "output_type": "stream",
     "text": [
      "(1,)\n",
      "<class 'tuple'>\n"
     ]
    }
   ],
   "source": [
    "tup1 = (1,)\n",
    "\n",
    "print(tup1)\n",
    "print(type(tup1))"
   ]
  },
  {
   "cell_type": "code",
   "execution_count": 4,
   "id": "5d0c6b96",
   "metadata": {},
   "outputs": [
    {
     "name": "stdout",
     "output_type": "stream",
     "text": [
      "(1, 2, 3, 4)\n",
      "<class 'tuple'>\n"
     ]
    }
   ],
   "source": [
    "tup1 = 1,2,3,4\n",
    "\n",
    "print(tup1)\n",
    "print(type(tup1))"
   ]
  },
  {
   "cell_type": "code",
   "execution_count": 5,
   "id": "2e741644",
   "metadata": {},
   "outputs": [
    {
     "name": "stdout",
     "output_type": "stream",
     "text": [
      "(1,)\n",
      "<class 'tuple'>\n"
     ]
    }
   ],
   "source": [
    "tup1 = 1,\n",
    "\n",
    "print(tup1)\n",
    "print(type(tup1))"
   ]
  },
  {
   "cell_type": "code",
   "execution_count": 6,
   "id": "9bb9a4eb",
   "metadata": {},
   "outputs": [
    {
     "name": "stdout",
     "output_type": "stream",
     "text": [
      "(1, 2, 3, 4)\n",
      "<class 'tuple'>\n"
     ]
    }
   ],
   "source": [
    "# Using tuple function\n",
    "\n",
    "lst1 = [1,2,3,4]\n",
    "\n",
    "tup1 = tuple(lst1)\n",
    "\n",
    "print(tup1)\n",
    "print(type(tup1))"
   ]
  },
  {
   "cell_type": "code",
   "execution_count": 12,
   "id": "de9a15c0",
   "metadata": {},
   "outputs": [
    {
     "name": "stdout",
     "output_type": "stream",
     "text": [
      "('abcde',)\n"
     ]
    }
   ],
   "source": [
    "tup1 = tuple(['abcde'])\n",
    "\n",
    "print(tup1)"
   ]
  },
  {
   "cell_type": "code",
   "execution_count": null,
   "id": "687f11a4",
   "metadata": {},
   "outputs": [],
   "source": [
    "# Concatenation, Multiplication, Built-in Python methods such as length, max, min, sum will all work with tuples just as \n",
    "# with other iterables. "
   ]
  },
  {
   "cell_type": "code",
   "execution_count": 13,
   "id": "f3ff31bd",
   "metadata": {},
   "outputs": [
    {
     "name": "stdout",
     "output_type": "stream",
     "text": [
      "['__add__', '__class__', '__class_getitem__', '__contains__', '__delattr__', '__dir__', '__doc__', '__eq__', '__format__', '__ge__', '__getattribute__', '__getitem__', '__getnewargs__', '__gt__', '__hash__', '__init__', '__init_subclass__', '__iter__', '__le__', '__len__', '__lt__', '__mul__', '__ne__', '__new__', '__reduce__', '__reduce_ex__', '__repr__', '__rmul__', '__setattr__', '__sizeof__', '__str__', '__subclasshook__', 'count', 'index']\n"
     ]
    }
   ],
   "source": [
    "# Methods on Tuples\n",
    "\n",
    "print(dir(tuple))"
   ]
  },
  {
   "cell_type": "code",
   "execution_count": 14,
   "id": "7193c9e4",
   "metadata": {},
   "outputs": [
    {
     "name": "stdout",
     "output_type": "stream",
     "text": [
      "('a', 'b', 'a', 'd', 'e', 'f', 'a', 'f', 'a', 'g', 'g', 'a', 'b', 'a', 'a')\n"
     ]
    }
   ],
   "source": [
    "tup1 = tuple('abadefafaggabaa')\n",
    "\n",
    "print(tup1)"
   ]
  },
  {
   "cell_type": "code",
   "execution_count": 15,
   "id": "7f5151d1",
   "metadata": {},
   "outputs": [
    {
     "name": "stdout",
     "output_type": "stream",
     "text": [
      "7\n"
     ]
    }
   ],
   "source": [
    "print(tup1.count('a'))"
   ]
  },
  {
   "cell_type": "code",
   "execution_count": 16,
   "id": "ed8d5233",
   "metadata": {},
   "outputs": [
    {
     "name": "stdout",
     "output_type": "stream",
     "text": [
      "7\n"
     ]
    }
   ],
   "source": [
    "x = tup1.count('a')\n",
    "\n",
    "print(x)"
   ]
  },
  {
   "cell_type": "code",
   "execution_count": 17,
   "id": "a81c69bc",
   "metadata": {},
   "outputs": [
    {
     "name": "stdout",
     "output_type": "stream",
     "text": [
      "3\n"
     ]
    }
   ],
   "source": [
    "# Index\n",
    "\n",
    "print(tup1.index('d'))\n",
    "\n"
   ]
  },
  {
   "cell_type": "code",
   "execution_count": 18,
   "id": "ad0f6759",
   "metadata": {},
   "outputs": [
    {
     "name": "stdout",
     "output_type": "stream",
     "text": [
      "3\n"
     ]
    }
   ],
   "source": [
    "x = tup1.index('d')\n",
    "\n",
    "print(x)"
   ]
  },
  {
   "cell_type": "code",
   "execution_count": 19,
   "id": "d5a2e2f6",
   "metadata": {},
   "outputs": [
    {
     "name": "stdout",
     "output_type": "stream",
     "text": [
      "('a', 'b', 'a', 'd', 'e', 'f', 'a', 'f', 'a', 'g', 'g', 'a', 'b', 'a', 'a')\n"
     ]
    }
   ],
   "source": [
    "print(tup1)"
   ]
  },
  {
   "cell_type": "code",
   "execution_count": 21,
   "id": "ec9a77cb",
   "metadata": {},
   "outputs": [
    {
     "name": "stdout",
     "output_type": "stream",
     "text": [
      "7\n"
     ]
    }
   ],
   "source": [
    "y = tup1.index('f', 6)\n",
    "\n",
    "print(y)"
   ]
  },
  {
   "cell_type": "code",
   "execution_count": 26,
   "id": "fbd6b829",
   "metadata": {},
   "outputs": [
    {
     "name": "stdout",
     "output_type": "stream",
     "text": [
      "9\n"
     ]
    }
   ],
   "source": [
    "z = tup1.index('g', 3,100)\n",
    "\n",
    "print(z)"
   ]
  },
  {
   "cell_type": "code",
   "execution_count": 27,
   "id": "a9007feb",
   "metadata": {},
   "outputs": [],
   "source": [
    "# Aliasing, Copying, Deepcopying\n",
    "\n",
    "# Aliasing - Is just calling the same object by two names. If we change the object using one name, even when we print or \n",
    "# access using the second name - change will be reflected since object is the same. \n",
    "\n",
    "# Copying - We explicitly create a second object <that has a memory ID different from the object that was copied>. The \n",
    "# memory IDs of the objects inside the original object and the memory IDs of objects inside the copy are the same. \n",
    "\n",
    "# - For immutable objects - since object cannot be changed without changing its memory ID - if we change the value of a \n",
    "# mutable object inside the original, change will not be reflected in copy. \n",
    "# - For mutable objects - Changing the mutable objects elements, does not result in a change of memory ID of the mutable \n",
    "# element. Therefore, changeing a mutable elements values in original result in the change being reflected in copy. \n",
    "\n",
    "# Deepcopy - Using deepcopy all the mutable elements inside the original get a new memory ID (i.e. new object is created)\n",
    "# inside the copy. The mutable elements have the same memory IDs <to start> in both original and copy."
   ]
  },
  {
   "cell_type": "code",
   "execution_count": null,
   "id": "1b9976e6",
   "metadata": {},
   "outputs": [],
   "source": [
    "# Tuples - themselves are immutable. "
   ]
  },
  {
   "cell_type": "code",
   "execution_count": 28,
   "id": "ad84edd8",
   "metadata": {},
   "outputs": [],
   "source": [
    "tup_nest = ((1, 'jkl', [62,70,82], 21),(2, 'ghi', [91,100,63], 22),(3, 'abc', [51,42,51], 24),\n",
    "           (4, 'def', [62,81,71], 20),(5, 'xyz', [55,75,86], 19),(3, 'pqr', [91,99,92], 24))\n"
   ]
  },
  {
   "cell_type": "code",
   "execution_count": 30,
   "id": "40f4f353",
   "metadata": {},
   "outputs": [
    {
     "name": "stdout",
     "output_type": "stream",
     "text": [
      "((1, 'jkl', [62, 70, 82], 21), (2, 'ghi', [91, 100, 63], 22), (3, 'abc', [51, 42, 51], 24), (3, 'pqr', [91, 99, 92], 24), (4, 'def', [62, 81, 71], 20), (5, 'xyz', [55, 75, 86], 19))\n"
     ]
    }
   ],
   "source": [
    "sortedtup = tuple(sorted(tup_nest))\n",
    "\n",
    "print(sortedtup)"
   ]
  },
  {
   "cell_type": "code",
   "execution_count": 31,
   "id": "6bf883f7",
   "metadata": {},
   "outputs": [],
   "source": [
    "# Sort tup_nest based on the max value in the list which is inside each tuple. \n",
    "\n",
    "# Hint - you will need a user-defined function + max built-in function + indexing"
   ]
  },
  {
   "cell_type": "code",
   "execution_count": 32,
   "id": "d7daaf63",
   "metadata": {},
   "outputs": [],
   "source": [
    "def funct(x):\n",
    "    return max(x[2])"
   ]
  },
  {
   "cell_type": "code",
   "execution_count": 34,
   "id": "e74b23d2",
   "metadata": {},
   "outputs": [
    {
     "name": "stdout",
     "output_type": "stream",
     "text": [
      "[(2, 'ghi', [91, 100, 63], 22), (3, 'pqr', [91, 99, 92], 24), (5, 'xyz', [55, 75, 86], 19), (1, 'jkl', [62, 70, 82], 21), (4, 'def', [62, 81, 71], 20), (3, 'abc', [51, 42, 51], 24)]\n"
     ]
    }
   ],
   "source": [
    "sortedmarks = sorted(tup_nest, key = funct, reverse = True)\n",
    "\n",
    "print(sortedmarks)"
   ]
  },
  {
   "cell_type": "code",
   "execution_count": 35,
   "id": "15a8964d",
   "metadata": {},
   "outputs": [],
   "source": [
    "tup_nest = ((1, 'jkl', [62,70,82], 21),(2, 'ghi', [91,100,63], 22),(3, 'abc', [51,42,51], 24),\\\n",
    "            (4, 'def', [62,81,71], 20),(5, 'xyz', [55,75,86], 19),(3, 'pqr', [91,99,92], 24))"
   ]
  },
  {
   "cell_type": "code",
   "execution_count": 36,
   "id": "17388bdb",
   "metadata": {},
   "outputs": [],
   "source": [
    "# We need to change 'jkl' in the first tuple to 'kkk'. You are allowed to create a new tuple object. Not allowed to typecast\n",
    "# to another datatype.\n",
    "\n",
    "# Hint - Tuples can be sliced and concatenated. "
   ]
  },
  {
   "cell_type": "code",
   "execution_count": 48,
   "id": "6b556bcb",
   "metadata": {},
   "outputs": [
    {
     "name": "stdout",
     "output_type": "stream",
     "text": [
      "((1, 'kkk', [62, 70, 82], 21), (2, 'ghi', [91, 100, 63], 22), (3, 'abc', [51, 42, 51], 24), (4, 'def', [62, 81, 71], 20), (5, 'xyz', [55, 75, 86], 19), (3, 'pqr', [91, 99, 92], 24))\n"
     ]
    }
   ],
   "source": [
    "newtuple = (tup_nest[0][:1]+('kkk',)+tup_nest[0][2:],)+tup_nest[1:]\n",
    "print(newtuple)"
   ]
  },
  {
   "cell_type": "code",
   "execution_count": null,
   "id": "11efdfea",
   "metadata": {},
   "outputs": [],
   "source": [
    "(1,'kkk')+([62,70,82],21)\n",
    "(1,'kkk',[62,70,82],)"
   ]
  }
 ],
 "metadata": {
  "kernelspec": {
   "display_name": "Python 3 (ipykernel)",
   "language": "python",
   "name": "python3"
  },
  "language_info": {
   "codemirror_mode": {
    "name": "ipython",
    "version": 3
   },
   "file_extension": ".py",
   "mimetype": "text/x-python",
   "name": "python",
   "nbconvert_exporter": "python",
   "pygments_lexer": "ipython3",
   "version": "3.9.13"
  }
 },
 "nbformat": 4,
 "nbformat_minor": 5
}
