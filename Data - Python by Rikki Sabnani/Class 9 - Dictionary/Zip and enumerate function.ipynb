{
 "cells": [
  {
   "cell_type": "code",
   "execution_count": 1,
   "id": "15c53f9c",
   "metadata": {},
   "outputs": [
    {
     "name": "stdout",
     "output_type": "stream",
     "text": [
      "[100, 101, 102, 103, 104, 105, 106, 107, 108, 109]\n",
      "['a', 'b', 'c', 'd', 'e', 'f', 'g', 'h', 'i', 'j']\n"
     ]
    }
   ],
   "source": [
    "lst1 = list(range(100,110))\n",
    "lstalpha = list('abcdefghij')\n",
    "\n",
    "\n",
    "print(lst1)\n",
    "print(lstalpha)"
   ]
  },
  {
   "cell_type": "code",
   "execution_count": 6,
   "id": "51fa7ac0",
   "metadata": {},
   "outputs": [
    {
     "name": "stdout",
     "output_type": "stream",
     "text": [
      "[(100, 'a'), (101, 'b'), (102, 'c'), (103, 'd'), (104, 'e'), (105, 'f'), (106, 'g'), (107, 'h'), (108, 'i'), (109, 'j')]\n"
     ]
    }
   ],
   "source": [
    "ziplist = list(zip(lst1, lstalpha))\n",
    "\n",
    "print(ziplist)"
   ]
  },
  {
   "cell_type": "code",
   "execution_count": 4,
   "id": "c7ed83d5",
   "metadata": {},
   "outputs": [],
   "source": [
    "for x in ziplist:\n",
    "    print(x)"
   ]
  },
  {
   "cell_type": "code",
   "execution_count": null,
   "id": "1703e67d",
   "metadata": {},
   "outputs": [],
   "source": [
    "# Outer iterable with inner iterables of length 2"
   ]
  },
  {
   "cell_type": "code",
   "execution_count": null,
   "id": "e78a39b9",
   "metadata": {},
   "outputs": [],
   "source": []
  },
  {
   "cell_type": "code",
   "execution_count": 7,
   "id": "ba148b9c",
   "metadata": {},
   "outputs": [
    {
     "name": "stdout",
     "output_type": "stream",
     "text": [
      "{100: 'a', 101: 'b', 102: 'c', 103: 'd', 104: 'e', 105: 'f', 106: 'g', 107: 'h', 108: 'i', 109: 'j'}\n"
     ]
    }
   ],
   "source": [
    "dict1 = dict(zip(lst1,lstalpha))\n",
    "\n",
    "print(dict1)"
   ]
  },
  {
   "cell_type": "code",
   "execution_count": 8,
   "id": "a1f4cd9f",
   "metadata": {},
   "outputs": [
    {
     "name": "stdout",
     "output_type": "stream",
     "text": [
      "[('yashoda', 'music'), ('mala', 'art'), ('tushar', 'trekking'), ('prakher', 'driving')]\n"
     ]
    }
   ],
   "source": [
    "names = ['yashoda', 'mala', 'tushar', 'prakher']\n",
    "activity = ['music', 'art', 'trekking', 'driving']\n",
    "\n",
    "zippair = list(zip(names,activity))\n",
    "\n",
    "print(zippair)"
   ]
  },
  {
   "cell_type": "code",
   "execution_count": 10,
   "id": "8ba6e547",
   "metadata": {},
   "outputs": [
    {
     "name": "stdout",
     "output_type": "stream",
     "text": [
      "[20, 21, 22, 23]\n"
     ]
    }
   ],
   "source": [
    "lst2 = list(range(20,24))\n",
    "\n",
    "print(lst2)"
   ]
  },
  {
   "cell_type": "code",
   "execution_count": 11,
   "id": "ebb6b4a9",
   "metadata": {},
   "outputs": [
    {
     "name": "stdout",
     "output_type": "stream",
     "text": [
      "[(20, 'yashoda', 'music'), (21, 'mala', 'art'), (22, 'tushar', 'trekking'), (23, 'prakher', 'driving')]\n"
     ]
    }
   ],
   "source": [
    "ziplist1 = list(zip(lst2, names, activity))\n",
    "\n",
    "print(ziplist1)"
   ]
  },
  {
   "cell_type": "code",
   "execution_count": 12,
   "id": "ab5adac9",
   "metadata": {},
   "outputs": [
    {
     "name": "stdout",
     "output_type": "stream",
     "text": [
      "[50, 51, 52, 53, 54]\n"
     ]
    }
   ],
   "source": [
    "lst3 = list(range(50,55))\n",
    "\n",
    "print(lst3)"
   ]
  },
  {
   "cell_type": "code",
   "execution_count": 18,
   "id": "07668f7f",
   "metadata": {},
   "outputs": [
    {
     "name": "stdout",
     "output_type": "stream",
     "text": [
      "[0, 1, 2, 3, 4]\n",
      "[11, 12, 13, 14, 15, 16, 17, 18, 19, 20]\n",
      "[101, 102, 103, 104, 105, 106, 107, 108, 109, 110]\n"
     ]
    }
   ],
   "source": [
    "lst1 = list(range(5))\n",
    "lst2 = list(range(11,21))\n",
    "lst3 = list(range(101,111))\n",
    "\n",
    "print(lst1)\n",
    "print(lst2)\n",
    "print(lst3)"
   ]
  },
  {
   "cell_type": "code",
   "execution_count": 19,
   "id": "2f12d174",
   "metadata": {},
   "outputs": [
    {
     "name": "stdout",
     "output_type": "stream",
     "text": [
      "[(0, 11, 101), (1, 12, 102), (2, 13, 103), (3, 14, 104), (4, 15, 105)]\n"
     ]
    }
   ],
   "source": [
    "ziplist2 = list(zip(lst1, lst2, lst3))\n",
    "\n",
    "print(ziplist2)"
   ]
  },
  {
   "cell_type": "code",
   "execution_count": 20,
   "id": "ab25ae44",
   "metadata": {},
   "outputs": [
    {
     "name": "stdout",
     "output_type": "stream",
     "text": [
      "[(0, 11, 101), (1, 12, 102), (2, 13, 103), (3, 14, 104), (4, 15, 105), (None, 16, 106), (None, 17, 107), (None, 18, 108), (None, 19, 109), (None, 20, 110)]\n"
     ]
    }
   ],
   "source": [
    "from itertools import zip_longest\n",
    "\n",
    "ziplist3 = list(zip_longest(lst1,lst2,lst3))\n",
    "\n",
    "print(ziplist3)"
   ]
  },
  {
   "cell_type": "code",
   "execution_count": 17,
   "id": "09d74452",
   "metadata": {},
   "outputs": [
    {
     "name": "stdout",
     "output_type": "stream",
     "text": [
      "(0, 1, 2, 3, 4, None, None, None, None, None, None, None, None, None, None, None, None, None, None, None)\n",
      "(11, 12, 13, 14, 15, 16, 17, 18, 19, 20, None, None, None, None, None, None, None, None, None, None)\n",
      "(101, 102, 103, 104, 105, 106, 107, 108, 109, 110, 111, 112, 113, 114, 115, 116, 117, 118, 119, 120)\n"
     ]
    }
   ],
   "source": [
    "x,y,z = zip(*ziplist3)\n",
    "\n",
    "print(x)\n",
    "print(y)\n",
    "print(z)"
   ]
  },
  {
   "cell_type": "code",
   "execution_count": 22,
   "id": "b0c8f47e",
   "metadata": {},
   "outputs": [
    {
     "name": "stdout",
     "output_type": "stream",
     "text": [
      "[(0, 11, 101), (1, 12, 102), (2, 13, 103), (3, 14, 104), (4, 15, 105), (None, 16, 106), (None, 17, 107), (None, 18, 108), (None, 19, 109), (None, 20, 110)]\n"
     ]
    }
   ],
   "source": [
    "print(ziplist3)"
   ]
  },
  {
   "cell_type": "code",
   "execution_count": 23,
   "id": "1e66e2f2",
   "metadata": {},
   "outputs": [
    {
     "name": "stdout",
     "output_type": "stream",
     "text": [
      "(0, 11, 101)\n",
      "(1, 12, 102)\n",
      "(2, 13, 103)\n",
      "(3, 14, 104)\n",
      "(4, 15, 105)\n",
      "(None, 16, 106)\n",
      "(None, 17, 107)\n",
      "(None, 18, 108)\n",
      "(None, 19, 109)\n",
      "(None, 20, 110)\n"
     ]
    }
   ],
   "source": [
    "a,b,c,d,e,f,g,h,i,j = ziplist3\n",
    "\n",
    "print(a,b,c,d,e,f,g,h,i,j, sep ='\\n')"
   ]
  },
  {
   "cell_type": "code",
   "execution_count": 14,
   "id": "b297ec58",
   "metadata": {},
   "outputs": [
    {
     "name": "stdout",
     "output_type": "stream",
     "text": [
      "(100, 101, 102, 103, 104, 105, 106, 107, 108, 109)\n",
      "(20, 21, 22, 23, 24, 25, 26, 27, 28, 29)\n",
      "('a', 'b', 'c', 'd', 'e', 'f', 'g', 'h', 'i', 'j')\n",
      "(50, 51, 52, 53, 54, None, None, None, None, None)\n"
     ]
    }
   ],
   "source": [
    "x,y,z,w = zip(*ziplist3)\n",
    "\n",
    "print(x,y,z,w, sep = '\\n')"
   ]
  },
  {
   "cell_type": "code",
   "execution_count": 24,
   "id": "5b7c9511",
   "metadata": {},
   "outputs": [
    {
     "name": "stdout",
     "output_type": "stream",
     "text": [
      "['a', 'b', 'c', 'd', 'e', 'f', 'g', 'h', 'i', 'j']\n"
     ]
    }
   ],
   "source": [
    "# Enumerate function\n",
    "\n",
    "lstalpha = list('abcdefghij')\n",
    "\n",
    "print(lstalpha)"
   ]
  },
  {
   "cell_type": "code",
   "execution_count": 30,
   "id": "01e3636a",
   "metadata": {},
   "outputs": [
    {
     "name": "stdout",
     "output_type": "stream",
     "text": [
      "[(100, 'a'), (101, 'b'), (102, 'c'), (103, 'd'), (104, 'e'), (105, 'f'), (106, 'g'), (107, 'h'), (108, 'i'), (109, 'j')]\n"
     ]
    }
   ],
   "source": [
    "lstEnum = list(enumerate(lstalpha,100))\n",
    "\n",
    "print(lstEnum)"
   ]
  },
  {
   "cell_type": "code",
   "execution_count": 27,
   "id": "5976c3d3",
   "metadata": {},
   "outputs": [],
   "source": [
    "for x in lstEnum:\n",
    "    print(x)"
   ]
  },
  {
   "cell_type": "code",
   "execution_count": 31,
   "id": "a231d6f6",
   "metadata": {},
   "outputs": [
    {
     "name": "stdout",
     "output_type": "stream",
     "text": [
      "{100: 'a', 101: 'b', 102: 'c', 103: 'd', 104: 'e', 105: 'f', 106: 'g', 107: 'h', 108: 'i', 109: 'j'}\n"
     ]
    }
   ],
   "source": [
    "dict1 = dict(lstEnum)\n",
    "\n",
    "print(dict1)"
   ]
  },
  {
   "cell_type": "code",
   "execution_count": null,
   "id": "e1cc90fd",
   "metadata": {},
   "outputs": [],
   "source": []
  },
  {
   "cell_type": "code",
   "execution_count": null,
   "id": "a3587cdf",
   "metadata": {},
   "outputs": [],
   "source": []
  },
  {
   "cell_type": "code",
   "execution_count": 21,
   "id": "1d838277",
   "metadata": {},
   "outputs": [],
   "source": [
    "dict1 = dict(enumerate(list('abcdefghij'), 100))"
   ]
  },
  {
   "cell_type": "code",
   "execution_count": 22,
   "id": "7a87ec7a",
   "metadata": {},
   "outputs": [
    {
     "name": "stdout",
     "output_type": "stream",
     "text": [
      "{100: 'a', 101: 'b', 102: 'c', 103: 'd', 104: 'e', 105: 'f', 106: 'g', 107: 'h', 108: 'i', 109: 'j'}\n"
     ]
    }
   ],
   "source": [
    "print(dict1)"
   ]
  },
  {
   "cell_type": "code",
   "execution_count": null,
   "id": "72bb810c",
   "metadata": {},
   "outputs": [],
   "source": []
  }
 ],
 "metadata": {
  "kernelspec": {
   "display_name": "Python 3 (ipykernel)",
   "language": "python",
   "name": "python3"
  },
  "language_info": {
   "codemirror_mode": {
    "name": "ipython",
    "version": 3
   },
   "file_extension": ".py",
   "mimetype": "text/x-python",
   "name": "python",
   "nbconvert_exporter": "python",
   "pygments_lexer": "ipython3",
   "version": "3.9.13"
  }
 },
 "nbformat": 4,
 "nbformat_minor": 5
}
