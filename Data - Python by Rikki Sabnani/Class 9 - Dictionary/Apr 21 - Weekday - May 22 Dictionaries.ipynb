{
 "cells": [
  {
   "cell_type": "markdown",
   "id": "656626e3",
   "metadata": {},
   "source": [
    "### Dictionaries\n"
   ]
  },
  {
   "cell_type": "code",
   "execution_count": null,
   "id": "d55250fa",
   "metadata": {},
   "outputs": [],
   "source": [
    "# Dictionaries are a dataype that hold key:value pairs"
   ]
  },
  {
   "cell_type": "code",
   "execution_count": null,
   "id": "a8fc4f8e",
   "metadata": {},
   "outputs": [],
   "source": [
    "# Properties of dictionaries\n",
    "\n",
    "#1. Derived Datatype\n",
    "#2. Mutable\n",
    "#3. Heterogenous\n",
    "#4. Iterable (directly on keys)\n",
    "#5. Does NOT support Integer type indexing. Only supports key indexing to get the value.\n",
    "#6. Key value mapping is one way - from key to value. \n",
    "#7. - Keys of a dictionary must be immutable objects and unique. \n",
    "#   - Values of a dictionary can be any datatype and do not have to be unique."
   ]
  },
  {
   "cell_type": "code",
   "execution_count": null,
   "id": "94bb2680",
   "metadata": {},
   "outputs": [],
   "source": [
    "a = 5\n",
    "b = 10\n",
    "c = 20\n",
    "d = 5\n",
    "e = 5\n",
    "f = 5\n",
    "g = 10"
   ]
  },
  {
   "cell_type": "code",
   "execution_count": null,
   "id": "652d065f",
   "metadata": {},
   "outputs": [],
   "source": []
  },
  {
   "cell_type": "code",
   "execution_count": 8,
   "id": "f86f1b3e",
   "metadata": {},
   "outputs": [],
   "source": [
    "dict1 = {'a':1, 'b':2, 'a': 4, 'b':3, 'c':4}"
   ]
  },
  {
   "cell_type": "code",
   "execution_count": 9,
   "id": "f10db5d6",
   "metadata": {},
   "outputs": [
    {
     "name": "stdout",
     "output_type": "stream",
     "text": [
      "{'a': 4, 'b': 3, 'c': 4}\n"
     ]
    }
   ],
   "source": [
    "print(dict1)"
   ]
  },
  {
   "cell_type": "code",
   "execution_count": 6,
   "id": "8ff126c5",
   "metadata": {},
   "outputs": [
    {
     "name": "stdout",
     "output_type": "stream",
     "text": [
      "5\n"
     ]
    }
   ],
   "source": [
    "print(dict1['a'])"
   ]
  },
  {
   "cell_type": "code",
   "execution_count": 3,
   "id": "3d40d8bc",
   "metadata": {},
   "outputs": [
    {
     "ename": "KeyError",
     "evalue": "1",
     "output_type": "error",
     "traceback": [
      "\u001b[1;31m---------------------------------------------------------------------------\u001b[0m",
      "\u001b[1;31mKeyError\u001b[0m                                  Traceback (most recent call last)",
      "\u001b[1;32m~\\AppData\\Local\\Temp\\ipykernel_3640\\1248682435.py\u001b[0m in \u001b[0;36m<module>\u001b[1;34m\u001b[0m\n\u001b[1;32m----> 1\u001b[1;33m \u001b[0mprint\u001b[0m\u001b[1;33m(\u001b[0m\u001b[0mdict1\u001b[0m\u001b[1;33m[\u001b[0m\u001b[1;36m1\u001b[0m\u001b[1;33m]\u001b[0m\u001b[1;33m)\u001b[0m\u001b[1;33m\u001b[0m\u001b[1;33m\u001b[0m\u001b[0m\n\u001b[0m",
      "\u001b[1;31mKeyError\u001b[0m: 1"
     ]
    }
   ],
   "source": [
    "print(dict1[1])"
   ]
  },
  {
   "cell_type": "code",
   "execution_count": 5,
   "id": "d883f4c5",
   "metadata": {},
   "outputs": [
    {
     "name": "stdout",
     "output_type": "stream",
     "text": [
      "{'a': 5, 'b': 2, 'c': 3}\n"
     ]
    }
   ],
   "source": [
    "dict1['a'] = 5\n",
    "\n",
    "print(dict1)"
   ]
  },
  {
   "cell_type": "code",
   "execution_count": 16,
   "id": "4f7427a0",
   "metadata": {},
   "outputs": [
    {
     "name": "stdout",
     "output_type": "stream",
     "text": [
      "{1: [11, 12], 'a': [3, 4], (2+3j): [5, 6], (100, 200): [7, 8], None: [9, 10], False: [13, 14], 2: {'a': 1, 'b': 2}}\n"
     ]
    }
   ],
   "source": [
    "dict1 = {1:[1,2], 'a':[3,4], 2+3j:[5,6], (100,200):[7,8], None:[9,10], True : [11,12], False:[13,14], 2:{'a':1, 'b':2}}\n",
    "\n",
    "print(dict1)"
   ]
  },
  {
   "cell_type": "code",
   "execution_count": 12,
   "id": "46eaf771",
   "metadata": {},
   "outputs": [],
   "source": [
    "def funct():\n",
    "    return 10\n",
    "\n"
   ]
  },
  {
   "cell_type": "code",
   "execution_count": 15,
   "id": "e28d1e42",
   "metadata": {},
   "outputs": [
    {
     "name": "stdout",
     "output_type": "stream",
     "text": [
      "{1, 2, 3, 4}\n",
      "<class 'set'>\n"
     ]
    }
   ],
   "source": [
    "set1 = {1,2,3,4}\n",
    "\n",
    "print(set1)\n",
    "print(type(set1))"
   ]
  },
  {
   "cell_type": "code",
   "execution_count": 17,
   "id": "1b76b8bf",
   "metadata": {},
   "outputs": [
    {
     "name": "stdout",
     "output_type": "stream",
     "text": [
      "[1, 2, 3, 4]\n"
     ]
    }
   ],
   "source": [
    "# Initialising dictionaries with dict function\n",
    "\n",
    "lst1 = list((1,2,3,4))\n",
    "\n",
    "print(lst1)"
   ]
  },
  {
   "cell_type": "code",
   "execution_count": 18,
   "id": "c60c459b",
   "metadata": {},
   "outputs": [
    {
     "name": "stdout",
     "output_type": "stream",
     "text": [
      "(1, 2, 3, 4)\n"
     ]
    }
   ],
   "source": [
    "tup1 = tuple([1,2,3,4])\n",
    "\n",
    "print(tup1)"
   ]
  },
  {
   "cell_type": "code",
   "execution_count": 24,
   "id": "1f9e46e7",
   "metadata": {},
   "outputs": [
    {
     "name": "stdout",
     "output_type": "stream",
     "text": [
      "{'a': 1, 'b': 2, 1: 10.2, 10.2: 100}\n"
     ]
    }
   ],
   "source": [
    "dict1 = dict((['a',1],['b',2],[1,10.2],[10.2,100]))\n",
    "\n",
    "print(dict1)"
   ]
  },
  {
   "cell_type": "code",
   "execution_count": null,
   "id": "a1be7668",
   "metadata": {},
   "outputs": [],
   "source": [
    "# In dict function - must pass an outer iterable with inner iterable(s) of length 2."
   ]
  },
  {
   "cell_type": "code",
   "execution_count": 44,
   "id": "d1a4960e",
   "metadata": {},
   "outputs": [
    {
     "name": "stdout",
     "output_type": "stream",
     "text": [
      "{'a': 2, 'b': 3, 'c': 3}\n"
     ]
    }
   ],
   "source": [
    "dict2 = dict([('a',2),['b',3],{'c',3}])\n",
    "\n",
    "print(dict2)"
   ]
  },
  {
   "cell_type": "code",
   "execution_count": 25,
   "id": "9f13bbaa",
   "metadata": {},
   "outputs": [
    {
     "name": "stdout",
     "output_type": "stream",
     "text": [
      "['a', 'b']\n"
     ]
    }
   ],
   "source": [
    "list1 = list('ab')\n",
    "\n",
    "print(list1)"
   ]
  },
  {
   "cell_type": "code",
   "execution_count": 28,
   "id": "6198ccea",
   "metadata": {},
   "outputs": [
    {
     "name": "stdout",
     "output_type": "stream",
     "text": [
      "{'a': 'b', 'x': 'y', 'p': 'q'}\n"
     ]
    }
   ],
   "source": [
    "dict1 = dict(('ab', 'xy', 'pq'))\n",
    "\n",
    "print(dict1)"
   ]
  },
  {
   "cell_type": "code",
   "execution_count": 30,
   "id": "d6c52e2d",
   "metadata": {},
   "outputs": [
    {
     "name": "stdout",
     "output_type": "stream",
     "text": [
      "{'Reddy': 'Srinivas'}\n"
     ]
    }
   ],
   "source": [
    "dict1 = dict((['Reddy','Srinivas'],))\n",
    "\n",
    "print(dict1)"
   ]
  },
  {
   "cell_type": "code",
   "execution_count": 32,
   "id": "0cc18339",
   "metadata": {},
   "outputs": [
    {
     "name": "stdout",
     "output_type": "stream",
     "text": [
      "{'a': 11, 'b': 12, 'c': 13, 'd': 14, 'e': 15}\n"
     ]
    }
   ],
   "source": [
    "# Subscription and assignment in Dictionaries. NOT by index/integer but only by key supported. \n",
    "\n",
    "dict1 = dict(zip(list('abcde'),range(11,16)))\n",
    "\n",
    "print(dict1)"
   ]
  },
  {
   "cell_type": "code",
   "execution_count": 33,
   "id": "e5747afb",
   "metadata": {},
   "outputs": [
    {
     "data": {
      "text/plain": [
       "11"
      ]
     },
     "execution_count": 33,
     "metadata": {},
     "output_type": "execute_result"
    }
   ],
   "source": [
    "dict1['a']"
   ]
  },
  {
   "cell_type": "code",
   "execution_count": 34,
   "id": "5de8dc10",
   "metadata": {},
   "outputs": [
    {
     "name": "stdout",
     "output_type": "stream",
     "text": [
      "{'a': 111, 'b': 12, 'c': 13, 'd': 14, 'e': 15}\n"
     ]
    }
   ],
   "source": [
    "dict1['a'] = 111\n",
    "\n",
    "print(dict1)"
   ]
  },
  {
   "cell_type": "code",
   "execution_count": 35,
   "id": "8776a65c",
   "metadata": {},
   "outputs": [
    {
     "name": "stdout",
     "output_type": "stream",
     "text": [
      "{'a': 111, 'b': 12, 'c': 13, 'd': 14, 'e': 15, 'f': 222}\n"
     ]
    }
   ],
   "source": [
    "dict1['f'] = 222\n",
    "\n",
    "print(dict1)"
   ]
  },
  {
   "cell_type": "code",
   "execution_count": 36,
   "id": "d4672228",
   "metadata": {},
   "outputs": [],
   "source": [
    "# While doing assignment on dictionaries -\n",
    "\n",
    "# if key exists - updates value\n",
    "# if not, adds key value pair to dictionary."
   ]
  },
  {
   "cell_type": "code",
   "execution_count": 37,
   "id": "50d9f25e",
   "metadata": {},
   "outputs": [
    {
     "name": "stdout",
     "output_type": "stream",
     "text": [
      "[1, 2, 3, 4]\n"
     ]
    }
   ],
   "source": [
    "lst1 = [1,2,3,4]\n",
    "\n",
    "print(lst1)"
   ]
  },
  {
   "cell_type": "code",
   "execution_count": 38,
   "id": "9b5bb9d7",
   "metadata": {},
   "outputs": [
    {
     "name": "stdout",
     "output_type": "stream",
     "text": [
      "[100, 2, 3, 4]\n"
     ]
    }
   ],
   "source": [
    "lst1[0] = 100\n",
    "print(lst1)"
   ]
  },
  {
   "cell_type": "code",
   "execution_count": 39,
   "id": "49b0bb35",
   "metadata": {},
   "outputs": [
    {
     "ename": "IndexError",
     "evalue": "list assignment index out of range",
     "output_type": "error",
     "traceback": [
      "\u001b[1;31m---------------------------------------------------------------------------\u001b[0m",
      "\u001b[1;31mIndexError\u001b[0m                                Traceback (most recent call last)",
      "\u001b[1;32m~\\AppData\\Local\\Temp\\ipykernel_3640\\2985301641.py\u001b[0m in \u001b[0;36m<module>\u001b[1;34m\u001b[0m\n\u001b[1;32m----> 1\u001b[1;33m \u001b[0mlst1\u001b[0m\u001b[1;33m[\u001b[0m\u001b[1;36m4\u001b[0m\u001b[1;33m]\u001b[0m \u001b[1;33m=\u001b[0m \u001b[1;36m200\u001b[0m\u001b[1;33m\u001b[0m\u001b[1;33m\u001b[0m\u001b[0m\n\u001b[0m",
      "\u001b[1;31mIndexError\u001b[0m: list assignment index out of range"
     ]
    }
   ],
   "source": [
    "lst1[4] = 200"
   ]
  },
  {
   "cell_type": "code",
   "execution_count": 42,
   "id": "b4afbc96",
   "metadata": {},
   "outputs": [
    {
     "data": {
      "text/plain": [
       "200"
      ]
     },
     "execution_count": 42,
     "metadata": {},
     "output_type": "execute_result"
    }
   ],
   "source": [
    "dict1 = {'a':1, 'b':2, 'c': {'x':200, 'y':300}}\n",
    "\n",
    "dict1['c']['x']"
   ]
  },
  {
   "cell_type": "code",
   "execution_count": 46,
   "id": "9dcc237e",
   "metadata": {},
   "outputs": [
    {
     "name": "stdout",
     "output_type": "stream",
     "text": [
      "1\n",
      "2\n",
      "{'x': 200, 'y': 300}\n"
     ]
    }
   ],
   "source": [
    "for elem in dict1:\n",
    "    print(dict1[elem])"
   ]
  },
  {
   "cell_type": "markdown",
   "id": "a2790533",
   "metadata": {},
   "source": [
    "##### .keys(), .values(), .items() methods - \n",
    "### output a dictionary view object"
   ]
  },
  {
   "cell_type": "code",
   "execution_count": 49,
   "id": "7493ab34",
   "metadata": {},
   "outputs": [],
   "source": [
    "dictkeys = dict1.keys()\n",
    "dictvalues = dict1.values()\n",
    "dictitems = dict1.items()"
   ]
  },
  {
   "cell_type": "code",
   "execution_count": 51,
   "id": "7a45a372",
   "metadata": {},
   "outputs": [
    {
     "name": "stdout",
     "output_type": "stream",
     "text": [
      "dict_keys(['a', 'b', 'c'])\n",
      "<class 'dict_keys'>\n",
      "dict_values([1, 2, {'x': 200, 'y': 300}])\n",
      "<class 'dict_values'>\n",
      "dict_items([('a', 1), ('b', 2), ('c', {'x': 200, 'y': 300})])\n",
      "<class 'dict_items'>\n"
     ]
    }
   ],
   "source": [
    "print(dictkeys)\n",
    "print(type(dictkeys))\n",
    "print(dictvalues)\n",
    "print(type(dictvalues))\n",
    "print(dictitems)\n",
    "print(type(dictitems))"
   ]
  },
  {
   "cell_type": "code",
   "execution_count": 52,
   "id": "5c7c990f",
   "metadata": {},
   "outputs": [
    {
     "name": "stdout",
     "output_type": "stream",
     "text": [
      "{'a': 1, 'b': 2, 'c': {'x': 200, 'y': 300}, 'd': 1000}\n"
     ]
    }
   ],
   "source": [
    "dict1['d'] = 1000\n",
    "\n",
    "print(dict1)"
   ]
  },
  {
   "cell_type": "code",
   "execution_count": 53,
   "id": "2eaa3b71",
   "metadata": {},
   "outputs": [
    {
     "name": "stdout",
     "output_type": "stream",
     "text": [
      "dict_keys(['a', 'b', 'c', 'd'])\n",
      "dict_values([1, 2, {'x': 200, 'y': 300}, 1000])\n",
      "dict_items([('a', 1), ('b', 2), ('c', {'x': 200, 'y': 300}), ('d', 1000)])\n"
     ]
    }
   ],
   "source": [
    "print(dictkeys)\n",
    "print(dictvalues)\n",
    "print(dictitems)"
   ]
  },
  {
   "cell_type": "code",
   "execution_count": 55,
   "id": "5d11a63b",
   "metadata": {},
   "outputs": [],
   "source": [
    "dictKlst = list(dict1.keys())\n",
    "dictVlst = list(dict1.values())\n",
    "dictIlst = list(dict1.items())"
   ]
  },
  {
   "cell_type": "code",
   "execution_count": 56,
   "id": "421282a7",
   "metadata": {},
   "outputs": [
    {
     "name": "stdout",
     "output_type": "stream",
     "text": [
      "['a', 'b', 'c', 'd']\n",
      "[1, 2, {'x': 200, 'y': 300}, 1000]\n",
      "[('a', 1), ('b', 2), ('c', {'x': 200, 'y': 300}), ('d', 1000)]\n"
     ]
    }
   ],
   "source": [
    "print(dictKlst)\n",
    "print(dictVlst)\n",
    "print(dictIlst)"
   ]
  },
  {
   "cell_type": "code",
   "execution_count": 57,
   "id": "c048cbc0",
   "metadata": {},
   "outputs": [
    {
     "name": "stdout",
     "output_type": "stream",
     "text": [
      "a\n"
     ]
    }
   ],
   "source": [
    "print(dictKlst[0])"
   ]
  },
  {
   "cell_type": "code",
   "execution_count": 58,
   "id": "13f0e665",
   "metadata": {},
   "outputs": [
    {
     "name": "stdout",
     "output_type": "stream",
     "text": [
      "{'a': 1, 'b': 2, 'c': {'x': 200, 'y': 300}, 'd': 1000, 'e': 2000}\n"
     ]
    }
   ],
   "source": [
    "dict1['e'] = 2000\n",
    "\n",
    "print(dict1)"
   ]
  },
  {
   "cell_type": "code",
   "execution_count": 60,
   "id": "e267f573",
   "metadata": {},
   "outputs": [
    {
     "name": "stdout",
     "output_type": "stream",
     "text": [
      "dict_keys(['a', 'b', 'c', 'd', 'e'])\n",
      "dict_values([1, 2, {'x': 200, 'y': 300}, 1000, 2000])\n",
      "dict_items([('a', 1), ('b', 2), ('c', {'x': 200, 'y': 300}), ('d', 1000), ('e', 2000)])\n"
     ]
    }
   ],
   "source": [
    "print(dictkeys)\n",
    "print(dictvalues)\n",
    "print(dictitems)"
   ]
  },
  {
   "cell_type": "code",
   "execution_count": 61,
   "id": "9a6b6abe",
   "metadata": {},
   "outputs": [
    {
     "name": "stdout",
     "output_type": "stream",
     "text": [
      "['a', 'b', 'c', 'd']\n",
      "[1, 2, {'x': 200, 'y': 300}, 1000]\n",
      "[('a', 1), ('b', 2), ('c', {'x': 200, 'y': 300}), ('d', 1000)]\n"
     ]
    }
   ],
   "source": [
    "print(dictKlst)\n",
    "print(dictVlst)\n",
    "print(dictIlst)"
   ]
  },
  {
   "cell_type": "code",
   "execution_count": 62,
   "id": "8daefa37",
   "metadata": {},
   "outputs": [
    {
     "name": "stdout",
     "output_type": "stream",
     "text": [
      "{'a': 1, 'b': 2, 'c': {'x': 200, 'y': 300}, 'd': 1000, 'e': 2000}\n"
     ]
    }
   ],
   "source": [
    "print(dict1)"
   ]
  },
  {
   "cell_type": "code",
   "execution_count": 63,
   "id": "4a1c7e8b",
   "metadata": {},
   "outputs": [
    {
     "name": "stdout",
     "output_type": "stream",
     "text": [
      "{'a': 1, 'b': 2, 'c': {'x': 200, 'y': 300}, 'd': 1000, 'e': 2000, 'f': 1000}\n"
     ]
    }
   ],
   "source": [
    "dict1['f'] = 1000\n",
    "\n",
    "print(dict1)"
   ]
  },
  {
   "cell_type": "code",
   "execution_count": 69,
   "id": "50003dad",
   "metadata": {},
   "outputs": [
    {
     "name": "stdout",
     "output_type": "stream",
     "text": [
      "d\n",
      "f\n"
     ]
    }
   ],
   "source": [
    "tofind = 1000\n",
    "\n",
    "for ele in dict1:\n",
    "    if dict1[ele] == tofind:\n",
    "        print(ele)\n",
    "    \n"
   ]
  },
  {
   "cell_type": "code",
   "execution_count": 67,
   "id": "6d06fcba",
   "metadata": {},
   "outputs": [
    {
     "name": "stdout",
     "output_type": "stream",
     "text": [
      "{'a': 1, 'b': 2, 'c': {'x': 200, 'y': 300}, 'd': 1000, 'e': 2000, 'f': 1000}\n"
     ]
    }
   ],
   "source": [
    "print(dict1)"
   ]
  },
  {
   "cell_type": "code",
   "execution_count": 68,
   "id": "9a8b2cc0",
   "metadata": {},
   "outputs": [
    {
     "name": "stdout",
     "output_type": "stream",
     "text": [
      "d\n",
      "f\n"
     ]
    }
   ],
   "source": [
    "dict1keys = list(dict1.keys())\n",
    "dict1values = list(dict1.values())\n",
    "\n",
    "for x in range(len(dict1values)):\n",
    "    if dict1values[x] == 1000:\n",
    "        print(dict1keys[x])"
   ]
  },
  {
   "cell_type": "code",
   "execution_count": 70,
   "id": "227a782e",
   "metadata": {},
   "outputs": [
    {
     "name": "stdout",
     "output_type": "stream",
     "text": [
      "['__class__', '__class_getitem__', '__contains__', '__delattr__', '__delitem__', '__dir__', '__doc__', '__eq__', '__format__', '__ge__', '__getattribute__', '__getitem__', '__gt__', '__hash__', '__init__', '__init_subclass__', '__ior__', '__iter__', '__le__', '__len__', '__lt__', '__ne__', '__new__', '__or__', '__reduce__', '__reduce_ex__', '__repr__', '__reversed__', '__ror__', '__setattr__', '__setitem__', '__sizeof__', '__str__', '__subclasshook__', 'clear', 'copy', 'fromkeys', 'get', 'items', 'keys', 'pop', 'popitem', 'setdefault', 'update', 'values']\n"
     ]
    }
   ],
   "source": [
    "print(dir(dict1))"
   ]
  },
  {
   "cell_type": "code",
   "execution_count": 75,
   "id": "27d4222d",
   "metadata": {},
   "outputs": [
    {
     "name": "stdout",
     "output_type": "stream",
     "text": [
      "{1: [11, 12, 13, 14, 15], 2: [11, 12, 13, 14, 15], 3: [11, 12, 13, 14, 15], 4: [11, 12, 13, 14, 15], 5: [11, 12, 13, 14, 15]}\n"
     ]
    }
   ],
   "source": [
    "# Dictionary Methods\n",
    "\n",
    "# Takes two parameters:\n",
    "\n",
    "# 1. The iterable to be used as keys of the dictionary. - Mandatory\n",
    "# 2. Value to be assigned for all the keys (ONE Value will be assigned to all the keys - CANNOT be different) - Optional\n",
    "dict1 = dict.fromkeys(range(1,6), list(range(11,16)))\n",
    "\n",
    "print(dict1)"
   ]
  },
  {
   "cell_type": "code",
   "execution_count": 76,
   "id": "4e767060",
   "metadata": {},
   "outputs": [
    {
     "name": "stdout",
     "output_type": "stream",
     "text": [
      "{'a': 11, 'b': 12, 'c': 13, 'd': 14, 'e': 15}\n"
     ]
    }
   ],
   "source": [
    "dict1 = dict(zip(list('abcde'), range(11,16)))\n",
    "\n",
    "print(dict1)"
   ]
  },
  {
   "cell_type": "code",
   "execution_count": 77,
   "id": "5621450a",
   "metadata": {},
   "outputs": [
    {
     "ename": "KeyError",
     "evalue": "'x'",
     "output_type": "error",
     "traceback": [
      "\u001b[1;31m---------------------------------------------------------------------------\u001b[0m",
      "\u001b[1;31mKeyError\u001b[0m                                  Traceback (most recent call last)",
      "\u001b[1;32m~\\AppData\\Local\\Temp\\ipykernel_3640\\280909452.py\u001b[0m in \u001b[0;36m<module>\u001b[1;34m\u001b[0m\n\u001b[1;32m----> 1\u001b[1;33m \u001b[0mdict1\u001b[0m\u001b[1;33m[\u001b[0m\u001b[1;34m'x'\u001b[0m\u001b[1;33m]\u001b[0m\u001b[1;33m\u001b[0m\u001b[1;33m\u001b[0m\u001b[0m\n\u001b[0m",
      "\u001b[1;31mKeyError\u001b[0m: 'x'"
     ]
    }
   ],
   "source": [
    "dict1['x']"
   ]
  },
  {
   "cell_type": "code",
   "execution_count": 78,
   "id": "c37c5bba",
   "metadata": {},
   "outputs": [
    {
     "name": "stdout",
     "output_type": "stream",
     "text": [
      "11\n"
     ]
    }
   ],
   "source": [
    "# get method\n",
    "\n",
    "\n",
    "print(dict1.get('a'))"
   ]
  },
  {
   "cell_type": "code",
   "execution_count": 79,
   "id": "43d0f2b9",
   "metadata": {},
   "outputs": [
    {
     "data": {
      "text/plain": [
       "11"
      ]
     },
     "execution_count": 79,
     "metadata": {},
     "output_type": "execute_result"
    }
   ],
   "source": [
    "dict1['a']"
   ]
  },
  {
   "cell_type": "code",
   "execution_count": 86,
   "id": "f589ff0e",
   "metadata": {},
   "outputs": [],
   "source": [
    "def funct():\n",
    "    for x in range(3):\n",
    "        print('Hello')\n",
    "    "
   ]
  },
  {
   "cell_type": "code",
   "execution_count": 95,
   "id": "f5c867f5",
   "metadata": {},
   "outputs": [
    {
     "name": "stdout",
     "output_type": "stream",
     "text": [
      "Hello\n",
      "Hello\n",
      "Hello\n",
      "None\n"
     ]
    }
   ],
   "source": [
    "print(dict1.get('x', funct()))"
   ]
  },
  {
   "cell_type": "code",
   "execution_count": 88,
   "id": "dd86e153",
   "metadata": {},
   "outputs": [
    {
     "name": "stdout",
     "output_type": "stream",
     "text": [
      "Hello\n",
      "Hello\n",
      "Hello\n",
      "None\n"
     ]
    }
   ],
   "source": [
    "print(funct())"
   ]
  },
  {
   "cell_type": "code",
   "execution_count": 90,
   "id": "0a634d6b",
   "metadata": {},
   "outputs": [],
   "source": [
    "x = [10,20]"
   ]
  },
  {
   "cell_type": "code",
   "execution_count": 91,
   "id": "06cee963",
   "metadata": {},
   "outputs": [
    {
     "name": "stdout",
     "output_type": "stream",
     "text": [
      "{'a': [10, 20], 'b': [10, 20], 'c': [10, 20], 'd': [10, 20], 'e': [10, 20]}\n"
     ]
    }
   ],
   "source": [
    "dict1 = dict.fromkeys(list('abcde'), x)\n",
    "\n",
    "\n",
    "print(dict1)"
   ]
  },
  {
   "cell_type": "code",
   "execution_count": 92,
   "id": "923b1af7",
   "metadata": {},
   "outputs": [
    {
     "name": "stdout",
     "output_type": "stream",
     "text": [
      "{'a': [100, 20], 'b': [100, 20], 'c': [100, 20], 'd': [100, 20], 'e': [100, 20]}\n"
     ]
    }
   ],
   "source": [
    "x[0] = 100\n",
    "\n",
    "print(dict1)"
   ]
  },
  {
   "cell_type": "code",
   "execution_count": 23,
   "id": "5902f09d",
   "metadata": {},
   "outputs": [
    {
     "name": "stdout",
     "output_type": "stream",
     "text": [
      "{'a': 1, 'b': 2, 'c': 3, 'd': 4, 'e': 5}\n"
     ]
    }
   ],
   "source": [
    "dict1 = dict(zip(list('abcde'), range(1,6)))\n",
    "\n",
    "print(dict1)"
   ]
  },
  {
   "cell_type": "code",
   "execution_count": 15,
   "id": "32a9c83b",
   "metadata": {},
   "outputs": [
    {
     "name": "stdout",
     "output_type": "stream",
     "text": [
      "4\n",
      "[0, 1, 2, 3]\n"
     ]
    }
   ],
   "source": [
    "lst1 = list(range(5))\n",
    "\n",
    "popped = lst1.pop()\n",
    "\n",
    "print(popped)\n",
    "print(lst1)"
   ]
  },
  {
   "cell_type": "code",
   "execution_count": 16,
   "id": "b0d25182",
   "metadata": {},
   "outputs": [],
   "source": [
    "# popitem method - pops the last element in the dictionary. It takes NO arguments i.e. it will ALWAYS pop only the last \n",
    "# element. Just like pop method on lists though, it DOES return the popped key, value pair in the form of a tuple. "
   ]
  },
  {
   "cell_type": "code",
   "execution_count": 21,
   "id": "148868e4",
   "metadata": {},
   "outputs": [
    {
     "name": "stdout",
     "output_type": "stream",
     "text": [
      "('d', 4)\n",
      "{'a': 1, 'b': 2, 'c': 3}\n"
     ]
    }
   ],
   "source": [
    "popped = dict1.popitem()\n",
    "\n",
    "print(popped)\n",
    "print(dict1)"
   ]
  },
  {
   "cell_type": "code",
   "execution_count": 25,
   "id": "269c015f",
   "metadata": {},
   "outputs": [
    {
     "name": "stdout",
     "output_type": "stream",
     "text": [
      "{'a': 1, 'b': 2, 'c': 3, 'd': 4, 'e': 5}\n"
     ]
    }
   ],
   "source": [
    "print(dict1)"
   ]
  },
  {
   "cell_type": "code",
   "execution_count": null,
   "id": "ec5e17d9",
   "metadata": {},
   "outputs": [],
   "source": [
    "# pop method - takes the key for which the key value pair is to be popped and returns the value of that key. \n",
    "\n",
    "# pop method takes 2 arguments:\n",
    "\n",
    "# 1. Key for key value pair to be popped - MANDATORY. \n",
    "# 2. "
   ]
  },
  {
   "cell_type": "code",
   "execution_count": 28,
   "id": "9187c715",
   "metadata": {},
   "outputs": [
    {
     "name": "stdout",
     "output_type": "stream",
     "text": [
      "{'a': 1, 'b': 2, 'c': 3, 'd': 4, 'e': 5}\n"
     ]
    }
   ],
   "source": [
    "dict1 = dict(zip(list('abcde'), range(1,6)))\n",
    "\n",
    "print(dict1)"
   ]
  },
  {
   "cell_type": "code",
   "execution_count": 30,
   "id": "bb25ec3c",
   "metadata": {},
   "outputs": [
    {
     "name": "stdout",
     "output_type": "stream",
     "text": [
      "Hello\n",
      "{'a': 1, 'b': 2, 'c': 3, 'd': 4, 'e': 5}\n"
     ]
    }
   ],
   "source": [
    "popped = dict1.pop('x', 'Hello')\n",
    "\n",
    "print(popped)\n",
    "print(dict1)"
   ]
  },
  {
   "cell_type": "code",
   "execution_count": 31,
   "id": "aa2267bc",
   "metadata": {},
   "outputs": [
    {
     "name": "stdout",
     "output_type": "stream",
     "text": [
      "['__class__', '__class_getitem__', '__contains__', '__delattr__', '__delitem__', '__dir__', '__doc__', '__eq__', '__format__', '__ge__', '__getattribute__', '__getitem__', '__gt__', '__hash__', '__init__', '__init_subclass__', '__ior__', '__iter__', '__le__', '__len__', '__lt__', '__ne__', '__new__', '__or__', '__reduce__', '__reduce_ex__', '__repr__', '__reversed__', '__ror__', '__setattr__', '__setitem__', '__sizeof__', '__str__', '__subclasshook__', 'clear', 'copy', 'fromkeys', 'get', 'items', 'keys', 'pop', 'popitem', 'setdefault', 'update', 'values']\n"
     ]
    }
   ],
   "source": [
    "print(dir(dict))"
   ]
  },
  {
   "cell_type": "code",
   "execution_count": null,
   "id": "f2158d2b",
   "metadata": {},
   "outputs": [],
   "source": [
    "# clear method"
   ]
  },
  {
   "cell_type": "code",
   "execution_count": 36,
   "id": "ed50bc9d",
   "metadata": {},
   "outputs": [
    {
     "name": "stdout",
     "output_type": "stream",
     "text": [
      "{'a': 1, 'b': 2, 'c': 3, 'd': 4, 'e': 5}\n"
     ]
    }
   ],
   "source": [
    "dict1 = dict(zip(list('abcde'), range(1,6)))\n",
    "\n",
    "print(dict1)"
   ]
  },
  {
   "cell_type": "code",
   "execution_count": 33,
   "id": "a6e4b208",
   "metadata": {},
   "outputs": [],
   "source": [
    "dict1.clear()"
   ]
  },
  {
   "cell_type": "code",
   "execution_count": 34,
   "id": "bcdb35c8",
   "metadata": {},
   "outputs": [
    {
     "name": "stdout",
     "output_type": "stream",
     "text": [
      "{}\n"
     ]
    }
   ],
   "source": [
    "print(dict1)"
   ]
  },
  {
   "cell_type": "code",
   "execution_count": 37,
   "id": "ab4e2ffa",
   "metadata": {},
   "outputs": [
    {
     "name": "stdout",
     "output_type": "stream",
     "text": [
      "{'a': 1, 'b': 2, 'c': 3, 'd': 4, 'e': 5}\n"
     ]
    }
   ],
   "source": [
    "# update method\n",
    "\n",
    "print(dict1)"
   ]
  },
  {
   "cell_type": "code",
   "execution_count": 41,
   "id": "4354fa44",
   "metadata": {},
   "outputs": [
    {
     "name": "stdout",
     "output_type": "stream",
     "text": [
      "{'a': 100, 'b': 200, 'c': 3, 'd': 4, 'e': 5}\n"
     ]
    }
   ],
   "source": [
    "dict1.update((('a',100),('b',200)))\n",
    "\n",
    "print(dict1)"
   ]
  },
  {
   "cell_type": "code",
   "execution_count": null,
   "id": "b5ce4245",
   "metadata": {},
   "outputs": [],
   "source": [
    "dict1['a']  = 1000"
   ]
  },
  {
   "cell_type": "code",
   "execution_count": 45,
   "id": "cf6529ae",
   "metadata": {},
   "outputs": [],
   "source": [
    "dict1.update((('a',1001),('b',2000)))"
   ]
  },
  {
   "cell_type": "code",
   "execution_count": 46,
   "id": "1d7ce46b",
   "metadata": {},
   "outputs": [
    {
     "name": "stdout",
     "output_type": "stream",
     "text": [
      "{'a': 1001, 'b': 2000, 'c': 3, 'd': 4, 'e': 5}\n"
     ]
    }
   ],
   "source": [
    "print(dict1)"
   ]
  },
  {
   "cell_type": "code",
   "execution_count": 47,
   "id": "055f01d7",
   "metadata": {},
   "outputs": [],
   "source": [
    "dict1.update((('x',5000),('y',6000)))"
   ]
  },
  {
   "cell_type": "code",
   "execution_count": 48,
   "id": "1b43ed81",
   "metadata": {},
   "outputs": [
    {
     "name": "stdout",
     "output_type": "stream",
     "text": [
      "{'a': 1001, 'b': 2000, 'c': 3, 'd': 4, 'e': 5, 'x': 5000, 'y': 6000}\n"
     ]
    }
   ],
   "source": [
    "print(dict1)"
   ]
  },
  {
   "cell_type": "code",
   "execution_count": 49,
   "id": "a10b0a69",
   "metadata": {},
   "outputs": [
    {
     "name": "stdout",
     "output_type": "stream",
     "text": [
      "{'a': 1001, 'b': 2000, 'c': 3, 'd': 4, 'e': 5, 'x': 5000, 'y': 6000}\n"
     ]
    }
   ],
   "source": [
    "print(dict1)"
   ]
  },
  {
   "cell_type": "code",
   "execution_count": 50,
   "id": "a8a6fe92",
   "metadata": {},
   "outputs": [
    {
     "name": "stdout",
     "output_type": "stream",
     "text": [
      "1404519500416\n"
     ]
    }
   ],
   "source": [
    "print(id(dict1))"
   ]
  },
  {
   "cell_type": "code",
   "execution_count": 51,
   "id": "bdec8be6",
   "metadata": {},
   "outputs": [
    {
     "name": "stdout",
     "output_type": "stream",
     "text": [
      "{'a': 1001, 'b': 2000, 'c': 3, 'd': 4, 'e': 5, 'x': 5000, 'y': 6000}\n",
      "1404518726848\n"
     ]
    }
   ],
   "source": [
    "dict2 = dict1.copy()\n",
    "\n",
    "print(dict2)\n",
    "print(id(dict2))"
   ]
  },
  {
   "cell_type": "code",
   "execution_count": 52,
   "id": "a08dea90",
   "metadata": {},
   "outputs": [
    {
     "name": "stdout",
     "output_type": "stream",
     "text": [
      "{'a': 1001, 'b': 2000, 'c': 3, 'd': 4, 'e': 5, 'x': 5000, 'y': 6000, 'z': [1, 2]}\n"
     ]
    }
   ],
   "source": [
    "dict1['z'] = [1,2]\n",
    "\n",
    "print(dict1)"
   ]
  },
  {
   "cell_type": "code",
   "execution_count": 53,
   "id": "77084088",
   "metadata": {},
   "outputs": [
    {
     "name": "stdout",
     "output_type": "stream",
     "text": [
      "{'a': 1001, 'b': 2000, 'c': 3, 'd': 4, 'e': 5, 'x': 5000, 'y': 6000, 'z': [1, 2]}\n"
     ]
    }
   ],
   "source": [
    "dict2 = dict1.copy()\n",
    "\n",
    "print(dict2)"
   ]
  },
  {
   "cell_type": "code",
   "execution_count": 54,
   "id": "7905735e",
   "metadata": {},
   "outputs": [
    {
     "name": "stdout",
     "output_type": "stream",
     "text": [
      "{'a': 1001, 'b': 2000, 'c': 3, 'd': 4, 'e': 5, 'x': 5000, 'y': 6000, 'z': [1, 2, 3]}\n"
     ]
    }
   ],
   "source": [
    "dict1['z'].append(3)\n",
    "\n",
    "print(dict1)"
   ]
  },
  {
   "cell_type": "code",
   "execution_count": 55,
   "id": "5fabd6c8",
   "metadata": {},
   "outputs": [
    {
     "name": "stdout",
     "output_type": "stream",
     "text": [
      "['__class__', '__class_getitem__', '__contains__', '__delattr__', '__delitem__', '__dir__', '__doc__', '__eq__', '__format__', '__ge__', '__getattribute__', '__getitem__', '__gt__', '__hash__', '__init__', '__init_subclass__', '__ior__', '__iter__', '__le__', '__len__', '__lt__', '__ne__', '__new__', '__or__', '__reduce__', '__reduce_ex__', '__repr__', '__reversed__', '__ror__', '__setattr__', '__setitem__', '__sizeof__', '__str__', '__subclasshook__', 'clear', 'copy', 'fromkeys', 'get', 'items', 'keys', 'pop', 'popitem', 'setdefault', 'update', 'values']\n"
     ]
    }
   ],
   "source": [
    "print(dir(dict))"
   ]
  },
  {
   "cell_type": "code",
   "execution_count": 56,
   "id": "ca991bae",
   "metadata": {},
   "outputs": [
    {
     "name": "stdout",
     "output_type": "stream",
     "text": [
      "{'a': 1001, 'b': 2000, 'c': 3, 'd': 4, 'e': 5, 'x': 5000, 'y': 6000, 'z': [1, 2, 3]}\n"
     ]
    }
   ],
   "source": [
    "print(dict1)"
   ]
  },
  {
   "cell_type": "code",
   "execution_count": 68,
   "id": "ce801de8",
   "metadata": {},
   "outputs": [
    {
     "name": "stdout",
     "output_type": "stream",
     "text": [
      "4\n"
     ]
    }
   ],
   "source": [
    "y = dict1.setdefault('d', 'Rikki')\n",
    "\n",
    "print(y)"
   ]
  },
  {
   "cell_type": "code",
   "execution_count": 69,
   "id": "44f290fc",
   "metadata": {},
   "outputs": [
    {
     "name": "stdout",
     "output_type": "stream",
     "text": [
      "None\n"
     ]
    }
   ],
   "source": [
    "x = dict1.setdefault('r')\n",
    "\n",
    "print(x)"
   ]
  },
  {
   "cell_type": "code",
   "execution_count": 70,
   "id": "6b22c976",
   "metadata": {},
   "outputs": [
    {
     "name": "stdout",
     "output_type": "stream",
     "text": [
      "{'a': 1001, 'b': 2000, 'c': 3, 'd': 4, 'e': 5, 'x': 5000, 'y': 6000, 'z': [1, 2, 3], 'p': None, 'q': 'Rikki', 'r': None}\n"
     ]
    }
   ],
   "source": [
    "print(dict1)"
   ]
  },
  {
   "cell_type": "code",
   "execution_count": 65,
   "id": "c6977174",
   "metadata": {},
   "outputs": [
    {
     "name": "stdout",
     "output_type": "stream",
     "text": [
      "Rikki\n"
     ]
    }
   ],
   "source": [
    "print(x)"
   ]
  },
  {
   "cell_type": "code",
   "execution_count": 71,
   "id": "0410170f",
   "metadata": {},
   "outputs": [
    {
     "name": "stdout",
     "output_type": "stream",
     "text": [
      "Rikki\n"
     ]
    }
   ],
   "source": [
    "abc = dict1.setdefault('s', 'Rikki')\n",
    "\n",
    "print(abc)"
   ]
  },
  {
   "cell_type": "code",
   "execution_count": 72,
   "id": "fc24dcb4",
   "metadata": {},
   "outputs": [
    {
     "name": "stdout",
     "output_type": "stream",
     "text": [
      "{'a': 1001, 'b': 2000, 'c': 3, 'd': 4, 'e': 5, 'x': 5000, 'y': 6000, 'z': [1, 2, 3], 'p': None, 'q': 'Rikki', 'r': None, 's': 'Rikki'}\n"
     ]
    }
   ],
   "source": [
    "print(dict1)"
   ]
  },
  {
   "cell_type": "code",
   "execution_count": null,
   "id": "614be81b",
   "metadata": {},
   "outputs": [],
   "source": [
    "# 1. Key is present and default value not provided. Returns the value of the key\n",
    "# 2. Key is present and default value provided. Returns the value of key\n",
    "# 3. Key is NOT present and default value not provided - adds the key to dict with value of None. \n",
    "# 4. Key is NOT present and default value provided - adds the key with default value as provided. "
   ]
  },
  {
   "cell_type": "code",
   "execution_count": 73,
   "id": "daa86d67",
   "metadata": {},
   "outputs": [
    {
     "name": "stdout",
     "output_type": "stream",
     "text": [
      "['__class__', '__class_getitem__', '__contains__', '__delattr__', '__delitem__', '__dir__', '__doc__', '__eq__', '__format__', '__ge__', '__getattribute__', '__getitem__', '__gt__', '__hash__', '__init__', '__init_subclass__', '__ior__', '__iter__', '__le__', '__len__', '__lt__', '__ne__', '__new__', '__or__', '__reduce__', '__reduce_ex__', '__repr__', '__reversed__', '__ror__', '__setattr__', '__setitem__', '__sizeof__', '__str__', '__subclasshook__', 'clear', 'copy', 'fromkeys', 'get', 'items', 'keys', 'pop', 'popitem', 'setdefault', 'update', 'values']\n"
     ]
    }
   ],
   "source": [
    "print(dir(dict))"
   ]
  },
  {
   "cell_type": "code",
   "execution_count": 74,
   "id": "0a0ce44f",
   "metadata": {},
   "outputs": [
    {
     "name": "stdout",
     "output_type": "stream",
     "text": [
      "{'a': 0, 'b': 1, 'c': 2, 'd': 3, 'e': 4}\n"
     ]
    }
   ],
   "source": [
    "lst1 = list('abcde')\n",
    "lst2 = range(5)\n",
    "\n",
    "dict1 = dict(zip(lst1,lst2))\n",
    "\n",
    "print(dict1)"
   ]
  },
  {
   "cell_type": "code",
   "execution_count": null,
   "id": "6bb0e0d8",
   "metadata": {},
   "outputs": [],
   "source": [
    "# 1 Parameter - mandatory. They key to be searched\n",
    "# 2 Value to be set - Optional. "
   ]
  },
  {
   "cell_type": "code",
   "execution_count": 78,
   "id": "9dffcf6c",
   "metadata": {},
   "outputs": [
    {
     "name": "stdout",
     "output_type": "stream",
     "text": [
      "Rikki\n"
     ]
    }
   ],
   "source": [
    "abc = dict1.setdefault('y', 'Rikki')\n",
    "\n",
    "print(abc)"
   ]
  },
  {
   "cell_type": "code",
   "execution_count": 79,
   "id": "09b591e8",
   "metadata": {},
   "outputs": [
    {
     "name": "stdout",
     "output_type": "stream",
     "text": [
      "{'a': 0, 'b': 1, 'c': 2, 'd': 3, 'e': 4, 'x': None, 'y': 'Rikki'}\n"
     ]
    }
   ],
   "source": [
    "print(dict1)"
   ]
  },
  {
   "cell_type": "code",
   "execution_count": 80,
   "id": "e917f6d7",
   "metadata": {},
   "outputs": [
    {
     "ename": "KeyError",
     "evalue": "'z'",
     "output_type": "error",
     "traceback": [
      "\u001b[1;31m---------------------------------------------------------------------------\u001b[0m",
      "\u001b[1;31mKeyError\u001b[0m                                  Traceback (most recent call last)",
      "\u001b[1;32m~\\AppData\\Local\\Temp\\ipykernel_15164\\1285041730.py\u001b[0m in \u001b[0;36m<module>\u001b[1;34m\u001b[0m\n\u001b[1;32m----> 1\u001b[1;33m \u001b[0mdict1\u001b[0m\u001b[1;33m[\u001b[0m\u001b[1;34m'z'\u001b[0m\u001b[1;33m]\u001b[0m\u001b[1;33m\u001b[0m\u001b[1;33m\u001b[0m\u001b[0m\n\u001b[0m",
      "\u001b[1;31mKeyError\u001b[0m: 'z'"
     ]
    }
   ],
   "source": [
    "dict1['z']"
   ]
  },
  {
   "cell_type": "code",
   "execution_count": null,
   "id": "2303c322",
   "metadata": {},
   "outputs": [],
   "source": [
    "# Dictionary comprehension"
   ]
  },
  {
   "cell_type": "code",
   "execution_count": 86,
   "id": "afa2a7c0",
   "metadata": {},
   "outputs": [
    {
     "name": "stdout",
     "output_type": "stream",
     "text": [
      "{'a': 0, 'b': 5, 'c': 4, 'd': 15, 'e': 8}\n"
     ]
    }
   ],
   "source": [
    "lst1 = list('abcde')\n",
    "lst2 = range(5)\n",
    "\n",
    "dict1 = {x.upper() if x.isalpha() else x:y*2 if y%2==0 else y*5 for x,y in zip(lst1,lst2)}\n",
    "\n",
    "print(dict1)"
   ]
  },
  {
   "cell_type": "code",
   "execution_count": 84,
   "id": "d53e7042",
   "metadata": {},
   "outputs": [
    {
     "name": "stdout",
     "output_type": "stream",
     "text": [
      "[('a', 0), ('b', 1), ('c', 2), ('d', 3), ('e', 4)]\n"
     ]
    }
   ],
   "source": [
    "print(list(zip(lst1,lst2)))"
   ]
  },
  {
   "cell_type": "code",
   "execution_count": 89,
   "id": "2ab43a8a",
   "metadata": {},
   "outputs": [],
   "source": [
    "lst1 = list('a!b?c')\n",
    "lst2 = list(range(5))"
   ]
  },
  {
   "cell_type": "code",
   "execution_count": 90,
   "id": "7f216919",
   "metadata": {},
   "outputs": [
    {
     "name": "stdout",
     "output_type": "stream",
     "text": [
      "{'A': 0, '!': 5, 'B': 4, '?': 15, 'C': 8}\n"
     ]
    }
   ],
   "source": [
    "dict1 = {x.upper() if x.isalpha() else x: y*2 if y%2 == 0 else y*5 for x,y in zip(lst1, lst2)}\n",
    "\n",
    "print(dict1)"
   ]
  },
  {
   "cell_type": "code",
   "execution_count": 92,
   "id": "da23a463",
   "metadata": {},
   "outputs": [
    {
     "name": "stdout",
     "output_type": "stream",
     "text": [
      "1406588601968\n",
      "1404513031664\n"
     ]
    }
   ],
   "source": [
    "print(id(lst1[0]))\n",
    "\n",
    "print(id(list(dict1.keys())[0]))"
   ]
  },
  {
   "cell_type": "code",
   "execution_count": 96,
   "id": "bad828b6",
   "metadata": {},
   "outputs": [
    {
     "name": "stdout",
     "output_type": "stream",
     "text": [
      "{'b': 3, 'd': 8, 'e': 7, 'a': 4, 'f': 2, 'm': 1, 'l': 5, 'z': 10, 'r': 9, 'n': 6}\n"
     ]
    }
   ],
   "source": [
    "# Sorting a dictionary\n",
    "\n",
    "lst1 = list('bdeafmlzrn')\n",
    "lst2 = [3,8,7,4,2,1,5,10,9,6]\n",
    "\n",
    "dict1 = dict(zip(lst1,lst2))\n",
    "\n",
    "print(dict1)"
   ]
  },
  {
   "cell_type": "code",
   "execution_count": 94,
   "id": "6e402e8f",
   "metadata": {},
   "outputs": [
    {
     "name": "stdout",
     "output_type": "stream",
     "text": [
      "['a', 'b', 'd', 'e', 'f', 'l', 'm', 'n', 'r', 'z']\n"
     ]
    }
   ],
   "source": [
    "mykeys = list(dict1.keys())\n",
    "mykeys.sort()\n",
    "\n",
    "print(mykeys)"
   ]
  },
  {
   "cell_type": "code",
   "execution_count": null,
   "id": "8e5f734a",
   "metadata": {},
   "outputs": [],
   "source": []
  },
  {
   "cell_type": "code",
   "execution_count": 95,
   "id": "fafe9a8a",
   "metadata": {},
   "outputs": [
    {
     "name": "stdout",
     "output_type": "stream",
     "text": [
      "{'a': 4, 'b': 3, 'd': 8, 'e': 7, 'f': 2, 'l': 5, 'm': 1, 'n': 6, 'r': 9, 'z': 10}\n"
     ]
    }
   ],
   "source": [
    "dict2 = dict(sorted(dict1.items()))\n",
    "\n",
    "print(dict2)"
   ]
  },
  {
   "cell_type": "code",
   "execution_count": 97,
   "id": "36bb1597",
   "metadata": {},
   "outputs": [
    {
     "name": "stdout",
     "output_type": "stream",
     "text": [
      "[('a', 4), ('b', 3), ('d', 8), ('e', 7), ('f', 2), ('l', 5), ('m', 1), ('n', 6), ('r', 9), ('z', 10)]\n"
     ]
    }
   ],
   "source": [
    "print(sorted(dict1.items()))"
   ]
  },
  {
   "cell_type": "code",
   "execution_count": 102,
   "id": "674daca4",
   "metadata": {},
   "outputs": [],
   "source": [
    "def funct(x):\n",
    "    return x[1]"
   ]
  },
  {
   "cell_type": "code",
   "execution_count": 104,
   "id": "e9b3366b",
   "metadata": {},
   "outputs": [
    {
     "name": "stdout",
     "output_type": "stream",
     "text": [
      "{'m': 1, 'f': 2, 'b': 3, 'a': 4, 'l': 5, 'n': 6, 'e': 7, 'd': 8, 'r': 9, 'z': 10}\n"
     ]
    }
   ],
   "source": [
    "dict2list = dict(sorted(dict1.items(), key = funct))\n",
    "\n",
    "print(dict2list)"
   ]
  },
  {
   "cell_type": "code",
   "execution_count": null,
   "id": "ebd00872",
   "metadata": {},
   "outputs": [],
   "source": [
    "# Sorted\n",
    "\n",
    "# Step 1\n",
    "\n",
    "# It first passes all the elements one by one through the function. Gets the output of that function. \n",
    "\n",
    "4,3,8,7,....\n",
    "\n",
    "# Step 2\n",
    "\n",
    "# Sort the output from first step. \n",
    "\n",
    "# 1,2,3,....\n",
    "\n",
    "\n",
    "# Step 3 - Sort the elements based on the sorted output of step - give the elements that gave the corresponding output. \n",
    "\n",
    "# (m,1), (f,2)"
   ]
  },
  {
   "cell_type": "code",
   "execution_count": 5,
   "id": "01dfec23",
   "metadata": {},
   "outputs": [
    {
     "name": "stdout",
     "output_type": "stream",
     "text": [
      "{'Nepal': 'Hi', 'Italy': 'Hello', 'England': 'London', 'Japan': 'Tokya'}\n",
      "{'Nepal': 'Hi', 'Italy': 'Hello', 'England': 'London', 'Japan': 'Tokya'}\n",
      "Paris\n",
      "{'Nepal': 'Hi', 'Italy': 'Hello', 'England': 'London', 'Japan': 'Tokya', 'France': 'Paris'}\n"
     ]
    }
   ],
   "source": [
    "capital_city={\"Nepal\":\"Katmandu\",\"Italy\":\"Rome\",\"England\":\"London\"}\n",
    "capital_city[\"Japan\"]=\"Tokya\"\n",
    "capital_city.update(((\"Nepal\",\"Hi\"),(\"Italy\",\"Hello\")))\n",
    "print(capital_city)\n",
    "retcapcity = capital_city.setdefault(\"Nepal\",\"Katmandu\")\n",
    "print(capital_city)\n",
    "retcapcity2 = capital_city.setdefault('France', 'Paris')\n",
    "print(retcapcity2, capital_city, sep = '\\n')"
   ]
  },
  {
   "cell_type": "code",
   "execution_count": 4,
   "id": "516916b7",
   "metadata": {},
   "outputs": [
    {
     "name": "stdout",
     "output_type": "stream",
     "text": [
      "Hi\n"
     ]
    }
   ],
   "source": [
    "print(retcapcity)"
   ]
  },
  {
   "cell_type": "code",
   "execution_count": null,
   "id": "2cf05c82",
   "metadata": {},
   "outputs": [],
   "source": [
    "# Setdefault"
   ]
  },
  {
   "cell_type": "code",
   "execution_count": null,
   "id": "a06e598c",
   "metadata": {},
   "outputs": [],
   "source": []
  },
  {
   "cell_type": "code",
   "execution_count": null,
   "id": "67b7761d",
   "metadata": {},
   "outputs": [],
   "source": []
  }
 ],
 "metadata": {
  "kernelspec": {
   "display_name": "Python 3 (ipykernel)",
   "language": "python",
   "name": "python3"
  },
  "language_info": {
   "codemirror_mode": {
    "name": "ipython",
    "version": 3
   },
   "file_extension": ".py",
   "mimetype": "text/x-python",
   "name": "python",
   "nbconvert_exporter": "python",
   "pygments_lexer": "ipython3",
   "version": "3.9.13"
  }
 },
 "nbformat": 4,
 "nbformat_minor": 5
}
