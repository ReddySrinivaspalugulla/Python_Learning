{
 "cells": [
  {
   "cell_type": "markdown",
   "id": "0ad22275",
   "metadata": {},
   "source": [
    "### Functions"
   ]
  },
  {
   "cell_type": "code",
   "execution_count": null,
   "id": "1b73bef6",
   "metadata": {},
   "outputs": [],
   "source": [
    "def addsum(x,y):\n",
    "    return x+y"
   ]
  },
  {
   "cell_type": "code",
   "execution_count": null,
   "id": "1f617b6a",
   "metadata": {},
   "outputs": [],
   "source": [
    "print(addsum(10,20))"
   ]
  },
  {
   "cell_type": "code",
   "execution_count": null,
   "id": "dd3891a8",
   "metadata": {},
   "outputs": [],
   "source": [
    "print(addsum(100,200))"
   ]
  },
  {
   "cell_type": "code",
   "execution_count": null,
   "id": "92018304",
   "metadata": {},
   "outputs": [],
   "source": [
    "# How to define a function:\n",
    "\n",
    "# starts with function header - \n",
    "\n",
    "# def function_name(x,y,z):\n",
    "    \n",
    "# Function header consists of the def keyword, followed by an identifier to label the function object, a set of parenthesis\n",
    "# which may be left empty if there are no parameters to be passed (alternately the number of parameters required to be \n",
    "# passed are put inside the parenthesis using variable names) and finally to end the header we have the colon. \n",
    "\n",
    "# Everything after the function header, which we need to be part of the function must be indented. \n",
    "\n",
    "\n",
    "# def function_name(x,y):\n",
    "    # indented block of code - infinite lines\n",
    "    \n",
    "    \n",
    "# Immediately after the function header, if we put a string (whether single line or multiline), it will be considered \n",
    "# docstring. Docstring is information that the developer wants to give about the function - its uses, parameters, acceptable\n",
    "# values for parameters etc......"
   ]
  },
  {
   "cell_type": "code",
   "execution_count": null,
   "id": "5a29901d",
   "metadata": {},
   "outputs": [],
   "source": [
    "def function_name():\n",
    "    ''' Information about the function line 1\n",
    "    Information about the function line 2\n",
    "    Information about the function line 3'''\n",
    "    return 'Hello'\n",
    "\n",
    "\n"
   ]
  },
  {
   "cell_type": "code",
   "execution_count": null,
   "id": "5cc7c623",
   "metadata": {},
   "outputs": [],
   "source": [
    "print(function_name.__doc__)"
   ]
  },
  {
   "cell_type": "code",
   "execution_count": null,
   "id": "067c3076",
   "metadata": {},
   "outputs": [],
   "source": [
    "print(help(function_name))"
   ]
  },
  {
   "cell_type": "code",
   "execution_count": null,
   "id": "60078d7b",
   "metadata": {},
   "outputs": [],
   "source": [
    "function_name.__doc__ = 'This is the new docstring'"
   ]
  },
  {
   "cell_type": "code",
   "execution_count": null,
   "id": "641be82f",
   "metadata": {},
   "outputs": [],
   "source": [
    "function_name()"
   ]
  },
  {
   "cell_type": "code",
   "execution_count": null,
   "id": "d0f48f1d",
   "metadata": {},
   "outputs": [],
   "source": [
    "# After the docstring - we write the set of code that we wish to use / repeat, in an indented block of code. It can be \n",
    "# of infinite length. As soon as we break indentation, the code is no longer part of the function."
   ]
  },
  {
   "cell_type": "code",
   "execution_count": null,
   "id": "79feea2c",
   "metadata": {},
   "outputs": [],
   "source": [
    "def funct1():\n",
    "    x  = 10\n",
    "    y = 20\n",
    "    z = x+y\n",
    "    print(z*100)"
   ]
  },
  {
   "cell_type": "code",
   "execution_count": null,
   "id": "8ed51cea",
   "metadata": {},
   "outputs": [],
   "source": [
    "print(funct1())"
   ]
  },
  {
   "cell_type": "code",
   "execution_count": 5,
   "id": "3141cb1e",
   "metadata": {},
   "outputs": [],
   "source": [
    "# A function may or MAY NOT have a return keyword. If a function has a return keyword then we can get the output of the\n",
    "# function outside the function and save it to a variable(or even print or some other process directly).\n",
    "\n",
    "def funct():\n",
    "    x = 10 + 20\n",
    "    return x\n",
    "    "
   ]
  },
  {
   "cell_type": "code",
   "execution_count": 2,
   "id": "c8e56643",
   "metadata": {},
   "outputs": [
    {
     "name": "stdout",
     "output_type": "stream",
     "text": [
      "30\n"
     ]
    }
   ],
   "source": [
    "funct()"
   ]
  },
  {
   "cell_type": "code",
   "execution_count": 3,
   "id": "ec9977a3",
   "metadata": {},
   "outputs": [
    {
     "ename": "NameError",
     "evalue": "name 'x' is not defined",
     "output_type": "error",
     "traceback": [
      "\u001b[1;31m---------------------------------------------------------------------------\u001b[0m",
      "\u001b[1;31mNameError\u001b[0m                                 Traceback (most recent call last)",
      "\u001b[1;32m~\\AppData\\Local\\Temp\\ipykernel_9464\\1353120783.py\u001b[0m in \u001b[0;36m<module>\u001b[1;34m\u001b[0m\n\u001b[1;32m----> 1\u001b[1;33m \u001b[0mprint\u001b[0m\u001b[1;33m(\u001b[0m\u001b[0mx\u001b[0m\u001b[1;33m)\u001b[0m\u001b[1;33m\u001b[0m\u001b[1;33m\u001b[0m\u001b[0m\n\u001b[0m",
      "\u001b[1;31mNameError\u001b[0m: name 'x' is not defined"
     ]
    }
   ],
   "source": [
    "print(x)"
   ]
  },
  {
   "cell_type": "code",
   "execution_count": 6,
   "id": "4f063faf",
   "metadata": {},
   "outputs": [
    {
     "name": "stdout",
     "output_type": "stream",
     "text": [
      "30\n"
     ]
    }
   ],
   "source": [
    "y = funct()\n",
    "\n",
    "print(y)"
   ]
  },
  {
   "cell_type": "code",
   "execution_count": 7,
   "id": "aab10110",
   "metadata": {},
   "outputs": [],
   "source": [
    "def funct(a, b):\n",
    "    if a > b:\n",
    "        return 'A is greater than b'\n",
    "    return 'I am after the first return so I will only return this value if first return is not hit.'\n",
    "\n"
   ]
  },
  {
   "cell_type": "code",
   "execution_count": 9,
   "id": "538c9c2a",
   "metadata": {},
   "outputs": [
    {
     "name": "stdout",
     "output_type": "stream",
     "text": [
      "I am after the first return so I will only return this value if first return is not hit.\n"
     ]
    }
   ],
   "source": [
    "value = funct(5,10)\n",
    "\n",
    "print(value)"
   ]
  },
  {
   "cell_type": "code",
   "execution_count": 14,
   "id": "12d84904",
   "metadata": {},
   "outputs": [],
   "source": [
    "def funct(a,b):\n",
    "    return a+b, a*b, b/2,b%b, b//a\n",
    "\n"
   ]
  },
  {
   "cell_type": "code",
   "execution_count": 15,
   "id": "ef990c22",
   "metadata": {},
   "outputs": [
    {
     "name": "stdout",
     "output_type": "stream",
     "text": [
      "(30, 200, 10.0, 0, 2)\n",
      "<class 'tuple'>\n"
     ]
    }
   ],
   "source": [
    "retval = funct(10,20)\n",
    "\n",
    "print(retval)\n",
    "print(type(retval))"
   ]
  },
  {
   "cell_type": "code",
   "execution_count": 16,
   "id": "5f0095d2",
   "metadata": {},
   "outputs": [],
   "source": [
    "def funct():\n",
    "    return 20"
   ]
  },
  {
   "cell_type": "code",
   "execution_count": 17,
   "id": "a816a624",
   "metadata": {},
   "outputs": [],
   "source": [
    "asthfunct = funct\n",
    "kalafunctcall = funct()"
   ]
  },
  {
   "cell_type": "code",
   "execution_count": 18,
   "id": "6f7d4eaf",
   "metadata": {},
   "outputs": [
    {
     "name": "stdout",
     "output_type": "stream",
     "text": [
      "<function funct at 0x000002A1699E6700>\n"
     ]
    }
   ],
   "source": [
    "print(funct)"
   ]
  },
  {
   "cell_type": "code",
   "execution_count": 19,
   "id": "fb44c1f5",
   "metadata": {},
   "outputs": [
    {
     "name": "stdout",
     "output_type": "stream",
     "text": [
      "20\n"
     ]
    }
   ],
   "source": [
    "print(kalafunctcall)"
   ]
  },
  {
   "cell_type": "code",
   "execution_count": 20,
   "id": "af5206fe",
   "metadata": {},
   "outputs": [
    {
     "name": "stdout",
     "output_type": "stream",
     "text": [
      "2892284978944\n",
      "2892201683856\n"
     ]
    }
   ],
   "source": [
    "print(id(asthfunct))\n",
    "print(id(kalafunctcall))"
   ]
  },
  {
   "cell_type": "code",
   "execution_count": 21,
   "id": "377c8df0",
   "metadata": {},
   "outputs": [
    {
     "name": "stdout",
     "output_type": "stream",
     "text": [
      "20\n"
     ]
    }
   ],
   "source": [
    "newvar = asthfunct()\n",
    "\n",
    "print(newvar)"
   ]
  },
  {
   "cell_type": "code",
   "execution_count": 23,
   "id": "bcae09d0",
   "metadata": {},
   "outputs": [],
   "source": [
    "def funct1():\n",
    "    return 10\n",
    "def funct2():\n",
    "    return 20\n",
    "def funct3():\n",
    "    return 30"
   ]
  },
  {
   "cell_type": "code",
   "execution_count": 24,
   "id": "8281bf25",
   "metadata": {},
   "outputs": [
    {
     "name": "stdout",
     "output_type": "stream",
     "text": [
      "<function funct1 at 0x000002A169AB7280>\n",
      "<function funct2 at 0x000002A169AB7550>\n",
      "<function funct3 at 0x000002A169AB73A0>\n"
     ]
    }
   ],
   "source": [
    "lst1 = [funct1, funct2, funct3]\n",
    "\n",
    "for elem in lst1:\n",
    "    print(elem)"
   ]
  },
  {
   "cell_type": "code",
   "execution_count": 25,
   "id": "064d621a",
   "metadata": {},
   "outputs": [
    {
     "name": "stdout",
     "output_type": "stream",
     "text": [
      "10\n",
      "20\n",
      "30\n"
     ]
    }
   ],
   "source": [
    "lst2 = [funct1(), funct2(), funct3()]\n",
    "\n",
    "for elem in lst2:\n",
    "    print(elem)"
   ]
  },
  {
   "cell_type": "code",
   "execution_count": 26,
   "id": "fc3ce436",
   "metadata": {},
   "outputs": [
    {
     "name": "stdout",
     "output_type": "stream",
     "text": [
      "10\n",
      "20\n",
      "30\n"
     ]
    }
   ],
   "source": [
    "for elem in lst1:\n",
    "    print(elem())"
   ]
  },
  {
   "cell_type": "code",
   "execution_count": 28,
   "id": "323a4941",
   "metadata": {},
   "outputs": [],
   "source": [
    "def functnew(x):\n",
    "    return x() * 100"
   ]
  },
  {
   "cell_type": "code",
   "execution_count": 29,
   "id": "def14d14",
   "metadata": {},
   "outputs": [
    {
     "name": "stdout",
     "output_type": "stream",
     "text": [
      "1000\n"
     ]
    }
   ],
   "source": [
    "tempvar = functnew(funct1)\n",
    "\n",
    "print(tempvar)"
   ]
  },
  {
   "cell_type": "code",
   "execution_count": 32,
   "id": "73212e57",
   "metadata": {},
   "outputs": [
    {
     "name": "stdout",
     "output_type": "stream",
     "text": [
      "2000\n"
     ]
    }
   ],
   "source": [
    "tempvar = functnew(funct2)\n",
    "\n",
    "print(tempvar)"
   ]
  },
  {
   "cell_type": "code",
   "execution_count": 30,
   "id": "2ec5012e",
   "metadata": {},
   "outputs": [],
   "source": [
    "def functnew2(x):\n",
    "    return x * 50"
   ]
  },
  {
   "cell_type": "code",
   "execution_count": 31,
   "id": "9858611f",
   "metadata": {},
   "outputs": [
    {
     "name": "stdout",
     "output_type": "stream",
     "text": [
      "500\n"
     ]
    }
   ],
   "source": [
    "newvar = functnew2(funct1())\n",
    "\n",
    "print(newvar)"
   ]
  },
  {
   "cell_type": "code",
   "execution_count": 33,
   "id": "d44921e5",
   "metadata": {},
   "outputs": [
    {
     "name": "stdout",
     "output_type": "stream",
     "text": [
      "Rikki, your payables are 900 and including GST works out to 1062.0.\n"
     ]
    }
   ],
   "source": [
    "def add_tax(a):\n",
    "    b = a*0.18\n",
    "    return b\n",
    "\n",
    "\n",
    "def billing_statement(name, payables):\n",
    "    x = sum(payables) # 900\n",
    "    y = x + add_tax(x) # 900 + 162\n",
    "    return f'{name}, your payables are {x} and including GST works out to {y}.'\n",
    "\n",
    "\n",
    " \n",
    "    \n",
    "new_var = billing_statement('Rikki', [100, 500, 300])\n",
    "\n",
    "print(new_var)"
   ]
  },
  {
   "cell_type": "markdown",
   "id": "05910101",
   "metadata": {},
   "source": [
    "##### Function parameters and arguments"
   ]
  },
  {
   "cell_type": "code",
   "execution_count": 34,
   "id": "9f7c5539",
   "metadata": {},
   "outputs": [],
   "source": [
    "def addsum(x,y):    # --------> The temp variable names we use while DEFINING a function are called the parameters that a\n",
    "    return x+y      # function requires"
   ]
  },
  {
   "cell_type": "code",
   "execution_count": null,
   "id": "084dc73e",
   "metadata": {},
   "outputs": [],
   "source": [
    "tempvar = addsum(10,20) #------> The values passed to a function call are called the arguments for those parameters"
   ]
  },
  {
   "cell_type": "code",
   "execution_count": null,
   "id": "010ed386",
   "metadata": {},
   "outputs": [],
   "source": [
    "# Parameters of functions: \n",
    "\n",
    "#1. Positional\n",
    "\n",
    "#2. Keyword\n",
    "\n",
    "\n",
    "def"
   ]
  },
  {
   "cell_type": "code",
   "execution_count": null,
   "id": "00b2a2d3",
   "metadata": {},
   "outputs": [],
   "source": [
    "# Difference between regular and lambda functions\n",
    "\n",
    "#1. Def in reg functions, lambda in lambda function to define the function\n",
    "#2. Parenthesis in reg functions, lambda does not enclose parameters in parenthesis\n",
    "#3. Reg functions take a name, lambda is anonymous i.e. cannot be identified by name (while defining - but both can be \n",
    "# aliased.)\n",
    "#4. Reg functions are not IFFE, lambda is IFFE\n",
    "#5. Reg functions can evaluate multiple expressions, while lambda can only evaluate one expression.\n",
    "#6. Reg function requires the return keyword to send output outside the function, lambda function returns an output without\n",
    "# return keyword\n",
    "\n",
    "\n",
    "# Similarities\n",
    "\n",
    "#1. Both are objects therefore both can be aliased\n",
    "#2. Both allow us to use a set of code repeatedly (so can be called repeatedly)\n",
    "#3. Both allow nesting\n",
    "#4. Both can take parameters"
   ]
  }
 ],
 "metadata": {
  "kernelspec": {
   "display_name": "Python 3 (ipykernel)",
   "language": "python",
   "name": "python3"
  },
  "language_info": {
   "codemirror_mode": {
    "name": "ipython",
    "version": 3
   },
   "file_extension": ".py",
   "mimetype": "text/x-python",
   "name": "python",
   "nbconvert_exporter": "python",
   "pygments_lexer": "ipython3",
   "version": "3.9.13"
  }
 },
 "nbformat": 4,
 "nbformat_minor": 5
}
